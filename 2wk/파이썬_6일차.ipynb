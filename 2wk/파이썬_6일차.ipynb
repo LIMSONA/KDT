{
 "cells": [
  {
   "cell_type": "markdown",
   "id": "c1ae102a",
   "metadata": {},
   "source": [
    "# 수업에 들어가기에 앞서"
   ]
  },
  {
   "cell_type": "markdown",
   "id": "0dbc7fec",
   "metadata": {},
   "source": [
    "* 추상화 : 필요한 부분을 남기고 간단하게 (ex. 피카소 황소 추상화)\n",
    "![추상화](\"https://mblogthumb-phinf.pstatic.net/20160717_290/jintaeky_1468737184314wnVPc_JPEG/line-drawings-picasso-bull.jpg?type=w2\")\n",
    "\n",
    "\n",
    "* 클래스 생성자(__init__): 간단하게 말하면 '초기화', 생성자는 바깥에서 부를 수 없다.\n",
    "* 클래스에서 self를 넣어주는게 중요-!\n",
    " - ex. 만약 값 a,b 2개를 받고 싶을 때 def f(a,b): 로만 작성해버리면, a를 self로 인식해버리고 변수 b 하나로 받는 함수로 정의된다."
   ]
  },
  {
   "cell_type": "markdown",
   "id": "00c7068c",
   "metadata": {},
   "source": [
    "# 클래스와 객체 (이어서) "
   ]
  },
  {
   "cell_type": "markdown",
   "id": "cfe598ac",
   "metadata": {},
   "source": [
    "## 클래스 시작하기 (이어서)"
   ]
  },
  {
   "cell_type": "markdown",
   "id": "c829d3c2",
   "metadata": {},
   "source": [
    " ### **Class Inheritance (상속)**\n",
    "  - 다른 클래스의 기능을 그대로 물려받을 수 있다.\n",
    "  - 기존 클래스에 기능 일부를 추가하거나, 변경하여 새로운 클래스를 정의한다.\n",
    "  - 코드를 재사용할 수 있게된다.\n",
    "  - 상속 받고자 하는 대상인 기존 클래스는 (Parent, Super, Base class 라고 부른다.)\n",
    "  - 상속 받는 새로운 클래스는(Child, Sub, Derived class 라고 부른다.)\n",
    "  - 의미적으로 is-a관계를 갖는다"
   ]
  },
  {
   "cell_type": "code",
   "execution_count": 18,
   "id": "69897044",
   "metadata": {},
   "outputs": [],
   "source": [
    "class Person:\n",
    "    \n",
    "    def __init__(self):\n",
    "        self.bag= [ ]\n",
    "        self.name = \"none\"\n",
    "    \n",
    "    def put_bag(self,items):\n",
    "        self.bag.append(items)\n",
    "        \n",
    "    def get_bag(self):\n",
    "        return self.bag"
   ]
  },
  {
   "cell_type": "code",
   "execution_count": 19,
   "id": "721e2cbb",
   "metadata": {},
   "outputs": [],
   "source": [
    "class Student(Person):\n",
    "    pass"
   ]
  },
  {
   "cell_type": "code",
   "execution_count": 21,
   "id": "2546fdfc",
   "metadata": {},
   "outputs": [
    {
     "name": "stdout",
     "output_type": "stream",
     "text": [
      "Lim\n",
      "['candy']\n"
     ]
    }
   ],
   "source": [
    "s = Student()\n",
    "s.name = \"Lim\"\n",
    "s.put_bag(\"candy\")\n",
    "\n",
    "print(s.name)\n",
    "print(s.get_bag())  # 상속 받는 경우 부모클래스꺼를 이용해 사용가능하다."
   ]
  },
  {
   "cell_type": "code",
   "execution_count": 22,
   "id": "21ad3646",
   "metadata": {},
   "outputs": [],
   "source": [
    "class Student1(Person):\n",
    "    def study(self):\n",
    "        print(\"공부하다\")"
   ]
  },
  {
   "cell_type": "code",
   "execution_count": 23,
   "id": "dd36e684",
   "metadata": {},
   "outputs": [
    {
     "name": "stdout",
     "output_type": "stream",
     "text": [
      "공부하다\n"
     ]
    }
   ],
   "source": [
    "sona = Student1()\n",
    "sona.study()  # 상속받아도 나의 클래스 안에 있는 함수도 사용가능하다."
   ]
  },
  {
   "cell_type": "code",
   "execution_count": null,
   "id": "46b75997",
   "metadata": {},
   "outputs": [],
   "source": []
  },
  {
   "cell_type": "markdown",
   "id": "cd704fe0",
   "metadata": {},
   "source": [
    "### **method override**\n",
    " - 부모 클래스의 method를 재정의(override)한다.(물려받은 대로가 아닌 수정하고 싶다-!!!)\n",
    " - 하위 클래스(자식 클래스) 의 인스턴스로 호출시, 재정의된 메소드가 호출된다."
   ]
  },
  {
   "cell_type": "code",
   "execution_count": 37,
   "id": "36871cdb",
   "metadata": {},
   "outputs": [],
   "source": [
    "class Parent:\n",
    "    def __init__(self,name,age):\n",
    "        self.name = 'no name'\n",
    "        self.age = 20\n",
    "        print(\"parent 생성자\")\n",
    "    \n",
    "    def hello(self):\n",
    "        print(\"hello!! parent\")\n",
    "\n",
    "class Child(Parent):\n",
    "    def __init__(self,name,age,school_name):\n",
    "        super().__init__(name,age)\n",
    "        self.school_name = \"None\"\n",
    "        print(\"child 생성자\")\n",
    "    \n",
    "    def hello(self):\n",
    "        print(\"HI CHILD ^_^ !!!\")"
   ]
  },
  {
   "cell_type": "code",
   "execution_count": 38,
   "id": "e8412ecd",
   "metadata": {},
   "outputs": [
    {
     "name": "stdout",
     "output_type": "stream",
     "text": [
      "parent 생성자\n",
      "child 생성자\n",
      "HI CHILD ^_^ !!!\n"
     ]
    }
   ],
   "source": [
    "sona = Child(\"또방\",32,\"kijeon\")\n",
    "\n",
    "sona.hello()"
   ]
  },
  {
   "cell_type": "markdown",
   "id": "c81dd812",
   "metadata": {},
   "source": [
    "### super \n",
    "\n",
    " - 하위클래스(자식 클래스)에서 부모클래스의 method를 호출할 때 사용한다.\n",
    " - 부모 클래스의 부모 함수를 끌어다 쓴다\n",
    " - 물론 자식 클래스에 자식함수 더 추가해서 사용가능"
   ]
  },
  {
   "cell_type": "code",
   "execution_count": 39,
   "id": "6e1b5ea2",
   "metadata": {},
   "outputs": [],
   "source": [
    "class Parent:\n",
    "    def __init__(self,name,age):\n",
    "        self.name = 'no name'\n",
    "        self.age = 20\n",
    "        print(\"parent 생성자\")\n",
    "    \n",
    "    def hello(self):\n",
    "        print(\"hello!! parent\")\n",
    "\n",
    "class Child(Parent):\n",
    "    def __init__(self,name,age,school_name):\n",
    "        super().__init__(name,age)\n",
    "        self.school_name = \"None\"\n",
    "        print(\"child 생성자\")\n",
    "    "
   ]
  },
  {
   "cell_type": "code",
   "execution_count": 40,
   "id": "38a9b06b",
   "metadata": {
    "scrolled": true
   },
   "outputs": [
    {
     "name": "stdout",
     "output_type": "stream",
     "text": [
      "parent 생성자\n",
      "child 생성자\n",
      "no name 20 None\n",
      "hello!! parent\n"
     ]
    }
   ],
   "source": [
    "sona = Child(\"또방\",32,\"kijeon\")\n",
    "\n",
    "print(sona.name, sona.age, sona.school_name) # 부모에 있는 것을 끌어갖고 나온다.\n",
    "\n",
    "sona.hello()"
   ]
  },
  {
   "cell_type": "markdown",
   "id": "2e8b86ed",
   "metadata": {},
   "source": [
    "## 다중상속"
   ]
  },
  {
   "cell_type": "markdown",
   "id": "b9e6b15d",
   "metadata": {},
   "source": [
    "* 여러 부모한테서 상속받는 경우를 일컫음\n",
    "* 여러 부모들이 동일명 함수이름이 있을 때 어떡할것인가...?"
   ]
  },
  {
   "cell_type": "code",
   "execution_count": 43,
   "id": "1ff811ae",
   "metadata": {},
   "outputs": [],
   "source": [
    "class A:\n",
    "    def hello(self):\n",
    "        print(\"hello A\")\n",
    "        \n",
    "class B:\n",
    "    def hello(self):\n",
    "        print(\"hello B\")\n",
    "    \n",
    "class C(A):\n",
    "    def hello(self):\n",
    "        print(\"hello C\")"
   ]
  },
  {
   "cell_type": "code",
   "execution_count": 44,
   "id": "3e811c80",
   "metadata": {},
   "outputs": [
    {
     "name": "stdout",
     "output_type": "stream",
     "text": [
      "hello C\n"
     ]
    }
   ],
   "source": [
    "test = C()\n",
    "test.hello()  # 자기 자신이 우선순위 1등"
   ]
  },
  {
   "cell_type": "code",
   "execution_count": 45,
   "id": "164cad30",
   "metadata": {},
   "outputs": [],
   "source": [
    "class A:\n",
    "    def hello(self):\n",
    "        print(\"hello A\")\n",
    "        \n",
    "class B:\n",
    "    def hello(self):\n",
    "        print(\"hello B\")\n",
    "    \n",
    "class C(A):\n",
    "    pass"
   ]
  },
  {
   "cell_type": "code",
   "execution_count": 46,
   "id": "82d7494b",
   "metadata": {},
   "outputs": [
    {
     "name": "stdout",
     "output_type": "stream",
     "text": [
      "hello A\n"
     ]
    }
   ],
   "source": [
    "test = C()\n",
    "test.hello() #"
   ]
  },
  {
   "cell_type": "code",
   "execution_count": 51,
   "id": "949e6951",
   "metadata": {},
   "outputs": [],
   "source": [
    "class A:\n",
    "    def hello(self):\n",
    "        print(\"hello A\")\n",
    "        \n",
    "class B:\n",
    "    def hello(self):\n",
    "        print(\"hello B\")\n",
    "    \n",
    "class C(A):\n",
    "    pass\n",
    "\n",
    "class D(C,B):\n",
    "    pass"
   ]
  },
  {
   "cell_type": "code",
   "execution_count": 54,
   "id": "50203868",
   "metadata": {},
   "outputs": [
    {
     "name": "stdout",
     "output_type": "stream",
     "text": [
      "hello A\n"
     ]
    }
   ],
   "source": [
    "test2 = C()\n",
    "test2.hello() # 내가 없는 경우 부모 중 앞에 있는 거가 우선순위1등"
   ]
  },
  {
   "cell_type": "code",
   "execution_count": 58,
   "id": "454f94fa",
   "metadata": {},
   "outputs": [],
   "source": [
    "class A:\n",
    "    def hello(self):\n",
    "        print(\"hello A\")\n",
    "        \n",
    "class B:\n",
    "    def hello(self):\n",
    "        print(\"hello B\")\n",
    "    \n",
    "class C(A):\n",
    "    def hello(self):\n",
    "        print(\"hello C\")\n",
    "    \n",
    "class D(C,B):\n",
    "    pass"
   ]
  },
  {
   "cell_type": "code",
   "execution_count": 59,
   "id": "48a0bf42",
   "metadata": {},
   "outputs": [
    {
     "name": "stdout",
     "output_type": "stream",
     "text": [
      "hello C\n"
     ]
    }
   ],
   "source": [
    "test3 = D()\n",
    "test3.hello() \n",
    "\n",
    "# D 자신에 hello 없으니 부모 중 먼저 있는 C에 접근. C에 있으니 A까지 갈 필요없이 C의 hello함수 이용"
   ]
  },
  {
   "cell_type": "markdown",
   "id": "864a46da",
   "metadata": {},
   "source": [
    "### **special method**\n",
    " - __로 시작 __로 끝나는 특수 함수다.\n",
    " - 해당 메쏘드들을 구현하면, 커스텀 객체에 여러가지 파이썬 내장 함수나 연산자를 적용 가능하다.\n",
    " - 오버라이딩 가능한 함수 목록은 아래 링크에서 참조 \n",
    "   - https://docs.python.org/3/reference/datamodel.html\n",
    "   - https://docs.python.org/3/reference/datamodel.html#object.__add__"
   ]
  },
  {
   "cell_type": "code",
   "execution_count": 60,
   "id": "3691e13d",
   "metadata": {},
   "outputs": [],
   "source": [
    "class Point:\n",
    "    def __init__(self,x,y):\n",
    "        self.x=x\n",
    "        self.y=y\n",
    "    \n",
    "    def __add__(self,p):\n",
    "        print(\"__add__ 구현\")\n",
    "        new_x = self.x + p.x\n",
    "        new_y = self.y + p.y\n",
    "        return Point(new_x, new_y)"
   ]
  },
  {
   "cell_type": "code",
   "execution_count": 61,
   "id": "22a3bc96",
   "metadata": {},
   "outputs": [],
   "source": [
    "p1 = Point(2,3)\n",
    "p2 = Point(3,5)"
   ]
  },
  {
   "cell_type": "code",
   "execution_count": 64,
   "id": "9e4ce216",
   "metadata": {},
   "outputs": [
    {
     "name": "stdout",
     "output_type": "stream",
     "text": [
      "2 3\n",
      "3 5\n"
     ]
    }
   ],
   "source": [
    "print(p1.x, p1.y)\n",
    "print(p2.x, p2.y)"
   ]
  },
  {
   "cell_type": "code",
   "execution_count": 65,
   "id": "0ff49d76",
   "metadata": {},
   "outputs": [
    {
     "name": "stdout",
     "output_type": "stream",
     "text": [
      "__add__ 구현\n",
      "5 8\n"
     ]
    }
   ],
   "source": [
    "p3 = p1 + p2\n",
    "\n",
    "print(p3.x, p3.y)"
   ]
  },
  {
   "cell_type": "markdown",
   "id": "155f6a2f",
   "metadata": {},
   "source": [
    "# 예외처리\n",
    "\n",
    "1. 예외와 예외처리가 무엇인지 이해한다.\n",
    "2. 예외처리 문법 이해하고 활용 할 수 있다. "
   ]
  },
  {
   "cell_type": "markdown",
   "id": "2dd3c47d",
   "metadata": {},
   "source": [
    "## **예외**\n",
    "\n",
    "- 프로그램이 실행되는 동안 발생할 수 있는 비정상적인 조건\n",
    "- 번역시의 에러가 아닌 실행시의 에러를 예외라 한다."
   ]
  },
  {
   "cell_type": "markdown",
   "id": "bcb8b464",
   "metadata": {},
   "source": [
    "## **파이썬에서의 예외 처리**"
   ]
  },
  {
   "cell_type": "markdown",
   "id": "215cf382",
   "metadata": {},
   "source": [
    "### **try except 사용하기**\n",
    "\n",
    "- 예외 처리를 하려면 try에 실행할 코드를 넣고 except 에 예외가 발생했을 때 처리할 코드를 넣는다.  \n",
    "\n",
    "``` \n",
    "try : \n",
    "    실행할 코드 \n",
    "except:\n",
    "    예외가 발생했을 때 처리하는 코드 \n",
    "``` \n"
   ]
  },
  {
   "cell_type": "code",
   "execution_count": 67,
   "id": "8c1600a5",
   "metadata": {},
   "outputs": [
    {
     "name": "stdout",
     "output_type": "stream",
     "text": [
      "숫자를 입력하세요3\n",
      "3.3333333333333335\n",
      "잘 수행함!\n"
     ]
    }
   ],
   "source": [
    "x = int(input(\"숫자를 입력하세요\"))\n",
    "\n",
    "print(10/x)\n",
    "\n",
    "print(\"잘 수행함!\")"
   ]
  },
  {
   "cell_type": "code",
   "execution_count": 68,
   "id": "416cfd66",
   "metadata": {},
   "outputs": [
    {
     "name": "stdout",
     "output_type": "stream",
     "text": [
      "숫자를 입력하세요0\n"
     ]
    },
    {
     "ename": "ZeroDivisionError",
     "evalue": "division by zero",
     "output_type": "error",
     "traceback": [
      "\u001b[1;31m---------------------------------------------------------------------------\u001b[0m",
      "\u001b[1;31mZeroDivisionError\u001b[0m                         Traceback (most recent call last)",
      "\u001b[1;32m~\\AppData\\Local\\Temp/ipykernel_8212/3472771668.py\u001b[0m in \u001b[0;36m<module>\u001b[1;34m\u001b[0m\n\u001b[0;32m      2\u001b[0m \u001b[0mx\u001b[0m \u001b[1;33m=\u001b[0m \u001b[0mint\u001b[0m\u001b[1;33m(\u001b[0m\u001b[0minput\u001b[0m\u001b[1;33m(\u001b[0m\u001b[1;34m\"숫자를 입력하세요\"\u001b[0m\u001b[1;33m)\u001b[0m\u001b[1;33m)\u001b[0m\u001b[1;33m\u001b[0m\u001b[1;33m\u001b[0m\u001b[0m\n\u001b[0;32m      3\u001b[0m \u001b[1;33m\u001b[0m\u001b[0m\n\u001b[1;32m----> 4\u001b[1;33m \u001b[0mprint\u001b[0m\u001b[1;33m(\u001b[0m\u001b[1;36m10\u001b[0m\u001b[1;33m/\u001b[0m\u001b[0mx\u001b[0m\u001b[1;33m)\u001b[0m\u001b[1;33m\u001b[0m\u001b[1;33m\u001b[0m\u001b[0m\n\u001b[0m\u001b[0;32m      5\u001b[0m \u001b[1;33m\u001b[0m\u001b[0m\n\u001b[0;32m      6\u001b[0m \u001b[0mprint\u001b[0m\u001b[1;33m(\u001b[0m\u001b[1;34m\"잘 수행함!\"\u001b[0m\u001b[1;33m)\u001b[0m\u001b[1;33m\u001b[0m\u001b[1;33m\u001b[0m\u001b[0m\n",
      "\u001b[1;31mZeroDivisionError\u001b[0m: division by zero"
     ]
    }
   ],
   "source": [
    "#예외를 발생한 경우\n",
    "x = int(input(\"숫자를 입력하세요\"))\n",
    "\n",
    "print(10/x)\n",
    "\n",
    "print(\"잘 수행함!\") ### 수행되지 않아서 출력 되지않고, 에러발생  ===> 대책방안은???"
   ]
  },
  {
   "cell_type": "code",
   "execution_count": 73,
   "id": "20aea867",
   "metadata": {},
   "outputs": [
    {
     "name": "stdout",
     "output_type": "stream",
     "text": [
      "숫자를 입력하세요2\n",
      "5.0\n",
      "잘 수행되었어요! ^_^!!!\n"
     ]
    }
   ],
   "source": [
    "x = int(input(\"숫자를 입력하세요\"))\n",
    "\n",
    "try: \n",
    "# 처리중에 예외가 발생할 법한 문장들을 try에 포함시킨다.\n",
    "    print(10/x)\n",
    "    print(\"잘 수행되었어요! ^_^!!!\")\n",
    "except:\n",
    "    print(\"에러가 발생했어요!!\") # 예외가 발생했음을 알려줄수도 있고\n",
    "    print(\"1로 나눠볼게요!\",10/1) # 예외가 발생했을 떄, 다른 걸 수행하라고 할수도 있고"
   ]
  },
  {
   "cell_type": "code",
   "execution_count": 74,
   "id": "53644709",
   "metadata": {},
   "outputs": [
    {
     "name": "stdout",
     "output_type": "stream",
     "text": [
      "숫자를 입력하세요0\n",
      "에러가 발생했어요!!\n",
      "1로 나눠볼게요! 10.0\n"
     ]
    }
   ],
   "source": [
    "x = int(input(\"숫자를 입력하세요\"))\n",
    "\n",
    "try: \n",
    "# 처리중에 예외가 발생할 법한 문장들을 try에 포함시킨다.\n",
    "    print(10/x)\n",
    "    print(\"잘 수행되었어요! ^_^!!!\")\n",
    "except:\n",
    "    print(\"에러가 발생했어요!!\") # 예외가 발생했음을 알려줄수도 있고\n",
    "    print(\"1로 나눠볼게요!\",10/1) # 예외가 발생했을 떄, 다른 걸 수행하라고 할수도 있고"
   ]
  },
  {
   "cell_type": "markdown",
   "id": "238720fe",
   "metadata": {},
   "source": [
    "### **원하는 예외만 처리하기**\n",
    "- except 구문에 예외 이름을 지정하면 지정된 예외가 발생했을 때만 처리한다. \n",
    "\n",
    "```\n",
    "try:\n",
    "    실행할코드\n",
    "except 예외이름:\n",
    "    예외가 발생했을 때 처리하는 코드 \n",
    "```\n",
    "- 예외의 에러 메시지를 받아 올 수 있다. \n",
    "```\n",
    "try:\n",
    "    실행할코드\n",
    "except 예외이름 as 변수:\n",
    "    예외가 발생했을 때 처리하는 코드\n",
    "    print(변수) \n",
    "```\n",
    "\n",
    "- 모든 예외의 에러 메시지를 출력하고 싶다면 Exception을 이용한다. \n",
    "\n",
    "```\n",
    "except Exception as e:    \n",
    "    print('예외가 발생했습니다.', e)\n",
    "```\n",
    "\n",
    "\n",
    "[🎀**`예외계층`**](https://docs.python.org/3/library/exceptions.html#exception-hierarchy)"
   ]
  },
  {
   "cell_type": "code",
   "execution_count": 77,
   "id": "346e826e",
   "metadata": {},
   "outputs": [
    {
     "name": "stdout",
     "output_type": "stream",
     "text": [
      "숫자를 입력하세요0\n",
      "zerodivision에러가 발생했어요!!\n",
      "1로 나눠볼게요! 10.0\n"
     ]
    }
   ],
   "source": [
    "x = int(input(\"숫자를 입력하세요\"))\n",
    "\n",
    "try: \n",
    "    print(10/x)\n",
    "    print(\"잘 수행되었어요! ^_^!!!\")\n",
    "    \n",
    "except ZeroDivisionError: # 특정한 예외만 처리할수 있도록!!1\n",
    "    print(\"zerodivision에러가 발생했어요!!\") \n",
    "    print(\"1로 나눠볼게요!\",10/1) "
   ]
  },
  {
   "cell_type": "code",
   "execution_count": 78,
   "id": "b9121eb3",
   "metadata": {},
   "outputs": [
    {
     "name": "stdout",
     "output_type": "stream",
     "text": [
      "숫자를 입력하세요dddd\n"
     ]
    },
    {
     "ename": "ValueError",
     "evalue": "invalid literal for int() with base 10: 'dddd'",
     "output_type": "error",
     "traceback": [
      "\u001b[1;31m---------------------------------------------------------------------------\u001b[0m",
      "\u001b[1;31mValueError\u001b[0m                                Traceback (most recent call last)",
      "\u001b[1;32m~\\AppData\\Local\\Temp/ipykernel_8212/2472903710.py\u001b[0m in \u001b[0;36m<module>\u001b[1;34m\u001b[0m\n\u001b[1;32m----> 1\u001b[1;33m \u001b[0mx\u001b[0m \u001b[1;33m=\u001b[0m \u001b[0mint\u001b[0m\u001b[1;33m(\u001b[0m\u001b[0minput\u001b[0m\u001b[1;33m(\u001b[0m\u001b[1;34m\"숫자를 입력하세요\"\u001b[0m\u001b[1;33m)\u001b[0m\u001b[1;33m)\u001b[0m\u001b[1;33m\u001b[0m\u001b[1;33m\u001b[0m\u001b[0m\n\u001b[0m\u001b[0;32m      2\u001b[0m \u001b[1;33m\u001b[0m\u001b[0m\n\u001b[0;32m      3\u001b[0m \u001b[1;32mtry\u001b[0m\u001b[1;33m:\u001b[0m\u001b[1;33m\u001b[0m\u001b[1;33m\u001b[0m\u001b[0m\n\u001b[0;32m      4\u001b[0m \u001b[1;31m# 처리중에 예외가 발생할 법한 문장들을 try에 포함시킨다.\u001b[0m\u001b[1;33m\u001b[0m\u001b[1;33m\u001b[0m\u001b[0m\n\u001b[0;32m      5\u001b[0m     \u001b[0mprint\u001b[0m\u001b[1;33m(\u001b[0m\u001b[1;36m10\u001b[0m\u001b[1;33m/\u001b[0m\u001b[0mx\u001b[0m\u001b[1;33m)\u001b[0m\u001b[1;33m\u001b[0m\u001b[1;33m\u001b[0m\u001b[0m\n",
      "\u001b[1;31mValueError\u001b[0m: invalid literal for int() with base 10: 'dddd'"
     ]
    }
   ],
   "source": [
    "x = int(input(\"숫자를 입력하세요\"))\n",
    "\n",
    "try: \n",
    "    print(10/x)\n",
    "    print(\"잘 수행되었어요! ^_^!!!\")\n",
    "    \n",
    "except ZeroDivisionError:\n",
    "    print(\"zerodivision에러가 발생했어요!!\") \n",
    "    print(\"1로 나눠볼게요!\",10/1) "
   ]
  },
  {
   "cell_type": "code",
   "execution_count": 79,
   "id": "9096b8b8",
   "metadata": {},
   "outputs": [
    {
     "name": "stdout",
     "output_type": "stream",
     "text": [
      "숫자를 입력하세요2\n",
      "5.0\n",
      "잘 수행되었어요! ^_^!!!\n",
      "3\n"
     ]
    }
   ],
   "source": [
    "x = int(input(\"숫자를 입력하세요\"))\n",
    "\n",
    "a=[1,2,3]\n",
    "\n",
    "\n",
    "try: \n",
    "    print(10/x)\n",
    "    print(\"잘 수행되었어요! ^_^!!!\")\n",
    "    print(a[x])\n",
    "    \n",
    "    \n",
    "except ZeroDivisionError:\n",
    "    print(\"zerodivision에러가 발생했어요!!\") \n",
    "    print(\"1로 나눠볼게요!\",10/1) "
   ]
  },
  {
   "cell_type": "code",
   "execution_count": 82,
   "id": "0969145b",
   "metadata": {},
   "outputs": [
    {
     "name": "stdout",
     "output_type": "stream",
     "text": [
      "숫자를 입력하세요4\n",
      "2.5\n",
      "잘 수행되었어요! ^_^!!!\n",
      "IndexError가 발생했어요!!\n"
     ]
    }
   ],
   "source": [
    "x = int(input(\"숫자를 입력하세요\"))\n",
    "\n",
    "a=[1,2,3]\n",
    "\n",
    "\n",
    "try: \n",
    "    print(10/x)\n",
    "    print(\"잘 수행되었어요! ^_^!!!\")\n",
    "    print(a[x])\n",
    "    \n",
    "    \n",
    "except ZeroDivisionError:\n",
    "    print(\"ZeroDivisionError가 발생했어요!!\") \n",
    "    print(\"1로 나눠볼게요!\",10/1) \n",
    "\n",
    "except IndexError:   # except를 여러개 추가할 수 있다.\n",
    "    print(\"IndexError가 발생했어요!!\")  "
   ]
  },
  {
   "cell_type": "markdown",
   "id": "4b92b530",
   "metadata": {},
   "source": [
    "* 어떤 에러가 발생했는지 알고 싶을 때\n",
    "\n",
    "**`'except Exception as e'`** 써줘서 에러종류 알려준다!!!"
   ]
  },
  {
   "cell_type": "code",
   "execution_count": 90,
   "id": "551e9b3a",
   "metadata": {},
   "outputs": [
    {
     "name": "stdout",
     "output_type": "stream",
     "text": [
      "숫자를 입력하세요4\n",
      "2.5\n",
      "잘 수행되었어요! ^_^!!!\n",
      "list index out of range\n"
     ]
    }
   ],
   "source": [
    "x = int(input(\"숫자를 입력하세요\"))\n",
    "\n",
    "a=[1,2,3]\n",
    "\n",
    "\n",
    "try: \n",
    "    print(10/x)\n",
    "    print(\"잘 수행되었어요! ^_^!!!\")\n",
    "    print(a[x])\n",
    "    \n",
    "    \n",
    "except Exception as e:\n",
    "    print(e)"
   ]
  },
  {
   "cell_type": "code",
   "execution_count": 88,
   "id": "3318ac97",
   "metadata": {},
   "outputs": [
    {
     "name": "stdout",
     "output_type": "stream",
     "text": [
      "숫자를 입력하세요0\n",
      "division by zero\n"
     ]
    }
   ],
   "source": [
    "x = int(input(\"숫자를 입력하세요\"))\n",
    "\n",
    "a=[1,2,3]\n",
    "\n",
    "\n",
    "try: \n",
    "    print(10/x)\n",
    "    print(\"잘 수행되었어요! ^_^!!!\")\n",
    "    print(a[x])\n",
    "    \n",
    "    \n",
    "except Exception as e:\n",
    "    print(e)"
   ]
  },
  {
   "cell_type": "markdown",
   "id": "3c70a13c",
   "metadata": {},
   "source": [
    "### **예외가 발생하지 않았을 때 실행하는 else**\n",
    "\n",
    "- else구문은 예외가 발생하지 않았을 때 실행할 구문을 기술한다. \n",
    "- else는 except 바로뒤에 와야한다.\n",
    "- except를 생략 할 수는 없다.\n",
    "- 예외가 발생하면 else 구문은 실행되지 않는다. \n",
    "\n",
    "```\n",
    "try:\n",
    "    실행할 코드\n",
    "except:\n",
    "    예외가 발생했을 때 처리하는 코드\n",
    "else:\n",
    "    예외가 발생하지 않았을 때 실행할 코드\n",
    "```"
   ]
  },
  {
   "cell_type": "code",
   "execution_count": 96,
   "id": "9e3a4c56",
   "metadata": {},
   "outputs": [
    {
     "name": "stdout",
     "output_type": "stream",
     "text": [
      "숫자를 입력하세요5\n",
      "2.0\n",
      "잘 수행되었어요! ^_^!!!\n",
      "잘 수행되어서 else 구문으로 들어왔어요 @_@!!!\n"
     ]
    }
   ],
   "source": [
    "x = int(input(\"숫자를 입력하세요\"))\n",
    "\n",
    "\n",
    "try: \n",
    "    print(10/x)\n",
    "    print(\"잘 수행되었어요! ^_^!!!\")\n",
    "    \n",
    "except Exception as e:\n",
    "    print(e)\n",
    "    \n",
    "else:\n",
    "    print(\"잘 수행되어서 else 구문으로 들어왔어요 @_@!!!\")"
   ]
  },
  {
   "cell_type": "markdown",
   "id": "e6072e02",
   "metadata": {},
   "source": [
    "### **반드시 실행되는 finally블록**\n",
    "- 모든 코드가 반드시 실행된다는 보장은 없다. \n",
    "- 하지만, 예외가 발생했든 발생하지 않았든 \n",
    "예외를 적절히 처리했든 처리하지 못했든 간에 반드시 처리해야하는 코드들이 있다. \n",
    "- finally 블록은 언제든지 실행된다. \n",
    "- finally는 except와 else를 생략할 수 있다.\n",
    "\n",
    "```\n",
    "try:\n",
    "    실행할 코드\n",
    "except:\n",
    "    예외가 발생했을 때 처리하는 코드\n",
    "else:\n",
    "    예외가 발생하지 않았을 때 실행할 코드\n",
    "finally:\n",
    "    예외 발생 여부와 상관없이 항상 실행할 코드\n",
    "```\n",
    "\n",
    "\n"
   ]
  },
  {
   "cell_type": "code",
   "execution_count": 97,
   "id": "620c0fe7",
   "metadata": {},
   "outputs": [
    {
     "name": "stdout",
     "output_type": "stream",
     "text": [
      "숫자를 입력하세요5\n",
      "2.0\n",
      "잘 수행되었어요! ^_^!!!\n",
      "잘 수행되어서 else 구문으로 들어왔어요 @_@!!!\n",
      "잘 수행되었든, 에러가 났든 만든 사람 나임 ㅋ_ㅋ\n"
     ]
    }
   ],
   "source": [
    "# 예 -1 (잘 수행되는 )\n",
    "x = int(input(\"숫자를 입력하세요\"))\n",
    "\n",
    "try: \n",
    "    print(10/x)\n",
    "    print(\"잘 수행되었어요! ^_^!!!\")\n",
    "    \n",
    "except Exception as e:\n",
    "    print(e)\n",
    "    \n",
    "else:\n",
    "    print(\"잘 수행되어서 else 구문으로 들어왔어요 @_@!!!\")\n",
    "    \n",
    "finally:\n",
    "    print(\"잘 수행되었든, 에러가 났든 만든 사람 나임 ㅋ_ㅋ\")"
   ]
  },
  {
   "cell_type": "code",
   "execution_count": 98,
   "id": "9dc81516",
   "metadata": {},
   "outputs": [
    {
     "name": "stdout",
     "output_type": "stream",
     "text": [
      "숫자를 입력하세요0\n",
      "division by zero\n",
      "잘 수행되었든, 에러가 났든 만든 사람 나임 ㅋ_ㅋ\n"
     ]
    }
   ],
   "source": [
    "# 예 - (에러가 나는 )\n",
    "x = int(input(\"숫자를 입력하세요\"))\n",
    "\n",
    "try: \n",
    "    print(10/x)\n",
    "    print(\"잘 수행되었어요! ^_^!!!\")\n",
    "    \n",
    "except Exception as e:\n",
    "    print(e)\n",
    "    \n",
    "else:\n",
    "    print(\"잘 수행되어서 else 구문으로 들어왔어요 @_@!!!\")\n",
    "    \n",
    "finally:\n",
    "    print(\"잘 수행되었든, 에러가 났든 만든 사람 나임 ㅋ_ㅋ\")"
   ]
  },
  {
   "cell_type": "markdown",
   "id": "aa3d8a8c",
   "metadata": {},
   "source": [
    "### **사용자가 임의로 예외 발생 시키기 (사용자정의 예외)**\n",
    "\n",
    "- python에서 정해놓은 예외 이외에도 사용자의 조건에 맞게 예외를 정의 할 수있다 \n",
    "- 예외를 발생시킬 때는 raise에 예외를 지정하고, 에러메시지를 넣는다. \n",
    "- 에러메시지는 생략 가능하다.\n",
    "\n",
    "``` \n",
    "raise 예외 ('에러메시지') \n",
    "```"
   ]
  },
  {
   "cell_type": "code",
   "execution_count": 103,
   "id": "cee837f3",
   "metadata": {},
   "outputs": [
    {
     "name": "stdout",
     "output_type": "stream",
     "text": [
      "점수를 입력하세요105\n",
      "예외 발생!! ('점수는 100점이하로 입력해야합니다!! 방금 입력한 값은', 105, '입니다')\n",
      "당신의 점수는??? 105 입니다\n"
     ]
    }
   ],
   "source": [
    "score = int(input(\"점수를 입력하세요\"))\n",
    "\n",
    "try:\n",
    "    if score > 100:\n",
    "        raise Exception(\"점수는 100점이하로 입력해야합니다!! 방금 입력한 값은\",score,\"입니다\")\n",
    "except Exception as e:\n",
    "    print(\"예외 발생!!\",e)\n",
    "        \n",
    "print(\"당신의 점수는???\",score,\"입니다\")"
   ]
  },
  {
   "cell_type": "code",
   "execution_count": null,
   "id": "77fb95a6",
   "metadata": {},
   "outputs": [],
   "source": []
  },
  {
   "cell_type": "markdown",
   "id": "f0d98e5f",
   "metadata": {},
   "source": [
    "### **현재 예외를 다시 발생 시키기** \n",
    "\n",
    "- try except 에서 처리한 예외를 다시 발생 시킬 수 있다. \n",
    "- except 안에서 raise를 사용하면 현재 예외를 다시 발생 시킨다.\n",
    "\n"
   ]
  },
  {
   "cell_type": "code",
   "execution_count": 113,
   "id": "ed33442c",
   "metadata": {},
   "outputs": [
    {
     "name": "stdout",
     "output_type": "stream",
     "text": [
      "점수를 입력하세요105\n",
      "예외 발생!! ('점수는 100점이하로 입력해야합니다!! 방금 입력한 값은', 105, '입니다')\n"
     ]
    }
   ],
   "source": [
    "def input_score():    \n",
    "    score = int(input(\"점수를 입력하세요\"))\n",
    "\n",
    "    try:\n",
    "        if score > 100:\n",
    "            raise Exception(\"점수는 100점이하로 입력해야합니다!! 방금 입력한 값은\",score,\"입니다\")\n",
    "    except Exception as e:\n",
    "        print(\"예외 발생!!\",e)\n",
    "        \n",
    "input_score()"
   ]
  },
  {
   "cell_type": "code",
   "execution_count": 114,
   "id": "f62a35de",
   "metadata": {},
   "outputs": [
    {
     "name": "stdout",
     "output_type": "stream",
     "text": [
      "점수를 입력하세요105\n",
      "예외 발생!! ('점수는 100점이하로 입력해야합니다!! 방금 입력한 값은', 105, '입니다')\n",
      " 네가 처리해!!\n",
      "당신의 점수는??? 105 입니다\n"
     ]
    }
   ],
   "source": [
    "def input_score():    \n",
    "    score = int(input(\"점수를 입력하세요\"))\n",
    "\n",
    "    try:\n",
    "        if score > 100:\n",
    "            raise Exception(\"점수는 100점이하로 입력해야합니다!! 방금 입력한 값은\",score,\"입니다\") ## 예외 발생 출력!!\n",
    "    except Exception as e:\n",
    "        print(\"예외 발생!!\",e)\n",
    "        raise ##또 다시 예외가 발생되어서 다시 예외를 발생한다. \n",
    "\n",
    "try:\n",
    "    input_score()\n",
    "except:\n",
    "    print(\" 네가 처리해!!\")\n",
    "    \n",
    "print(\"당신의 점수는???\",score,\"입니다\")"
   ]
  },
  {
   "cell_type": "markdown",
   "id": "da628bd6",
   "metadata": {},
   "source": [
    "## raise 예외('에러메시지')\n",
    "\n",
    "```\n",
    "        if x % 3 != 0:\n",
    "            raise Exception('3의 배수가 아닙니다.')\n",
    "        print(x)\n",
    "    except Exception as e:\n",
    "        print('three_multiple 함수에서 예외가 발생했습니다.', e)\n",
    "        raise RuntimeError('three_multiple 함수에서 예외가 발생했습니다.')\n",
    "```"
   ]
  },
  {
   "cell_type": "markdown",
   "id": "3baaef7b",
   "metadata": {},
   "source": [
    "### **assert로 예외 발생시키기**\n",
    "\n",
    "- assert는 지정된 조건식이 거짓일 때 assertionError 예외를 발생 시킨다.\n",
    "- 조건식이 참이면 그냥 지나간다. \n",
    "- assert 는 보통 나와서는 안되는 조건을 검사할 때 사용한다. \n",
    "\n"
   ]
  },
  {
   "cell_type": "code",
   "execution_count": 118,
   "id": "e3c0f232",
   "metadata": {},
   "outputs": [
    {
     "name": "stdout",
     "output_type": "stream",
     "text": [
      "3의 배수를 입력하세요4\n"
     ]
    },
    {
     "ename": "AssertionError",
     "evalue": "3의 배수입니다.",
     "output_type": "error",
     "traceback": [
      "\u001b[1;31m---------------------------------------------------------------------------\u001b[0m",
      "\u001b[1;31mAssertionError\u001b[0m                            Traceback (most recent call last)",
      "\u001b[1;32m~\\AppData\\Local\\Temp/ipykernel_8212/1998111541.py\u001b[0m in \u001b[0;36m<module>\u001b[1;34m\u001b[0m\n\u001b[0;32m      1\u001b[0m \u001b[0mx\u001b[0m\u001b[1;33m=\u001b[0m\u001b[0mint\u001b[0m\u001b[1;33m(\u001b[0m\u001b[0minput\u001b[0m\u001b[1;33m(\u001b[0m\u001b[1;34m\"3의 배수를 입력하세요\"\u001b[0m\u001b[1;33m)\u001b[0m\u001b[1;33m)\u001b[0m\u001b[1;33m\u001b[0m\u001b[1;33m\u001b[0m\u001b[0m\n\u001b[0;32m      2\u001b[0m \u001b[1;33m\u001b[0m\u001b[0m\n\u001b[1;32m----> 3\u001b[1;33m \u001b[1;32massert\u001b[0m \u001b[0mx\u001b[0m\u001b[1;33m%\u001b[0m\u001b[1;36m3\u001b[0m \u001b[1;33m==\u001b[0m \u001b[1;36m0\u001b[0m\u001b[1;33m,\u001b[0m \u001b[1;34m\"3의 배수입니다.\"\u001b[0m\u001b[1;33m\u001b[0m\u001b[1;33m\u001b[0m\u001b[0m\n\u001b[0m\u001b[0;32m      4\u001b[0m \u001b[0mprint\u001b[0m\u001b[1;33m(\u001b[0m\u001b[0mx\u001b[0m\u001b[1;33m)\u001b[0m\u001b[1;33m\u001b[0m\u001b[1;33m\u001b[0m\u001b[0m\n",
      "\u001b[1;31mAssertionError\u001b[0m: 3의 배수입니다."
     ]
    }
   ],
   "source": [
    "x=int(input(\"3의 배수를 입력하세요\"))\n",
    "\n",
    "assert x%3 == 0, \"3의 배수입니다.\"\n",
    "print(x)"
   ]
  },
  {
   "cell_type": "markdown",
   "id": "c80fe7c4",
   "metadata": {},
   "source": [
    "##### 참고 \n",
    "assert는 디버깅 모드에서만 실행됩니다. 특히 파이썬은 기본적으로 디버깅 모드이며(__debug__의 값이 True) assert가 실행되지 않게 하려면 python에 -O 옵션을 붙여서 실행합니다(영문 대문자 O).\n",
    "python -O 스크립트파일.py"
   ]
  },
  {
   "cell_type": "markdown",
   "id": "f0857399",
   "metadata": {},
   "source": [
    "### **사용자 정의 예외 만들기**\n",
    "\n",
    "- 프로그래머가 직접 만든 예외를 사용자 정의 예외라고 한다. \n",
    "- 예외를 생성하는 방법은 Exception을 상속받아서 새로운 클래스를 만들면 된다. \n",
    "- 그리고, __init__ 메서드에서 기반 클래스의 __init__ 메서드를 호출한다. \n",
    "- 기반클래스의 __init__메서드를 호출할 때 에러메시지를 넣어준다. \n",
    "\n",
    "```\n",
    "class 예외이름(Exception):\n",
    "    def __init__(self):\n",
    "        super().__init__('에러메시지')\n",
    "        \n",
    "```"
   ]
  },
  {
   "cell_type": "code",
   "execution_count": 127,
   "id": "718c7ef1",
   "metadata": {},
   "outputs": [
    {
     "name": "stdout",
     "output_type": "stream",
     "text": [
      "점수를 입력해주세요!!105\n",
      "또방 에러 메세지입니다!!\n"
     ]
    }
   ],
   "source": [
    "class sona_Exception(Exception):\n",
    "    def __init__(self):\n",
    "        super().__init__('또방 에러 메세지입니다!!')\n",
    "        \n",
    "    def Input_score():\n",
    "        score = int(input(\"점수를 입력해주세요!!\"))\n",
    "        if score > 100:\n",
    "            raise sona_Exception()\n",
    "        print(\"당신의 점수는\",score)\n",
    "    \n",
    "    try:\n",
    "        Input_score()\n",
    "    except sona_Exception as e:\n",
    "        print(e)"
   ]
  },
  {
   "cell_type": "code",
   "execution_count": null,
   "id": "402dc054",
   "metadata": {},
   "outputs": [],
   "source": []
  }
 ],
 "metadata": {
  "kernelspec": {
   "display_name": "Python 3 (ipykernel)",
   "language": "python",
   "name": "python3"
  },
  "language_info": {
   "codemirror_mode": {
    "name": "ipython",
    "version": 3
   },
   "file_extension": ".py",
   "mimetype": "text/x-python",
   "name": "python",
   "nbconvert_exporter": "python",
   "pygments_lexer": "ipython3",
   "version": "3.9.7"
  },
  "toc": {
   "base_numbering": 1,
   "nav_menu": {},
   "number_sections": true,
   "sideBar": true,
   "skip_h1_title": false,
   "title_cell": "Table of Contents",
   "title_sidebar": "Contents",
   "toc_cell": false,
   "toc_position": {},
   "toc_section_display": true,
   "toc_window_display": true
  }
 },
 "nbformat": 4,
 "nbformat_minor": 5
}
