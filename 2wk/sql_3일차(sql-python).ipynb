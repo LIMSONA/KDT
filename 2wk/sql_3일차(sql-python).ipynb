{
 "cells": [
  {
   "cell_type": "markdown",
   "id": "40660c12",
   "metadata": {},
   "source": [
    "# 파이썬에서 sql 돌리기"
   ]
  },
  {
   "cell_type": "markdown",
   "id": "726729ee",
   "metadata": {},
   "source": [
    "**<환경>** DB 모듈 설치한다. - !pip install pymysql  \n",
    "1. DB 모듈 import 한다. -import pymysql\n",
    "2. DB 접속 - DB 접속 객체를 얻어온다.\n",
    "3. 쿼리작성\n",
    "4. 쿼리실행\n",
    "5. 결과값을 얻어오기\n",
    "6. 접속 종료"
   ]
  },
  {
   "cell_type": "markdown",
   "id": "5ddb4622",
   "metadata": {},
   "source": [
    "## sql 가져오기 (기본적으로 튜플형태로 가져옴)"
   ]
  },
  {
   "cell_type": "code",
   "execution_count": 1,
   "id": "ea644316",
   "metadata": {
    "scrolled": false
   },
   "outputs": [
    {
     "name": "stdout",
     "output_type": "stream",
     "text": [
      "Collecting pymysql\n",
      "  Downloading PyMySQL-1.0.2-py3-none-any.whl (43 kB)\n",
      "Installing collected packages: pymysql\n",
      "Successfully installed pymysql-1.0.2\n"
     ]
    }
   ],
   "source": [
    "!pip install pymysql"
   ]
  },
  {
   "cell_type": "code",
   "execution_count": 95,
   "id": "b2e3980c",
   "metadata": {},
   "outputs": [],
   "source": [
    "import pymysql as pm"
   ]
  },
  {
   "cell_type": "code",
   "execution_count": 96,
   "id": "d2764f93",
   "metadata": {},
   "outputs": [
    {
     "data": {
      "text/plain": [
       "<pymysql.connections.Connection at 0x19d2b4f3040>"
      ]
     },
     "execution_count": 96,
     "metadata": {},
     "output_type": "execute_result"
    }
   ],
   "source": [
    "# mysql은 3306을 기본으로 사용함! \n",
    "# connection에서 port 번호 확인하기!\n",
    "\n",
    "conn = pm.connect(host=\"localhost\", port =3306, db='kdtdb', passwd=\"kdt\", user=\"kdt\" )\n",
    "conn\n",
    "\n",
    "# 제대로 접속이 된 경우 <pymysql.connections.Connection at 0x19d28afda60>로 보인다."
   ]
  },
  {
   "cell_type": "markdown",
   "id": "c95bc259",
   "metadata": {},
   "source": [
    " - connect()로 db를 얻어온다\n",
    " - cursor()라는 함수를 이용하여 작업을한다.\n",
    " - execute() 함수로 실행한다."
   ]
  },
  {
   "cell_type": "code",
   "execution_count": 97,
   "id": "93a8ed64",
   "metadata": {},
   "outputs": [],
   "source": [
    "cur = conn.cursor()"
   ]
  },
  {
   "cell_type": "code",
   "execution_count": 98,
   "id": "813bc245",
   "metadata": {},
   "outputs": [
    {
     "data": {
      "text/plain": [
       "17"
      ]
     },
     "execution_count": 98,
     "metadata": {},
     "output_type": "execute_result"
    }
   ],
   "source": [
    "sql = \"select * from pets\"\n",
    "cur.execute(sql)\n",
    "#16건을 가져온거다."
   ]
  },
  {
   "cell_type": "code",
   "execution_count": 99,
   "id": "c8d9089d",
   "metadata": {},
   "outputs": [
    {
     "name": "stdout",
     "output_type": "stream",
     "text": [
      "('Fluffy', 'Harold', 'cat', 'f', datetime.date(1999, 2, 4), None)\n",
      "('Fluffy', 'Harold', 'cat', 'f', datetime.date(1999, 2, 4), None)\n",
      "('doongi', None, None, None, None, None)\n",
      "('abc', '1', None, None, None, None)\n",
      "('def', '2', None, None, None, None)\n",
      "('ghi', '3', None, None, None, None)\n",
      "('Fluffy', 'Harold', 'cat', 'f', datetime.date(1993, 2, 4), '0000-00-00')\n",
      "('Claws', 'Gwen', 'cat', 'm', datetime.date(1994, 3, 17), '0000-00-00')\n",
      "('Buffy', 'Harold', 'dog', 'f', datetime.date(1989, 5, 13), '0000-00-00')\n",
      "('Fang', 'Benny', 'dog', 'm', datetime.date(1990, 8, 27), '0000-00-00')\n",
      "('Bowser', 'Diane', 'dog', 'm', datetime.date(1979, 8, 31), datetime.date(1995, 7, 29))\n",
      "('Chirpy', 'Gwen', 'bird', 'f', datetime.date(1998, 9, 11), '0000-00-00')\n",
      "('Whistler', 'Gwen', 'bird', None, datetime.date(1997, 12, 9), '0000-00-00')\n",
      "('Slim', 'Benny', 'snake', 'm', datetime.date(1996, 4, 29), '0000-00-00')\n",
      "('KKUKKU', 'sona', 'dog', None, None, None)\n",
      "('DDoDDo', 'sona', 'lion', None, None, None)\n",
      "('kiki', 'sona', None, None, None, None)\n"
     ]
    }
   ],
   "source": [
    "for i in cur:\n",
    "    print(i)"
   ]
  },
  {
   "cell_type": "code",
   "execution_count": 100,
   "id": "c6a32a2d",
   "metadata": {},
   "outputs": [],
   "source": [
    "cur.close()"
   ]
  },
  {
   "cell_type": "markdown",
   "id": "1f7d4fe4",
   "metadata": {},
   "source": [
    "## 딕셔너리 형태로 값 얻어오기"
   ]
  },
  {
   "cell_type": "code",
   "execution_count": 46,
   "id": "430918af",
   "metadata": {
    "scrolled": true
   },
   "outputs": [
    {
     "data": {
      "text/plain": [
       "<pymysql.connections.Connection at 0x19d28c8e550>"
      ]
     },
     "execution_count": 46,
     "metadata": {},
     "output_type": "execute_result"
    }
   ],
   "source": [
    "# mysql은 3306을 기본으로 사용함! \n",
    "# connection에서 port 번호 확인하기!\n",
    "\n",
    "conn = pm.connect(host=\"localhost\", port =3306, db='kdtdb', passwd=\"kdt\", user=\"kdt\" )\n",
    "dicccc = conn.cursor(pm.cursors.DictCursor)\n",
    "conn\n",
    "\n",
    "# 제대로 접속이 된 경우 <pymysql.connections.Connection at 0x19d28afda60>로 보인다."
   ]
  },
  {
   "cell_type": "code",
   "execution_count": 40,
   "id": "012f3422",
   "metadata": {},
   "outputs": [],
   "source": [
    "cur = conn.cursor()"
   ]
  },
  {
   "cell_type": "code",
   "execution_count": 43,
   "id": "a45f5f74",
   "metadata": {},
   "outputs": [
    {
     "data": {
      "text/plain": [
       "16"
      ]
     },
     "execution_count": 43,
     "metadata": {},
     "output_type": "execute_result"
    }
   ],
   "source": [
    "sql = \"select * from pets\"\n",
    "dicccc.execute(sql)\n",
    "#16건을 가져온거다."
   ]
  },
  {
   "cell_type": "code",
   "execution_count": 44,
   "id": "59c3f922",
   "metadata": {},
   "outputs": [
    {
     "name": "stdout",
     "output_type": "stream",
     "text": [
      "{'name': 'Fluffy', 'owner': 'Harold', 'species': 'cat', 'sex': 'f', 'birth': datetime.date(1999, 2, 4), 'death': None}\n",
      "{'name': 'Fluffy', 'owner': 'Harold', 'species': 'cat', 'sex': 'f', 'birth': datetime.date(1999, 2, 4), 'death': None}\n",
      "{'name': 'doongi', 'owner': None, 'species': None, 'sex': None, 'birth': None, 'death': None}\n",
      "{'name': 'abc', 'owner': '1', 'species': None, 'sex': None, 'birth': None, 'death': None}\n",
      "{'name': 'def', 'owner': '2', 'species': None, 'sex': None, 'birth': None, 'death': None}\n",
      "{'name': 'ghi', 'owner': '3', 'species': None, 'sex': None, 'birth': None, 'death': None}\n",
      "{'name': 'Fluffy', 'owner': 'Harold', 'species': 'cat', 'sex': 'f', 'birth': datetime.date(1993, 2, 4), 'death': '0000-00-00'}\n",
      "{'name': 'Claws', 'owner': 'Gwen', 'species': 'cat', 'sex': 'm', 'birth': datetime.date(1994, 3, 17), 'death': '0000-00-00'}\n",
      "{'name': 'Buffy', 'owner': 'Harold', 'species': 'dog', 'sex': 'f', 'birth': datetime.date(1989, 5, 13), 'death': '0000-00-00'}\n",
      "{'name': 'Fang', 'owner': 'Benny', 'species': 'dog', 'sex': 'm', 'birth': datetime.date(1990, 8, 27), 'death': '0000-00-00'}\n",
      "{'name': 'Bowser', 'owner': 'Diane', 'species': 'dog', 'sex': 'm', 'birth': datetime.date(1979, 8, 31), 'death': datetime.date(1995, 7, 29)}\n",
      "{'name': 'Chirpy', 'owner': 'Gwen', 'species': 'bird', 'sex': 'f', 'birth': datetime.date(1998, 9, 11), 'death': '0000-00-00'}\n",
      "{'name': 'Whistler', 'owner': 'Gwen', 'species': 'bird', 'sex': None, 'birth': datetime.date(1997, 12, 9), 'death': '0000-00-00'}\n",
      "{'name': 'Slim', 'owner': 'Benny', 'species': 'snake', 'sex': 'm', 'birth': datetime.date(1996, 4, 29), 'death': '0000-00-00'}\n",
      "{'name': 'KKUKKU', 'owner': 'sona', 'species': 'dog', 'sex': None, 'birth': None, 'death': None}\n",
      "{'name': 'DDoDDo', 'owner': 'sona', 'species': 'lion', 'sex': None, 'birth': None, 'death': None}\n"
     ]
    }
   ],
   "source": [
    "for i in dicccc:\n",
    "    print(i)"
   ]
  },
  {
   "cell_type": "code",
   "execution_count": 45,
   "id": "c996240e",
   "metadata": {},
   "outputs": [],
   "source": [
    "cursor.close()\n",
    "conn.close()"
   ]
  },
  {
   "cell_type": "markdown",
   "id": "06c39aa1",
   "metadata": {},
   "source": [
    "# 함수로 지정해주기\n",
    "  \n",
    " * 자주 사용하니까 함수로 지정해줘서 이후 계속 사용할 수 있도록 한다."
   ]
  },
  {
   "cell_type": "code",
   "execution_count": 48,
   "id": "b58ea28f",
   "metadata": {},
   "outputs": [],
   "source": [
    "#DB 접속하는 함수 정의\n",
    "\n",
    "def getConn():\n",
    "    conn = pm.connect(host=\"localhost\", port =3306, db='kdtdb', passwd=\"kdt\", user=\"kdt\" )\n",
    "    return conn"
   ]
  },
  {
   "cell_type": "code",
   "execution_count": 51,
   "id": "46ab0527",
   "metadata": {},
   "outputs": [
    {
     "name": "stdout",
     "output_type": "stream",
     "text": [
      "pet 이름은???kiki\n",
      "pet 주인이름은??sona\n"
     ]
    }
   ],
   "source": [
    "name = input(\"pet 이름은???\")\n",
    "owner = input(\"pet 주인이름은??\")"
   ]
  },
  {
   "cell_type": "code",
   "execution_count": 59,
   "id": "78430456",
   "metadata": {},
   "outputs": [
    {
     "data": {
      "text/plain": [
       "<pymysql.connections.Connection at 0x19d28c8e3d0>"
      ]
     },
     "execution_count": 59,
     "metadata": {},
     "output_type": "execute_result"
    }
   ],
   "source": [
    "a_conn = getConn()\n",
    "a_conn"
   ]
  },
  {
   "cell_type": "code",
   "execution_count": 64,
   "id": "bd1cdfaa",
   "metadata": {},
   "outputs": [],
   "source": [
    "a_cursor = a_conn.cursor()\n",
    "\n",
    "query = '''\n",
    "insert into pets (name,owner)\n",
    "values(%s,%s)\n",
    "'''"
   ]
  },
  {
   "cell_type": "code",
   "execution_count": 65,
   "id": "a4ba7970",
   "metadata": {},
   "outputs": [],
   "source": [
    "a_cursor.execute(query,(name,owner))\n",
    "a_conn.commit()"
   ]
  },
  {
   "cell_type": "code",
   "execution_count": 66,
   "id": "02673505",
   "metadata": {},
   "outputs": [],
   "source": [
    "a_cursor.close()\n",
    "a_conn.close()"
   ]
  },
  {
   "cell_type": "markdown",
   "id": "235c2995",
   "metadata": {},
   "source": [
    "* fetchall() 전체 페이지 가져오기\n",
    "* fetchmany() 원하는 만큼 가져오기\n",
    "* fetchone() 하나 가져오기"
   ]
  },
  {
   "cell_type": "code",
   "execution_count": 70,
   "id": "5a35d734",
   "metadata": {
    "scrolled": true
   },
   "outputs": [
    {
     "data": {
      "text/plain": [
       "[{'name': 'Fluffy',\n",
       "  'owner': 'Harold',\n",
       "  'species': 'cat',\n",
       "  'sex': 'f',\n",
       "  'birth': datetime.date(1999, 2, 4),\n",
       "  'death': None},\n",
       " {'name': 'Fluffy',\n",
       "  'owner': 'Harold',\n",
       "  'species': 'cat',\n",
       "  'sex': 'f',\n",
       "  'birth': datetime.date(1999, 2, 4),\n",
       "  'death': None},\n",
       " {'name': 'doongi',\n",
       "  'owner': None,\n",
       "  'species': None,\n",
       "  'sex': None,\n",
       "  'birth': None,\n",
       "  'death': None},\n",
       " {'name': 'abc',\n",
       "  'owner': '1',\n",
       "  'species': None,\n",
       "  'sex': None,\n",
       "  'birth': None,\n",
       "  'death': None},\n",
       " {'name': 'def',\n",
       "  'owner': '2',\n",
       "  'species': None,\n",
       "  'sex': None,\n",
       "  'birth': None,\n",
       "  'death': None},\n",
       " {'name': 'ghi',\n",
       "  'owner': '3',\n",
       "  'species': None,\n",
       "  'sex': None,\n",
       "  'birth': None,\n",
       "  'death': None},\n",
       " {'name': 'Fluffy',\n",
       "  'owner': 'Harold',\n",
       "  'species': 'cat',\n",
       "  'sex': 'f',\n",
       "  'birth': datetime.date(1993, 2, 4),\n",
       "  'death': '0000-00-00'},\n",
       " {'name': 'Claws',\n",
       "  'owner': 'Gwen',\n",
       "  'species': 'cat',\n",
       "  'sex': 'm',\n",
       "  'birth': datetime.date(1994, 3, 17),\n",
       "  'death': '0000-00-00'},\n",
       " {'name': 'Buffy',\n",
       "  'owner': 'Harold',\n",
       "  'species': 'dog',\n",
       "  'sex': 'f',\n",
       "  'birth': datetime.date(1989, 5, 13),\n",
       "  'death': '0000-00-00'},\n",
       " {'name': 'Fang',\n",
       "  'owner': 'Benny',\n",
       "  'species': 'dog',\n",
       "  'sex': 'm',\n",
       "  'birth': datetime.date(1990, 8, 27),\n",
       "  'death': '0000-00-00'},\n",
       " {'name': 'Bowser',\n",
       "  'owner': 'Diane',\n",
       "  'species': 'dog',\n",
       "  'sex': 'm',\n",
       "  'birth': datetime.date(1979, 8, 31),\n",
       "  'death': datetime.date(1995, 7, 29)},\n",
       " {'name': 'Chirpy',\n",
       "  'owner': 'Gwen',\n",
       "  'species': 'bird',\n",
       "  'sex': 'f',\n",
       "  'birth': datetime.date(1998, 9, 11),\n",
       "  'death': '0000-00-00'},\n",
       " {'name': 'Whistler',\n",
       "  'owner': 'Gwen',\n",
       "  'species': 'bird',\n",
       "  'sex': None,\n",
       "  'birth': datetime.date(1997, 12, 9),\n",
       "  'death': '0000-00-00'},\n",
       " {'name': 'Slim',\n",
       "  'owner': 'Benny',\n",
       "  'species': 'snake',\n",
       "  'sex': 'm',\n",
       "  'birth': datetime.date(1996, 4, 29),\n",
       "  'death': '0000-00-00'},\n",
       " {'name': 'KKUKKU',\n",
       "  'owner': 'sona',\n",
       "  'species': 'dog',\n",
       "  'sex': None,\n",
       "  'birth': None,\n",
       "  'death': None},\n",
       " {'name': 'DDoDDo',\n",
       "  'owner': 'sona',\n",
       "  'species': 'lion',\n",
       "  'sex': None,\n",
       "  'birth': None,\n",
       "  'death': None},\n",
       " {'name': 'kiki',\n",
       "  'owner': 'sona',\n",
       "  'species': None,\n",
       "  'sex': None,\n",
       "  'birth': None,\n",
       "  'death': None}]"
      ]
     },
     "execution_count": 70,
     "metadata": {},
     "output_type": "execute_result"
    }
   ],
   "source": [
    "conn =getConn()\n",
    "curs = conn.cursor(pm.cursors.DictCursor)\n",
    "sql = \"select * from pets\"\n",
    "curs.execute(sql)\n",
    "rows = curs.fetchall()\n",
    "rows"
   ]
  },
  {
   "cell_type": "code",
   "execution_count": 71,
   "id": "09c670c4",
   "metadata": {},
   "outputs": [
    {
     "data": {
      "text/plain": [
       "{'name': 'Fluffy',\n",
       " 'owner': 'Harold',\n",
       " 'species': 'cat',\n",
       " 'sex': 'f',\n",
       " 'birth': datetime.date(1999, 2, 4),\n",
       " 'death': None}"
      ]
     },
     "execution_count": 71,
     "metadata": {},
     "output_type": "execute_result"
    }
   ],
   "source": [
    "conn =getConn()\n",
    "curs = conn.cursor(pm.cursors.DictCursor)\n",
    "sql = \"select * from pets\"\n",
    "curs.execute(sql)\n",
    "rows = curs.fetchone()\n",
    "rows"
   ]
  },
  {
   "cell_type": "code",
   "execution_count": 73,
   "id": "f3d7f79a",
   "metadata": {},
   "outputs": [
    {
     "data": {
      "text/plain": [
       "[{'name': 'Fluffy',\n",
       "  'owner': 'Harold',\n",
       "  'species': 'cat',\n",
       "  'sex': 'f',\n",
       "  'birth': datetime.date(1999, 2, 4),\n",
       "  'death': None},\n",
       " {'name': 'Fluffy',\n",
       "  'owner': 'Harold',\n",
       "  'species': 'cat',\n",
       "  'sex': 'f',\n",
       "  'birth': datetime.date(1999, 2, 4),\n",
       "  'death': None},\n",
       " {'name': 'doongi',\n",
       "  'owner': None,\n",
       "  'species': None,\n",
       "  'sex': None,\n",
       "  'birth': None,\n",
       "  'death': None},\n",
       " {'name': 'abc',\n",
       "  'owner': '1',\n",
       "  'species': None,\n",
       "  'sex': None,\n",
       "  'birth': None,\n",
       "  'death': None},\n",
       " {'name': 'def',\n",
       "  'owner': '2',\n",
       "  'species': None,\n",
       "  'sex': None,\n",
       "  'birth': None,\n",
       "  'death': None}]"
      ]
     },
     "execution_count": 73,
     "metadata": {},
     "output_type": "execute_result"
    }
   ],
   "source": [
    "conn =getConn()\n",
    "curs = conn.cursor(pm.cursors.DictCursor)\n",
    "sql = \"select * from pets\"\n",
    "curs.execute(sql)\n",
    "rows = curs.fetchmany(5)\n",
    "rows"
   ]
  },
  {
   "cell_type": "markdown",
   "id": "3b7eb8ec",
   "metadata": {},
   "source": [
    "# pandas 판다스"
   ]
  },
  {
   "cell_type": "code",
   "execution_count": 75,
   "id": "14d67f72",
   "metadata": {},
   "outputs": [
    {
     "data": {
      "text/html": [
       "<div>\n",
       "<style scoped>\n",
       "    .dataframe tbody tr th:only-of-type {\n",
       "        vertical-align: middle;\n",
       "    }\n",
       "\n",
       "    .dataframe tbody tr th {\n",
       "        vertical-align: top;\n",
       "    }\n",
       "\n",
       "    .dataframe thead th {\n",
       "        text-align: right;\n",
       "    }\n",
       "</style>\n",
       "<table border=\"1\" class=\"dataframe\">\n",
       "  <thead>\n",
       "    <tr style=\"text-align: right;\">\n",
       "      <th></th>\n",
       "      <th>name</th>\n",
       "      <th>owner</th>\n",
       "      <th>species</th>\n",
       "      <th>sex</th>\n",
       "      <th>birth</th>\n",
       "      <th>death</th>\n",
       "    </tr>\n",
       "  </thead>\n",
       "  <tbody>\n",
       "    <tr>\n",
       "      <th>0</th>\n",
       "      <td>Fluffy</td>\n",
       "      <td>Harold</td>\n",
       "      <td>cat</td>\n",
       "      <td>f</td>\n",
       "      <td>1999-02-04</td>\n",
       "      <td>None</td>\n",
       "    </tr>\n",
       "    <tr>\n",
       "      <th>1</th>\n",
       "      <td>Fluffy</td>\n",
       "      <td>Harold</td>\n",
       "      <td>cat</td>\n",
       "      <td>f</td>\n",
       "      <td>1999-02-04</td>\n",
       "      <td>None</td>\n",
       "    </tr>\n",
       "    <tr>\n",
       "      <th>2</th>\n",
       "      <td>doongi</td>\n",
       "      <td>None</td>\n",
       "      <td>None</td>\n",
       "      <td>None</td>\n",
       "      <td>None</td>\n",
       "      <td>None</td>\n",
       "    </tr>\n",
       "    <tr>\n",
       "      <th>3</th>\n",
       "      <td>abc</td>\n",
       "      <td>1</td>\n",
       "      <td>None</td>\n",
       "      <td>None</td>\n",
       "      <td>None</td>\n",
       "      <td>None</td>\n",
       "    </tr>\n",
       "    <tr>\n",
       "      <th>4</th>\n",
       "      <td>def</td>\n",
       "      <td>2</td>\n",
       "      <td>None</td>\n",
       "      <td>None</td>\n",
       "      <td>None</td>\n",
       "      <td>None</td>\n",
       "    </tr>\n",
       "    <tr>\n",
       "      <th>5</th>\n",
       "      <td>ghi</td>\n",
       "      <td>3</td>\n",
       "      <td>None</td>\n",
       "      <td>None</td>\n",
       "      <td>None</td>\n",
       "      <td>None</td>\n",
       "    </tr>\n",
       "    <tr>\n",
       "      <th>6</th>\n",
       "      <td>Fluffy</td>\n",
       "      <td>Harold</td>\n",
       "      <td>cat</td>\n",
       "      <td>f</td>\n",
       "      <td>1993-02-04</td>\n",
       "      <td>0000-00-00</td>\n",
       "    </tr>\n",
       "    <tr>\n",
       "      <th>7</th>\n",
       "      <td>Claws</td>\n",
       "      <td>Gwen</td>\n",
       "      <td>cat</td>\n",
       "      <td>m</td>\n",
       "      <td>1994-03-17</td>\n",
       "      <td>0000-00-00</td>\n",
       "    </tr>\n",
       "    <tr>\n",
       "      <th>8</th>\n",
       "      <td>Buffy</td>\n",
       "      <td>Harold</td>\n",
       "      <td>dog</td>\n",
       "      <td>f</td>\n",
       "      <td>1989-05-13</td>\n",
       "      <td>0000-00-00</td>\n",
       "    </tr>\n",
       "    <tr>\n",
       "      <th>9</th>\n",
       "      <td>Fang</td>\n",
       "      <td>Benny</td>\n",
       "      <td>dog</td>\n",
       "      <td>m</td>\n",
       "      <td>1990-08-27</td>\n",
       "      <td>0000-00-00</td>\n",
       "    </tr>\n",
       "    <tr>\n",
       "      <th>10</th>\n",
       "      <td>Bowser</td>\n",
       "      <td>Diane</td>\n",
       "      <td>dog</td>\n",
       "      <td>m</td>\n",
       "      <td>1979-08-31</td>\n",
       "      <td>1995-07-29</td>\n",
       "    </tr>\n",
       "    <tr>\n",
       "      <th>11</th>\n",
       "      <td>Chirpy</td>\n",
       "      <td>Gwen</td>\n",
       "      <td>bird</td>\n",
       "      <td>f</td>\n",
       "      <td>1998-09-11</td>\n",
       "      <td>0000-00-00</td>\n",
       "    </tr>\n",
       "    <tr>\n",
       "      <th>12</th>\n",
       "      <td>Whistler</td>\n",
       "      <td>Gwen</td>\n",
       "      <td>bird</td>\n",
       "      <td>None</td>\n",
       "      <td>1997-12-09</td>\n",
       "      <td>0000-00-00</td>\n",
       "    </tr>\n",
       "    <tr>\n",
       "      <th>13</th>\n",
       "      <td>Slim</td>\n",
       "      <td>Benny</td>\n",
       "      <td>snake</td>\n",
       "      <td>m</td>\n",
       "      <td>1996-04-29</td>\n",
       "      <td>0000-00-00</td>\n",
       "    </tr>\n",
       "    <tr>\n",
       "      <th>14</th>\n",
       "      <td>KKUKKU</td>\n",
       "      <td>sona</td>\n",
       "      <td>dog</td>\n",
       "      <td>None</td>\n",
       "      <td>None</td>\n",
       "      <td>None</td>\n",
       "    </tr>\n",
       "    <tr>\n",
       "      <th>15</th>\n",
       "      <td>DDoDDo</td>\n",
       "      <td>sona</td>\n",
       "      <td>lion</td>\n",
       "      <td>None</td>\n",
       "      <td>None</td>\n",
       "      <td>None</td>\n",
       "    </tr>\n",
       "    <tr>\n",
       "      <th>16</th>\n",
       "      <td>kiki</td>\n",
       "      <td>sona</td>\n",
       "      <td>None</td>\n",
       "      <td>None</td>\n",
       "      <td>None</td>\n",
       "      <td>None</td>\n",
       "    </tr>\n",
       "  </tbody>\n",
       "</table>\n",
       "</div>"
      ],
      "text/plain": [
       "        name   owner species   sex       birth       death\n",
       "0     Fluffy  Harold     cat     f  1999-02-04        None\n",
       "1     Fluffy  Harold     cat     f  1999-02-04        None\n",
       "2     doongi    None    None  None        None        None\n",
       "3        abc       1    None  None        None        None\n",
       "4        def       2    None  None        None        None\n",
       "5        ghi       3    None  None        None        None\n",
       "6     Fluffy  Harold     cat     f  1993-02-04  0000-00-00\n",
       "7      Claws    Gwen     cat     m  1994-03-17  0000-00-00\n",
       "8      Buffy  Harold     dog     f  1989-05-13  0000-00-00\n",
       "9       Fang   Benny     dog     m  1990-08-27  0000-00-00\n",
       "10    Bowser   Diane     dog     m  1979-08-31  1995-07-29\n",
       "11    Chirpy    Gwen    bird     f  1998-09-11  0000-00-00\n",
       "12  Whistler    Gwen    bird  None  1997-12-09  0000-00-00\n",
       "13      Slim   Benny   snake     m  1996-04-29  0000-00-00\n",
       "14    KKUKKU    sona     dog  None        None        None\n",
       "15    DDoDDo    sona    lion  None        None        None\n",
       "16      kiki    sona    None  None        None        None"
      ]
     },
     "execution_count": 75,
     "metadata": {},
     "output_type": "execute_result"
    }
   ],
   "source": [
    "import pandas as pd\n",
    "conn=getConn()\n",
    "result = pd.read_sql_query(\"select * from pets\",conn)\n",
    "result"
   ]
  },
  {
   "cell_type": "code",
   "execution_count": 80,
   "id": "938f449e",
   "metadata": {},
   "outputs": [],
   "source": [
    "conn.close()"
   ]
  },
  {
   "cell_type": "code",
   "execution_count": 79,
   "id": "3236f26a",
   "metadata": {},
   "outputs": [],
   "source": [
    "def db_close(conn,cursor):\n",
    "    cursor.close()\n",
    "    conn.close()"
   ]
  },
  {
   "cell_type": "code",
   "execution_count": null,
   "id": "88f09353",
   "metadata": {},
   "outputs": [],
   "source": []
  }
 ],
 "metadata": {
  "kernelspec": {
   "display_name": "Python 3 (ipykernel)",
   "language": "python",
   "name": "python3"
  },
  "language_info": {
   "codemirror_mode": {
    "name": "ipython",
    "version": 3
   },
   "file_extension": ".py",
   "mimetype": "text/x-python",
   "name": "python",
   "nbconvert_exporter": "python",
   "pygments_lexer": "ipython3",
   "version": "3.9.7"
  },
  "toc": {
   "base_numbering": 1,
   "nav_menu": {},
   "number_sections": true,
   "sideBar": true,
   "skip_h1_title": false,
   "title_cell": "Table of Contents",
   "title_sidebar": "Contents",
   "toc_cell": false,
   "toc_position": {},
   "toc_section_display": true,
   "toc_window_display": false
  }
 },
 "nbformat": 4,
 "nbformat_minor": 5
}
