{
 "cells": [
  {
   "cell_type": "code",
   "execution_count": 1,
   "id": "3366fa5e",
   "metadata": {},
   "outputs": [
    {
     "data": {
      "text/html": [
       "<style>.container { width:100% !important; }</style>"
      ],
      "text/plain": [
       "<IPython.core.display.HTML object>"
      ]
     },
     "metadata": {},
     "output_type": "display_data"
    }
   ],
   "source": [
    "from IPython.core.display import display, HTML \n",
    "display(HTML(\"<style>.container { width:100% !important; }</style>\"))\n",
    "#티스토리 업로드 원활하게:-)"
   ]
  },
  {
   "cell_type": "markdown",
   "id": "b691947e",
   "metadata": {},
   "source": [
    "# Python과 SQL 연동하기"
   ]
  },
  {
   "cell_type": "markdown",
   "id": "2a05fbb5",
   "metadata": {},
   "source": [
    "**`순서`**  \n",
    "\n",
    "0. 모듈 설치: !pip install pymysql\n",
    "1. 모듈 import\n",
    "2. db 접속 : db 접속 객체를 얻어온다. (connect 함수)\n",
    " - db 접속이 제대로 이루어지면 <pymysql.connections.connection as ~ ~ > 문구가 뜬다.\n",
    "3. sql 쿼리 작성\n",
    "4. 쿼리 실행 (execute 함수)\n",
    "5. 결과값 얻어오기 (print하여 출력)\n",
    "6. 접속 종료 (connect와 execute close하기)"
   ]
  },
  {
   "cell_type": "code",
   "execution_count": 1,
   "id": "26048d63",
   "metadata": {},
   "outputs": [
    {
     "name": "stdout",
     "output_type": "stream",
     "text": [
      "Requirement already satisfied: pymysql in c:\\users\\light\\anaconda3\\lib\\site-packages (1.0.2)\n"
     ]
    }
   ],
   "source": [
    "!pip install pymysql"
   ]
  },
  {
   "cell_type": "code",
   "execution_count": 2,
   "id": "cb74ce8e",
   "metadata": {},
   "outputs": [],
   "source": [
    "import pymysql"
   ]
  },
  {
   "cell_type": "markdown",
   "id": "0afe63d4",
   "metadata": {},
   "source": [
    "## 기본 (튜플로 얻어오기)"
   ]
  },
  {
   "cell_type": "code",
   "execution_count": 5,
   "id": "26033d1a",
   "metadata": {},
   "outputs": [
    {
     "data": {
      "text/plain": [
       "<pymysql.connections.Connection at 0x21eee465f40>"
      ]
     },
     "execution_count": 5,
     "metadata": {},
     "output_type": "execute_result"
    }
   ],
   "source": [
    "conn= pymysql.connect(user=\"homework\",passwd=\"homework\",db=\"homework\", host=\"localhost\", port=3306)\n",
    "conn"
   ]
  },
  {
   "cell_type": "code",
   "execution_count": 6,
   "id": "b03c460e",
   "metadata": {},
   "outputs": [],
   "source": [
    "cur = conn.cursor()"
   ]
  },
  {
   "cell_type": "code",
   "execution_count": 7,
   "id": "31fe2b44",
   "metadata": {},
   "outputs": [],
   "source": [
    "sql=\"select * from emp;\""
   ]
  },
  {
   "cell_type": "code",
   "execution_count": 9,
   "id": "d59a58c4",
   "metadata": {},
   "outputs": [
    {
     "data": {
      "text/plain": [
       "14"
      ]
     },
     "execution_count": 9,
     "metadata": {},
     "output_type": "execute_result"
    }
   ],
   "source": [
    "cur.execute(sql)"
   ]
  },
  {
   "cell_type": "code",
   "execution_count": 11,
   "id": "896f60c9",
   "metadata": {},
   "outputs": [
    {
     "name": "stdout",
     "output_type": "stream",
     "text": [
      "(Decimal('7369'), 'SMITH', 'CLERK', Decimal('7902'), datetime.date(1980, 12, 17), Decimal('800.00'), None, Decimal('20'))\n",
      "(Decimal('7499'), 'ALLEN', 'SALESMAN', Decimal('7698'), datetime.date(1981, 2, 20), Decimal('1600.00'), Decimal('300.00'), Decimal('30'))\n",
      "(Decimal('7521'), 'WARD', 'SALESMAN', Decimal('7698'), datetime.date(1981, 2, 22), Decimal('1250.00'), Decimal('500.00'), Decimal('30'))\n",
      "(Decimal('7566'), 'JONES', 'MANAGER', Decimal('7839'), datetime.date(1981, 4, 2), Decimal('2975.00'), None, Decimal('20'))\n",
      "(Decimal('7654'), 'MARTIN', 'SALESMAN', Decimal('7698'), datetime.date(1981, 9, 28), Decimal('1250.00'), Decimal('1400.00'), Decimal('30'))\n",
      "(Decimal('7698'), 'BLAKE', 'MANAGER', Decimal('7839'), datetime.date(1981, 5, 1), Decimal('2850.00'), None, Decimal('30'))\n",
      "(Decimal('7782'), 'CLARK', 'MANAGER', Decimal('7839'), datetime.date(1981, 6, 9), Decimal('2450.00'), None, Decimal('10'))\n",
      "(Decimal('7788'), 'SCOTT', 'ANALYST', Decimal('7566'), datetime.date(1987, 6, 28), Decimal('3000.00'), None, Decimal('20'))\n",
      "(Decimal('7839'), 'KING', 'PRESIDENT', None, datetime.date(1981, 11, 17), Decimal('5000.00'), None, Decimal('10'))\n",
      "(Decimal('7844'), 'TURNER', 'SALESMAN', Decimal('7698'), datetime.date(1981, 9, 8), Decimal('1500.00'), Decimal('0.00'), Decimal('30'))\n",
      "(Decimal('7876'), 'ADAMS', 'CLERK', Decimal('7788'), datetime.date(1987, 7, 13), Decimal('1100.00'), None, Decimal('20'))\n",
      "(Decimal('7900'), 'JAMES', 'CLERK', Decimal('7698'), datetime.date(1981, 12, 3), Decimal('950.00'), None, Decimal('30'))\n",
      "(Decimal('7902'), 'FORD', 'ANALYST', Decimal('7566'), datetime.date(1981, 12, 3), Decimal('3000.00'), None, Decimal('20'))\n",
      "(Decimal('7934'), 'MILLER', 'CLERK', Decimal('7782'), datetime.date(1982, 1, 23), Decimal('1300.00'), None, Decimal('10'))\n"
     ]
    }
   ],
   "source": [
    "for i in cur: print(i)"
   ]
  },
  {
   "cell_type": "code",
   "execution_count": 12,
   "id": "48f2263f",
   "metadata": {},
   "outputs": [],
   "source": [
    "cur.close()\n",
    "conn.close()"
   ]
  },
  {
   "cell_type": "markdown",
   "id": "32d3afba",
   "metadata": {},
   "source": [
    "## 딕셔너리로 얻어오기"
   ]
  },
  {
   "cell_type": "code",
   "execution_count": 13,
   "id": "61ebc0af",
   "metadata": {},
   "outputs": [],
   "source": [
    "conn=pymysql.connect(host=\"localhost\",db=\"homework\",port=3306,user=\"homework\",passwd=\"homework\")"
   ]
  },
  {
   "cell_type": "code",
   "execution_count": 14,
   "id": "1a3c0152",
   "metadata": {},
   "outputs": [
    {
     "data": {
      "text/plain": [
       "<pymysql.connections.Connection at 0x21eee462910>"
      ]
     },
     "execution_count": 14,
     "metadata": {},
     "output_type": "execute_result"
    }
   ],
   "source": [
    "conn"
   ]
  },
  {
   "cell_type": "code",
   "execution_count": 17,
   "id": "3bc8e7e6",
   "metadata": {},
   "outputs": [],
   "source": [
    "dictcur=conn.cursor(pymysql.cursors.DictCursor)\n",
    "sql=\"select * from emp;\""
   ]
  },
  {
   "cell_type": "code",
   "execution_count": 18,
   "id": "912364d5",
   "metadata": {},
   "outputs": [
    {
     "data": {
      "text/plain": [
       "14"
      ]
     },
     "execution_count": 18,
     "metadata": {},
     "output_type": "execute_result"
    }
   ],
   "source": [
    "dictcur.execute(sql)"
   ]
  },
  {
   "cell_type": "code",
   "execution_count": 19,
   "id": "032f3849",
   "metadata": {},
   "outputs": [
    {
     "name": "stdout",
     "output_type": "stream",
     "text": [
      "{'EMPNO': Decimal('7369'), 'ENAME': 'SMITH', 'JOB': 'CLERK', 'MGR': Decimal('7902'), 'HIREDATE': datetime.date(1980, 12, 17), 'SAL': Decimal('800.00'), 'COMM': None, 'DEPTNO': Decimal('20')}\n",
      "{'EMPNO': Decimal('7499'), 'ENAME': 'ALLEN', 'JOB': 'SALESMAN', 'MGR': Decimal('7698'), 'HIREDATE': datetime.date(1981, 2, 20), 'SAL': Decimal('1600.00'), 'COMM': Decimal('300.00'), 'DEPTNO': Decimal('30')}\n",
      "{'EMPNO': Decimal('7521'), 'ENAME': 'WARD', 'JOB': 'SALESMAN', 'MGR': Decimal('7698'), 'HIREDATE': datetime.date(1981, 2, 22), 'SAL': Decimal('1250.00'), 'COMM': Decimal('500.00'), 'DEPTNO': Decimal('30')}\n",
      "{'EMPNO': Decimal('7566'), 'ENAME': 'JONES', 'JOB': 'MANAGER', 'MGR': Decimal('7839'), 'HIREDATE': datetime.date(1981, 4, 2), 'SAL': Decimal('2975.00'), 'COMM': None, 'DEPTNO': Decimal('20')}\n",
      "{'EMPNO': Decimal('7654'), 'ENAME': 'MARTIN', 'JOB': 'SALESMAN', 'MGR': Decimal('7698'), 'HIREDATE': datetime.date(1981, 9, 28), 'SAL': Decimal('1250.00'), 'COMM': Decimal('1400.00'), 'DEPTNO': Decimal('30')}\n",
      "{'EMPNO': Decimal('7698'), 'ENAME': 'BLAKE', 'JOB': 'MANAGER', 'MGR': Decimal('7839'), 'HIREDATE': datetime.date(1981, 5, 1), 'SAL': Decimal('2850.00'), 'COMM': None, 'DEPTNO': Decimal('30')}\n",
      "{'EMPNO': Decimal('7782'), 'ENAME': 'CLARK', 'JOB': 'MANAGER', 'MGR': Decimal('7839'), 'HIREDATE': datetime.date(1981, 6, 9), 'SAL': Decimal('2450.00'), 'COMM': None, 'DEPTNO': Decimal('10')}\n",
      "{'EMPNO': Decimal('7788'), 'ENAME': 'SCOTT', 'JOB': 'ANALYST', 'MGR': Decimal('7566'), 'HIREDATE': datetime.date(1987, 6, 28), 'SAL': Decimal('3000.00'), 'COMM': None, 'DEPTNO': Decimal('20')}\n",
      "{'EMPNO': Decimal('7839'), 'ENAME': 'KING', 'JOB': 'PRESIDENT', 'MGR': None, 'HIREDATE': datetime.date(1981, 11, 17), 'SAL': Decimal('5000.00'), 'COMM': None, 'DEPTNO': Decimal('10')}\n",
      "{'EMPNO': Decimal('7844'), 'ENAME': 'TURNER', 'JOB': 'SALESMAN', 'MGR': Decimal('7698'), 'HIREDATE': datetime.date(1981, 9, 8), 'SAL': Decimal('1500.00'), 'COMM': Decimal('0.00'), 'DEPTNO': Decimal('30')}\n",
      "{'EMPNO': Decimal('7876'), 'ENAME': 'ADAMS', 'JOB': 'CLERK', 'MGR': Decimal('7788'), 'HIREDATE': datetime.date(1987, 7, 13), 'SAL': Decimal('1100.00'), 'COMM': None, 'DEPTNO': Decimal('20')}\n",
      "{'EMPNO': Decimal('7900'), 'ENAME': 'JAMES', 'JOB': 'CLERK', 'MGR': Decimal('7698'), 'HIREDATE': datetime.date(1981, 12, 3), 'SAL': Decimal('950.00'), 'COMM': None, 'DEPTNO': Decimal('30')}\n",
      "{'EMPNO': Decimal('7902'), 'ENAME': 'FORD', 'JOB': 'ANALYST', 'MGR': Decimal('7566'), 'HIREDATE': datetime.date(1981, 12, 3), 'SAL': Decimal('3000.00'), 'COMM': None, 'DEPTNO': Decimal('20')}\n",
      "{'EMPNO': Decimal('7934'), 'ENAME': 'MILLER', 'JOB': 'CLERK', 'MGR': Decimal('7782'), 'HIREDATE': datetime.date(1982, 1, 23), 'SAL': Decimal('1300.00'), 'COMM': None, 'DEPTNO': Decimal('10')}\n"
     ]
    }
   ],
   "source": [
    "for i in dictcur: \n",
    "    print(i)"
   ]
  },
  {
   "cell_type": "code",
   "execution_count": 20,
   "id": "39c4f510",
   "metadata": {},
   "outputs": [],
   "source": [
    "dictcur.close()\n",
    "conn.close()"
   ]
  },
  {
   "cell_type": "markdown",
   "id": "da81cb4a",
   "metadata": {},
   "source": [
    "## 연결된 sql 테이블에 데이터 입력하기 (+ connect과정을 함수 지정하기)"
   ]
  },
  {
   "cell_type": "code",
   "execution_count": 22,
   "id": "c9bb9966",
   "metadata": {},
   "outputs": [],
   "source": [
    "def getConn():\n",
    "    conn=pymysql.connect(host=\"localhost\",db=\"homework\",port=3306,user=\"homework\",passwd=\"homework\")\n",
    "    return conn"
   ]
  },
  {
   "cell_type": "code",
   "execution_count": 30,
   "id": "3a69d1ba",
   "metadata": {},
   "outputs": [
    {
     "name": "stdout",
     "output_type": "stream",
     "text": [
      "사원 번호를 입력해주세요! :7777\n",
      "사원 명을 입력해주세요! :SONA\n",
      "직책명을 입력해주세요! :NURSE\n"
     ]
    }
   ],
   "source": [
    "empno_inp = input(\"사원 번호를 입력해주세요! :\")\n",
    "ename_inp = input(\"사원 명을 입력해주세요! :\")\n",
    "job_inp = input(\"직책명을 입력해주세요! :\")"
   ]
  },
  {
   "cell_type": "code",
   "execution_count": 31,
   "id": "93231b71",
   "metadata": {},
   "outputs": [],
   "source": [
    "conn = getConn()\n",
    "cur = conn.cursor()\n",
    "sql ='''\n",
    "insert into emp(empno,ename,job)\n",
    "values(%s,%s,%s)'''"
   ]
  },
  {
   "cell_type": "code",
   "execution_count": 32,
   "id": "a17bf3e8",
   "metadata": {},
   "outputs": [
    {
     "data": {
      "text/plain": [
       "1"
      ]
     },
     "execution_count": 32,
     "metadata": {},
     "output_type": "execute_result"
    }
   ],
   "source": [
    "cur.execute(sql,(empno_inp,ename_inp,job_inp))"
   ]
  },
  {
   "cell_type": "code",
   "execution_count": 33,
   "id": "379a3477",
   "metadata": {},
   "outputs": [],
   "source": [
    "conn.commit()"
   ]
  },
  {
   "cell_type": "code",
   "execution_count": 34,
   "id": "86954871",
   "metadata": {},
   "outputs": [],
   "source": [
    "cur.close()\n",
    "conn.close()"
   ]
  },
  {
   "cell_type": "markdown",
   "id": "5a2182b1",
   "metadata": {},
   "source": [
    "## 결과 값 개수 정하기 (fetch)"
   ]
  },
  {
   "cell_type": "markdown",
   "id": "21b784e7",
   "metadata": {},
   "source": [
    "* fetchone(): 1개만\n",
    "* fetchmany(숫자): 입력한 숫자만큼\n",
    "* fetchall(): 전체"
   ]
  },
  {
   "cell_type": "code",
   "execution_count": 35,
   "id": "e05b0a53",
   "metadata": {},
   "outputs": [],
   "source": [
    "conn = getConn()\n",
    "cur= conn.cursor()\n",
    "sql=\"select * from emp\""
   ]
  },
  {
   "cell_type": "code",
   "execution_count": 38,
   "id": "a9d1f8e7",
   "metadata": {},
   "outputs": [],
   "source": [
    "cur.execute(sql)\n",
    "rows = cur.fetchmany(2)"
   ]
  },
  {
   "cell_type": "code",
   "execution_count": 39,
   "id": "92b35a24",
   "metadata": {},
   "outputs": [
    {
     "data": {
      "text/plain": [
       "((Decimal('7369'),\n",
       "  'SMITH',\n",
       "  'CLERK',\n",
       "  Decimal('7902'),\n",
       "  datetime.date(1980, 12, 17),\n",
       "  Decimal('800.00'),\n",
       "  None,\n",
       "  Decimal('20')),\n",
       " (Decimal('7499'),\n",
       "  'ALLEN',\n",
       "  'SALESMAN',\n",
       "  Decimal('7698'),\n",
       "  datetime.date(1981, 2, 20),\n",
       "  Decimal('1600.00'),\n",
       "  Decimal('300.00'),\n",
       "  Decimal('30')))"
      ]
     },
     "execution_count": 39,
     "metadata": {},
     "output_type": "execute_result"
    }
   ],
   "source": [
    "rows"
   ]
  },
  {
   "cell_type": "markdown",
   "id": "87a36d3e",
   "metadata": {},
   "source": [
    "## pandas로 출력"
   ]
  },
  {
   "cell_type": "code",
   "execution_count": 46,
   "id": "0b3f5021",
   "metadata": {},
   "outputs": [],
   "source": [
    "import pandas as pd\n",
    "conn = getConn()\n",
    "cur=conn.cursor()"
   ]
  },
  {
   "cell_type": "code",
   "execution_count": 48,
   "id": "f8ef8a35",
   "metadata": {},
   "outputs": [],
   "source": [
    "result = pd.read_sql_query(\"select * from emp;\",conn)"
   ]
  },
  {
   "cell_type": "code",
   "execution_count": 50,
   "id": "229b3d6f",
   "metadata": {},
   "outputs": [
    {
     "data": {
      "text/html": [
       "<div>\n",
       "<style scoped>\n",
       "    .dataframe tbody tr th:only-of-type {\n",
       "        vertical-align: middle;\n",
       "    }\n",
       "\n",
       "    .dataframe tbody tr th {\n",
       "        vertical-align: top;\n",
       "    }\n",
       "\n",
       "    .dataframe thead th {\n",
       "        text-align: right;\n",
       "    }\n",
       "</style>\n",
       "<table border=\"1\" class=\"dataframe\">\n",
       "  <thead>\n",
       "    <tr style=\"text-align: right;\">\n",
       "      <th></th>\n",
       "      <th>EMPNO</th>\n",
       "      <th>ENAME</th>\n",
       "      <th>JOB</th>\n",
       "      <th>MGR</th>\n",
       "      <th>HIREDATE</th>\n",
       "      <th>SAL</th>\n",
       "      <th>COMM</th>\n",
       "      <th>DEPTNO</th>\n",
       "    </tr>\n",
       "  </thead>\n",
       "  <tbody>\n",
       "    <tr>\n",
       "      <th>0</th>\n",
       "      <td>7369.0</td>\n",
       "      <td>SMITH</td>\n",
       "      <td>CLERK</td>\n",
       "      <td>7902.0</td>\n",
       "      <td>1980-12-17</td>\n",
       "      <td>800.0</td>\n",
       "      <td>NaN</td>\n",
       "      <td>20.0</td>\n",
       "    </tr>\n",
       "    <tr>\n",
       "      <th>1</th>\n",
       "      <td>7499.0</td>\n",
       "      <td>ALLEN</td>\n",
       "      <td>SALESMAN</td>\n",
       "      <td>7698.0</td>\n",
       "      <td>1981-02-20</td>\n",
       "      <td>1600.0</td>\n",
       "      <td>300.0</td>\n",
       "      <td>30.0</td>\n",
       "    </tr>\n",
       "    <tr>\n",
       "      <th>2</th>\n",
       "      <td>7521.0</td>\n",
       "      <td>WARD</td>\n",
       "      <td>SALESMAN</td>\n",
       "      <td>7698.0</td>\n",
       "      <td>1981-02-22</td>\n",
       "      <td>1250.0</td>\n",
       "      <td>500.0</td>\n",
       "      <td>30.0</td>\n",
       "    </tr>\n",
       "    <tr>\n",
       "      <th>3</th>\n",
       "      <td>7566.0</td>\n",
       "      <td>JONES</td>\n",
       "      <td>MANAGER</td>\n",
       "      <td>7839.0</td>\n",
       "      <td>1981-04-02</td>\n",
       "      <td>2975.0</td>\n",
       "      <td>NaN</td>\n",
       "      <td>20.0</td>\n",
       "    </tr>\n",
       "    <tr>\n",
       "      <th>4</th>\n",
       "      <td>7654.0</td>\n",
       "      <td>MARTIN</td>\n",
       "      <td>SALESMAN</td>\n",
       "      <td>7698.0</td>\n",
       "      <td>1981-09-28</td>\n",
       "      <td>1250.0</td>\n",
       "      <td>1400.0</td>\n",
       "      <td>30.0</td>\n",
       "    </tr>\n",
       "    <tr>\n",
       "      <th>5</th>\n",
       "      <td>7698.0</td>\n",
       "      <td>BLAKE</td>\n",
       "      <td>MANAGER</td>\n",
       "      <td>7839.0</td>\n",
       "      <td>1981-05-01</td>\n",
       "      <td>2850.0</td>\n",
       "      <td>NaN</td>\n",
       "      <td>30.0</td>\n",
       "    </tr>\n",
       "    <tr>\n",
       "      <th>6</th>\n",
       "      <td>7777.0</td>\n",
       "      <td>SONA</td>\n",
       "      <td>NURSE</td>\n",
       "      <td>NaN</td>\n",
       "      <td>None</td>\n",
       "      <td>NaN</td>\n",
       "      <td>NaN</td>\n",
       "      <td>NaN</td>\n",
       "    </tr>\n",
       "    <tr>\n",
       "      <th>7</th>\n",
       "      <td>7782.0</td>\n",
       "      <td>CLARK</td>\n",
       "      <td>MANAGER</td>\n",
       "      <td>7839.0</td>\n",
       "      <td>1981-06-09</td>\n",
       "      <td>2450.0</td>\n",
       "      <td>NaN</td>\n",
       "      <td>10.0</td>\n",
       "    </tr>\n",
       "    <tr>\n",
       "      <th>8</th>\n",
       "      <td>7788.0</td>\n",
       "      <td>SCOTT</td>\n",
       "      <td>ANALYST</td>\n",
       "      <td>7566.0</td>\n",
       "      <td>1987-06-28</td>\n",
       "      <td>3000.0</td>\n",
       "      <td>NaN</td>\n",
       "      <td>20.0</td>\n",
       "    </tr>\n",
       "    <tr>\n",
       "      <th>9</th>\n",
       "      <td>7839.0</td>\n",
       "      <td>KING</td>\n",
       "      <td>PRESIDENT</td>\n",
       "      <td>NaN</td>\n",
       "      <td>1981-11-17</td>\n",
       "      <td>5000.0</td>\n",
       "      <td>NaN</td>\n",
       "      <td>10.0</td>\n",
       "    </tr>\n",
       "    <tr>\n",
       "      <th>10</th>\n",
       "      <td>7844.0</td>\n",
       "      <td>TURNER</td>\n",
       "      <td>SALESMAN</td>\n",
       "      <td>7698.0</td>\n",
       "      <td>1981-09-08</td>\n",
       "      <td>1500.0</td>\n",
       "      <td>0.0</td>\n",
       "      <td>30.0</td>\n",
       "    </tr>\n",
       "    <tr>\n",
       "      <th>11</th>\n",
       "      <td>7876.0</td>\n",
       "      <td>ADAMS</td>\n",
       "      <td>CLERK</td>\n",
       "      <td>7788.0</td>\n",
       "      <td>1987-07-13</td>\n",
       "      <td>1100.0</td>\n",
       "      <td>NaN</td>\n",
       "      <td>20.0</td>\n",
       "    </tr>\n",
       "    <tr>\n",
       "      <th>12</th>\n",
       "      <td>7900.0</td>\n",
       "      <td>JAMES</td>\n",
       "      <td>CLERK</td>\n",
       "      <td>7698.0</td>\n",
       "      <td>1981-12-03</td>\n",
       "      <td>950.0</td>\n",
       "      <td>NaN</td>\n",
       "      <td>30.0</td>\n",
       "    </tr>\n",
       "    <tr>\n",
       "      <th>13</th>\n",
       "      <td>7902.0</td>\n",
       "      <td>FORD</td>\n",
       "      <td>ANALYST</td>\n",
       "      <td>7566.0</td>\n",
       "      <td>1981-12-03</td>\n",
       "      <td>3000.0</td>\n",
       "      <td>NaN</td>\n",
       "      <td>20.0</td>\n",
       "    </tr>\n",
       "    <tr>\n",
       "      <th>14</th>\n",
       "      <td>7934.0</td>\n",
       "      <td>MILLER</td>\n",
       "      <td>CLERK</td>\n",
       "      <td>7782.0</td>\n",
       "      <td>1982-01-23</td>\n",
       "      <td>1300.0</td>\n",
       "      <td>NaN</td>\n",
       "      <td>10.0</td>\n",
       "    </tr>\n",
       "  </tbody>\n",
       "</table>\n",
       "</div>"
      ],
      "text/plain": [
       "     EMPNO   ENAME        JOB     MGR    HIREDATE     SAL    COMM  DEPTNO\n",
       "0   7369.0   SMITH      CLERK  7902.0  1980-12-17   800.0     NaN    20.0\n",
       "1   7499.0   ALLEN   SALESMAN  7698.0  1981-02-20  1600.0   300.0    30.0\n",
       "2   7521.0    WARD   SALESMAN  7698.0  1981-02-22  1250.0   500.0    30.0\n",
       "3   7566.0   JONES    MANAGER  7839.0  1981-04-02  2975.0     NaN    20.0\n",
       "4   7654.0  MARTIN   SALESMAN  7698.0  1981-09-28  1250.0  1400.0    30.0\n",
       "5   7698.0   BLAKE    MANAGER  7839.0  1981-05-01  2850.0     NaN    30.0\n",
       "6   7777.0    SONA      NURSE     NaN        None     NaN     NaN     NaN\n",
       "7   7782.0   CLARK    MANAGER  7839.0  1981-06-09  2450.0     NaN    10.0\n",
       "8   7788.0   SCOTT    ANALYST  7566.0  1987-06-28  3000.0     NaN    20.0\n",
       "9   7839.0    KING  PRESIDENT     NaN  1981-11-17  5000.0     NaN    10.0\n",
       "10  7844.0  TURNER   SALESMAN  7698.0  1981-09-08  1500.0     0.0    30.0\n",
       "11  7876.0   ADAMS      CLERK  7788.0  1987-07-13  1100.0     NaN    20.0\n",
       "12  7900.0   JAMES      CLERK  7698.0  1981-12-03   950.0     NaN    30.0\n",
       "13  7902.0    FORD    ANALYST  7566.0  1981-12-03  3000.0     NaN    20.0\n",
       "14  7934.0  MILLER      CLERK  7782.0  1982-01-23  1300.0     NaN    10.0"
      ]
     },
     "execution_count": 50,
     "metadata": {},
     "output_type": "execute_result"
    }
   ],
   "source": [
    "result"
   ]
  },
  {
   "cell_type": "code",
   "execution_count": 51,
   "id": "7466d1c9",
   "metadata": {},
   "outputs": [],
   "source": [
    "cur.close()\n",
    "conn.close()"
   ]
  },
  {
   "cell_type": "code",
   "execution_count": null,
   "id": "18064029",
   "metadata": {},
   "outputs": [],
   "source": []
  }
 ],
 "metadata": {
  "kernelspec": {
   "display_name": "Python 3 (ipykernel)",
   "language": "python",
   "name": "python3"
  },
  "language_info": {
   "codemirror_mode": {
    "name": "ipython",
    "version": 3
   },
   "file_extension": ".py",
   "mimetype": "text/x-python",
   "name": "python",
   "nbconvert_exporter": "python",
   "pygments_lexer": "ipython3",
   "version": "3.9.7"
  },
  "toc": {
   "base_numbering": 1,
   "nav_menu": {},
   "number_sections": true,
   "sideBar": true,
   "skip_h1_title": false,
   "title_cell": "Table of Contents",
   "title_sidebar": "Contents",
   "toc_cell": false,
   "toc_position": {},
   "toc_section_display": true,
   "toc_window_display": true
  }
 },
 "nbformat": 4,
 "nbformat_minor": 5
}
