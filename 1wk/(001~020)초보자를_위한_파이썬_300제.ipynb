{
 "cells": [
  {
   "cell_type": "markdown",
   "id": "22de123d",
   "metadata": {},
   "source": [
    "# 파이썬 시작하기"
   ]
  },
  {
   "cell_type": "code",
   "execution_count": 1,
   "id": "d4111354",
   "metadata": {},
   "outputs": [
    {
     "name": "stdout",
     "output_type": "stream",
     "text": [
      "Hello World\n"
     ]
    }
   ],
   "source": [
    "#001 print 기초\n",
    "\n",
    "print(\"Hello World\")"
   ]
  },
  {
   "cell_type": "code",
   "execution_count": 2,
   "id": "17faa8cc",
   "metadata": {},
   "outputs": [
    {
     "name": "stdout",
     "output_type": "stream",
     "text": [
      "Mary's cosmetic\n"
     ]
    }
   ],
   "source": [
    "#002 print 기초\n",
    "print(\"Mary's cosmetic\")"
   ]
  },
  {
   "cell_type": "code",
   "execution_count": 3,
   "id": "9f150fb5",
   "metadata": {},
   "outputs": [
    {
     "name": "stdout",
     "output_type": "stream",
     "text": [
      "신씨가 소리질렀다. \"도둑이야\".\n"
     ]
    }
   ],
   "source": [
    "#003 print 기초\n",
    "print('신씨가 소리질렀다. \"도둑이야\".')"
   ]
  },
  {
   "cell_type": "code",
   "execution_count": 6,
   "id": "3b305ff3",
   "metadata": {},
   "outputs": [
    {
     "name": "stdout",
     "output_type": "stream",
     "text": [
      "C:\\Windows\n"
     ]
    }
   ],
   "source": [
    "#004 print 기초\n",
    "print(\"C:\\Windows\")"
   ]
  },
  {
   "cell_type": "code",
   "execution_count": 7,
   "id": "ca13a04f",
   "metadata": {},
   "outputs": [
    {
     "name": "stdout",
     "output_type": "stream",
     "text": [
      "안녕하세요.\n",
      "만나서\t\t반갑습니다.\n"
     ]
    }
   ],
   "source": [
    "#005 print 탭과 줄바꿈\n",
    "print(\"안녕하세요.\\n만나서\\t\\t반갑습니다.\")"
   ]
  },
  {
   "cell_type": "markdown",
   "id": "4b00eae1",
   "metadata": {},
   "source": [
    "* \\n은 줄바꿈 \\t은 tab"
   ]
  },
  {
   "cell_type": "code",
   "execution_count": 9,
   "id": "cb57fae4",
   "metadata": {},
   "outputs": [],
   "source": [
    "#006 print 여러 데이터 출력\n",
    "#\"오늘은 일요일\"으로 출력됩니다."
   ]
  },
  {
   "cell_type": "code",
   "execution_count": 13,
   "id": "e8672ba1",
   "metadata": {},
   "outputs": [
    {
     "name": "stdout",
     "output_type": "stream",
     "text": [
      "naver;kakao;sk;samsung\n"
     ]
    }
   ],
   "source": [
    "#007 print 기초\n",
    "print(\"naver\",\"kakao\",\"sk\",\"samsung\", sep=\";\")"
   ]
  },
  {
   "cell_type": "code",
   "execution_count": 14,
   "id": "2a017fe7",
   "metadata": {},
   "outputs": [
    {
     "name": "stdout",
     "output_type": "stream",
     "text": [
      "naver/kakao/sk/samsung\n"
     ]
    }
   ],
   "source": [
    "#008 print 기초\n",
    "print(\"naver\",\"kakao\",\"sk\",\"samsung\", sep=\"/\")"
   ]
  },
  {
   "cell_type": "code",
   "execution_count": 17,
   "id": "6b05a2e2",
   "metadata": {},
   "outputs": [
    {
     "name": "stdout",
     "output_type": "stream",
     "text": [
      "firstsecond\n"
     ]
    }
   ],
   "source": [
    "# 009 print 줄바꿈\n",
    "print(\"first\",end=\"\");print(\"second\")"
   ]
  },
  {
   "cell_type": "code",
   "execution_count": 18,
   "id": "6e3a820b",
   "metadata": {},
   "outputs": [
    {
     "name": "stdout",
     "output_type": "stream",
     "text": [
      "1.6666666666666667\n"
     ]
    }
   ],
   "source": [
    "# 010 연산 결과 출력\n",
    "print(5/3)"
   ]
  },
  {
   "cell_type": "markdown",
   "id": "70b11ed5",
   "metadata": {},
   "source": [
    "# 파이썬 변수"
   ]
  },
  {
   "cell_type": "code",
   "execution_count": 19,
   "id": "f91ae6fe",
   "metadata": {},
   "outputs": [
    {
     "name": "stdout",
     "output_type": "stream",
     "text": [
      "500000\n"
     ]
    }
   ],
   "source": [
    "# 011 변수 사용하기\n",
    "삼성전자 = 50000\n",
    "총평가금액 = 삼성전자*10\n",
    "print(총평가금액)"
   ]
  },
  {
   "cell_type": "code",
   "execution_count": 21,
   "id": "5950317c",
   "metadata": {},
   "outputs": [
    {
     "name": "stdout",
     "output_type": "stream",
     "text": [
      "298000000000000 <class 'int'>\n",
      "50000 <class 'int'>\n",
      "15.79 <class 'float'>\n"
     ]
    }
   ],
   "source": [
    "# 012 변수 사용하기\n",
    "시가총액 = 298000000000000 #298조\n",
    "현재가 = 50000\n",
    "PER = 15.79\n",
    "\n",
    "print(시가총액, type(시가총액))\n",
    "print(현재가, type(현재가))\n",
    "print(PER, type(PER))"
   ]
  },
  {
   "cell_type": "code",
   "execution_count": 22,
   "id": "77eebd29",
   "metadata": {},
   "outputs": [
    {
     "name": "stdout",
     "output_type": "stream",
     "text": [
      "hello! python\n"
     ]
    }
   ],
   "source": [
    "# 013 문자열 출력\n",
    "s = \"hello\"\n",
    "t = \"python\"\n",
    "\n",
    "print(s,t,sep=\"! \")"
   ]
  },
  {
   "cell_type": "code",
   "execution_count": 23,
   "id": "22530ed8",
   "metadata": {},
   "outputs": [
    {
     "name": "stdout",
     "output_type": "stream",
     "text": [
      "8\n"
     ]
    }
   ],
   "source": [
    "# 014 파이썬을 이용한 값 계산\n",
    "print(2+2*3)"
   ]
  },
  {
   "cell_type": "code",
   "execution_count": 25,
   "id": "a18186e3",
   "metadata": {},
   "outputs": [
    {
     "name": "stdout",
     "output_type": "stream",
     "text": [
      "<class 'str'>\n"
     ]
    }
   ],
   "source": [
    "# 015 type 함수\n",
    "a=\"132\"\n",
    "print(type(a))"
   ]
  },
  {
   "cell_type": "code",
   "execution_count": 31,
   "id": "1cfde461",
   "metadata": {},
   "outputs": [
    {
     "name": "stdout",
     "output_type": "stream",
     "text": [
      "720 <class 'int'>\n"
     ]
    }
   ],
   "source": [
    "# 016 문자열을 정수로 변환\n",
    "num_str = \"720\"\n",
    "print(int(num_str), type(int(num_str)))"
   ]
  },
  {
   "cell_type": "code",
   "execution_count": 30,
   "id": "dd9c0393",
   "metadata": {},
   "outputs": [
    {
     "name": "stdout",
     "output_type": "stream",
     "text": [
      "15.79 <class 'float'>\n"
     ]
    }
   ],
   "source": [
    "# 018 문자열을 실수로 변환\n",
    "print(float(\"15.79\"), type(float(\"15.79\")))"
   ]
  },
  {
   "cell_type": "code",
   "execution_count": 33,
   "id": "e760d84f",
   "metadata": {},
   "outputs": [
    {
     "name": "stdout",
     "output_type": "stream",
     "text": [
      "2017\n",
      "2018\n",
      "2019\n"
     ]
    }
   ],
   "source": [
    "# 019 문자열을 정수로 변환\n",
    "year = \"2020\"\n",
    "print(int(year)-3)\n",
    "print(int(year)-2)\n",
    "print(int(year)-1)"
   ]
  },
  {
   "cell_type": "code",
   "execution_count": 36,
   "id": "71ebc1ea",
   "metadata": {},
   "outputs": [
    {
     "name": "stdout",
     "output_type": "stream",
     "text": [
      "1749024\n"
     ]
    }
   ],
   "source": [
    "# 020 파이썬 계산\n",
    "m_price= 48584\n",
    "month= 36\n",
    "print(m_price * month)"
   ]
  }
 ],
 "metadata": {
  "kernelspec": {
   "display_name": "Python 3 (ipykernel)",
   "language": "python",
   "name": "python3"
  },
  "language_info": {
   "codemirror_mode": {
    "name": "ipython",
    "version": 3
   },
   "file_extension": ".py",
   "mimetype": "text/x-python",
   "name": "python",
   "nbconvert_exporter": "python",
   "pygments_lexer": "ipython3",
   "version": "3.9.7"
  },
  "toc": {
   "base_numbering": 1,
   "nav_menu": {},
   "number_sections": true,
   "sideBar": true,
   "skip_h1_title": false,
   "title_cell": "Table of Contents",
   "title_sidebar": "Contents",
   "toc_cell": false,
   "toc_position": {},
   "toc_section_display": true,
   "toc_window_display": false
  }
 },
 "nbformat": 4,
 "nbformat_minor": 5
}
