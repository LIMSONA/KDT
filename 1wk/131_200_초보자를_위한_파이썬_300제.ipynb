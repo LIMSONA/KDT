{
  "nbformat": 4,
  "nbformat_minor": 0,
  "metadata": {
    "colab": {
      "name": "131_200_초보자를_위한_파이썬_300제.ipynb",
      "provenance": [],
      "collapsed_sections": []
    },
    "kernelspec": {
      "name": "python3",
      "display_name": "Python 3"
    },
    "language_info": {
      "name": "python"
    }
  },
  "cells": [
    {
      "cell_type": "code",
      "execution_count": 1,
      "metadata": {
        "id": "esEfewhKYzPA",
        "colab": {
          "base_uri": "https://localhost:8080/"
        },
        "outputId": "9bf00e99-cb87-4091-b5af-963738280db9"
      },
      "outputs": [
        {
          "output_type": "stream",
          "name": "stdout",
          "text": [
            "사과\n",
            "귤\n",
            "수박\n"
          ]
        }
      ],
      "source": [
        "# 131\n",
        "과일 = [\"사과\", \"귤\", \"수박\"]\n",
        "for 변수 in 과일:\n",
        "    print(변수) # 과일이 줄바꿈으로 출력"
      ]
    },
    {
      "cell_type": "code",
      "source": [
        "# 132\n",
        "과일 = [\"사과\", \"귤\", \"수박\"]\n",
        "for 변수 in 과일:\n",
        "  print(\"#####\") #과일리스트 들어있는 갯수만큼 반복되어 출력"
      ],
      "metadata": {
        "colab": {
          "base_uri": "https://localhost:8080/"
        },
        "id": "WTcVw5N_A2gC",
        "outputId": "dd775f51-a7b7-40d4-c044-c14551f1f295"
      },
      "execution_count": 2,
      "outputs": [
        {
          "output_type": "stream",
          "name": "stdout",
          "text": [
            "#####\n",
            "#####\n",
            "#####\n"
          ]
        }
      ]
    },
    {
      "cell_type": "code",
      "source": [
        "# 133 동일한 식\n",
        "print('\"A\"')\n",
        "print('\"B\"')\n",
        "print('\"C\"')"
      ],
      "metadata": {
        "colab": {
          "base_uri": "https://localhost:8080/"
        },
        "id": "wrbYLYViBUCg",
        "outputId": "567546b7-b633-4557-e808-14e023553310"
      },
      "execution_count": 5,
      "outputs": [
        {
          "output_type": "stream",
          "name": "stdout",
          "text": [
            "A\n",
            "B\n",
            "C\n"
          ]
        }
      ]
    },
    {
      "cell_type": "code",
      "source": [
        "# 134 \n",
        "print('출력: \"A\"')\n",
        "print('출력: \"B\"')\n",
        "print('출력: \"C\"')"
      ],
      "metadata": {
        "colab": {
          "base_uri": "https://localhost:8080/"
        },
        "id": "pYnm0l38Bkgc",
        "outputId": "c1e62059-4826-4781-c56b-fca2419491a4"
      },
      "execution_count": 8,
      "outputs": [
        {
          "output_type": "stream",
          "name": "stdout",
          "text": [
            "출력: \"A\"\n",
            "출력: \"B\"\n",
            "출력: \"C\"\n"
          ]
        }
      ]
    },
    {
      "cell_type": "code",
      "source": [
        "# 135\n",
        "print('변환:',\"A\".lower())\n",
        "print('변환:',\"B\".lower())\n",
        "print('변환:',\"C\".lower())"
      ],
      "metadata": {
        "colab": {
          "base_uri": "https://localhost:8080/"
        },
        "id": "5V-npfrLCFsv",
        "outputId": "a6eb7e12-fe49-42e7-d889-b56dd0b848ac"
      },
      "execution_count": 10,
      "outputs": [
        {
          "output_type": "stream",
          "name": "stdout",
          "text": [
            "변환: a\n",
            "변환: b\n",
            "변환: c\n"
          ]
        }
      ]
    },
    {
      "cell_type": "code",
      "source": [
        "# 136\n",
        "변수=[10,20,30]\n",
        "\n",
        "for i in 변수:\n",
        "  print(i)"
      ],
      "metadata": {
        "colab": {
          "base_uri": "https://localhost:8080/"
        },
        "id": "Xh1q1-StChq8",
        "outputId": "ecc82366-7010-42c2-b76b-da1e920cea7a"
      },
      "execution_count": 11,
      "outputs": [
        {
          "output_type": "stream",
          "name": "stdout",
          "text": [
            "10\n",
            "20\n",
            "30\n"
          ]
        }
      ]
    },
    {
      "cell_type": "code",
      "source": [
        "# 137\n",
        "for i in range(10,40,10):\n",
        "  print(i)"
      ],
      "metadata": {
        "colab": {
          "base_uri": "https://localhost:8080/"
        },
        "id": "Au8xMG-xCrxL",
        "outputId": "1ffb850e-77a0-4bd4-c87f-483dd3d8780c"
      },
      "execution_count": 12,
      "outputs": [
        {
          "output_type": "stream",
          "name": "stdout",
          "text": [
            "10\n",
            "20\n",
            "30\n"
          ]
        }
      ]
    },
    {
      "cell_type": "code",
      "source": [
        "# 138\n",
        "for i in range(10,40,10):\n",
        "  print(i)\n",
        "  print(\"-------\")"
      ],
      "metadata": {
        "colab": {
          "base_uri": "https://localhost:8080/"
        },
        "id": "YyFwulXxCz3c",
        "outputId": "27767466-26cb-4474-9b4c-aca87908b98b"
      },
      "execution_count": 13,
      "outputs": [
        {
          "output_type": "stream",
          "name": "stdout",
          "text": [
            "10\n",
            "-------\n",
            "20\n",
            "-------\n",
            "30\n",
            "-------\n"
          ]
        }
      ]
    },
    {
      "cell_type": "code",
      "source": [
        "# 139\n",
        "print(\"++++\")\n",
        "for i in range(10,40,10):\n",
        "  print(i)"
      ],
      "metadata": {
        "colab": {
          "base_uri": "https://localhost:8080/"
        },
        "id": "ejOakhGkC9Fs",
        "outputId": "2bf1fe88-4a63-4b0f-d7af-f9f6075f4d93"
      },
      "execution_count": 14,
      "outputs": [
        {
          "output_type": "stream",
          "name": "stdout",
          "text": [
            "++++\n",
            "10\n",
            "20\n",
            "30\n"
          ]
        }
      ]
    },
    {
      "cell_type": "code",
      "source": [
        "# 140\n",
        "for i in range(4):\n",
        "  print(\"-------\")"
      ],
      "metadata": {
        "colab": {
          "base_uri": "https://localhost:8080/"
        },
        "id": "chp3UbwlDKG-",
        "outputId": "505bf9ae-d392-484a-b765-312696b79c7d"
      },
      "execution_count": 15,
      "outputs": [
        {
          "output_type": "stream",
          "name": "stdout",
          "text": [
            "-------\n",
            "-------\n",
            "-------\n",
            "-------\n"
          ]
        }
      ]
    },
    {
      "cell_type": "code",
      "source": [
        "# 141\n",
        "리스트 = [100, 200, 300]\n",
        "for i in 리스트:\n",
        "  print(i+10)"
      ],
      "metadata": {
        "colab": {
          "base_uri": "https://localhost:8080/"
        },
        "id": "pASO-wy-DP2p",
        "outputId": "f2f83e27-2e44-430a-b248-32a222f7b554"
      },
      "execution_count": 16,
      "outputs": [
        {
          "output_type": "stream",
          "name": "stdout",
          "text": [
            "110\n",
            "210\n",
            "310\n"
          ]
        }
      ]
    },
    {
      "cell_type": "code",
      "source": [
        "# 142\n",
        "리스트 = [\"김밥\", \"라면\", \"튀김\"]\n",
        "for i in 리스트:\n",
        "  print(\"오늘의 메뉴:\",i)"
      ],
      "metadata": {
        "colab": {
          "base_uri": "https://localhost:8080/"
        },
        "id": "6GnSOAx_Dwj8",
        "outputId": "39e7e8c8-5b4e-49de-cdc9-a149eee49b56"
      },
      "execution_count": 17,
      "outputs": [
        {
          "output_type": "stream",
          "name": "stdout",
          "text": [
            "오늘의 메뉴: 김밥\n",
            "오늘의 메뉴: 라면\n",
            "오늘의 메뉴: 튀김\n"
          ]
        }
      ]
    },
    {
      "cell_type": "code",
      "source": [
        "# 143\n",
        "리스트 = [\"SK하이닉스\", \"삼성전자\", \"LG전자\"]\n",
        "for i in 리스트:\n",
        "  print(len(i))"
      ],
      "metadata": {
        "colab": {
          "base_uri": "https://localhost:8080/"
        },
        "id": "eC6_wsRVLiYx",
        "outputId": "e8036d75-5559-4fbf-e57b-d97e18d1fc67"
      },
      "execution_count": 19,
      "outputs": [
        {
          "output_type": "stream",
          "name": "stdout",
          "text": [
            "6\n",
            "4\n",
            "4\n"
          ]
        }
      ]
    },
    {
      "cell_type": "code",
      "source": [
        "# 144\n",
        "리스트 = ['dog', 'cat', 'parrot']\n",
        "for i in 리스트:\n",
        "  print(i,len(i))"
      ],
      "metadata": {
        "colab": {
          "base_uri": "https://localhost:8080/"
        },
        "id": "ra-N0MBqLopB",
        "outputId": "d3d85f08-f8a1-46ad-b435-6aa4e89edb42"
      },
      "execution_count": 20,
      "outputs": [
        {
          "output_type": "stream",
          "name": "stdout",
          "text": [
            "dog 3\n",
            "cat 3\n",
            "parrot 6\n"
          ]
        }
      ]
    },
    {
      "cell_type": "code",
      "source": [
        "# 145\n",
        "리스트 = ['dog', 'cat', 'parrot']\n",
        "for i in 리스트:\n",
        "  print(i[0])"
      ],
      "metadata": {
        "colab": {
          "base_uri": "https://localhost:8080/"
        },
        "id": "eZO4vlGmLyA8",
        "outputId": "9ca1a82b-773e-4c57-bc1c-644d34fa1c47"
      },
      "execution_count": 21,
      "outputs": [
        {
          "output_type": "stream",
          "name": "stdout",
          "text": [
            "d\n",
            "c\n",
            "p\n"
          ]
        }
      ]
    },
    {
      "cell_type": "code",
      "source": [
        "# 146\n",
        "리스트 = [1, 2, 3]\n",
        "for i in 리스트:\n",
        "  print(\"3 x\",i)"
      ],
      "metadata": {
        "colab": {
          "base_uri": "https://localhost:8080/"
        },
        "id": "B_GFNSwUL3ct",
        "outputId": "9b8e7850-0fbc-4d3b-8713-fd7f00cbb938"
      },
      "execution_count": 24,
      "outputs": [
        {
          "output_type": "stream",
          "name": "stdout",
          "text": [
            "3 x 1\n",
            "3 x 2\n",
            "3 x 3\n"
          ]
        }
      ]
    },
    {
      "cell_type": "code",
      "source": [
        "# 147\n",
        "리스트 = [1, 2, 3]\n",
        "for i in 리스트:\n",
        "  print(\"3 x\",i,\"=\",3*i)"
      ],
      "metadata": {
        "colab": {
          "base_uri": "https://localhost:8080/"
        },
        "id": "f-wcFLVFMC13",
        "outputId": "5fade6a6-6f02-4f19-a57c-3d46e08ce286"
      },
      "execution_count": 26,
      "outputs": [
        {
          "output_type": "stream",
          "name": "stdout",
          "text": [
            "3 x 1 = 3\n",
            "3 x 2 = 6\n",
            "3 x 3 = 9\n"
          ]
        }
      ]
    },
    {
      "cell_type": "code",
      "source": [
        "# 148\n",
        "리스트 = [\"가\", \"나\", \"다\", \"라\"]\n",
        "for i in 리스트[1:]:\n",
        "  print(i)"
      ],
      "metadata": {
        "colab": {
          "base_uri": "https://localhost:8080/"
        },
        "id": "fx5OLn63MMhv",
        "outputId": "92b67b62-32e5-49c3-f859-1b6492269156"
      },
      "execution_count": 29,
      "outputs": [
        {
          "output_type": "stream",
          "name": "stdout",
          "text": [
            "나\n",
            "다\n",
            "라\n"
          ]
        }
      ]
    },
    {
      "cell_type": "code",
      "source": [
        "# 149\n",
        "리스트 = [\"가\", \"나\", \"다\", \"라\"]\n",
        "for i in 리스트[::2]:\n",
        "  print(i)"
      ],
      "metadata": {
        "colab": {
          "base_uri": "https://localhost:8080/"
        },
        "id": "p7JZyNrRMV9P",
        "outputId": "1b9c9c5b-2c9c-4685-806d-ceea89ecfb7e"
      },
      "execution_count": 31,
      "outputs": [
        {
          "output_type": "stream",
          "name": "stdout",
          "text": [
            "가\n",
            "다\n"
          ]
        }
      ]
    },
    {
      "cell_type": "code",
      "source": [
        "#150 \n",
        "리스트 = [\"가\", \"나\", \"다\", \"라\"]\n",
        "for i in 리스트[::-1]:\n",
        "  print(i)"
      ],
      "metadata": {
        "colab": {
          "base_uri": "https://localhost:8080/"
        },
        "id": "Q19R7JctMhPr",
        "outputId": "0bd3bc1a-389d-4e10-96fe-ef8cd2f74856"
      },
      "execution_count": 32,
      "outputs": [
        {
          "output_type": "stream",
          "name": "stdout",
          "text": [
            "라\n",
            "다\n",
            "나\n",
            "가\n"
          ]
        }
      ]
    },
    {
      "cell_type": "code",
      "source": [
        "# 151\n",
        "리스트 = [3, -20, -3, 44]\n",
        "for i in 리스트:\n",
        "  if i<0: print(i)"
      ],
      "metadata": {
        "colab": {
          "base_uri": "https://localhost:8080/"
        },
        "id": "EErg7PbFMrnL",
        "outputId": "367f6545-bf8f-457b-904d-65044420f6ce"
      },
      "execution_count": 33,
      "outputs": [
        {
          "output_type": "stream",
          "name": "stdout",
          "text": [
            "-20\n",
            "-3\n"
          ]
        }
      ]
    },
    {
      "cell_type": "code",
      "source": [
        "# 152\n",
        "리스트 = [3, 100, 23, 44]\n",
        "for i in 리스트:\n",
        "  if i%3==0: print(i)"
      ],
      "metadata": {
        "colab": {
          "base_uri": "https://localhost:8080/"
        },
        "id": "3SiMMl3PM37p",
        "outputId": "1c3a8ede-121c-4715-ec8b-7dc48a753cc0"
      },
      "execution_count": 34,
      "outputs": [
        {
          "output_type": "stream",
          "name": "stdout",
          "text": [
            "3\n"
          ]
        }
      ]
    },
    {
      "cell_type": "code",
      "source": [
        "# 153\n",
        "리스트 = [13, 21, 12, 14, 30, 18]\n",
        "for i in 리스트:\n",
        "  if i<20 and i%3==0:\n",
        "    print(i)"
      ],
      "metadata": {
        "colab": {
          "base_uri": "https://localhost:8080/"
        },
        "id": "MG7LmQx8NAOY",
        "outputId": "becc05de-8cab-4ea7-c884-a74944211c65"
      },
      "execution_count": 35,
      "outputs": [
        {
          "output_type": "stream",
          "name": "stdout",
          "text": [
            "12\n",
            "18\n"
          ]
        }
      ]
    },
    {
      "cell_type": "code",
      "source": [
        "#154\n",
        "리스트 = [\"I\", \"study\", \"python\", \"language\", \"!\"]\n",
        "for i in 리스트:\n",
        "  if len(i) >=3:\n",
        "    print(i)"
      ],
      "metadata": {
        "colab": {
          "base_uri": "https://localhost:8080/"
        },
        "id": "6Zg27ib7NIHA",
        "outputId": "22eed8e7-a14b-4b4d-ac17-2eaa785871a9"
      },
      "execution_count": 36,
      "outputs": [
        {
          "output_type": "stream",
          "name": "stdout",
          "text": [
            "study\n",
            "python\n",
            "language\n"
          ]
        }
      ]
    },
    {
      "cell_type": "code",
      "source": [
        "# 155\n",
        "리스트 = [\"A\", \"b\", \"c\", \"D\"]\n",
        "for i in 리스트:\n",
        "  if i.isupper():\n",
        "    print(i) "
      ],
      "metadata": {
        "colab": {
          "base_uri": "https://localhost:8080/"
        },
        "id": "zJBXqYSqNQSZ",
        "outputId": "f5aa6e0f-c75e-46ac-bbef-0fc3b9e788b5"
      },
      "execution_count": 37,
      "outputs": [
        {
          "output_type": "stream",
          "name": "stdout",
          "text": [
            "A\n",
            "D\n"
          ]
        }
      ]
    },
    {
      "cell_type": "code",
      "source": [
        "# 156\n",
        "리스트 = [\"A\", \"b\", \"c\", \"D\"]\n",
        "for i in 리스트:\n",
        "  if i.islower():print()"
      ],
      "metadata": {
        "colab": {
          "base_uri": "https://localhost:8080/"
        },
        "id": "xZmzjdBCNbbA",
        "outputId": "8bea1160-f5fe-4d8c-efc6-c361c19ce1e0"
      },
      "execution_count": 38,
      "outputs": [
        {
          "output_type": "stream",
          "name": "stdout",
          "text": [
            "\n",
            "\n"
          ]
        }
      ]
    },
    {
      "cell_type": "code",
      "source": [
        "# 157\n",
        "리스트 = ['dog', 'cat', 'parrot']\n",
        "for i in 리스트:\n",
        "  print(i.upper())"
      ],
      "metadata": {
        "colab": {
          "base_uri": "https://localhost:8080/"
        },
        "id": "hzLGGATKNh-V",
        "outputId": "23fa62bb-28f8-4ab3-c559-379e22d1053b"
      },
      "execution_count": 39,
      "outputs": [
        {
          "output_type": "stream",
          "name": "stdout",
          "text": [
            "DOG\n",
            "CAT\n",
            "PARROT\n"
          ]
        }
      ]
    },
    {
      "cell_type": "code",
      "source": [
        "# 158\n",
        "리스트 = ['hello.py', 'ex01.py', 'intro.hwp']\n",
        "for i in 리스트:\n",
        "  a,b =i.split(\".\")\n",
        "  print(a)"
      ],
      "metadata": {
        "colab": {
          "base_uri": "https://localhost:8080/"
        },
        "id": "WJYJ_5y8OoMv",
        "outputId": "8e9df436-ac82-4d85-fa86-0973efd0a8ac"
      },
      "execution_count": 41,
      "outputs": [
        {
          "output_type": "stream",
          "name": "stdout",
          "text": [
            "hello\n",
            "ex01\n",
            "intro\n"
          ]
        }
      ]
    },
    {
      "cell_type": "code",
      "source": [
        "# 159\n",
        "리스트 = ['intra.h', 'intra.c', 'define.h', 'run.py']\n",
        "for i in 리스트:\n",
        "  s=i.split(\".\")\n",
        "  if s[1]==\"h\":\n",
        "    print(i)"
      ],
      "metadata": {
        "colab": {
          "base_uri": "https://localhost:8080/"
        },
        "id": "Vh6B1L-ZPffq",
        "outputId": "f6973309-9025-4353-e7f9-35fca0f94fdb"
      },
      "execution_count": 42,
      "outputs": [
        {
          "output_type": "stream",
          "name": "stdout",
          "text": [
            "intra.h\n",
            "define.h\n"
          ]
        }
      ]
    },
    {
      "cell_type": "markdown",
      "source": [
        ""
      ],
      "metadata": {
        "id": "5L9tgZNuPjQ-"
      }
    },
    {
      "cell_type": "code",
      "source": [
        "# 160\n",
        "리스트 = ['intra.h', 'intra.c', 'define.h', 'run.py']\n",
        "for i in 리스트:\n",
        "  s=i.split(\".\")\n",
        "  if s[1]==\"h\"or s[1]==\"c\":\n",
        "    print(i)\n",
        "  else: continue"
      ],
      "metadata": {
        "colab": {
          "base_uri": "https://localhost:8080/"
        },
        "id": "nO4li0EpPbAr",
        "outputId": "885edda6-4c83-4f45-ff17-d3af002b77f1"
      },
      "execution_count": 44,
      "outputs": [
        {
          "output_type": "stream",
          "name": "stdout",
          "text": [
            "intra.h\n",
            "intra.c\n",
            "define.h\n"
          ]
        }
      ]
    },
    {
      "cell_type": "code",
      "source": [
        "# 161\n",
        "for i in range(0,100):\n",
        "  print(i)"
      ],
      "metadata": {
        "colab": {
          "base_uri": "https://localhost:8080/"
        },
        "id": "Lodk_hcoP46v",
        "outputId": "f5876d8f-8b69-4e07-fc7e-b392d4844715"
      },
      "execution_count": 45,
      "outputs": [
        {
          "output_type": "stream",
          "name": "stdout",
          "text": [
            "0\n",
            "1\n",
            "2\n",
            "3\n",
            "4\n",
            "5\n",
            "6\n",
            "7\n",
            "8\n",
            "9\n",
            "10\n",
            "11\n",
            "12\n",
            "13\n",
            "14\n",
            "15\n",
            "16\n",
            "17\n",
            "18\n",
            "19\n",
            "20\n",
            "21\n",
            "22\n",
            "23\n",
            "24\n",
            "25\n",
            "26\n",
            "27\n",
            "28\n",
            "29\n",
            "30\n",
            "31\n",
            "32\n",
            "33\n",
            "34\n",
            "35\n",
            "36\n",
            "37\n",
            "38\n",
            "39\n",
            "40\n",
            "41\n",
            "42\n",
            "43\n",
            "44\n",
            "45\n",
            "46\n",
            "47\n",
            "48\n",
            "49\n",
            "50\n",
            "51\n",
            "52\n",
            "53\n",
            "54\n",
            "55\n",
            "56\n",
            "57\n",
            "58\n",
            "59\n",
            "60\n",
            "61\n",
            "62\n",
            "63\n",
            "64\n",
            "65\n",
            "66\n",
            "67\n",
            "68\n",
            "69\n",
            "70\n",
            "71\n",
            "72\n",
            "73\n",
            "74\n",
            "75\n",
            "76\n",
            "77\n",
            "78\n",
            "79\n",
            "80\n",
            "81\n",
            "82\n",
            "83\n",
            "84\n",
            "85\n",
            "86\n",
            "87\n",
            "88\n",
            "89\n",
            "90\n",
            "91\n",
            "92\n",
            "93\n",
            "94\n",
            "95\n",
            "96\n",
            "97\n",
            "98\n",
            "99\n"
          ]
        }
      ]
    },
    {
      "cell_type": "code",
      "source": [
        "# 162\n",
        "for i in range(2002,2051,4):\n",
        "  print(i)"
      ],
      "metadata": {
        "colab": {
          "base_uri": "https://localhost:8080/"
        },
        "id": "yid3NCXURO8z",
        "outputId": "21f5271e-5663-4aff-dc96-6dfa28dd571e"
      },
      "execution_count": 46,
      "outputs": [
        {
          "output_type": "stream",
          "name": "stdout",
          "text": [
            "2002\n",
            "2006\n",
            "2010\n",
            "2014\n",
            "2018\n",
            "2022\n",
            "2026\n",
            "2030\n",
            "2034\n",
            "2038\n",
            "2042\n",
            "2046\n",
            "2050\n"
          ]
        }
      ]
    },
    {
      "cell_type": "code",
      "source": [
        "# 163\n",
        "for i in range(1,31):\n",
        "  if i%3==0: print(i)"
      ],
      "metadata": {
        "colab": {
          "base_uri": "https://localhost:8080/"
        },
        "id": "j1Up5OgBRVy9",
        "outputId": "64d5ec79-938b-433d-dcdc-55b84203f4e8"
      },
      "execution_count": 47,
      "outputs": [
        {
          "output_type": "stream",
          "name": "stdout",
          "text": [
            "3\n",
            "6\n",
            "9\n",
            "12\n",
            "15\n",
            "18\n",
            "21\n",
            "24\n",
            "27\n",
            "30\n"
          ]
        }
      ]
    },
    {
      "cell_type": "code",
      "source": [
        "# 164\n",
        "for i in range(99,0,-1):\n",
        "  print(i)"
      ],
      "metadata": {
        "colab": {
          "base_uri": "https://localhost:8080/"
        },
        "id": "wWp2qsJ4Ri-H",
        "outputId": "e7c69e86-e4e5-4681-b8d7-f75c25ed24bb"
      },
      "execution_count": 51,
      "outputs": [
        {
          "output_type": "stream",
          "name": "stdout",
          "text": [
            "99\n",
            "98\n",
            "97\n",
            "96\n",
            "95\n",
            "94\n",
            "93\n",
            "92\n",
            "91\n",
            "90\n",
            "89\n",
            "88\n",
            "87\n",
            "86\n",
            "85\n",
            "84\n",
            "83\n",
            "82\n",
            "81\n",
            "80\n",
            "79\n",
            "78\n",
            "77\n",
            "76\n",
            "75\n",
            "74\n",
            "73\n",
            "72\n",
            "71\n",
            "70\n",
            "69\n",
            "68\n",
            "67\n",
            "66\n",
            "65\n",
            "64\n",
            "63\n",
            "62\n",
            "61\n",
            "60\n",
            "59\n",
            "58\n",
            "57\n",
            "56\n",
            "55\n",
            "54\n",
            "53\n",
            "52\n",
            "51\n",
            "50\n",
            "49\n",
            "48\n",
            "47\n",
            "46\n",
            "45\n",
            "44\n",
            "43\n",
            "42\n",
            "41\n",
            "40\n",
            "39\n",
            "38\n",
            "37\n",
            "36\n",
            "35\n",
            "34\n",
            "33\n",
            "32\n",
            "31\n",
            "30\n",
            "29\n",
            "28\n",
            "27\n",
            "26\n",
            "25\n",
            "24\n",
            "23\n",
            "22\n",
            "21\n",
            "20\n",
            "19\n",
            "18\n",
            "17\n",
            "16\n",
            "15\n",
            "14\n",
            "13\n",
            "12\n",
            "11\n",
            "10\n",
            "9\n",
            "8\n",
            "7\n",
            "6\n",
            "5\n",
            "4\n",
            "3\n",
            "2\n",
            "1\n"
          ]
        }
      ]
    },
    {
      "cell_type": "code",
      "source": [
        "# 165\n",
        "for i in range(10):\n",
        "  a=\"0.\"\n",
        "  b=str(i)\n",
        "  a+b\n",
        "  print(float(a+b))"
      ],
      "metadata": {
        "colab": {
          "base_uri": "https://localhost:8080/"
        },
        "id": "TCprRhdeRt1H",
        "outputId": "90e09c38-17f3-47c2-e0d5-94fea833669e"
      },
      "execution_count": 59,
      "outputs": [
        {
          "output_type": "stream",
          "name": "stdout",
          "text": [
            "0.0\n",
            "0.1\n",
            "0.2\n",
            "0.3\n",
            "0.4\n",
            "0.5\n",
            "0.6\n",
            "0.7\n",
            "0.8\n",
            "0.9\n"
          ]
        }
      ]
    },
    {
      "cell_type": "code",
      "source": [
        "for num in range(10) :\n",
        "    print(num / 10)"
      ],
      "metadata": {
        "colab": {
          "base_uri": "https://localhost:8080/"
        },
        "id": "OqA_3MN4SWqB",
        "outputId": "75773cec-1d3a-42c5-e9fa-045154d1bbb3"
      },
      "execution_count": 61,
      "outputs": [
        {
          "output_type": "stream",
          "name": "stdout",
          "text": [
            "0.0\n",
            "0.1\n",
            "0.2\n",
            "0.3\n",
            "0.4\n",
            "0.5\n",
            "0.6\n",
            "0.7\n",
            "0.8\n",
            "0.9\n"
          ]
        }
      ]
    },
    {
      "cell_type": "code",
      "source": [
        "# 166\n",
        "for i in range(10):\n",
        "  print(\"3x{} = {}\".format(i,3*i))"
      ],
      "metadata": {
        "colab": {
          "base_uri": "https://localhost:8080/"
        },
        "id": "PoUO-vaCSU6r",
        "outputId": "611fbc22-82c4-4c5c-d702-69bc556262bd"
      },
      "execution_count": 62,
      "outputs": [
        {
          "output_type": "stream",
          "name": "stdout",
          "text": [
            "3x0 = 0\n",
            "3x1 = 3\n",
            "3x2 = 6\n",
            "3x3 = 9\n",
            "3x4 = 12\n",
            "3x5 = 15\n",
            "3x6 = 18\n",
            "3x7 = 21\n",
            "3x8 = 24\n",
            "3x9 = 27\n"
          ]
        }
      ]
    },
    {
      "cell_type": "code",
      "source": [
        "# 167\n",
        "for i in range(10):\n",
        "  if i%2!=0:\n",
        "    print(\"3x{} = {}\".format(i,3*i))"
      ],
      "metadata": {
        "colab": {
          "base_uri": "https://localhost:8080/"
        },
        "id": "mBbx-rQHS9vu",
        "outputId": "1cbca3a7-2151-4323-999b-a706d9a3d1c0"
      },
      "execution_count": 64,
      "outputs": [
        {
          "output_type": "stream",
          "name": "stdout",
          "text": [
            "3x1 = 3\n",
            "3x3 = 9\n",
            "3x5 = 15\n",
            "3x7 = 21\n",
            "3x9 = 27\n"
          ]
        }
      ]
    },
    {
      "cell_type": "code",
      "source": [
        "# 168\n",
        "a=0\n",
        "for i in range(11):\n",
        "  a+=i\n",
        "print(a)"
      ],
      "metadata": {
        "colab": {
          "base_uri": "https://localhost:8080/"
        },
        "id": "L3nYYWr7SCig",
        "outputId": "f845258f-5a4c-4358-96f8-bf9a47fcd8f5"
      },
      "execution_count": 65,
      "outputs": [
        {
          "output_type": "stream",
          "name": "stdout",
          "text": [
            "55\n"
          ]
        }
      ]
    },
    {
      "cell_type": "code",
      "source": [
        "# 169\n",
        "a=0\n",
        "for i in range(11):\n",
        "  if i%2!=0:\n",
        "    a+=i\n",
        "print(a)"
      ],
      "metadata": {
        "colab": {
          "base_uri": "https://localhost:8080/"
        },
        "id": "-ZnB-0_IRp7t",
        "outputId": "cface907-4281-4253-e68a-6a401d6c835e"
      },
      "execution_count": 68,
      "outputs": [
        {
          "output_type": "stream",
          "name": "stdout",
          "text": [
            "25\n"
          ]
        }
      ]
    },
    {
      "cell_type": "code",
      "source": [
        "# 170\n",
        "a=1\n",
        "for i in range(1,11):\n",
        "  a*=i\n",
        "print(a)"
      ],
      "metadata": {
        "colab": {
          "base_uri": "https://localhost:8080/"
        },
        "id": "F8bBy_JmRoD3",
        "outputId": "d491a76e-ac66-4c0a-9c36-7851aff86862"
      },
      "execution_count": 71,
      "outputs": [
        {
          "output_type": "stream",
          "name": "stdout",
          "text": [
            "3628800\n"
          ]
        }
      ]
    },
    {
      "cell_type": "code",
      "source": [
        "# 171\n",
        "price_list = [32100, 32150, 32000, 32500]\n",
        "\n",
        "for i in price_list:\n",
        "  print(i)"
      ],
      "metadata": {
        "colab": {
          "base_uri": "https://localhost:8080/"
        },
        "id": "i1X7JOHoRzNX",
        "outputId": "b6e5b273-659f-4079-d025-6a78523501e2"
      },
      "execution_count": 73,
      "outputs": [
        {
          "output_type": "stream",
          "name": "stdout",
          "text": [
            "32100\n",
            "32150\n",
            "32000\n",
            "32500\n"
          ]
        }
      ]
    },
    {
      "cell_type": "code",
      "source": [
        "# 172\n",
        "for i,j in enumerate(price_list):\n",
        "  print(i,j)"
      ],
      "metadata": {
        "colab": {
          "base_uri": "https://localhost:8080/"
        },
        "id": "D24KNeInT0R_",
        "outputId": "f7c5f3ca-a564-4f2a-c655-2a159bccf582"
      },
      "execution_count": 76,
      "outputs": [
        {
          "output_type": "stream",
          "name": "stdout",
          "text": [
            "0 32100\n",
            "1 32150\n",
            "2 32000\n",
            "3 32500\n"
          ]
        }
      ]
    },
    {
      "cell_type": "code",
      "source": [
        "# 173\n",
        "\n",
        "for i,j in enumerate(price_list):\n",
        "  print(len(price_list)-1-i,j)"
      ],
      "metadata": {
        "colab": {
          "base_uri": "https://localhost:8080/"
        },
        "id": "vFD9SSEGUASB",
        "outputId": "a64da746-889f-4488-f9a0-e96cad32dabd"
      },
      "execution_count": 77,
      "outputs": [
        {
          "output_type": "stream",
          "name": "stdout",
          "text": [
            "3 32100\n",
            "2 32150\n",
            "1 32000\n",
            "0 32500\n"
          ]
        }
      ]
    },
    {
      "cell_type": "code",
      "source": [
        "# 174\n",
        "price_list = [32100, 32150, 32000, 32500]\n",
        "price_list.pop(0)\n",
        "price_list\n",
        "\n",
        "for i,j in enumerate(price_list):\n",
        "  print(100+10*i,j)"
      ],
      "metadata": {
        "colab": {
          "base_uri": "https://localhost:8080/"
        },
        "id": "9r19TqtQT9CC",
        "outputId": "b7b0f73a-1ffc-4e1e-a519-07c059e696d2"
      },
      "execution_count": 81,
      "outputs": [
        {
          "output_type": "stream",
          "name": "stdout",
          "text": [
            "100 32150\n",
            "110 32000\n",
            "120 32500\n"
          ]
        }
      ]
    },
    {
      "cell_type": "code",
      "source": [
        "# 175\n",
        "my_list = [\"가\", \"나\", \"다\", \"라\"]\n",
        "\n",
        "for i in range(0,len(my_list)-1):\n",
        "  print(my_list[i], my_list[i+1])"
      ],
      "metadata": {
        "colab": {
          "base_uri": "https://localhost:8080/"
        },
        "id": "3_ClglNzVTGd",
        "outputId": "06a75639-8f34-4a8d-b6ba-2b2aa948102a"
      },
      "execution_count": 84,
      "outputs": [
        {
          "output_type": "stream",
          "name": "stdout",
          "text": [
            "가 나\n",
            "나 다\n",
            "다 라\n"
          ]
        }
      ]
    },
    {
      "cell_type": "code",
      "source": [
        "# 176\n",
        "my_list = [\"가\", \"나\", \"다\", \"라\", \"마\"]\n",
        "for i in range(0,len(my_list)-2):\n",
        "  print(my_list[i], my_list[i+1], my_list[i+2])"
      ],
      "metadata": {
        "colab": {
          "base_uri": "https://localhost:8080/"
        },
        "id": "rCa9TPjkVuGl",
        "outputId": "98f3bafb-9817-4094-bc26-329d3fb4cfd3"
      },
      "execution_count": 87,
      "outputs": [
        {
          "output_type": "stream",
          "name": "stdout",
          "text": [
            "가 나 다\n",
            "나 다 라\n",
            "다 라 마\n"
          ]
        }
      ]
    },
    {
      "cell_type": "code",
      "source": [
        "# 177\n",
        "my_list = [\"가\", \"나\", \"다\", \"라\"]\n",
        "for i in range(len(my_list)-1,0,-1):\n",
        "  print(my_list[i],my_list[i-1])"
      ],
      "metadata": {
        "colab": {
          "base_uri": "https://localhost:8080/"
        },
        "id": "m036nGHXVtS-",
        "outputId": "32793e35-bd4c-45ef-ea34-905ccd7d6540"
      },
      "execution_count": 93,
      "outputs": [
        {
          "output_type": "stream",
          "name": "stdout",
          "text": [
            "라 다\n",
            "다 나\n",
            "나 가\n"
          ]
        }
      ]
    },
    {
      "cell_type": "code",
      "source": [
        "# 178\n",
        "my_list = [100, 200, 400, 800]\n",
        "for i in range(len(my_list)-1):\n",
        "  print(my_list[i+1]-my_list[i])"
      ],
      "metadata": {
        "colab": {
          "base_uri": "https://localhost:8080/"
        },
        "id": "s9LZ1gkJT6Gc",
        "outputId": "f5df1723-ceaf-4bfb-88c4-ce63aedd5978"
      },
      "execution_count": 97,
      "outputs": [
        {
          "output_type": "stream",
          "name": "stdout",
          "text": [
            "100\n",
            "200\n",
            "400\n"
          ]
        }
      ]
    },
    {
      "cell_type": "code",
      "source": [
        "# 179\n",
        "my_list = [100, 200, 400, 800, 1000, 1300]\n",
        "for i in range(len(my_list)-2):\n",
        "  print(sum(my_list[i:i+3])/3)"
      ],
      "metadata": {
        "colab": {
          "base_uri": "https://localhost:8080/"
        },
        "id": "6d3zgTWRW9Sa",
        "outputId": "0e368825-f783-47db-a0d1-21e33f8bd5c2"
      },
      "execution_count": 98,
      "outputs": [
        {
          "output_type": "stream",
          "name": "stdout",
          "text": [
            "233.33333333333334\n",
            "466.6666666666667\n",
            "733.3333333333334\n",
            "1033.3333333333333\n"
          ]
        }
      ]
    },
    {
      "cell_type": "code",
      "source": [
        "# 180\n",
        "low_prices  = [100, 200, 400, 800, 1000]\n",
        "high_prices = [150, 300, 430, 880, 1000]\n",
        "\n",
        "volatility=list()\n",
        "\n",
        "for i in range(len(low_prices)):\n",
        "  volatility.append(high_prices[i]-low_prices[i])\n",
        "print(volatility)"
      ],
      "metadata": {
        "colab": {
          "base_uri": "https://localhost:8080/"
        },
        "id": "TrSzzROGXCL3",
        "outputId": "5c165809-3629-4c54-ebe9-b2c03aec5acf"
      },
      "execution_count": 100,
      "outputs": [
        {
          "output_type": "stream",
          "name": "stdout",
          "text": [
            "[50, 100, 30, 80, 0]\n"
          ]
        }
      ]
    },
    {
      "cell_type": "code",
      "source": [
        "# 181\n",
        "apart=[[\"101호\",\"102호\"],[\"201호\",\"202호\"],[\"301호\",\"302호\"]]\n",
        "apart"
      ],
      "metadata": {
        "colab": {
          "base_uri": "https://localhost:8080/"
        },
        "id": "zOqz9N6bTo2R",
        "outputId": "e5afb57a-bc59-4f97-8b56-c9de86e77106"
      },
      "execution_count": 103,
      "outputs": [
        {
          "output_type": "execute_result",
          "data": {
            "text/plain": [
              "[['101호', '102호'], ['201호', '202호'], ['301호', '302호']]"
            ]
          },
          "metadata": {},
          "execution_count": 103
        }
      ]
    },
    {
      "cell_type": "code",
      "source": [
        "# 182\n",
        "stock=[[100,80],[200,210],[300,330]]\n",
        "stock"
      ],
      "metadata": {
        "colab": {
          "base_uri": "https://localhost:8080/"
        },
        "id": "gRX7BoGbZmk-",
        "outputId": "24055c0d-c686-440d-8caf-c12b17f8af59"
      },
      "execution_count": 105,
      "outputs": [
        {
          "output_type": "execute_result",
          "data": {
            "text/plain": [
              "[[100, 80], [200, 210], [300, 330]]"
            ]
          },
          "metadata": {},
          "execution_count": 105
        }
      ]
    },
    {
      "cell_type": "code",
      "source": [
        "# 183\n",
        "stock={\"시가\":[100,200,300], \"종가\":[80,210,330]}\n",
        "stock"
      ],
      "metadata": {
        "colab": {
          "base_uri": "https://localhost:8080/"
        },
        "id": "NfoIn9v4ZuZ-",
        "outputId": "4090b407-b7ef-48a2-af55-5a7af54f637b"
      },
      "execution_count": 106,
      "outputs": [
        {
          "output_type": "execute_result",
          "data": {
            "text/plain": [
              "{'시가': [100, 200, 300], '종가': [80, 210, 330]}"
            ]
          },
          "metadata": {},
          "execution_count": 106
        }
      ]
    },
    {
      "cell_type": "code",
      "source": [
        "# 184\n",
        "stock={\"10/10\":[80,110,70,90],\"10/11\":[210,230,190,200]}\n",
        "stock"
      ],
      "metadata": {
        "colab": {
          "base_uri": "https://localhost:8080/"
        },
        "id": "71fjdR1NaKgZ",
        "outputId": "fea7af2f-a75c-413e-fb34-b7ad138a02a2"
      },
      "execution_count": 108,
      "outputs": [
        {
          "output_type": "execute_result",
          "data": {
            "text/plain": [
              "{'10/10': [80, 110, 70, 90], '10/11': [210, 230, 190, 200]}"
            ]
          },
          "metadata": {},
          "execution_count": 108
        }
      ]
    },
    {
      "cell_type": "code",
      "source": [
        "# 185\n",
        "apart = [ [101, 102], [201, 202], [301, 302] ]\n",
        "\n",
        "for i in apart:\n",
        "  for j in range(len(i)):\n",
        "    print(i[j],\"호\")"
      ],
      "metadata": {
        "colab": {
          "base_uri": "https://localhost:8080/"
        },
        "id": "pq2x_avJaWta",
        "outputId": "d74e8374-d1bb-4f56-fe6b-2433d166ae21"
      },
      "execution_count": 111,
      "outputs": [
        {
          "output_type": "stream",
          "name": "stdout",
          "text": [
            "101 호\n",
            "102 호\n",
            "201 호\n",
            "202 호\n",
            "301 호\n",
            "302 호\n"
          ]
        }
      ]
    },
    {
      "cell_type": "code",
      "source": [
        "# 186\n",
        "apart = [ [101, 102], [201, 202], [301, 302] ]\n",
        "apart2 = list(reversed(apart))\n",
        "\n",
        "for i in apart2:\n",
        "  for j in range(len(i)):\n",
        "    print(i[j],\"호\")"
      ],
      "metadata": {
        "colab": {
          "base_uri": "https://localhost:8080/"
        },
        "id": "HzRbjma0a_ow",
        "outputId": "32d88b47-dbd8-4f0f-d43f-4a61505f0b17"
      },
      "execution_count": 119,
      "outputs": [
        {
          "output_type": "stream",
          "name": "stdout",
          "text": [
            "301 호\n",
            "302 호\n",
            "201 호\n",
            "202 호\n",
            "101 호\n",
            "102 호\n"
          ]
        }
      ]
    },
    {
      "cell_type": "code",
      "source": [
        "#더 간단한 방법!!!\n",
        "for row in apart[::-1]:\n",
        "    for col in row:\n",
        "        print(col, \"호\")"
      ],
      "metadata": {
        "id": "-jX5g3SmcHDE"
      },
      "execution_count": null,
      "outputs": []
    },
    {
      "cell_type": "code",
      "source": [
        "# 187\n",
        "apart = [ [101, 102], [201, 202], [301, 302] ]\n",
        "\n",
        "for i in apart[::-1]:\n",
        "  for j in i[::-1]:\n",
        "    print(j,\"호\")"
      ],
      "metadata": {
        "colab": {
          "base_uri": "https://localhost:8080/"
        },
        "id": "fr4OrQnKbiMD",
        "outputId": "46c96d30-328c-45e9-b990-ee6eabc5d619"
      },
      "execution_count": 120,
      "outputs": [
        {
          "output_type": "stream",
          "name": "stdout",
          "text": [
            "302 호\n",
            "301 호\n",
            "202 호\n",
            "201 호\n",
            "102 호\n",
            "101 호\n"
          ]
        }
      ]
    },
    {
      "cell_type": "code",
      "source": [
        "# 188\n",
        "apart = [ [101, 102], [201, 202], [301, 302] ]\n",
        "\n",
        "for i in apart:\n",
        "  for j in i:\n",
        "    print(j,\"호\")\n",
        "    print(\"-----\")"
      ],
      "metadata": {
        "colab": {
          "base_uri": "https://localhost:8080/"
        },
        "id": "jK4x_cbWcXhO",
        "outputId": "232207d8-d5a4-4b9a-817f-ae81b450b098"
      },
      "execution_count": 121,
      "outputs": [
        {
          "output_type": "stream",
          "name": "stdout",
          "text": [
            "101 호\n",
            "-----\n",
            "102 호\n",
            "-----\n",
            "201 호\n",
            "-----\n",
            "202 호\n",
            "-----\n",
            "301 호\n",
            "-----\n",
            "302 호\n",
            "-----\n"
          ]
        }
      ]
    },
    {
      "cell_type": "code",
      "source": [
        "# 189\n",
        "apart = [ [101, 102], [201, 202], [301, 302] ]\n",
        "for i in apart:\n",
        "  for j in i:\n",
        "    print(j,\"호\")\n",
        "  print(\"-----\")"
      ],
      "metadata": {
        "colab": {
          "base_uri": "https://localhost:8080/"
        },
        "id": "4uuhTO0YcnBs",
        "outputId": "eba47a0d-14ec-41ce-c7ee-c74477ec762e"
      },
      "execution_count": 122,
      "outputs": [
        {
          "output_type": "stream",
          "name": "stdout",
          "text": [
            "101 호\n",
            "102 호\n",
            "-----\n",
            "201 호\n",
            "202 호\n",
            "-----\n",
            "301 호\n",
            "302 호\n",
            "-----\n"
          ]
        }
      ]
    },
    {
      "cell_type": "code",
      "source": [
        "# 190\n",
        "apart = [ [101, 102], [201, 202], [301, 302] ]\n",
        "for i in apart:\n",
        "  for j in i:\n",
        "    print(j,\"호\")\n",
        "print(\"-----\")"
      ],
      "metadata": {
        "colab": {
          "base_uri": "https://localhost:8080/"
        },
        "id": "clEBBhqvcrX1",
        "outputId": "783c8ff7-6e2b-47ba-8a62-179ecfdaccd3"
      },
      "execution_count": 123,
      "outputs": [
        {
          "output_type": "stream",
          "name": "stdout",
          "text": [
            "101 호\n",
            "102 호\n",
            "201 호\n",
            "202 호\n",
            "301 호\n",
            "302 호\n",
            "-----\n"
          ]
        }
      ]
    },
    {
      "cell_type": "code",
      "source": [
        "# 191\n",
        "data = [\n",
        "    [ 2000,  3050,  2050,  1980],\n",
        "    [ 7500,  2050,  2050,  1980],\n",
        "    [15450, 15050, 15550, 14900]\n",
        "]\n",
        "\n",
        "for i in data:\n",
        "  for j in i:\n",
        "    print(j+ (j*0.014*0.01) )\n"
      ],
      "metadata": {
        "colab": {
          "base_uri": "https://localhost:8080/"
        },
        "id": "9wFVmgDlcvuo",
        "outputId": "1dd9f4ae-504f-45e4-aa63-e7bc75df90af"
      },
      "execution_count": 127,
      "outputs": [
        {
          "output_type": "stream",
          "name": "stdout",
          "text": [
            "2000.28\n",
            "3050.427\n",
            "2050.287\n",
            "1980.2772\n",
            "7501.05\n",
            "2050.287\n",
            "2050.287\n",
            "1980.2772\n",
            "15452.163\n",
            "15052.107\n",
            "15552.177\n",
            "14902.086\n"
          ]
        }
      ]
    },
    {
      "cell_type": "code",
      "source": [
        "# 192\n",
        "for i in data:\n",
        "  for j in i:\n",
        "    print(j+ (j*0.014*0.01) )\n",
        "  print(\"----\")"
      ],
      "metadata": {
        "colab": {
          "base_uri": "https://localhost:8080/"
        },
        "id": "c9TujpzfdBu2",
        "outputId": "5722dc8f-6683-4998-add5-afba6861b2e8"
      },
      "execution_count": 128,
      "outputs": [
        {
          "output_type": "stream",
          "name": "stdout",
          "text": [
            "2000.28\n",
            "3050.427\n",
            "2050.287\n",
            "1980.2772\n",
            "----\n",
            "7501.05\n",
            "2050.287\n",
            "2050.287\n",
            "1980.2772\n",
            "----\n",
            "15452.163\n",
            "15052.107\n",
            "15552.177\n",
            "14902.086\n",
            "----\n"
          ]
        }
      ]
    },
    {
      "cell_type": "code",
      "source": [
        "# 193\n",
        "result=[]\n",
        "\n",
        "for i in data:\n",
        "  for j in i:\n",
        "    result.append ( j+ (j*0.014*0.01) )\n",
        "print(result)"
      ],
      "metadata": {
        "colab": {
          "base_uri": "https://localhost:8080/"
        },
        "id": "cY10za-cdZnm",
        "outputId": "5f6c2384-74de-484d-9b1e-f77a3f5313da"
      },
      "execution_count": 129,
      "outputs": [
        {
          "output_type": "stream",
          "name": "stdout",
          "text": [
            "[2000.28, 3050.427, 2050.287, 1980.2772, 7501.05, 2050.287, 2050.287, 1980.2772, 15452.163, 15052.107, 15552.177, 14902.086]\n"
          ]
        }
      ]
    },
    {
      "cell_type": "code",
      "source": [
        "# 194\n",
        "result=[]\n",
        "n=0\n",
        "for i in data:\n",
        "  a= [ ]\n",
        "  for j in i:\n",
        "    a.append ( j+ (j*0.014*0.01) )\n",
        "  result.append(a)\n",
        "\n",
        "result"
      ],
      "metadata": {
        "colab": {
          "base_uri": "https://localhost:8080/"
        },
        "id": "1NBdzYSmdr6c",
        "outputId": "bddf609f-f483-4f0f-d5b7-a91e74cf73c0"
      },
      "execution_count": 134,
      "outputs": [
        {
          "output_type": "execute_result",
          "data": {
            "text/plain": [
              "[[2000.28, 3050.427, 2050.287, 1980.2772],\n",
              " [7501.05, 2050.287, 2050.287, 1980.2772],\n",
              " [15452.163, 15052.107, 15552.177, 14902.086]]"
            ]
          },
          "metadata": {},
          "execution_count": 134
        }
      ]
    },
    {
      "cell_type": "code",
      "source": [
        "# 195\n",
        "ohlc = [[\"open\", \"high\", \"low\", \"close\"],\n",
        "        [100, 110, 70, 100],\n",
        "        [200, 210, 180, 190],\n",
        "        [300, 310, 300, 310]]\n",
        "\n",
        "for i in ohlc[1:4]:\n",
        "  print(i[3])"
      ],
      "metadata": {
        "colab": {
          "base_uri": "https://localhost:8080/"
        },
        "id": "kz6ACe7ReCQG",
        "outputId": "44377b97-5db4-4d98-c5ba-b92790f199fe"
      },
      "execution_count": 135,
      "outputs": [
        {
          "output_type": "stream",
          "name": "stdout",
          "text": [
            "100\n",
            "190\n",
            "310\n"
          ]
        }
      ]
    },
    {
      "cell_type": "code",
      "source": [
        "# 196\n",
        "ohlc = [[\"open\", \"high\", \"low\", \"close\"],\n",
        "        [100, 110, 70, 100],\n",
        "        [200, 210, 180, 190],\n",
        "        [300, 310, 300, 310]]\n",
        "\n",
        "for i in ohlc[1:4]:\n",
        "  if i[3]>150: \n",
        "    print(i[3])"
      ],
      "metadata": {
        "colab": {
          "base_uri": "https://localhost:8080/"
        },
        "id": "Gd3uVc5rey6W",
        "outputId": "3ae3638f-35cb-4ad0-d141-5699d68968c9"
      },
      "execution_count": 140,
      "outputs": [
        {
          "output_type": "stream",
          "name": "stdout",
          "text": [
            "190\n",
            "310\n"
          ]
        }
      ]
    },
    {
      "cell_type": "code",
      "source": [
        "# 197\n",
        "ohlc = [[\"open\", \"high\", \"low\", \"close\"],\n",
        "        [100, 110, 70, 100],\n",
        "        [200, 210, 180, 190],\n",
        "        [300, 310, 300, 310]]\n",
        "\n",
        "for i in ohlc[1:4]:\n",
        "  if i[0]<= i[3]: \n",
        "    print(i[3])"
      ],
      "metadata": {
        "colab": {
          "base_uri": "https://localhost:8080/"
        },
        "id": "9ZexsCxWe9bk",
        "outputId": "3dd64f22-5706-43cb-dd58-08ceb6740154"
      },
      "execution_count": 142,
      "outputs": [
        {
          "output_type": "stream",
          "name": "stdout",
          "text": [
            "100\n",
            "310\n"
          ]
        }
      ]
    },
    {
      "cell_type": "code",
      "source": [
        "# 198\n",
        "#  고가와 저가의 차이를 변동폭\n",
        "\n",
        "volatility =[]\n",
        "\n",
        "for i in ohlc[1:4]:\n",
        "  volatility.append(i[1]-i[2]) \n",
        "  \n",
        "print(volatility)"
      ],
      "metadata": {
        "colab": {
          "base_uri": "https://localhost:8080/"
        },
        "id": "0CEPhe8kfQE3",
        "outputId": "2fb6f656-4079-4b1d-db83-e1fd86e68e67"
      },
      "execution_count": 143,
      "outputs": [
        {
          "output_type": "stream",
          "name": "stdout",
          "text": [
            "[40, 30, 10]\n"
          ]
        }
      ]
    },
    {
      "cell_type": "code",
      "source": [
        "# 199\n",
        "\n",
        "for i in ohlc[1:4]:\n",
        "  if i[3] > i[0]:   \n",
        "    print(i[1]-i[2]) "
      ],
      "metadata": {
        "colab": {
          "base_uri": "https://localhost:8080/"
        },
        "id": "rTGXrqvFfptd",
        "outputId": "ada3b462-2d44-4bc3-ce2b-c7953dc47d8d"
      },
      "execution_count": 144,
      "outputs": [
        {
          "output_type": "stream",
          "name": "stdout",
          "text": [
            "10\n"
          ]
        }
      ]
    },
    {
      "cell_type": "code",
      "source": [
        "# 200\n",
        "ohlc = [[\"open\", \"high\", \"low\", \"close\"],\n",
        "        [100, 110, 70, 100],\n",
        "        [200, 210, 180, 190],\n",
        "        [300, 310, 300, 310]]\n",
        "a=[]\n",
        "\n",
        "for i in ohlc[1:4]:\n",
        "  a.append(i[3] - i[0])   \n",
        "print(sum(a))"
      ],
      "metadata": {
        "colab": {
          "base_uri": "https://localhost:8080/"
        },
        "id": "-dK2wOfbgCC1",
        "outputId": "aa7b23c0-1f9f-478c-f858-f30507e3fbde"
      },
      "execution_count": 147,
      "outputs": [
        {
          "output_type": "stream",
          "name": "stdout",
          "text": [
            "0\n"
          ]
        }
      ]
    },
    {
      "cell_type": "code",
      "source": [
        ""
      ],
      "metadata": {
        "id": "aMZ3gWrGgX5w"
      },
      "execution_count": null,
      "outputs": []
    }
  ]
}