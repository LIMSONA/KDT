{
 "cells": [
  {
   "cell_type": "markdown",
   "metadata": {
    "id": "l-qQdKJQcST-"
   },
   "source": [
    "# 10.파이썬 모듈"
   ]
  },
  {
   "cell_type": "code",
   "execution_count": 1,
   "metadata": {
    "id": "AJQbtccJctM3"
   },
   "outputs": [],
   "source": [
    "# 241 현재시간\n",
    "import datetime"
   ]
  },
  {
   "cell_type": "code",
   "execution_count": 2,
   "metadata": {
    "colab": {
     "base_uri": "https://localhost:8080/"
    },
    "id": "3JVdzOYDcbWM",
    "outputId": "188444e7-ce2e-4261-ec2c-78e5b2310611"
   },
   "outputs": [
    {
     "name": "stdout",
     "output_type": "stream",
     "text": [
      "2022-01-07 09:43:15.246189\n"
     ]
    }
   ],
   "source": [
    "print(datetime.datetime.now())"
   ]
  },
  {
   "cell_type": "code",
   "execution_count": 3,
   "metadata": {
    "colab": {
     "base_uri": "https://localhost:8080/"
    },
    "id": "lSzbjDCVc-xf",
    "outputId": "0eff16e3-e27f-47cc-f62e-608c9f5df51c"
   },
   "outputs": [
    {
     "name": "stdout",
     "output_type": "stream",
     "text": [
      "2022-01-07 09:43:15.262159 <class 'datetime.datetime'>\n"
     ]
    }
   ],
   "source": [
    "# 242 현재시간의 타입\n",
    "a=datetime.datetime.now()\n",
    "print(a, type(a))"
   ]
  },
  {
   "cell_type": "code",
   "execution_count": 4,
   "metadata": {
    "colab": {
     "base_uri": "https://localhost:8080/"
    },
    "id": "3TTpdICUdfFO",
    "outputId": "4849697c-f68b-43e1-b5a4-615cafa1b46d"
   },
   "outputs": [
    {
     "name": "stdout",
     "output_type": "stream",
     "text": [
      "2022-01-02 09:43:15.279100\n",
      "2022-01-03 09:43:15.279100\n",
      "2022-01-04 09:43:15.279100\n",
      "2022-01-05 09:43:15.279100\n",
      "2022-01-06 09:43:15.279100\n"
     ]
    }
   ],
   "source": [
    "# 243 timedelta\n",
    "a= datetime.datetime.now()\n",
    "\n",
    "for i in range(5,0,-1):\n",
    "    delta = datetime.timedelta(days=i)\n",
    "    result= a-delta\n",
    "    print(result)"
   ]
  },
  {
   "cell_type": "code",
   "execution_count": 2,
   "metadata": {
    "colab": {
     "base_uri": "https://localhost:8080/"
    },
    "id": "zu7qzsY7dj35",
    "outputId": "cf83f4e4-1265-43fe-a5cb-56649b0b6f7c"
   },
   "outputs": [
    {
     "name": "stdout",
     "output_type": "stream",
     "text": [
      "20220110\n"
     ]
    }
   ],
   "source": [
    "# 244 strftime\n",
    "\n",
    "import datetime\n",
    "\n",
    "now = datetime.datetime.now()\n",
    "print(now.strftime(\"%Y%m%d\"))"
   ]
  },
  {
   "cell_type": "code",
   "execution_count": 6,
   "metadata": {
    "colab": {
     "base_uri": "https://localhost:8080/"
    },
    "id": "H4obmAbhdj2S",
    "outputId": "2877be11-1633-4d97-ee42-199240f310c7"
   },
   "outputs": [
    {
     "name": "stdout",
     "output_type": "stream",
     "text": [
      "2020-05-04 00:00:00\n"
     ]
    }
   ],
   "source": [
    "# 245 strptime\n",
    "import datetime\n",
    "cal = \"2020-05-04\"\n",
    "a = datetime.datetime.strptime(cal,\"%Y-%m-%d\")\n",
    "\n",
    "print(a)"
   ]
  },
  {
   "cell_type": "code",
   "execution_count": 7,
   "metadata": {
    "id": "ckEQOUMidjz7"
   },
   "outputs": [],
   "source": [
    "# 246 sleep 함수\n",
    "import time\n",
    "import datetime"
   ]
  },
  {
   "cell_type": "markdown",
   "metadata": {
    "id": "8Z-wXt6ZdjxK"
   },
   "source": [
    "```\n",
    "# 247 모듈 임포트\n",
    "\n",
    "import 작성하기\n",
    "\n",
    "```"
   ]
  },
  {
   "cell_type": "code",
   "execution_count": 8,
   "metadata": {
    "id": "wDno9rFad5Pa"
   },
   "outputs": [
    {
     "name": "stdout",
     "output_type": "stream",
     "text": [
      "C:\\sona\\KDT\\1wk\n"
     ]
    }
   ],
   "source": [
    "# 248 os 모듈\n",
    "import os\n",
    "print(os.getcwd())"
   ]
  },
  {
   "cell_type": "code",
   "execution_count": 9,
   "metadata": {
    "id": "o82VDYhLdjsE"
   },
   "outputs": [
    {
     "ename": "SyntaxError",
     "evalue": "invalid syntax (Temp/ipykernel_8464/2644935516.py, line 4)",
     "output_type": "error",
     "traceback": [
      "\u001b[1;36m  File \u001b[1;32m\"C:\\Users\\Admin\\AppData\\Local\\Temp/ipykernel_8464/2644935516.py\"\u001b[1;36m, line \u001b[1;32m4\u001b[0m\n\u001b[1;33m    os.rename( , )\u001b[0m\n\u001b[1;37m               ^\u001b[0m\n\u001b[1;31mSyntaxError\u001b[0m\u001b[1;31m:\u001b[0m invalid syntax\n"
     ]
    }
   ],
   "source": [
    "# 249 rename 함수\n",
    "import os\n",
    "\n",
    "os.rename( , )"
   ]
  },
  {
   "cell_type": "code",
   "execution_count": 10,
   "metadata": {
    "id": "lugFHTEddwWu"
   },
   "outputs": [],
   "source": [
    "# 250 numpy\n",
    "import numpy as np"
   ]
  },
  {
   "cell_type": "code",
   "execution_count": 11,
   "metadata": {
    "colab": {
     "base_uri": "https://localhost:8080/"
    },
    "id": "mO3YqCjOeYlS",
    "outputId": "e4874c06-81ae-418e-e7d6-d19f37a4042c"
   },
   "outputs": [
    {
     "name": "stdout",
     "output_type": "stream",
     "text": [
      "0.0\n",
      "0.1\n",
      "0.2\n",
      "0.30000000000000004\n",
      "0.4\n",
      "0.5\n",
      "0.6000000000000001\n",
      "0.7000000000000001\n",
      "0.8\n",
      "0.9\n",
      "1.0\n",
      "1.1\n",
      "1.2000000000000002\n",
      "1.3\n",
      "1.4000000000000001\n",
      "1.5\n",
      "1.6\n",
      "1.7000000000000002\n",
      "1.8\n",
      "1.9000000000000001\n",
      "2.0\n",
      "2.1\n",
      "2.2\n",
      "2.3000000000000003\n",
      "2.4000000000000004\n",
      "2.5\n",
      "2.6\n",
      "2.7\n",
      "2.8000000000000003\n",
      "2.9000000000000004\n",
      "3.0\n",
      "3.1\n",
      "3.2\n",
      "3.3000000000000003\n",
      "3.4000000000000004\n",
      "3.5\n",
      "3.6\n",
      "3.7\n",
      "3.8000000000000003\n",
      "3.9000000000000004\n",
      "4.0\n",
      "4.1000000000000005\n",
      "4.2\n",
      "4.3\n",
      "4.4\n",
      "4.5\n",
      "4.6000000000000005\n",
      "4.7\n",
      "4.800000000000001\n",
      "4.9\n"
     ]
    }
   ],
   "source": [
    "import numpy\n",
    "for i in numpy.arange(0, 5, 0.1):\n",
    "    print(i)"
   ]
  },
  {
   "cell_type": "markdown",
   "metadata": {
    "id": "shTFFHkzehMW"
   },
   "source": [
    "# 11. 파이썬 클래스"
   ]
  },
  {
   "cell_type": "code",
   "execution_count": 12,
   "metadata": {
    "id": "tfw-2rgEe1GJ"
   },
   "outputs": [],
   "source": [
    "# 251 클래스, 객체, 인스턴스"
   ]
  },
  {
   "cell_type": "code",
   "execution_count": 13,
   "metadata": {
    "id": "loo4apHReJ9u"
   },
   "outputs": [],
   "source": [
    "# 252 클래스 정의\n",
    "class Human:\n",
    "  pass"
   ]
  },
  {
   "cell_type": "code",
   "execution_count": 14,
   "metadata": {
    "id": "6YmSoLXbdjnW"
   },
   "outputs": [],
   "source": [
    "# 253 인스턴스 생성\n",
    "class Human:\n",
    "  pass\n",
    "\n",
    "areum = Human()"
   ]
  },
  {
   "cell_type": "code",
   "execution_count": 15,
   "metadata": {
    "colab": {
     "base_uri": "https://localhost:8080/"
    },
    "id": "8igtfk6Adjkj",
    "outputId": "e8e0471a-4766-4468-df6f-8cb3bcf9b6c9"
   },
   "outputs": [
    {
     "name": "stdout",
     "output_type": "stream",
     "text": [
      "응야응애\n"
     ]
    }
   ],
   "source": [
    "# 254 클래스 생성자-1\n",
    "class Human:\n",
    "  def __init__(self):\n",
    "    print(\"응야응애\")\n",
    "\n",
    "areum = Human()"
   ]
  },
  {
   "cell_type": "code",
   "execution_count": 16,
   "metadata": {
    "id": "Aw119fcCfyu_"
   },
   "outputs": [],
   "source": [
    "# 255 클래스 생성자-2\n",
    "class Human:\n",
    "  def __init__(self,이름,나이,성별):\n",
    "    self.name = 이름\n",
    "    self.age = 나이\n",
    "    self.sex = 성별"
   ]
  },
  {
   "cell_type": "code",
   "execution_count": 17,
   "metadata": {
    "id": "zRm5x9TngX7e"
   },
   "outputs": [],
   "source": [
    "areum = Human(\"아름\",25,\"여자\")"
   ]
  },
  {
   "cell_type": "code",
   "execution_count": 18,
   "metadata": {
    "colab": {
     "base_uri": "https://localhost:8080/"
    },
    "id": "qyHLBMMbdmny",
    "outputId": "bd037a91-14e1-45f7-fd55-4233dc5d490b"
   },
   "outputs": [
    {
     "name": "stdout",
     "output_type": "stream",
     "text": [
      "아름 25 여자\n"
     ]
    }
   ],
   "source": [
    "# 확인하기\n",
    "print(areum.name, areum.age, areum.sex)"
   ]
  },
  {
   "cell_type": "code",
   "execution_count": 19,
   "metadata": {
    "id": "6u_89My-MCTE"
   },
   "outputs": [],
   "source": [
    "# 256 인스턴스 속성에 접근\n",
    "# 1) 인스턴스의 이름, 나이, 성별을 출력하세요. \n",
    "# 2) 인스턴스 변수에 접근하여 값을 출력하면 됩니다.\n",
    "\n",
    "class Human:\n",
    "  def __init__(self, name, age, sex):\n",
    "    self.name = name\n",
    "    self.age = age\n",
    "    self.sex = sex\n",
    "\n",
    "areum = Human(\"조아름\", 25, \"여자\")"
   ]
  },
  {
   "cell_type": "code",
   "execution_count": 20,
   "metadata": {
    "colab": {
     "base_uri": "https://localhost:8080/"
    },
    "id": "W8RyZiwMeZbp",
    "outputId": "9b1311fb-2ce3-423a-e9d1-0fe35958826f"
   },
   "outputs": [
    {
     "name": "stdout",
     "output_type": "stream",
     "text": [
      "이름: 조아름, 나이: 25, 성별: 여자\n",
      "25\n"
     ]
    }
   ],
   "source": [
    "# 1)\n",
    "print(\"이름: {}, 나이: {}, 성별: {}\".format(areum.name, areum.age, areum.sex))\n",
    "\n",
    "# 2)\n",
    "print(areum.age) "
   ]
  },
  {
   "cell_type": "code",
   "execution_count": 21,
   "metadata": {
    "id": "ydrGeBMYdjiP"
   },
   "outputs": [],
   "source": [
    "# 257 클래스 메소드 - 1\n",
    "class Human:\n",
    "  def __init__(self,name,age,sex):\n",
    "    self.name = name\n",
    "    self.age = age\n",
    "    self.sex = sex\n",
    "  \n",
    "  def who(self):\n",
    "    print((\"이름: {}, 나이: {}, 성별: {}\").format(self.name,self.age,self.sex))"
   ]
  },
  {
   "cell_type": "code",
   "execution_count": 22,
   "metadata": {
    "colab": {
     "base_uri": "https://localhost:8080/"
    },
    "id": "xiU1VLPHdjgN",
    "outputId": "f2372f91-3b6e-403f-91cd-c4df1f90d18b"
   },
   "outputs": [
    {
     "name": "stdout",
     "output_type": "stream",
     "text": [
      "이름: 조아름, 나이: 25, 성별: 여자\n"
     ]
    }
   ],
   "source": [
    "areum = Human(\"조아름\",25,\"여자\")\n",
    "areum.who()"
   ]
  },
  {
   "cell_type": "code",
   "execution_count": 23,
   "metadata": {
    "id": "AUBaVd0gdjdu"
   },
   "outputs": [],
   "source": [
    "# 258 클래스 메소드 - 2\n",
    "class Human:\n",
    "  def __init__(self,name,age,sex):\n",
    "    self.name = name\n",
    "    self.age = age\n",
    "    self.sex = sex\n",
    "  \n",
    "  def who(self):\n",
    "    print((\"이름: {}, 나이: {}, 성별: {}\").format(self.name,self.age,self.sex))\n",
    "\n",
    "  def setInfo(self,name,age,sex):\n",
    "    self.name = name\n",
    "    self.age = age\n",
    "    self.sex = sex\n"
   ]
  },
  {
   "cell_type": "code",
   "execution_count": 24,
   "metadata": {
    "colab": {
     "base_uri": "https://localhost:8080/"
    },
    "id": "vcVo7X6AdjbM",
    "outputId": "d990ede8-00a6-4f32-94e6-85f377b86f5f"
   },
   "outputs": [
    {
     "name": "stdout",
     "output_type": "stream",
     "text": [
      "이름: 모름, 나이: 0, 성별: 모름\n"
     ]
    }
   ],
   "source": [
    "areum = Human(\"모름\", 0, \"모름\")\n",
    "\n",
    "#확인하기\n",
    "areum.who()"
   ]
  },
  {
   "cell_type": "code",
   "execution_count": 25,
   "metadata": {
    "colab": {
     "base_uri": "https://localhost:8080/"
    },
    "id": "q5aaVNj4mrHi",
    "outputId": "63ac567c-7e73-48d9-f353-c854cfe07c24"
   },
   "outputs": [
    {
     "name": "stdout",
     "output_type": "stream",
     "text": [
      "이름: 아름, 나이: 25, 성별: 여자\n"
     ]
    }
   ],
   "source": [
    "areum.setInfo(\"아름\", 25, \"여자\")\n",
    "\n",
    "# 확인하기\n",
    "areum.who()"
   ]
  },
  {
   "cell_type": "code",
   "execution_count": 26,
   "metadata": {
    "id": "7bDDdY25djYx"
   },
   "outputs": [],
   "source": [
    "# 259 클래스 소멸자\n",
    "\n",
    "class Human:\n",
    "  def __init__(self,name,age,sex):\n",
    "    self.name = name\n",
    "    self.age = age\n",
    "    self.sex = sex\n",
    "  \n",
    "  def __del__(self):\n",
    "    print(\"나의 죽음을 알리지마라\")\n",
    "\n",
    "  def who(self):\n",
    "    print((\"이름: {}, 나이: {}, 성별: {}\").format(self.name,self.age,self.sex))\n",
    "\n",
    "  def setinfo(self,name,age,sex):\n",
    "    self.name=name\n",
    "    self.age=age\n",
    "    self.sex=sex\n"
   ]
  },
  {
   "cell_type": "code",
   "execution_count": 27,
   "metadata": {
    "colab": {
     "base_uri": "https://localhost:8080/"
    },
    "id": "w_SFWC28djWL",
    "outputId": "7f64fde1-6f3d-422f-f70c-d5656aff3de3"
   },
   "outputs": [
    {
     "name": "stdout",
     "output_type": "stream",
     "text": [
      "나의 죽음을 알리지마라\n"
     ]
    }
   ],
   "source": [
    "areum = Human(\"아름\", 25, \"여자\")\n",
    "del areum"
   ]
  },
  {
   "cell_type": "code",
   "execution_count": 28,
   "metadata": {
    "id": "2204bJ_BdjT4"
   },
   "outputs": [],
   "source": [
    "# 260 에러의 원인\n",
    "\n",
    "class OMG : \n",
    "    def print() :\n",
    "        print(\"Oh my god\")"
   ]
  },
  {
   "cell_type": "code",
   "execution_count": 29,
   "metadata": {
    "colab": {
     "base_uri": "https://localhost:8080/",
     "height": 193
    },
    "id": "XFKRkwSoVLcD",
    "outputId": "76a3587e-dbc6-4b92-b087-dd4fd5268854"
   },
   "outputs": [
    {
     "ename": "TypeError",
     "evalue": "print() takes 0 positional arguments but 1 was given",
     "output_type": "error",
     "traceback": [
      "\u001b[1;31m---------------------------------------------------------------------------\u001b[0m",
      "\u001b[1;31mTypeError\u001b[0m                                 Traceback (most recent call last)",
      "\u001b[1;32m~\\AppData\\Local\\Temp/ipykernel_8464/2259937438.py\u001b[0m in \u001b[0;36m<module>\u001b[1;34m\u001b[0m\n\u001b[0;32m      1\u001b[0m \u001b[0mmyStock\u001b[0m \u001b[1;33m=\u001b[0m \u001b[0mOMG\u001b[0m\u001b[1;33m(\u001b[0m\u001b[1;33m)\u001b[0m\u001b[1;33m\u001b[0m\u001b[1;33m\u001b[0m\u001b[0m\n\u001b[1;32m----> 2\u001b[1;33m \u001b[0mmyStock\u001b[0m\u001b[1;33m.\u001b[0m\u001b[0mprint\u001b[0m\u001b[1;33m(\u001b[0m\u001b[1;33m)\u001b[0m    \u001b[1;31m#print() 함수에 selt가 없어서! 오류생김\u001b[0m\u001b[1;33m\u001b[0m\u001b[1;33m\u001b[0m\u001b[0m\n\u001b[0m",
      "\u001b[1;31mTypeError\u001b[0m: print() takes 0 positional arguments but 1 was given"
     ]
    }
   ],
   "source": [
    "myStock = OMG()\n",
    "myStock.print()    #print() 함수에 selt가 없어서! 오류생김"
   ]
  },
  {
   "cell_type": "code",
   "execution_count": 30,
   "metadata": {
    "colab": {
     "base_uri": "https://localhost:8080/"
    },
    "id": "jjamOpj-VPid",
    "outputId": "7e766a7e-2f60-4371-abae-32c399be2617"
   },
   "outputs": [
    {
     "name": "stdout",
     "output_type": "stream",
     "text": [
      "Oh my god\n"
     ]
    }
   ],
   "source": [
    "# 고쳐보기!!!!!!!!1\n",
    "class OMG : \n",
    "    def print(self) :\n",
    "        print(\"Oh my god\")\n",
    "\n",
    "mystock = OMG()\n",
    "mystock.print()"
   ]
  },
  {
   "cell_type": "code",
   "execution_count": 31,
   "metadata": {
    "id": "txCk-yeQVWeS"
   },
   "outputs": [],
   "source": [
    "# 261 Stock 클래스 생성\n",
    "\n",
    "class Stock:\n",
    "  pass"
   ]
  },
  {
   "cell_type": "code",
   "execution_count": 32,
   "metadata": {
    "id": "j-r422r-qD7d"
   },
   "outputs": [],
   "source": [
    "# 262 생성자\n",
    "\n",
    "class Stock:\n",
    "  \n",
    "  def __init__(self,name,code):\n",
    "    self.name = name\n",
    "    self.code = code"
   ]
  },
  {
   "cell_type": "code",
   "execution_count": 33,
   "metadata": {
    "colab": {
     "base_uri": "https://localhost:8080/"
    },
    "id": "MAV-Jh-aqXBI",
    "outputId": "7213229f-991a-4a9e-f758-db0c3b40427d"
   },
   "outputs": [
    {
     "name": "stdout",
     "output_type": "stream",
     "text": [
      "삼성전자 005930\n"
     ]
    }
   ],
   "source": [
    "삼성 = Stock(\"삼성전자\", \"005930\")\n",
    "\n",
    "#확인하기\n",
    "print(삼성.name, 삼성.code) "
   ]
  },
  {
   "cell_type": "code",
   "execution_count": 34,
   "metadata": {
    "id": "ut6r5csaqdiO"
   },
   "outputs": [],
   "source": [
    "# 263 메서드\n",
    "# 객체에 종목명을 입력할 수 있는 set_name 메서드를 추가해보세요.\n",
    "\n",
    "class Stock:\n",
    "  \n",
    "  def __init__(self,name,code):\n",
    "    self.name = name\n",
    "    self.code = code\n",
    "\n",
    "  def set_name(self,name):\n",
    "    self.name = name"
   ]
  },
  {
   "cell_type": "code",
   "execution_count": 35,
   "metadata": {
    "id": "EaMRi88wq0GF"
   },
   "outputs": [],
   "source": [
    "a = Stock(None, None)\n",
    "a.set_name(\"삼성전자\")\n",
    "\n",
    "# Stock.set_name(a,\"삼성전자\")와 동일"
   ]
  },
  {
   "cell_type": "code",
   "execution_count": 36,
   "metadata": {
    "colab": {
     "base_uri": "https://localhost:8080/"
    },
    "id": "9hig2Q3aqw3A",
    "outputId": "d3c2e817-1a2f-45f8-f59c-185b41ed9517"
   },
   "outputs": [
    {
     "name": "stdout",
     "output_type": "stream",
     "text": [
      "삼성전자\n"
     ]
    }
   ],
   "source": [
    "# 확인하기\n",
    "print(a.name)"
   ]
  },
  {
   "cell_type": "code",
   "execution_count": 37,
   "metadata": {
    "id": "GgfG7OBurJzr"
   },
   "outputs": [],
   "source": [
    "# 264 메서드\n",
    "# 객체에 종목코드를 입력할 수 있는 set_code 메서드를 추가해보세요.\n",
    "\n",
    "# 263 메서드\n",
    "# 객체에 종목명을 입력할 수 있는 set_name 메서드를 추가해보세요.\n",
    "\n",
    "class Stock:\n",
    "  \n",
    "  def __init__(self,name,code):\n",
    "    self.name = name\n",
    "    self.code = code\n",
    "\n",
    "  def set_name(self,name):\n",
    "    self.name = name\n",
    "\n",
    "  def set_code(self,code):\n",
    "    self.code = code"
   ]
  },
  {
   "cell_type": "code",
   "execution_count": 38,
   "metadata": {
    "id": "SygMCM3drod6"
   },
   "outputs": [],
   "source": [
    "a = Stock(None, None)\n",
    "a.set_code(\"005930\")\n",
    "\n",
    "#Stock.set_code(a,\"005930\")과 동일"
   ]
  },
  {
   "cell_type": "code",
   "execution_count": 39,
   "metadata": {
    "colab": {
     "base_uri": "https://localhost:8080/"
    },
    "id": "92S2gnvGrzqV",
    "outputId": "22425d24-c82d-49a7-9ab7-6702ddd18482"
   },
   "outputs": [
    {
     "name": "stdout",
     "output_type": "stream",
     "text": [
      "005930\n"
     ]
    }
   ],
   "source": [
    "# 확인하기\n",
    "\n",
    "print(a.code)"
   ]
  },
  {
   "cell_type": "code",
   "execution_count": 40,
   "metadata": {
    "id": "hjgBEkajr4wi"
   },
   "outputs": [],
   "source": [
    "# 265 메서드\n",
    "# 1) 종목명과 종목코드를 리턴하는 get_name, get_code 메서드를 추가하세요. \n",
    "class Stock:\n",
    "  \n",
    "  def __init__(self,name,code):\n",
    "    self.name = name\n",
    "    self.code = code\n",
    "\n",
    "  def set_name(self,name):\n",
    "    self.name = name\n",
    "\n",
    "  def set_code(self,code):\n",
    "    self.code = code\n",
    "\n",
    "  def get_name(self):\n",
    "    return self.name\n",
    "\n",
    "  def get_code(self):\n",
    "    return self.code\n",
    "\n",
    "삼성 = Stock(\"삼성전자\", \"005930\")"
   ]
  },
  {
   "cell_type": "code",
   "execution_count": 41,
   "metadata": {
    "colab": {
     "base_uri": "https://localhost:8080/"
    },
    "id": "6-LmRHBrsn5m",
    "outputId": "fd0202c7-3065-43d3-8cbc-ccdd90b1c716"
   },
   "outputs": [
    {
     "name": "stdout",
     "output_type": "stream",
     "text": [
      "삼성전자\n",
      "005930\n"
     ]
    }
   ],
   "source": [
    "# 2) 해당 메서드를 사용하여 종목명과 종목코드를 얻고 이를 출력해보세요.\n",
    "\n",
    "print(삼성.get_name())\n",
    "print(삼성.get_code())"
   ]
  },
  {
   "cell_type": "code",
   "execution_count": 42,
   "metadata": {
    "id": "Ge7rTk7wte5U"
   },
   "outputs": [],
   "source": [
    "# 266 객체의 속성값 업데이트\n",
    "\n",
    "class Stock:\n",
    "  \n",
    "  def __init__(self,name,code,per,pbr,dy):\n",
    "    self.name = name\n",
    "    self.code = code\n",
    "    self.per = per\n",
    "    self.pbr = pbr\n",
    "    self.dy = dy\n",
    "\n",
    "  def set_name(self,name):\n",
    "    self.name = name\n",
    "\n",
    "  def set_code(self,code):\n",
    "    self.code = code\n",
    "\n",
    "  def get_name(self):\n",
    "    return self.name\n",
    "\n",
    "  def get_code(self):\n",
    "    return self.code\n",
    "\n",
    "    "
   ]
  },
  {
   "cell_type": "code",
   "execution_count": 43,
   "metadata": {
    "id": "2y4sz24ku8ew"
   },
   "outputs": [],
   "source": [
    "# 267 객체 생성\n",
    "\n",
    "삼성 = Stock(\"삼성전자\", \"005930\", 15.79, 1.33, 2.83) "
   ]
  },
  {
   "cell_type": "code",
   "execution_count": 44,
   "metadata": {
    "colab": {
     "base_uri": "https://localhost:8080/"
    },
    "id": "syMRaaqbvfQr",
    "outputId": "a7a307f0-c914-4cff-90ea-bcdfff8df653"
   },
   "outputs": [
    {
     "name": "stdout",
     "output_type": "stream",
     "text": [
      "15.79\n"
     ]
    }
   ],
   "source": [
    "#확인용\n",
    "print(삼성.per)"
   ]
  },
  {
   "cell_type": "code",
   "execution_count": 45,
   "metadata": {
    "id": "8G7s21v-vDcG"
   },
   "outputs": [],
   "source": [
    "# 268 객체의 속성 수정\n",
    "# PER, PBR, 배당수익률은 변경될 수 있는 값입니다. \n",
    "# 이 값을 변경할 때 사용하는 set_per, set_pbr, set_dividend 메서드를 추가\n",
    "\n",
    "class Stock:\n",
    "    def __init__(self, name, code, per, pbr, dividend):\n",
    "        self.name = name\n",
    "        self.code = code\n",
    "        self.per = per\n",
    "        self.pbr = pbr\n",
    "        self.dividend = dividend\n",
    "\n",
    "    def set_name(self, name):\n",
    "        self.name = name\n",
    "\n",
    "    def set_code(self, code):\n",
    "        self.code = code\n",
    "\n",
    "    def get_name(self):\n",
    "        return self.name\n",
    "\n",
    "    def get_code(self):\n",
    "        return self.code\n",
    "\n",
    "    def set_per(self, per):\n",
    "        self.per = per\n",
    "\n",
    "    def set_pbr(self, pbr):\n",
    "        self.pbr = pbr\n",
    "\n",
    "    def set_dividend(self, dividend):\n",
    "        self.dividend = dividend"
   ]
  },
  {
   "cell_type": "code",
   "execution_count": 46,
   "metadata": {
    "colab": {
     "base_uri": "https://localhost:8080/"
    },
    "id": "MqFgTmYAvGBE",
    "outputId": "a3062474-417c-487e-ec72-148dcc162396"
   },
   "outputs": [
    {
     "name": "stdout",
     "output_type": "stream",
     "text": [
      "현재는 15.79\n"
     ]
    }
   ],
   "source": [
    "# 269 객체의 속성 수정\n",
    "# 267번에서 생성한 객체에 set_per 메서드를 호출하여 per 값을 12.75로 수정해보세요.\n",
    "\n",
    "삼성 = Stock(\"삼성전자\", \"005930\", 15.79, 1.33, 2.83) \n",
    "print(\"현재는\", 삼성.per) # 변경 전"
   ]
  },
  {
   "cell_type": "code",
   "execution_count": 47,
   "metadata": {
    "colab": {
     "base_uri": "https://localhost:8080/"
    },
    "id": "WeqB5RHr000c",
    "outputId": "9471a5a8-9f6f-4fe6-9e72-86c1e3b65e8d"
   },
   "outputs": [
    {
     "name": "stdout",
     "output_type": "stream",
     "text": [
      "바뀐 값은 12.75\n"
     ]
    }
   ],
   "source": [
    "삼성.set_per(12.75)\n",
    "print(\"바뀐 값은\", 삼성.per) # 변경 후"
   ]
  },
  {
   "cell_type": "code",
   "execution_count": 48,
   "metadata": {
    "id": "j9wZBD66vIgS"
   },
   "outputs": [],
   "source": [
    "# 270 여러 종목의 객체 생성\n",
    "# 1) 3종목에 대해 객체를 생성하고 이를 파이썬 리스트에 저장\n",
    "\n",
    "삼성 = Stock(\"삼성전자\", \"005930\", 15.79, 1.33, 2.83) \n",
    "현대차 = Stock(\"현대차\", \"005380\", 8.70, 0.35, 4.27)\n",
    "LG전자 = Stock(\"LG전자\", \"066570\", 317.34, 0.69, 1.37)"
   ]
  },
  {
   "cell_type": "code",
   "execution_count": 49,
   "metadata": {
    "id": "WfgkfiP1vK8w"
   },
   "outputs": [
    {
     "name": "stdout",
     "output_type": "stream",
     "text": [
      "005930 15.79\n",
      "005380 8.7\n",
      "066570 317.34\n"
     ]
    }
   ],
   "source": [
    "# 2) for 루프를 통해 종목코드와 PER을 출력\n",
    "\n",
    "for i in [삼성,현대차,LG전자]:\n",
    "    print(i.code, i.per)"
   ]
  },
  {
   "cell_type": "code",
   "execution_count": 55,
   "metadata": {},
   "outputs": [
    {
     "name": "stdout",
     "output_type": "stream",
     "text": [
      "211 62 333\n"
     ]
    }
   ],
   "source": [
    "# 271 Account 클래스\n",
    "# 조건1) 예금주와 초기 잔액만 입력 받습니다. \n",
    "# 조건2) 은행이름은 SC은행으로 \n",
    "# 조건3) 계좌번호는 3자리-2자리-6자리 형태로 \n",
    "# 조건4) 랜덤하게 생성\n",
    "\n",
    "import random\n",
    "\n",
    "a=random.randrange(0,1000)\n",
    "b=random.randrange(0,100)\n",
    "c=random.randrange(0,1000)\n",
    "\n",
    "print(a,b,c)"
   ]
  },
  {
   "cell_type": "code",
   "execution_count": 130,
   "metadata": {},
   "outputs": [
    {
     "name": "stdout",
     "output_type": "stream",
     "text": [
      "211 <class 'str'>\n"
     ]
    }
   ],
   "source": [
    "# 나중에 3/2/6자리로 받아야함  \n",
    "\n",
    "aa = \"%03d\"%a #3자리 테스트\n",
    "\n",
    "#확인하기\n",
    "print(aa, type(aa))"
   ]
  },
  {
   "cell_type": "code",
   "execution_count": 70,
   "metadata": {},
   "outputs": [],
   "source": [
    "class Account:\n",
    "    \n",
    "    def __init__(self,name,balance): # 조건1) 예금주와 초기 잔액만 입력 받습니다. \n",
    "        self.name = name\n",
    "        self.balance = balance\n",
    "        self.bank = \"SC은행\" # 조건2) 은행이름은 SC은행으로 \n",
    "        \n",
    "        # 조건3) 계좌번호는 3자리-2자리-6자리 형태로 \n",
    "        # 조건4) 랜덤하게 생성\n",
    "        # 3파트로 구분                 \n",
    "        first = random.randrange(0,1000)\n",
    "        second = random.randrange(0,100)\n",
    "        three = random.randrange(0,1000000) #6자리\n",
    "        \n",
    "        #계좌번호 생성하기\n",
    "        self.account_num = \"%03d\"%first +\"-\" + \"%02d\"%second +\"-\"+ \"%06d\"%three"
   ]
  },
  {
   "cell_type": "code",
   "execution_count": 71,
   "metadata": {},
   "outputs": [
    {
     "name": "stdout",
     "output_type": "stream",
     "text": [
      "소나 1000\n",
      "SC은행 800-26-204\n"
     ]
    }
   ],
   "source": [
    "#잘 만들어졌나 확인하기!!!\n",
    "\n",
    "#예금주와 초기잔액 확인\n",
    "test = Account(\"소나\",1000)\n",
    "print(test.name, test.balance)\n",
    "\n",
    "# 은행과 계좌번호 확인\n",
    "print(test.bank, test.account_num)"
   ]
  },
  {
   "cell_type": "code",
   "execution_count": 81,
   "metadata": {},
   "outputs": [],
   "source": [
    "# 272 클래스 변수\n",
    "# 클래스 변수를 사용해서 Account 클래스로부터 생성된 계좌 객체의 개수를 저장\n",
    "\n",
    "class Account:\n",
    "    cnt = 0\n",
    "    \n",
    "    def __init__(self,name,balance): # 조건1) 예금주와 초기 잔액만 입력 받습니다.        \n",
    "        self.name = name\n",
    "        self.balance = balance\n",
    "        self.bank = \"SC은행\" # 조건2) 은행이름은 SC은행으로 \n",
    "        \n",
    "        # 조건3) 계좌번호는 3자리-2자리-6자리 형태로 \n",
    "        # 조건4) 랜덤하게 생성\n",
    "        # 3파트로 구분                 \n",
    "        first = random.randrange(0,1000)\n",
    "        second = random.randrange(0,100)\n",
    "        three = random.randrange(0,1000000) #6자리\n",
    "        \n",
    "        #계좌번호 생성하기\n",
    "        self.account_num = \"%03d\"%first +\"-\" + \"%02d\"%second +\"-\"+ \"%06d\"%three\n",
    "        \n",
    "        Account.cnt+=1 #Account 클래스 사용해서\n",
    "        \n",
    "        "
   ]
  },
  {
   "cell_type": "code",
   "execution_count": 82,
   "metadata": {},
   "outputs": [
    {
     "name": "stdout",
     "output_type": "stream",
     "text": [
      "3\n"
     ]
    }
   ],
   "source": [
    "# 잘 만들어졌는지 확인해보기!!!\n",
    "test1= Account(\"또방\",1000)\n",
    "test2= Account(\"꾸꾸\",1000)\n",
    "test3= Account(\"리꾸\",1000)\n",
    "\n",
    "print(Account.cnt)"
   ]
  },
  {
   "cell_type": "code",
   "execution_count": 86,
   "metadata": {},
   "outputs": [],
   "source": [
    "# 273 클래스 변수 출력\n",
    "# 생성된 계좌의 개수를 출력하는 get_account_num() 메서드를 추가하세요.\n",
    "\n",
    "class Account:\n",
    "    cnt = 0\n",
    "    \n",
    "    def __init__(self,name,balance): # 조건1) 예금주와 초기 잔액만 입력 받습니다.        \n",
    "        self.name = name\n",
    "        self.balance = balance\n",
    "        self.bank = \"SC은행\" # 조건2) 은행이름은 SC은행으로 \n",
    "        \n",
    "        # 조건3) 계좌번호는 3자리-2자리-6자리 형태로 \n",
    "        # 조건4) 랜덤하게 생성\n",
    "        # 3파트로 구분                 \n",
    "        first = random.randrange(0,1000)\n",
    "        second = random.randrange(0,100)\n",
    "        three = random.randrange(0,1000000) #6자리\n",
    "        \n",
    "        #계좌번호 생성하기\n",
    "        self.account_num = \"%03d\"%first +\"-\" + \"%02d\"%second +\"-\"+ \"%06d\"%three\n",
    "        \n",
    "        # 생성된 계좌 객체의 개수\n",
    "        Account.cnt+=1 #Account 클래스 사용해서\n",
    "        \n",
    "    def get_account_num(self):\n",
    "        print(self.cnt)"
   ]
  },
  {
   "cell_type": "code",
   "execution_count": 87,
   "metadata": {},
   "outputs": [
    {
     "name": "stdout",
     "output_type": "stream",
     "text": [
      "2\n"
     ]
    }
   ],
   "source": [
    "# 잘 만들어졌는지 확인해보기!!!\n",
    "test1= Account(\"또방\",1000)\n",
    "test2= Account(\"꾸꾸\",1000)\n",
    "\n",
    "test1.get_account_num()"
   ]
  },
  {
   "cell_type": "code",
   "execution_count": 105,
   "metadata": {},
   "outputs": [],
   "source": [
    "# 274 입금 메서드\n",
    "# 입금을 위한 deposit 메서드를 추가하세요. 입금은 최소 1원 이상만 가능합니다.\n",
    "\n",
    "class Account:\n",
    "    cnt = 0\n",
    "    \n",
    "    def __init__(self,name,balance): # 조건1) 예금주와 초기 잔액만 입력 받습니다.        \n",
    "        self.name = name\n",
    "        self.balance = balance\n",
    "        self.bank = \"SC은행\" # 조건2) 은행이름은 SC은행으로 \n",
    "        \n",
    "        # 조건3) 계좌번호는 3자리-2자리-6자리 형태로 \n",
    "        # 조건4) 랜덤하게 생성\n",
    "        # 3파트로 구분                 \n",
    "        first = random.randrange(0,1000)\n",
    "        second = random.randrange(0,100)\n",
    "        three = random.randrange(0,1000000) #6자리\n",
    "        \n",
    "        #계좌번호 생성하기\n",
    "        self.account_num = \"%03d\"%first +\"-\" + \"%02d\"%second +\"-\"+ \"%06d\"%three\n",
    "        \n",
    "        # 생성된 계좌 객체의 개수\n",
    "        Account.cnt+=1 #Account 클래스 사용해서\n",
    "        \n",
    "    def get_account_num(x):\n",
    "        print(x.cnt)\n",
    "    \n",
    "    def deposit(self,money):   # 함수추가 <<<<==========================\n",
    "        # 입금은 최소 1원 이상만 가능합니다.\n",
    "        if money >= 1 :\n",
    "            self.balance +=money"
   ]
  },
  {
   "cell_type": "code",
   "execution_count": 103,
   "metadata": {
    "scrolled": true
   },
   "outputs": [
    {
     "name": "stdout",
     "output_type": "stream",
     "text": [
      "1500\n"
     ]
    }
   ],
   "source": [
    "# 잘 만들어졌는지 확인해보기!!!\n",
    "test1= Account(\"또방\",1000)\n",
    "test1.deposit(500)\n",
    "print(test1.balance)"
   ]
  },
  {
   "cell_type": "code",
   "execution_count": 104,
   "metadata": {},
   "outputs": [
    {
     "name": "stdout",
     "output_type": "stream",
     "text": [
      "1000\n"
     ]
    }
   ],
   "source": [
    "# 잘 만들어졌는지 확인해보기!!!\n",
    "test2= Account(\"꾸꾸\",1000)\n",
    "test2.deposit(0)\n",
    "print(test2.balance)"
   ]
  },
  {
   "cell_type": "code",
   "execution_count": 114,
   "metadata": {},
   "outputs": [],
   "source": [
    "# 275 출금 메서드\n",
    "# Account 클래스에 출금을 위한 withdraw 메서드를 추가하세요. \n",
    "\n",
    "class Account:\n",
    "    cnt = 0\n",
    "    \n",
    "    def __init__(self,name,balance): # 조건1) 예금주와 초기 잔액만 입력 받습니다.        \n",
    "        self.name = name\n",
    "        self.balance = balance\n",
    "        self.bank = \"SC은행\" # 조건2) 은행이름은 SC은행으로 \n",
    "        \n",
    "        # 조건3) 계좌번호는 3자리-2자리-6자리 형태로 \n",
    "        # 조건4) 랜덤하게 생성\n",
    "        # 3파트로 구분                 \n",
    "        first = random.randrange(0,1000)\n",
    "        second = random.randrange(0,100)\n",
    "        three = random.randrange(0,1000000) #6자리\n",
    "        \n",
    "        #계좌번호 생성하기\n",
    "        self.account_num = \"%03d\"%first +\"-\" + \"%02d\"%second +\"-\"+ \"%06d\"%three\n",
    "        \n",
    "        # 생성된 계좌 객체의 개수\n",
    "        Account.cnt+=1 #Account 클래스 사용해서\n",
    "        \n",
    "    def get_account_num(x):\n",
    "        print(x.cnt)\n",
    "    \n",
    "    def deposit(self,money):\n",
    "        if money >= 1 :\n",
    "            self.balance +=money\n",
    "            \n",
    "    def withdraw(self,money):        # 함수추가 <<<<==========================\n",
    "        # 출금은 계좌의 잔고 이상으로 출금할 수는 없습니다.\n",
    "        if self.balance > money:\n",
    "            self.balance -= money"
   ]
  },
  {
   "cell_type": "code",
   "execution_count": 110,
   "metadata": {},
   "outputs": [
    {
     "name": "stdout",
     "output_type": "stream",
     "text": [
      "1200\n"
     ]
    }
   ],
   "source": [
    "# 잘 만들어졌는지 확인해보기!!!\n",
    "test1= Account(\"또방\",1000) #잔액 1000\n",
    "test1.deposit(500) #입금 +500\n",
    "test1.withdraw(300) #출금 -300\n",
    "\n",
    "print(test1.balance)"
   ]
  },
  {
   "cell_type": "code",
   "execution_count": 115,
   "metadata": {},
   "outputs": [
    {
     "name": "stdout",
     "output_type": "stream",
     "text": [
      "1000\n"
     ]
    }
   ],
   "source": [
    "# 잘 만들어졌는지 확인해보기!!!\n",
    "test2= Account(\"꾸꾸\",1000) #w잔액 1000\n",
    "test2.withdraw(1500) #출금 -1500\n",
    "\n",
    "# 예상답 : 출금이 진행되지 않아, 잔액그대로 출력\n",
    "print(test2.balance)"
   ]
  },
  {
   "cell_type": "code",
   "execution_count": 116,
   "metadata": {},
   "outputs": [
    {
     "name": "stdout",
     "output_type": "stream",
     "text": [
      "100,000,000,000\n"
     ]
    }
   ],
   "source": [
    "# 276 정보 출력 메서드\n",
    "#Account 인스턴스에 저장된 정보를 출력하는 display_info() 메서드를 추가하세요. \n",
    "# 조건) 잔고는 세자리마다 쉼표를 출력하세요.\n",
    "\n",
    "print( '{0:,}'.format(100000000000) )"
   ]
  },
  {
   "cell_type": "code",
   "execution_count": 128,
   "metadata": {},
   "outputs": [],
   "source": [
    "class Account:\n",
    "    cnt = 0\n",
    "    \n",
    "    def __init__(self,name,balance): # 예금주와 초기 잔액만 입력 받습니다.        \n",
    "        self.name = name\n",
    "        self.balance = balance\n",
    "        self.bank = \"SC은행\" # 은행이름은 SC은행으로 \n",
    "        \n",
    "        # 계좌번호는 3자리-2자리-6자리 형태로 랜덤하게 생성                \n",
    "        first = random.randrange(0,1000) # 3자리\n",
    "        second = random.randrange(0,100) # 2자리\n",
    "        three = random.randrange(0,1000000) #6자리\n",
    "        \n",
    "        #계좌번호 생성하기\n",
    "        self.account_num = \"%03d\"%first +\"-\" + \"%02d\"%second +\"-\"+ \"%06d\"%three\n",
    "        \n",
    "        # 생성된 계좌 객체의 개수\n",
    "        Account.cnt+=1 #Account 클래스 사용해서\n",
    "        \n",
    "    def get_account_num(x):\n",
    "        print(x.cnt)\n",
    "    \n",
    "    def deposit(self,money):\n",
    "        # 입금은 최소 1원 이상만 가능합니다.\n",
    "        if money >= 1 :\n",
    "            self.balance +=money\n",
    "            \n",
    "    def withdraw(self,money):        \n",
    "        # 출금은 계좌의 잔고 이상으로 출금할 수는 없습니다.\n",
    "        if self.balance > money:\n",
    "            self.balance -= money\n",
    "            \n",
    "    def display_info(self):  # 함수추가 <<<<==========================\n",
    "        print(\"은행이름: {}\".format(self.bank))\n",
    "        print(\"예금주: {}\".format(self.name))\n",
    "        print(\"계좌번호: {}\".format(self.account_num))\n",
    "        print(\"잔고: {0:,}원\".format(self.balance))"
   ]
  },
  {
   "cell_type": "code",
   "execution_count": 129,
   "metadata": {},
   "outputs": [
    {
     "name": "stdout",
     "output_type": "stream",
     "text": [
      "은행이름: SC은행\n",
      "예금주: 파이썬\n",
      "계좌번호: 602-51-463562\n",
      "잔고: 10,000원\n"
     ]
    }
   ],
   "source": [
    "p = Account(\"파이썬\", 10000)\n",
    "\n",
    "p.display_info()"
   ]
  },
  {
   "cell_type": "code",
   "execution_count": null,
   "metadata": {},
   "outputs": [],
   "source": [
    "# 277 이자 지급하기\n",
    "# 조건) 입금 횟수가 5회가 될 때,\n",
    "# 잔고를 기준으로 1%의 이자가 잔고에 추가되도록 코드를 변경해보세요."
   ]
  },
  {
   "cell_type": "code",
   "execution_count": 149,
   "metadata": {},
   "outputs": [],
   "source": [
    "import random\n",
    "\n",
    "class Account:\n",
    "    account_cnt = 0\n",
    "    \n",
    "    def __init__(self,name,balance): # 예금주와 초기 잔액만 입력 받습니다.        \n",
    "        \n",
    "        #입금횟수 만들기 <<<<==========================\n",
    "        self.deposit_cnt = 0\n",
    "        \n",
    "        self.name = name\n",
    "        self.balance = balance\n",
    "        self.bank = \"SC은행\" # 은행이름은 SC은행으로 \n",
    "        \n",
    "        # 계좌번호는 3자리-2자리-6자리 형태로 랜덤하게 생성                \n",
    "        first = random.randrange(0,1000) # 3자리\n",
    "        second = random.randrange(0,100) # 2자리\n",
    "        three = random.randrange(0,1000000) #6자리\n",
    "        \n",
    "        #계좌번호 생성하기\n",
    "        self.account_num = \"%03d\"%first +\"-\" + \"%02d\"%second +\"-\"+ \"%06d\"%three\n",
    "        \n",
    "        # 생성된 계좌 객체의 개수\n",
    "        Account.account_cnt+=1 #Account 클래스 사용해서\n",
    "        \n",
    "    \n",
    "    def get_account_num(self):\n",
    "        print(self.account_cnt)\n",
    "    \n",
    "    def deposit(self,money):\n",
    "        # 입금은 최소 1원 이상만 가능합니다.\n",
    "        if money >= 1 :\n",
    "            self.balance +=money\n",
    "            \n",
    "            self.deposit_cnt +=1    # 입금 횟수 더하고  <<<<==========================\n",
    "            if self.deposit_cnt %5 ==0:   #5회가 될때마다 (조건식)  <<<<==========================\n",
    "                self.balance = (self.balance *1.01)    #balance에서 이자 1% 추가해주기  <<<<==========================\n",
    "            \n",
    "            \n",
    "    def withdraw(self,money):        \n",
    "        # 출금은 계좌의 잔고 이상으로 출금할 수는 없습니다.\n",
    "        if self.balance > money:\n",
    "            self.balance -= money\n",
    "            \n",
    "    def display_info(self):\n",
    "        print(\"은행이름: {}\".format(self.bank))\n",
    "        print(\"예금주: {}\".format(self.name))\n",
    "        print(\"계좌번호: {}\".format(self.account_num))\n",
    "        print(\"잔고: {0:,}원\".format(self.balance))"
   ]
  },
  {
   "cell_type": "code",
   "execution_count": 150,
   "metadata": {},
   "outputs": [
    {
     "name": "stdout",
     "output_type": "stream",
     "text": [
      "6060.0\n"
     ]
    }
   ],
   "source": [
    "# 확인해보기\n",
    "\n",
    "test1= Account(\"또방\",1000)\n",
    "\n",
    "test1.deposit(1000) # +1000원\n",
    "test1.deposit(1000) # +1000원 \n",
    "test1.deposit(1000) # +1000원 \n",
    "test1.deposit(1000) # +1000원\n",
    "test1.deposit(1000) # +1000원\n",
    "\n",
    "# --------------------원금의 합이 6천원\n",
    "print(test1.balance)"
   ]
  },
  {
   "cell_type": "code",
   "execution_count": 156,
   "metadata": {},
   "outputs": [],
   "source": [
    "# 278 여러 객체 생성\n",
    "\n",
    "a = Account(\"유재석\",1000000)\n",
    "b = Account(\"하하\",10000)\n",
    "c = Account(\"정준하\",1000)\n",
    "\n",
    "custom=[]\n",
    "\n",
    "custom.append(a)\n",
    "custom.append(b)\n",
    "custom.append(c)"
   ]
  },
  {
   "cell_type": "code",
   "execution_count": 157,
   "metadata": {},
   "outputs": [
    {
     "data": {
      "text/plain": [
       "[<__main__.Account at 0x2a3d31aa5e0>,\n",
       " <__main__.Account at 0x2a3d31aaa90>,\n",
       " <__main__.Account at 0x2a3d31aa370>]"
      ]
     },
     "execution_count": 157,
     "metadata": {},
     "output_type": "execute_result"
    }
   ],
   "source": [
    "custom"
   ]
  },
  {
   "cell_type": "code",
   "execution_count": 161,
   "metadata": {},
   "outputs": [
    {
     "name": "stdout",
     "output_type": "stream",
     "text": [
      "은행이름: SC은행\n",
      "예금주: 유재석\n",
      "계좌번호: 031-96-422306\n",
      "잔고: 1,000,000원\n"
     ]
    }
   ],
   "source": [
    "# 279 객체 순회\n",
    "# 반복문을 통해 리스트에 있는 객체를 순회하면서\n",
    "# 잔고가 100만원 이상인 고객의 정보만 출력하세요.\n",
    "\n",
    "for i in custom:\n",
    "    if i.balance >= 1000000:\n",
    "        i.display_info()"
   ]
  },
  {
   "cell_type": "code",
   "execution_count": 162,
   "metadata": {},
   "outputs": [],
   "source": [
    "# 280 입출금 내역\n",
    "# 입금과 출금 내역이 기록되도록 코드를 업데이트 하세요. \n",
    "# 입금 내역 deposit_history과 출금 내역withdraw_history 출력 메서드를 추가"
   ]
  },
  {
   "cell_type": "code",
   "execution_count": 213,
   "metadata": {},
   "outputs": [],
   "source": [
    "import random\n",
    "\n",
    "class Account:\n",
    "    account_cnt = 0\n",
    "    \n",
    "    def __init__(self,name,balance): # 예금주와 초기 잔액만 입력 받습니다.        \n",
    "        \n",
    "        self.deposit_cnt = 0 #입금횟수 만들기 \n",
    "        self.deposit_mem = [] #입금 기록 <==============\n",
    "        self.withdraw_mem = [] #출금 기록 <============\n",
    "        self.name = name\n",
    "        self.balance = balance\n",
    "        self.bank = \"SC은행\" # 은행이름은 SC은행으로 \n",
    "        \n",
    "        # 계좌번호는 3자리-2자리-6자리 형태로 랜덤하게 생성                \n",
    "        first = random.randrange(0,1000) # 3자리\n",
    "        second = random.randrange(0,100) # 2자리\n",
    "        three = random.randrange(0,1000000) #6자리\n",
    "        \n",
    "        #계좌번호 생성하기\n",
    "        self.account_num = \"%03d\"%first +\"-\" + \"%02d\"%second +\"-\"+ \"%06d\"%three\n",
    "        \n",
    "        # 생성된 계좌 객체의 개수\n",
    "        Account.account_cnt+=1 #Account 클래스 사용해서\n",
    "        \n",
    "    \n",
    "    def get_account_num(self):\n",
    "        print(self.account_cnt)\n",
    "    \n",
    "    def deposit(self,money):\n",
    "        # 입금은 최소 1원 이상만 가능합니다.\n",
    "        if money >= 1 :\n",
    "            self.deposit_mem.append(money) #입금액추가<===========\n",
    "            self.balance +=money\n",
    "            \n",
    "            self.deposit_cnt +=1    # 입금 횟수 더하고  \n",
    "            #5회가 될때마다 (조건식) balance에서 이자 1% 추가해주기 \n",
    "            if self.deposit_cnt %5 ==0:   \n",
    "                self.balance = (self.balance *1.01)   \n",
    "            \n",
    "            \n",
    "    def withdraw(self, money):        \n",
    "        # 출금은 계좌의 잔고 이상으로 출금할 수는 없습니다.\n",
    "        if self.balance > money:\n",
    "            self.withdraw_mem.append(money) #출금액추가<===========\n",
    "            self.balance -= money\n",
    "            \n",
    "    def display_info(self):\n",
    "        print(\"은행이름: {}\".format(self.bank))\n",
    "        print(\"예금주: {}\".format(self.name))\n",
    "        print(\"계좌번호: {}\".format(self.account_num))\n",
    "        print(\"잔고: {0:,}원\".format(self.balance))\n",
    "        \n",
    "    def deposit_history(self):\n",
    "        for i in self.deposit_mem:\n",
    "            print(\"{}원이 입금 되었습니다.\".format(i))\n",
    "        \n",
    "    def withdraw_history(self):\n",
    "        for i in self.withdraw_mem:\n",
    "            print(\"{}원이 출금 되었습니다.\".format(i))\n",
    "        "
   ]
  },
  {
   "cell_type": "code",
   "execution_count": 214,
   "metadata": {},
   "outputs": [],
   "source": [
    "#제대로 들어갔다 확인해보기!!!\n",
    "test = Account (\"또방\", 1000)"
   ]
  },
  {
   "cell_type": "code",
   "execution_count": 215,
   "metadata": {},
   "outputs": [
    {
     "name": "stdout",
     "output_type": "stream",
     "text": [
      "2000원이 입금 되었습니다.\n",
      "3000원이 입금 되었습니다.\n",
      "4000원이 입금 되었습니다.\n",
      "5000원이 입금 되었습니다.\n"
     ]
    }
   ],
   "source": [
    "test.deposit(2000)\n",
    "test.deposit(3000)\n",
    "test.deposit(4000)\n",
    "test.deposit(5000)\n",
    "\n",
    "test.deposit_history()"
   ]
  },
  {
   "cell_type": "code",
   "execution_count": 216,
   "metadata": {},
   "outputs": [
    {
     "name": "stdout",
     "output_type": "stream",
     "text": [
      "10원이 출금 되었습니다.\n",
      "20원이 출금 되었습니다.\n",
      "30원이 출금 되었습니다.\n",
      "40원이 출금 되었습니다.\n"
     ]
    }
   ],
   "source": [
    "test.withdraw(10)\n",
    "test.withdraw(20)\n",
    "test.withdraw(30)\n",
    "test.withdraw(40)\n",
    "\n",
    "test.withdraw_history()"
   ]
  },
  {
   "cell_type": "code",
<<<<<<< HEAD
   "execution_count": 2,
=======
   "execution_count": 4,
>>>>>>> e12f651e3bec6f3a635bc0038dc9f3c980ca991f
   "metadata": {},
   "outputs": [],
   "source": [
    "# 281 클래스 정의\n",
    "# 다음 코드가 동작하도록 차 클래스를 정의하세요.\n",
    "\n",
    "class 차:\n",
    "    \n",
    "    def __init__(self,바퀴,가격):\n",
    "        self.바퀴 = 바퀴\n",
    "        self.가격 = 가격"
   ]
  },
  {
   "cell_type": "code",
<<<<<<< HEAD
   "execution_count": 5,
   "metadata": {},
   "outputs": [
    {
     "data": {
      "text/plain": [
       "2"
      ]
     },
     "execution_count": 5,
     "metadata": {},
     "output_type": "execute_result"
    }
   ],
   "source": [
    "car = 차(2, 1000)\n",
    "car.바퀴"
   ]
  },
  {
   "cell_type": "code",
   "execution_count": 6,
   "metadata": {},
   "outputs": [
    {
     "data": {
      "text/plain": [
       "1000"
      ]
     },
     "execution_count": 6,
     "metadata": {},
     "output_type": "execute_result"
    }
   ],
   "source": [
    "car.가격"
   ]
  },
  {
   "cell_type": "code",
   "execution_count": 7,
   "metadata": {},
   "outputs": [],
   "source": [
    "# 282 클래스 상속\n",
    "class 차:\n",
    "    \n",
    "    def __init__(self,바퀴,가격):\n",
    "        self.바퀴 = 바퀴\n",
    "        self.가격 = 가격\n",
    "        \n",
    "class 자전차(차):\n",
    "    pass"
   ]
  },
  {
   "cell_type": "code",
   "execution_count": 10,
   "metadata": {},
   "outputs": [],
   "source": [
    "# 283 클래스 상속\n",
    "class 차:\n",
    "    \n",
    "    def __init__(self,바퀴,가격):\n",
    "        self.바퀴 = 바퀴\n",
    "        self.가격 = 가격\n",
    "        \n",
    "class 자전차(차):\n",
    "    def __init__(self, 바퀴, 가격):\n",
    "        self.바퀴 = 바퀴\n",
    "        self.가격 = 가격"
   ]
  },
  {
   "cell_type": "code",
   "execution_count": 11,
   "metadata": {},
   "outputs": [
    {
     "data": {
      "text/plain": [
       "100"
      ]
     },
     "execution_count": 11,
     "metadata": {},
     "output_type": "execute_result"
    }
   ],
   "source": [
    "bicycle = 자전차(2, 100)\n",
    "bicycle.가격"
   ]
  },
  {
   "cell_type": "code",
   "execution_count": 14,
   "metadata": {},
   "outputs": [],
   "source": [
    "# 284 클래스 상속\n",
    "class 차:\n",
    "    \n",
    "    def __init__(self,바퀴,가격):\n",
    "        self.바퀴 = 바퀴\n",
    "        self.가격 = 가격\n",
    "        \n",
    "class 자전차(차):\n",
    "    def __init__(self, 바퀴, 가격, 구동계):\n",
    "        super().__init__(바퀴,가격)\n",
    "        self.구동계 = 구동계"
   ]
  },
  {
   "cell_type": "code",
   "execution_count": 16,
   "metadata": {},
   "outputs": [
    {
     "name": "stdout",
     "output_type": "stream",
     "text": [
      "시마노\n",
      "2\n"
     ]
    }
   ],
   "source": [
    "bicycle = 자전차(2, 100, \"시마노\")\n",
    "print(bicycle.구동계)\n",
    "print(bicycle.바퀴)"
   ]
  },
  {
   "cell_type": "code",
   "execution_count": 18,
   "metadata": {},
   "outputs": [],
   "source": [
    "# 285 클래스 상속\n",
    "\n",
    "class 차:\n",
    "    \n",
    "    def __init__(self,바퀴,가격):\n",
    "        self.바퀴 = 바퀴\n",
    "        self.가격 = 가격\n",
    "        \n",
    "class 자전차(차):\n",
    "    def __init__(self, 바퀴, 가격, 구동계):\n",
    "        super().__init__(바퀴,가격)\n",
    "        self.구동계 = 구동계\n",
    "\n",
    "class 자동차(차):\n",
    "    def __init__(self, 바퀴, 가격):\n",
    "        super().__init__(바퀴,가격)\n",
    "    \n",
    "    def 정보(self):\n",
    "        print(\"바퀴수\",self.바퀴)\n",
    "        print(\"가격\", self.가격)"
   ]
  },
  {
   "cell_type": "code",
   "execution_count": 19,
   "metadata": {},
   "outputs": [
    {
     "name": "stdout",
     "output_type": "stream",
     "text": [
      "바퀴수 4\n",
      "가격 1000\n"
     ]
    }
   ],
   "source": [
    "car = 자동차(4, 1000)\n",
    "car.정보()"
   ]
  },
  {
   "cell_type": "code",
   "execution_count": 20,
   "metadata": {},
   "outputs": [],
   "source": [
    "# 286 부모 클래스 생성자 호출\n",
    "\n",
    "class 차:\n",
    "    def __init__(self,바퀴,가격):\n",
    "        self.바퀴 = 바퀴\n",
    "        self.가격 = 가격\n",
    "        \n",
    "    def 정보(self):\n",
    "        print(\"바퀴수\",self.바퀴)\n",
    "        print(\"가격\", self.가격)\n",
    "        \n",
    "class 자전차(차):\n",
    "    def __init__(self, 바퀴, 가격, 구동계):\n",
    "        super().__init__(바퀴,가격)\n",
    "        self.구동계 = 구동계\n",
    "    \n",
    "\n",
    "class 자동차(차):\n",
    "    def __init__(self, 바퀴, 가격):\n",
    "        super().__init__(바퀴,가격)"
   ]
  },
  {
   "cell_type": "code",
   "execution_count": 21,
=======
   "execution_count": 8,
>>>>>>> e12f651e3bec6f3a635bc0038dc9f3c980ca991f
   "metadata": {},
   "outputs": [
    {
     "name": "stdout",
     "output_type": "stream",
     "text": [
<<<<<<< HEAD
      "바퀴수 2\n",
      "가격 100\n"
=======
      "2\n",
      "1000\n"
>>>>>>> e12f651e3bec6f3a635bc0038dc9f3c980ca991f
     ]
    }
   ],
   "source": [
<<<<<<< HEAD
    "bicycle = 자전차(2, 100, \"시마노\")\n",
    "bicycle.정보()"
   ]
  },
  {
   "cell_type": "code",
   "execution_count": 25,
   "metadata": {},
   "outputs": [],
   "source": [
    "# 287 부모 클래스 메서드 호출\n",
    "\n",
    "class 차:\n",
    "    def __init__(self,바퀴,가격):\n",
    "        self.바퀴 = 바퀴\n",
    "        self.가격 = 가격\n",
    "        \n",
    "    def 정보(self):\n",
    "        print(\"바퀴수\",self.바퀴)\n",
    "        print(\"가격\", self.가격)\n",
    "        \n",
    "        \n",
    "class 자전차(차):\n",
    "    def __init__(self, 바퀴, 가격, 구동계):\n",
    "        super().__init__(바퀴,가격)\n",
    "        self.구동계 = 구동계\n",
    "    \n",
    "    def 정보(self):\n",
    "        super().정보()\n",
    "        print(\"구동계\",self.구동계)\n",
    "\n",
    "class 자동차(차):\n",
    "    def __init__(self, 바퀴, 가격):\n",
    "        super().__init__(바퀴,가격)"
   ]
  },
  {
   "cell_type": "code",
   "execution_count": 26,
   "metadata": {},
   "outputs": [
    {
     "name": "stdout",
     "output_type": "stream",
     "text": [
      "바퀴수 2\n",
      "가격 100\n",
      "구동계 시마노\n"
     ]
    }
   ],
   "source": [
    "bicycle = 자전차(2, 100, \"시마노\")\n",
    "bicycle.정보()"
   ]
  },
  {
   "cell_type": "code",
   "execution_count": 27,
   "metadata": {},
   "outputs": [
    {
     "name": "stdout",
     "output_type": "stream",
     "text": [
      "자식호출\n"
     ]
    }
   ],
   "source": [
    "# 288 메서드 오버라이딩\n",
    "class 부모:\n",
    "  def 호출(self):\n",
    "    print(\"부모호출\")\n",
    "\n",
    "class 자식(부모):\n",
    "  def 호출(self):\n",
    "    print(\"자식호출\")\n",
    "    \n",
    "    \n",
    "나 = 자식()\n",
    "나.호출()     \n",
    "\n",
    "#자식클래스에 호출()있으니 우선순위 1번 만약, 자식클래스에 없었다면 부모클래스의 호출()가 실행되어 \"부모생성\"이 나왔을것이다."
   ]
  },
  {
   "cell_type": "code",
   "execution_count": 28,
   "metadata": {},
   "outputs": [
    {
     "name": "stdout",
     "output_type": "stream",
     "text": [
      "자식생성\n"
     ]
    }
   ],
   "source": [
    "# 289 생성자\n",
    "class 부모:\n",
    "  def __init__(self):\n",
    "    print(\"부모생성\")\n",
    "\n",
    "class 자식(부모):\n",
    "  def __init__(self):\n",
    "    print(\"자식생성\")\n",
    "    \n",
    "나 = 자식()\n",
    "# 자식 클래스 생성자 실행됨"
   ]
  },
  {
   "cell_type": "code",
   "execution_count": 29,
   "metadata": {},
   "outputs": [
    {
     "name": "stdout",
     "output_type": "stream",
     "text": [
      "자식생성\n",
      "부모생성\n"
     ]
    }
   ],
   "source": [
    "# 290 부모클래스 생성자 호출\n",
    "\n",
    "class 부모:\n",
    "  def __init__(self):\n",
    "    print(\"부모생성\")\n",
    "\n",
    "class 자식(부모):\n",
    "  def __init__(self):\n",
    "    print(\"자식생성\")\n",
    "    super().__init__()\n",
    "\n",
    "나 = 자식()  \n",
    "# 먼저 자식클래스의 생성자안 출력 됨 \n",
    "# 그래서 자식생성 출력  & 상속받은 부모클래스도 출력 "
=======
    "car = 차(2, 1000)\n",
    "print(car.바퀴)\n",
    "print(car.가격)"
>>>>>>> e12f651e3bec6f3a635bc0038dc9f3c980ca991f
   ]
  },
  {
   "cell_type": "code",
   "execution_count": 10,
   "metadata": {},
   "outputs": [],
   "source": [
    "# 282 클래스 상속  =======> 아직 안배움"
   ]
  },
  {
   "cell_type": "code",
   "execution_count": null,
   "metadata": {},
   "outputs": [],
   "source": []
  }
 ],
 "metadata": {
  "colab": {
   "collapsed_sections": [],
   "name": "241_290_초보자를_위한_파이썬_300제.ipynb",
   "provenance": []
  },
  "kernelspec": {
   "display_name": "Python 3 (ipykernel)",
   "language": "python",
   "name": "python3"
  },
  "language_info": {
   "codemirror_mode": {
    "name": "ipython",
    "version": 3
   },
   "file_extension": ".py",
   "mimetype": "text/x-python",
   "name": "python",
   "nbconvert_exporter": "python",
   "pygments_lexer": "ipython3",
   "version": "3.9.7"
  },
  "toc": {
   "base_numbering": 1,
   "nav_menu": {},
   "number_sections": true,
   "sideBar": true,
   "skip_h1_title": false,
   "title_cell": "Table of Contents",
   "title_sidebar": "Contents",
   "toc_cell": false,
   "toc_position": {},
   "toc_section_display": true,
   "toc_window_display": false
  }
 },
 "nbformat": 4,
 "nbformat_minor": 1
}
