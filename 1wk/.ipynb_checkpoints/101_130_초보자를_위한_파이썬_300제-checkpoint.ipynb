{
 "cells": [
  {
   "cell_type": "code",
   "execution_count": 1,
   "metadata": {},
   "outputs": [
    {
     "data": {
      "text/html": [
       "<style>.container { width:100% !important; }</style>"
      ],
      "text/plain": [
       "<IPython.core.display.HTML object>"
      ]
     },
     "metadata": {},
     "output_type": "display_data"
    }
   ],
   "source": [
    "from IPython.core.display import display, HTML \n",
    "display(HTML(\"<style>.container { width:100% !important; }</style>\"))\n",
    "#티스토리 업로드 원활하게:-)"
   ]
  },
  {
   "cell_type": "markdown",
   "metadata": {
    "id": "g-A7YqC1a0DL"
   },
   "source": [
    "# 07.파이썬 분기문"
   ]
  },
  {
   "cell_type": "code",
   "execution_count": null,
   "metadata": {
    "id": "hGytXXrmbBxf"
   },
   "outputs": [],
   "source": [
    "# 101\n",
    "# bool 타입!"
   ]
  },
  {
   "cell_type": "code",
   "execution_count": null,
   "metadata": {
    "colab": {
     "base_uri": "https://localhost:8080/"
    },
    "id": "N0Z8RfpObAQE",
    "outputId": "efd1165c-5e35-4c32-f0d3-df4edeef78d5"
   },
   "outputs": [
    {
     "name": "stdout",
     "output_type": "stream",
     "text": [
      "False\n"
     ]
    }
   ],
   "source": [
    "# 102\n",
    "print(3 == 5) #False!!"
   ]
  },
  {
   "cell_type": "code",
   "execution_count": null,
   "metadata": {
    "colab": {
     "base_uri": "https://localhost:8080/"
    },
    "id": "TsNqkbGsbWm3",
    "outputId": "fe86df43-5afe-462c-acb2-25fff9185921"
   },
   "outputs": [
    {
     "name": "stdout",
     "output_type": "stream",
     "text": [
      "True\n"
     ]
    }
   ],
   "source": [
    "# 103\n",
    "print(3 < 5) #True!!"
   ]
  },
  {
   "cell_type": "code",
   "execution_count": null,
   "metadata": {
    "colab": {
     "base_uri": "https://localhost:8080/"
    },
    "id": "rolUq69nba-N",
    "outputId": "ebeb5c40-e570-4e5d-e303-89d140a8dc9e"
   },
   "outputs": [
    {
     "name": "stdout",
     "output_type": "stream",
     "text": [
      "True\n"
     ]
    }
   ],
   "source": [
    "# 104\n",
    "x = 4\n",
    "print(1 < x < 5) #True!!"
   ]
  },
  {
   "cell_type": "code",
   "execution_count": null,
   "metadata": {
    "colab": {
     "base_uri": "https://localhost:8080/"
    },
    "id": "rYQGL_5lbfuk",
    "outputId": "c47b0e96-e780-49b2-88bd-c30aea0ddc75"
   },
   "outputs": [
    {
     "name": "stdout",
     "output_type": "stream",
     "text": [
      "True\n"
     ]
    }
   ],
   "source": [
    "# 105\n",
    "print ((3 == 3) and (4 != 3)) #True!"
   ]
  },
  {
   "cell_type": "code",
   "execution_count": null,
   "metadata": {
    "colab": {
     "base_uri": "https://localhost:8080/",
     "height": 136
    },
    "id": "VoF70wBBflvN",
    "outputId": "06591153-eee8-4184-ba25-7904f13914d3"
   },
   "outputs": [
    {
     "ename": "SyntaxError",
     "evalue": "ignored",
     "output_type": "error",
     "traceback": [
      "\u001b[0;36m  File \u001b[0;32m\"<ipython-input-5-0ec3642ec804>\"\u001b[0;36m, line \u001b[0;32m2\u001b[0m\n\u001b[0;31m    print(3 => 4) #False!\u001b[0m\n\u001b[0m             ^\u001b[0m\n\u001b[0;31mSyntaxError\u001b[0m\u001b[0;31m:\u001b[0m invalid syntax\n"
     ]
    }
   ],
   "source": [
    "# 106\n",
    "print(3 => 4) #이거는 >=로 바꿔야함"
   ]
  },
  {
   "cell_type": "code",
   "execution_count": null,
   "metadata": {
    "colab": {
     "base_uri": "https://localhost:8080/"
    },
    "id": "BSWG4LLkfpo9",
    "outputId": "737cac07-db33-45af-be9e-9be746150001"
   },
   "outputs": [
    {
     "name": "stdout",
     "output_type": "stream",
     "text": [
      "False\n"
     ]
    }
   ],
   "source": [
    "print(3 >= 4)"
   ]
  },
  {
   "cell_type": "code",
   "execution_count": null,
   "metadata": {
    "id": "6eEZPRpnbkIC"
   },
   "outputs": [],
   "source": [
    "# 107\n",
    "if 4 < 3:\n",
    "    print(\"Hello World\")\n",
    "#False이니까 출력하지 않는다!"
   ]
  },
  {
   "cell_type": "code",
   "execution_count": null,
   "metadata": {
    "colab": {
     "base_uri": "https://localhost:8080/"
    },
    "id": "ItqLYqV0f2Xf",
    "outputId": "cba4a920-f89f-46b6-bed8-49cf8870e804"
   },
   "outputs": [
    {
     "name": "stdout",
     "output_type": "stream",
     "text": [
      "Hi, there.\n"
     ]
    }
   ],
   "source": [
    "# 108\n",
    "if 4 < 3:\n",
    "    print(\"Hello World.\")\n",
    "else:\n",
    "    print(\"Hi, there.\")\n",
    "\n",
    "#False니까 else로 출력"
   ]
  },
  {
   "cell_type": "code",
   "execution_count": null,
   "metadata": {
    "colab": {
     "base_uri": "https://localhost:8080/"
    },
    "id": "JMkAB8-7f-1y",
    "outputId": "9a8a8678-7f8f-499a-e4f1-9c09273b696b"
   },
   "outputs": [
    {
     "name": "stdout",
     "output_type": "stream",
     "text": [
      "1\n",
      "2\n",
      "4\n"
     ]
    }
   ],
   "source": [
    "# 109\n",
    "if True :\n",
    "    print (\"1\")\n",
    "    print (\"2\")\n",
    "else :\n",
    "    print(\"3\")\n",
    "print(\"4\")\n",
    "\n",
    "#True니까 1,2 그리고 조건식을 벗어난4까지 출력"
   ]
  },
  {
   "cell_type": "code",
   "execution_count": null,
   "metadata": {
    "colab": {
     "base_uri": "https://localhost:8080/"
    },
    "id": "3EeQnbGHgHJo",
    "outputId": "cf079e5c-58b2-4957-a6c0-14861508a18d"
   },
   "outputs": [
    {
     "name": "stdout",
     "output_type": "stream",
     "text": [
      "3\n",
      "5\n"
     ]
    }
   ],
   "source": [
    "# 110\n",
    "if True :\n",
    "    if False:\n",
    "        print(\"1\")\n",
    "        print(\"2\")\n",
    "    else:\n",
    "        print(\"3\")\n",
    "else :\n",
    "    print(\"4\")\n",
    "print(\"5\")\n",
    "\n",
    "#True->else3->5"
   ]
  },
  {
   "cell_type": "code",
   "execution_count": null,
   "metadata": {
    "colab": {
     "base_uri": "https://localhost:8080/"
    },
    "id": "EaPnLkQ4gXUc",
    "outputId": "52775845-6621-486c-a023-b3eab3c3d04e"
   },
   "outputs": [
    {
     "name": "stdout",
     "output_type": "stream",
     "text": [
      "안녕하세요\n",
      "안녕하세요안녕하세요\n"
     ]
    }
   ],
   "source": [
    "# 111\n",
    "a=input()\n",
    "print(a*2)"
   ]
  },
  {
   "cell_type": "code",
   "execution_count": null,
   "metadata": {
    "colab": {
     "base_uri": "https://localhost:8080/"
    },
    "id": "1VepONC2W-g3",
    "outputId": "bff2dc98-d701-4617-c4a4-7f1c43e2b3dc"
   },
   "outputs": [
    {
     "name": "stdout",
     "output_type": "stream",
     "text": [
      "숫자를 입력하세요: 30\n",
      "40\n"
     ]
    }
   ],
   "source": [
    "# 112\n",
    "a=int(input(\"숫자를 입력하세요: \"))\n",
    "print(a+10)"
   ]
  },
  {
   "cell_type": "code",
   "execution_count": null,
   "metadata": {
    "colab": {
     "base_uri": "https://localhost:8080/"
    },
    "id": "uvQRpz7rXHn_",
    "outputId": "66667c15-217d-42f0-cfb9-638c194cab73"
   },
   "outputs": [
    {
     "name": "stdout",
     "output_type": "stream",
     "text": [
      "30\n",
      "짝수\n"
     ]
    }
   ],
   "source": [
    "# 113\n",
    "a=int(input())\n",
    "if a%2==0: print(\"짝수\")\n",
    "else: print(\"홀수\")"
   ]
  },
  {
   "cell_type": "code",
   "execution_count": null,
   "metadata": {
    "colab": {
     "base_uri": "https://localhost:8080/"
    },
    "id": "KDZJM2mmXUyn",
    "outputId": "fb6b9cfb-6638-4a40-bf26-5887ff491783"
   },
   "outputs": [
    {
     "name": "stdout",
     "output_type": "stream",
     "text": [
      "입력값: 200\n",
      "220\n"
     ]
    }
   ],
   "source": [
    "# 114\n",
    "a=int(input('입력값: '))\n",
    "a+=20\n",
    "if a>255: print(255)\n",
    "else: print(a)"
   ]
  },
  {
   "cell_type": "code",
   "execution_count": null,
   "metadata": {
    "colab": {
     "base_uri": "https://localhost:8080/"
    },
    "id": "cHp9QchtXvhi",
    "outputId": "0f522285-670d-4961-8bb8-3f80335cbd00"
   },
   "outputs": [
    {
     "name": "stdout",
     "output_type": "stream",
     "text": [
      "입력값: 240\n",
      "255\n"
     ]
    }
   ],
   "source": [
    "# 114\n",
    "a=int(input('입력값: '))\n",
    "a+=20\n",
    "if a>255: print(255)\n",
    "else: print(a)"
   ]
  },
  {
   "cell_type": "code",
   "execution_count": 2,
   "metadata": {
    "colab": {
     "base_uri": "https://localhost:8080/"
    },
    "id": "VPA7XHFuXxqz",
    "outputId": "85d7b6ff-b130-4c91-e2ad-24cab74f7cca"
   },
   "outputs": [
    {
     "name": "stdout",
     "output_type": "stream",
     "text": [
      "200\n",
      "180\n"
     ]
    }
   ],
   "source": [
    "# 115\n",
    "a=int(input())\n",
    "a-=20\n",
    "if a>255: print(255)\n",
    "else: print(a)"
   ]
  },
  {
   "cell_type": "code",
   "execution_count": 3,
   "metadata": {
    "colab": {
     "base_uri": "https://localhost:8080/"
    },
    "id": "2bPf_D-TvriT",
    "outputId": "d155db81-2568-457f-df23-c7e66bee51db"
   },
   "outputs": [
    {
     "name": "stdout",
     "output_type": "stream",
     "text": [
      "15\n",
      "-5\n"
     ]
    }
   ],
   "source": [
    "# 115\n",
    "a=int(input())\n",
    "a-=20\n",
    "if a>255: print(255)\n",
    "else: print(a)"
   ]
  },
  {
   "cell_type": "code",
   "execution_count": 4,
   "metadata": {
    "colab": {
     "base_uri": "https://localhost:8080/"
    },
    "id": "MKRz9FJXvlgE",
    "outputId": "2b1faff3-2898-4ffe-cd0d-2c199c766c65"
   },
   "outputs": [
    {
     "name": "stdout",
     "output_type": "stream",
     "text": [
      "현재시간: 02:00\n",
      "정각 입니다.\n"
     ]
    }
   ],
   "source": [
    "# 116\n",
    "a= input(\"현재시간: \")\n",
    "if a[3:5]==\"00\": print(\"정각 입니다.\")\n",
    "else: print(\"정각이 아닙니다.\")"
   ]
  },
  {
   "cell_type": "code",
   "execution_count": 5,
   "metadata": {
    "colab": {
     "base_uri": "https://localhost:8080/"
    },
    "id": "Oq1WYsSiwHdj",
    "outputId": "356db7e5-a55a-41bb-ae42-fba956407ff8"
   },
   "outputs": [
    {
     "name": "stdout",
     "output_type": "stream",
     "text": [
      "현재시간: 03:10\n",
      "정각이 아닙니다.\n"
     ]
    }
   ],
   "source": [
    "# 116\n",
    "a= input(\"현재시간: \")\n",
    "if a[3:5]==\"00\": print(\"정각 입니다.\")\n",
    "else: print(\"정각이 아닙니다.\")"
   ]
  },
  {
   "cell_type": "code",
   "execution_count": 6,
   "metadata": {
    "colab": {
     "base_uri": "https://localhost:8080/"
    },
    "id": "YyTkwo7pwKl5",
    "outputId": "b80879b8-1726-47d8-d092-d8487c7a29b0"
   },
   "outputs": [
    {
     "name": "stdout",
     "output_type": "stream",
     "text": [
      "현재시간: 03:10\n",
      "정각이 아닙니다.\n"
     ]
    }
   ],
   "source": [
    "# 116\n",
    "a= input(\"현재시간: \")\n",
    "if a[-2:]==\"00\": print(\"정각 입니다.\")\n",
    "else: print(\"정각이 아닙니다.\")"
   ]
  },
  {
   "cell_type": "code",
   "execution_count": 7,
   "metadata": {
    "colab": {
     "base_uri": "https://localhost:8080/"
    },
    "id": "ESL2kj3Zwlkj",
    "outputId": "ea31d5a0-a08b-4b51-eb05-d4bb30dbeecc"
   },
   "outputs": [
    {
     "name": "stdout",
     "output_type": "stream",
     "text": [
      "좋아하는 과일은? 사과\n",
      "정답입니다.\n"
     ]
    }
   ],
   "source": [
    "# 117\n",
    "fruit = [\"사과\", \"포도\", \"홍시\"]\n",
    "a=input(\"좋아하는 과일은? \")\n",
    "if a in fruit: print(\"정답입니다.\")\n",
    "else: print(\"오답입니다.\")"
   ]
  },
  {
   "cell_type": "code",
   "execution_count": null,
   "metadata": {
    "id": "F3VedmJlw5tO"
   },
   "outputs": [],
   "source": [
    "# 118\n",
    "warn_investment_list = [\"Microsoft\", \"Google\", \"Naver\", \"Kakao\", \"SAMSUNG\", \"LG\"]\n",
    "a = input(\"종목명: \")\n",
    "if a in warn_investment_list: print('투자 경고 종목입니다')\n",
    "else: print(\"투자 경고 종목이 아닙니다.\")"
   ]
  },
  {
   "cell_type": "code",
   "execution_count": 13,
   "metadata": {
    "colab": {
     "base_uri": "https://localhost:8080/"
    },
    "id": "RvkKww4Qw407",
    "outputId": "c601428f-3977-4a78-b61c-c283b79886dd"
   },
   "outputs": [
    {
     "name": "stdout",
     "output_type": "stream",
     "text": [
      "제가 좋아하는 계절은: 봄\n",
      "정답입니다\n"
     ]
    }
   ],
   "source": [
    "# 119\n",
    "fruit = {\"봄\" : \"딸기\", \"여름\" : \"토마토\", \"가을\" : \"사과\"}\n",
    "a=input(\"제가 좋아하는 계절은: \")\n",
    "\n",
    "if a in fruit.keys(): print(\"정답입니다\")\n",
    "else: print(\"오답입니다\")"
   ]
  },
  {
   "cell_type": "code",
   "execution_count": 9,
   "metadata": {
    "colab": {
     "base_uri": "https://localhost:8080/"
    },
    "id": "bxwX1Ie3xiJ8",
    "outputId": "bd604c46-c1ae-4ae0-abdb-d8784338bacb"
   },
   "outputs": [
    {
     "data": {
      "text/plain": [
       "dict_keys(['봄', '여름', '가을'])"
      ]
     },
     "execution_count": 9,
     "metadata": {},
     "output_type": "execute_result"
    }
   ],
   "source": [
    "fruit.keys()"
   ]
  },
  {
   "cell_type": "code",
   "execution_count": 14,
   "metadata": {
    "colab": {
     "base_uri": "https://localhost:8080/"
    },
    "id": "sItzSqP6x2o4",
    "outputId": "b967ae31-874e-41f0-e6b2-98293759b2bd"
   },
   "outputs": [
    {
     "name": "stdout",
     "output_type": "stream",
     "text": [
      "좋아하는 과일은? 한라봉\n",
      "오답입니다\n"
     ]
    }
   ],
   "source": [
    "# 120\n",
    "input(\"좋아하는 과일은? \")\n",
    "if a in fruit.values(): print(\"정답입니다\")\n",
    "else: print(\"오답입니다\")"
   ]
  },
  {
   "cell_type": "code",
   "execution_count": 17,
   "metadata": {
    "colab": {
     "base_uri": "https://localhost:8080/"
    },
    "id": "c21APiHQxqUG",
    "outputId": "361745f3-951f-4747-bd6a-41496bf29556"
   },
   "outputs": [
    {
     "name": "stdout",
     "output_type": "stream",
     "text": [
      "a\n",
      "A\n"
     ]
    }
   ],
   "source": [
    "# 121\n",
    "a=input()\n",
    "if a.islower(): print(a.upper())\n",
    "else: print(a.lower())"
   ]
  },
  {
   "cell_type": "code",
   "execution_count": 24,
   "metadata": {
    "colab": {
     "base_uri": "https://localhost:8080/"
    },
    "id": "9oY-PWtK-zJG",
    "outputId": "f4a4dfa4-6a04-4a31-81ad-1871b8979b6b"
   },
   "outputs": [
    {
     "name": "stdout",
     "output_type": "stream",
     "text": [
      "score: 83\n",
      "grade is A\n"
     ]
    }
   ],
   "source": [
    "# 122\n",
    "a=int(input(\"score: \"))\n",
    "if a<=20: result=\"E\"\n",
    "elif 20<a<=40: result=\"D\"\n",
    "elif 40<a<=60: result=\"C\"\n",
    "elif 60<a<=80: result=\"B\"\n",
    "elif 80<a<=100: result=\"A\"\n",
    "\n",
    "print(\"grade is\",result)"
   ]
  },
  {
   "cell_type": "code",
   "execution_count": 29,
   "metadata": {
    "colab": {
     "base_uri": "https://localhost:8080/"
    },
    "id": "-czK5W-5wIqM",
    "outputId": "f2e00aef-f954-4240-df5a-f8a248add453"
   },
   "outputs": [
    {
     "name": "stdout",
     "output_type": "stream",
     "text": [
      "입력: 100 달러\n",
      "116700.0 원\n"
     ]
    }
   ],
   "source": [
    "# 123\n",
    "환율 = {\"달러\":1167, \"엔\":1.096, \"유로\":1268, \"위안\":171}\n",
    "\n",
    "a, b=input(\"입력: \").split()\n",
    "\n",
    "print(float(a)*환율[b],\"원\")"
   ]
  },
  {
   "cell_type": "code",
   "execution_count": 32,
   "metadata": {
    "colab": {
     "base_uri": "https://localhost:8080/"
    },
    "id": "OFYJfUZAO50m",
    "outputId": "2e1b4cc7-2619-4fba-cbe7-b85039f74598"
   },
   "outputs": [
    {
     "name": "stdout",
     "output_type": "stream",
     "text": [
      "input number1: 10\n",
      "input number2: 9\n",
      "input number3: 20\n",
      "20\n"
     ]
    }
   ],
   "source": [
    "# 124\n",
    "\n",
    "a=int(input(\"input number1: \"))\n",
    "b=int(input(\"input number2: \"))\n",
    "c=int(input(\"input number3: \"))\n",
    "\n",
    "print(max(a,b,c))"
   ]
  },
  {
   "cell_type": "code",
   "execution_count": 34,
   "metadata": {
    "colab": {
     "base_uri": "https://localhost:8080/"
    },
    "id": "z6DYk3KTP7-v",
    "outputId": "5cd7d694-9830-4bc5-ad18-b72ecfe25b65"
   },
   "outputs": [
    {
     "name": "stdout",
     "output_type": "stream",
     "text": [
      "휴대전화 번호 입력: 011-345-1922\n",
      "당신은 SKT 사용자입니다.\n"
     ]
    }
   ],
   "source": [
    "# 125\n",
    "phone={\"011\":\"SKT\", \"016\":\"KT\", \"019\":\"LGU\", \"010\":\"알수없음\"}\n",
    "\n",
    "num=input(\"휴대전화 번호 입력: \")\n",
    "print(\"당신은\",phone[num[:3]],\"사용자입니다.\")"
   ]
  },
  {
   "cell_type": "code",
   "execution_count": 36,
   "metadata": {
    "colab": {
     "base_uri": "https://localhost:8080/"
    },
    "id": "OR0Zyt-RW9vl",
    "outputId": "475d6e78-8e32-40a0-e30c-dba334bfd254"
   },
   "outputs": [
    {
     "name": "stdout",
     "output_type": "stream",
     "text": [
      "우편번호: 01400\n",
      "도봉구\n"
     ]
    }
   ],
   "source": [
    "# 126\n",
    "강북구=[0,1,2]\n",
    "도봉구=[3,4,5]\n",
    "노원구=[6,7,8,9]\n",
    "\n",
    "num = input(\"우편번호: \")\n",
    "\n",
    "if num[2] in 강북구: print(\"강북구\")\n",
    "elif num[2] in 도봉구: print(\"도봉구\")\n",
    "else: print(\"도봉구\")"
   ]
  },
  {
   "cell_type": "code",
   "execution_count": 43,
   "metadata": {
    "colab": {
     "base_uri": "https://localhost:8080/"
    },
    "id": "GOxnvnK4gOxl",
    "outputId": "a31cb947-ce0f-4dc0-b067-769a21b7599a"
   },
   "outputs": [
    {
     "name": "stdout",
     "output_type": "stream",
     "text": [
      "주민등록번호: 821010-1635210\n",
      "남자\n"
     ]
    }
   ],
   "source": [
    "# 127\n",
    "\n",
    "a,b=input(\"주민등록번호: \").split(\"-\")\n",
    "\n",
    "if 1 or 3 in b[0]: print(\"남자\")\n",
    "else: print(\"여자\")"
   ]
  },
  {
   "cell_type": "code",
   "execution_count": 46,
   "metadata": {
    "colab": {
     "base_uri": "https://localhost:8080/"
    },
    "id": "Qf-vonNXSSeL",
    "outputId": "f08268c1-6451-4e5e-a99f-441a9fe9bc5d"
   },
   "outputs": [
    {
     "name": "stdout",
     "output_type": "stream",
     "text": [
      "주민등록번호:821010-1635210\n",
      "서울이 아닙니다\n"
     ]
    }
   ],
   "source": [
    "# 128\n",
    "a,b=input(\"주민등록번호:\").split(\"-\")\n",
    "if int(b[1:3])<9: print(\"서울 입니다\")\n",
    "else: print(\"서울이 아닙니다\")"
   ]
  },
  {
   "cell_type": "code",
   "execution_count": 47,
   "metadata": {
    "colab": {
     "base_uri": "https://localhost:8080/"
    },
    "id": "HwaZuviBTWoO",
    "outputId": "04fd8598-719b-4f71-fbc1-6c6c3b25cf03"
   },
   "outputs": [
    {
     "name": "stdout",
     "output_type": "stream",
     "text": [
      "주민등록번호:861010-1015210\n",
      "서울 입니다\n"
     ]
    }
   ],
   "source": [
    "# 128\n",
    "a,b=input(\"주민등록번호:\").split(\"-\")\n",
    "if int(b[1:3])<9: print(\"서울 입니다\")\n",
    "else: print(\"서울이 아닙니다\")"
   ]
  },
  {
   "cell_type": "code",
   "execution_count": 54,
   "metadata": {
    "colab": {
     "base_uri": "https://localhost:8080/"
    },
    "id": "0us2qCdZTlRh",
    "outputId": "4f4b8134-4cc2-4db3-8e43-59287ecc2e11"
   },
   "outputs": [
    {
     "name": "stdout",
     "output_type": "stream",
     "text": [
      "주민등록번호: 821010-1635210\n",
      "유효하지 않은 주민등록번호입니다.\n"
     ]
    }
   ],
   "source": [
    "# 129\n",
    "multi=[2,3,4,5,6,7,8,9,2,3,4,5]\n",
    "a,b=input(\"주민등록번호: \").split(\"-\")\n",
    "a+=b\n",
    "\n",
    "try_1=list()\n",
    "for i in range(12):\n",
    "  try_1.append(multi[i]*int(a[i]))\n",
    "try_1=sum(try_1)\n",
    "\n",
    "if multi[-1]==(11-try_1): print(\"유효한 주민등록번호입니다.\")\n",
    "else: print(\"유효하지 않은 주민등록번호입니다.\") "
   ]
  },
  {
   "cell_type": "code",
   "execution_count": 55,
   "metadata": {
    "id": "bc8aUFizWvg1"
   },
   "outputs": [],
   "source": [
    "# 130\n",
    "import requests\n",
    "btc = requests.get(\"https://api.bithumb.com/public/ticker/\").json()['data']"
   ]
  },
  {
   "cell_type": "code",
   "execution_count": 56,
   "metadata": {
    "colab": {
     "base_uri": "https://localhost:8080/"
    },
    "id": "cre4QDJdXBnx",
    "outputId": "953b87a8-40f5-4ff5-b8cd-2c54dbe0d682"
   },
   "outputs": [
    {
     "data": {
      "text/plain": [
       "{'acc_trade_value': '39083625350.2713',\n",
       " 'acc_trade_value_24H': '102744178631.6508',\n",
       " 'closing_price': '56511000',\n",
       " 'date': '1641354631390',\n",
       " 'fluctate_24H': '174000',\n",
       " 'fluctate_rate_24H': '0.31',\n",
       " 'max_price': '57650000',\n",
       " 'min_price': '55900000',\n",
       " 'opening_price': '57556000',\n",
       " 'prev_closing_price': '57540000',\n",
       " 'units_traded': '691.55759006',\n",
       " 'units_traded_24H': '1815.84340003'}"
      ]
     },
     "execution_count": 56,
     "metadata": {},
     "output_type": "execute_result"
    }
   ],
   "source": [
    "btc"
   ]
  },
  {
   "cell_type": "code",
   "execution_count": 59,
   "metadata": {
    "colab": {
     "base_uri": "https://localhost:8080/"
    },
    "id": "cVLYcmfCXTJ-",
    "outputId": "6482ff05-b6ff-473d-e9d4-f7d2280138f2"
   },
   "outputs": [
    {
     "name": "stdout",
     "output_type": "stream",
     "text": [
      "상승장\n"
     ]
    }
   ],
   "source": [
    "# (시가 + 변동폭)이 최고가 보다 높을 경우 \"상승장\", 그렇지 않은 경우 \"하락장\" \n",
    "# 최고가와 최저가의 차이를 변동폭으로 정의\n",
    "#  (시가 + (최고가,최저가차이)) > 최고가    \"상승\"\n",
    "#  (시가 + (최고가,최저가차이)) < 최고가    \"하락\"\n",
    "# 시가:opening_price, 종가:'closing_price', 최고가:max_price, 최저가: min_price\n",
    "\n",
    "# 시가 + 변동폭\n",
    "p= (float(btc['opening_price']) + (float(btc[\"max_price\"])-float(btc[\"min_price\"])))\n",
    "\n",
    "if p > float(btc[\"max_price\"]): print(\"상승장\")\n",
    "else: print(\"하락장\")"
   ]
  }
 ],
 "metadata": {
  "colab": {
   "collapsed_sections": [],
   "name": "101_130_초보자를_위한_파이썬_300제.ipynb",
   "provenance": []
  },
  "kernelspec": {
   "display_name": "Python 3 (ipykernel)",
   "language": "python",
   "name": "python3"
  },
  "language_info": {
   "codemirror_mode": {
    "name": "ipython",
    "version": 3
   },
   "file_extension": ".py",
   "mimetype": "text/x-python",
   "name": "python",
   "nbconvert_exporter": "python",
   "pygments_lexer": "ipython3",
   "version": "3.9.7"
  },
  "toc": {
   "base_numbering": 1,
   "nav_menu": {},
   "number_sections": true,
   "sideBar": true,
   "skip_h1_title": false,
   "title_cell": "Table of Contents",
   "title_sidebar": "Contents",
   "toc_cell": false,
   "toc_position": {},
   "toc_section_display": true,
   "toc_window_display": false
  }
 },
 "nbformat": 4,
 "nbformat_minor": 1
}
