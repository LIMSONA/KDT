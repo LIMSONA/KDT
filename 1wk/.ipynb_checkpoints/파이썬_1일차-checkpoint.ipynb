{
 "cells": [
  {
   "cell_type": "markdown",
   "id": "b028aa6c",
   "metadata": {},
   "source": [
    "# 파이썬 들어가기 전에"
   ]
  },
  {
   "cell_type": "markdown",
   "id": "24cf5767",
   "metadata": {},
   "source": [
    "* 파이썬: 속도는 느린 단점은 있지만, 장점으로는  \n",
    "- 인터프리터(바로 번역해서 실행): 어느 운영체제를 쓰든 그 때 바로 사용하면 되니까 good"
   ]
  },
  {
   "cell_type": "markdown",
   "id": "bb588999",
   "metadata": {},
   "source": [
    "* git,anaconda, git desktop 설치하기\n",
    "* 설정해주기: jupyter notebook --generate-config 만들어서 c.NotebookApp.notebook_dir을 주석 해제 & 경로설정해주기!"
   ]
  },
  {
   "cell_type": "markdown",
   "id": "95d73552",
   "metadata": {},
   "source": [
    "# 주피터 노트북 사용법"
   ]
  },
  {
   "cell_type": "code",
   "execution_count": 3,
   "id": "0cb2ae48",
   "metadata": {},
   "outputs": [
    {
     "name": "stdout",
     "output_type": "stream",
     "text": [
      "hello~\n",
      "python\n"
     ]
    }
   ],
   "source": [
    "print(\"hello~\")\n",
    "print(\"python\")"
   ]
  },
  {
   "cell_type": "code",
   "execution_count": 4,
   "id": "8b6c501f",
   "metadata": {},
   "outputs": [
    {
     "name": "stdout",
     "output_type": "stream",
     "text": [
      "python\n"
     ]
    }
   ],
   "source": [
    "# print(\"hello~\")\n",
    "print(\"python\") # print는 출력할 떄 사용"
   ]
  },
  {
   "cell_type": "markdown",
   "id": "6c154869",
   "metadata": {},
   "source": [
    "1. mysql\n",
    "2. python\n",
    "3. aws\n",
    "\n",
    "+ 임\n",
    " * 소\n",
    "   - 나"
   ]
  },
  {
   "cell_type": "markdown",
   "id": "99ced0d7",
   "metadata": {},
   "source": [
    "> 인용을 쓸 때는 요렇게!!\n",
    ">> 이거는?\n",
    ">> 요거는?"
   ]
  },
  {
   "cell_type": "code",
   "execution_count": null,
   "id": "df1d1195",
   "metadata": {},
   "outputs": [],
   "source": [
    "# [나타낼 단어] (주소 \" 커서올리면 나오는 문구\")"
   ]
  },
  {
   "cell_type": "markdown",
   "id": "14b38d79",
   "metadata": {},
   "source": [
    "[구글](http://google.com \"구글입니다\")"
   ]
  },
  {
   "cell_type": "markdown",
   "id": "e90e30f8",
   "metadata": {},
   "source": [
    "* 하나씩 대입해주면서 링크사용 가능\n",
    "\n",
    "[구글][구글링크]\n",
    "\n",
    "[gitHub][1]\n",
    "\n",
    "\n",
    "\n",
    "[구글링크]: https://google.com \"Go google\"\n",
    "\n",
    "[1]: https://github.com"
   ]
  },
  {
   "cell_type": "code",
   "execution_count": 8,
   "id": "9ffb468f",
   "metadata": {},
   "outputs": [],
   "source": [
    "# ![나타낼 문구](주소 \"커서올리면 나올문구\")"
   ]
  },
  {
   "cell_type": "markdown",
   "id": "48efcbb0",
   "metadata": {},
   "source": [
    "![사과](./1631863503853_0.jpg \"사과입니다\")"
   ]
  },
  {
   "cell_type": "markdown",
   "id": "1f8cb9c0",
   "metadata": {},
   "source": [
    "![죠르디](data:image/jpeg;base64,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 \"죠르디입니다\")"
   ]
  },
  {
   "cell_type": "markdown",
   "id": "24670a37",
   "metadata": {},
   "source": [
    "![죠르디][에헷]\n",
    "\n",
    "[에헷]: data:image/jpeg;base64,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 \"죠르디지롱\""
   ]
  },
  {
   "cell_type": "code",
   "execution_count": 14,
   "id": "dab217a4",
   "metadata": {},
   "outputs": [],
   "source": [
    "# ``` ~ ```을 마크다운에서 써주면 코드식을 있는 그대로 표현해줄 때 사용"
   ]
  },
  {
   "cell_type": "markdown",
   "id": "ae67d8b5",
   "metadata": {},
   "source": [
    "---\n",
    "***"
   ]
  },
  {
   "cell_type": "markdown",
   "id": "66b40290",
   "metadata": {},
   "source": [
    "|1|2|3|4|\n",
    "|---|:---|:---:|---:|\n",
    "|경기도|수원시|장안구|천천동|"
   ]
  }
 ],
 "metadata": {
  "kernelspec": {
   "display_name": "Python 3 (ipykernel)",
   "language": "python",
   "name": "python3"
  },
  "language_info": {
   "codemirror_mode": {
    "name": "ipython",
    "version": 3
   },
   "file_extension": ".py",
   "mimetype": "text/x-python",
   "name": "python",
   "nbconvert_exporter": "python",
   "pygments_lexer": "ipython3",
   "version": "3.9.7"
  },
  "toc": {
   "base_numbering": 1,
   "nav_menu": {},
   "number_sections": true,
   "sideBar": true,
   "skip_h1_title": false,
   "title_cell": "Table of Contents",
   "title_sidebar": "Contents",
   "toc_cell": false,
   "toc_position": {},
   "toc_section_display": true,
   "toc_window_display": false
  }
 },
 "nbformat": 4,
 "nbformat_minor": 5
}
