{
 "cells": [
  {
   "cell_type": "markdown",
   "id": "c5f8a9a7",
   "metadata": {},
   "source": [
    "# 수업에 들어가기 전에"
   ]
  },
  {
   "cell_type": "markdown",
   "id": "0134db30",
   "metadata": {},
   "source": [
    "* 공부한 내용에 대해서 기술면접을 보기때문에, 구술로 배운 것을 표현하는 연습을 해보자! ex)리스트란? 튜플이란?"
   ]
  },
  {
   "cell_type": "markdown",
   "id": "92e938cf",
   "metadata": {},
   "source": [
    "# **dictionary**"
   ]
  },
  {
   "cell_type": "markdown",
   "id": "89c44e9e",
   "metadata": {},
   "source": [
    " + 키와 값을 갖는 데이터 구조이다.\n",
    " + 키는 내부적으로 hash값으로 저장된다.\n",
    " + 순서가 없다. 그러므로 인덱스가 존재하지 않는다. \n",
    " \n",
    " - Key와 Value의 쌍 여러 개가 { }로 둘러싸여 있다. \n",
    " - 각각의 요소는 Key : Value 형태로 이루어져 있고 쉼표(,)로 구분되어 있다.\n",
    " \n",
    " ```\n",
    " dict = {} \n",
    " dic22 = {key1:value1, key2:value2,....} \n",
    " ```\n",
    " "
   ]
  },
  {
   "cell_type": "markdown",
   "id": "1e94c1ae",
   "metadata": {},
   "source": [
    "* json 형식: '키 : 값' 형식\n",
    "\n",
    "* xml 형식: < >로 앞뒤 넣어서 구분\n",
    "\n",
    "<img src=\"//t1.daumcdn.net/thumb/R1280x0/?fname=http://t1.daumcdn.net/brunch/service/user/1grC/image/rEPz4jys5oihbAALUCSFq8fEwy4.PNG\" data-filename=\"캡처.PNG\">"
   ]
  },
  {
   "cell_type": "markdown",
   "id": "a76fb6c7",
   "metadata": {},
   "source": [
    "## 딕셔너리 만들기"
   ]
  },
  {
   "cell_type": "code",
   "execution_count": null,
   "id": "3efbd7f8",
   "metadata": {},
   "outputs": [],
   "source": []
  },
  {
   "cell_type": "code",
   "execution_count": 3,
   "id": "0c623aee",
   "metadata": {},
   "outputs": [
    {
     "data": {
      "text/plain": [
       "dict"
      ]
     },
     "execution_count": 3,
     "metadata": {},
     "output_type": "execute_result"
    }
   ],
   "source": [
    "d = {}\n",
    "type(d)"
   ]
  },
  {
   "cell_type": "code",
   "execution_count": 7,
   "id": "4fa900df",
   "metadata": {},
   "outputs": [
    {
     "data": {
      "text/plain": [
       "dict"
      ]
     },
     "execution_count": 7,
     "metadata": {},
     "output_type": "execute_result"
    }
   ],
   "source": [
    "student={\"이름\":\"임소나\", \"주소\":\"경기도 수원시\",\"전화번호\":\"123-4567\"}\n",
    "type(student)"
   ]
  },
  {
   "cell_type": "code",
   "execution_count": 8,
   "id": "3047cddd",
   "metadata": {},
   "outputs": [],
   "source": [
    "import pandas as pd"
   ]
  },
  {
   "cell_type": "code",
   "execution_count": 23,
   "id": "8bfe8652",
   "metadata": {},
   "outputs": [
    {
     "data": {
      "text/plain": [
       "이름           임소나\n",
       "주소       경기도 수원시\n",
       "전화번호    123-4567\n",
       "dtype: object"
      ]
     },
     "execution_count": 23,
     "metadata": {},
     "output_type": "execute_result"
    }
   ],
   "source": [
    "st_pd=pd.Series(data=student)\n",
    "st_pd"
   ]
  },
  {
   "cell_type": "code",
   "execution_count": 19,
   "id": "a2da09d6",
   "metadata": {},
   "outputs": [
    {
     "data": {
      "text/plain": [
       "'임소나'"
      ]
     },
     "execution_count": 19,
     "metadata": {},
     "output_type": "execute_result"
    }
   ],
   "source": [
    "student[\"이름\"]"
   ]
  },
  {
   "cell_type": "code",
   "execution_count": 24,
   "id": "5f7fb61b",
   "metadata": {},
   "outputs": [
    {
     "data": {
      "text/plain": [
       "이름        임소나\n",
       "주소    경기도 수원시\n",
       "dtype: object"
      ]
     },
     "execution_count": 24,
     "metadata": {},
     "output_type": "execute_result"
    }
   ],
   "source": [
    "st_pd[[\"이름\",\"주소\"]]"
   ]
  },
  {
   "cell_type": "code",
   "execution_count": 15,
   "id": "a919c19d",
   "metadata": {},
   "outputs": [],
   "source": [
    "d = {\"a\" :[1,2,3], \"b\":[4,5,6], \"c\":[7,8,9]}"
   ]
  },
  {
   "cell_type": "code",
   "execution_count": 16,
   "id": "986aa787",
   "metadata": {},
   "outputs": [
    {
     "data": {
      "text/plain": [
       "[1, 2, 3]"
      ]
     },
     "execution_count": 16,
     "metadata": {},
     "output_type": "execute_result"
    }
   ],
   "source": [
    "d[\"a\"]"
   ]
  },
  {
   "cell_type": "code",
   "execution_count": 26,
   "id": "8dff9bf5",
   "metadata": {},
   "outputs": [
    {
     "name": "stdout",
     "output_type": "stream",
     "text": [
      "{1: 'a', 2: 'b', 3: 'c'}\n"
     ]
    }
   ],
   "source": [
    "a=dict(zip([1,2,3],[\"a\",\"b\",\"c\"]))\n",
    "print(a)"
   ]
  },
  {
   "cell_type": "code",
   "execution_count": 27,
   "id": "763c36b7",
   "metadata": {},
   "outputs": [],
   "source": [
    "student[\"이름\"]=\"임또방\""
   ]
  },
  {
   "cell_type": "code",
   "execution_count": 29,
   "id": "0bda247e",
   "metadata": {},
   "outputs": [
    {
     "name": "stdout",
     "output_type": "stream",
     "text": [
      "{'이름': '임또방', '주소': '경기도 수원시', '전화번호': '123-4567'}\n"
     ]
    }
   ],
   "source": [
    "print(student)"
   ]
  },
  {
   "cell_type": "markdown",
   "id": "32a10ec0",
   "metadata": {},
   "source": [
    "* 딕셔너리는 변경이 가능한 형태이군!😮"
   ]
  },
  {
   "cell_type": "markdown",
   "id": "c50b1888",
   "metadata": {},
   "source": [
    "**딕셔너리 관련 함수들은 교재 396쪽참고**"
   ]
  },
  {
   "cell_type": "markdown",
   "id": "faf3d33b",
   "metadata": {},
   "source": [
    "## **딕셔너리 요소 삭제**\n",
    "  * del 키워드  \n",
    "    + del a[1]\n",
    "  * pop() 함수\n",
    "    + a.pop('key값')"
   ]
  },
  {
   "cell_type": "code",
   "execution_count": 31,
   "id": "4c45341d",
   "metadata": {},
   "outputs": [
    {
     "name": "stdout",
     "output_type": "stream",
     "text": [
      "{'이름': '임또방', '주소': '경기도 수원시', '전화번호': '123-4567'}\n"
     ]
    }
   ],
   "source": [
    "stu=student\n",
    "print(stu)"
   ]
  },
  {
   "cell_type": "code",
   "execution_count": 32,
   "id": "50df0e04",
   "metadata": {},
   "outputs": [
    {
     "name": "stdout",
     "output_type": "stream",
     "text": [
      "{'이름': '임또방', '주소': '경기도 수원시'}\n"
     ]
    }
   ],
   "source": [
    "del stu[\"전화번호\"]\n",
    "print(stu)"
   ]
  },
  {
   "cell_type": "code",
   "execution_count": 37,
   "id": "51c93048",
   "metadata": {},
   "outputs": [
    {
     "data": {
      "text/plain": [
       "'경기도 수원시'"
      ]
     },
     "execution_count": 37,
     "metadata": {},
     "output_type": "execute_result"
    }
   ],
   "source": [
    "stu.pop(\"주소\")"
   ]
  },
  {
   "cell_type": "code",
   "execution_count": 38,
   "id": "edbe1399",
   "metadata": {},
   "outputs": [
    {
     "name": "stdout",
     "output_type": "stream",
     "text": [
      "{'이름': '임또방'}\n"
     ]
    }
   ],
   "source": [
    "print(stu)"
   ]
  },
  {
   "cell_type": "markdown",
   "id": "971e66cf",
   "metadata": {},
   "source": [
    "## **딕셔너리 요소 추가 및 변경**\n",
    " - 기존에 키가 존재 하면, 새로운 값으로 업데이트된다.\n",
    " - 존재하지 않으면, 새로운 키, 값 생성된다."
   ]
  },
  {
   "cell_type": "code",
   "execution_count": 41,
   "id": "9e2a59f8",
   "metadata": {},
   "outputs": [],
   "source": [
    "stu[\"짝꿍\"]= \"꾸꾸\""
   ]
  },
  {
   "cell_type": "code",
   "execution_count": 49,
   "id": "cac67bef",
   "metadata": {},
   "outputs": [
    {
     "name": "stdout",
     "output_type": "stream",
     "text": [
      "{'이름': '임또방', '짝꿍': {'나이', '이름', '사는 곳'}}\n"
     ]
    }
   ],
   "source": [
    "print(stu)"
   ]
  },
  {
   "cell_type": "code",
   "execution_count": 50,
   "id": "2b54fc57",
   "metadata": {},
   "outputs": [],
   "source": [
    "import numpy as np"
   ]
  },
  {
   "cell_type": "code",
   "execution_count": 51,
   "id": "6ab39624",
   "metadata": {},
   "outputs": [],
   "source": [
    "stu[\"짝꿍\"]={\"이름\":np.nan,'나이':np.nan,\"사는 곳\":np.nan}"
   ]
  },
  {
   "cell_type": "code",
   "execution_count": 52,
   "id": "ab04869d",
   "metadata": {},
   "outputs": [
    {
     "name": "stdout",
     "output_type": "stream",
     "text": [
      "{'이름': '임또방', '짝꿍': {'이름': nan, '나이': nan, '사는 곳': nan}}\n"
     ]
    }
   ],
   "source": [
    "print(stu)"
   ]
  },
  {
   "cell_type": "code",
   "execution_count": 53,
   "id": "a641e432",
   "metadata": {
    "scrolled": true
   },
   "outputs": [],
   "source": [
    "stu[\"짝꿍\"][\"이름\"]=\"꾸꾸\""
   ]
  },
  {
   "cell_type": "code",
   "execution_count": 54,
   "id": "1a46aaf7",
   "metadata": {},
   "outputs": [
    {
     "name": "stdout",
     "output_type": "stream",
     "text": [
      "{'이름': '임또방', '짝꿍': {'이름': '꾸꾸', '나이': nan, '사는 곳': nan}}\n"
     ]
    }
   ],
   "source": [
    "print(stu)"
   ]
  },
  {
   "cell_type": "markdown",
   "id": "4352636d",
   "metadata": {},
   "source": [
    "**setdefault()  이용해서 추가하기!!** \n",
    "\n",
    "기존 딕셔너리에서 setdefault를 쓰는 경우\n",
    "1) 만약 그 키 값이 있으면 값을 출력하고\n",
    "  \n",
    "2) 만약 그 키 값이 있다면 value값이 None인 상태로 키가 추가된다."
   ]
  },
  {
   "cell_type": "code",
   "execution_count": 55,
   "id": "72fe053f",
   "metadata": {},
   "outputs": [
    {
     "data": {
      "text/plain": [
       "'임또방'"
      ]
     },
     "execution_count": 55,
     "metadata": {},
     "output_type": "execute_result"
    }
   ],
   "source": [
    "stu.setdefault(\"이름\")"
   ]
  },
  {
   "cell_type": "code",
   "execution_count": 56,
   "id": "da9a9344",
   "metadata": {},
   "outputs": [],
   "source": [
    "stu.setdefault(\"리꾸\")"
   ]
  },
  {
   "cell_type": "code",
   "execution_count": 58,
   "id": "a38a7511",
   "metadata": {},
   "outputs": [
    {
     "name": "stdout",
     "output_type": "stream",
     "text": [
      "{'이름': '임또방', '짝꿍': {'이름': '꾸꾸', '나이': nan, '사는 곳': nan}, '리꾸': None}\n"
     ]
    }
   ],
   "source": [
    "print(stu)"
   ]
  },
  {
   "cell_type": "markdown",
   "id": "20c43cbd",
   "metadata": {},
   "source": [
    "## **update()**\n",
    "\n",
    " * 두 딕셔너리를 병합한다.\n",
    " * 겹치는 키가 있다면 parameter로 전달되는 키 값이 overwrite된다. 즉, 덮어쓰기처럼!"
   ]
  },
  {
   "cell_type": "code",
   "execution_count": 62,
   "id": "b75bb53a",
   "metadata": {},
   "outputs": [],
   "source": [
    "x = {'a':10,'b':20,'c':30,'e':50}\n",
    "y = {'a':100,'b':200,'c':300,'d':400}\n",
    "\n",
    "\n",
    "x.update(y)"
   ]
  },
  {
   "cell_type": "code",
   "execution_count": 63,
   "id": "33fc444f",
   "metadata": {},
   "outputs": [
    {
     "name": "stdout",
     "output_type": "stream",
     "text": [
      "{'a': 100, 'b': 200, 'c': 300, 'e': 50, 'd': 400}\n"
     ]
    }
   ],
   "source": [
    "print(x)"
   ]
  },
  {
   "cell_type": "code",
   "execution_count": 65,
   "id": "c51f9bb4",
   "metadata": {},
   "outputs": [
    {
     "name": "stdout",
     "output_type": "stream",
     "text": [
      "{'이름': '또방', '짝꿍': {'이름': '꾸꾸', '나이': nan, '사는 곳': nan}, '리꾸': None}\n"
     ]
    }
   ],
   "source": [
    "stud={\"이름\":\"또방\"}\n",
    "\n",
    "stu.update(stud)\n",
    "print(stu)"
   ]
  },
  {
   "cell_type": "code",
   "execution_count": 66,
   "id": "bf9bd886",
   "metadata": {},
   "outputs": [
    {
     "name": "stdout",
     "output_type": "stream",
     "text": [
      "{'a': 100, 'b': 20, 'c': 30, 'd': 40}\n"
     ]
    }
   ],
   "source": [
    "x={'a':10,'b':20,'c':30,'d':40}\n",
    "x.update(a=100)\n",
    "print(x)"
   ]
  },
  {
   "cell_type": "code",
   "execution_count": 67,
   "id": "179f90ad",
   "metadata": {},
   "outputs": [
    {
     "ename": "SyntaxError",
     "evalue": "expression cannot contain assignment, perhaps you meant \"==\"? (Temp/ipykernel_920/4102667977.py, line 1)",
     "output_type": "error",
     "traceback": [
      "\u001b[1;36m  File \u001b[1;32m\"C:\\Users\\Admin\\AppData\\Local\\Temp/ipykernel_920/4102667977.py\"\u001b[1;36m, line \u001b[1;32m1\u001b[0m\n\u001b[1;33m    x.update(\"a\"=200)\u001b[0m\n\u001b[1;37m             ^\u001b[0m\n\u001b[1;31mSyntaxError\u001b[0m\u001b[1;31m:\u001b[0m expression cannot contain assignment, perhaps you meant \"==\"?\n"
     ]
    }
   ],
   "source": [
    "x.update(\"a\"=200) \n",
    "\n",
    "#키값을 따옴표를 뗀 상태로 넣어줘야한다!!!!✨"
   ]
  },
  {
   "cell_type": "code",
   "execution_count": 69,
   "id": "0d0a9d03",
   "metadata": {},
   "outputs": [
    {
     "name": "stdout",
     "output_type": "stream",
     "text": [
      "{1: 'ONE', 2: 'two'}\n"
     ]
    }
   ],
   "source": [
    "y={1:'one',2:'two'}\n",
    "y.update([[1,\"ONE\"]]) #따옴표 그대로 쓰려면 한번더 묶어줘야함\n",
    "print(y)"
   ]
  },
  {
   "cell_type": "code",
   "execution_count": 74,
   "id": "82eda61d",
   "metadata": {},
   "outputs": [],
   "source": [
    "y={1:'one',2:'two'}\n",
    "y.update([[1,\"one\"],[3,\"three\"]])"
   ]
  },
  {
   "cell_type": "code",
   "execution_count": 71,
   "id": "784c86cc",
   "metadata": {},
   "outputs": [
    {
     "data": {
      "text/plain": [
       "{1: 'one', 2: 'two', 3: 'three'}"
      ]
     },
     "execution_count": 71,
     "metadata": {},
     "output_type": "execute_result"
    }
   ],
   "source": [
    "y"
   ]
  },
  {
   "cell_type": "markdown",
   "id": "04285147",
   "metadata": {},
   "source": [
    "##  **key삭제**\n",
    "\n",
    " - del 키워드 사용\n",
    " - pop 함수 이용"
   ]
  },
  {
   "cell_type": "code",
   "execution_count": 75,
   "id": "27d9254f",
   "metadata": {},
   "outputs": [
    {
     "data": {
      "text/plain": [
       "{2: 'two', 3: 'three'}"
      ]
     },
     "execution_count": 75,
     "metadata": {},
     "output_type": "execute_result"
    }
   ],
   "source": [
    "del y[1]\n",
    "y"
   ]
  },
  {
   "cell_type": "code",
   "execution_count": 76,
   "id": "304ef944",
   "metadata": {},
   "outputs": [
    {
     "data": {
      "text/plain": [
       "{3: 'three'}"
      ]
     },
     "execution_count": 76,
     "metadata": {},
     "output_type": "execute_result"
    }
   ],
   "source": [
    "y.pop(2)\n",
    "y"
   ]
  },
  {
   "cell_type": "markdown",
   "id": "8c98d76b",
   "metadata": {},
   "source": [
    "## **clear()**\n",
    "\n",
    " + 딕셔너리의 모든 키-값 쌍을 삭제한다. \n",
    " * 전부 삭제!"
   ]
  },
  {
   "cell_type": "code",
   "execution_count": 77,
   "id": "fd4b8c94",
   "metadata": {},
   "outputs": [
    {
     "data": {
      "text/plain": [
       "{'a': 100, 'b': 20, 'c': 30, 'd': 40}"
      ]
     },
     "execution_count": 77,
     "metadata": {},
     "output_type": "execute_result"
    }
   ],
   "source": [
    "x"
   ]
  },
  {
   "cell_type": "code",
   "execution_count": 78,
   "id": "866c5ab6",
   "metadata": {},
   "outputs": [],
   "source": [
    "x.clear()"
   ]
  },
  {
   "cell_type": "code",
   "execution_count": 79,
   "id": "0d2783f8",
   "metadata": {},
   "outputs": [
    {
     "data": {
      "text/plain": [
       "{}"
      ]
     },
     "execution_count": 79,
     "metadata": {},
     "output_type": "execute_result"
    }
   ],
   "source": [
    "x"
   ]
  },
  {
   "cell_type": "markdown",
   "id": "bc8bfa89",
   "metadata": {},
   "source": [
    "💥**del과 clear의 차이점 알아두자**\n",
    "del은 아예 전부삭제\n",
    "clear는 틀은 놔두고 나머지는 전부 삭제"
   ]
  },
  {
   "cell_type": "markdown",
   "id": "71e0bf80",
   "metadata": {},
   "source": [
    "💥**딕셔너리에서의 pop**\n",
    "여기선 연속된 순서가아니기 때문에 기본적으로 pop되는 아이는 없고, 어떤 값을 pop할 것인지 키값을 적어줘야한다."
   ]
  },
  {
   "cell_type": "code",
   "execution_count": 80,
   "id": "2f7d032e",
   "metadata": {},
   "outputs": [
    {
     "ename": "SyntaxError",
     "evalue": "invalid syntax (Temp/ipykernel_920/661191547.py, line 1)",
     "output_type": "error",
     "traceback": [
      "\u001b[1;36m  File \u001b[1;32m\"C:\\Users\\Admin\\AppData\\Local\\Temp/ipykernel_920/661191547.py\"\u001b[1;36m, line \u001b[1;32m1\u001b[0m\n\u001b[1;33m    a={\"a\":1,:2}  #key는 없고 value가 있는 경우는 없다\u001b[0m\n\u001b[1;37m             ^\u001b[0m\n\u001b[1;31mSyntaxError\u001b[0m\u001b[1;31m:\u001b[0m invalid syntax\n"
     ]
    }
   ],
   "source": [
    "a={\"a\":1,:2}  #key는 없고 value가 있는 경우는 없다\n",
    "print(a)"
   ]
  },
  {
   "cell_type": "markdown",
   "id": "32bbbeea",
   "metadata": {},
   "source": [
    "## **in**\n",
    " + key값 존재여부를 확인한다.\n",
    " + O(1) 연산 - 딕셔너리의 크기와 관계없이 항상 연산의 속도가 일정하다는 의미한다."
   ]
  },
  {
   "cell_type": "code",
   "execution_count": 81,
   "id": "8bce816c",
   "metadata": {},
   "outputs": [
    {
     "data": {
      "text/plain": [
       "True"
      ]
     },
     "execution_count": 81,
     "metadata": {},
     "output_type": "execute_result"
    }
   ],
   "source": [
    "x={'a':10,'b':20,'c':30,'d':40}\n",
    "\n",
    "\"a\"in x"
   ]
  },
  {
   "cell_type": "code",
   "execution_count": 82,
   "id": "631ab3d4",
   "metadata": {},
   "outputs": [
    {
     "data": {
      "text/plain": [
       "True"
      ]
     },
     "execution_count": 82,
     "metadata": {},
     "output_type": "execute_result"
    }
   ],
   "source": [
    "\"a\" in x.keys()"
   ]
  },
  {
   "cell_type": "code",
   "execution_count": 84,
   "id": "b26285e0",
   "metadata": {},
   "outputs": [
    {
     "data": {
      "text/plain": [
       "False"
      ]
     },
     "execution_count": 84,
     "metadata": {},
     "output_type": "execute_result"
    }
   ],
   "source": [
    "10 in x #키값만 찾을수 있음!"
   ]
  },
  {
   "cell_type": "markdown",
   "id": "1eb63013",
   "metadata": {},
   "source": [
    "## **value access**\n",
    " + dict[key]로 접급, 키가 없는 경우 에러 발생 \n",
    " + .get() 함수로 접근, 키가 없는 경우 None반환"
   ]
  },
  {
   "cell_type": "code",
   "execution_count": 88,
   "id": "49305a6c",
   "metadata": {},
   "outputs": [
    {
     "data": {
      "text/plain": [
       "10"
      ]
     },
     "execution_count": 88,
     "metadata": {},
     "output_type": "execute_result"
    }
   ],
   "source": [
    "x[\"a\"]"
   ]
  },
  {
   "cell_type": "code",
   "execution_count": 89,
   "id": "d82ef6d0",
   "metadata": {},
   "outputs": [
    {
     "ename": "KeyError",
     "evalue": "'z'",
     "output_type": "error",
     "traceback": [
      "\u001b[1;31m---------------------------------------------------------------------------\u001b[0m",
      "\u001b[1;31mKeyError\u001b[0m                                  Traceback (most recent call last)",
      "\u001b[1;32m~\\AppData\\Local\\Temp/ipykernel_920/2172503267.py\u001b[0m in \u001b[0;36m<module>\u001b[1;34m\u001b[0m\n\u001b[1;32m----> 1\u001b[1;33m \u001b[0mx\u001b[0m\u001b[1;33m[\u001b[0m\u001b[1;34m\"z\"\u001b[0m\u001b[1;33m]\u001b[0m\u001b[1;33m\u001b[0m\u001b[1;33m\u001b[0m\u001b[0m\n\u001b[0m",
      "\u001b[1;31mKeyError\u001b[0m: 'z'"
     ]
    }
   ],
   "source": [
    "x[\"z\"]  #key가 없는 경우에는 에러가 발생"
   ]
  },
  {
   "cell_type": "code",
   "execution_count": 87,
   "id": "1a9839cd",
   "metadata": {},
   "outputs": [
    {
     "data": {
      "text/plain": [
       "10"
      ]
     },
     "execution_count": 87,
     "metadata": {},
     "output_type": "execute_result"
    }
   ],
   "source": [
    "x.get(\"a\")"
   ]
  },
  {
   "cell_type": "code",
   "execution_count": 90,
   "id": "0170a03a",
   "metadata": {},
   "outputs": [],
   "source": [
    "x.get(\"z\") #key가 없는 경우에 none이라면서 없다고 반환"
   ]
  },
  {
   "cell_type": "markdown",
   "id": "ae6fed1e",
   "metadata": {},
   "source": [
    "### **모든 keys, values 접근**\n",
    " + keys() - 키만 반환\n",
    " + values() - 값만 반환\n",
    " + items() - 키, 값의 튜플을 반환"
   ]
  },
  {
   "cell_type": "code",
   "execution_count": 92,
   "id": "7200b733",
   "metadata": {},
   "outputs": [
    {
     "name": "stdout",
     "output_type": "stream",
     "text": [
      "dict_keys(['a', 'b', 'c', 'd'])\n"
     ]
    }
   ],
   "source": [
    "x={'a':10,'b':20,'c':30,'d':40}\n",
    "\n",
    "print(x.keys())"
   ]
  },
  {
   "cell_type": "code",
   "execution_count": 94,
   "id": "b1ff0386",
   "metadata": {},
   "outputs": [
    {
     "name": "stdout",
     "output_type": "stream",
     "text": [
      "['a', 'b', 'c', 'd']\n"
     ]
    }
   ],
   "source": [
    "print(list(x.keys())) #리스트로 바꾸고 싶으면 형변환 하면 됨!"
   ]
  },
  {
   "cell_type": "code",
   "execution_count": 95,
   "id": "762dd574",
   "metadata": {},
   "outputs": [
    {
     "name": "stdout",
     "output_type": "stream",
     "text": [
      "dict_values([10, 20, 30, 40])\n"
     ]
    }
   ],
   "source": [
    "print(x.values())"
   ]
  },
  {
   "cell_type": "code",
   "execution_count": 96,
   "id": "aa428c89",
   "metadata": {},
   "outputs": [
    {
     "name": "stdout",
     "output_type": "stream",
     "text": [
      "[10, 20, 30, 40]\n"
     ]
    }
   ],
   "source": [
    "print(list(x.values()))"
   ]
  },
  {
   "cell_type": "code",
   "execution_count": null,
   "id": "5d8d3bab",
   "metadata": {},
   "outputs": [],
   "source": [
    "x={'a':10,'b':20,'c':30,'d':40}"
   ]
  },
  {
   "cell_type": "markdown",
   "id": "d3271056",
   "metadata": {},
   "source": [
    "# 리스트 & 튜플로 딕셔너리 만들기 🎉"
   ]
  },
  {
   "cell_type": "code",
   "execution_count": 97,
   "id": "4d6174da",
   "metadata": {},
   "outputs": [
    {
     "data": {
      "text/plain": [
       "{'a': None, 'b': None, 'c': None, 'd': None}"
      ]
     },
     "execution_count": 97,
     "metadata": {},
     "output_type": "execute_result"
    }
   ],
   "source": [
    "keys = ['a','b','c','d'] #dict.fromkeys를 이용해 딕셔너리를 만들수 있다.\n",
    "\n",
    "di=dict.fromkeys(keys)\n",
    "di"
   ]
  },
  {
   "cell_type": "code",
   "execution_count": 100,
   "id": "852a8621",
   "metadata": {},
   "outputs": [
    {
     "data": {
      "text/plain": [
       "{'a': 100, 'b': 100, 'c': 100, 'd': 100}"
      ]
     },
     "execution_count": 100,
     "metadata": {},
     "output_type": "execute_result"
    }
   ],
   "source": [
    "di2=dict.fromkeys(keys,100)\n",
    "di2"
   ]
  },
  {
   "cell_type": "code",
   "execution_count": 101,
   "id": "8970d568",
   "metadata": {},
   "outputs": [
    {
     "data": {
      "text/plain": [
       "{'a': 10, 'b': 20, 'c': 30}"
      ]
     },
     "execution_count": 101,
     "metadata": {},
     "output_type": "execute_result"
    }
   ],
   "source": [
    "di3=dict(a=10,b=20,c=30)\n",
    "di3"
   ]
  },
  {
   "cell_type": "code",
   "execution_count": 147,
   "id": "0cee2683",
   "metadata": {},
   "outputs": [
    {
     "data": {
      "text/plain": [
       "{'a': 10, 'b': 20, 'c': 30}"
      ]
     },
     "execution_count": 147,
     "metadata": {},
     "output_type": "execute_result"
    }
   ],
   "source": [
    "#위와 동일한 식 💥💥\n",
    "di4=dict([(\"a\",10),(\"b\",20),(\"c\",30)])\n",
    "di4"
   ]
  },
  {
   "cell_type": "markdown",
   "id": "30f3e487",
   "metadata": {},
   "source": [
    "# set\n",
    "\n",
    " + dictionary에서 key만 활용하는 데이터 구조이다.\n",
    " + 수학에서의 집합과 동일한 개념이다.\n",
    " + 파이썬 2.3부터 지원된 자료형으로 집합에 관련된 것을 쉽게 처리한다.\n",
    " + set 키워드를 이용해서 만들 수 있다. \n",
    " + 빈 set 을 만드는 방법은 set() 을 이용한다. \n",
    " + 특징\n",
    "     - 중복을 허용하지 않는다. \n",
    "     - 순서가 없다. "
   ]
  },
  {
   "cell_type": "code",
   "execution_count": 110,
   "id": "aa64ca9c",
   "metadata": {},
   "outputs": [
    {
     "data": {
      "text/plain": [
       "set"
      ]
     },
     "execution_count": 110,
     "metadata": {},
     "output_type": "execute_result"
    }
   ],
   "source": [
    "se={1,2,3}\n",
    "type(se)"
   ]
  },
  {
   "cell_type": "code",
   "execution_count": 111,
   "id": "7d262a7c",
   "metadata": {},
   "outputs": [
    {
     "name": "stdout",
     "output_type": "stream",
     "text": [
      "set() <class 'set'>\n"
     ]
    }
   ],
   "source": [
    "se1= set()\n",
    "print(se1, type(se1))"
   ]
  },
  {
   "cell_type": "code",
   "execution_count": null,
   "id": "78ae86bc",
   "metadata": {},
   "outputs": [],
   "source": []
  },
  {
   "cell_type": "markdown",
   "id": "a971d980",
   "metadata": {},
   "source": [
    "## **set()으로 집합으로 변환**\n",
    "\n",
    "\n",
    "* 중복되는 값은 삭제하고 반환한다."
   ]
  },
  {
   "cell_type": "code",
   "execution_count": 112,
   "id": "558ca350",
   "metadata": {},
   "outputs": [
    {
     "name": "stdout",
     "output_type": "stream",
     "text": [
      "{1, 2, 3, 4, 5, 6}\n"
     ]
    }
   ],
   "source": [
    "a= [1,1,1,2,2,3,4,5,6]\n",
    "a= set(a)\n",
    "print(a)"
   ]
  },
  {
   "cell_type": "markdown",
   "id": "ab361849",
   "metadata": {},
   "source": [
    "## **set operations**\n",
    " - 수학 연산과 동일하다.\n",
    " - 교집합, 합집합, 차집합 등 지원한다."
   ]
  },
  {
   "cell_type": "code",
   "execution_count": 132,
   "id": "8d0f1418",
   "metadata": {},
   "outputs": [
    {
     "name": "stdout",
     "output_type": "stream",
     "text": [
      "합집합:  {1} {1}\n",
      "차집합:  {1, 2, 3, 4} {1, 2, 3, 4}\n",
      "교집합:  {2, 3} {2, 3}\n"
     ]
    }
   ],
   "source": [
    "a = {1,2,3}\n",
    "b = {2,3,4}\n",
    "\n",
    "print(\"합집합: \", a-b, a.difference(b))\n",
    "print(\"차집합: \", a|b , a.union(b))\n",
    "print(\"교집합: \", a&b, a.intersection(b))"
   ]
  },
  {
   "cell_type": "markdown",
   "id": "102b0eb8",
   "metadata": {},
   "source": [
    "## **set 값 추가 제거 하기**\n",
    "\n",
    "* add : 하나씩 추가\n",
    "* update : 여러개 추가\n",
    "* remove : 하나씩 제거\n",
    "* pop\n",
    "*"
   ]
  },
  {
   "cell_type": "code",
   "execution_count": 133,
   "id": "ab43dac6",
   "metadata": {},
   "outputs": [
    {
     "data": {
      "text/plain": [
       "{1, 2, 3, 5}"
      ]
     },
     "execution_count": 133,
     "metadata": {},
     "output_type": "execute_result"
    }
   ],
   "source": [
    "a.add(5)\n",
    "a"
   ]
  },
  {
   "cell_type": "code",
   "execution_count": 134,
   "id": "2e32bf53",
   "metadata": {},
   "outputs": [
    {
     "data": {
      "text/plain": [
       "{1, 2, 3, 4, 5}"
      ]
     },
     "execution_count": 134,
     "metadata": {},
     "output_type": "execute_result"
    }
   ],
   "source": [
    "a.update({4})\n",
    "a"
   ]
  },
  {
   "cell_type": "code",
   "execution_count": 135,
   "id": "70748f94",
   "metadata": {},
   "outputs": [
    {
     "data": {
      "text/plain": [
       "{1, 2, 4, 5}"
      ]
     },
     "execution_count": 135,
     "metadata": {},
     "output_type": "execute_result"
    }
   ],
   "source": [
    "a.remove(3)\n",
    "a"
   ]
  },
  {
   "cell_type": "code",
   "execution_count": 136,
   "id": "51c64154",
   "metadata": {},
   "outputs": [
    {
     "data": {
      "text/plain": [
       "{1, 2, 4, 5, 7}"
      ]
     },
     "execution_count": 136,
     "metadata": {},
     "output_type": "execute_result"
    }
   ],
   "source": [
    "a.update([5,7])\n",
    "a"
   ]
  },
  {
   "cell_type": "code",
   "execution_count": 137,
   "id": "789f4b5d",
   "metadata": {},
   "outputs": [
    {
     "data": {
      "text/plain": [
       "{1, 2, 4, 5, 7, 8, 9}"
      ]
     },
     "execution_count": 137,
     "metadata": {},
     "output_type": "execute_result"
    }
   ],
   "source": [
    "a.update({8,9})\n",
    "a"
   ]
  },
  {
   "cell_type": "code",
   "execution_count": 138,
   "id": "99ef7bd1",
   "metadata": {},
   "outputs": [],
   "source": [
    "a.update((10,11))"
   ]
  },
  {
   "cell_type": "code",
   "execution_count": 139,
   "id": "c70be465",
   "metadata": {},
   "outputs": [
    {
     "data": {
      "text/plain": [
       "{1, 2, 4, 5, 7, 8, 9, 10, 11}"
      ]
     },
     "execution_count": 139,
     "metadata": {},
     "output_type": "execute_result"
    }
   ],
   "source": [
    "a"
   ]
  },
  {
   "cell_type": "code",
   "execution_count": 140,
   "id": "9a848339",
   "metadata": {},
   "outputs": [
    {
     "data": {
      "text/plain": [
       "set"
      ]
     },
     "execution_count": 140,
     "metadata": {},
     "output_type": "execute_result"
    }
   ],
   "source": [
    "type(a)"
   ]
  },
  {
   "cell_type": "code",
   "execution_count": 148,
   "id": "1615fa7a",
   "metadata": {},
   "outputs": [
    {
     "data": {
      "text/plain": [
       "[(1, 10), (2, 20), (3, 30)]"
      ]
     },
     "execution_count": 148,
     "metadata": {},
     "output_type": "execute_result"
    }
   ],
   "source": [
    "#zip 함수\n",
    "\n",
    "a=[1,2,3]\n",
    "b=[10,20,30]\n",
    "\n",
    "list(zip(a,b))"
   ]
  },
  {
   "cell_type": "code",
   "execution_count": 149,
   "id": "75947097",
   "metadata": {},
   "outputs": [
    {
     "data": {
      "text/plain": [
       "[(1, 10, 100), (2, 20, 200), (3, 30, 300)]"
      ]
     },
     "execution_count": 149,
     "metadata": {},
     "output_type": "execute_result"
    }
   ],
   "source": [
    "c=[100,200,300]\n",
    "\n",
    "list(zip(a,b,c))"
   ]
  },
  {
   "cell_type": "code",
   "execution_count": 150,
   "id": "ac7382b6",
   "metadata": {},
   "outputs": [
    {
     "ename": "ValueError",
     "evalue": "dictionary update sequence element #0 has length 3; 2 is required",
     "output_type": "error",
     "traceback": [
      "\u001b[1;31m---------------------------------------------------------------------------\u001b[0m",
      "\u001b[1;31mValueError\u001b[0m                                Traceback (most recent call last)",
      "\u001b[1;32m~\\AppData\\Local\\Temp/ipykernel_920/2947115251.py\u001b[0m in \u001b[0;36m<module>\u001b[1;34m\u001b[0m\n\u001b[1;32m----> 1\u001b[1;33m \u001b[0mdict\u001b[0m\u001b[1;33m(\u001b[0m\u001b[0mzip\u001b[0m\u001b[1;33m(\u001b[0m\u001b[0ma\u001b[0m\u001b[1;33m,\u001b[0m\u001b[0mb\u001b[0m\u001b[1;33m,\u001b[0m\u001b[0mc\u001b[0m\u001b[1;33m)\u001b[0m\u001b[1;33m)\u001b[0m\u001b[1;33m\u001b[0m\u001b[1;33m\u001b[0m\u001b[0m\n\u001b[0m",
      "\u001b[1;31mValueError\u001b[0m: dictionary update sequence element #0 has length 3; 2 is required"
     ]
    }
   ],
   "source": [
    "dict(zip(a,b,c)) #오류 생김! 딕셔너리를 키와 값을 매칭하는 거이기에"
   ]
  },
  {
   "cell_type": "code",
   "execution_count": 171,
   "id": "d34aa82b",
   "metadata": {},
   "outputs": [
    {
     "data": {
      "text/plain": [
       "[(10, 100), (20, 200), (30, 300)]"
      ]
     },
     "execution_count": 171,
     "metadata": {},
     "output_type": "execute_result"
    }
   ],
   "source": [
    "a=[1,2,3]\n",
    "b=[10,20,30]\n",
    "c=[100,200,300]\n",
    "list(zip(b,c))"
   ]
  },
  {
   "cell_type": "code",
   "execution_count": 170,
   "id": "681108b9",
   "metadata": {},
   "outputs": [
    {
     "data": {
      "text/plain": [
       "{1: (10, 100), 2: (20, 200), 3: (30, 300)}"
      ]
     },
     "execution_count": 170,
     "metadata": {},
     "output_type": "execute_result"
    }
   ],
   "source": [
    "a=dict(zip(a,list(zip(b,c))))\n",
    "a"
   ]
  },
  {
   "cell_type": "markdown",
   "id": "aa1993c1",
   "metadata": {},
   "source": [
    "# **list 복사** "
   ]
  },
  {
   "cell_type": "markdown",
   "id": "0e8852f4",
   "metadata": {},
   "source": [
    "## 값과 id값 동일(연동개념)"
   ]
  },
  {
   "cell_type": "code",
   "execution_count": 7,
   "id": "a7455ed0",
   "metadata": {},
   "outputs": [],
   "source": [
    "names = ['kang','kim','hong','lee']"
   ]
  },
  {
   "cell_type": "code",
   "execution_count": 8,
   "id": "672fbf43",
   "metadata": {},
   "outputs": [
    {
     "data": {
      "text/plain": [
       "['kang', 'kim', 'hong', 'lee']"
      ]
     },
     "execution_count": 8,
     "metadata": {},
     "output_type": "execute_result"
    }
   ],
   "source": [
    "names1=names\n",
    "names1"
   ]
  },
  {
   "cell_type": "code",
   "execution_count": 15,
   "id": "3e2a894b",
   "metadata": {},
   "outputs": [
    {
     "name": "stdout",
     "output_type": "stream",
     "text": [
      "['choi', 'kim', 'hong', 'lee'] ['choi', 'kim', 'hong', 'lee']\n"
     ]
    }
   ],
   "source": [
    "names1[0]=\"choi\"\n",
    "print(names1, names) #names도 같이 바뀜!!!!!💥"
   ]
  },
  {
   "cell_type": "code",
   "execution_count": 11,
   "id": "0a4bf99d",
   "metadata": {},
   "outputs": [
    {
     "name": "stdout",
     "output_type": "stream",
     "text": [
      "2934753985600 2934753985600\n"
     ]
    }
   ],
   "source": [
    "print(id(names), id(names1)) "
   ]
  },
  {
   "cell_type": "markdown",
   "id": "aeddcbd9",
   "metadata": {},
   "source": [
    "## 값은 동일, id가 다른.copy() 함수(틀만 복사 개념)"
   ]
  },
  {
   "cell_type": "markdown",
   "id": "27b29357",
   "metadata": {},
   "source": [
    "* copy는 1차원적인 틀만 복사해줌!"
   ]
  },
  {
   "cell_type": "code",
   "execution_count": 18,
   "id": "92928f79",
   "metadata": {},
   "outputs": [],
   "source": [
    "##비교하기\n",
    "\n",
    "names = ['kang','kim','hong','lee']\n",
    "names2=names.copy()\n",
    "names2[0]=\"choi\" "
   ]
  },
  {
   "cell_type": "code",
   "execution_count": 19,
   "id": "12feda1e",
   "metadata": {},
   "outputs": [
    {
     "name": "stdout",
     "output_type": "stream",
     "text": [
      "['kang', 'kim', 'hong', 'lee'] ['choi', 'kim', 'hong', 'lee']\n"
     ]
    }
   ],
   "source": [
    "print(names, names2) #names 바뀌지 않음!!!!!💥"
   ]
  },
  {
   "cell_type": "code",
   "execution_count": 20,
   "id": "b56e3030",
   "metadata": {},
   "outputs": [
    {
     "name": "stdout",
     "output_type": "stream",
     "text": [
      "2934753938112 2934753984064\n"
     ]
    }
   ],
   "source": [
    "print(id(names),id(names2))"
   ]
  },
  {
   "cell_type": "code",
   "execution_count": 21,
   "id": "9af36d61",
   "metadata": {},
   "outputs": [
    {
     "name": "stdout",
     "output_type": "stream",
     "text": [
      "[[1, 2], [3, 4], [5, 6]] 2934754001728\n",
      "[[1, 2], [3, 4], [5, 6]] 2934753999616\n"
     ]
    }
   ],
   "source": [
    "list_a=[[1,2],[3,4],[5,6]]\n",
    "list_b=list_a.copy()\n",
    "print(list_a,id(list_a))\n",
    "print(list_b,id(list_b))"
   ]
  },
  {
   "cell_type": "code",
   "execution_count": 22,
   "id": "4990d868",
   "metadata": {},
   "outputs": [],
   "source": [
    "list_b[0][0]=100"
   ]
  },
  {
   "cell_type": "code",
   "execution_count": 23,
   "id": "566f2d1a",
   "metadata": {},
   "outputs": [
    {
     "name": "stdout",
     "output_type": "stream",
     "text": [
      "[[100, 2], [3, 4], [5, 6]] 2934754001728\n",
      "[[100, 2], [3, 4], [5, 6]] 2934753999616\n"
     ]
    }
   ],
   "source": [
    "print(list_a,id(list_a))\n",
    "print(list_b,id(list_b))\n",
    "\n",
    "#아이디 값은 다르지만 값이 같이 바뀌어버림!!\n",
    "#2차원리스트에 대한 주소값은 list_a와 동일하기 떄문!!!\n",
    "# 즉 copy의 경우 1차원에서 유용하게 사용"
   ]
  },
  {
   "cell_type": "markdown",
   "id": "3e4a458a",
   "metadata": {},
   "source": [
    "## copy()함수의 한계 => 대책방안은??\n",
    "\n",
    "* **import copy**\n",
    "* **copy.deepcopy**"
   ]
  },
  {
   "cell_type": "code",
   "execution_count": 24,
   "id": "55546560",
   "metadata": {},
   "outputs": [],
   "source": [
    "### 이에 대한 대책은??\n",
    "\n",
    "import copy"
   ]
  },
  {
   "cell_type": "code",
   "execution_count": 25,
   "id": "c6692945",
   "metadata": {},
   "outputs": [],
   "source": [
    "list_a=[[1,2],[3,4],[5,6]]\n",
    "list_c=copy.deepcopy(list_a)"
   ]
  },
  {
   "cell_type": "code",
   "execution_count": 26,
   "id": "0a98b025",
   "metadata": {},
   "outputs": [
    {
     "name": "stdout",
     "output_type": "stream",
     "text": [
      "[[1, 2], [3, 4], [5, 6]] 2934754004096\n",
      "[[1, 2], [3, 4], [5, 6]] 2934753999104\n"
     ]
    }
   ],
   "source": [
    "print(list_a,id(list_a))\n",
    "print(list_c,id(list_c))"
   ]
  },
  {
   "cell_type": "code",
   "execution_count": 27,
   "id": "0493e7fa",
   "metadata": {},
   "outputs": [
    {
     "name": "stdout",
     "output_type": "stream",
     "text": [
      "[[1, 2], [3, 4], [5, 6]] 2934754004096\n",
      "[[500, 2], [3, 4], [5, 6]] 2934753999104\n"
     ]
    }
   ],
   "source": [
    "list_c[0][0]=500\n",
    "\n",
    "print(list_a,id(list_a))\n",
    "print(list_c,id(list_c))"
   ]
  },
  {
   "cell_type": "markdown",
   "id": "d97f8ad0",
   "metadata": {},
   "source": [
    "# 조건문"
   ]
  },
  {
   "cell_type": "markdown",
   "id": "7aafd757",
   "metadata": {},
   "source": [
    "+ 조건에 따라서 다르게 수행해야할 경우에 사용한다.\n",
    " + 조건문의 결과는 boolean(참, 거짓)으로 표현 된다. \n",
    " + if, elif, else 키워드를 사용한다.\n",
    " + if, elif, else 블록에 종속된 코드는 들여쓰기로 표현한다.\n",
    " + 들여쓰기 된 코드를 블록(block), 또는 코드블록이라고 한다.\n",
    " + if 조건 : 문법으로 사용한다.\n",
    "\n",
    "```python\n",
    "if 조건문:\n",
    "    수행할 문장1\n",
    "    수행할 문장2\n",
    "    ...\n",
    "    \n",
    "else:\n",
    "    수행할 문장A\n",
    "    수행할 문장B\n",
    "    ...\n",
    "```"
   ]
  },
  {
   "cell_type": "code",
   "execution_count": 33,
   "id": "15f616ad",
   "metadata": {},
   "outputs": [
    {
     "name": "stdout",
     "output_type": "stream",
     "text": [
      "No!!\n"
     ]
    }
   ],
   "source": [
    "a=20\n",
    "if a==10:\n",
    "    print(\"OK!\")\n",
    "else:\n",
    "    print(\"No!!\")"
   ]
  },
  {
   "cell_type": "code",
   "execution_count": 34,
   "id": "cc833300",
   "metadata": {},
   "outputs": [],
   "source": [
    "a=0\n",
    "b=10\n",
    "c=[1,2]\n",
    "d=[]"
   ]
  },
  {
   "cell_type": "code",
   "execution_count": 35,
   "id": "1b962120",
   "metadata": {},
   "outputs": [
    {
     "name": "stdout",
     "output_type": "stream",
     "text": [
      "False True True False\n"
     ]
    }
   ],
   "source": [
    "print(bool(a),bool(b),bool(c),bool(d))"
   ]
  },
  {
   "cell_type": "code",
   "execution_count": 37,
   "id": "73038e33",
   "metadata": {},
   "outputs": [
    {
     "name": "stdout",
     "output_type": "stream",
     "text": [
      "트루트루\n"
     ]
    }
   ],
   "source": [
    "if b: \n",
    "    print(\"트루트루\")\n",
    "else: \n",
    "    print(\"폴스?펄스?\")"
   ]
  },
  {
   "cell_type": "code",
   "execution_count": 38,
   "id": "be0981e4",
   "metadata": {},
   "outputs": [
    {
     "name": "stdout",
     "output_type": "stream",
     "text": [
      "False\n",
      "True\n",
      "False\n"
     ]
    }
   ],
   "source": [
    "print(0==True)\n",
    "print(1==True)\n",
    "print(10==True)"
   ]
  },
  {
   "cell_type": "markdown",
   "id": "412cb9ed",
   "metadata": {},
   "source": [
    "## **비교연산자** \n",
    "    + <, >, ==, !=, >=, <= "
   ]
  },
  {
   "cell_type": "markdown",
   "id": "3b7a389e",
   "metadata": {},
   "source": [
    "* AND, OR, NOT \n",
    "  - 조건문에 사용되는 조건의 경우, boolean이기 때문에, 논리식 AND, OR, NOT 이 사용가능하다.\n",
    "  - AND : 모든 조건이 참일 때만 참.  \n",
    "  - OR : 둘 중 하나만 참이어도 참.\n",
    "  - NOT : 거짓이면 참. 참이면 거짓. \n",
    "  \n",
    "* 논리표 \n",
    "\n",
    "|            A  |           B |      AND  |        OR |       NOT A|\n",
    "|:--: |:--:|:--:|:--:|:--:|\n",
    "|T|T|T|T|F|\n",
    "|T|F|F|T|F|\n",
    "|F|T|F|T|T|\n",
    "|F|F|F|F|T|\n",
    "\n",
    "* 우선순위\n",
    "  - NOT > AND > OR"
   ]
  },
  {
   "cell_type": "code",
   "execution_count": 40,
   "id": "3e315f66",
   "metadata": {},
   "outputs": [
    {
     "name": "stdout",
     "output_type": "stream",
     "text": [
      "소나 이거나 점수가 90점이거나\n"
     ]
    }
   ],
   "source": [
    "name=\"sona\"\n",
    "score=100\n",
    "if name==\"sona\" and score==90:\n",
    "    print(\"90점 맞은 소나\")\n",
    "elif name==\"sona\" or score==90:\n",
    "    print(\"소나 이거나 점수가 90점이거나\")\n",
    "else: print(\"오류발생의 경우겠지?\")"
   ]
  },
  {
   "cell_type": "code",
   "execution_count": 44,
   "id": "d713164b",
   "metadata": {},
   "outputs": [
    {
     "name": "stdout",
     "output_type": "stream",
     "text": [
      "이건가보지\n"
     ]
    }
   ],
   "source": [
    "name=\"sona\"\n",
    "score=100\n",
    "\n",
    "if not name==\"sona\" and score==100:\n",
    "    print(\"소나가 아니거나 점수가 100점이거나\")\n",
    "elif name==\"sona\" and not score==100:\n",
    "    print(\"소나 이거나 점수가 100점이 아니거나\")\n",
    "else: print(\"이건가보지\")"
   ]
  },
  {
   "cell_type": "markdown",
   "id": "9bf2348e",
   "metadata": {},
   "source": [
    "## in, not in"
   ]
  },
  {
   "cell_type": "code",
   "execution_count": 46,
   "id": "2bc7f709",
   "metadata": {},
   "outputs": [],
   "source": [
    "a=6\n",
    "if a in [1,2,3]:\n",
    "    print(\"들어있다!\")"
   ]
  },
  {
   "cell_type": "code",
   "execution_count": 47,
   "id": "347ee71e",
   "metadata": {},
   "outputs": [
    {
     "name": "stdout",
     "output_type": "stream",
     "text": [
      "안들어있다!\n"
     ]
    }
   ],
   "source": [
    "a=6\n",
    "if a not in [1,2,3]:\n",
    "    print(\"안들어있다!\")"
   ]
  },
  {
   "cell_type": "markdown",
   "id": "180ef92c",
   "metadata": {},
   "source": [
    "## pass\n",
    "\n",
    "- 조건문에서 아무일도 하지 않는다. \n",
    "   - 즉, 반복문 수행에있어서 전혀 영향을 끼치지 않습니다.\n",
    "\n",
    "- pass가 사용되는 경우는 1. 조건문에서 넣어줄 조건이 딱히 없을경우, 2. class 선언할 때, 초기에 넣어줄 값이 없을 때 정도로 생각할 수 있을 것 같습니다.\n",
    "\n",
    "- 일단 코드를 작성한 후 동작 확인을 위해서 실행할 때, 해당 부분에서 오류가 발생하지 않도록 하기위해 많이 사용한답니다.\n",
    "    "
   ]
  },
  {
   "cell_type": "code",
   "execution_count": 57,
   "id": "1e9ff27a",
   "metadata": {},
   "outputs": [],
   "source": [
    "a=6\n",
    "if a==6:\n",
    "    pass\n",
    "elif a!=7:\n",
    "    print(\"7이 아니다\")\n",
    "else:\n",
    "    print(\"뿅\")"
   ]
  },
  {
   "cell_type": "markdown",
   "id": "e0de876a",
   "metadata": {},
   "source": [
    "1.     pass : 실행할 코드가 없는 것으로 다음 행동을 계속해서 진행합니다.\n",
    "\n",
    "2.     continue : 바로 다음 순번의 loop를 수행합니다.\n",
    "\n",
    "3.     break : 반복문을 멈추고 loop 밖으로 나가도록합니다.\n",
    "\n",
    "https://chancoding.tistory.com/7 참고!!"
   ]
  },
  {
   "cell_type": "markdown",
   "id": "4c7fc440",
   "metadata": {},
   "source": [
    "## if의 조건이 bool이 아닌 경우\n",
    " * 일반적으로는 조건문에는 bool이 주로 위치 한다.\n",
    " * 하지만, 정수, 실수, 문자열 리스트 등 기본 타입도 조건에 사용 가능하다\n",
    " \n",
    " * False로 간주되는 값 (각 타입의 기본값)\n",
    "     * None\n",
    "     * 0\n",
    "     * 0.0\n",
    "     * ''\n",
    "     * [] -> 빈 리스트\n",
    "     * () -> 빈 튜플\n",
    "     * {} -> 빈 딕셔너리\n",
    "     * set() -> 빈 집합\n",
    " * 그밖에는 모두 True로 간주"
   ]
  },
  {
   "cell_type": "markdown",
   "id": "da8d67f6",
   "metadata": {},
   "source": [
    "## if, else\n",
    "  - if가 아닌 경우, 나머지 조건을 표현하고 싶다면 바로 아래 else 문을 사용한다.\n",
    "  - if조건이 True인 경우에는 if 블록의 코드가 수행되고, 거짓인 경우 else 블록의 코드가 수행된다. "
   ]
  },
  {
   "cell_type": "code",
   "execution_count": 61,
   "id": "82abea31",
   "metadata": {},
   "outputs": [
    {
     "name": "stdout",
     "output_type": "stream",
     "text": [
      "숫자를 입력해보세용2\n",
      "1.0\n"
     ]
    }
   ],
   "source": [
    "# 짝수인 경우에는 2로 나눈 값을 출력하고\n",
    "# 홀수인 경우에는 1을 더한 값을 출력해라\n",
    "#input() 을 이용해서 값을 입력 받아서 처리하세요. \n",
    "\n",
    "a=int(input(\"숫자를 입력해보세용\"))\n",
    "if a % 2 == 0:\n",
    "    print(a/2)\n",
    "else:\n",
    "    print(a+1)\n"
   ]
  },
  {
   "cell_type": "code",
   "execution_count": 63,
   "id": "3d3ad5e3",
   "metadata": {},
   "outputs": [
    {
     "name": "stdout",
     "output_type": "stream",
     "text": [
      "3\n",
      "홀수\n"
     ]
    }
   ],
   "source": [
    "#짝수/홀수 구분하기\n",
    "\n",
    "a=int(input())\n",
    "if a%2==0: print(\"짝수\")\n",
    "else: print(\"홀수\")\n"
   ]
  },
  {
   "cell_type": "markdown",
   "id": "b20a62d3",
   "metadata": {},
   "source": [
    "## if, elif, else\n",
    "  - 조건이 여러개인 경우, 다음 조건을 elif 블록에 명시 가능하다.\n",
    "  - 이런 경우, 각 조건을 확인 후 True인 조건의 코드 블록을 실행 한다.\n",
    "  - elif는 개수에 제한없이 사용 가능하다.\n",
    "\n",
    "```python\n",
    "If 조건문:\n",
    "    수행할 문장1 \n",
    "    수행할 문장2\n",
    "    ...\n",
    "elif 조건문:\n",
    "    수행할 문장1\n",
    "    수행할 문장2>\n",
    "    ...\n",
    "elif 조건문:\n",
    "    수행할 문장1\n",
    "    수행할 문장2\n",
    "    ...\n",
    "...\n",
    "else:\n",
    "    수행할 문장1\n",
    "    수행할 문장2\n",
    "   ... \n",
    "```"
   ]
  },
  {
   "cell_type": "code",
   "execution_count": 70,
   "id": "cb9f3744",
   "metadata": {},
   "outputs": [
    {
     "name": "stdout",
     "output_type": "stream",
     "text": [
      "1000원이네\n"
     ]
    }
   ],
   "source": [
    "a=1000\n",
    "\n",
    "if a>1000:\n",
    "    pass\n",
    "elif a==1000:\n",
    "    print(\"1000원이네\")\n",
    "else: \"에러\"    "
   ]
  },
  {
   "cell_type": "markdown",
   "id": "15a9a75a",
   "metadata": {},
   "source": [
    "## 중첩 조건문(nested condition)\n",
    "  - 조건문의 경우 중첩하여 작성 가능하다.\n",
    "  - 중첩 개수에 제한이 없다."
   ]
  },
  {
   "cell_type": "code",
   "execution_count": 69,
   "id": "1bff0cda",
   "metadata": {
    "scrolled": true
   },
   "outputs": [
    {
     "name": "stdout",
     "output_type": "stream",
     "text": [
      "6\n",
      "2의 배수입니다\n",
      "3의 배수입니다\n"
     ]
    }
   ],
   "source": [
    "#2의 배수입니다. 3의 배수입니다\n",
    "\n",
    "a=int(input())\n",
    "\n",
    "if a%2==0: \n",
    "    print(\"2의 배수입니다\")\n",
    "    if a%3==0: \n",
    "        print(\"3의 배수입니다\")\n",
    "    else: \n",
    "        print(\"2의 배수도, 3의 배수도 아닙니다!\")"
   ]
  },
  {
   "cell_type": "markdown",
   "id": "84264593",
   "metadata": {},
   "source": [
    "## 조건부 표현식 (conditional expression)\n",
    "- 조건부 표현식의 정의 방법\n",
    "\n",
    "```\n",
    " 조건문이 참인 경우 if 조건문 else 조건문이 거짓인 경우\n",
    "```\n",
    "- 예를 들면\n",
    "\n",
    "```\n",
    "if score >= 60:\n",
    "    message = \"pass\"\n",
    "else:\n",
    "    message = \"fail\"\n",
    "    \n",
    "```\n",
    "- 위와 같은 코드를 파이썬의 조건부 표현식을 이용해서 표기하면 아래와 같다. \n",
    "\n",
    "```\n",
    "message = \"pass\" if score >= 60 else \"fail\" \n",
    "```\n",
    "\n",
    "-  이런 조건부 표현식은 가독성이 좋고, 한줄로 작성가능해서 자주 사용 된다. "
   ]
  },
  {
   "cell_type": "code",
   "execution_count": 72,
   "id": "d35ccaab",
   "metadata": {},
   "outputs": [
    {
     "name": "stdout",
     "output_type": "stream",
     "text": [
      "10\n",
      "정수아님\n"
     ]
    }
   ],
   "source": [
    "a=input()\n",
    "\n",
    "a = print(\"정수\") if type(a)==int else print(\"정수아님\")"
   ]
  },
  {
   "cell_type": "code",
   "execution_count": 74,
   "id": "7b754a4f",
   "metadata": {},
   "outputs": [
    {
     "name": "stdout",
     "output_type": "stream",
     "text": [
      "10\n",
      "정수아님\n"
     ]
    }
   ],
   "source": [
    "#위와 동일한 식\n",
    "\n",
    "a=input()\n",
    "\n",
    "if type(a)==int:\n",
    "    print(\"정수\")\n",
    "else:\n",
    "    print(\"정수아님\")"
   ]
  },
  {
   "cell_type": "markdown",
   "id": "ef26d04c",
   "metadata": {},
   "source": [
    "# while 반복문\n",
    "\n",
    " + 반복적인 작업을 가능하게 해주는 도구이다.\n",
    " + 특정 조건을 만족하는 경우 수행할 수 있다.\n",
    " + 리스트, 문자열, 튜플 등 컬렉션 타입의 아이템을 하나씩 순회하면서 사용 가능하다.\n",
    " + 코드 작업에서, 가장 많이 사용하는 구문 중 하나이다.\n",
    " + while을 사용할 경우, 반복문을 멈추게 할 문장이 필요하다. \n",
    "   + 그렇지 않으면 셀이 무한히 수행되며 이를 무한루프라고 한다.\n",
    "   + jupyter notebook의 재부팅이 필요"
   ]
  },
  {
   "cell_type": "markdown",
   "id": "ad561f65",
   "metadata": {},
   "source": [
    "while 문\n",
    "  - while  조건이 True일 경우, while 코드 블록을 계속 수행한다.\n",
    "  - while 코드 블록\n",
    "    - if와 마찬가지로 while문 아래의 들여쓰기로 작성 된 부분을 의미한다.\n",
    "  - 조건이 False가 되면 블록 수행을 멈추고 이후 코드를 실행한다.\n",
    "  \n",
    "+ while문의 기본구조\n",
    " \n",
    " ```\n",
    " while 조건문 : \n",
    "     수행할 문장1\n",
    "     수행할 문장2\n",
    "     ...."
   ]
  },
  {
   "cell_type": "markdown",
   "id": "2390a59e",
   "metadata": {},
   "source": [
    "## while 문을 이용한 리스트 출력하기"
   ]
  },
  {
   "cell_type": "code",
   "execution_count": 85,
   "id": "12fa236d",
   "metadata": {},
   "outputs": [
    {
     "name": "stdout",
     "output_type": "stream",
     "text": [
      "1\n",
      "2\n",
      "3\n",
      "4\n"
     ]
    }
   ],
   "source": [
    "a = [1,2,3,4]\n",
    "index=0\n",
    "\n",
    "while index<len(a):\n",
    "    print(a[index])\n",
    "    index+=1"
   ]
  },
  {
   "cell_type": "markdown",
   "id": "4b775730",
   "metadata": {},
   "source": [
    "## while 실습\n",
    "1. [1, 10, 9, 24, 25, 26] 리스트에서 20보다 큰 값만 출력하세요. \n",
    "2. 위의 리스트에서 짝수인 경우만 출력하세요. "
   ]
  },
  {
   "cell_type": "code",
   "execution_count": 82,
   "id": "b917a315",
   "metadata": {},
   "outputs": [
    {
     "name": "stdout",
     "output_type": "stream",
     "text": [
      "24\n",
      "25\n",
      "26\n"
     ]
    }
   ],
   "source": [
    "# 1. [1, 10, 9, 24, 25, 26] 리스트에서 20보다 큰 값만 출력하세요. \n",
    "a=[1, 10, 9, 24, 25, 26]\n",
    "index=0\n",
    "\n",
    "while index<len(a):\n",
    "    if a[index]>20:\n",
    "        print(a[index])\n",
    "    index+=1"
   ]
  },
  {
   "cell_type": "code",
   "execution_count": 84,
   "id": "ff80bd8c",
   "metadata": {},
   "outputs": [
    {
     "name": "stdout",
     "output_type": "stream",
     "text": [
      "10\n",
      "24\n",
      "26\n"
     ]
    }
   ],
   "source": [
    "# 2. 위의 리스트에서 짝수인 경우만 출력하세요. \n",
    "a=[1, 10, 9, 24, 25, 26]\n",
    "index=0\n",
    "\n",
    "while index<len(a):\n",
    "    if a[index]%2==0:\n",
    "        print(a[index])\n",
    "    index+=1"
   ]
  },
  {
   "cell_type": "markdown",
   "id": "bf1c76cb",
   "metadata": {},
   "source": [
    "## 무한루프\n",
    " - while의 경우 종료가 되지 않도록 코드를 작성하면 블록에서 빠져나올 수 없다.\n",
    " - Ctrl + c 를 눌러서 종료시킨다. \n",
    " - jupyter notebook 에서는 'Interrupt the kernel' (정지버튼)을 눌러서 멈춘다."
   ]
  },
  {
   "cell_type": "code",
   "execution_count": null,
   "id": "a26af68f",
   "metadata": {},
   "outputs": [],
   "source": [
    "While True:\n",
    "    print(\"hi\")\n",
    "    \n",
    "#     ==> 무한 루프 상태에 빠짐"
   ]
  },
  {
   "cell_type": "markdown",
   "id": "8d33a6ba",
   "metadata": {},
   "source": [
    "## break \n",
    " + loop를 중단할 때 사용한다.\n",
    " + 보통 조건문 안에서 수행되며, 조건을 만족하는 경우 loop를 빠져나온다.\n"
   ]
  },
  {
   "cell_type": "code",
   "execution_count": 86,
   "id": "c4248d23",
   "metadata": {},
   "outputs": [
    {
     "name": "stdout",
     "output_type": "stream",
     "text": [
      "숫자를 입력해주세요.10\n",
      "10\n",
      "숫자를 입력해주세요.7\n",
      "7\n",
      "숫자를 입력해주세요.6\n",
      "6\n",
      "숫자를 입력해주세요.1\n",
      "1\n"
     ]
    }
   ],
   "source": [
    "while True:\n",
    "    num = int(input(\"숫자를 입력해주세요.\"))\n",
    "    print(num)\n",
    "    if num==1:\n",
    "        break"
   ]
  },
  {
   "cell_type": "markdown",
   "id": "71c73f29",
   "metadata": {},
   "source": [
    "## continue\n",
    "  + 특정한 경우에는 코드를 수행하지 않고 반복문을 계속 실행한다."
   ]
  },
  {
   "cell_type": "code",
   "execution_count": 88,
   "id": "2c5cd473",
   "metadata": {},
   "outputs": [
    {
     "name": "stdout",
     "output_type": "stream",
     "text": [
      "1\n",
      "2\n",
      "3\n",
      "4\n",
      "6\n",
      "7\n",
      "8\n",
      "9\n",
      "10\n"
     ]
    }
   ],
   "source": [
    "index=0\n",
    "while index<10:\n",
    "    index+=1\n",
    "    if index==5: #index값이 5일 때 출력되지 않음\n",
    "        continue\n",
    "    print(index)"
   ]
  },
  {
   "cell_type": "markdown",
   "id": "7049ae2d",
   "metadata": {},
   "source": [
    "## 1 - 100까지 더하기"
   ]
  },
  {
   "cell_type": "code",
   "execution_count": 95,
   "id": "685ce13f",
   "metadata": {},
   "outputs": [
    {
     "name": "stdout",
     "output_type": "stream",
     "text": [
      "5050\n"
     ]
    }
   ],
   "source": [
    "a=1\n",
    "b=0\n",
    "while a!=101:\n",
    "    b+=a\n",
    "    if a==100: print(b)\n",
    "    a+=1\n",
    "   "
   ]
  },
  {
   "cell_type": "markdown",
   "id": "8fd1fcd3",
   "metadata": {},
   "source": [
    "# for 반복문"
   ]
  },
  {
   "cell_type": "markdown",
   "id": "c91d8674",
   "metadata": {},
   "source": [
    "## for 반복문 \n",
    " - 리스트, 문자열 등등 순회 가능한 객체를 순회하면서 값을 처리할 때 사용한다. \n",
    " - 모든 아이템이 순회되면 for 블록 종료된다.\n",
    " - for문의 기본구조\n",
    "```python\n",
    "for 변수 in 리스트(또는 튜플, 문자열):\n",
    "    수행할 문장1\n",
    "    수행할 문장2"
   ]
  },
  {
   "cell_type": "markdown",
   "id": "adf09644",
   "metadata": {},
   "source": [
    "### **for문 사용해보기**"
   ]
  },
  {
   "cell_type": "code",
   "execution_count": 99,
   "id": "867c82bd",
   "metadata": {},
   "outputs": [
    {
     "name": "stdout",
     "output_type": "stream",
     "text": [
      "1 2 3 4 5 "
     ]
    }
   ],
   "source": [
    "a = [1,2,3,4,5]\n",
    "\n",
    "for value in a:\n",
    "    print(value, end=\" \")\n"
   ]
  },
  {
   "cell_type": "code",
   "execution_count": 100,
   "id": "af97425a",
   "metadata": {},
   "outputs": [],
   "source": [
    "a = (1,2,3,4,5)"
   ]
  },
  {
   "cell_type": "code",
   "execution_count": 101,
   "id": "30801078",
   "metadata": {},
   "outputs": [
    {
     "name": "stdout",
     "output_type": "stream",
     "text": [
      "0\n",
      "1\n",
      "2\n",
      "3\n",
      "4\n"
     ]
    }
   ],
   "source": [
    "for i in range(5):\n",
    "    print(i)"
   ]
  },
  {
   "cell_type": "code",
   "execution_count": 103,
   "id": "6752c119",
   "metadata": {},
   "outputs": [
    {
     "name": "stdout",
     "output_type": "stream",
     "text": [
      "5050\n"
     ]
    }
   ],
   "source": [
    "# 1~100까지 더하기\n",
    "\n",
    "a=0\n",
    "\n",
    "for i in range(101):\n",
    "   a+=i\n",
    "print(a)"
   ]
  },
  {
   "cell_type": "code",
   "execution_count": 106,
   "id": "b60f1233",
   "metadata": {},
   "outputs": [
    {
     "name": "stdout",
     "output_type": "stream",
     "text": [
      "70\n"
     ]
    }
   ],
   "source": [
    "score=[10,20,30,40,50,60,70]\n",
    "\n",
    "for i in score:\n",
    "    if i > 60: \n",
    "        print(i)"
   ]
  },
  {
   "cell_type": "code",
   "execution_count": 109,
   "id": "1579ad8c",
   "metadata": {},
   "outputs": [
    {
     "name": "stdout",
     "output_type": "stream",
     "text": [
      "0번 학생 점수는?? 10 입니다!!\n",
      "1번 학생 점수는?? 20 입니다!!\n",
      "2번 학생 점수는?? 30 입니다!!\n",
      "3번 학생 점수는?? 40 입니다!!\n",
      "4번 학생 점수는?? 50 입니다!!\n",
      "5번 학생 점수는?? 60 입니다!!\n",
      "6번 학생 점수는?? 70 입니다!!\n",
      "7번 학생 점수는?? 80 입니다!!\n",
      "8번 학생 점수는?? 90 입니다!!\n",
      "9번 학생 점수는?? 100 입니다!!\n"
     ]
    }
   ],
   "source": [
    "#format과 for반복문과의 조합\n",
    "\n",
    "score=[10,20,30,40,50,60,70,80,90,100]\n",
    "\n",
    "for i in range(len(score)):\n",
    "    print(\"{}번 학생 점수는??\".format(i),score[i],\"입니다!!\")"
   ]
  },
  {
   "cell_type": "markdown",
   "id": "7fe38da4",
   "metadata": {},
   "source": [
    "### 문자열의 아이템 출력하기\n",
    " - 문자열의 경우 순회 가능, 리스트의 유사하게 순회 가능하다."
   ]
  },
  {
   "cell_type": "code",
   "execution_count": 111,
   "id": "caf4e8c0",
   "metadata": {},
   "outputs": [
    {
     "name": "stdout",
     "output_type": "stream",
     "text": [
      "H\n",
      "e\n",
      "l\n",
      "l\n",
      "o\n"
     ]
    }
   ],
   "source": [
    "for num in \"Hello\":\n",
    "    print(num)"
   ]
  },
  {
   "cell_type": "markdown",
   "id": "638793e8",
   "metadata": {},
   "source": [
    "### 리스트 아이템 출력하기"
   ]
  },
  {
   "cell_type": "code",
   "execution_count": 112,
   "id": "74e93af6",
   "metadata": {},
   "outputs": [
    {
     "name": "stdout",
     "output_type": "stream",
     "text": [
      "2\n",
      "2\n",
      "3\n",
      "3\n",
      "5\n"
     ]
    }
   ],
   "source": [
    "for num in [2,2,3,3,5,]:\n",
    "    print(num)\n"
   ]
  },
  {
   "cell_type": "markdown",
   "id": "c76ede2c",
   "metadata": {},
   "source": [
    "### dict의 아이템 출력하기\n",
    "  - dictionary의 경우 기본적으로 순회 하게 되면 key값을 참조한다.\n",
    "  - keys()함수를 이용하여 key 값만 순회 가능하다.\n",
    "  - values()함수를 이용하여 value 값만 순회 가능하다.\n",
    "  - items()함수를 이용하여 tuple형태로 key, value 순회 가능하다.💥💥"
   ]
  },
  {
   "cell_type": "code",
   "execution_count": 114,
   "id": "ff76641b",
   "metadata": {},
   "outputs": [],
   "source": [
    "person={\"이름\":\"소나\",\"나이\":\"뭘까요?\"}"
   ]
  },
  {
   "cell_type": "code",
   "execution_count": 118,
   "id": "a68a9128",
   "metadata": {},
   "outputs": [
    {
     "name": "stdout",
     "output_type": "stream",
     "text": [
      "이름\n",
      "나이\n"
     ]
    }
   ],
   "source": [
    "for key in person.keys():\n",
    "    print(key)"
   ]
  },
  {
   "cell_type": "code",
   "execution_count": 120,
   "id": "eb298344",
   "metadata": {},
   "outputs": [
    {
     "name": "stdout",
     "output_type": "stream",
     "text": [
      "name\n",
      "phone\n",
      "address\n"
     ]
    }
   ],
   "source": [
    "person = {'name':'kang','phone':'010-111-1111','address':'서울시 강남구'}\n",
    "for i in person.keys():\n",
    "    print(i)"
   ]
  },
  {
   "cell_type": "code",
   "execution_count": 122,
   "id": "da9b16f7",
   "metadata": {},
   "outputs": [
    {
     "name": "stdout",
     "output_type": "stream",
     "text": [
      "kang\n",
      "010-111-1111\n",
      "서울시 강남구\n"
     ]
    }
   ],
   "source": [
    "for i in person.values():\n",
    "    print(i)"
   ]
  },
  {
   "cell_type": "code",
   "execution_count": 121,
   "id": "a94249d2",
   "metadata": {
    "scrolled": true
   },
   "outputs": [
    {
     "name": "stdout",
     "output_type": "stream",
     "text": [
      "('name', 'kang')\n",
      "('phone', '010-111-1111')\n",
      "('address', '서울시 강남구')\n"
     ]
    }
   ],
   "source": [
    "for i in person.items():\n",
    "    print(i)"
   ]
  },
  {
   "cell_type": "markdown",
   "id": "42436bae",
   "metadata": {},
   "source": [
    "### for에서 index 사용하기\n",
    "  - 기본적으로 for에 리스트를 순회하는 경우, 값만 추출 한다.\n",
    "  - 아래와 같은 코드로 인덱스와 값 모두 사용 가능(enumerate 함수 이용)하다.\n",
    "\n"
   ]
  },
  {
   "cell_type": "markdown",
   "id": "99926406",
   "metadata": {},
   "source": [
    "* enumerate는 인덱스와 값을 같이 갖고 온다"
   ]
  },
  {
   "cell_type": "code",
   "execution_count": 123,
   "id": "46fed962",
   "metadata": {},
   "outputs": [
    {
     "name": "stdout",
     "output_type": "stream",
     "text": [
      "(0, 10)\n",
      "(1, 20)\n",
      "(2, 30)\n",
      "(3, 40)\n",
      "(4, 50)\n"
     ]
    }
   ],
   "source": [
    "a = [10,20,30,40,50]\n",
    "for i in enumerate(a):\n",
    "    print(i)"
   ]
  },
  {
   "cell_type": "code",
   "execution_count": 125,
   "id": "1bd60045",
   "metadata": {},
   "outputs": [
    {
     "name": "stdout",
     "output_type": "stream",
     "text": [
      "0-짝꿍-10\n",
      "1-짝꿍-20\n",
      "2-짝꿍-30\n",
      "3-짝꿍-40\n",
      "4-짝꿍-50\n"
     ]
    }
   ],
   "source": [
    "for c,d in enumerate(a):\n",
    "    print(c,end=\"-짝꿍-\")\n",
    "    print(d)"
   ]
  },
  {
   "cell_type": "markdown",
   "id": "bc2c6a69",
   "metadata": {},
   "source": [
    "###  break\n",
    "  - 반복문을 수행하는 도중 break를 만나면 loop 종료가 가능하다."
   ]
  },
  {
   "cell_type": "code",
   "execution_count": 126,
   "id": "d62cbe1e",
   "metadata": {},
   "outputs": [
    {
     "name": "stdout",
     "output_type": "stream",
     "text": [
      "10\n",
      "20\n"
     ]
    }
   ],
   "source": [
    "for i in a:\n",
    "    if i ==30:\n",
    "        break\n",
    "    print(i)"
   ]
  },
  {
   "cell_type": "markdown",
   "id": "8a4a01be",
   "metadata": {},
   "source": [
    "### continue\n",
    " - 반복문을 수행하는 도중 continue를 만나면 해당 아이템을 건너 뛴다."
   ]
  },
  {
   "cell_type": "code",
   "execution_count": 127,
   "id": "0fad5052",
   "metadata": {},
   "outputs": [
    {
     "name": "stdout",
     "output_type": "stream",
     "text": [
      "10\n",
      "20\n",
      "40\n",
      "50\n"
     ]
    }
   ],
   "source": [
    "for i in a:\n",
    "    if i ==30:\n",
    "        continue\n",
    "    print(i)"
   ]
  },
  {
   "cell_type": "markdown",
   "id": "53f53224",
   "metadata": {},
   "source": [
    "### loop 중첩\n",
    "  - 반복문의 경우에도 중첩하여 사용 가능하다.\n",
    "  - 중첩이라는 것은 반복문 블록의 코드안에 또 반복문의 코드가 작성되는 것을 의미한다.\n",
    "  - 이런 경우, 내부 루프는 외부 루프가 수행되는 만큼 반복 수행 된다.\n",
    "  - 또한 중첩의 경우 무한히 가능하다.\n",
    "\n",
    "```\n",
    "for 변수 in 리스트(또는 튜플, 문자열):\n",
    "    for 변수 in 리스트(또는 튜플, 문자열):\n",
    "        수행할 문장1\n",
    "        수행할 문장2\n",
    "        ...\n",
    "    ...\n",
    " \n",
    "```"
   ]
  },
  {
   "cell_type": "code",
   "execution_count": 130,
   "id": "4162a880",
   "metadata": {},
   "outputs": [
    {
     "name": "stdout",
     "output_type": "stream",
     "text": [
      "1 10\n",
      "1 20\n",
      "1 30\n",
      "2 10\n",
      "2 20\n",
      "2 30\n",
      "3 10\n",
      "3 20\n",
      "3 30\n"
     ]
    }
   ],
   "source": [
    "a=[1,2,3]\n",
    "b=[10,20,30]\n",
    "for i in a:\n",
    "    for j in b:\n",
    "        print(i,j)"
   ]
  },
  {
   "cell_type": "markdown",
   "id": "0586c6a8",
   "metadata": {},
   "source": [
    "### 구구단 출력하기"
   ]
  },
  {
   "cell_type": "markdown",
   "id": "b622c528",
   "metadata": {},
   "source": [
    "```\n",
    "2 * 1 = 2\n",
    "2 * 2 = 4\n",
    "2 * 3 = 6\n",
    "...\n",
    "2 * 9 = 18\n",
    "3 * 1 = 3\n",
    "..\n",
    "3 * 9 = 27\n",
    "...\n",
    "9 * 1 = 9\n",
    "...\n",
    "9 * 9 = 81\n",
    "```"
   ]
  },
  {
   "cell_type": "code",
   "execution_count": 131,
   "id": "6f55f54f",
   "metadata": {},
   "outputs": [
    {
     "name": "stdout",
     "output_type": "stream",
     "text": [
      "1 * 1 = 1\n",
      "1 * 2 = 2\n",
      "1 * 3 = 3\n",
      "1 * 4 = 4\n",
      "1 * 5 = 5\n",
      "1 * 6 = 6\n",
      "1 * 7 = 7\n",
      "1 * 8 = 8\n",
      "1 * 9 = 9\n",
      "2 * 1 = 2\n",
      "2 * 2 = 4\n",
      "2 * 3 = 6\n",
      "2 * 4 = 8\n",
      "2 * 5 = 10\n",
      "2 * 6 = 12\n",
      "2 * 7 = 14\n",
      "2 * 8 = 16\n",
      "2 * 9 = 18\n",
      "3 * 1 = 3\n",
      "3 * 2 = 6\n",
      "3 * 3 = 9\n",
      "3 * 4 = 12\n",
      "3 * 5 = 15\n",
      "3 * 6 = 18\n",
      "3 * 7 = 21\n",
      "3 * 8 = 24\n",
      "3 * 9 = 27\n",
      "4 * 1 = 4\n",
      "4 * 2 = 8\n",
      "4 * 3 = 12\n",
      "4 * 4 = 16\n",
      "4 * 5 = 20\n",
      "4 * 6 = 24\n",
      "4 * 7 = 28\n",
      "4 * 8 = 32\n",
      "4 * 9 = 36\n",
      "5 * 1 = 5\n",
      "5 * 2 = 10\n",
      "5 * 3 = 15\n",
      "5 * 4 = 20\n",
      "5 * 5 = 25\n",
      "5 * 6 = 30\n",
      "5 * 7 = 35\n",
      "5 * 8 = 40\n",
      "5 * 9 = 45\n",
      "6 * 1 = 6\n",
      "6 * 2 = 12\n",
      "6 * 3 = 18\n",
      "6 * 4 = 24\n",
      "6 * 5 = 30\n",
      "6 * 6 = 36\n",
      "6 * 7 = 42\n",
      "6 * 8 = 48\n",
      "6 * 9 = 54\n",
      "7 * 1 = 7\n",
      "7 * 2 = 14\n",
      "7 * 3 = 21\n",
      "7 * 4 = 28\n",
      "7 * 5 = 35\n",
      "7 * 6 = 42\n",
      "7 * 7 = 49\n",
      "7 * 8 = 56\n",
      "7 * 9 = 63\n",
      "8 * 1 = 8\n",
      "8 * 2 = 16\n",
      "8 * 3 = 24\n",
      "8 * 4 = 32\n",
      "8 * 5 = 40\n",
      "8 * 6 = 48\n",
      "8 * 7 = 56\n",
      "8 * 8 = 64\n",
      "8 * 9 = 72\n",
      "9 * 1 = 9\n",
      "9 * 2 = 18\n",
      "9 * 3 = 27\n",
      "9 * 4 = 36\n",
      "9 * 5 = 45\n",
      "9 * 6 = 54\n",
      "9 * 7 = 63\n",
      "9 * 8 = 72\n",
      "9 * 9 = 81\n"
     ]
    }
   ],
   "source": [
    "for i in range(1,10):\n",
    "    for j in range(1,10):\n",
    "        print(i,\"*\",j,\"=\",i*j)"
   ]
  },
  {
   "cell_type": "markdown",
   "id": "6bfc2c0a",
   "metadata": {},
   "source": [
    "### collection의 길이\n",
    " - len() 내장함수로 계산 가능하다.\n",
    " - 내장함수란 파이썬 내부에 구현되어 있어서, import하지 않고도 사용 가능한 함수를 의미한다.\n",
    " - abs, len, type, range 등이 있다."
   ]
  },
  {
   "cell_type": "markdown",
   "id": "ca62d067",
   "metadata": {},
   "source": [
    "### range 함수\n",
    "  - 리스트를 쉽게 만들 수 있는 내장함수이다.\n",
    "  - 주어진 값에 따라 다양한 결과를 반환한다.\n",
    "  - 숫자리스트를 자동으로 만들어 주는 range함수와 for문은 함께 자주 사용된다. \n",
    " \n",
    "```python\n",
    "range(10)       -> [0, 1, 2, 3, 4, 5, 6, 7, 8, 9]\n",
    "range(2, 10)    -> [2, 3, 4, 5, 6, 7, 8, 9] \n",
    "range(2, 10, 3) -> [2, 5, 8] \n",
    "```"
   ]
  },
  {
   "cell_type": "markdown",
   "id": "77ef6b2c",
   "metadata": {},
   "source": [
    "* 1 - 100까지의 리스트 생성하기"
   ]
  },
  {
   "cell_type": "code",
   "execution_count": 134,
   "id": "44ae2d51",
   "metadata": {},
   "outputs": [
    {
     "name": "stdout",
     "output_type": "stream",
     "text": [
      "[1, 2, 3, 4, 5, 6, 7, 8, 9, 10, 11, 12, 13, 14, 15, 16, 17, 18, 19, 20, 21, 22, 23, 24, 25, 26, 27, 28, 29, 30, 31, 32, 33, 34, 35, 36, 37, 38, 39, 40, 41, 42, 43, 44, 45, 46, 47, 48, 49, 50, 51, 52, 53, 54, 55, 56, 57, 58, 59, 60, 61, 62, 63, 64, 65, 66, 67, 68, 69, 70, 71, 72, 73, 74, 75, 76, 77, 78, 79, 80, 81, 82, 83, 84, 85, 86, 87, 88, 89, 90, 91, 92, 93, 94, 95, 96, 97, 98, 99, 100]\n"
     ]
    }
   ],
   "source": [
    "print(list(range(1,101)))"
   ]
  },
  {
   "cell_type": "markdown",
   "id": "06b182ab",
   "metadata": {},
   "source": [
    "* 1부터 100사이의 5의 배수만을 갖는 리스트를 생성하시오"
   ]
  },
  {
   "cell_type": "code",
   "execution_count": 136,
   "id": "e6486bd8",
   "metadata": {},
   "outputs": [
    {
     "data": {
      "text/plain": [
       "[0, 5, 10, 15, 20, 25, 30, 35, 40, 45, 50, 55, 60, 65, 70, 75, 80, 85, 90, 95]"
      ]
     },
     "execution_count": 136,
     "metadata": {},
     "output_type": "execute_result"
    }
   ],
   "source": [
    "list(range(0,100,5))"
   ]
  },
  {
   "cell_type": "markdown",
   "id": "de46a1e4",
   "metadata": {},
   "source": [
    "### **List comprehension** \n",
    "- [표현식 for 항목 in 반복가능객체]\n",
    "- [표현식 for 항목 in 반복가능객체 if 조건문]"
   ]
  },
  {
   "cell_type": "code",
   "execution_count": 137,
   "id": "c9894127",
   "metadata": {},
   "outputs": [
    {
     "data": {
      "text/plain": [
       "[0, 1, 2, 3, 4, 5, 6, 7, 8, 9]"
      ]
     },
     "execution_count": 137,
     "metadata": {},
     "output_type": "execute_result"
    }
   ],
   "source": [
    "[ i for i in range(10)]"
   ]
  },
  {
   "cell_type": "code",
   "execution_count": 139,
   "id": "ad71d22f",
   "metadata": {},
   "outputs": [
    {
     "data": {
      "text/plain": [
       "[6, 7, 8, 9, 10]"
      ]
     },
     "execution_count": 139,
     "metadata": {},
     "output_type": "execute_result"
    }
   ],
   "source": [
    "[ i for i in range(1,11) if i>5]"
   ]
  },
  {
   "cell_type": "code",
   "execution_count": 146,
   "id": "0282f568",
   "metadata": {},
   "outputs": [
    {
     "data": {
      "text/plain": [
       "['6보다 작은 수네여!',\n",
       " '6보다 작은 수네여!',\n",
       " '6보다 작은 수네여!',\n",
       " '6보다 작은 수네여!',\n",
       " '6보다 작은 수네여!',\n",
       " 6,\n",
       " 7,\n",
       " 8,\n",
       " 9,\n",
       " 10]"
      ]
     },
     "execution_count": 146,
     "metadata": {},
     "output_type": "execute_result"
    }
   ],
   "source": [
    "[ i if i>5 else \"6보다 작은 수네여!\" for i in range(1,11) ]\n",
    "\n",
    "\n",
    "#else 조건문까지 있을 경우에는 왼쪽에다가 써준담!"
   ]
  },
  {
   "cell_type": "markdown",
   "id": "0d2c5841",
   "metadata": {},
   "source": [
    "### 연습문제\n",
    "   \n",
    "  1. 1 - 100까지 정수 중 2의 배수 또는 11의 배수를 모두 출력하시오. \n",
    "  1. a = [22, 1, 3, 4, 7, 98, 21, 55, 87, 99, 19, 20, 45] 에서 최대값과 최소값을 찾으시오. (sorted, sort 사용 금지)\n",
    "  1. a = [22, 1, 3, 4, 7, 98, 21, 55, 87, 99, 19, 20, 45] 에서 평균을 구하세요.\n",
    "  1. 위의 리스트중에서 짝수에는 2를 홀수에는 3을곱해서 각각 짝수, 홀수 리스트를 새로 작성하시오.\n",
    "  "
   ]
  },
  {
   "cell_type": "code",
   "execution_count": 149,
   "id": "a7cc0e19",
   "metadata": {},
   "outputs": [
    {
     "name": "stdout",
     "output_type": "stream",
     "text": [
      "2\n",
      "4\n",
      "6\n",
      "8\n",
      "10\n",
      "11\n",
      "12\n",
      "14\n",
      "16\n",
      "18\n",
      "20\n",
      "22\n",
      "24\n",
      "26\n",
      "28\n",
      "30\n",
      "32\n",
      "33\n",
      "34\n",
      "36\n",
      "38\n",
      "40\n",
      "42\n",
      "44\n",
      "46\n",
      "48\n",
      "50\n",
      "52\n",
      "54\n",
      "55\n",
      "56\n",
      "58\n",
      "60\n",
      "62\n",
      "64\n",
      "66\n",
      "68\n",
      "70\n",
      "72\n",
      "74\n",
      "76\n",
      "77\n",
      "78\n",
      "80\n",
      "82\n",
      "84\n",
      "86\n",
      "88\n",
      "90\n",
      "92\n",
      "94\n",
      "96\n",
      "98\n",
      "99\n",
      "100\n"
     ]
    }
   ],
   "source": [
    "# 1.1~100까지 정수 중 2의 배수 또는 11의 배수를 모두 출력하시오.\n",
    "\n",
    "for i in range(1,101):\n",
    "    if i%2==0 or i%11==0:\n",
    "        print(i)"
   ]
  },
  {
   "cell_type": "code",
   "execution_count": 150,
   "id": "5c479378",
   "metadata": {},
   "outputs": [
    {
     "name": "stdout",
     "output_type": "stream",
     "text": [
      "최대값은?? 3\n",
      "최소값은?? 1\n"
     ]
    }
   ],
   "source": [
    "# 2. a = [22, 1, 3, 4, 7, 98, 21, 55, 87, 99, 19, 20, 45] 에서 최대값과 최소값을 찾으시오. (sorted, sort 사용 금지)\n",
    "\n",
    "print(\"최대값은??\",max(a))\n",
    "print(\"최소값은??\",min(a))"
   ]
  },
  {
   "cell_type": "code",
   "execution_count": 151,
   "id": "cf17300b",
   "metadata": {},
   "outputs": [
    {
     "name": "stdout",
     "output_type": "stream",
     "text": [
      "평균값은 2.0\n"
     ]
    }
   ],
   "source": [
    "# 3. a = [22, 1, 3, 4, 7, 98, 21, 55, 87, 99, 19, 20, 45] 에서 평균을 구하세요\n",
    "print(\"평균값은\",sum(a)/len(a))"
   ]
  },
  {
   "cell_type": "code",
   "execution_count": 153,
   "id": "6d2ab2c0",
   "metadata": {},
   "outputs": [],
   "source": [
    "# 4. 위의 리스트중에서 짝수에는 2를 홀수에는 3을 곱해서 \n",
    "# 각각 짝수, 홀수 리스트를 새로 작성하시오."
   ]
  },
  {
   "cell_type": "code",
   "execution_count": 154,
   "id": "24fe84ff",
   "metadata": {},
   "outputs": [],
   "source": [
    "a = [22, 1, 3, 4, 7, 98, 21, 55, 87, 99, 19, 20, 45]"
   ]
  },
  {
   "cell_type": "code",
   "execution_count": 155,
   "id": "d0cc5368",
   "metadata": {},
   "outputs": [
    {
     "name": "stdout",
     "output_type": "stream",
     "text": [
      "[22, 4, 98, 20]\n",
      "[1, 3, 7, 21, 55, 87, 99, 19, 45]\n"
     ]
    }
   ],
   "source": [
    "짝수=list()\n",
    "홀수=list()\n",
    "\n",
    "for i in a:\n",
    "    if i%2==0:\n",
    "        짝수.append(i)\n",
    "    else: \n",
    "        홀수.append(i)\n",
    "print(짝수)\n",
    "print(홀수)"
   ]
  }
 ],
 "metadata": {
  "kernelspec": {
   "display_name": "Python 3 (ipykernel)",
   "language": "python",
   "name": "python3"
  },
  "language_info": {
   "codemirror_mode": {
    "name": "ipython",
    "version": 3
   },
   "file_extension": ".py",
   "mimetype": "text/x-python",
   "name": "python",
   "nbconvert_exporter": "python",
   "pygments_lexer": "ipython3",
   "version": "3.9.7"
  },
  "toc": {
   "base_numbering": 1,
   "nav_menu": {},
   "number_sections": true,
   "sideBar": true,
   "skip_h1_title": false,
   "title_cell": "Table of Contents",
   "title_sidebar": "Contents",
   "toc_cell": false,
   "toc_position": {},
   "toc_section_display": true,
   "toc_window_display": true
  }
 },
 "nbformat": 4,
 "nbformat_minor": 5
}
