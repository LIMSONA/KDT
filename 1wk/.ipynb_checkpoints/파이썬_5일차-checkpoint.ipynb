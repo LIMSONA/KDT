{
 "cells": [
  {
   "cell_type": "markdown",
   "id": "d1e1f977",
   "metadata": {},
   "source": [
    "# 수업에 들어가기 전에 🐱‍💻"
   ]
  },
  {
   "cell_type": "markdown",
   "id": "ce236606",
   "metadata": {},
   "source": [
    "* 람다 함수에는 def 함수와 다르게 return이 필요없다"
   ]
  },
  {
   "cell_type": "markdown",
   "id": "61b87db5",
   "metadata": {},
   "source": [
    "# 파일 입출력\n",
    "1. 파일 입출력에 대해 이해한다. \n",
    "1. 파일을 읽고 쓸 수 있다."
   ]
  },
  {
   "cell_type": "markdown",
   "id": "17a1188e",
   "metadata": {},
   "source": [
    "## 파일에 문자열 읽기 쓰기\n",
    "    + 파일에 문자열 쓰기 \n",
    "        1. 파일에 문자열을 쓸 때는 open 함수를 이용해서 파일객체를 얻어온다.\n",
    "        2. 얻어온 파일 객체에 wirte 메소드를 이용해서 문자열을 쓴다. \n",
    "        3. 모든 일이 끝나면 반드시 close 메소드를 이용해서 파일객체를 닫는다. "
   ]
  },
  {
   "cell_type": "markdown",
   "id": "2801dc53",
   "metadata": {},
   "source": [
    "### 파일 경로"
   ]
  },
  {
   "cell_type": "code",
   "execution_count": 2,
   "id": "13349bd6",
   "metadata": {},
   "outputs": [
    {
     "name": "stdout",
     "output_type": "stream",
     "text": [
      "C:\\sona\\KDT\\1wk\n"
     ]
    }
   ],
   "source": [
    "import os \n",
    "\n",
    "print( os.getcwd() )"
   ]
  },
  {
   "cell_type": "code",
   "execution_count": 16,
   "id": "db788624",
   "metadata": {},
   "outputs": [
    {
     "data": {
      "text/plain": [
       "['(001~020)초보자를_위한_파이썬_300제.ipynb',\n",
       " '(021~050)초보자를_위한_파이썬_300제.ipynb',\n",
       " '(051~080)초보자를_위한_파이썬_300제.ipynb',\n",
       " '.ipynb_checkpoints',\n",
       " '027004.png',\n",
       " '081_100_초보자를_위한_파이썬_300제.ipynb',\n",
       " '101_130_초보자를_위한_파이썬_300제.ipynb',\n",
       " '131_200_초보자를_위한_파이썬_300제.ipynb',\n",
       " '1631863503853_0.jpg',\n",
       " '201_240_초보자를_위한_파이썬_300제.ipynb',\n",
       " '241_290_초보자를_위한_파이썬_300제.ipynb',\n",
       " '291_300_초보자를_위한_파이썬_300제.ipynb',\n",
       " 'json, html형태.jfif',\n",
       " 'readme.txt',\n",
       " 'test.txt',\n",
       " '파이썬_1일차.ipynb',\n",
       " '파이썬_2일차.ipynb',\n",
       " '파이썬_3일차.ipynb',\n",
       " '파이썬_4일차.ipynb',\n",
       " '파이썬_5일차.ipynb',\n",
       " '화면캡처.png']"
      ]
     },
     "execution_count": 16,
     "metadata": {},
     "output_type": "execute_result"
    }
   ],
   "source": [
    "# 현재 경로 리스트\n",
    "os.listdir( os.getcwd() )"
   ]
  },
  {
   "cell_type": "code",
   "execution_count": 7,
   "id": "8bdbd935",
   "metadata": {},
   "outputs": [
    {
     "ename": "SyntaxError",
     "evalue": "invalid syntax (Temp/ipykernel_936/618122092.py, line 2)",
     "output_type": "error",
     "traceback": [
      "\u001b[1;36m  File \u001b[1;32m\"C:\\Users\\Admin\\AppData\\Local\\Temp/ipykernel_936/618122092.py\"\u001b[1;36m, line \u001b[1;32m2\u001b[0m\n\u001b[1;33m    cd (./)\u001b[0m\n\u001b[1;37m        ^\u001b[0m\n\u001b[1;31mSyntaxError\u001b[0m\u001b[1;31m:\u001b[0m invalid syntax\n"
     ]
    }
   ],
   "source": [
    "#경로이동 가능 ( cd 뒤에 파일 경로 기록) \n",
    "cd "
   ]
  },
  {
   "cell_type": "markdown",
   "id": "4cd2d307",
   "metadata": {},
   "source": [
    " ### 파일 읽고 닫기\n",
    "      1. 파일에 문자열을 쓸 때는 open() 함수를 이용해서 파일객체를 얻어온다.\n",
    "      2. 얻어온 파일 객체에 read() 메소드를 이용해서 문자열을 쓴다. \n",
    "      3. 모든 일이 끝나면 반드시 close() 메소드를 이용해서 파일객체를 닫는다. "
   ]
  },
  {
   "cell_type": "code",
   "execution_count": 9,
   "id": "543e2ffd",
   "metadata": {
    "scrolled": true
   },
   "outputs": [
    {
     "name": "stdout",
     "output_type": "stream",
     "text": [
      "�븞�뀞!!!\n",
      "�굹�뒗 �삉諛⑹씠�뼂\n"
     ]
    }
   ],
   "source": [
    "#주피터노트북에서 !명령어 로 운영체제 명령어 수행가능!!  \n",
    "#!type 파일명 텍스트파일내용 출력..  맥은 !cat 파일명 으로 가능 \n",
    "\n",
    "!type test.txt"
   ]
  },
  {
   "cell_type": "code",
   "execution_count": 18,
   "id": "3c1f81a8",
   "metadata": {},
   "outputs": [
    {
     "name": "stdout",
     "output_type": "stream",
     "text": [
      "test\n"
     ]
    }
   ],
   "source": [
    "!type readme.txt"
   ]
  },
  {
   "cell_type": "code",
   "execution_count": 23,
   "id": "53a9eed8",
   "metadata": {},
   "outputs": [
    {
     "name": "stdout",
     "output_type": "stream",
     "text": [
      "안녕!!!\n",
      "나는 또방이얌\n"
     ]
    }
   ],
   "source": [
    "f = open(\"test.txt\",\"r\",encoding=\"utf8\")\n",
    "read_txt = f.read()\n",
    "f.close()\n",
    "\n",
    "print(read_txt)"
   ]
  },
  {
   "cell_type": "code",
   "execution_count": 27,
   "id": "3bd8425c",
   "metadata": {},
   "outputs": [
    {
     "name": "stdout",
     "output_type": "stream",
     "text": [
      "test\n"
     ]
    }
   ],
   "source": [
    "f1 = open(\"readme.txt\",\"r\")\n",
    "read_txt_2 = f1.read()\n",
    "f1.close()\n",
    "\n",
    "print(read_txt_2)"
   ]
  },
  {
   "cell_type": "markdown",
   "id": "2a7ae23d",
   "metadata": {},
   "source": [
    "**파일 모드 종류**\n",
    "\n",
    "r - 읽기모드 (디폴트)\n",
    "\n",
    "w - 쓰기모드, 파일이 있으면 모든 내용을 삭제\n",
    "\n",
    "x - 쓰기모드, 파일이 있으면 오류 발생\n",
    "\n",
    "a - 쓰기모드, 파일이 있으면 뒤에 내용을 추가\n",
    "\n",
    "+ - 읽기쓰기모드\n",
    "\n",
    "t - 텍스트 모드, 텍스트 문자 기록에 사용 (디폴트)\n",
    "\n",
    "b - 바이너리 모드, 바이트단위 데이터 기록에 사용\n",
    "<img src=\"027004.png\" width=\"400\" height=\"400\"/>\n",
    "<!-- ![파일모드](027004.png){: width=\"50%\" height=\"50%\"} -->"
   ]
  },
  {
   "cell_type": "code",
   "execution_count": 35,
   "id": "c9fdb3aa",
   "metadata": {},
   "outputs": [],
   "source": [
    "ff = open(\"myFile.txt\",\"w\")  #인코딩을 써주지 않아도 한글이 안깨지넹??\n",
    "ff.write(\"카카오 주식이... 엄청 떨어져서 슬픈 하루당 \\n어쩔수 없지... 암요.. 나의 책임이니까\")\n",
    "ff.close()"
   ]
  },
  {
   "cell_type": "code",
   "execution_count": 37,
   "id": "5a153844",
   "metadata": {},
   "outputs": [],
   "source": [
    "fff = open(\"myFile.txt\",\"a\")  #인코딩을 써주지 않아도 한글이 안깨지넹??\n",
    "fff.write(\"\\n 장투만이 답인건가.... ㅠㅠ\\n 흑....ㅠㅠㅠㅠㅠㅠ\")\n",
    "fff.close()"
   ]
  },
  {
   "cell_type": "markdown",
   "id": "b998dca8",
   "metadata": {},
   "source": [
    "### 반복문을 이용해 파일 읽고 쓰기\n",
    "    - 파일에 문자열 한 줄씩 쓰기\n"
   ]
  },
  {
   "cell_type": "code",
   "execution_count": 32,
   "id": "8df49566",
   "metadata": {},
   "outputs": [],
   "source": [
    "f= open(\"test.txt\",\"w\")\n",
    "for i in range(1,10):\n",
    "    f.write(\"hi \\n\")\n",
    "f.close()"
   ]
  },
  {
   "cell_type": "code",
   "execution_count": 33,
   "id": "4d5bbe26",
   "metadata": {},
   "outputs": [
    {
     "name": "stdout",
     "output_type": "stream",
     "text": [
      "hi \n",
      "hi \n",
      "hi \n",
      "hi \n",
      "hi \n",
      "hi \n",
      "hi \n",
      "hi \n",
      "hi \n"
     ]
    }
   ],
   "source": [
    "!type test.txt"
   ]
  },
  {
   "cell_type": "code",
   "execution_count": 43,
   "id": "7ef91eaf",
   "metadata": {},
   "outputs": [],
   "source": [
    "# 2단 구구단 들어있는 파일 만들기\n",
    "\n",
    "f_gugu = open(\"gugu.txt\",\"w\")\n",
    "for i  in range(1,10):\n",
    "    f_gugu.write(\"2 x {} = {}\\n\".format(i,2*i))\n",
    "\n",
    "f_gugu.close()"
   ]
  },
  {
   "cell_type": "code",
   "execution_count": 40,
   "id": "8ca35a0b",
   "metadata": {},
   "outputs": [
    {
     "data": {
      "text/plain": [
       "['(001~020)초보자를_위한_파이썬_300제.ipynb',\n",
       " '(021~050)초보자를_위한_파이썬_300제.ipynb',\n",
       " '(051~080)초보자를_위한_파이썬_300제.ipynb',\n",
       " '.ipynb_checkpoints',\n",
       " '027004.png',\n",
       " '081_100_초보자를_위한_파이썬_300제.ipynb',\n",
       " '101_130_초보자를_위한_파이썬_300제.ipynb',\n",
       " '131_200_초보자를_위한_파이썬_300제.ipynb',\n",
       " '1631863503853_0.jpg',\n",
       " '201_240_초보자를_위한_파이썬_300제.ipynb',\n",
       " '241_290_초보자를_위한_파이썬_300제.ipynb',\n",
       " '291_300_초보자를_위한_파이썬_300제.ipynb',\n",
       " 'gugu.txt',\n",
       " 'json, html형태.jfif',\n",
       " 'myFile.txt',\n",
       " 'readme.txt',\n",
       " 'test.txt',\n",
       " '파이썬_1일차.ipynb',\n",
       " '파이썬_2일차.ipynb',\n",
       " '파이썬_3일차.ipynb',\n",
       " '파이썬_4일차.ipynb',\n",
       " '파이썬_5일차.ipynb',\n",
       " '화면캡처.png']"
      ]
     },
     "execution_count": 40,
     "metadata": {},
     "output_type": "execute_result"
    }
   ],
   "source": [
    "os.listdir( os.getcwd())"
   ]
  },
  {
   "cell_type": "code",
   "execution_count": 44,
   "id": "411685a7",
   "metadata": {},
   "outputs": [
    {
     "name": "stdout",
     "output_type": "stream",
     "text": [
      "2 x 1 = 2\n",
      "2 x 2 = 4\n",
      "2 x 3 = 6\n",
      "2 x 4 = 8\n",
      "2 x 5 = 10\n",
      "2 x 6 = 12\n",
      "2 x 7 = 14\n",
      "2 x 8 = 16\n",
      "2 x 9 = 18\n"
     ]
    }
   ],
   "source": [
    "!type gugu.txt"
   ]
  },
  {
   "cell_type": "markdown",
   "id": "e0af176c",
   "metadata": {},
   "source": [
    "### 파일 읽기(한줄씩, 여러줄), 파일쓰기(여러줄)"
   ]
  },
  {
   "cell_type": "markdown",
   "id": "e8208a17",
   "metadata": {},
   "source": [
    "#### **readline()**\n",
    "* 파일에서 문자열 한 줄씩 읽기 "
   ]
  },
  {
   "cell_type": "code",
   "execution_count": 47,
   "id": "06f14a53",
   "metadata": {},
   "outputs": [
    {
     "name": "stdout",
     "output_type": "stream",
     "text": [
      "2 x 1 = 2\n",
      "\n"
     ]
    }
   ],
   "source": [
    "f = open(\"gugu.txt\",\"r\")\n",
    "text=f.readline()\n",
    "f.close()\n",
    "print(text)"
   ]
  },
  {
   "cell_type": "code",
   "execution_count": 51,
   "id": "21ccab9b",
   "metadata": {},
   "outputs": [
    {
     "name": "stdout",
     "output_type": "stream",
     "text": [
      "['2', 'x', '1', '=', '2']\n",
      "['2', 'x', '2', '=', '4']\n",
      "['2', 'x', '3', '=', '6']\n",
      "['2', 'x', '4', '=', '8']\n",
      "['2', 'x', '5', '=', '10']\n",
      "['2', 'x', '6', '=', '12']\n",
      "['2', 'x', '7', '=', '14']\n",
      "['2', 'x', '8', '=', '16']\n",
      "['2', 'x', '9', '=', '18']\n",
      "\n"
     ]
    }
   ],
   "source": [
    "# 더알아보기 - 1\n",
    "# 리스트처럼 한 줄씩 읽어오면서, 읽은 줄이 하나씩 사라진다고 생각하면 됨.\n",
    "\n",
    "f = open(\"gugu.txt\",\"r\")    \n",
    "\n",
    "while True:\n",
    "    text=f.readline()\n",
    "    if not text: \n",
    "        break\n",
    "    print(text.split())\n",
    "        \n",
    "f.close()\n",
    "print(text)"
   ]
  },
  {
   "cell_type": "code",
   "execution_count": 2,
   "id": "7b5ea4d6",
   "metadata": {},
   "outputs": [],
   "source": [
    "# 더 알아보기 - 2\n",
    "#파일 객체는 이터레이터입니다. 따라서 변수 여러 개에 저장하는 언패킹(unpacking)도 가능합니다"
   ]
  },
  {
   "cell_type": "code",
   "execution_count": 52,
   "id": "8f50e972",
   "metadata": {},
   "outputs": [
    {
     "name": "stdout",
     "output_type": "stream",
     "text": [
      "2 x 1 = 2\n",
      "\n",
      "2 x 2 = 4\n",
      "\n",
      "2 x 3 = 6\n",
      "\n",
      "2 x 4 = 8\n",
      "\n",
      "2 x 5 = 10\n",
      "\n",
      "2 x 6 = 12\n",
      "\n",
      "2 x 7 = 14\n",
      "\n",
      "2 x 8 = 16\n",
      "\n",
      "2 x 9 = 18\n",
      "\n",
      "\n"
     ]
    }
   ],
   "source": [
    "# 예제 1\n",
    "\n",
    "f = open(\"gugu.txt\",\"r\")    \n",
    "for i in f:\n",
    "    print(i)        \n",
    "f.close()\n",
    "\n",
    "print(text)"
   ]
  },
  {
   "cell_type": "code",
   "execution_count": 53,
   "id": "507fd402",
   "metadata": {},
   "outputs": [
    {
     "name": "stdout",
     "output_type": "stream",
     "text": [
      "2 x 1 = 2\n",
      " 2 x 2 = 4\n",
      " 2 x 3 = 6\n",
      "\n"
     ]
    }
   ],
   "source": [
    "# 예제 2\n",
    "\n",
    "f = open(\"gugu.txt\",\"r\")    \n",
    "a,b,c,d,e,f,g,h,i = f \n",
    "\n",
    "print(a,b,c)"
   ]
  },
  {
   "cell_type": "markdown",
   "id": "d2bc3d0a",
   "metadata": {},
   "source": [
    "#### **readlines()**\n",
    "- 파일의 내용을 한 줄씩 읽어오면서 리스트로 가져오기."
   ]
  },
  {
   "cell_type": "code",
   "execution_count": 48,
   "id": "9f4ec031",
   "metadata": {},
   "outputs": [
    {
     "name": "stdout",
     "output_type": "stream",
     "text": [
      "['2 x 1 = 2\\n', '2 x 2 = 4\\n', '2 x 3 = 6\\n', '2 x 4 = 8\\n', '2 x 5 = 10\\n', '2 x 6 = 12\\n', '2 x 7 = 14\\n', '2 x 8 = 16\\n', '2 x 9 = 18\\n']\n"
     ]
    }
   ],
   "source": [
    "f = open(\"gugu.txt\",\"r\")\n",
    "text=f.readlines()\n",
    "f.close()\n",
    "print(text)"
   ]
  },
  {
   "cell_type": "markdown",
   "id": "ac54614e",
   "metadata": {},
   "source": [
    "#### **write lines(문자열리스트)** \n",
    "\n",
    "* 리스트에 들어있는 문자열 파일에 쓰기 \n",
    "- 파일객체.writelines(문자열리스트)"
   ]
  },
  {
   "cell_type": "code",
   "execution_count": 46,
   "id": "774d89ba",
   "metadata": {},
   "outputs": [
    {
     "name": "stdout",
     "output_type": "stream",
     "text": [
      "korea\n",
      "japan\n",
      "china\n"
     ]
    }
   ],
   "source": [
    "line = [\"korea\\n\",\"japan\\n\",\"china\\n\"]\n",
    "\n",
    "f_line = open(\"country.txt\",\"w\")\n",
    "f_line.writelines(line)\n",
    "f_line.close()\n",
    "\n",
    "!type country.txt"
   ]
  },
  {
   "cell_type": "markdown",
   "id": "a05b8ac5",
   "metadata": {},
   "source": [
    "##  자동으로 file 객체를 닫아주는 with \n",
    "    - with 문의 구조\n",
    "    \n",
    "    ```\n",
    "    with open(파일이름, 파일모드) as 파일객체:\n",
    "        코드\n",
    "        \n",
    "    ``` "
   ]
  },
  {
   "cell_type": "code",
   "execution_count": 54,
   "id": "1c431ace",
   "metadata": {},
   "outputs": [
    {
     "name": "stdout",
     "output_type": "stream",
     "text": [
      "오늘 점심시간에는곤약젤리를 맛있게!! 먹긔\n"
     ]
    }
   ],
   "source": [
    "with open(\"lunch.txt\",\"w\") as f:\n",
    "    f.write(\"오늘 점심시간에는\")\n",
    "    f.write(\"곤약젤리를 맛있게!! 먹긔\")\n",
    "    \n",
    "!type lunch.txt"
   ]
  },
  {
   "cell_type": "markdown",
   "id": "8e99fe72",
   "metadata": {},
   "source": [
    "* 파일에는 모두 문자열로 저장해준다. 🐱‍💻\n",
    "* 숫자든 문자든 어떤것이든!!!"
   ]
  },
  {
   "cell_type": "markdown",
   "id": "f42abc89",
   "metadata": {},
   "source": [
    "## 객체를 파일에 저장하는 pickle 모듈 🥒\n",
    "\n",
    "- 파이썬 '객체'를 파일에 저장하는 과정을 **피클링(pickling)**이라고 한다.\n",
    "- 파일에서 객체를 읽어오는 과정을 언피클링(unpickling)이라고 한다. \n",
    "\n",
    "- 피클은 바이너리 단위로!"
   ]
  },
  {
   "cell_type": "markdown",
   "id": "dc5acac7",
   "metadata": {},
   "source": [
    "### pickle.dump 파이썬 객체 파일에 저장하기\n",
    "    +  pickle 모듈의 dump 메서드를 사용한다\n"
   ]
  },
  {
   "cell_type": "code",
   "execution_count": 56,
   "id": "d3116646",
   "metadata": {},
   "outputs": [],
   "source": [
    "import pickle"
   ]
  },
  {
   "cell_type": "code",
   "execution_count": 57,
   "id": "feeac66f",
   "metadata": {},
   "outputs": [],
   "source": [
    "my_list = [\"a\",\"b\",\"c\",\"d\"]\n",
    "\n",
    "with open(\"alpha.txt\",\"wb\") as f:\n",
    "    pickle.dump(my_list,f)"
   ]
  },
  {
   "cell_type": "code",
   "execution_count": 61,
   "id": "64c5d2e6",
   "metadata": {},
   "outputs": [
    {
     "name": "stdout",
     "output_type": "stream",
     "text": [
      "�\u0004�\u0015\u0000\u0000\u0000\u0000\u0000\u0000\u0000]�(�\u0001a뵆\u0001b뵆\u0001c뵆\u0001d봢.\n"
     ]
    }
   ],
   "source": [
    "!type alpha.txt"
   ]
  },
  {
   "cell_type": "markdown",
   "id": "a67f8c45",
   "metadata": {},
   "source": [
    "### pickle.load 파이썬객체 읽기\n",
    "    - pickle 모듈의 load를 사용한다. "
   ]
  },
  {
   "cell_type": "code",
   "execution_count": 62,
   "id": "e9ddf9ec",
   "metadata": {},
   "outputs": [
    {
     "name": "stdout",
     "output_type": "stream",
     "text": [
      "['a', 'b', 'c', 'd']\n"
     ]
    }
   ],
   "source": [
    "with open(\"alpha.txt\",\"rb\") as f:\n",
    "    data = pickle.load(f)\n",
    "\n",
    "print(data)"
   ]
  },
  {
   "cell_type": "markdown",
   "id": "80b92516",
   "metadata": {},
   "source": [
    "**파일 모드 종류**\n",
    "\n",
    "r - 읽기모드 (디폴트)\n",
    "\n",
    "w - 쓰기모드, 파일이 있으면 모든 내용을 삭제\n",
    "\n",
    "x - 쓰기모드, 파일이 있으면 오류 발생\n",
    "\n",
    "a - 쓰기모드, 파일이 있으면 뒤에 내용을 추가\n",
    "\n",
    "+ - 읽기쓰기모드\n",
    "\n",
    "t - 텍스트 모드, 텍스트 문자 기록에 사용 (디폴트)\n",
    "\n",
    "b - 바이너리 모드, 바이트단위 데이터 기록에 사용\n",
    "\n",
    "![파일모드](027004.png)"
   ]
  },
  {
   "cell_type": "markdown",
   "id": "a52119e7",
   "metadata": {},
   "source": [
    "## 연습문제 \n",
    "\n",
    "1. 단어를 10개 입력받아서 words.txt 파일에 저장하세요. \n",
    "\n",
    "2. 위에서 저장한 words.txt 파일에서 단어가 5자 이하인 단어의 개수를 출력하는 코드를 만들어 보세요. \n",
    "\n",
    "**가능하다면, 두 문제 모두 함수로 정의해 주세요**\n"
   ]
  },
  {
   "cell_type": "code",
   "execution_count": 80,
   "id": "0605eee9",
   "metadata": {},
   "outputs": [
    {
     "name": "stdout",
     "output_type": "stream",
     "text": [
      "coffee\n",
      "cola\n",
      "icecream\n",
      "water\n",
      "milk\n"
     ]
    }
   ],
   "source": [
    "# 문제 1. 단어를 10개 입력받아서 words.txt 파일에 저장하세요\n",
    "    \n",
    "with open( \"words.txt\" , \"w\") as f:\n",
    "    menu=[]\n",
    "    for i in range(5): \n",
    "        a = input()\n",
    "        f.write(a+\"\\n\")\n",
    "        menu.append(a)"
   ]
  },
  {
   "cell_type": "code",
   "execution_count": 81,
   "id": "5bc06d4e",
   "metadata": {},
   "outputs": [
    {
     "name": "stdout",
     "output_type": "stream",
     "text": [
      "coffee\n",
      "cola\n",
      "icecream\n",
      "water\n",
      "milk\n"
     ]
    }
   ],
   "source": [
    "!type words.txt"
   ]
  },
  {
   "cell_type": "code",
   "execution_count": 86,
   "id": "da658142",
   "metadata": {},
   "outputs": [
    {
     "name": "stdout",
     "output_type": "stream",
     "text": [
      "2\n"
     ]
    }
   ],
   "source": [
    "# 문제 2 위에서 저장한 words.txt 파일에서 단어가 5자 이하인 단어의 개수를 출력하는 코드를 만들어 보세요.\n",
    "\n",
    "with open(\"words.txt\",\"r\") as f:\n",
    "    \n",
    "    cnt=0\n",
    "    for i in f.readlines():\n",
    "        if len(i)<=5:\n",
    "            cnt+=1\n",
    "    print(cnt)"
   ]
  },
  {
   "cell_type": "markdown",
   "id": "22cfbe69",
   "metadata": {},
   "source": [
    "# **모듈(Module)과 패키지(Package)**\n",
    "\n",
    " 1. module에 대해 이해한다. \n",
    " 2. module import 할 수 있다.\n",
    " 3. 패키지를 이해하고 활용 할 수 있다. "
   ]
  },
  {
   "cell_type": "markdown",
   "id": "cca369a0",
   "metadata": {},
   "source": [
    "## **module**\n",
    "- 모듈은 함수나 변수 또는 클래스를 모아 놓은 파일이다. \n",
    "- 모듈은 다른 파이썬 파일에서 불러와서 사용할 수 있게 만든 파이썬 파일이다. \n",
    "- 사용자가 직접 만들어서 사용 가능하다. \n",
    "- 다른 사용자가 만들어 놓은 모듈을 불러서 사용하는 것도 가능하다. \n",
    "- 아래와 같은 모듈들이 존재 한다. \n",
    " + requests - HTTP 요청/응답 모듈\n",
    " + numpy - 수치해석 모듈 \n",
    " + pandas - 데이터 분석 모듈"
   ]
  },
  {
   "cell_type": "markdown",
   "id": "ca063cd2",
   "metadata": {},
   "source": [
    "### **모듈 생성**\n",
    "\n",
    "- 모듈을 생성하기 위해서는 확장자가 .py 인 파일을 만들어야 한다. \n",
    "\n",
    "- mymodule.py  파일을 생성하고, 아래처럼 함수를 두개 추가한다. \n",
    "\n",
    "```\n",
    "def add(a, b):\n",
    "    return a + b\n",
    "\n",
    "def minus(a, b): \n",
    "    return a-b\n",
    "```\n",
    "\n"
   ]
  },
  {
   "cell_type": "code",
   "execution_count": 130,
   "id": "910db9aa",
   "metadata": {},
   "outputs": [],
   "source": [
    "#파일생성\n",
    "\n",
    "os.mkdir('c://pblmodule') "
   ]
  },
  {
   "cell_type": "code",
   "execution_count": 150,
   "id": "686b8f85",
   "metadata": {},
   "outputs": [],
   "source": [
    "os.chdir(\"c://pblmodule\")"
   ]
  },
  {
   "cell_type": "code",
   "execution_count": 151,
   "id": "bdc5570f",
   "metadata": {},
   "outputs": [
    {
     "data": {
      "text/plain": [
       "'c:\\\\pblmodule'"
      ]
     },
     "execution_count": 151,
     "metadata": {},
     "output_type": "execute_result"
    }
   ],
   "source": [
    "#현재 디렉토리 확인\n",
    "\n",
    "os.getcwd() "
   ]
  },
  {
   "cell_type": "code",
   "execution_count": 155,
   "id": "bfdd9913",
   "metadata": {},
   "outputs": [
    {
     "name": "stdout",
     "output_type": "stream",
     "text": [
      "Writing my_module.py\n"
     ]
    }
   ],
   "source": [
    "%%writefile my_module.py # 파일생성하기\n",
    "\n",
    "def add(a, b):\n",
    "    return a + b\n",
    "\n",
    "def minus(a, b): \n",
    "    return a - b\n",
    "\n",
    "def add_sona(a,b):\n",
    "    return a + b +100"
   ]
  },
  {
   "cell_type": "markdown",
   "id": "714268c8",
   "metadata": {},
   "source": [
    "### **모듈 임포트**\n",
    "\n",
    "\n",
    "- 위에서 생성한 모듈 mymodule.py를 import하려면 아래와 같이 한다. \n",
    "\n",
    "```\n",
    "import mymodule\n",
    "\n",
    "mymodule.add(2,3)\n",
    "mymodule.minus(3,2) \n",
    "\n",
    "```\n",
    "\n",
    "> 현재 주피터노트북이 있는 디렉토리에 mymodule.py 파일을 생성한다."
   ]
  },
  {
   "cell_type": "markdown",
   "id": "98117a3e",
   "metadata": {},
   "source": [
    "#### 사용법\n",
    "\n",
    "- 저장된 모듈을 사용하기 위해서는 import라는 예약어를 사용한다."
   ]
  },
  {
   "cell_type": "code",
   "execution_count": 156,
   "id": "9c44b3f6",
   "metadata": {},
   "outputs": [
    {
     "data": {
      "text/plain": [
       "3"
      ]
     },
     "execution_count": 156,
     "metadata": {},
     "output_type": "execute_result"
    }
   ],
   "source": [
    "# 모듈 사용해보기 - 방법 1\n",
    "\n",
    "import mymodule \n",
    "\n",
    "my_module.add(1,2)"
   ]
  },
  {
   "cell_type": "code",
   "execution_count": 157,
   "id": "01948a77",
   "metadata": {},
   "outputs": [
    {
     "data": {
      "text/plain": [
       "3"
      ]
     },
     "execution_count": 157,
     "metadata": {},
     "output_type": "execute_result"
    }
   ],
   "source": [
    "# 모듈 사용해보기 - 방법 2\n",
    "\n",
    "from mymodule import add\n",
    "\n",
    "add(1,2)"
   ]
  },
  {
   "cell_type": "code",
   "execution_count": 158,
   "id": "db526531",
   "metadata": {},
   "outputs": [
    {
     "data": {
      "text/plain": [
       "3"
      ]
     },
     "execution_count": 158,
     "metadata": {},
     "output_type": "execute_result"
    }
   ],
   "source": [
    "# 모듈 사용해보기 - 방법 3\n",
    "\n",
    "import mymodule  as my\n",
    "\n",
    "my.add(1,2)"
   ]
  },
  {
   "cell_type": "code",
   "execution_count": 159,
   "id": "fe2a658a",
   "metadata": {},
   "outputs": [],
   "source": [
    "os.chdir(\"C://sona/KDT/1wk\")"
   ]
  },
  {
   "cell_type": "code",
   "execution_count": 160,
   "id": "faeaa572",
   "metadata": {},
   "outputs": [
    {
     "data": {
      "text/plain": [
       "'C:\\\\sona\\\\KDT\\\\1wk'"
      ]
     },
     "execution_count": 160,
     "metadata": {},
     "output_type": "execute_result"
    }
   ],
   "source": [
    "os.getcwd()"
   ]
  },
  {
   "cell_type": "markdown",
   "id": "eeb2a662",
   "metadata": {},
   "source": [
    "#### 다른 디렉토리에 있는 모듈 사용하기 \n",
    "\n",
    "- **sys.path.append(모듈이 저장된 디렉토리)** 사용하기 "
   ]
  },
  {
   "cell_type": "code",
   "execution_count": 166,
   "id": "1084f4ae",
   "metadata": {},
   "outputs": [
    {
     "data": {
      "text/plain": [
       "['C:\\\\sona\\\\KDT\\\\1wk',\n",
       " 'C:\\\\Users\\\\Admin\\\\anaconda3\\\\python39.zip',\n",
       " 'C:\\\\Users\\\\Admin\\\\anaconda3\\\\DLLs',\n",
       " 'C:\\\\Users\\\\Admin\\\\anaconda3\\\\lib',\n",
       " 'C:\\\\Users\\\\Admin\\\\anaconda3',\n",
       " '',\n",
       " 'C:\\\\Users\\\\Admin\\\\anaconda3\\\\lib\\\\site-packages',\n",
       " 'C:\\\\Users\\\\Admin\\\\anaconda3\\\\lib\\\\site-packages\\\\locket-0.2.1-py3.9.egg',\n",
       " 'C:\\\\Users\\\\Admin\\\\anaconda3\\\\lib\\\\site-packages\\\\win32',\n",
       " 'C:\\\\Users\\\\Admin\\\\anaconda3\\\\lib\\\\site-packages\\\\win32\\\\lib',\n",
       " 'C:\\\\Users\\\\Admin\\\\anaconda3\\\\lib\\\\site-packages\\\\Pythonwin',\n",
       " 'C:\\\\Users\\\\Admin\\\\anaconda3\\\\lib\\\\site-packages\\\\IPython\\\\extensions',\n",
       " 'C:\\\\Users\\\\Admin\\\\.ipython']"
      ]
     },
     "execution_count": 166,
     "metadata": {},
     "output_type": "execute_result"
    }
   ],
   "source": [
    "import sys\n",
    "sys.path\n",
    "\n",
    "#리스트 형식으로 나온다."
   ]
  },
  {
   "cell_type": "code",
   "execution_count": 167,
   "id": "6a9406fe",
   "metadata": {},
   "outputs": [
    {
     "data": {
      "text/plain": [
       "['C:\\\\sona\\\\KDT\\\\1wk',\n",
       " 'C:\\\\Users\\\\Admin\\\\anaconda3\\\\python39.zip',\n",
       " 'C:\\\\Users\\\\Admin\\\\anaconda3\\\\DLLs',\n",
       " 'C:\\\\Users\\\\Admin\\\\anaconda3\\\\lib',\n",
       " 'C:\\\\Users\\\\Admin\\\\anaconda3',\n",
       " '',\n",
       " 'C:\\\\Users\\\\Admin\\\\anaconda3\\\\lib\\\\site-packages',\n",
       " 'C:\\\\Users\\\\Admin\\\\anaconda3\\\\lib\\\\site-packages\\\\locket-0.2.1-py3.9.egg',\n",
       " 'C:\\\\Users\\\\Admin\\\\anaconda3\\\\lib\\\\site-packages\\\\win32',\n",
       " 'C:\\\\Users\\\\Admin\\\\anaconda3\\\\lib\\\\site-packages\\\\win32\\\\lib',\n",
       " 'C:\\\\Users\\\\Admin\\\\anaconda3\\\\lib\\\\site-packages\\\\Pythonwin',\n",
       " 'C:\\\\Users\\\\Admin\\\\anaconda3\\\\lib\\\\site-packages\\\\IPython\\\\extensions',\n",
       " 'C:\\\\Users\\\\Admin\\\\.ipython',\n",
       " 'C:\\\\pblmodule']"
      ]
     },
     "execution_count": 167,
     "metadata": {},
     "output_type": "execute_result"
    }
   ],
   "source": [
    "# 모듈 생성한 걸 들어가 있는 경로: C:\\pblmodule\n",
    "\n",
    "# path 추가하기\n",
    "sys.path.append(\"C:\\\\pblmodule\")\n",
    "sys.path"
   ]
  },
  {
   "cell_type": "code",
   "execution_count": 168,
   "id": "43436b03",
   "metadata": {},
   "outputs": [],
   "source": [
    "# 반대로 삭제하는 방법\n",
    "# sys.path.remove(sys.path[-1])\n",
    "# sys.path"
   ]
  },
  {
   "cell_type": "markdown",
   "id": "3658da49",
   "metadata": {
    "collapsed": true
   },
   "source": [
    "#### 해당 모듈 전체 import \n",
    " - import를 사용하여 해당 모듈 전체를 import"
   ]
  },
  {
   "cell_type": "code",
   "execution_count": 169,
   "id": "ccd1248f",
   "metadata": {},
   "outputs": [
    {
     "data": {
      "text/plain": [
       "5"
      ]
     },
     "execution_count": 169,
     "metadata": {},
     "output_type": "execute_result"
    }
   ],
   "source": [
    "import mymodule as m\n",
    "\n",
    "m.add(2,3)"
   ]
  },
  {
   "cell_type": "markdown",
   "id": "b284d4a5",
   "metadata": {},
   "source": [
    "#### from import \n",
    " - 해당 모듈에서 특정한 타입만 import"
   ]
  },
  {
   "cell_type": "code",
   "execution_count": 170,
   "id": "fd51a19b",
   "metadata": {},
   "outputs": [
    {
     "data": {
      "text/plain": [
       "7"
      ]
     },
     "execution_count": 170,
     "metadata": {},
     "output_type": "execute_result"
    }
   ],
   "source": [
    "from mymodule import add\n",
    "\n",
    "add(3,4)"
   ]
  },
  {
   "cell_type": "markdown",
   "id": "ee1383e5",
   "metadata": {},
   "source": [
    "#### \\* 임포트\n",
    " - 해당 모듈내에 정의된 모든 것을 import\n",
    " - 일반적으로 사용이 권장되지 않음"
   ]
  },
  {
   "cell_type": "markdown",
   "id": "cc89472d",
   "metadata": {},
   "source": [
    "#### as \n",
    " - 모듈 import 시, alias(별명) 지정가능\n",
    " "
   ]
  },
  {
   "cell_type": "code",
   "execution_count": 177,
   "id": "baa0e62e",
   "metadata": {},
   "outputs": [
    {
     "data": {
      "text/plain": [
       "'C:\\\\sona\\\\KDT\\\\1wk'"
      ]
     },
     "execution_count": 177,
     "metadata": {},
     "output_type": "execute_result"
    }
   ],
   "source": [
    "os.getcwd()"
   ]
  },
  {
   "cell_type": "code",
   "execution_count": 181,
   "id": "385bbdc1",
   "metadata": {},
   "outputs": [
    {
     "data": {
      "text/plain": [
       "107"
      ]
     },
     "execution_count": 181,
     "metadata": {},
     "output_type": "execute_result"
    }
   ],
   "source": [
    "import mymodule as myy\n",
    "\n",
    "myy.add_sona(3,4)"
   ]
  },
  {
   "attachments": {
    "image.png": {
     "image/png": "[encoded data removed]"
    }
   },
   "cell_type": "markdown",
   "id": "b030db89",
   "metadata": {},
   "source": [
    "## **패키지**\n",
    "\n",
    "- 모듈을 디렉토리 형식으로 구조화 한 것이다. \n",
    "- 모듈들의 관리를 쉽게 하기위해 사용한다. \n",
    "- 모듈들을 넣어둔 디렉토리명이 패키지 명이 된다. \n",
    "- 패키지내 각 디렉토리에 __init__.py 파일을 생성한다. \n",
    "- __init__.py 파일은 비어있기도하고, 패키지내에 포함된 모듈들의 정보를 제공하기도 한다. \n",
    "\n",
    "\n",
    "![image.png](attachment:image.png)"
   ]
  },
  {
   "cell_type": "code",
   "execution_count": 172,
   "id": "a21a86a9",
   "metadata": {},
   "outputs": [
    {
     "data": {
      "text/plain": [
       "'\\n<!doctype html>                          <html lang=\"ko\" data-dark=\"false\"> <head> <meta charset=\"utf-8\"> <title>NAVER</title> <meta http-equiv=\"X-UA-Compatible\" content=\"IE=edge\"> <meta name=\"viewport\" content=\"width=1190\"> <meta name=\"apple-mobile-web-app-title\" content=\"NAVER\"/> <meta name=\"robots\" content=\"index,nofollow\"/> <meta name=\"description\" content=\"네이버 메인에서 다양한 정보와 유용한 컨텐츠를 만나 보세요\"/> <meta property=\"og:title\" content=\"네이버\"> <meta property=\"og:url\" content=\"https://www.naver.com/\"> <meta property=\"og:image\" content=\"https://s.pstatic.net/static/www/mobile/edit/2016/0705/mobile_212852414260.png\"> <meta property=\"og:description\" content=\"네이버 메인에서 다양한 정보와 유용한 컨텐츠를 만나 보세요\"/> <meta name=\"twitter:card\" content=\"summary\"> <meta name=\"twitter:title\" content=\"\"> <meta name=\"twitter:url\" content=\"https://www.naver.com/\"> <meta name=\"twitter:image\" content=\"https://s.pstatic.net/static/www/mobile/edit/2016/0705/mobile_212852414260.png\"> <meta name=\"twitter:description\" content=\"네이버 메인에서 다양한 정보와 유용한 컨텐츠를 만나 보세요\"/>  <link rel=\"stylesheet\" href=\"https://pm.pstatic.net/dist/css/nmain.20220106.css\"> <link rel=\"stylesheet\" href=\"https://ssl.pstatic.net/sstatic/search/pc/css/sp_autocomplete_210318.css\"> <link rel=\"shortcut icon\" type=\"image/x-icon\" href=\"/favicon.ico?1\"/>  <link rel=\"apple-touch-icon\" sizes=\"114x114\" href=\"https://s.pstatic.net/static/www/u/2014/0328/mma_204243574.png\"/> <link rel=\"apple-touch-icon\" href=\"https://s.pstatic.net/static/www/u/2014/0328/mma_20432863.png\"/> <script>window.nmain=window.nmain||{},window.nmain.supportFlicking=!1;var nsc=\"navertop.v4\",ua=navigator.userAgent,useIeJSFlag=\"1\";window.nmain.isIE=\"0\"===useIeJSFlag,document.getElementsByTagName(\"html\")[0].setAttribute(\"data-useragent\",ua),window.nmain.isIE&&(Object.create=function(n){function e(){}return e.prototype=n,new e})</script> <script>var darkmode= false;window.naver_corp_da=window.naver_corp_da||{main:{}},window.naver_corp_da.main=window.naver_corp_da.main||{},window.naver_corp_da.main.darkmode=darkmode,window.gladsdk=window.gladsdk||{cmd:[]},window.gladsdk.cmd.push((function(){window.gladsdk.setHostMeta(\"theme\",darkmode?\"dark\":\"light\")})),window.ndpsdk=window.ndpsdk||{cmd:[],polyfill:{cmd:[]}},window.ndpsdk.cmd.push((function(){window.ndpsdk.setHostMeta(\"theme\",darkmode?\"dark\":\"light\")}))</script>  <script async src=\"https://ssl.pstatic.net/tveta/libs/glad/prod/gfp-core.js\"></script> <script async src=\"https://ssl.pstatic.net/tveta/libs/ndpsdk/prod/ndp-loader.js\"></script>  <script> window.nmain.gv = {  isLogin: false,\\nuseId: null,   daInfo: {\"ANIMAL\":{\"menu\":\"ANIMAL\",\"childMenu\":\"\",\"adType\":\"singleDom\",\"multiDomAdUrl\":\"\",\"multiDomUnit\":\"\",\"infoList\":[{\"adposId\":\"1000161\",\"singleDomAdUrl\":\"https://siape.veta.naver.com/fxshow\",\"param\":{\"da_dom_id\":\"p_main_animal_1\",\"tb\":\"ANIMAL_1\",\"unit\":\"SU10567\",\"calp\":\"-\"},\"type\":{\"position\":\"abs\",\"positionIndex\":4,\"subject\":\"contents\"},\"dom\":null},{\"adposId\":\"1000162\",\"singleDomAdUrl\":\"https://siape.veta.naver.com/fxshow\",\"param\":{\"da_dom_id\":\"p_main_animal_2\",\"tb\":\"ANIMAL_1\",\"unit\":\"SU10568\",\"calp\":\"-\"},\"type\":{\"position\":\"abs\",\"positionIndex\":8,\"subject\":\"contents\"},\"dom\":null}]},\"BEAUTY\":{\"menu\":\"BEAUTY\",\"childMenu\":\"\",\"adType\":\"singleDom\",\"multiDomAdUrl\":\"\",\"multiDomUnit\":\"\",\"infoList\":[{\"adposId\":\"1000163\",\"singleDomAdUrl\":\"https://siape.veta.naver.com/fxshow\",\"param\":{\"da_dom_id\":\"p_main_beauty_1\",\"tb\":\"BEAUTY_1\",\"unit\":\"SU10595\",\"calp\":\"-\"},\"type\":{\"position\":\"abs\",\"positionIndex\":4,\"subject\":\"contents\"},\"dom\":null},{\"adposId\":\"1000164\",\"singleDomAdUrl\":\"https://siape.veta.naver.com/fxshow\",\"param\":{\"da_dom_id\":\"p_main_beauty_2\",\"tb\":\"BEAUTY_1\",\"unit\":\"SU10596\",\"calp\":\"-\"},\"type\":{\"position\":\"abs\",\"positionIndex\":8,\"subject\":\"contents\"},\"dom\":null}]},\"BUSINESS\":{\"menu\":\"BUSINESS\",\"childMenu\":\"\",\"adType\":\"singleDom\",\"multiDomAdUrl\":\"\",\"multiDomUnit\":\"\",\"infoList\":[{\"adposId\":\"1000165\",\"singleDomAdUrl\":\"https://siape.veta.naver.com/fxshow\",\"param\":{\"da_dom_id\":\"p_main_business_1\",\"tb\":\"BUSINESS_1\",\"unit\":\"SU10577\",\"calp\":\"-\"},\"type\":{\"position\":\"abs\",\"positionIndex\":4,\"subject\":\"contents\"},\"dom\":null},{\"adposId\":\"1000166\",\"singleDomAdUrl\":\"https://siape.veta.naver.com/fxshow\",\"param\":{\"da_dom_id\":\"p_main_business_2\",\"tb\":\"BUSINESS_1\",\"unit\":\"SU10578\",\"calp\":\"-\"},\"type\":{\"position\":\"abs\",\"positionIndex\":8,\"subject\":\"contents\"},\"dom\":null}]},\"CARGAME\":{\"menu\":\"CARGAME\",\"childMenu\":\"\",\"adType\":\"singleDom\",\"multiDomAdUrl\":\"\",\"multiDomUnit\":\"\",\"infoList\":[{\"adposId\":\"1000167\",\"singleDomAdUrl\":\"https://siape.veta.naver.com/fxshow\",\"param\":{\"da_dom_id\":\"p_main_cargame_1\",\"tb\":\"CARGAME_1\",\"unit\":\"SU10587\",\"calp\":\"-\"},\"type\":{\"position\":\"abs\",\"positionIndex\":4,\"subject\":\"contents\"},\"dom\":null},{\"adposId\":\"1000168\",\"singleDomAdUrl\":\"https://siape.veta.naver.com/fxshow\",\"param\":{\"da_dom_id\":\"p_main_cargame_2\",\"tb\":\"CARGAME_1\",\"unit\":\"SU10588\",\"calp\":\"-\"},\"type\":{\"position\":\"abs\",\"positionIndex\":8,\"subject\":\"contents\"},\"dom\":null}]},\"CHINA\":{\"menu\":\"CHINA\",\"childMenu\":\"\",\"adType\":\"singleDom\",\"multiDomAdUrl\":\"\",\"multiDomUnit\":\"\",\"infoList\":[{\"adposId\":\"1000169\",\"singleDomAdUrl\":\"https://siape.veta.naver.com/fxshow\",\"param\":{\"da_dom_id\":\"p_main_china_1\",\"tb\":\"CHINA_1\",\"unit\":\"SU10591\",\"calp\":\"-\"},\"type\":{\"position\":\"abs\",\"positionIndex\":4,\"subject\":\"contents\"},\"dom\":null},{\"adposId\":\"1000170\",\"singleDomAdUrl\":\"https://siape.veta.naver.com/fxshow\",\"param\":{\"da_dom_id\":\"p_main_china_2\",\"tb\":\"CHINA_1\",\"unit\":\"SU10592\",\"calp\":\"-\"},\"type\":{\"position\":\"abs\",\"positionIndex\":8,\"subject\":\"contents\"},\"dom\":null}]},\"DESIGN\":{\"menu\":\"DESIGN\",\"childMenu\":\"\",\"adType\":\"singleDom\",\"multiDomAdUrl\":\"\",\"multiDomUnit\":\"\",\"infoList\":[{\"adposId\":\"1000171\",\"singleDomAdUrl\":\"https://siape.veta.naver.com/fxshow\",\"param\":{\"da_dom_id\":\"p_main_design_1\",\"tb\":\"DESIGN_1\",\"unit\":\"SU10569\",\"calp\":\"-\"},\"type\":{\"position\":\"abs\",\"positionIndex\":4,\"subject\":\"contents\"},\"dom\":null},{\"adposId\":\"1000172\",\"singleDomAdUrl\":\"https://siape.veta.naver.com/fxshow\",\"param\":{\"da_dom_id\":\"p_main_design_2\",\"tb\":\"DESIGN_1\",\"unit\":\"SU10570\",\"calp\":\"-\"},\"type\":{\"position\":\"abs\",\"positionIndex\":8,\"subject\":\"contents\"},\"dom\":null}]},\"FARM\":{\"menu\":\"FARM\",\"childMenu\":\"\",\"adType\":\"singleDom\",\"multiDomAdUrl\":\"\",\"multiDomUnit\":\"\",\"infoList\":[{\"adposId\":\"1000173\",\"singleDomAdUrl\":\"https://siape.veta.naver.com/fxshow\",\"param\":{\"da_dom_id\":\"p_main_farm_1\",\"tb\":\"FARM_1\",\"unit\":\"SU10561\",\"calp\":\"-\"},\"type\":{\"position\":\"abs\",\"positionIndex\":4,\"subject\":\"contents\"},\"dom\":null},{\"adposId\":\"1000174\",\"singleDomAdUrl\":\"https://siape.veta.naver.com/fxshow\",\"param\":{\"da_dom_id\":\"p_main_farm_2\",\"tb\":\"FARM_1\",\"unit\":\"SU10562\",\"calp\":\"-\"},\"type\":{\"position\":\"abs\",\"positionIndex\":8,\"subject\":\"contents\"},\"dom\":null}]},\"FINANCE\":{\"menu\":\"FINANCE\",\"childMenu\":\"\",\"adType\":\"singleDom\",\"multiDomAdUrl\":\"\",\"multiDomUnit\":\"\",\"infoList\":[{\"adposId\":\"1000175\",\"singleDomAdUrl\":\"https://siape.veta.naver.com/fxshow\",\"param\":{\"da_dom_id\":\"p_main_finance_1\",\"tb\":\"FINANCE_1\",\"unit\":\"SU10563\",\"calp\":\"-\"},\"type\":{\"position\":\"abs\",\"positionIndex\":4,\"subject\":\"contents\"},\"dom\":null},{\"adposId\":\"1000176\",\"singleDomAdUrl\":\"https://siape.veta.naver.com/fxshow\",\"param\":{\"da_dom_id\":\"p_main_finance_2\",\"tb\":\"FINANCE_1\",\"unit\":\"SU10564\",\"calp\":\"-\"},\"type\":{\"position\":\"abs\",\"positionIndex\":8,\"subject\":\"contents\"},\"dom\":null}]},\"ITTECH\":{\"menu\":\"ITTECH\",\"childMenu\":\"\",\"adType\":\"singleDom\",\"multiDomAdUrl\":\"\",\"multiDomUnit\":\"\",\"infoList\":[{\"adposId\":\"1000177\",\"singleDomAdUrl\":\"https://siape.veta.naver.com/fxshow\",\"param\":{\"da_dom_id\":\"p_main_ittech_1\",\"tb\":\"ITTECH_1\",\"unit\":\"SU10593\",\"calp\":\"-\"},\"type\":{\"position\":\"abs\",\"positionIndex\":4,\"subject\":\"contents\"},\"dom\":null},{\"adposId\":\"1000178\",\"singleDomAdUrl\":\"https://siape.veta.naver.com/fxshow\",\"param\":{\"da_dom_id\":\"p_main_ittech_2\",\"tb\":\"ITTECH_1\",\"unit\":\"SU10594\",\"calp\":\"-\"},\"type\":{\"position\":\"abs\",\"positionIndex\":8,\"subject\":\"contents\"},\"dom\":null}]},\"JOB\":{\"menu\":\"JOB\",\"childMenu\":\"\",\"adType\":\"singleDom\",\"multiDomAdUrl\":\"\",\"multiDomUnit\":\"\",\"infoList\":[{\"adposId\":\"1000179\",\"singleDomAdUrl\":\"https://siape.veta.naver.com/fxshow\",\"param\":{\"da_dom_id\":\"p_main_job_1\",\"tb\":\"JOB_1\",\"unit\":\"SU10589\",\"calp\":\"-\"},\"type\":{\"position\":\"abs\",\"positionIndex\":4,\"subject\":\"contents\"},\"dom\":null},{\"adposId\":\"1000180\",\"singleDomAdUrl\":\"https://siape.veta.naver.com/fxshow\",\"param\":{\"da_dom_id\":\"p_main_job_2\",\"tb\":\"JOB_1\",\"unit\":\"SU10590\",\"calp\":\"-\"},\"type\":{\"position\":\"abs\",\"positionIndex\":8,\"subject\":\"contents\"},\"dom\":null}]},\"LAW\":{\"menu\":\"LAW\",\"childMenu\":\"\",\"adType\":\"singleDom\",\"multiDomAdUrl\":\"\",\"multiDomUnit\":\"\",\"infoList\":[{\"adposId\":\"1000181\",\"singleDomAdUrl\":\"https://siape.veta.naver.com/fxshow\",\"param\":{\"da_dom_id\":\"p_main_law_1\",\"tb\":\"LAW_1\",\"unit\":\"SU10573\",\"calp\":\"-\"},\"type\":{\"position\":\"abs\",\"positionIndex\":4,\"subject\":\"contents\"},\"dom\":null},{\"adposId\":\"1000182\",\"singleDomAdUrl\":\"https://siape.veta.naver.com/fxshow\",\"param\":{\"da_dom_id\":\"p_main_law_2\",\"tb\":\"LAW_1\",\"unit\":\"SU10574\",\"calp\":\"-\"},\"type\":{\"position\":\"abs\",\"positionIndex\":8,\"subject\":\"contents\"},\"dom\":null}]},\"LIVING\":{\"menu\":\"LIVING\",\"childMenu\":\"\",\"adType\":\"singleDom\",\"multiDomAdUrl\":\"\",\"multiDomUnit\":\"\",\"infoList\":[{\"adposId\":\"1000183\",\"singleDomAdUrl\":\"https://siape.veta.naver.com/fxshow\",\"param\":{\"da_dom_id\":\"p_main_living_1\",\"tb\":\"LIVING_1\",\"unit\":\"SU10597\",\"calp\":\"-\"},\"type\":{\"position\":\"abs\",\"positionIndex\":4,\"subject\":\"contents\"},\"dom\":null},{\"adposId\":\"1000184\",\"singleDomAdUrl\":\"https://siape.veta.naver.com/fxshow\",\"param\":{\"da_dom_id\":\"p_main_living_2\",\"tb\":\"LIVING_1\",\"unit\":\"SU10606\",\"calp\":\"-\"},\"type\":{\"position\":\"abs\",\"positionIndex\":8,\"subject\":\"contents\"},\"dom\":null}]},\"LIVINGHOME\":{\"menu\":\"LIVINGHOME\",\"childMenu\":\"\",\"adType\":\"singleDom\",\"multiDomAdUrl\":\"\",\"multiDomUnit\":\"\",\"infoList\":[{\"adposId\":\"1000185\",\"singleDomAdUrl\":\"https://siape.veta.naver.com/fxshow\",\"param\":{\"da_dom_id\":\"p_main_livinghome_1\",\"tb\":\"LIVINGHOME_1\",\"unit\":\"SU10571\",\"calp\":\"-\"},\"type\":{\"position\":\"abs\",\"positionIndex\":4,\"subject\":\"contents\"},\"dom\":null},{\"adposId\":\"1000186\",\"singleDomAdUrl\":\"https://siape.veta.naver.com/fxshow\",\"param\":{\"da_dom_id\":\"p_main_livinghome_2\",\"tb\":\"LIVINGHOME_1\",\"unit\":\"SU10572\",\"calp\":\"-\"},\"type\":{\"position\":\"abs\",\"positionIndex\":8,\"subject\":\"contents\"},\"dom\":null}]},\"MOMKIDS\":{\"menu\":\"MOMKIDS\",\"childMenu\":\"\",\"adType\":\"singleDom\",\"multiDomAdUrl\":\"\",\"multiDomUnit\":\"\",\"infoList\":[{\"adposId\":\"1000187\",\"singleDomAdUrl\":\"https://siape.veta.naver.com/fxshow\",\"param\":{\"da_dom_id\":\"p_main_momkids_1\",\"tb\":\"MOMKIDS_1\",\"unit\":\"SU10575\",\"calp\":\"-\"},\"type\":{\"position\":\"abs\",\"positionIndex\":4,\"subject\":\"contents\"},\"dom\":null},{\"adposId\":\"1000188\",\"singleDomAdUrl\":\"https://siape.veta.naver.com/fxshow\",\"param\":{\"da_dom_id\":\"p_main_momkids_2\",\"tb\":\"MOMKIDS_1\",\"unit\":\"SU10576\",\"calp\":\"-\"},\"type\":{\"position\":\"abs\",\"positionIndex\":8,\"subject\":\"contents\"},\"dom\":null}]},\"MOVIE\":{\"menu\":\"MOVIE\",\"childMenu\":\"\",\"adType\":\"singleDom\",\"multiDomAdUrl\":\"\",\"multiDomUnit\":\"\",\"infoList\":[{\"adposId\":\"1000189\",\"singleDomAdUrl\":\"https://siape.veta.naver.com/fxshow\",\"param\":{\"da_dom_id\":\"p_main_movie_1\",\"tb\":\"MOVIE_1\",\"unit\":\"SU10585\",\"calp\":\"-\"},\"type\":{\"position\":\"abs\",\"positionIndex\":4,\"subject\":\"contents\"},\"dom\":null},{\"adposId\":\"1000190\",\"singleDomAdUrl\":\"https://siape.veta.naver.com/fxshow\",\"param\":{\"da_dom_id\":\"p_main_movie_2\",\"tb\":\"MOVIE_1\",\"unit\":\"SU10586\",\"calp\":\"-\"},\"type\":{\"position\":\"abs\",\"positionIndex\":8,\"subject\":\"contents\"},\"dom\":null}]},\"SCHOOL\":{\"menu\":\"SCHOOL\",\"childMenu\":\"\",\"adType\":\"singleDom\",\"multiDomAdUrl\":\"\",\"multiDomUnit\":\"\",\"infoList\":[{\"adposId\":\"1000191\",\"singleDomAdUrl\":\"https://siape.veta.naver.com/fxshow\",\"param\":{\"da_dom_id\":\"p_main_school_1\",\"tb\":\"SCHOOL_1\",\"unit\":\"SU10579\",\"calp\":\"-\"},\"type\":{\"position\":\"abs\",\"positionIndex\":4,\"subject\":\"contents\"},\"dom\":null},{\"adposId\":\"1000192\",\"singleDomAdUrl\":\"https://siape.veta.naver.com/fxshow\",\"param\":{\"da_dom_id\":\"p_main_school_2\",\"tb\":\"SCHOOL_1\",\"unit\":\"SU10580\",\"calp\":\"-\"},\"type\":{\"position\":\"abs\",\"positionIndex\":8,\"subject\":\"contents\"},\"dom\":null}]},\"SHOW\":{\"menu\":\"SHOW\",\"childMenu\":\"\",\"adType\":\"singleDom\",\"multiDomAdUrl\":\"\",\"multiDomUnit\":\"\",\"infoList\":[{\"adposId\":\"1000193\",\"singleDomAdUrl\":\"https://siape.veta.naver.com/fxshow\",\"param\":{\"da_dom_id\":\"p_main_show_1\",\"tb\":\"SHOW_1\",\"unit\":\"SU10565\",\"calp\":\"-\"},\"type\":{\"position\":\"abs\",\"positionIndex\":4,\"subject\":\"contents\"},\"dom\":null},{\"adposId\":\"1000194\",\"singleDomAdUrl\":\"https://siape.veta.naver.com/fxshow\",\"param\":{\"da_dom_id\":\"p_main_show_2\",\"tb\":\"SHOW_1\",\"unit\":\"SU10566\",\"calp\":\"-\"},\"type\":{\"position\":\"abs\",\"positionIndex\":8,\"subject\":\"contents\"},\"dom\":null}]},\"TRAVEL\":{\"menu\":\"TRAVEL\",\"childMenu\":\"\",\"adType\":\"singleDom\",\"multiDomAdUrl\":\"\",\"multiDomUnit\":\"\",\"infoList\":[{\"adposId\":\"1000195\",\"singleDomAdUrl\":\"https://siape.veta.naver.com/fxshow\",\"param\":{\"da_dom_id\":\"p_main_travel_1\",\"tb\":\"TRAVEL_1\",\"unit\":\"SU10581\",\"calp\":\"-\"},\"type\":{\"position\":\"abs\",\"positionIndex\":4,\"subject\":\"contents\"},\"dom\":null},{\"adposId\":\"1000196\",\"singleDomAdUrl\":\"https://siape.veta.naver.com/fxshow\",\"param\":{\"da_dom_id\":\"p_main_travel_2\",\"tb\":\"TRAVEL_1\",\"unit\":\"SU10582\",\"calp\":\"-\"},\"type\":{\"position\":\"abs\",\"positionIndex\":8,\"subject\":\"contents\"},\"dom\":null}]},\"WEDDING\":{\"menu\":\"WEDDING\",\"childMenu\":\"\",\"adType\":\"singleDom\",\"multiDomAdUrl\":\"\",\"multiDomUnit\":\"\",\"infoList\":[{\"adposId\":\"1000197\",\"singleDomAdUrl\":\"https://siape.veta.naver.com/fxshow\",\"param\":{\"da_dom_id\":\"p_main_wedding_1\",\"tb\":\"WEDDING_1\",\"unit\":\"SU10583\",\"calp\":\"-\"},\"type\":{\"position\":\"abs\",\"positionIndex\":4,\"subject\":\"contents\"},\"dom\":null},{\"adposId\":\"1000198\",\"singleDomAdUrl\":\"https://siape.veta.naver.com/fxshow\",\"param\":{\"da_dom_id\":\"p_main_wedding_2\",\"tb\":\"WEDDING_1\",\"unit\":\"SU10584\",\"calp\":\"-\"},\"type\":{\"position\":\"abs\",\"positionIndex\":8,\"subject\":\"contents\"},\"dom\":null}]}},\\nsvt: 20220107134208,\\n}; </script> <script> window.nmain.newsstand = {\\nrcode: \\'09680118\\',\\nnewsCastSubsInfo: \\'\\',\\nnewsStandSubsInfo: \\'\\'\\n};\\nwindow.etc = {  };\\nwindow.svr = \"<!--aweb13-->\"; </script> <script src=\"https://ssl.pstatic.net/tveta/libs/assets/js/pc/main/min/pc.veta.core.min.js\" defer=\"defer\"></script>   <script src=\"https://pm.pstatic.net/dist/js/external.424737be.js?o=www\" type=\"text/javascript\" crossorigin=\"anonymous\" defer=\"defer\"></script> <script src=\"https://pm.pstatic.net/dist/js/preload.5875f4cb.js?o=www\" type=\"text/javascript\" crossorigin=\"anonymous\" defer=\"defer\"></script> <script src=\"https://pm.pstatic.net/dist/js/polyfill.0b1e66f9.js?o=www\" type=\"text/javascript\" crossorigin=\"anonymous\" defer=\"defer\"></script>  <script src=\"https://pm.pstatic.net/dist/js/vendors~more~nmain~notice~search~sidebar_notice.29c38b59.js?o=www\" type=\"text/javascript\" crossorigin=\"anonymous\" defer=\"defer\"></script>   <script src=\"https://pm.pstatic.net/dist/js/search.42b2ccb4.js?o=www\" type=\"text/javascript\" crossorigin=\"anonymous\" defer=\"defer\"></script>  <script src=\"https://pm.pstatic.net/dist/js/vendors~more~nmain~sidebar_notice.2d20790b.js?o=www\" type=\"text/javascript\" crossorigin=\"anonymous\" defer=\"defer\"></script> <script src=\"https://pm.pstatic.net/dist/js/nmain.3e57d655.js?o=www\" type=\"text/javascript\" crossorigin=\"anonymous\" defer=\"defer\"></script> <style>:root{color-scheme:light}#_nx_kbd .setkorhelp a{display:none}</style> </head> <body> <div id=\"u_skip\"> <a href=\"#newsstand\"><span>뉴스스탠드 바로가기</span></a> <a href=\"#themecast\"><span>주제별캐스트 바로가기</span></a> <a href=\"#timesquare\"><span>타임스퀘어 바로가기</span></a> <a href=\"#shopcast\"><span>쇼핑캐스트 바로가기</span></a> <a href=\"#account\"><span>로그인 바로가기</span></a> </div> <div id=\"wrap\">         <style>._1syGnXOL{padding-right:18px;font-size:14px;line-height:0;letter-spacing:-.25px;color:#000}._1syGnXOL span,._1syGnXOL strong{line-height:49px}._1syGnXOL:before{display:inline-block;content:\"\";vertical-align:top;background-image:url(https://static-whale.pstatic.net/main/sprite-20211123@2x.png);background-repeat:no-repeat;background-size:116px 112px;width:18px;height:18px;margin:16px 8px 0 0;background-position:-98px 0}[data-useragent*=\"MSIE 8\"] ._1syGnXOL:before{background-image:url(https://static-whale.pstatic.net/main/sprite-20211123.png)}._1syGnXOL._3dsvmZg2:before{background-position:-47px -85px}._1syGnXOL._1NBFx1WK:before{width:20px;height:20px;margin:15px 8px 0 0;background-position:-21px -89px}._1syGnXOL._2mcQEKCd:before{width:22px;height:22px;margin:14px 7px 0 0;background-position:-47px -63px}._1syGnXOL._36slsKuJ:before{width:21px;height:49px;margin:0 14px 0 0;background-position:0 -63px}._1syGnXOL._3di88A4c{padding-right:12px;font-size:17px}._1syGnXOL._3di88A4c:before{content:none}._1syGnXOL ._19K4X1CD{text-decoration:underline}._2aeXMlrb{display:inline-block;position:relative;font-size:12px;height:49px;width:78px;text-decoration:none;color:#fff;font-weight:700;letter-spacing:-.5px;vertical-align:top}._2aeXMlrb span{text-align:center;margin:9px 0;height:31px;display:block;line-height:31px;border-radius:15px}._2aeXMlrb span:before{display:inline-block;content:\"\";vertical-align:top;background-image:url(https://static-whale.pstatic.net/main/sprite-20211123@2x.png);background-repeat:no-repeat;background-size:116px 112px}[data-useragent*=\"MSIE 8\"] ._2aeXMlrb span:before{background-image:url(https://static-whale.pstatic.net/main/sprite-20211123.png)}._2aeXMlrb.BMgpjddw{font-size:11px;width:94px}._2aeXMlrb.BMgpjddw span:before{margin:9px 3px 0 0;width:17px;height:13px;background-position:-89px -63px}._3h-N8T9V{position:absolute;top:0;left:0;right:0;bottom:0;background:rgba(0,0,0,0)}._1KncATpM{display:inline-block;content:\"\";vertical-align:top;background-image:url(https://static-whale.pstatic.net/main/sprite-20211123@2x.png);background-repeat:no-repeat;background-size:116px 112px;margin-top:14px;float:left;width:98px;height:21px;background-position:0 -21px}[data-useragent*=\"MSIE 8\"] ._1KncATpM{background-image:url(https://static-whale.pstatic.net/main/sprite-20211123.png)}._1KncATpM._2v3uxv2x{background-position:0 0}._1KncATpM._1yl_Ow6o{background-position:0 -42px}._20PYt6lT{font-size:11px;height:49px;cursor:pointer;position:absolute;top:0;right:0;color:#666;opacity:.7}._20PYt6lT:after{width:15px;height:15px;margin-left:4px;background-position:-98px -33px;display:inline-block;content:\"\";vertical-align:top;background-image:url(https://static-whale.pstatic.net/main/sprite-20211123@2x.png);background-repeat:no-repeat;background-size:116px 112px}[data-useragent*=\"MSIE 8\"] ._20PYt6lT:after{background-image:url(https://static-whale.pstatic.net/main/sprite-20211123.png)}._20PYt6lT._39oMCV2N:after{background-position:-98px -18px}._20PYt6lT._3MOWOORv{color:#c3c2c2}._20PYt6lT._3MOWOORv:after{background-position:-80px -85px}._20PYt6lT._3wm5EzmJ{color:#fff}._20PYt6lT._3wm5EzmJ:after{background-position:-65px -85px}._1hiMWemA{height:49px}._1hiMWemA .tY_u8r23{position:relative;width:1130px;margin:0 auto}._1hiMWemA .tY_u8r23 a{text-decoration:none}._1hiMWemA._23U_6TM_{position:relative}._1hiMWemA._23U_6TM_:after{position:absolute;z-index:1;content:\"\";display:block;width:100%;height:1px;bottom:0;background-color:rgba(0,0,0,.050980392156862744)}</style>\\n<div\\nid=\"NM_TOP_BANNER\"\\ndata-clk-prefix=\"top\"\\nclass=\"_1hiMWemA\"\\nstyle=\"background-color: #262b3a\"\\n>\\n<div class=\"tY_u8r23\">\\n<a\\nclass=\"_3h-N8T9V\"\\nhref=\"https://whale.naver.com/banner/details/darkmode/?=main&wpid=RydDy7\"\\ndata-clk=\"dropbanner1a\"\\n></a\\n><i class=\"_1KncATpM _1yl_Ow6o\"><span class=\"blind\">NAVER whale</span></i\\n><img\\nsrc=\"https://static-whale.pstatic.net/main/img_darkmode_v6@2x.png\"\\nwidth=\"240\"\\nheight=\"49\"\\nalt=\"\"\\nstyle=\"padding-left: 80px\"\\n/><span\\nclass=\"_1syGnXOL _3di88A4c\"\\ndata-clk=\"dropbanner1a\"\\nstyle=\"padding-right: 30px; color: white; padding-left: 20px\"\\n><span>아앗! 안정이 필요해보여요. 눈 안정 위해 </span\\n><strong>다크모드</strong></span\\n><a\\nhref=\"https://installer-whale.pstatic.net/downloads/banner/RydDy7/WhaleSetup.exe\"\\nclass=\"_2aeXMlrb BMgpjddw\"\\nid=\"NM_whale_download_btn\"\\ndata-clk=\"dropdownload1a\"\\n><span style=\"background-color: #2031a4\">다운로드</span></a\\n><button\\ntype=\"button\"\\ndata-ui-cookie-exp-days=\"3\"\\ndata-ui-cookie-key=\"NM_TOP_PROMOTION\"\\ndata-ui-cookie-value=\"1\"\\ndata-ui-hide-target=\"#NM_TOP_BANNER\"\\ndata-clk=\"dropclose1a\"\\nclass=\"_20PYt6lT _3wm5EzmJ\"\\n>\\n3일 동안 보지 않기\\n</button>\\n</div>\\n</div>\\n  <div id=\"header\" role=\"banner\">\\n\\n\\n\\n\\n\\n\\n\\n\\n<div class=\"special_bg\">\\n<div class=\"group_flex\">\\n<div class=\"logo_area\">\\n<h1 class=\"logo_default\">\\n<a href=\"/\" class=\"logo_naver\" data-clk=\"top.logo\"\\n><span class=\"blind\">네이버</span></a\\n>\\n</h1>\\n</div>\\n<div class=\"service_area\">\\n<a id=\"NM_set_home_btn\" href=\"https://help.naver.com/support/welcomePage/guide.help\" class=\"link_set\" data-clk=\"top.mkhome\">네이버를 시작페이지로</a>\\n<i class=\"sa_bar\"></i>\\n<a href=\"https://jr.naver.com\" class=\"link_jrnaver\" data-clk=\"top.jrnaver\"><i class=\"ico_jrnaver\"></i><span class=\"blind\">쥬니어네이버</span></a>\\n<a href=\"https://happybean.naver.com\" class=\"link_happybin\" data-clk=\"top.happybean\"><i class=\"ico_happybin\"></i><span class=\"blind\">해피빈</span></a>\\n</div>\\n\\n<div id=\"search\" class=\"search_area\" data-clk-prefix=\"sch\">\\n<form id=\"sform\" name=\"sform\" action=\"https://search.naver.com/search.naver\" method=\"get\" role=\"search\">\\n<fieldset>\\n<legend class=\"blind\">검색</legend>\\n<select id=\"where\" name=\"where\" title=\"검색 범위 선택\" class=\"blind\">\\n<option value=\"nexearch\" selected=\"selected\">통합검색</option><option value=\"post\">블로그</option><option value=\"cafeblog\">카페</option><option value=\"cafe\">- 카페명</option><option value=\"article\">- 카페글</option><option value=\"kin\">지식iN</option><option value=\"news\">뉴스</option><option value=\"web\">사이트</option><option value=\"category\">- 카테고리</option><option value=\"site\">- 사이트</option><option value=\"movie\">영화</option><option value=\"webkr\">웹문서</option><option value=\"dic\">사전</option><option value=\"100\">- 백과사전</option><option value=\"endic\">- 영어사전</option><option value=\"eedic\">- 영영사전</option><option value=\"krdic\">- 국어사전</option><option value=\"jpdic\">- 일본어사전</option><option value=\"hanja\">- 한자사전</option><option value=\"terms\">- 용어사전</option><option value=\"book\">책</option><option value=\"music\">음악</option><option value=\"doc\">전문자료</option><option value=\"shop\">쇼핑</option><option value=\"local\">지역</option><option value=\"video\">동영상</option><option value=\"image\">이미지</option><option value=\"mypc\">내PC</option><optgroup label=\"스마트 파인더\"><option value=\"movie\">영화</option><option value=\"auto\">자동차</option><option value=\"game\">게임</option><option value=\"health\">건강</option><option value=\"people\">인물</option></optgroup><optgroup label=\"네이버 랩\"><option>긍정부정검색</option></optgroup>\\n</select>\\n<input type=\"hidden\" id=\"sm\" name=\"sm\" value=\"top_hty\" />\\n<input type=\"hidden\" id=\"fbm\" name=\"fbm\" value=\"0\" />\\n<input type=\"hidden\" id=\"acr\" name=\"acr\" value=\"\" disabled=\"disabled\" />\\n<input type=\"hidden\" id=\"acq\" name=\"acq\" value=\"\" disabled=\"disabled\" />\\n<input type=\"hidden\" id=\"qdt\" name=\"qdt\" value=\"\" disabled=\"disabled\" />\\n<input type=\"hidden\" id=\"ie\" name=\"ie\" value=\"utf8\" />\\n<input type=\"hidden\" id=\"acir\" name=\"acir\" value=\"\" disabled=\"disabled\" />\\n<input type=\"hidden\" id=\"os\" name=\"os\" value=\"\" disabled=\"disabled\" />\\n<input type=\"hidden\" id=\"bid\" name=\"bid\" value=\"\" disabled=\"disabled\" />\\n<input type=\"hidden\" id=\"pkid\" name=\"pkid\" value=\"\" disabled=\"disabled\" />\\n<input type=\"hidden\" id=\"eid\" name=\"eid\" value=\"\" disabled=\"disabled\" />\\n<input type=\"hidden\" id=\"mra\" name=\"mra\" value=\"\" disabled=\"disabled\" />\\n\\n\\n\\n<div class=\"green_window\" style=\\'\\'>\\n<!-- [AU] data-atcmp-element 에 해당하는 attribute를 추가해주세요. -->\\n<input id=\"query\" name=\"query\" type=\"text\" title=\"검색어 입력\" maxlength=\"255\" class=\"input_text\" tabindex=\"1\" accesskey=\"s\" style=\"ime-mode:active;\" autocomplete=\"off\"  placeholder=\"검색어를 입력해 주세요.\" onclick=\"document.getElementById(\\'fbm\\').value=1;\" value=\"\" data-atcmp-element>\\n</div>\\n<button id=\"search_btn\" type=\"submit\" title=\"검색\" tabindex=\"3\" class=\"btn_submit\" onclick=\"window.nclick(this,\\'sch.action\\',\\'\\',\\'\\',event);\" style=\\'\\'>\\n<span class=\"blind\">검색</span>\\n<span class=\"ico_search_submit\"></span>\\n</button>\\n</fieldset>\\n</form>\\n<!-- 한글입력기 -->\\n<a href=\"#\" id=\"ke_kbd_btn\" role=\"button\" class=\"btn_keyboard\" onclick=\"return false;\"><span class=\"blind\">한글 입력기</span><span class=\"ico_keyboard\"></span></a>\\n<div id=\"_nx_kbd\" style=\"display:none;\"></div>\\n<div class=\"autocomplete\">\\n<!-- 자동완성 열린 경우 fold 클래스 추가, 딤드인 경우 dim 추가 -->\\n<a href=\"#\" role=\"button\" id=\"nautocomplete\" tabindex=\"2\" class=\"btn_arw _btn_arw fold\" aria-pressed=\"false\" data-atcmp-element><span class=\"blind\">자동완성 레이어</span><span class=\"ico_arr\"></span></a>\\n</div>\\n<!-- 자동완성레이어 -->\\n<div id=\"autoFrame\" class=\"reatcmp\" style=\"display: none;\">\\n<!-- [AU] data-atcmp-element attribute를 추가해주세요. -->\\n<div class=\"ly_atcmp\" data-atcmp-element>\\n<div class=\"api_atcmp_wrap\">\\n<!-- 최근검색어 -->\\n<!-- [AU] _recent_layer 클래스를 추가해주세요. -->\\n<div class=\"atcmp_fixer _recent_layer\" style=\"display:none;\">\\n<!-- [AU] _recent_header 클래스를 추가해주세요. -->\\n<div class=\"atcmp_header _recent_header\">\\n<strong class=\"tit\">최근검색어</strong>\\n<div class=\"option\">\\n<!-- [AU] _delAll 클래스를 추가해주세요. -->\\n<a role=\"button\" href=\"#\" class=\"item _delAll\" aria-pressed=\"false\">전체삭제</a>\\n</div>\\n</div>\\n<div class=\"atcmp_container\">\\n<!-- [AU] _recent 클래스를 추가해주세요. -->\\n<ul class=\"kwd_lst _recent\">\\n<!-- 최근검색어 템플릿 -->\\n<!-- [AU] _item 클래스를 추가해주세요. -->\\n<!-- [AU] data-template-type=\"history\" data-keyword=\"@in_txt@\" attribute를 추가해주세요. -->\\n<li class=\"item _item\" data-rank=\"@rank@\" data-template-type=\"history\" data-keyword=\"@in_txt@\">\\n<a href=\"#\" class=\"kwd\">\\n<span class=\"fix\"><span class=\"common_ico_kwd\"><i class=\"imsc ico_search\"></i></span><span>@txt@</span></span>\\n</a>\\n<span class=\"etc\">\\n<em class=\"date\">@date@.</em>\\n<!-- [AU] _del 클래스를 추가해주세요. -->\\n<a href=\"#\" role=\"button\" class=\"bt_item _del\" aria-pressed=\"false\"><i class=\"imsc ico_del\">삭제</i></a>\\n</span>\\n</li>\\n</ul>\\n<!-- [D] 검색어 저장 꺼진 경우 atcmp_fixer에 type_off 추가 -->\\n<!-- [AU] _offMsg 클래스를 추가해주세요. -->\\n<div class=\"kwd_info kwd_off _offMsg\" style=\"display: none;\">검색어 저장 기능이 꺼져 있습니다.<br><span class=\"kwd_dsc\">설정이 초기화 된다면 <a href=\"https://help.naver.com/support/alias/search/word/word_29.naver\" class=\"kwd_help\" data-clk=\"sly.help\" target=\"_blank\">도움말</a>을 확인해주세요.</span></div>\\n<!-- [D] 검색어 내역 없는 경우 atcmp_fixer에 type_off 추가 -->\\n<!-- [AU] _recentNone 클래스를 추가해주세요. -->\\n<div class=\"kwd_info kwd_none _recentNone\" style=\"display: none;\">최근 검색어 내역이 없습니다.<br><span class=\"kwd_dsc\">설정이 초기화 된다면 <a href=\"https://help.naver.com/support/alias/search/word/word_29.naver\" class=\"kwd_help\" data-clk=\"sly.help\" target=\"_blank\">도움말</a>을 확인해주세요.</span></div>\\n</div>\\n<div class=\"atcmp_footer\">\\n<span class=\"side_opt_area\">\\n<span class=\"opt_item\"><a href=\"https://help.naver.com/support/service/main.help?serviceNo=605&amp;categoryNo=1991\" data-clk=\"sly.help\" target=\"_blank\">도움말</a></span>\\n</span>\\n<span class=\"rside_opt_area\">\\n<span class=\"opt_item\">\\n<!-- [AU] _keywordOnOff 클래스를 추가해주세요. -->\\n<a href=\"#\" class=\"close _keywordOnOff\">자동저장 끄기</a>\\n</span>\\n</span>\\n</div>\\n</div>\\n<!-- 자동완성 -->\\n<!-- [AU] _atcmp_layer 클래스를 추가해주세요. -->\\n<div class=\"atcmp_fixer _atcmp_layer\" style=\"display:none;\">\\n<!-- [AU] _words 클래스를 추가해주세요. -->\\n<div class=\"atcmp_container _words\">\\n<!-- 정답형 템플릿 : 로또당첨번호 -->\\n<!-- [AU] _answer 클래스를 추가해주세요. -->\\n<!-- [AU] data-template-type=\"answer_3\" data-code=\"@code@\" data-keyword=\"@1@\" attribute를 추가해주세요. -->\\n<div class=\"atcmp_correct type_lotto _answer\" data-template-type=\"answer_3\" data-code=\"@code@\" data-keyword=\"@1@\">\\n<a href=\"#\" class=\"link_item\">\\n<span class=\"common_ico_kwd\"><i class=\"imsc ico_search\"></i></span>\\n<div class=\"dsc_area\">\\n<span class=\"tit\">@5@회차 당첨번호</span>\\n<span class=\"dsc\">\\n<span class=\"item\">추첨 @13@.</span><span class=\"item\">지급기한 1년</span>\\n</span>\\n</div>\\n<span class=\"etc_area\">\\n<span class=\"etc lotto\">\\n<em class=\"n@6@\">@6@</em><em class=\"n@7@\">@7@</em><em class=\"n@8@\">@8@</em><em class=\"n@9@\">@9@</em><em class=\"n@10@\">@10@</em><em class=\"n@11@\">@11@</em><em class=\"imsc_bf bonus n@12@\">@12@</em>\\n</span>\\n</span>\\n</a>\\n</div>\\n<!-- 정답형 템플릿 : 환율 -->\\n<!-- [AU] _answer 클래스를 추가해주세요. -->\\n<!-- [AU] data-template-type=\"answer_9\" data-code=\"@code@\" data-keyword=\"@1@\" attribute를 추가해주세요. -->\\n<div class=\"atcmp_correct type_exchange _answer\" data-template-type=\"answer_9\" data-code=\"@code@\" data-keyword=\"@1@\">\\n<!-- [D] 상승 up, 하락 down 추가 -->\\n<a href=\"#\" class=\"link_item @11@\">\\n<!-- [D] 국가별 class 가나다순\\nZAR 남아프리카 공화국\\nNPR 네팔\\nNOK 노르웨이\\nNZD 뉴질랜드\\nTWD 대만\\nDKK 덴마크\\nRUB 러시아\\nMOP 마카오\\nMYR 말레이시아\\nMXN 멕시코\\nMNT 몽골\\nUSD 미국\\nBHD 바레인\\nBDT 방글라데시\\nVND 베트남\\nBRL 브라질\\nSAR 사우디아라비아\\nSEK 스웨덴\\nCHF 스위스\\nSGD 싱가포르\\nAED 아랍에미리트\\nGBP 영국\\nEUR 유럽연합\\nILS 이스라엘\\nEGP 이집트\\nINR 인도\\nIDR 인도네시아\\nJPY 일본\\nCNY 중국\\nCZK 체코\\nCLP 칠레\\nKZT 카자흐스탄\\nQAR 카타르\\nCAD 캐나다\\nKWD 쿠웨이트\\nTHB 태국\\nTRY 터키\\nPKR 파키스탄\\nPLN 폴란드\\nPHP 필리핀\\nHUF 헝가리\\nAUD 호주\\nHKD 홍콩\\n-->\\n<span class=\"common_ico_kwd\"><i class=\"imsc ico @12@\">@14@</i></span>\\n<div class=\"dsc_area\">\\n<span class=\"tit\">@txt@<span class=\"sub\">@currency@</span></span>\\n<span class=\"dsc\">\\n<span class=\"item\"><i class=\"imsc ico_arr\"></i>@8@(@9@%)</span>\\n</span>\\n</div>\\n<span class=\"etc_area\">\\n<span class=\"etc\"><em class=\"num\">@6@</em>원</span>\\n</span>\\n</a>\\n</div>\\n<!-- 정답형 템플릿 : 날씨(국내11, 해외12) -->\\n<!-- [AU] _answer 클래스를 추가해주세요. -->\\n<!-- [AU] data-template-type=\"answer_11\" data-code=\"@code@\" data-keyword=\"@1@\" attribute를 추가해주세요. -->\\n<div class=\"atcmp_correct type_weather _answer\" data-template-type=\"answer_11\" data-code=\"@code@\" data-keyword=\"@1@\">\\n<!-- [D] 상승 up, 하락 down 추가 -->\\n<a href=\"#\" class=\"link_item @12@\">\\n<span class=\"common_ico_kwd\"><i class=\"imsc ico_search\"></i></span>\\n<div class=\"dsc_area\">\\n<span class=\"tit\">@txt@</span>\\n<span class=\"dsc\">\\n<span class=\"item\">@7@, @message@</span>\\n</span>\\n</div>\\n<span class=\"etc_area\">\\n<span class=\"etc\">\\n<!-- [D] 날씨별 class\\nico1 맑음(낮)\\nico2 맑음(밤)\\nico3 구름조금(낮)\\nico4 구름조금(밤)\\nico5 구름많음(낮)\\nico6 구름많음(밤)\\nico7 흐림\\nico8 약한비\\nico9 비\\nico10 강한비\\nico11 약한눈\\nico12 눈\\nico13 강한눈\\nico14 진눈깨비\\nico15 소나기\\nico16 안개\\nico17 소낙눈\\nico18 번개뇌우\\nico19 우박\\nico20 황사\\nico21 비또는눈\\nico22 가끔비\\nico23 가끔눈\\nico24 가끔비또는눈\\nico25 흐린후갬\\nico26 뇌우후갬\\nico27 비후갬\\nico28 눈후갬\\nico29 흐려져비\\nico30 흐려져눈\\n-->\\n<span class=\"ico_weather\"><i class=\"imsc ico ico@iconNo@\">@7@</i></span>\\n<em class=\"degree\">@8@<sup class=\"celsius\">°</sup></em>\\n</span>\\n</span>\\n</a>\\n</div>\\n<!-- 정답형 템플릿 : 사이트 바로가기 -->\\n<!-- [AU] _answer 클래스를 추가해주세요. -->\\n<!-- [AU] data-template-type=\"answer_17\" data-code=\"@code@\" data-keyword=\"@1@\" attribute를 추가해주세요. -->\\n<div class=\"atcmp_correct type_site _answer\" data-template-type=\"answer_17\" data-code=\"@code@\" data-keyword=\"@1@\">\\n<a href=\"@5@\" class=\"link_item\" target=\"_blank\">\\n<span class=\"common_ico_kwd\"><i class=\"imsc ico_url\"></i></span>\\n<div class=\"dsc_area\">\\n<span class=\"tit\">@txt@</span>\\n<span class=\"dsc\">\\n<span class=\"item\">@5@</span>\\n</span>\\n</div>\\n<span class=\"etc_area\">\\n<span class=\"etc\">바로가기</span>\\n</span>\\n</a>\\n</div>\\n<!-- [AU] _kwd_list 클래스를 추가해주세요. -->\\n<ul class=\"kwd_lst _kwd_list\">\\n<!-- [AU] 자동완성 검색어 템플릿 -->\\n<!-- [AU] _item 클래스를 추가해주세요. -->\\n<!-- [AU] data-rank=\"@rank@\" data-template-type=\"suggestion\" data-keyword=\"@in_txt@\" attribute를 추가해주세요. -->\\n<li class=\"item _item\" data-rank=\"@rank@\" data-template-type=\"suggestion\" data-keyword=\"@in_txt@\">\\n<a href=\"#\" class=\"kwd\">\\n<span class=\"fix\"><span class=\"common_ico_kwd\"><i class=\"imsc ico_search\"></i></span>@txt@</span>\\n</a>\\n<span class=\"etc\">\\n<a href=\"#\" role=\"button\" class=\"bt_item _add\" aria-pressed=\"false\"><i class=\"imsc ico_insert\">추가</i></a>\\n</span>\\n</li>\\n<!-- [AU] 최근검색어 템플릿 -->\\n<!-- [AU] _item 클래스를 추가해주세요. -->\\n<!-- [AU] data-rank=\"@rank@\" data-template-type=\"history\" data-keyword=\"@in_txt@\" attribute를 추가해주세요. -->\\n<li class=\"item has_correct _item\" data-rank=\"@rank@\" data-template-type=\"history\" data-keyword=\"@in_txt@\">\\n<a href=\"#\" class=\"kwd\">\\n<span class=\"fix\"><span class=\"common_ico_kwd\"><i class=\"imsc ico_search\"></i></span>@txt@</span>\\n</a>\\n<span class=\"etc\">\\n<!-- 최근검색어 있으면 날짜 표시 -->\\n<em class=\"date\">@date@.</em>\\n<a href=\"#\" role=\"button\" class=\"bt_item _add\" aria-pressed=\"false\"><i class=\"imsc ico_insert\">추가</i></a>\\n</span>\\n</li>\\n</ul>\\n<!-- [AU] 문맥검색 템플릿 -->\\n<!-- [AU] _item 클래스를 추가해주세요. -->\\n<!-- [AU] data-rank=\"@rank@\" data-template-type=\"intend\" data-keyword=\"@transQuery@\" attribute를 추가해주세요. -->\\n<li class=\"item has_correct _item\" data-rank=\"@rank@\" data-intend-rank=\"@intendRank@\" data-template-type=\"intend\" data-keyword=\"@transQuery@\">\\n<a href=\"#\" class=\"kwd\">\\n<span class=\"fix\"><span class=\"common_ico_kwd\"><i class=\"imsc ico_search\"></i></span>@query@ <span class=\"context\">@intend@</span></span>\\n</a>\\n<span class=\"etc\">\\n<a href=\"#\" role=\"button\" class=\"bt_item _add\" aria-pressed=\"false\"><i class=\"imsc ico_insert\">추가</i></a>\\n</span>\\n</li>\\n<!-- [D] 선거안내문구 -->\\n<!-- [AU] _alert 클래스를 추가해주세요. -->\\n<div class=\"atcmp_alert _alert\">\\n<div class=\"dsc_election\">\\n<p class=\"dsc\">\\n<i class=\"imsc ico_election\"></i><span class=\"_alert_passage\"></span>\\n</p>\\n<span class=\"dsc_inner\">\\n<!-- [AU] _alert_passage2 클래스를 추가해주세요. -->\\n<span class=\"_alert_passage2\"></span>\\n<!-- [AU] _alert_link 클래스를 추가해주세요. -->\\n<a href=\"#\" class=\"link _alert_link\" target=\"_blank\">자세히보기</a>\\n</span>\\n</div>\\n</div>\\n<!-- [AU] _plus 클래스를 추가해주세요. -->\\n<div class=\"atcmp_plus _plus\">\\n<div class=\"dsc_plus\">\\n<a href=\"https://help.naver.com/support/alias/search/word/word_16.naver\" class=\"link_dsc\" data-clk=\"sug.cxhelp\" target=\"_blank\">관심사를 반영한 컨텍스트 자동완성<i class=\"imsc ico_help\">도움말</i></a>\\n</div>\\n<div class=\"switch\">\\n<!-- [D] 선택시 aria-pressed=\"ture/false\" -->\\n<!-- [AU] _plus_btn 클래스를 추가해주세요. -->\\n<a role=\"button\" href=\"#\" class=\"bt_switch active _plus_btn\" aria-pressed=\"false\"><i class=\"imsc ico_option\">컨텍스트 자동완성</i></a>\\n</div>\\n<!-- [AU] _plus_layer 클래스를 추가해주세요. -->\\n<div class=\"layer_plus _plus_layer\">\\n<strong class=\"tit\">컨텍스트 자동완성</strong>\\n<!-- [AU] _plus_layer_isloggedin 클래스를 추가해주세요. -->\\n<!-- [AU] style=\"display:none\" 추가해주세요. -->\\n<div class=\"_plus_layer_isloggedin\" style=\"display:none\">\\n<p class=\"dsc\">ON/OFF 설정은<br>해당기기(브라우저)에 저장됩니다.</p>\\n<div class=\"btn_area\">\\n<a href=\"https://help.naver.com/support/alias/search/word/word_16.naver\" class=\"btn btn_view\" data-clk=\"sug.cxlink\" target=\"_blank\">자세히</a>\\n</div>\\n</div>\\n<!-- [AU] _plus_layer_isnotloggedin 클래스를 추가해주세요. -->\\n<!-- [AU] style=\"display:none\" 추가해주세요. -->\\n<div class=\"_plus_layer_isnotloggedin\" style=\"display:none\">\\n<p class=\"dsc\"><em class=\"txt\">동일한 시간대/연령/남녀별</em> 사용자 그룹의<br>관심사에 맞춰 자동완성을 제공합니다.</p>\\n<div class=\"btn_area\">\\n<a href=\"https://nid.naver.com/nidlogin.login\" class=\"btn btn_login\" data-clk=\"sug.cxlogin\">로그인</a>\\n<a href=\"https://help.naver.com/support/alias/search/word/word_16.naver\" class=\"btn btn_view\" data-clk=\"sug.cxlink\" target=\"_blank\">자세히</a>\\n</div>\\n</div>\\n<!-- [AU] _plus_layer_close 클래스를 추가해주세요. -->\\n<a href=\"#\" role=\"button\" class=\"btn_close _plus_layer_close\"><i class=\"imsc ico_close\">컨텍스트 자동완성 레이어 닫기</i></a>\\n</div>\\n</div>\\n</div>\\n<div class=\"atcmp_footer\">\\n<span class=\"side_opt_area\">\\n<span class=\"opt_item\"><a href=\"https://help.naver.com/support/service/main.help?serviceNo=605&categoryNo=1987\" data-clk=\"sug.help\" target=\"_blank\">도움말</a></span>\\n<span class=\"opt_item\"><a href=\"https://help.naver.com/support/contents/contents.help?serviceNo=605&categoryNo=18215\" class=\"report\" data-clk=\"sug.report\" target=\"_blank\">신고</a></span>\\n</span>\\n<span class=\"rside_opt_area\">\\n<span class=\"opt_item\">\\n<!-- [AU] _suggestOnOff 클래스를 추가해주세요. -->\\n<a href=\"#\" class=\"close _suggestOnOff\">자동완성 끄기</a>\\n</span>\\n</span>\\n</div>\\n</div>\\n</div>\\n</div>\\n</div>\\n</div>\\n\\n</div>\\n</div>\\n\\n<!--EMPTY-->\\n<div id=\"gnb\">\\n<div id=\"NM_FAVORITE\" class=\"gnb_inner\">\\n<div class=\"group_nav\">\\n<ul class=\"list_nav type_fix\">\\n<li class=\"nav_item\">\\n<a href=\"https://mail.naver.com/\" class=\"nav\" data-clk=\"svc.mail\"><i class=\"ico_mail\"></i>메일</a>\\n</li>\\n<li class=\"nav_item\"><a href=\"https://section.cafe.naver.com/\" class=\"nav\" data-clk=\"svc.cafe\">카페</a></li>\\n<li class=\"nav_item\"><a href=\"https://section.blog.naver.com/\" class=\"nav\" data-clk=\"svc.blog\">블로그</a></li>\\n<li class=\"nav_item\"><a href=\"https://kin.naver.com/\" class=\"nav\" data-clk=\"svc.kin\">지식iN</a></li>\\n<li class=\"nav_item\"><a href=\"https://shopping.naver.com/\" class=\"nav shop\" data-clk=\"svc.shopping\"><span class=\"blind\">쇼핑</span></a></li>\\n<li class=\"nav_item\"><a href=\"https://shoppinglive.naver.com/home\" class=\"nav shoplive\"\\ndata-clk=\"svc.shoppinglive\"><span class=\"blind\">쇼핑LIVE</span></a></li>\\n<li class=\"nav_item\"><a href=\"https://order.pay.naver.com/home\" class=\"nav\" data-clk=\"svc.pay\">Pay</a></li>\\n<li class=\"nav_item\">\\n<a href=\"https://tv.naver.com/\" class=\"nav\" data-clk=\"svc.tvcast\"><i class=\"ico_tv\"></i>TV</a>\\n</li>\\n</ul>\\n<ul\\nclass=\"list_nav NM_FAVORITE_LIST\"\\n>\\n<li class=\"nav_item\"><a href=\"https://dict.naver.com/\" class=\"nav\" data-clk=\"svc.dic\">사전</a></li>\\n<li class=\"nav_item\"><a href=\"https://news.naver.com/\" class=\"nav\" data-clk=\"svc.news\">뉴스</a></li>\\n<li class=\"nav_item\"><a href=\"https://finance.naver.com/\" class=\"nav\" data-clk=\"svc.stock\">증권</a></li>\\n<li class=\"nav_item\"><a href=\"https://land.naver.com/\" class=\"nav\" data-clk=\"svc.land\">부동산</a></li>\\n<li class=\"nav_item\"><a href=\"https://map.naver.com/\" class=\"nav\" data-clk=\"svc.map\">지도</a></li>\\n<li class=\"nav_item\"><a href=\"https://vibe.naver.com/\" class=\"nav\" data-clk=\"svc.vibe\">VIBE</a></li>\\n<li class=\"nav_item\"><a href=\"https://book.naver.com/\" class=\"nav\" data-clk=\"svc.book\">책</a></li>\\n<li class=\"nav_item\"><a href=\"https://comic.naver.com/\" class=\"nav\" data-clk=\"svc.webtoon\">웹툰</a></li>\\n\\n</ul>\\n<ul class=\"list_nav type_empty\" style=\"display: none;\"></ul>\\n<a href=\"#\" role=\"button\" class=\"btn_more\" data-clk=\"svc.more\">더보기</a>\\n<div class=\"ly_btn_area\">\\n<a href=\"more.html\" class=\"btn NM_FAVORITE_ALL\" data-clk=\"map.svcmore\">서비스 전체보기</a>\\n<a href=\"#\" role=\"button\" class=\"btn btn_set\" data-clk=\"map.edit\">메뉴설정</a>\\n<a href=\"#\" role=\"button\" class=\"btn btn_reset\" data-clk=\"edt.reset\">초기화</a>\\n<a href=\"#\" role=\"button\" class=\"btn btn_save\" data-clk=\"edt.save\">저장</a>\\n</div>\\n</div>\\n<div id=\"NM_WEATHER\" class=\"group_weather\">\\n<div>\\n<a data-clk=\"squ.weat\" href=\"https://weather.naver.com/today/09680118\" class=\"weather_area ico_w01\">\\n<div class=\"current_box\">\\n<strong class=\"current\" aria-label=\"현재기온\">3.0°</strong><strong class=\"state\">맑음</strong>\\n</div>\\n<div class=\"degree_box\">\\n<span class=\"min\" aria-label=\"최저기온\">-8.0°</span><span class=\"max\" aria-label=\"최고기온\">4.0°</span>\\n</div>\\n<span class=\"location\">도곡동</span>\\n</a>\\n</div>\\n<div>\\n<a data-clk=\"squ.dust\" href=\"https://weather.naver.com/today/09680118\" class=\"air_area\">\\n<ul class=\"list_air\">\\n<li class=\"air_item\">미세<strong class=\"state state_normal\">보통</strong></li>\\n<li class=\"air_item\">초미세<strong class=\"state state_bad\">나쁨</strong></li>\\n</ul>\\n<span class=\"location\">도곡동</span>\\n</a>\\n</div>\\n\\n</div>\\n</div>\\n<div class=\"ly_service\">\\n<div class=\"group_service NM_FAVORITE_ALL_LY\"></div>\\n<div class=\"group_service NM_FAVORITE_EDIT_LY\" style=\"display: none;\"></div>\\n</div>\\n</div>\\n</div>\\n <div id=\"container\" role=\"main\"> <div style=\"position:relative;width:1130px;margin:0 auto;z-index:11\"> <div id=\"da_top\"></div> <div id=\"da_expwide\"></div> </div> <div id=\"NM_INT_LEFT\" class=\"column_left\"> <div id=\"veta_top\"> <div id=\"veta_top_inner\" style=\"height:135px\"> </div> <span class=\"veta_bd_t\"></span> <span class=\"veta_bd_b\"></span> <span class=\"veta_bd_l\"></span> <span class=\"veta_bd_r\"></span> </div> <div id=\"newsstand\" class=\"sc_newscast\"> <h2 class=\"blind\">뉴스스탠드</h2> <div id=\"NM_NEWSSTAND_HEADER\" class=\"group_issue\" data-clk-prefix=\"ncy\"> <div class=\"issue_area\"> <a class=\"link_media\" href=\"https://news.naver.com/main/list.naver?mode=LPOD&mid=sec&sid1=001&sid2=140&oid=001&isYeonhapFlash=Y\" data-clk=\"newsflash\">연합뉴스</a> <div id=\"NM_ONELINE_ROLLING\" class=\"list_issue\" data-nm-ui=\"rolling\"> <div><a href=\"https://news.naver.com/main/list.naver?mode=LPOD&mid=sec&sid1=001&sid2=140&oid=001&isYeonhapFlash=Y&aid=0012903804\" class=\"issue\" data-clk=\"quickarticle\">정부 \"화이자 먹는치료제 다음주 들어와…투약대상 기준 마련중\"</a></div>\\n<div><a href=\"https://news.naver.com/main/list.naver?mode=LPOD&mid=sec&sid1=001&sid2=140&oid=001&isYeonhapFlash=Y&aid=0012903712\" class=\"issue\" data-clk=\"quickarticle\">\"이재명 36% 윤석열 26%…安, 15% 찍고 호감도 1위\"</a></div>\\n<div><a href=\"https://news.naver.com/main/list.naver?mode=LPOD&mid=sec&sid1=001&sid2=140&oid=001&isYeonhapFlash=Y&aid=0012903740\" class=\"issue\" data-clk=\"quickarticle\">이재명, 서울서 \\'걸어서 민심 속으로\\'…재건축 규제 완화 카드도</a></div>\\n<div><a href=\"https://news.naver.com/main/list.naver?mode=LPOD&mid=sec&sid1=001&sid2=140&oid=001&isYeonhapFlash=Y&aid=0012903876\" class=\"issue\" data-clk=\"quickarticle\">평택·팔당·여주까지 뚫는다…윤석열, GTX 공약 발표</a></div>\\n<div><a href=\"https://news.naver.com/main/list.naver?mode=LPOD&mid=sec&sid1=001&sid2=140&oid=001&isYeonhapFlash=Y&aid=0012903736\" class=\"issue\" data-clk=\"quickarticle\">2∼3주내 단일화 논의?…다시 부는 安風에 속내 복잡한 국힘</a></div>\\n<div><a href=\"https://news.naver.com/main/list.naver?mode=LPOD&mid=sec&sid1=001&sid2=140&oid=001&isYeonhapFlash=Y&aid=0012903841\" class=\"issue\" data-clk=\"quickarticle\">오스템 횡령 피의자, 조사 도중 어지럼증 호소 병원행</a></div>\\n<div><a href=\"https://news.naver.com/main/list.naver?mode=LPOD&mid=sec&sid1=001&sid2=140&oid=001&isYeonhapFlash=Y&aid=0012903874\" class=\"issue\" data-clk=\"quickarticle\">송영길 \"검찰개혁으로 사법대전환…공수처 인력·예산 대폭보강\"</a></div>\\n<div><a href=\"https://news.naver.com/main/list.naver?mode=LPOD&mid=sec&sid1=001&sid2=140&oid=001&isYeonhapFlash=Y&aid=0012903875\" class=\"issue\" data-clk=\"quickarticle\">\\'인천 흉기난동\\' 부실대응 경찰관들, 해임 불복 소청</a></div>\\n<div><a href=\"https://news.naver.com/main/list.naver?mode=LPOD&mid=sec&sid1=001&sid2=140&oid=001&isYeonhapFlash=Y&aid=0012903899\" class=\"issue\" data-clk=\"quickarticle\">\"김천 노인보호센터서 치매 할머니 집단폭행\" 주장…경찰 수사</a></div>\\n<div><a href=\"https://news.naver.com/main/list.naver?mode=LPOD&mid=sec&sid1=001&sid2=140&oid=001&isYeonhapFlash=Y&aid=0012903298\" class=\"issue\" data-clk=\"quickarticle\">스타벅스, 7년 6개월만에 음료가격 인상…\"원두가격 상승\"</a></div> </div> </div> <div class=\"direct_area\"> <a href=\"http://news.naver.com/\" class=\"link_news\" data-clk=\"newshome\">뉴스홈</a>\\n<a href=\"http://entertain.naver.com/home\" class=\"link_direct\" data-clk=\"entertainment\">연예</a>\\n<a href=\"http://sports.news.naver.com/\" class=\"link_direct\" data-clk=\"sports\">스포츠</a>\\n<a href=\"http://news.naver.com/main/main.nhn?mode=LSD&mid=shm&sid1=101\" class=\"link_direct\" data-clk=\"economy\">경제</a> </div> </div>        <div id=\"NM_NEWSSTAND_TITLE\" class=\"group_title\" data-clk-prefix=\"nsd\"> <a href=\"http://newsstand.naver.com/\" class=\"link_newsstand\" data-clk=\"title\" target=\"_blank\">뉴스스탠드</a> <div id=\"NM_NEWSSTAND_data_buttons\" class=\"sort_area\">  <a href=\"#\" role=\"button\" data-type=\"my\" data-clk=\"my\" class=\"btn_sort\">구독한 언론사</a> <a href=\"#\" role=\"button\" data-type=\"all\" data-clk=\"all\" class=\"btn_sort sort_on\">전체언론사</a>  </div> <div id=\"NM_NEWSSTAND_view_buttons\" class=\"set_area\">  <a href=\"#\" role=\"button\" data-type=\"list\" data-clk=\"articleview\" class=\"btn_set\"> <i class=\"ico_list\"><span class=\"blind\">리스트형</span></i></a> <a href=\"#\" role=\"button\" data-type=\"thumb\" data-clk=\"pressview\" class=\"btn_set set_on\"> <i class=\"ico_tile\"><span class=\"blind\">썸네일형</span></i></a>  <a href=\"http://newsstand.naver.com/config.html\" class=\"btn_set\" data-clk=\"set\" target=\"_blank\"> <i class=\"ico_set\"><span class=\"blind\">설정</span></i></a> </div> </div> <div id=\"NM_NEWSSTAND_VIEW_CONTAINER\" style=\"position:relative\"> <div id=\"NM_NEWSSTAND_DEFAULT_LIST\" class=\"group_news\" style=\"display:none\" data-clk-prefix=\"nsd_all\"> <a href=\"#\" role=\"button\" class=\"pm_btn_prev_l _NM_NEWSSTAND_LIST_prev_btn\" data-clk-custom=\"prev\"><i class=\"ico_btn\"><span class=\"blind\">이전</span></i></a> <a href=\"#\" role=\"button\" class=\"pm_btn_next_l _NM_NEWSSTAND_LIST_next_btn\" data-clk-custom=\"next\"><i class=\"ico_btn\"><span class=\"blind\">다음</span></i></a> <div class=\"list_view\"> <div class=\"option_area\"> <div class=\"list_option_wrap\"> <ul class=\"list_option\"> <li class=\"option_item\" data-cateid=\"ct2\"><a href=\"#\" class=\"option\" data-clk=\"daei\">종합/경제</a></li> <li class=\"option_item\" data-cateid=\"ct3\"><a href=\"#\" class=\"option\" data-clk=\"dtvcom\">방송/통신</a></li> <li class=\"option_item\" data-cateid=\"ct4\"><a href=\"#\" class=\"option\" data-clk=\"dit\">IT</a></li> <li class=\"option_item\" data-cateid=\"ct5\"><a href=\"#\" class=\"option\" data-clk=\"deng\">영자지</a></li> <li class=\"option_item\" data-cateid=\"ct6\"><a href=\"#\" class=\"option\" data-clk=\"dsporent\">스포츠/연예</a></li> <li class=\"option_item\" data-cateid=\"ct7\"><a href=\"#\" class=\"option\" data-clk=\"dmagtec\">매거진/전문지</a></li> <li class=\"option_item\" data-cateid=\"ct8\"><a href=\"#\" class=\"option\" data-clk=\"dloc\">지역</a></li> </ul> </div> </div> <div class=\"_NM_NEWSSTAND_ARTICLE_CONTAINER\" data-clk-sub=\"*a\"></div> </div> <div class=\"ly_popup NM_NEWSSTAND_POPUP NM_NEWSSTAND_invalid\" style=\"display:none\" data-clk-sub=\"*a\"> <a href=\"#\" role=\"button\" class=\"btn_close NM_NEWSSTAND_POPUP_CLOSE\"><i class=\"ico_close\"></i><span class=\"blind\">닫기</span></a> <p class=\"popup_msg\">해당 언론사 사정으로 접근이 제한됩니다.</p> <div class=\"popup_btn\"> <a href=\"#\" role=\"button\" class=\"btn_confirm NM_NEWSSTAND_POPUP_CLOSE\">확인</a> </div> </div> <div class=\"ly_popup NM_NEWSSTAND_POPUP NM_NEWSSTAND_undescribe_confirm\" style=\"display:none\" data-clk-sub=\"*a\"> <a href=\"#\" role=\"button\" class=\"btn_close NM_NEWSSTAND_POPUP_CLOSE\" data-clk=\"usclose\"><i class=\"ico_close\"></i><span class=\"blind\">닫기</span></a> <p class=\"popup_msg\"><strong class=\"NM_NEWSSTAND_POPUP_PNAME\"></strong>을(를)<br>구독해지 하시겠습니까?</p> <div class=\"popup_btn\"> <a href=\"#\" role=\"button\" class=\"btn_confirm NM_NEWSSTAND_POPUP_CONFIRM\" data-clk=\"usdone\">확인</a> <a href=\"#\" role=\"button\" class=\"btn_confirm NM_NEWSSTAND_POPUP_CLOSE\" data-clk=\"uscancel\">취소</a> </div> </div> <div class=\"ly_toast NM_NEWSSTAND_TOAST\" style=\"display:none\"> <p class=\"toast_msg\">구독한 언론사에 추가되었습니다.</p> </div> </div>   <div id=\"NM_NEWSSTAND_DEFAULT_THUMB\" class=\"group_news\" style=\"display:block\" data-clk-prefix=\"nsd_all\"> <a href=\"#\" role=\"button\" class=\"pm_btn_prev_l _NM_UI_PAGE_PREV\" data-clk-custom=\"prev\"><i class=\"ico_btn\"><span class=\"blind\">이전</span></i></a> <a href=\"#\" role=\"button\" class=\"pm_btn_next_l _NM_UI_PAGE_NEXT\" data-clk-custom=\"next\"><i class=\"ico_btn\"><span class=\"blind\">다음</span></i></a> <div class=\"_NM_UI_PAGE_CONTAINER\" style=\"height:100%;overflow:hidden\" data-clk-sub=\"*p\">   <div style=\"width: 750px; float: left;\">\\n<div class=\"tile_view\">\\n<div class=\"frame_area\">\\n<i class=\"line to_right1\"></i>\\n<i class=\"line to_right2\"></i>\\n<i class=\"line to_right3\"></i>\\n<i class=\"line to_bottom1\"></i>\\n<i class=\"line to_bottom2\"></i>\\n<i class=\"line to_bottom3\"></i>\\n<i class=\"line to_bottom4\"></i>\\n<i class=\"line to_bottom5\"></i>\\n</div>\\n<div class=\"thumb_area\">\\n<div\\nclass=\"thumb_box _NM_NEWSSTAND_THUMB _NM_NEWSSTAND_THUMB_press_valid\"\\ndata-pid=\"014\"\\n>\\n<a href=\"#\" class=\"thumb\">\\n<img\\nsrc=\"https://s.pstatic.net/static/newsstand/2020/logo/light/0604/014.png\"\\nheight=\"20\"\\nalt=\"파이낸셜뉴스\"\\nclass=\"news_logo\"\\n/>\\n<span class=\"thumb_dim\"></span\\n></a>\\n<div class=\"popup_wrap\">\\n<a\\nhref=\"#\"\\nrole=\"button\"\\nclass=\"btn_popup _NM_NEWSSTAND_THUMB_subscribe_press\"\\ndata-pid=\"014\"\\ndata-clk=\"sub\"\\n>구독</a\\n>\\n<a\\nhref=\"#\"\\nrole=\"button\"\\nclass=\"btn_popup _NM_NEWSSTAND_THUMB_unsubscribe_press\"\\ndata-pid=\"014\"\\ndata-clk=\"unsub\"\\n>해지</a\\n>\\n<a\\nhref=\"http://newsstand.naver.com/?list=&pcode=014\"\\ntarget=\"_blank\"\\nclass=\"btn_popup\"\\ndata-clk=\"logo\"\\ndata-pid=\"014\"\\n>기사보기</a\\n>\\n</div>\\n</div>\\n<div\\nclass=\"thumb_box _NM_NEWSSTAND_THUMB _NM_NEWSSTAND_THUMB_press_valid\"\\ndata-pid=\"015\"\\n>\\n<a href=\"#\" class=\"thumb\">\\n<img\\nsrc=\"https://s.pstatic.net/static/newsstand/2020/logo/light/0604/015.png\"\\nheight=\"20\"\\nalt=\"한국경제\"\\nclass=\"news_logo\"\\n/>\\n<span class=\"thumb_dim\"></span\\n></a>\\n<div class=\"popup_wrap\">\\n<a\\nhref=\"#\"\\nrole=\"button\"\\nclass=\"btn_popup _NM_NEWSSTAND_THUMB_subscribe_press\"\\ndata-pid=\"015\"\\ndata-clk=\"sub\"\\n>구독</a\\n>\\n<a\\nhref=\"#\"\\nrole=\"button\"\\nclass=\"btn_popup _NM_NEWSSTAND_THUMB_unsubscribe_press\"\\ndata-pid=\"015\"\\ndata-clk=\"unsub\"\\n>해지</a\\n>\\n<a\\nhref=\"http://newsstand.naver.com/?list=&pcode=015\"\\ntarget=\"_blank\"\\nclass=\"btn_popup\"\\ndata-clk=\"logo\"\\ndata-pid=\"015\"\\n>기사보기</a\\n>\\n</div>\\n</div>\\n<div\\nclass=\"thumb_box _NM_NEWSSTAND_THUMB _NM_NEWSSTAND_THUMB_press_valid\"\\ndata-pid=\"016\"\\n>\\n<a href=\"#\" class=\"thumb\">\\n<img\\nsrc=\"https://s.pstatic.net/static/newsstand/2020/logo/light/0604/016.png\"\\nheight=\"20\"\\nalt=\"헤럴드경제\"\\nclass=\"news_logo\"\\n/>\\n<span class=\"thumb_dim\"></span\\n></a>\\n<div class=\"popup_wrap\">\\n<a\\nhref=\"#\"\\nrole=\"button\"\\nclass=\"btn_popup _NM_NEWSSTAND_THUMB_subscribe_press\"\\ndata-pid=\"016\"\\ndata-clk=\"sub\"\\n>구독</a\\n>\\n<a\\nhref=\"#\"\\nrole=\"button\"\\nclass=\"btn_popup _NM_NEWSSTAND_THUMB_unsubscribe_press\"\\ndata-pid=\"016\"\\ndata-clk=\"unsub\"\\n>해지</a\\n>\\n<a\\nhref=\"http://newsstand.naver.com/?list=&pcode=016\"\\ntarget=\"_blank\"\\nclass=\"btn_popup\"\\ndata-clk=\"logo\"\\ndata-pid=\"016\"\\n>기사보기</a\\n>\\n</div>\\n</div>\\n<div\\nclass=\"thumb_box _NM_NEWSSTAND_THUMB _NM_NEWSSTAND_THUMB_press_invalid\"\\ndata-pid=\"376\"\\n>\\n<a href=\"#\" class=\"thumb\" aria-disabled=\"true\">\\n<img\\nsrc=\"https://s.pstatic.net/static/newsstand/2020/logo/light/0604/376.png\"\\nheight=\"20\"\\nalt=\"지지통신\"\\nclass=\"news_logo\"\\n/>\\n<span class=\"thumb_dim\"></span>\\n</a>\\n</div>\\n<div\\nclass=\"thumb_box _NM_NEWSSTAND_THUMB _NM_NEWSSTAND_THUMB_press_valid\"\\ndata-pid=\"057\"\\n>\\n<a href=\"#\" class=\"thumb\">\\n<img\\nsrc=\"https://s.pstatic.net/static/newsstand/2020/logo/light/0604/057.png\"\\nheight=\"20\"\\nalt=\"MBN\"\\nclass=\"news_logo\"\\n/>\\n<span class=\"thumb_dim\"></span\\n></a>\\n<div class=\"popup_wrap\">\\n<a\\nhref=\"#\"\\nrole=\"button\"\\nclass=\"btn_popup _NM_NEWSSTAND_THUMB_subscribe_press\"\\ndata-pid=\"057\"\\ndata-clk=\"sub\"\\n>구독</a\\n>\\n<a\\nhref=\"#\"\\nrole=\"button\"\\nclass=\"btn_popup _NM_NEWSSTAND_THUMB_unsubscribe_press\"\\ndata-pid=\"057\"\\ndata-clk=\"unsub\"\\n>해지</a\\n>\\n<a\\nhref=\"http://newsstand.naver.com/?list=&pcode=057\"\\ntarget=\"_blank\"\\nclass=\"btn_popup\"\\ndata-clk=\"logo\"\\ndata-pid=\"057\"\\n>기사보기</a\\n>\\n</div>\\n</div>\\n<div\\nclass=\"thumb_box _NM_NEWSSTAND_THUMB _NM_NEWSSTAND_THUMB_press_valid\"\\ndata-pid=\"020\"\\n>\\n<a href=\"#\" class=\"thumb\">\\n<img\\nsrc=\"https://s.pstatic.net/static/newsstand/2020/logo/light/0604/020.png\"\\nheight=\"20\"\\nalt=\"동아일보\"\\nclass=\"news_logo\"\\n/>\\n<span class=\"thumb_dim\"></span\\n></a>\\n<div class=\"popup_wrap\">\\n<a\\nhref=\"#\"\\nrole=\"button\"\\nclass=\"btn_popup _NM_NEWSSTAND_THUMB_subscribe_press\"\\ndata-pid=\"020\"\\ndata-clk=\"sub\"\\n>구독</a\\n>\\n<a\\nhref=\"#\"\\nrole=\"button\"\\nclass=\"btn_popup _NM_NEWSSTAND_THUMB_unsubscribe_press\"\\ndata-pid=\"020\"\\ndata-clk=\"unsub\"\\n>해지</a\\n>\\n<a\\nhref=\"http://newsstand.naver.com/?list=&pcode=020\"\\ntarget=\"_blank\"\\nclass=\"btn_popup\"\\ndata-clk=\"logo\"\\ndata-pid=\"020\"\\n>기사보기</a\\n>\\n</div>\\n</div>\\n<div\\nclass=\"thumb_box _NM_NEWSSTAND_THUMB _NM_NEWSSTAND_THUMB_press_valid\"\\ndata-pid=\"005\"\\n>\\n<a href=\"#\" class=\"thumb\">\\n<img\\nsrc=\"https://s.pstatic.net/static/newsstand/2020/logo/light/0604/005.png\"\\nheight=\"20\"\\nalt=\"국민일보\"\\nclass=\"news_logo\"\\n/>\\n<span class=\"thumb_dim\"></span\\n></a>\\n<div class=\"popup_wrap\">\\n<a\\nhref=\"#\"\\nrole=\"button\"\\nclass=\"btn_popup _NM_NEWSSTAND_THUMB_subscribe_press\"\\ndata-pid=\"005\"\\ndata-clk=\"sub\"\\n>구독</a\\n>\\n<a\\nhref=\"#\"\\nrole=\"button\"\\nclass=\"btn_popup _NM_NEWSSTAND_THUMB_unsubscribe_press\"\\ndata-pid=\"005\"\\ndata-clk=\"unsub\"\\n>해지</a\\n>\\n<a\\nhref=\"http://newsstand.naver.com/?list=&pcode=005\"\\ntarget=\"_blank\"\\nclass=\"btn_popup\"\\ndata-clk=\"logo\"\\ndata-pid=\"005\"\\n>기사보기</a\\n>\\n</div>\\n</div>\\n<div\\nclass=\"thumb_box _NM_NEWSSTAND_THUMB _NM_NEWSSTAND_THUMB_press_valid\"\\ndata-pid=\"073\"\\n>\\n<a href=\"#\" class=\"thumb\">\\n<img\\nsrc=\"https://s.pstatic.net/static/newsstand/up/2020/0708/nsd94830278.png\"\\nheight=\"20\"\\nalt=\"스포츠서울\"\\nclass=\"news_logo\"\\n/>\\n<span class=\"thumb_dim\"></span\\n></a>\\n<div class=\"popup_wrap\">\\n<a\\nhref=\"#\"\\nrole=\"button\"\\nclass=\"btn_popup _NM_NEWSSTAND_THUMB_subscribe_press\"\\ndata-pid=\"073\"\\ndata-clk=\"sub\"\\n>구독</a\\n>\\n<a\\nhref=\"#\"\\nrole=\"button\"\\nclass=\"btn_popup _NM_NEWSSTAND_THUMB_unsubscribe_press\"\\ndata-pid=\"073\"\\ndata-clk=\"unsub\"\\n>해지</a\\n>\\n<a\\nhref=\"http://newsstand.naver.com/?list=&pcode=073\"\\ntarget=\"_blank\"\\nclass=\"btn_popup\"\\ndata-clk=\"logo\"\\ndata-pid=\"073\"\\n>기사보기</a\\n>\\n</div>\\n</div>\\n<div\\nclass=\"thumb_box _NM_NEWSSTAND_THUMB _NM_NEWSSTAND_THUMB_press_valid\"\\ndata-pid=\"293\"\\n>\\n<a href=\"#\" class=\"thumb\">\\n<img\\nsrc=\"https://s.pstatic.net/static/newsstand/2020/logo/light/0604/293.png\"\\nheight=\"20\"\\nalt=\"블로터\"\\nclass=\"news_logo\"\\n/>\\n<span class=\"thumb_dim\"></span\\n></a>\\n<div class=\"popup_wrap\">\\n<a\\nhref=\"#\"\\nrole=\"button\"\\nclass=\"btn_popup _NM_NEWSSTAND_THUMB_subscribe_press\"\\ndata-pid=\"293\"\\ndata-clk=\"sub\"\\n>구독</a\\n>\\n<a\\nhref=\"#\"\\nrole=\"button\"\\nclass=\"btn_popup _NM_NEWSSTAND_THUMB_unsubscribe_press\"\\ndata-pid=\"293\"\\ndata-clk=\"unsub\"\\n>해지</a\\n>\\n<a\\nhref=\"http://newsstand.naver.com/?list=&pcode=293\"\\ntarget=\"_blank\"\\nclass=\"btn_popup\"\\ndata-clk=\"logo\"\\ndata-pid=\"293\"\\n>기사보기</a\\n>\\n</div>\\n</div>\\n<div\\nclass=\"thumb_box _NM_NEWSSTAND_THUMB _NM_NEWSSTAND_THUMB_press_valid\"\\ndata-pid=\"117\"\\n>\\n<a href=\"#\" class=\"thumb\">\\n<img\\nsrc=\"https://s.pstatic.net/static/newsstand/2020/logo/light/0604/117.png\"\\nheight=\"20\"\\nalt=\"마이데일리\"\\nclass=\"news_logo\"\\n/>\\n<span class=\"thumb_dim\"></span\\n></a>\\n<div class=\"popup_wrap\">\\n<a\\nhref=\"#\"\\nrole=\"button\"\\nclass=\"btn_popup _NM_NEWSSTAND_THUMB_subscribe_press\"\\ndata-pid=\"117\"\\ndata-clk=\"sub\"\\n>구독</a\\n>\\n<a\\nhref=\"#\"\\nrole=\"button\"\\nclass=\"btn_popup _NM_NEWSSTAND_THUMB_unsubscribe_press\"\\ndata-pid=\"117\"\\ndata-clk=\"unsub\"\\n>해지</a\\n>\\n<a\\nhref=\"http://newsstand.naver.com/?list=&pcode=117\"\\ntarget=\"_blank\"\\nclass=\"btn_popup\"\\ndata-clk=\"logo\"\\ndata-pid=\"117\"\\n>기사보기</a\\n>\\n</div>\\n</div>\\n<div\\nclass=\"thumb_box _NM_NEWSSTAND_THUMB _NM_NEWSSTAND_THUMB_press_valid\"\\ndata-pid=\"006\"\\n>\\n<a href=\"#\" class=\"thumb\">\\n<img\\nsrc=\"https://s.pstatic.net/static/newsstand/2020/logo/light/0604/006.png\"\\nheight=\"20\"\\nalt=\"미디어오늘\"\\nclass=\"news_logo\"\\n/>\\n<span class=\"thumb_dim\"></span\\n></a>\\n<div class=\"popup_wrap\">\\n<a\\nhref=\"#\"\\nrole=\"button\"\\nclass=\"btn_popup _NM_NEWSSTAND_THUMB_subscribe_press\"\\ndata-pid=\"006\"\\ndata-clk=\"sub\"\\n>구독</a\\n>\\n<a\\nhref=\"#\"\\nrole=\"button\"\\nclass=\"btn_popup _NM_NEWSSTAND_THUMB_unsubscribe_press\"\\ndata-pid=\"006\"\\ndata-clk=\"unsub\"\\n>해지</a\\n>\\n<a\\nhref=\"http://newsstand.naver.com/?list=&pcode=006\"\\ntarget=\"_blank\"\\nclass=\"btn_popup\"\\ndata-clk=\"logo\"\\ndata-pid=\"006\"\\n>기사보기</a\\n>\\n</div>\\n</div>\\n<div\\nclass=\"thumb_box _NM_NEWSSTAND_THUMB _NM_NEWSSTAND_THUMB_press_valid\"\\ndata-pid=\"326\"\\n>\\n<a href=\"#\" class=\"thumb\">\\n<img\\nsrc=\"https://s.pstatic.net/static/newsstand/2020/logo/light/0604/326.png\"\\nheight=\"20\"\\nalt=\"KBS World\"\\nclass=\"news_logo\"\\n/>\\n<span class=\"thumb_dim\"></span\\n></a>\\n<div class=\"popup_wrap\">\\n<a\\nhref=\"#\"\\nrole=\"button\"\\nclass=\"btn_popup _NM_NEWSSTAND_THUMB_subscribe_press\"\\ndata-pid=\"326\"\\ndata-clk=\"sub\"\\n>구독</a\\n>\\n<a\\nhref=\"#\"\\nrole=\"button\"\\nclass=\"btn_popup _NM_NEWSSTAND_THUMB_unsubscribe_press\"\\ndata-pid=\"326\"\\ndata-clk=\"unsub\"\\n>해지</a\\n>\\n<a\\nhref=\"http://newsstand.naver.com/?list=&pcode=326\"\\ntarget=\"_blank\"\\nclass=\"btn_popup\"\\ndata-clk=\"logo\"\\ndata-pid=\"326\"\\n>기사보기</a\\n>\\n</div>\\n</div>\\n<div\\nclass=\"thumb_box _NM_NEWSSTAND_THUMB _NM_NEWSSTAND_THUMB_press_valid\"\\ndata-pid=\"368\"\\n>\\n<a href=\"#\" class=\"thumb\">\\n<img\\nsrc=\"https://s.pstatic.net/static/newsstand/2020/logo/light/0604/368.png\"\\nheight=\"20\"\\nalt=\"데일리안\"\\nclass=\"news_logo\"\\n/>\\n<span class=\"thumb_dim\"></span\\n></a>\\n<div class=\"popup_wrap\">\\n<a\\nhref=\"#\"\\nrole=\"button\"\\nclass=\"btn_popup _NM_NEWSSTAND_THUMB_subscribe_press\"\\ndata-pid=\"368\"\\ndata-clk=\"sub\"\\n>구독</a\\n>\\n<a\\nhref=\"#\"\\nrole=\"button\"\\nclass=\"btn_popup _NM_NEWSSTAND_THUMB_unsubscribe_press\"\\ndata-pid=\"368\"\\ndata-clk=\"unsub\"\\n>해지</a\\n>\\n<a\\nhref=\"http://newsstand.naver.com/?list=&pcode=368\"\\ntarget=\"_blank\"\\nclass=\"btn_popup\"\\ndata-clk=\"logo\"\\ndata-pid=\"368\"\\n>기사보기</a\\n>\\n</div>\\n</div>\\n<div\\nclass=\"thumb_box _NM_NEWSSTAND_THUMB _NM_NEWSSTAND_THUMB_press_valid\"\\ndata-pid=\"031\"\\n>\\n<a href=\"#\" class=\"thumb\">\\n<img\\nsrc=\"https://s.pstatic.net/static/newsstand/2020/logo/light/0604/031.png\"\\nheight=\"20\"\\nalt=\"아이뉴스24\"\\nclass=\"news_logo\"\\n/>\\n<span class=\"thumb_dim\"></span\\n></a>\\n<div class=\"popup_wrap\">\\n<a\\nhref=\"#\"\\nrole=\"button\"\\nclass=\"btn_popup _NM_NEWSSTAND_THUMB_subscribe_press\"\\ndata-pid=\"031\"\\ndata-clk=\"sub\"\\n>구독</a\\n>\\n<a\\nhref=\"#\"\\nrole=\"button\"\\nclass=\"btn_popup _NM_NEWSSTAND_THUMB_unsubscribe_press\"\\ndata-pid=\"031\"\\ndata-clk=\"unsub\"\\n>해지</a\\n>\\n<a\\nhref=\"http://newsstand.naver.com/?list=&pcode=031\"\\ntarget=\"_blank\"\\nclass=\"btn_popup\"\\ndata-clk=\"logo\"\\ndata-pid=\"031\"\\n>기사보기</a\\n>\\n</div>\\n</div>\\n<div\\nclass=\"thumb_box _NM_NEWSSTAND_THUMB _NM_NEWSSTAND_THUMB_press_valid\"\\ndata-pid=\"044\"\\n>\\n<a href=\"#\" class=\"thumb\">\\n<img\\nsrc=\"https://s.pstatic.net/static/newsstand/2020/logo/light/0604/044.png\"\\nheight=\"20\"\\nalt=\"코리아헤럴드\"\\nclass=\"news_logo\"\\n/>\\n<span class=\"thumb_dim\"></span\\n></a>\\n<div class=\"popup_wrap\">\\n<a\\nhref=\"#\"\\nrole=\"button\"\\nclass=\"btn_popup _NM_NEWSSTAND_THUMB_subscribe_press\"\\ndata-pid=\"044\"\\ndata-clk=\"sub\"\\n>구독</a\\n>\\n<a\\nhref=\"#\"\\nrole=\"button\"\\nclass=\"btn_popup _NM_NEWSSTAND_THUMB_unsubscribe_press\"\\ndata-pid=\"044\"\\ndata-clk=\"unsub\"\\n>해지</a\\n>\\n<a\\nhref=\"http://newsstand.naver.com/?list=&pcode=044\"\\ntarget=\"_blank\"\\nclass=\"btn_popup\"\\ndata-clk=\"logo\"\\ndata-pid=\"044\"\\n>기사보기</a\\n>\\n</div>\\n</div>\\n<div\\nclass=\"thumb_box _NM_NEWSSTAND_THUMB _NM_NEWSSTAND_THUMB_press_valid\"\\ndata-pid=\"970\"\\n>\\n<a href=\"#\" class=\"thumb\">\\n<img\\nsrc=\"https://s.pstatic.net/static/newsstand/2020/logo/light/0604/970.png\"\\nheight=\"20\"\\nalt=\"소비자가만드는신문\"\\nclass=\"news_logo\"\\n/>\\n<span class=\"thumb_dim\"></span\\n></a>\\n<div class=\"popup_wrap\">\\n<a\\nhref=\"#\"\\nrole=\"button\"\\nclass=\"btn_popup _NM_NEWSSTAND_THUMB_subscribe_press\"\\ndata-pid=\"970\"\\ndata-clk=\"sub\"\\n>구독</a\\n>\\n<a\\nhref=\"#\"\\nrole=\"button\"\\nclass=\"btn_popup _NM_NEWSSTAND_THUMB_unsubscribe_press\"\\ndata-pid=\"970\"\\ndata-clk=\"unsub\"\\n>해지</a\\n>\\n<a\\nhref=\"http://newsstand.naver.com/?list=&pcode=970\"\\ntarget=\"_blank\"\\nclass=\"btn_popup\"\\ndata-clk=\"logo\"\\ndata-pid=\"970\"\\n>기사보기</a\\n>\\n</div>\\n</div>\\n<div\\nclass=\"thumb_box _NM_NEWSSTAND_THUMB _NM_NEWSSTAND_THUMB_press_valid\"\\ndata-pid=\"928\"\\n>\\n<a href=\"#\" class=\"thumb\">\\n<img\\nsrc=\"https://s.pstatic.net/static/newsstand/2020/logo/light/0604/928.png\"\\nheight=\"20\"\\nalt=\"컴퓨터월드\"\\nclass=\"news_logo\"\\n/>\\n<span class=\"thumb_dim\"></span\\n></a>\\n<div class=\"popup_wrap\">\\n<a\\nhref=\"#\"\\nrole=\"button\"\\nclass=\"btn_popup _NM_NEWSSTAND_THUMB_subscribe_press\"\\ndata-pid=\"928\"\\ndata-clk=\"sub\"\\n>구독</a\\n>\\n<a\\nhref=\"#\"\\nrole=\"button\"\\nclass=\"btn_popup _NM_NEWSSTAND_THUMB_unsubscribe_press\"\\ndata-pid=\"928\"\\ndata-clk=\"unsub\"\\n>해지</a\\n>\\n<a\\nhref=\"http://newsstand.naver.com/?list=&pcode=928\"\\ntarget=\"_blank\"\\nclass=\"btn_popup\"\\ndata-clk=\"logo\"\\ndata-pid=\"928\"\\n>기사보기</a\\n>\\n</div>\\n</div>\\n<div\\nclass=\"thumb_box _NM_NEWSSTAND_THUMB _NM_NEWSSTAND_THUMB_press_valid\"\\ndata-pid=\"123\"\\n>\\n<a href=\"#\" class=\"thumb\">\\n<img\\nsrc=\"https://s.pstatic.net/static/newsstand/2020/logo/light/0604/123.png\"\\nheight=\"20\"\\nalt=\"조세일보\"\\nclass=\"news_logo\"\\n/>\\n<span class=\"thumb_dim\"></span\\n></a>\\n<div class=\"popup_wrap\">\\n<a\\nhref=\"#\"\\nrole=\"button\"\\nclass=\"btn_popup _NM_NEWSSTAND_THUMB_subscribe_press\"\\ndata-pid=\"123\"\\ndata-clk=\"sub\"\\n>구독</a\\n>\\n<a\\nhref=\"#\"\\nrole=\"button\"\\nclass=\"btn_popup _NM_NEWSSTAND_THUMB_unsubscribe_press\"\\ndata-pid=\"123\"\\ndata-clk=\"unsub\"\\n>해지</a\\n>\\n<a\\nhref=\"http://newsstand.naver.com/?list=&pcode=123\"\\ntarget=\"_blank\"\\nclass=\"btn_popup\"\\ndata-clk=\"logo\"\\ndata-pid=\"123\"\\n>기사보기</a\\n>\\n</div>\\n</div>\\n<div\\nclass=\"thumb_box _NM_NEWSSTAND_THUMB _NM_NEWSSTAND_THUMB_press_valid\"\\ndata-pid=\"822\"\\n>\\n<a href=\"#\" class=\"thumb\">\\n<img\\nsrc=\"https://s.pstatic.net/static/newsstand/up/2020/0730/nsd13728808.png\"\\nheight=\"20\"\\nalt=\"프라임경제\"\\nclass=\"news_logo\"\\n/>\\n<span class=\"thumb_dim\"></span\\n></a>\\n<div class=\"popup_wrap\">\\n<a\\nhref=\"#\"\\nrole=\"button\"\\nclass=\"btn_popup _NM_NEWSSTAND_THUMB_subscribe_press\"\\ndata-pid=\"822\"\\ndata-clk=\"sub\"\\n>구독</a\\n>\\n<a\\nhref=\"#\"\\nrole=\"button\"\\nclass=\"btn_popup _NM_NEWSSTAND_THUMB_unsubscribe_press\"\\ndata-pid=\"822\"\\ndata-clk=\"unsub\"\\n>해지</a\\n>\\n<a\\nhref=\"http://newsstand.naver.com/?list=&pcode=822\"\\ntarget=\"_blank\"\\nclass=\"btn_popup\"\\ndata-clk=\"logo\"\\ndata-pid=\"822\"\\n>기사보기</a\\n>\\n</div>\\n</div>\\n<div\\nclass=\"thumb_box _NM_NEWSSTAND_THUMB _NM_NEWSSTAND_THUMB_press_valid\"\\ndata-pid=\"296\"\\n>\\n<a href=\"#\" class=\"thumb\">\\n<img\\nsrc=\"https://s.pstatic.net/static/newsstand/2020/logo/light/0604/296.png\"\\nheight=\"20\"\\nalt=\"코메디닷컴\"\\nclass=\"news_logo\"\\n/>\\n<span class=\"thumb_dim\"></span\\n></a>\\n<div class=\"popup_wrap\">\\n<a\\nhref=\"#\"\\nrole=\"button\"\\nclass=\"btn_popup _NM_NEWSSTAND_THUMB_subscribe_press\"\\ndata-pid=\"296\"\\ndata-clk=\"sub\"\\n>구독</a\\n>\\n<a\\nhref=\"#\"\\nrole=\"button\"\\nclass=\"btn_popup _NM_NEWSSTAND_THUMB_unsubscribe_press\"\\ndata-pid=\"296\"\\ndata-clk=\"unsub\"\\n>해지</a\\n>\\n<a\\nhref=\"http://newsstand.naver.com/?list=&pcode=296\"\\ntarget=\"_blank\"\\nclass=\"btn_popup\"\\ndata-clk=\"logo\"\\ndata-pid=\"296\"\\n>기사보기</a\\n>\\n</div>\\n</div>\\n<div\\nclass=\"thumb_box _NM_NEWSSTAND_THUMB _NM_NEWSSTAND_THUMB_press_valid\"\\ndata-pid=\"914\"\\n>\\n<a href=\"#\" class=\"thumb\">\\n<img\\nsrc=\"https://s.pstatic.net/static/newsstand/2020/logo/light/0604/914.png\"\\nheight=\"20\"\\nalt=\"뉴스핌\"\\nclass=\"news_logo\"\\n/>\\n<span class=\"thumb_dim\"></span\\n></a>\\n<div class=\"popup_wrap\">\\n<a\\nhref=\"#\"\\nrole=\"button\"\\nclass=\"btn_popup _NM_NEWSSTAND_THUMB_subscribe_press\"\\ndata-pid=\"914\"\\ndata-clk=\"sub\"\\n>구독</a\\n>\\n<a\\nhref=\"#\"\\nrole=\"button\"\\nclass=\"btn_popup _NM_NEWSSTAND_THUMB_unsubscribe_press\"\\ndata-pid=\"914\"\\ndata-clk=\"unsub\"\\n>해지</a\\n>\\n<a\\nhref=\"http://newsstand.naver.com/?list=&pcode=914\"\\ntarget=\"_blank\"\\nclass=\"btn_popup\"\\ndata-clk=\"logo\"\\ndata-pid=\"914\"\\n>기사보기</a\\n>\\n</div>\\n</div>\\n<div\\nclass=\"thumb_box _NM_NEWSSTAND_THUMB _NM_NEWSSTAND_THUMB_press_valid\"\\ndata-pid=\"108\"\\n>\\n<a href=\"#\" class=\"thumb\">\\n<img\\nsrc=\"https://s.pstatic.net/static/newsstand/2020/logo/light/0604/108.png\"\\nheight=\"20\"\\nalt=\"스타뉴스\"\\nclass=\"news_logo\"\\n/>\\n<span class=\"thumb_dim\"></span\\n></a>\\n<div class=\"popup_wrap\">\\n<a\\nhref=\"#\"\\nrole=\"button\"\\nclass=\"btn_popup _NM_NEWSSTAND_THUMB_subscribe_press\"\\ndata-pid=\"108\"\\ndata-clk=\"sub\"\\n>구독</a\\n>\\n<a\\nhref=\"#\"\\nrole=\"button\"\\nclass=\"btn_popup _NM_NEWSSTAND_THUMB_unsubscribe_press\"\\ndata-pid=\"108\"\\ndata-clk=\"unsub\"\\n>해지</a\\n>\\n<a\\nhref=\"http://newsstand.naver.com/?list=&pcode=108\"\\ntarget=\"_blank\"\\nclass=\"btn_popup\"\\ndata-clk=\"logo\"\\ndata-pid=\"108\"\\n>기사보기</a\\n>\\n</div>\\n</div>\\n<div\\nclass=\"thumb_box _NM_NEWSSTAND_THUMB _NM_NEWSSTAND_THUMB_press_valid\"\\ndata-pid=\"807\"\\n>\\n<a href=\"#\" class=\"thumb\">\\n<img\\nsrc=\"https://s.pstatic.net/static/newsstand/2020/logo/light/0604/807.png\"\\nheight=\"20\"\\nalt=\"인사이트코리아\"\\nclass=\"news_logo\"\\n/>\\n<span class=\"thumb_dim\"></span\\n></a>\\n<div class=\"popup_wrap\">\\n<a\\nhref=\"#\"\\nrole=\"button\"\\nclass=\"btn_popup _NM_NEWSSTAND_THUMB_subscribe_press\"\\ndata-pid=\"807\"\\ndata-clk=\"sub\"\\n>구독</a\\n>\\n<a\\nhref=\"#\"\\nrole=\"button\"\\nclass=\"btn_popup _NM_NEWSSTAND_THUMB_unsubscribe_press\"\\ndata-pid=\"807\"\\ndata-clk=\"unsub\"\\n>해지</a\\n>\\n<a\\nhref=\"http://newsstand.naver.com/?list=&pcode=807\"\\ntarget=\"_blank\"\\nclass=\"btn_popup\"\\ndata-clk=\"logo\"\\ndata-pid=\"807\"\\n>기사보기</a\\n>\\n</div>\\n</div>\\n<div\\nclass=\"thumb_box _NM_NEWSSTAND_THUMB _NM_NEWSSTAND_THUMB_press_valid\"\\ndata-pid=\"340\"\\n>\\n<a href=\"#\" class=\"thumb\">\\n<img\\nsrc=\"https://s.pstatic.net/static/newsstand/2020/logo/light/0604/340.png\"\\nheight=\"20\"\\nalt=\"OBS\"\\nclass=\"news_logo\"\\n/>\\n<span class=\"thumb_dim\"></span\\n></a>\\n<div class=\"popup_wrap\">\\n<a\\nhref=\"#\"\\nrole=\"button\"\\nclass=\"btn_popup _NM_NEWSSTAND_THUMB_subscribe_press\"\\ndata-pid=\"340\"\\ndata-clk=\"sub\"\\n>구독</a\\n>\\n<a\\nhref=\"#\"\\nrole=\"button\"\\nclass=\"btn_popup _NM_NEWSSTAND_THUMB_unsubscribe_press\"\\ndata-pid=\"340\"\\ndata-clk=\"unsub\"\\n>해지</a\\n>\\n<a\\nhref=\"http://newsstand.naver.com/?list=&pcode=340\"\\ntarget=\"_blank\"\\nclass=\"btn_popup\"\\ndata-clk=\"logo\"\\ndata-pid=\"340\"\\n>기사보기</a\\n>\\n</div>\\n</div>\\n</div>\\n</div>\\n</div>\\n  </div> <div class=\"ly_popup NM_NEWSSTAND_POPUP NM_NEWSSTAND_invalid\" style=\"display:none\"> <a href=\"#\" role=\"button\" class=\"btn_close NM_NEWSSTAND_POPUP_CLOSE\"><i class=\"ico_close\"></i><span class=\"blind\">닫기</span></a> <p class=\"popup_msg\">해당 언론사 사정으로 접근이 제한됩니다.</p> <div class=\"popup_btn\"> <a href=\"#\" role=\"button\" class=\"btn_confirm NM_NEWSSTAND_POPUP_CLOSE\">확인</a> </div> </div> <div class=\"ly_popup NM_NEWSSTAND_POPUP NM_NEWSSTAND_undescribe_confirm\" style=\"display:none\" data-clk-sub=\"*a\"> <a href=\"#\" role=\"button\" class=\"btn_close NM_NEWSSTAND_POPUP_CLOSE\" data-clk=\"usclose\"><i class=\"ico_close\"></i><span class=\"blind\">닫기</span></a> <p class=\"popup_msg\"><strong class=\"NM_NEWSSTAND_POPUP_PNAME\"></strong>을(를)<br/>구독해지 하시겠습니까?</p> <div class=\"popup_btn\"> <a href=\"#\" role=\"button\" class=\"btn_confirm NM_NEWSSTAND_POPUP_CONFIRM\" data-clk=\"usdone\">확인</a> <a href=\"#\" role=\"button\" class=\"btn_confirm NM_NEWSSTAND_POPUP_CLOSE\" data-clk=\"uscancel\">취소</a> </div> </div> <div class=\"ly_toast NM_NEWSSTAND_TOAST\" style=\"display:none\"> <p class=\"toast_msg\">구독한 언론사에 추가되었습니다.</p> </div> </div> <div id=\"NM_NEWSSTAND_MY_LIST\" class=\"group_news\" style=\"display:none\" data-clk-prefix=\"nsd_myn\"> <a href=\"#\" role=\"button\" class=\"pm_btn_prev_l _NM_NEWSSTAND_LIST_prev_btn\" data-clk-custom=\"prev\"><i class=\"ico_btn\"></i><span class=\"blind\">이전</span></a> <a href=\"#\" role=\"button\" class=\"pm_btn_next_l _NM_NEWSSTAND_LIST_next_btn\" data-clk-custom=\"next\"><i class=\"ico_btn\"></i><span class=\"blind\">다음</span><span class=\"blind\">다음</span></a> <div class=\"list_view\"> <div class=\"option_area\"> <div class=\"list_option_wrap\"> <ul class=\"list_option _NM_NEWSSTAND_MY_presslist\"> <!-- nvpaperlist:empty --> </ul> </div> </div> <div class=\"_NM_NEWSSTAND_ARTICLE_CONTAINER\" data-clk-sub=\"*a\">  </div> </div> <div class=\"ly_popup NM_NEWSSTAND_POPUP NM_NEWSSTAND_invalid\" style=\"display:none\"> <a href=\"#\" role=\"button\" class=\"btn_close NM_NEWSSTAND_POPUP_CLOSE\"><i class=\"ico_close\"></i><span class=\"blind\">닫기</span></a> <p class=\"popup_msg\">해당 언론사 사정으로 접근이 일시 제한됩니다.</p> <div class=\"popup_btn\"> <a href=\"#\" role=\"button\" class=\"btn_confirm NM_NEWSSTAND_POPUP_CLOSE\">확인</a> </div> </div> <div class=\"ly_popup NM_NEWSSTAND_POPUP NM_NEWSSTAND_undescribe_confirm\" style=\"display:none\" data-clk-sub=\"*a\"> <a href=\"#\" role=\"button\" class=\"btn_close NM_NEWSSTAND_POPUP_CLOSE\" data-clk=\"usclose\"><i class=\"ico_close\"></i><span class=\"blind\">닫기</span></a> <p class=\"popup_msg\"><strong class=\"NM_NEWSSTAND_POPUP_PNAME\"></strong>을(를)<br>구독해지 하시겠습니까?</p> <div class=\"popup_btn\"> <a href=\"#\" role=\"button\" class=\"btn_confirm NM_NEWSSTAND_POPUP_CONFIRM\" data-clk=\"usdone\">확인</a> <a href=\"#\" role=\"button\" class=\"btn_confirm NM_NEWSSTAND_POPUP_CLOSE\" data-clk=\"uscancel\">취소</a> </div> </div> </div> <div id=\"NM_NEWSSTAND_MY_THUMB\" class=\"group_news\" style=\"display:none\" data-clk-prefix=\"nsd_myn\"> <a href=\"#\" role=\"button\" class=\"pm_btn_prev_l _NM_UI_PAGE_PREV\" data-clk-custom=\"prev\"><i class=\"ico_btn\"><span class=\"blind\">이전</span></i></a> <a href=\"#\" role=\"button\" class=\"pm_btn_next_l _NM_UI_PAGE_NEXT\" data-clk-custom=\"next\"><i class=\"ico_btn\"><span class=\"blind\">다음</span></i></a> <div class=\"_NM_UI_PAGE_CONTAINER\" data-clk-sub=\"*p\"></div> <div class=\"ly_popup NM_NEWSSTAND_POPUP NM_NEWSSTAND_invalid\" style=\"display:none\"> <a href=\"#\" role=\"button\" class=\"btn_close NM_NEWSSTAND_POPUP_CLOSE\"><i class=\"ico_close\"></i><span class=\"blind\">닫기</span></a> <p class=\"popup_msg\">해당 언론사 사정으로 접근이 제한됩니다.</p> <div class=\"popup_btn\"> <a href=\"#\" role=\"button\" class=\"btn_confirm NM_NEWSSTAND_POPUP_CLOSE\">확인</a> </div> </div> <div class=\"ly_popup NM_NEWSSTAND_POPUP NM_NEWSSTAND_undescribe_confirm\" style=\"display:none\" data-clk-sub=\"*a\"> <a href=\"#\" role=\"button\" class=\"btn_close NM_NEWSSTAND_POPUP_CLOSE\" data-clk=\"usclose\"><i class=\"ico_close\"></i><span class=\"blind\">닫기</span></a> <p class=\"popup_msg\"><strong class=\"NM_NEWSSTAND_POPUP_PNAME\"></strong>을(를)<br>구독해지 하시겠습니까?</p> <div class=\"popup_btn\"> <a href=\"#\" role=\"button\" class=\"btn_confirm NM_NEWSSTAND_POPUP_CONFIRM\" data-clk=\"usdone\">확인</a> <a href=\"#\" role=\"button\" class=\"btn_confirm NM_NEWSSTAND_POPUP_CLOSE\" data-clk=\"uscancel\">취소</a> </div> </div> </div> <div id=\"NM_NEWSSTAND_MY_EMPTY\" class=\"group_news\" style=\"display:none\"> <div class=\"error_view\"> <div class=\"error_area\"> <strong class=\"error_msg\">구독한 언론사가 없습니다.</strong> <p class=\"dsc_msg\">언론사 구독 설정에서 관심있는 언론사를 구독하시면<br>언론사가 직접 편집한 뉴스들을 네이버 홈에서 바로 보실 수 있습니다.</p> <a href=\"http://newsstand.naver.com/config.html\" class=\"link_redirect\" target=\"_blank\">언론사 구독 설정하기</a> </div> </div> </div> </div> </div> <!-- EMPTY --> <div id=\"NM_THEMECAST_CONTENTS_CONTAINER\"> <div id=\"themecast\" class=\"sc_themecast id_myfeed\" data-fixed=\"MYFEED\">\\n\\t<h2 class=\"blind\">주제별 캐스트</h2>\\n\\t<div class=\"theme_head\">\\n\\t\\t<div class=\"group_title\">\\n\\t<div class=\"title_area\">\\n\\t\\t<strong class=\"title\">오늘 읽을만한 글</strong><span class=\"dsc\">주제별로 분류된 다양한 글 모음</span>\\n\\t</div>\\n\\t<div class=\"info_area\">\\n\\t\\t\\n\\t\\t\\t<span class=\"info\"><strong class=\"new\">967</strong> 개의 글</span>\\n\\t\\t\\n\\t\\t<a id=\"NM_THEME_EDIT_SET\" href=\"#\" role=\"button\" class=\"btn_set\" data-clk=\"tca.like\">관심주제 설정</a>\\n\\t</div>\\n</div>\\n<div id=\"NM_THEME_CATE_GROUPS\" class=\"group_category\" data-demo-key=\"default\">\\n\\t<div class=\"main_category\">\\n\\t\\t<a href=\"#\" role=\"button\" class=\"pm_btn_prev NM_THEME_PREV\" data-clk=\"tct.prev\" style=\"display: none;\">\\n\\t\\t\\t<i class=\"ico_btn\"><span class=\"blind\">이전</span></i>\\n\\t\\t</a>\\n\\t\\t<a href=\"#\" role=\"button\" class=\"pm_btn_next NM_THEME_NEXT\" data-clk=\"tct.next\" style=\"display: none;\">\\n\\t\\t\\t<i class=\"ico_btn\"><span class=\"blind\">다음</span></i>\\n\\t\\t</a>\\n\\t\\t<div id=\"NM_THEME_CATE_FLICK\" class=\"_NM_UI_PAGE_CONTAINER\" style=\"height: 49px; overflow: hidden;\">\\n\\t\\t\\t\\n\\t\\t\\t\\t<div style=\"width: 750px;\">\\n\\t\\t\\t\\t\\t<ul class=\"list_category\" role=\"tablist\">\\n\\t\\t\\t\\t\\t\\t\\n\\t\\t\\t\\t\\t\\t\\t<li class=\"category_item\" role=\"presentation\">\\n\\t\\t\\t\\t\\t\\t\\t\\t\\n\\t\\t\\t\\t\\t\\t\\t\\t\\n\\t\\t\\t\\t\\t\\t\\t\\t<a href=\"#\" role=\"tab\" class=\"_NM_THEME_CATE tab id_enter\"\\n\\t\\t\\t\\t\\t\\t\\t\\t   aria-selected=\"false\"\\n\\t\\t\\t\\t\\t\\t\\t\\t   data-clk=\"tct.tvc\" data-panel-code=\"ENTER\">엔터</a>\\n\\t\\t\\t\\t\\t\\t\\t</li>\\n\\t\\t\\t\\t\\t\\t\\n\\t\\t\\t\\t\\t\\t\\t<li class=\"category_item\" role=\"presentation\">\\n\\t\\t\\t\\t\\t\\t\\t\\t\\n\\t\\t\\t\\t\\t\\t\\t\\t\\n\\t\\t\\t\\t\\t\\t\\t\\t<a href=\"#\" role=\"tab\" class=\"_NM_THEME_CATE tab id_sports\"\\n\\t\\t\\t\\t\\t\\t\\t\\t   aria-selected=\"false\"\\n\\t\\t\\t\\t\\t\\t\\t\\t   data-clk=\"tct.spo\" data-panel-code=\"SPORTS\">스포츠</a>\\n\\t\\t\\t\\t\\t\\t\\t</li>\\n\\t\\t\\t\\t\\t\\t\\n\\t\\t\\t\\t\\t\\t\\t<li class=\"category_item\" role=\"presentation\">\\n\\t\\t\\t\\t\\t\\t\\t\\t\\n\\t\\t\\t\\t\\t\\t\\t\\t\\n\\t\\t\\t\\t\\t\\t\\t\\t<a href=\"#\" role=\"tab\" class=\"_NM_THEME_CATE tab id_cargame\"\\n\\t\\t\\t\\t\\t\\t\\t\\t   aria-selected=\"false\"\\n\\t\\t\\t\\t\\t\\t\\t\\t   data-clk=\"tct.aut\" data-panel-code=\"CARGAME\">자동차</a>\\n\\t\\t\\t\\t\\t\\t\\t</li>\\n\\t\\t\\t\\t\\t\\t\\n\\t\\t\\t\\t\\t\\t\\t<li class=\"category_item\" role=\"presentation\">\\n\\t\\t\\t\\t\\t\\t\\t\\t\\n\\t\\t\\t\\t\\t\\t\\t\\t\\n\\t\\t\\t\\t\\t\\t\\t\\t<a href=\"#\" role=\"tab\" class=\"_NM_THEME_CATE tab id_bboom\"\\n\\t\\t\\t\\t\\t\\t\\t\\t   aria-selected=\"false\"\\n\\t\\t\\t\\t\\t\\t\\t\\t   data-clk=\"tct.web\" data-panel-code=\"BBOOM\">웹툰</a>\\n\\t\\t\\t\\t\\t\\t\\t</li>\\n\\t\\t\\t\\t\\t\\t\\n\\t\\t\\t\\t\\t\\t\\t<li class=\"category_item\" role=\"presentation\">\\n\\t\\t\\t\\t\\t\\t\\t\\t\\n\\t\\t\\t\\t\\t\\t\\t\\t\\n\\t\\t\\t\\t\\t\\t\\t\\t<a href=\"#\" role=\"tab\" class=\"_NM_THEME_CATE tab id_finance\"\\n\\t\\t\\t\\t\\t\\t\\t\\t   aria-selected=\"false\"\\n\\t\\t\\t\\t\\t\\t\\t\\t   data-clk=\"tct.fin\" data-panel-code=\"FINANCE\">경제M</a>\\n\\t\\t\\t\\t\\t\\t\\t</li>\\n\\t\\t\\t\\t\\t\\t\\n\\t\\t\\t\\t\\t\\t\\t<li class=\"category_item\" role=\"presentation\">\\n\\t\\t\\t\\t\\t\\t\\t\\t\\n\\t\\t\\t\\t\\t\\t\\t\\t\\n\\t\\t\\t\\t\\t\\t\\t\\t<a href=\"#\" role=\"tab\" class=\"_NM_THEME_CATE tab id_myfeed\"\\n\\t\\t\\t\\t\\t\\t\\t\\t   aria-selected=\"true\"\\n\\t\\t\\t\\t\\t\\t\\t\\t   data-clk=\"tct.sub\" data-panel-code=\"MYFEED\">MY구독</a>\\n\\t\\t\\t\\t\\t\\t\\t</li>\\n\\t\\t\\t\\t\\t\\t\\n\\t\\t\\t\\t\\t\\t\\t<li class=\"category_item\" role=\"presentation\">\\n\\t\\t\\t\\t\\t\\t\\t\\t\\n\\t\\t\\t\\t\\t\\t\\t\\t\\n\\t\\t\\t\\t\\t\\t\\t\\t<a href=\"#\" role=\"tab\" class=\"_NM_THEME_CATE tab id_living\"\\n\\t\\t\\t\\t\\t\\t\\t\\t   aria-selected=\"false\"\\n\\t\\t\\t\\t\\t\\t\\t\\t   data-clk=\"tct.fod\" data-panel-code=\"LIVING\">레시피</a>\\n\\t\\t\\t\\t\\t\\t\\t</li>\\n\\t\\t\\t\\t\\t\\t\\n\\t\\t\\t\\t\\t\\t\\t<li class=\"category_item\" role=\"presentation\">\\n\\t\\t\\t\\t\\t\\t\\t\\t\\n\\t\\t\\t\\t\\t\\t\\t\\t\\n\\t\\t\\t\\t\\t\\t\\t\\t<a href=\"#\" role=\"tab\" class=\"_NM_THEME_CATE tab id_gameapp\"\\n\\t\\t\\t\\t\\t\\t\\t\\t   aria-selected=\"false\"\\n\\t\\t\\t\\t\\t\\t\\t\\t   data-clk=\"tct.gam\" data-panel-code=\"GAMEAPP\">게임</a>\\n\\t\\t\\t\\t\\t\\t\\t</li>\\n\\t\\t\\t\\t\\t\\t\\n\\t\\t\\t\\t\\t</ul>\\n\\t\\t\\t\\t</div>\\n\\t\\t\\t\\n\\t\\t\\t\\t<div style=\"width: 750px;\">\\n\\t\\t\\t\\t\\t<ul class=\"list_category\" role=\"tablist\">\\n\\t\\t\\t\\t\\t\\t\\n\\t\\t\\t\\t\\t\\t\\t<li class=\"category_item\" role=\"presentation\">\\n\\t\\t\\t\\t\\t\\t\\t\\t\\n\\t\\t\\t\\t\\t\\t\\t\\t\\n\\t\\t\\t\\t\\t\\t\\t\\t<a href=\"#\" role=\"tab\" class=\"_NM_THEME_CATE tab id_science\"\\n\\t\\t\\t\\t\\t\\t\\t\\t   aria-selected=\"false\"\\n\\t\\t\\t\\t\\t\\t\\t\\t   data-clk=\"tct.sci\" data-panel-code=\"SCIENCE\">과학</a>\\n\\t\\t\\t\\t\\t\\t\\t</li>\\n\\t\\t\\t\\t\\t\\t\\n\\t\\t\\t\\t\\t\\t\\t<li class=\"category_item\" role=\"presentation\">\\n\\t\\t\\t\\t\\t\\t\\t\\t\\n\\t\\t\\t\\t\\t\\t\\t\\t\\n\\t\\t\\t\\t\\t\\t\\t\\t<a href=\"#\" role=\"tab\" class=\"_NM_THEME_CATE tab id_livinghome\"\\n\\t\\t\\t\\t\\t\\t\\t\\t   aria-selected=\"false\"\\n\\t\\t\\t\\t\\t\\t\\t\\t   data-clk=\"tct.lif\" data-panel-code=\"LIVINGHOME\">리빙</a>\\n\\t\\t\\t\\t\\t\\t\\t</li>\\n\\t\\t\\t\\t\\t\\t\\n\\t\\t\\t\\t\\t\\t\\t<li class=\"category_item\" role=\"presentation\">\\n\\t\\t\\t\\t\\t\\t\\t\\t\\n\\t\\t\\t\\t\\t\\t\\t\\t\\n\\t\\t\\t\\t\\t\\t\\t\\t<a href=\"#\" role=\"tab\" class=\"_NM_THEME_CATE tab id_health\"\\n\\t\\t\\t\\t\\t\\t\\t\\t   aria-selected=\"false\"\\n\\t\\t\\t\\t\\t\\t\\t\\t   data-clk=\"tct.hea\" data-panel-code=\"HEALTH\">건강</a>\\n\\t\\t\\t\\t\\t\\t\\t</li>\\n\\t\\t\\t\\t\\t\\t\\n\\t\\t\\t\\t\\t\\t\\t<li class=\"category_item\" role=\"presentation\">\\n\\t\\t\\t\\t\\t\\t\\t\\t\\n\\t\\t\\t\\t\\t\\t\\t\\t\\n\\t\\t\\t\\t\\t\\t\\t\\t<a href=\"#\" role=\"tab\" class=\"_NM_THEME_CATE tab id_culture\"\\n\\t\\t\\t\\t\\t\\t\\t\\t   aria-selected=\"false\"\\n\\t\\t\\t\\t\\t\\t\\t\\t   data-clk=\"tct.bok\" data-panel-code=\"CULTURE\">책방</a>\\n\\t\\t\\t\\t\\t\\t\\t</li>\\n\\t\\t\\t\\t\\t\\t\\n\\t\\t\\t\\t\\t\\t\\t<li class=\"category_item\" role=\"presentation\">\\n\\t\\t\\t\\t\\t\\t\\t\\t\\n\\t\\t\\t\\t\\t\\t\\t\\t\\n\\t\\t\\t\\t\\t\\t\\t\\t<a href=\"#\" role=\"tab\" class=\"_NM_THEME_CATE tab id_momkids\"\\n\\t\\t\\t\\t\\t\\t\\t\\t   aria-selected=\"false\"\\n\\t\\t\\t\\t\\t\\t\\t\\t   data-clk=\"tct.mom\" data-panel-code=\"MOMKIDS\">부모i</a>\\n\\t\\t\\t\\t\\t\\t\\t</li>\\n\\t\\t\\t\\t\\t\\t\\n\\t\\t\\t\\t\\t\\t\\t<li class=\"category_item\" role=\"presentation\">\\n\\t\\t\\t\\t\\t\\t\\t\\t\\n\\t\\t\\t\\t\\t\\t\\t\\t\\n\\t\\t\\t\\t\\t\\t\\t\\t<a href=\"#\" role=\"tab\" class=\"_NM_THEME_CATE tab id_beauty\"\\n\\t\\t\\t\\t\\t\\t\\t\\t   aria-selected=\"false\"\\n\\t\\t\\t\\t\\t\\t\\t\\t   data-clk=\"tct.bty\" data-panel-code=\"BEAUTY\">패션뷰티</a>\\n\\t\\t\\t\\t\\t\\t\\t</li>\\n\\t\\t\\t\\t\\t\\t\\n\\t\\t\\t\\t\\t\\t\\t<li class=\"category_item\" role=\"presentation\">\\n\\t\\t\\t\\t\\t\\t\\t\\t\\n\\t\\t\\t\\t\\t\\t\\t\\t\\n\\t\\t\\t\\t\\t\\t\\t\\t<a href=\"#\" role=\"tab\" class=\"_NM_THEME_CATE tab id_with\"\\n\\t\\t\\t\\t\\t\\t\\t\\t   aria-selected=\"false\"\\n\\t\\t\\t\\t\\t\\t\\t\\t   data-clk=\"tct.pub\" data-panel-code=\"WITH\">함께N</a>\\n\\t\\t\\t\\t\\t\\t\\t</li>\\n\\t\\t\\t\\t\\t\\t\\n\\t\\t\\t\\t\\t</ul>\\n\\t\\t\\t\\t</div>\\n\\t\\t\\t\\n\\t\\t</div>\\n\\t</div>\\n</div>\\n\\n\\t</div>\\n\\t<div id=\"NM_THEME_CONTAINER\" class=\"theme_cont\" data-panel-code=\"MYFEED-RECOMMEND\" data-parent-code=\"MYFEED\">\\n\\t\\t<div class=\"theme_tab\" data-block-id=\"61ba916fa10d30068567e416\" data-block-code=\"PC-THEME-MYFEED-TAB\" data-block-type=\"PC-BLOCK\" data-template-code=\"THEME-SUBTAB\"\\n>\\n\\n\\t<ul class=\"list_tab\" role=\"tablist\">\\n\\t\\t\\n\\t\\t<li class=\"tab_item is_select \" role=\"presentation\">\\n\\t\\t\\t<a href=\"#\" class=\"tab NM_THEME_SUBTAB_ITEM\" role=\"tab\" aria-selected=\"true\" data-clk=\"tcc_sub.keytab1\" data-subtab-panel=\"MYFEED-RECOMMEND\" data-subtab-query=\"\">전체</a>\\n\\t\\t</li>\\n\\t\\t\\n\\t\\t<li class=\"tab_item  \" role=\"presentation\">\\n\\t\\t\\t<a href=\"#\" class=\"tab NM_THEME_SUBTAB_ITEM\" role=\"tab\" aria-selected=\"false\" data-clk=\"tcc_sub.keytab2\" data-subtab-panel=\"MYFEED-BEST\" data-subtab-query=\"\">인기</a>\\n\\t\\t</li>\\n\\t\\t\\n\\t\\t<li class=\"tab_item  type_custom_init\" role=\"presentation\">\\n\\t\\t\\t<a href=\"#\" class=\"tab NM_THEME_SUBTAB_ITEM\" role=\"tab\" aria-selected=\"false\" data-clk=\"tcc_sub.keytab3\" data-subtab-panel=\"MYFEED-GAMEAPP\" data-subtab-query=\"\"><i class=\"ico_game\"></i>게임</a>\\n\\t\\t</li>\\n\\t\\t\\n\\t\\t<li class=\"tab_item  \" role=\"presentation\">\\n\\t\\t\\t<a href=\"#\" class=\"tab NM_THEME_SUBTAB_ITEM\" role=\"tab\" aria-selected=\"false\" data-clk=\"tcc_sub.keytab4\" data-subtab-panel=\"MYFEED-HEALTH\" data-subtab-query=\"\"><i class=\"ico_health\"></i>건강</a>\\n\\t\\t</li>\\n\\t\\t\\n\\t\\t<li class=\"tab_item  \" role=\"presentation\">\\n\\t\\t\\t<a href=\"#\" class=\"tab NM_THEME_SUBTAB_ITEM\" role=\"tab\" aria-selected=\"false\" data-clk=\"tcc_sub.keytab5\" data-subtab-panel=\"MYFEED-LANGUAGE\" data-subtab-query=\"\"><i class=\"ico_language\"></i>어학</a>\\n\\t\\t</li>\\n\\t\\t\\n\\t\\t<li class=\"tab_item  \" role=\"presentation\">\\n\\t\\t\\t<a href=\"#\" class=\"tab NM_THEME_SUBTAB_ITEM\" role=\"tab\" aria-selected=\"false\" data-clk=\"tcc_sub.keytab6\" data-subtab-panel=\"MYFEED-MOMKIDS\" data-subtab-query=\"keytab6\"><i class=\"ico_momkids\"></i>육아</a>\\n\\t\\t</li>\\n\\t\\t\\n\\t</ul>\\n\\n</div>\\n\\n\\n<div class=\"group_theme\" data-block-id=\"61bae4ada10d3006850d7537\" data-block-code=\"PC-THEME-MYFEED-RECOMMEND-0\" data-block-type=\"PC-MYFEED-BLOCK\" data-template-code=\"3X3\"\\n\\n\\t data-page=\"1\"\\n\\t >\\n\\n\\t<div class=\"media_view_wrap type_column\">\\n\\t\\t<div class=\"media_view\">\\n\\t\\t\\t\\n\\t\\t\\t\\t<a href=\"https://in.naver.com/one_fineday/contents/internal/366339711881568\" class=\"media_area\" data-da-position=\"true\" data-gdid=\"90000003_0000000000000033D1514EF5\" data-clk=\"tcc_sub.list1cont1\" target=\"_blank\">\\n\\t\\t\\t\\t\\t<div class=\"media_thumb\">\\n\\t\\t\\t\\t\\t\\t<img src=\"https://s.pstatic.net/dthumb.phinf/?src&#x3D;%22https%3A%2F%2Fdiscovercrop-phinf.pstatic.net%2F%2FMjAyMTExMDFfMTEx%2FMDAxNjM1NzQ5NTExOTIx.Xu74Wxq96IoTFLsrHedxVCEXN1TDTIgxgpQ9KbLe2pIg.BRryyaWpthTuPtcazDCafJXapaLyacJGxS0isPdjBt4g.JPEG%2Fimage_750x420.jpg%22&amp;type&#x3D;nf464_260\" data-src=\"https://s.pstatic.net/dthumb.phinf/?src&#x3D;%22https%3A%2F%2Fdiscovercrop-phinf.pstatic.net%2F%2FMjAyMTExMDFfMTEx%2FMDAxNjM1NzQ5NTExOTIx.Xu74Wxq96IoTFLsrHedxVCEXN1TDTIgxgpQ9KbLe2pIg.BRryyaWpthTuPtcazDCafJXapaLyacJGxS0isPdjBt4g.JPEG%2Fimage_750x420.jpg%22&amp;type&#x3D;nf464_260\" alt=\"박진영 모닝루틴  20년째 실천 중인 시크릿 건강 식단  아침식사  집사부일체 60회 61회\" width=\"232\" height=\"130\" onerror=\"this.outerHTML=\\'<span class=\\\\\\'pm_noimg\\\\\\'><span class=\\\\\\'noimg_text\\\\\\'>이미지 준비중</span></span>\\'\">\\n\\n\\t\\t\\t\\t\\t\\t\\n\\t\\t\\t\\t\\t\\t\\t<span class=\"thumb_bd\"></span>\\n                            \\n\\t\\t\\t\\t\\t\\t\\n\\t\\t\\t\\t\\t</div>\\n\\t\\t\\t\\t\\t<div class=\"media_info\">\\n\\t\\t\\t\\t\\t\\t<div class=\"info_box\">\\n\\t\\t\\t\\t\\t\\t\\t\\n\\t\\t\\t\\t\\t\\t\\t<strong class=\"title \">박진영 모닝루틴  20년째 실천 중인 시크릿 건강 식단  아침식사  집사부일체 60회 61회</strong>\\n\\t\\t\\t\\t\\t\\t\\t<div class=\"source_wrap\">\\n\\t\\t\\t\\t\\t\\t\\t\\t<span class=\"date\">2개월 전</span>\\n                                <span class=\"source\">\\n                                    \\n                                        <span class=\"source_thumb\"><img src=\"https://s.pstatic.net/dthumb.phinf/?src&#x3D;%22http%3A%2F%2Fblogpfthumb.phinf.naver.net%2FMjAyMTA2MjNfMTEx%2FMDAxNjI0NDEyOTM1MzQ1.DsVd0rdUKxUjcG_EF0ehiuhLACPyj_N6acW3G4DGwL8g.FLqhMiYwEhdk0L7eJxDjvPUOfL5aDF-9XQ8C62uC8pog.JPEG.thfleur%2F1.jpg%22&amp;type&#x3D;navermain_nf40_40\" data-src=\"https://s.pstatic.net/dthumb.phinf/?src&#x3D;%22http%3A%2F%2Fblogpfthumb.phinf.naver.net%2FMjAyMTA2MjNfMTEx%2FMDAxNjI0NDEyOTM1MzQ1.DsVd0rdUKxUjcG_EF0ehiuhLACPyj_N6acW3G4DGwL8g.FLqhMiYwEhdk0L7eJxDjvPUOfL5aDF-9XQ8C62uC8pog.JPEG.thfleur%2F1.jpg%22&amp;type&#x3D;navermain_nf40_40\" alt=\"\" width=\"20\" height=\"20\" onerror=\"this.outerHTML=\\'<i class=\\\\\\'pm_source_noimg\\\\\\'><span class=\\\\\\'blind\\\\\\'>이미지준비중</span></i>\\'\"></span>\\n                                    \\n                                    <span class=\"source_inner\"><em class=\"theme_hl\">인플루언서</em>어느멋진날</span>\\n                                </span>\\n\\t\\t\\t\\t\\t\\t\\t</div>\\n\\t\\t\\t\\t\\t\\t</div>\\n\\t\\t\\t\\t\\t</div>\\n\\t\\t\\t\\t</a>\\n\\t\\t\\t\\n\\t\\t\\t\\t<a href=\"https://in.naver.com/sprinkle/contents/internal/386151136698656\" class=\"media_area\" data-da-position=\"true\" data-gdid=\"90000003_0000000000000033D455245A\" data-clk=\"tcc_sub.list1cont2\" target=\"_blank\">\\n\\t\\t\\t\\t\\t<div class=\"media_thumb\">\\n\\t\\t\\t\\t\\t\\t<img src=\"https://s.pstatic.net/dthumb.phinf/?src&#x3D;%22https%3A%2F%2Fdiscovercrop-phinf.pstatic.net%2F%2FMjAyMTEyMjdfNjgg%2FMDAxNjQwNTg3NDE2MDA3.42iIfdWkUU3kizPVTXDkcWJk0JmoxZlY-ZJIjPQjlM4g.g0BiwLxduddirNdnMjehy6YurvAkEA7mNFjY6L3_MOYg.JPEG%2Fimage_374x246.jpg%22&amp;type&#x3D;nf464_260\" data-src=\"https://s.pstatic.net/dthumb.phinf/?src&#x3D;%22https%3A%2F%2Fdiscovercrop-phinf.pstatic.net%2F%2FMjAyMTEyMjdfNjgg%2FMDAxNjQwNTg3NDE2MDA3.42iIfdWkUU3kizPVTXDkcWJk0JmoxZlY-ZJIjPQjlM4g.g0BiwLxduddirNdnMjehy6YurvAkEA7mNFjY6L3_MOYg.JPEG%2Fimage_374x246.jpg%22&amp;type&#x3D;nf464_260\" alt=\"겨울 홈가드닝 : 실내 &amp; 베란다 화분 물주기 방법\" width=\"232\" height=\"130\" onerror=\"this.outerHTML=\\'<span class=\\\\\\'pm_noimg\\\\\\'><span class=\\\\\\'noimg_text\\\\\\'>이미지 준비중</span></span>\\'\">\\n\\n\\t\\t\\t\\t\\t\\t\\n\\t\\t\\t\\t\\t\\t\\t<span class=\"thumb_bd\"></span>\\n                            \\n\\t\\t\\t\\t\\t\\t\\n\\t\\t\\t\\t\\t</div>\\n\\t\\t\\t\\t\\t<div class=\"media_info\">\\n\\t\\t\\t\\t\\t\\t<div class=\"info_box\">\\n\\t\\t\\t\\t\\t\\t\\t\\n\\t\\t\\t\\t\\t\\t\\t<strong class=\"title \">겨울 홈가드닝 : 실내 & 베란다 화분 물주기 방법</strong>\\n\\t\\t\\t\\t\\t\\t\\t<div class=\"source_wrap\">\\n\\t\\t\\t\\t\\t\\t\\t\\t<span class=\"date\">1주일 전</span>\\n                                <span class=\"source\">\\n                                    \\n                                        <span class=\"source_thumb\"><img src=\"https://s.pstatic.net/dthumb.phinf/?src&#x3D;%22http%3A%2F%2Fblogpfthumb.phinf.naver.net%2FMjAyMTExMTFfMjk5%2FMDAxNjM2NTY5MjQ0NDQ3.K44PVXQZcqrt3frzJMo1unzn3Iu8BSR3fBT2eYBMQpAg.YlRKWdTTFQWEy-KhtJC1SRVoBBstj2Y4nFKUK2aolc0g.PNG.fayefaye79%2FprofileImage.png%22&amp;type&#x3D;navermain_nf40_40\" data-src=\"https://s.pstatic.net/dthumb.phinf/?src&#x3D;%22http%3A%2F%2Fblogpfthumb.phinf.naver.net%2FMjAyMTExMTFfMjk5%2FMDAxNjM2NTY5MjQ0NDQ3.K44PVXQZcqrt3frzJMo1unzn3Iu8BSR3fBT2eYBMQpAg.YlRKWdTTFQWEy-KhtJC1SRVoBBstj2Y4nFKUK2aolc0g.PNG.fayefaye79%2FprofileImage.png%22&amp;type&#x3D;navermain_nf40_40\" alt=\"\" width=\"20\" height=\"20\" onerror=\"this.outerHTML=\\'<i class=\\\\\\'pm_source_noimg\\\\\\'><span class=\\\\\\'blind\\\\\\'>이미지준비중</span></i>\\'\"></span>\\n                                    \\n                                    <span class=\"source_inner\"><em class=\"theme_hl\">인플루언서</em>스프링클</span>\\n                                </span>\\n\\t\\t\\t\\t\\t\\t\\t</div>\\n\\t\\t\\t\\t\\t\\t</div>\\n\\t\\t\\t\\t\\t</div>\\n\\t\\t\\t\\t</a>\\n\\t\\t\\t\\n\\t\\t\\t\\t<a href=\"https://in.naver.com/jennie_sw/contents/internal/357421504884864\" class=\"media_area\" data-da-position=\"true\" data-gdid=\"90000003_0000000000000033CFC1D1A8\" data-clk=\"tcc_sub.list1cont3\" target=\"_blank\">\\n\\t\\t\\t\\t\\t<div class=\"media_thumb\">\\n\\t\\t\\t\\t\\t\\t<img src=\"https://s.pstatic.net/dthumb.phinf/?src&#x3D;%22https%3A%2F%2Fdiscovercrop-phinf.pstatic.net%2F%2FMjAyMTEwMDdfNjAg%2FMDAxNjMzNTgxNjIwMDE0.LO26DmbFVEuQPQLAGz4oASyH9v5Alzc0rmbrF5aw4JYg.LdS9TCTOWkLBfRhO0NYhPPC5h-juAzdcBKGkqzdd550g.JPEG%2Fimage_374x246.jpg%22&amp;type&#x3D;nf464_260\" data-src=\"https://s.pstatic.net/dthumb.phinf/?src&#x3D;%22https%3A%2F%2Fdiscovercrop-phinf.pstatic.net%2F%2FMjAyMTEwMDdfNjAg%2FMDAxNjMzNTgxNjIwMDE0.LO26DmbFVEuQPQLAGz4oASyH9v5Alzc0rmbrF5aw4JYg.LdS9TCTOWkLBfRhO0NYhPPC5h-juAzdcBKGkqzdd550g.JPEG%2Fimage_374x246.jpg%22&amp;type&#x3D;nf464_260\" alt=\"엄마표 영어 / 오감놀이 - Who is it? (독후활동/연계독서/잉글리시에그)\" width=\"232\" height=\"130\" onerror=\"this.outerHTML=\\'<span class=\\\\\\'pm_noimg\\\\\\'><span class=\\\\\\'noimg_text\\\\\\'>이미지 준비중</span></span>\\'\">\\n\\n\\t\\t\\t\\t\\t\\t\\n\\t\\t\\t\\t\\t\\t\\t<span class=\"thumb_bd\"></span>\\n                            \\n\\t\\t\\t\\t\\t\\t\\n\\t\\t\\t\\t\\t</div>\\n\\t\\t\\t\\t\\t<div class=\"media_info\">\\n\\t\\t\\t\\t\\t\\t<div class=\"info_box\">\\n\\t\\t\\t\\t\\t\\t\\t\\n\\t\\t\\t\\t\\t\\t\\t<strong class=\"title \">엄마표 영어 / 오감놀이 - Who is it? (독후활동/연계독서/잉글리시에그)</strong>\\n\\t\\t\\t\\t\\t\\t\\t<div class=\"source_wrap\">\\n\\t\\t\\t\\t\\t\\t\\t\\t<span class=\"date\">3개월 전</span>\\n                                <span class=\"source\">\\n                                    \\n                                        <span class=\"source_thumb\"><img src=\"https://s.pstatic.net/dthumb.phinf/?src&#x3D;%22http%3A%2F%2Fblogpfthumb.phinf.naver.net%2FMjAyMTA3MDNfMjk5%2FMDAxNjI1MzIxMTYxNDc4.cGJt4GaYHXDb_oMsFAt8GnDsASKC3klxiMYpiHszd7og.GkWy7IVagP5qodQ74kkG7xmk-9MpOigVPde2suHfNXwg.JPEG.jennie_sw%2FprofileImage.jpg%22&amp;type&#x3D;navermain_nf40_40\" data-src=\"https://s.pstatic.net/dthumb.phinf/?src&#x3D;%22http%3A%2F%2Fblogpfthumb.phinf.naver.net%2FMjAyMTA3MDNfMjk5%2FMDAxNjI1MzIxMTYxNDc4.cGJt4GaYHXDb_oMsFAt8GnDsASKC3klxiMYpiHszd7og.GkWy7IVagP5qodQ74kkG7xmk-9MpOigVPde2suHfNXwg.JPEG.jennie_sw%2FprofileImage.jpg%22&amp;type&#x3D;navermain_nf40_40\" alt=\"\" width=\"20\" height=\"20\" onerror=\"this.outerHTML=\\'<i class=\\\\\\'pm_source_noimg\\\\\\'><span class=\\\\\\'blind\\\\\\'>이미지준비중</span></i>\\'\"></span>\\n                                    \\n                                    <span class=\"source_inner\"><em class=\"theme_hl\">인플루언서</em>제니 시우</span>\\n                                </span>\\n\\t\\t\\t\\t\\t\\t\\t</div>\\n\\t\\t\\t\\t\\t\\t</div>\\n\\t\\t\\t\\t\\t</div>\\n\\t\\t\\t\\t</a>\\n\\t\\t\\t\\n\\t\\t\\t\\t<a href=\"https://m.post.naver.com/viewer/postView.naver?volumeNo&#x3D;33071999&amp;memberNo&#x3D;34059480&amp;vType&#x3D;VERTICAL\" class=\"media_area\" data-da-position=\"true\" data-gdid=\"00055f7ca0_0001f8a37f\" data-clk=\"tcc_sub.list1cont4\" target=\"_blank\">\\n\\t\\t\\t\\t\\t<div class=\"media_thumb\">\\n\\t\\t\\t\\t\\t\\t<img src=\"https://s.pstatic.net/dthumb.phinf/?src&#x3D;%22https%3A%2F%2Fdiscovercrop-phinf.pstatic.net%2F%2FMjAyMjAxMDZfMjc0%2FMDAxNjQxNDQ0MTAzMDg1.Ejjp52aq2xtGebPtqFe1UjdU0pB4pkHW9E-aDbPOI74g.ojmlBQ-o8RVX0S9Xmc9riNrR1eiUfFb6I6WH09-ekyMg.JPEG%2Fimage_374x246.jpg%22&amp;type&#x3D;nf464_260\" data-src=\"https://s.pstatic.net/dthumb.phinf/?src&#x3D;%22https%3A%2F%2Fdiscovercrop-phinf.pstatic.net%2F%2FMjAyMjAxMDZfMjc0%2FMDAxNjQxNDQ0MTAzMDg1.Ejjp52aq2xtGebPtqFe1UjdU0pB4pkHW9E-aDbPOI74g.ojmlBQ-o8RVX0S9Xmc9riNrR1eiUfFb6I6WH09-ekyMg.JPEG%2Fimage_374x246.jpg%22&amp;type&#x3D;nf464_260\" alt=\"[글로벌 e게임] 어디서나 즐기는 가상세계 놀이터 생활, ‘플레이투게더’\" width=\"232\" height=\"130\" onerror=\"this.outerHTML=\\'<span class=\\\\\\'pm_noimg\\\\\\'><span class=\\\\\\'noimg_text\\\\\\'>이미지 준비중</span></span>\\'\">\\n\\n\\t\\t\\t\\t\\t\\t\\n\\t\\t\\t\\t\\t\\t\\t<span class=\"thumb_bd\"></span>\\n                            \\n\\t\\t\\t\\t\\t\\t\\n\\t\\t\\t\\t\\t</div>\\n\\t\\t\\t\\t\\t<div class=\"media_info\">\\n\\t\\t\\t\\t\\t\\t<div class=\"info_box\">\\n\\t\\t\\t\\t\\t\\t\\t\\n\\t\\t\\t\\t\\t\\t\\t<strong class=\"title \">[글로벌 e게임] 어디서나 즐기는 가상세계 놀이터 생활, ‘플레이투게더’</strong>\\n\\t\\t\\t\\t\\t\\t\\t<div class=\"source_wrap\">\\n\\t\\t\\t\\t\\t\\t\\t\\t<span class=\"date\">어제</span>\\n                                <span class=\"source\">\\n                                    \\n                                        <span class=\"source_thumb\"><img src=\"https://s.pstatic.net/dthumb.phinf/?src&#x3D;%22https%3A%2F%2Fs.pstatic.net%2Fpost.phinf%2FMjAxODAzMDJfMjQ0%2FMDAxNTE5OTczMzc0MDY1.ZFuF_k5CLcbbDgTpBeAKahgyuy8v9EHTtB1mejlKQEUg.-8DE-dvcAbQf2tRRVKjUOuHikqoW8PbmMJWxVLVy-lAg.JPEG%2Fpost_733763843667011118.jpeg%3Ftype%3Df200_200%22&amp;type&#x3D;navermain_nf40_40\" data-src=\"https://s.pstatic.net/dthumb.phinf/?src&#x3D;%22https%3A%2F%2Fs.pstatic.net%2Fpost.phinf%2FMjAxODAzMDJfMjQ0%2FMDAxNTE5OTczMzc0MDY1.ZFuF_k5CLcbbDgTpBeAKahgyuy8v9EHTtB1mejlKQEUg.-8DE-dvcAbQf2tRRVKjUOuHikqoW8PbmMJWxVLVy-lAg.JPEG%2Fpost_733763843667011118.jpeg%3Ftype%3Df200_200%22&amp;type&#x3D;navermain_nf40_40\" alt=\"\" width=\"20\" height=\"20\" onerror=\"this.outerHTML=\\'<i class=\\\\\\'pm_source_noimg\\\\\\'><span class=\\\\\\'blind\\\\\\'>이미지준비중</span></i>\\'\"></span>\\n                                    \\n                                    <span class=\"source_inner\">GAMEVU</span>\\n                                </span>\\n\\t\\t\\t\\t\\t\\t\\t</div>\\n\\t\\t\\t\\t\\t\\t</div>\\n\\t\\t\\t\\t\\t</div>\\n\\t\\t\\t\\t</a>\\n\\t\\t\\t\\n\\t\\t\\t\\t<a href=\"https://in.naver.com/pass9937/contents/internal/388627208624800\" class=\"media_area\" data-da-position=\"true\" data-gdid=\"90000003_0000000000000033D4AF83E9\" data-clk=\"tcc_sub.list1cont5\" target=\"_blank\">\\n\\t\\t\\t\\t\\t<div class=\"media_thumb\">\\n\\t\\t\\t\\t\\t\\t<img src=\"https://s.pstatic.net/dthumb.phinf/?src&#x3D;%22https%3A%2F%2Fdiscovercrop-phinf.pstatic.net%2F%2FMjAyMjAxMDNfODEg%2FMDAxNjQxMTg4NTA1NjY2.BcCwhUwjmxS2jzbuvWKaCyEWVGIyP9v-B5Fn9uwbD4Ug.67w3Pww_KpodFPq_CP8S2zIXqDe-e0KaA5Fe5yXy8a0g.JPEG%2Fimage_374x246.jpg%22&amp;type&#x3D;nf464_260\" data-src=\"https://s.pstatic.net/dthumb.phinf/?src&#x3D;%22https%3A%2F%2Fdiscovercrop-phinf.pstatic.net%2F%2FMjAyMjAxMDNfODEg%2FMDAxNjQxMTg4NTA1NjY2.BcCwhUwjmxS2jzbuvWKaCyEWVGIyP9v-B5Fn9uwbD4Ug.67w3Pww_KpodFPq_CP8S2zIXqDe-e0KaA5Fe5yXy8a0g.JPEG%2Fimage_374x246.jpg%22&amp;type&#x3D;nf464_260\" alt=\"제라늄 꽃 : 예거서스 모르모르마르타\" width=\"232\" height=\"130\" onerror=\"this.outerHTML=\\'<span class=\\\\\\'pm_noimg\\\\\\'><span class=\\\\\\'noimg_text\\\\\\'>이미지 준비중</span></span>\\'\">\\n\\n\\t\\t\\t\\t\\t\\t\\n\\t\\t\\t\\t\\t\\t\\t<span class=\"thumb_bd\"></span>\\n                            \\n\\t\\t\\t\\t\\t\\t\\n\\t\\t\\t\\t\\t</div>\\n\\t\\t\\t\\t\\t<div class=\"media_info\">\\n\\t\\t\\t\\t\\t\\t<div class=\"info_box\">\\n\\t\\t\\t\\t\\t\\t\\t\\n\\t\\t\\t\\t\\t\\t\\t<strong class=\"title \">제라늄 꽃 : 예거서스 모르모르마르타</strong>\\n\\t\\t\\t\\t\\t\\t\\t<div class=\"source_wrap\">\\n\\t\\t\\t\\t\\t\\t\\t\\t<span class=\"date\">4일 전</span>\\n                                <span class=\"source\">\\n                                    \\n                                        <span class=\"source_thumb\"><img src=\"https://s.pstatic.net/dthumb.phinf/?src&#x3D;%22http%3A%2F%2Fblogpfthumb.phinf.naver.net%2FMjAyMTEyMTlfMTQ5%2FMDAxNjM5ODgyMTU1NjUx.xvcF_xCP_wKTOJT_ULRBGjAp04m2M_SI-BwCSdf1RW8g.S1gixlZLg2OSeZ4pYEaAYV8r3KBrui2rF-V6pq0P1rkg.JPEG.pass9937%2F20211214%2B%252857%2529.JPG%22&amp;type&#x3D;navermain_nf40_40\" data-src=\"https://s.pstatic.net/dthumb.phinf/?src&#x3D;%22http%3A%2F%2Fblogpfthumb.phinf.naver.net%2FMjAyMTEyMTlfMTQ5%2FMDAxNjM5ODgyMTU1NjUx.xvcF_xCP_wKTOJT_ULRBGjAp04m2M_SI-BwCSdf1RW8g.S1gixlZLg2OSeZ4pYEaAYV8r3KBrui2rF-V6pq0P1rkg.JPEG.pass9937%2F20211214%2B%252857%2529.JPG%22&amp;type&#x3D;navermain_nf40_40\" alt=\"\" width=\"20\" height=\"20\" onerror=\"this.outerHTML=\\'<i class=\\\\\\'pm_source_noimg\\\\\\'><span class=\\\\\\'blind\\\\\\'>이미지준비중</span></i>\\'\"></span>\\n                                    \\n                                    <span class=\"source_inner\"><em class=\"theme_hl\">인플루언서</em>다육이 엄마</span>\\n                                </span>\\n\\t\\t\\t\\t\\t\\t\\t</div>\\n\\t\\t\\t\\t\\t\\t</div>\\n\\t\\t\\t\\t\\t</div>\\n\\t\\t\\t\\t</a>\\n\\t\\t\\t\\n\\t\\t\\t\\t<a href=\"https://m.post.naver.com/viewer/postView.naver?volumeNo&#x3D;33022446&amp;memberNo&#x3D;29742322&amp;vType&#x3D;VERTICAL\" class=\"media_area\" data-da-position=\"true\" data-gdid=\"00055f7ca0_0001f7e1ee\" data-clk=\"tcc_sub.list1cont6\" target=\"_blank\">\\n\\t\\t\\t\\t\\t<div class=\"media_thumb\">\\n\\t\\t\\t\\t\\t\\t<img src=\"https://s.pstatic.net/dthumb.phinf/?src&#x3D;%22https%3A%2F%2Fdiscovercrop-phinf.pstatic.net%2F%2FMjAyMTEyMjhfMTIw%2FMDAxNjQwNjYzMjQ3NTI0.z0cxVnpQU9FVKLuXKxtY57fEdeqXvSNo3qCgi0d3Gxcg.O1pB8hdze8wnM3uuST1P5hq6OPBSzoV5qpDmYLD8ASog.JPEG%2Fimage_374x246.jpg%22&amp;type&#x3D;nf464_260\" data-src=\"https://s.pstatic.net/dthumb.phinf/?src&#x3D;%22https%3A%2F%2Fdiscovercrop-phinf.pstatic.net%2F%2FMjAyMTEyMjhfMTIw%2FMDAxNjQwNjYzMjQ3NTI0.z0cxVnpQU9FVKLuXKxtY57fEdeqXvSNo3qCgi0d3Gxcg.O1pB8hdze8wnM3uuST1P5hq6OPBSzoV5qpDmYLD8ASog.JPEG%2Fimage_374x246.jpg%22&amp;type&#x3D;nf464_260\" alt=\"카구리\\u2009·\\u2009막사\\u2009·\\u2009열라짬뽕 재미만큼 맛도 있을까\" width=\"232\" height=\"130\" onerror=\"this.outerHTML=\\'<span class=\\\\\\'pm_noimg\\\\\\'><span class=\\\\\\'noimg_text\\\\\\'>이미지 준비중</span></span>\\'\">\\n\\n\\t\\t\\t\\t\\t\\t\\n\\t\\t\\t\\t\\t\\t\\t<span class=\"thumb_bd\"></span>\\n                            \\n\\t\\t\\t\\t\\t\\t\\n\\t\\t\\t\\t\\t</div>\\n\\t\\t\\t\\t\\t<div class=\"media_info\">\\n\\t\\t\\t\\t\\t\\t<div class=\"info_box\">\\n\\t\\t\\t\\t\\t\\t\\t\\n\\t\\t\\t\\t\\t\\t\\t<strong class=\"title \">카구리\\u2009·\\u2009막사\\u2009·\\u2009열라짬뽕 재미만큼 맛도 있을까</strong>\\n\\t\\t\\t\\t\\t\\t\\t<div class=\"source_wrap\">\\n\\t\\t\\t\\t\\t\\t\\t\\t<span class=\"date\">1주일 전</span>\\n                                <span class=\"source\">\\n                                    \\n                                        <span class=\"source_thumb\"><img src=\"https://s.pstatic.net/dthumb.phinf/?src&#x3D;%22https%3A%2F%2Fs.pstatic.net%2Fpost.phinf%2FMjAxNzAyMjNfMTUw%2FMDAxNDg3ODI3MjQ4NTY4.N3dN9u0exHekwu2q-MToHlMOvEWoEeZfd8tp4d9SFsog.N2wCVEdctpxDrC2xTBv_me5PiQA0sgitjZ8jArDaruQg.PNG%2Fpost_4432235585947524035.png%3Ftype%3Df200_200%22&amp;type&#x3D;navermain_nf40_40\" data-src=\"https://s.pstatic.net/dthumb.phinf/?src&#x3D;%22https%3A%2F%2Fs.pstatic.net%2Fpost.phinf%2FMjAxNzAyMjNfMTUw%2FMDAxNDg3ODI3MjQ4NTY4.N3dN9u0exHekwu2q-MToHlMOvEWoEeZfd8tp4d9SFsog.N2wCVEdctpxDrC2xTBv_me5PiQA0sgitjZ8jArDaruQg.PNG%2Fpost_4432235585947524035.png%3Ftype%3Df200_200%22&amp;type&#x3D;navermain_nf40_40\" alt=\"\" width=\"20\" height=\"20\" onerror=\"this.outerHTML=\\'<i class=\\\\\\'pm_source_noimg\\\\\\'><span class=\\\\\\'blind\\\\\\'>이미지준비중</span></i>\\'\"></span>\\n                                    \\n                                    <span class=\"source_inner\">여성동아</span>\\n                                </span>\\n\\t\\t\\t\\t\\t\\t\\t</div>\\n\\t\\t\\t\\t\\t\\t</div>\\n\\t\\t\\t\\t\\t</div>\\n\\t\\t\\t\\t</a>\\n\\t\\t\\t\\n\\t\\t\\t\\t<a href=\"https://m.post.naver.com/viewer/postView.naver?volumeNo&#x3D;33067107&amp;memberNo&#x3D;37183350&amp;vType&#x3D;VERTICAL\" class=\"media_area\" data-da-position=\"true\" data-gdid=\"00055f7ca0_0001f89063\" data-clk=\"tcc_sub.list1cont7\" target=\"_blank\">\\n\\t\\t\\t\\t\\t<div class=\"media_thumb\">\\n\\t\\t\\t\\t\\t\\t<img src=\"https://s.pstatic.net/dthumb.phinf/?src&#x3D;%22https%3A%2F%2Fdiscovercrop-phinf.pstatic.net%2F%2FMjAyMjAxMDVfMjg4%2FMDAxNjQxMzM2MDIyNjg1.bMqmYaLUIsRcaxxJ0mp602_rJwtV1qxQv7Jyy1Z7gIQg.kKIAD9G6lKz-5Es9uTd45UX0hCMpZckDysm3BA50UXcg.JPEG%2Fimage_374x246.jpg%22&amp;type&#x3D;nf464_260\" data-src=\"https://s.pstatic.net/dthumb.phinf/?src&#x3D;%22https%3A%2F%2Fdiscovercrop-phinf.pstatic.net%2F%2FMjAyMjAxMDVfMjg4%2FMDAxNjQxMzM2MDIyNjg1.bMqmYaLUIsRcaxxJ0mp602_rJwtV1qxQv7Jyy1Z7gIQg.kKIAD9G6lKz-5Es9uTd45UX0hCMpZckDysm3BA50UXcg.JPEG%2Fimage_374x246.jpg%22&amp;type&#x3D;nf464_260\" alt=\"초 고교급 카리스마,단간론파 &#x27;에노시마 준코&#x27; 코스프레\" width=\"232\" height=\"130\" onerror=\"this.outerHTML=\\'<span class=\\\\\\'pm_noimg\\\\\\'><span class=\\\\\\'noimg_text\\\\\\'>이미지 준비중</span></span>\\'\">\\n\\n\\t\\t\\t\\t\\t\\t\\n\\t\\t\\t\\t\\t\\t\\t<span class=\"thumb_bd\"></span>\\n                            \\n\\t\\t\\t\\t\\t\\t\\n\\t\\t\\t\\t\\t</div>\\n\\t\\t\\t\\t\\t<div class=\"media_info\">\\n\\t\\t\\t\\t\\t\\t<div class=\"info_box\">\\n\\t\\t\\t\\t\\t\\t\\t\\n\\t\\t\\t\\t\\t\\t\\t<strong class=\"title \">초 고교급 카리스마,단간론파 \\'에노시마 준코\\' 코스프레</strong>\\n\\t\\t\\t\\t\\t\\t\\t<div class=\"source_wrap\">\\n\\t\\t\\t\\t\\t\\t\\t\\t<span class=\"date\">2일 전</span>\\n                                <span class=\"source\">\\n                                    \\n                                        <span class=\"source_thumb\"><img src=\"https://s.pstatic.net/dthumb.phinf/?src&#x3D;%22https%3A%2F%2Fs.pstatic.net%2Fpost.phinf%2FMjAxNzA0MjRfMjU4%2FMDAxNDkzMDIxMzAyMjk0.AePqZiXw8KwXz2U-7ujSTU3Qe3F3gpCYkn9X85Zyhskg.wXXGzqdeELt52QFuj_OAcaSIpMji8kIaZsI6vf7F1cQg.PNG%2Fpost_7270031032875245903.png%3Ftype%3Df200_200%22&amp;type&#x3D;navermain_nf40_40\" data-src=\"https://s.pstatic.net/dthumb.phinf/?src&#x3D;%22https%3A%2F%2Fs.pstatic.net%2Fpost.phinf%2FMjAxNzA0MjRfMjU4%2FMDAxNDkzMDIxMzAyMjk0.AePqZiXw8KwXz2U-7ujSTU3Qe3F3gpCYkn9X85Zyhskg.wXXGzqdeELt52QFuj_OAcaSIpMji8kIaZsI6vf7F1cQg.PNG%2Fpost_7270031032875245903.png%3Ftype%3Df200_200%22&amp;type&#x3D;navermain_nf40_40\" alt=\"\" width=\"20\" height=\"20\" onerror=\"this.outerHTML=\\'<i class=\\\\\\'pm_source_noimg\\\\\\'><span class=\\\\\\'blind\\\\\\'>이미지준비중</span></i>\\'\"></span>\\n                                    \\n                                    <span class=\"source_inner\">티티클</span>\\n                                </span>\\n\\t\\t\\t\\t\\t\\t\\t</div>\\n\\t\\t\\t\\t\\t\\t</div>\\n\\t\\t\\t\\t\\t</div>\\n\\t\\t\\t\\t</a>\\n\\t\\t\\t\\n\\t\\t\\t\\t<a href=\"https://m.post.naver.com/viewer/postView.naver?volumeNo&#x3D;33074306&amp;memberNo&#x3D;1166780&amp;vType&#x3D;VERTICAL\" class=\"media_area\" data-da-position=\"true\" data-gdid=\"00055f7ca0_0001f8ac82\" data-clk=\"tcc_sub.list1cont8\" target=\"_blank\">\\n\\t\\t\\t\\t\\t<div class=\"media_thumb\">\\n\\t\\t\\t\\t\\t\\t<img src=\"https://s.pstatic.net/dthumb.phinf/?src&#x3D;%22https%3A%2F%2Fdiscovercrop-phinf.pstatic.net%2F%2FMjAyMjAxMDdfMjAz%2FMDAxNjQxNDkwNjE2NDA5.S3-WIMV-ObIuq2fc7bXGVqa5lXx76w6X9yhHuCCT8Rog.JSinKjtZc--uvWYUb9mcov1lNfZ19QucP9Pdn0V-mXog.JPEG%2Fimage_374x246.jpg%22&amp;type&#x3D;nf464_260\" data-src=\"https://s.pstatic.net/dthumb.phinf/?src&#x3D;%22https%3A%2F%2Fdiscovercrop-phinf.pstatic.net%2F%2FMjAyMjAxMDdfMjAz%2FMDAxNjQxNDkwNjE2NDA5.S3-WIMV-ObIuq2fc7bXGVqa5lXx76w6X9yhHuCCT8Rog.JSinKjtZc--uvWYUb9mcov1lNfZ19QucP9Pdn0V-mXog.JPEG%2Fimage_374x246.jpg%22&amp;type&#x3D;nf464_260\" alt=\"멸망 후의 일상 순한 맛 71.그런건 하치코도 안먹어요\" width=\"232\" height=\"130\" onerror=\"this.outerHTML=\\'<span class=\\\\\\'pm_noimg\\\\\\'><span class=\\\\\\'noimg_text\\\\\\'>이미지 준비중</span></span>\\'\">\\n\\n\\t\\t\\t\\t\\t\\t\\n\\t\\t\\t\\t\\t\\t\\t<span class=\"thumb_bd\"></span>\\n                            \\n\\t\\t\\t\\t\\t\\t\\n\\t\\t\\t\\t\\t</div>\\n\\t\\t\\t\\t\\t<div class=\"media_info\">\\n\\t\\t\\t\\t\\t\\t<div class=\"info_box\">\\n\\t\\t\\t\\t\\t\\t\\t\\n\\t\\t\\t\\t\\t\\t\\t<strong class=\"title \">멸망 후의 일상 순한 맛 71.그런건 하치코도 안먹어요</strong>\\n\\t\\t\\t\\t\\t\\t\\t<div class=\"source_wrap\">\\n\\t\\t\\t\\t\\t\\t\\t\\t<span class=\"date\">14시간 전</span>\\n                                <span class=\"source\">\\n                                    \\n                                        <span class=\"source_thumb\"><img src=\"https://s.pstatic.net/dthumb.phinf/?src&#x3D;%22https%3A%2F%2Fs.pstatic.net%2Fpost.phinf%2FMjAxOTAyMjVfMTAy%2FMDAxNTUxMDYxODU4MzE3.zKTQx5MoSnUKsMqEN_FjFQpgx10rcS78A0yjqPX-7O4g.ofEJNQdau8RlVgfqWEsc4O1mjdC_Kbq-v655gPz5mCwg.PNG%2Fpost_960826753121259281.png%3Ftype%3Df200_200%22&amp;type&#x3D;navermain_nf40_40\" data-src=\"https://s.pstatic.net/dthumb.phinf/?src&#x3D;%22https%3A%2F%2Fs.pstatic.net%2Fpost.phinf%2FMjAxOTAyMjVfMTAy%2FMDAxNTUxMDYxODU4MzE3.zKTQx5MoSnUKsMqEN_FjFQpgx10rcS78A0yjqPX-7O4g.ofEJNQdau8RlVgfqWEsc4O1mjdC_Kbq-v655gPz5mCwg.PNG%2Fpost_960826753121259281.png%3Ftype%3Df200_200%22&amp;type&#x3D;navermain_nf40_40\" alt=\"\" width=\"20\" height=\"20\" onerror=\"this.outerHTML=\\'<i class=\\\\\\'pm_source_noimg\\\\\\'><span class=\\\\\\'blind\\\\\\'>이미지준비중</span></i>\\'\"></span>\\n                                    \\n                                    <span class=\"source_inner\">노동8호</span>\\n                                </span>\\n\\t\\t\\t\\t\\t\\t\\t</div>\\n\\t\\t\\t\\t\\t\\t</div>\\n\\t\\t\\t\\t\\t</div>\\n\\t\\t\\t\\t</a>\\n\\t\\t\\t\\n\\t\\t\\t\\t<a href=\"http://tv.naver.com/v/24475536\" class=\"media_area\" data-da-position=\"true\" data-gdid=\"1C191872F5F413912B22F9D37289474B4F81\" data-clk=\"tcc_sub.list1cont9\" target=\"_blank\">\\n\\t\\t\\t\\t\\t<div class=\"media_thumb\">\\n\\t\\t\\t\\t\\t\\t<img src=\"https://s.pstatic.net/dthumb.phinf/?src&#x3D;%22https%3A%2F%2Fs.pstatic.net%2Ftvcast.phinf%2F20220106_35%2Fyx4P6_1641478896776U6JIs_JPEG%2FC202100193_5_202201061012116601.jpg%22&amp;type&#x3D;nf464_260\" data-src=\"https://s.pstatic.net/dthumb.phinf/?src&#x3D;%22https%3A%2F%2Fs.pstatic.net%2Ftvcast.phinf%2F20220106_35%2Fyx4P6_1641478896776U6JIs_JPEG%2FC202100193_5_202201061012116601.jpg%22&amp;type&#x3D;nf464_260\" alt=\"오구오구🙊 귀염 뽀짝 유하의 변신은 무죄❤ TV CHOSUN 220106 방송\" width=\"232\" height=\"130\" onerror=\"this.outerHTML=\\'<span class=\\\\\\'pm_noimg\\\\\\'><span class=\\\\\\'noimg_text\\\\\\'>이미지 준비중</span></span>\\'\">\\n\\n\\t\\t\\t\\t\\t\\t\\n\\t\\t\\t\\t\\t\\t\\t<span class=\"thumb_dim\"></span>\\n\\t\\t\\t\\t\\t\\t\\t<span class=\"thumb_bd\"></span>\\n\\t\\t\\t\\t\\t\\t\\t<i class=\"pm_ico_play\"><span class=\"blind\">재생</span></i>\\n\\t\\t\\t\\t\\t\\t\\t<span class=\"theme_runtime\"><span class=\"runtime_bg\">재생시간</span><em class=\"time\">03:17</em></span>\\n\\t\\t\\t\\t\\t\\t\\n\\t\\t\\t\\t\\t</div>\\n\\t\\t\\t\\t\\t<div class=\"media_info\">\\n\\t\\t\\t\\t\\t\\t<div class=\"info_box\">\\n\\t\\t\\t\\t\\t\\t\\t\\n\\t\\t\\t\\t\\t\\t\\t<strong class=\"title \">오구오구🙊 귀염 뽀짝 유하의 변신은 무죄❤ TV CHOSUN 220106 방송</strong>\\n\\t\\t\\t\\t\\t\\t\\t<div class=\"source_wrap\">\\n\\t\\t\\t\\t\\t\\t\\t\\t<span class=\"date\">14시간 전</span>\\n                                <span class=\"source\">\\n                                    \\n                                        <span class=\"source_thumb\"><img src=\"https://s.pstatic.net/dthumb.phinf/?src&#x3D;%22https%3A%2F%2Fs.pstatic.net%2Ftvcast.phinf%2F20220101_103%2F7YTO8_16410375007043ENa9_PNG%2F2021123110351479549804455098612.png%22&amp;type&#x3D;navermain_nf40_40\" data-src=\"https://s.pstatic.net/dthumb.phinf/?src&#x3D;%22https%3A%2F%2Fs.pstatic.net%2Ftvcast.phinf%2F20220101_103%2F7YTO8_16410375007043ENa9_PNG%2F2021123110351479549804455098612.png%22&amp;type&#x3D;navermain_nf40_40\" alt=\"\" width=\"20\" height=\"20\" onerror=\"this.outerHTML=\\'<i class=\\\\\\'pm_source_noimg\\\\\\'><span class=\\\\\\'blind\\\\\\'>이미지준비중</span></i>\\'\"></span>\\n                                    \\n                                    <span class=\"source_inner\">국민가수 토크콘서트</span>\\n                                </span>\\n\\t\\t\\t\\t\\t\\t\\t</div>\\n\\t\\t\\t\\t\\t\\t</div>\\n\\t\\t\\t\\t\\t</div>\\n\\t\\t\\t\\t</a>\\n\\t\\t\\t\\n\\t\\t</div>\\n\\t</div>\\n</div>\\n\\n<div class=\"group_theme\" data-block-id=\"61bae4aea10d3006850d7650\" data-block-code=\"PC-THEME-MYFEED-RECOMMEND-1\" data-block-type=\"PC-MYFEED-BLOCK\" data-template-code=\"3X3\"\\n\\n\\t data-page=\"1\"\\n\\t >\\n\\n\\t<div class=\"media_view_wrap type_column\">\\n\\t\\t<div class=\"media_view\">\\n\\t\\t\\t\\n\\t\\t\\t\\t<a href=\"https://m.post.naver.com/viewer/postView.naver?volumeNo&#x3D;33049677&amp;memberNo&#x3D;30656242&amp;vType&#x3D;VERTICAL\" class=\"media_area\" data-da-position=\"true\" data-gdid=\"00055f7ca0_0001f84c4d\" data-clk=\"tcc_sub.list1cont1\" target=\"_blank\">\\n\\t\\t\\t\\t\\t<div class=\"media_thumb\">\\n\\t\\t\\t\\t\\t\\t<img src=\"https://s.pstatic.net/dthumb.phinf/?src&#x3D;%22https%3A%2F%2Fdiscovercrop-phinf.pstatic.net%2F%2FMjAyMjAxMDJfMTEg%2FMDAxNjQxMTA1MDQwMTM4.QXBiQgJ-IALjNYoBFO1rasi1INGPcCDLec6oJBS6GKog.EzCYawSM37toI1MHJphanEw2faAeA9zAFxkotrFEDicg.JPEG%2Fimage_374x246.jpg%22&amp;type&#x3D;nf464_260\" data-src=\"https://s.pstatic.net/dthumb.phinf/?src&#x3D;%22https%3A%2F%2Fdiscovercrop-phinf.pstatic.net%2F%2FMjAyMjAxMDJfMTEg%2FMDAxNjQxMTA1MDQwMTM4.QXBiQgJ-IALjNYoBFO1rasi1INGPcCDLec6oJBS6GKog.EzCYawSM37toI1MHJphanEw2faAeA9zAFxkotrFEDicg.JPEG%2Fimage_374x246.jpg%22&amp;type&#x3D;nf464_260\" alt=\"[에이티즈] 함께라서 더욱 따뜻했던 2021 가요대전 대기실 비하인드\" width=\"232\" height=\"130\" onerror=\"this.outerHTML=\\'<span class=\\\\\\'pm_noimg\\\\\\'><span class=\\\\\\'noimg_text\\\\\\'>이미지 준비중</span></span>\\'\">\\n\\n\\t\\t\\t\\t\\t\\t\\n\\t\\t\\t\\t\\t\\t\\t<span class=\"thumb_bd\"></span>\\n                            \\n\\t\\t\\t\\t\\t\\t\\n\\t\\t\\t\\t\\t</div>\\n\\t\\t\\t\\t\\t<div class=\"media_info\">\\n\\t\\t\\t\\t\\t\\t<div class=\"info_box\">\\n\\t\\t\\t\\t\\t\\t\\t\\n\\t\\t\\t\\t\\t\\t\\t<strong class=\"title \">[에이티즈] 함께라서 더욱 따뜻했던 2021 가요대전 대기실 비하인드</strong>\\n\\t\\t\\t\\t\\t\\t\\t<div class=\"source_wrap\">\\n\\t\\t\\t\\t\\t\\t\\t\\t<span class=\"date\">5일 전</span>\\n                                <span class=\"source\">\\n                                    \\n                                        <span class=\"source_thumb\"><img src=\"https://s.pstatic.net/dthumb.phinf/?src&#x3D;%22https%3A%2F%2Fs.pstatic.net%2Fpost.phinf%2FMjAxNzExMTZfMjIw%2FMDAxNTEwODEyMjk1ODA0.lXkpgEUnKcehN49p6V1uYa-P9T927X8j2RDEHck4ejEg.X5wCerqC-SoN3B7FZpn2EvF8R_njhuvwVo6I8fKgijEg.JPEG%2Fpost_1845589584815176346.jpg%3Ftype%3Df200_200%22&amp;type&#x3D;navermain_nf40_40\" data-src=\"https://s.pstatic.net/dthumb.phinf/?src&#x3D;%22https%3A%2F%2Fs.pstatic.net%2Fpost.phinf%2FMjAxNzExMTZfMjIw%2FMDAxNTEwODEyMjk1ODA0.lXkpgEUnKcehN49p6V1uYa-P9T927X8j2RDEHck4ejEg.X5wCerqC-SoN3B7FZpn2EvF8R_njhuvwVo6I8fKgijEg.JPEG%2Fpost_1845589584815176346.jpg%3Ftype%3Df200_200%22&amp;type&#x3D;navermain_nf40_40\" alt=\"\" width=\"20\" height=\"20\" onerror=\"this.outerHTML=\\'<i class=\\\\\\'pm_source_noimg\\\\\\'><span class=\\\\\\'blind\\\\\\'>이미지준비중</span></i>\\'\"></span>\\n                                    \\n                                    <span class=\"source_inner\">KQ 엔터테인먼트</span>\\n                                </span>\\n\\t\\t\\t\\t\\t\\t\\t</div>\\n\\t\\t\\t\\t\\t\\t</div>\\n\\t\\t\\t\\t\\t</div>\\n\\t\\t\\t\\t</a>\\n\\t\\t\\t\\n\\t\\t\\t\\t<a href=\"https://in.naver.com/pass9937/contents/internal/388984816851712\" class=\"media_area\" data-da-position=\"true\" data-gdid=\"90000003_0000000000000033D4BD705E\" data-clk=\"tcc_sub.list1cont2\" target=\"_blank\">\\n\\t\\t\\t\\t\\t<div class=\"media_thumb\">\\n\\t\\t\\t\\t\\t\\t<img src=\"https://s.pstatic.net/dthumb.phinf/?src&#x3D;%22https%3A%2F%2Fdiscovercrop-phinf.pstatic.net%2F%2FMjAyMjAxMDRfMjQw%2FMDAxNjQxMjc5MzU1MDUy.fLE6ogA4wTw6NwggdC-A8Fz8QUOVDT4w5Oruhdzwg_sg.1YQES4AHaXYdRHOO8kFCuOwZ3QljdOU0ggEpr3qo9xMg.JPEG%2Fimage_374x246.jpg%22&amp;type&#x3D;nf464_260\" data-src=\"https://s.pstatic.net/dthumb.phinf/?src&#x3D;%22https%3A%2F%2Fdiscovercrop-phinf.pstatic.net%2F%2FMjAyMjAxMDRfMjQw%2FMDAxNjQxMjc5MzU1MDUy.fLE6ogA4wTw6NwggdC-A8Fz8QUOVDT4w5Oruhdzwg_sg.1YQES4AHaXYdRHOO8kFCuOwZ3QljdOU0ggEpr3qo9xMg.JPEG%2Fimage_374x246.jpg%22&amp;type&#x3D;nf464_260\" alt=\"천리향 키우기, 가지치기, 물주기, 분갈이(만리향 나무 삽목,향기좋은 꽃)\" width=\"232\" height=\"130\" onerror=\"this.outerHTML=\\'<span class=\\\\\\'pm_noimg\\\\\\'><span class=\\\\\\'noimg_text\\\\\\'>이미지 준비중</span></span>\\'\">\\n\\n\\t\\t\\t\\t\\t\\t\\n\\t\\t\\t\\t\\t\\t\\t<span class=\"thumb_bd\"></span>\\n                            \\n\\t\\t\\t\\t\\t\\t\\n\\t\\t\\t\\t\\t</div>\\n\\t\\t\\t\\t\\t<div class=\"media_info\">\\n\\t\\t\\t\\t\\t\\t<div class=\"info_box\">\\n\\t\\t\\t\\t\\t\\t\\t\\n\\t\\t\\t\\t\\t\\t\\t<strong class=\"title \">천리향 키우기, 가지치기, 물주기, 분갈이(만리향 나무 삽목,향기좋은 꽃)</strong>\\n\\t\\t\\t\\t\\t\\t\\t<div class=\"source_wrap\">\\n\\t\\t\\t\\t\\t\\t\\t\\t<span class=\"date\">3일 전</span>\\n                                <span class=\"source\">\\n                                    \\n                                        <span class=\"source_thumb\"><img src=\"https://s.pstatic.net/dthumb.phinf/?src&#x3D;%22http%3A%2F%2Fblogpfthumb.phinf.naver.net%2FMjAyMTEyMTlfMTQ5%2FMDAxNjM5ODgyMTU1NjUx.xvcF_xCP_wKTOJT_ULRBGjAp04m2M_SI-BwCSdf1RW8g.S1gixlZLg2OSeZ4pYEaAYV8r3KBrui2rF-V6pq0P1rkg.JPEG.pass9937%2F20211214%2B%252857%2529.JPG%22&amp;type&#x3D;navermain_nf40_40\" data-src=\"https://s.pstatic.net/dthumb.phinf/?src&#x3D;%22http%3A%2F%2Fblogpfthumb.phinf.naver.net%2FMjAyMTEyMTlfMTQ5%2FMDAxNjM5ODgyMTU1NjUx.xvcF_xCP_wKTOJT_ULRBGjAp04m2M_SI-BwCSdf1RW8g.S1gixlZLg2OSeZ4pYEaAYV8r3KBrui2rF-V6pq0P1rkg.JPEG.pass9937%2F20211214%2B%252857%2529.JPG%22&amp;type&#x3D;navermain_nf40_40\" alt=\"\" width=\"20\" height=\"20\" onerror=\"this.outerHTML=\\'<i class=\\\\\\'pm_source_noimg\\\\\\'><span class=\\\\\\'blind\\\\\\'>이미지준비중</span></i>\\'\"></span>\\n                                    \\n                                    <span class=\"source_inner\"><em class=\"theme_hl\">인플루언서</em>다육이 엄마</span>\\n                                </span>\\n\\t\\t\\t\\t\\t\\t\\t</div>\\n\\t\\t\\t\\t\\t\\t</div>\\n\\t\\t\\t\\t\\t</div>\\n\\t\\t\\t\\t</a>\\n\\t\\t\\t\\n\\t\\t\\t\\t<a href=\"https://in.naver.com/ogda/contents/internal/388928981015008\" class=\"media_area\" data-da-position=\"true\" data-gdid=\"90000003_0000000000000033D4BB6E0C\" data-clk=\"tcc_sub.list1cont3\" target=\"_blank\">\\n\\t\\t\\t\\t\\t<div class=\"media_thumb\">\\n\\t\\t\\t\\t\\t\\t<img src=\"https://s.pstatic.net/dthumb.phinf/?src&#x3D;%22https%3A%2F%2Fdiscovercrop-phinf.pstatic.net%2F%2FMjAyMjAxMDRfOTYg%2FMDAxNjQxMjcyNDQwMDY0.yKO0aFVP5KGyFsxOf-YbZaVF39WA_x2RqNJusEVIeEIg.w7Y6YxxJwKPjkw2T9yoPb5UZkzXf_JOHt9dy5rfGwkkg.JPEG%2Fimage_374x246.jpg%22&amp;type&#x3D;nf464_260\" data-src=\"https://s.pstatic.net/dthumb.phinf/?src&#x3D;%22https%3A%2F%2Fdiscovercrop-phinf.pstatic.net%2F%2FMjAyMjAxMDRfOTYg%2FMDAxNjQxMjcyNDQwMDY0.yKO0aFVP5KGyFsxOf-YbZaVF39WA_x2RqNJusEVIeEIg.w7Y6YxxJwKPjkw2T9yoPb5UZkzXf_JOHt9dy5rfGwkkg.JPEG%2Fimage_374x246.jpg%22&amp;type&#x3D;nf464_260\" alt=\"현대 신형 쏘나타 페이스리프트 건너뛰고 풀체인지? 예상도 공개\" width=\"232\" height=\"130\" onerror=\"this.outerHTML=\\'<span class=\\\\\\'pm_noimg\\\\\\'><span class=\\\\\\'noimg_text\\\\\\'>이미지 준비중</span></span>\\'\">\\n\\n\\t\\t\\t\\t\\t\\t\\n\\t\\t\\t\\t\\t\\t\\t<span class=\"thumb_bd\"></span>\\n                            \\n\\t\\t\\t\\t\\t\\t\\n\\t\\t\\t\\t\\t</div>\\n\\t\\t\\t\\t\\t<div class=\"media_info\">\\n\\t\\t\\t\\t\\t\\t<div class=\"info_box\">\\n\\t\\t\\t\\t\\t\\t\\t\\n\\t\\t\\t\\t\\t\\t\\t<strong class=\"title \">현대 신형 쏘나타 페이스리프트 건너뛰고 풀체인지? 예상도 공개</strong>\\n\\t\\t\\t\\t\\t\\t\\t<div class=\"source_wrap\">\\n\\t\\t\\t\\t\\t\\t\\t\\t<span class=\"date\">3일 전</span>\\n                                <span class=\"source\">\\n                                    \\n                                        <span class=\"source_thumb\"><img src=\"https://s.pstatic.net/dthumb.phinf/?src&#x3D;%22http%3A%2F%2Fblogpfthumb.phinf.naver.net%2FMjAyMTExMjhfMTEz%2FMDAxNjM4MDI5NjQzNzI5.H2zWHxYYti7d_8MVBlm9GKCh20uFR2pRa-0gZkA5pAcg.cGIiX9TEdHSleSFj9_29vWf_fZhyhPxrWC1iymI0jhQg.GIF.osh1605%2F%25EC%2583%2588%25EB%25A1%259C%25EC%259A%25B4-OGDA%25EB%25A1%259C%25EA%25B3%25A0--GIF%2528-%25EC%2582%25AC%25EC%259D%25B4%25EC%25A6%2588%25EC%25A4%2584%25EC%259E%2584%2529.gif%22&amp;type&#x3D;navermain_nf40_40\" data-src=\"https://s.pstatic.net/dthumb.phinf/?src&#x3D;%22http%3A%2F%2Fblogpfthumb.phinf.naver.net%2FMjAyMTExMjhfMTEz%2FMDAxNjM4MDI5NjQzNzI5.H2zWHxYYti7d_8MVBlm9GKCh20uFR2pRa-0gZkA5pAcg.cGIiX9TEdHSleSFj9_29vWf_fZhyhPxrWC1iymI0jhQg.GIF.osh1605%2F%25EC%2583%2588%25EB%25A1%259C%25EC%259A%25B4-OGDA%25EB%25A1%259C%25EA%25B3%25A0--GIF%2528-%25EC%2582%25AC%25EC%259D%25B4%25EC%25A6%2588%25EC%25A4%2584%25EC%259E%2584%2529.gif%22&amp;type&#x3D;navermain_nf40_40\" alt=\"\" width=\"20\" height=\"20\" onerror=\"this.outerHTML=\\'<i class=\\\\\\'pm_source_noimg\\\\\\'><span class=\\\\\\'blind\\\\\\'>이미지준비중</span></i>\\'\"></span>\\n                                    \\n                                    <span class=\"source_inner\"><em class=\"theme_hl\">인플루언서</em>오지다 OGDA</span>\\n                                </span>\\n\\t\\t\\t\\t\\t\\t\\t</div>\\n\\t\\t\\t\\t\\t\\t</div>\\n\\t\\t\\t\\t\\t</div>\\n\\t\\t\\t\\t</a>\\n\\t\\t\\t\\n\\t\\t\\t\\t<a href=\"https://m.post.naver.com/viewer/postView.naver?volumeNo&#x3D;33056783&amp;memberNo&#x3D;34537918&amp;vType&#x3D;VERTICAL\" class=\"media_area\" data-da-position=\"true\" data-gdid=\"00055f7ca0_0001f8680f\" data-clk=\"tcc_sub.list1cont4\" target=\"_blank\">\\n\\t\\t\\t\\t\\t<div class=\"media_thumb\">\\n\\t\\t\\t\\t\\t\\t<img src=\"https://s.pstatic.net/dthumb.phinf/?src&#x3D;%22https%3A%2F%2Fdiscovercrop-phinf.pstatic.net%2F%2FMjAyMjAxMDRfMzkg%2FMDAxNjQxMjcyMjA4Nzk1.lLLsOmHMQg_N2STWbMaIZwQZhq_RUZO7qmxCq9hAq5Mg.6wWF0kJNvEgT3MDEQPIpRwkJZC_r37VeYADKtbXEKJMg.JPEG%2Fimage_374x246.jpg%22&amp;type&#x3D;nf464_260\" data-src=\"https://s.pstatic.net/dthumb.phinf/?src&#x3D;%22https%3A%2F%2Fdiscovercrop-phinf.pstatic.net%2F%2FMjAyMjAxMDRfMzkg%2FMDAxNjQxMjcyMjA4Nzk1.lLLsOmHMQg_N2STWbMaIZwQZhq_RUZO7qmxCq9hAq5Mg.6wWF0kJNvEgT3MDEQPIpRwkJZC_r37VeYADKtbXEKJMg.JPEG%2Fimage_374x246.jpg%22&amp;type&#x3D;nf464_260\" alt=\"미스코리아부터 경이로운 소문으로 이름 알린 배우 김정진의 웨딩스튜디오 &#x27;리저브하우스&#x27;\" width=\"232\" height=\"130\" onerror=\"this.outerHTML=\\'<span class=\\\\\\'pm_noimg\\\\\\'><span class=\\\\\\'noimg_text\\\\\\'>이미지 준비중</span></span>\\'\">\\n\\n\\t\\t\\t\\t\\t\\t\\n\\t\\t\\t\\t\\t\\t\\t<span class=\"thumb_bd\"></span>\\n                            \\n\\t\\t\\t\\t\\t\\t\\n\\t\\t\\t\\t\\t</div>\\n\\t\\t\\t\\t\\t<div class=\"media_info\">\\n\\t\\t\\t\\t\\t\\t<div class=\"info_box\">\\n\\t\\t\\t\\t\\t\\t\\t\\n\\t\\t\\t\\t\\t\\t\\t<strong class=\"title \">미스코리아부터 경이로운 소문으로 이름 알린 배우 김정진의 웨딩스튜디오 \\'리저브하우스\\'</strong>\\n\\t\\t\\t\\t\\t\\t\\t<div class=\"source_wrap\">\\n\\t\\t\\t\\t\\t\\t\\t\\t<span class=\"date\">3일 전</span>\\n                                <span class=\"source\">\\n                                    \\n                                        <span class=\"source_thumb\"><img src=\"https://s.pstatic.net/dthumb.phinf/?src&#x3D;%22https%3A%2F%2Fs.pstatic.net%2Fpost.phinf%2FMjAyMDA3MjRfMjIx%2FMDAxNTk1NTgwMjUwNzYw.uW96wQFP6lj4MqypZFt3iGuqjbzLuSJbk07b_iFs0ugg.ah4SDfmb-hXSBBgDiDiZgJJ8Rm8khPz-QOhXNcoG9w8g.PNG%2Fpost_7184551192649464621.png%3Ftype%3Df200_200%22&amp;type&#x3D;navermain_nf40_40\" data-src=\"https://s.pstatic.net/dthumb.phinf/?src&#x3D;%22https%3A%2F%2Fs.pstatic.net%2Fpost.phinf%2FMjAyMDA3MjRfMjIx%2FMDAxNTk1NTgwMjUwNzYw.uW96wQFP6lj4MqypZFt3iGuqjbzLuSJbk07b_iFs0ugg.ah4SDfmb-hXSBBgDiDiZgJJ8Rm8khPz-QOhXNcoG9w8g.PNG%2Fpost_7184551192649464621.png%3Ftype%3Df200_200%22&amp;type&#x3D;navermain_nf40_40\" alt=\"\" width=\"20\" height=\"20\" onerror=\"this.outerHTML=\\'<i class=\\\\\\'pm_source_noimg\\\\\\'><span class=\\\\\\'blind\\\\\\'>이미지준비중</span></i>\\'\"></span>\\n                                    \\n                                    <span class=\"source_inner\">아이웨딩</span>\\n                                </span>\\n\\t\\t\\t\\t\\t\\t\\t</div>\\n\\t\\t\\t\\t\\t\\t</div>\\n\\t\\t\\t\\t\\t</div>\\n\\t\\t\\t\\t</a>\\n\\t\\t\\t\\n\\t\\t\\t\\t<a href=\"https://in.naver.com/homt_mom/contents/internal/388363326299136\" class=\"media_area\" data-da-position=\"true\" data-gdid=\"90000003_0000000000000033D4A6C2AB\" data-clk=\"tcc_sub.list1cont5\" target=\"_blank\">\\n\\t\\t\\t\\t\\t<div class=\"media_thumb\">\\n\\t\\t\\t\\t\\t\\t<img src=\"https://s.pstatic.net/dthumb.phinf/?src&#x3D;%22https%3A%2F%2Fdiscovercrop-phinf.pstatic.net%2F%2FMjAyMjAxMDJfMjEy%2FMDAxNjQxMTIzOTkzMjI1.O8uREJSDBuCppkGTIsgcanrMc5f4N5-3TAgMeZX1cAIg.67IFYmxmnU3G4z6P0IIa21caI2z9qLou1bWXf6UAo00g.JPEG%2Fimage_374x246.jpg%22&amp;type&#x3D;nf464_260\" data-src=\"https://s.pstatic.net/dthumb.phinf/?src&#x3D;%22https%3A%2F%2Fdiscovercrop-phinf.pstatic.net%2F%2FMjAyMjAxMDJfMjEy%2FMDAxNjQxMTIzOTkzMjI1.O8uREJSDBuCppkGTIsgcanrMc5f4N5-3TAgMeZX1cAIg.67IFYmxmnU3G4z6P0IIa21caI2z9qLou1bWXf6UAo00g.JPEG%2Fimage_374x246.jpg%22&amp;type&#x3D;nf464_260\" alt=\"윗배, 아랫배 체지방 빼는 여자 복근운동 루틴\" width=\"232\" height=\"130\" onerror=\"this.outerHTML=\\'<span class=\\\\\\'pm_noimg\\\\\\'><span class=\\\\\\'noimg_text\\\\\\'>이미지 준비중</span></span>\\'\">\\n\\n\\t\\t\\t\\t\\t\\t\\n\\t\\t\\t\\t\\t\\t\\t<span class=\"thumb_bd\"></span>\\n                            \\n\\t\\t\\t\\t\\t\\t\\n\\t\\t\\t\\t\\t</div>\\n\\t\\t\\t\\t\\t<div class=\"media_info\">\\n\\t\\t\\t\\t\\t\\t<div class=\"info_box\">\\n\\t\\t\\t\\t\\t\\t\\t\\n\\t\\t\\t\\t\\t\\t\\t<strong class=\"title \">윗배, 아랫배 체지방 빼는 여자 복근운동 루틴</strong>\\n\\t\\t\\t\\t\\t\\t\\t<div class=\"source_wrap\">\\n\\t\\t\\t\\t\\t\\t\\t\\t<span class=\"date\">4일 전</span>\\n                                <span class=\"source\">\\n                                    \\n                                        <span class=\"source_thumb\"><img src=\"https://s.pstatic.net/dthumb.phinf/?src&#x3D;%22http%3A%2F%2Fblogpfthumb.phinf.naver.net%2FMjAyMTA5MjJfNSAg%2FMDAxNjMyMzIwNjgwNTgw.to6aTuI3apx5aeNtcTjAdhxm-6j33XhsZ1O-DtdPSogg.Ta7HWKgmLnRIdqX-iPrVfAT6R1PJSY7L-tWYxUheveMg.PNG.dongillid%2FKakaoTalk_20210922_232419324.png%22&amp;type&#x3D;navermain_nf40_40\" data-src=\"https://s.pstatic.net/dthumb.phinf/?src&#x3D;%22http%3A%2F%2Fblogpfthumb.phinf.naver.net%2FMjAyMTA5MjJfNSAg%2FMDAxNjMyMzIwNjgwNTgw.to6aTuI3apx5aeNtcTjAdhxm-6j33XhsZ1O-DtdPSogg.Ta7HWKgmLnRIdqX-iPrVfAT6R1PJSY7L-tWYxUheveMg.PNG.dongillid%2FKakaoTalk_20210922_232419324.png%22&amp;type&#x3D;navermain_nf40_40\" alt=\"\" width=\"20\" height=\"20\" onerror=\"this.outerHTML=\\'<i class=\\\\\\'pm_source_noimg\\\\\\'><span class=\\\\\\'blind\\\\\\'>이미지준비중</span></i>\\'\"></span>\\n                                    \\n                                    <span class=\"source_inner\"><em class=\"theme_hl\">인플루언서</em>털선생</span>\\n                                </span>\\n\\t\\t\\t\\t\\t\\t\\t</div>\\n\\t\\t\\t\\t\\t\\t</div>\\n\\t\\t\\t\\t\\t</div>\\n\\t\\t\\t\\t</a>\\n\\t\\t\\t\\n\\t\\t\\t\\t<a href=\"https://contents.premium.naver.com/dreamclub101/dreamlab101/contents/220102225004965DG\" class=\"media_area\" data-da-position=\"true\" data-gdid=\"8830a3s6_220102225004965DG\" data-clk=\"tcc_sub.list1cont6\" target=\"_blank\">\\n\\t\\t\\t\\t\\t<div class=\"media_thumb\">\\n\\t\\t\\t\\t\\t\\t<img src=\"https://s.pstatic.net/dthumb.phinf/?src&#x3D;%22https%3A%2F%2Fdthumb-phinf.pstatic.net%2Fdthumb%3Fsrc%3D%2522https%3A%2F%2Fpostfiles.pstatic.net%2FMjAyMTA3MDJfMzEg%2FMDAxNjI1MTU4MjQ1MzY2.o47nN7i8JOcw_vE4ZTcbbVztpE75q4UFSJYeY8DvOPkg.GGyPpNRFwhvW3TK0mCB5pbHu8twDfOA1rqNJpr3Ytmcg.JPEG.fancycrabs77%2Fg1f161591fa6ffd8e9ef1a4324d997eebe94443a33b3b8fc97e0c047f1dc4eea6075640c4a42.jpg%3Ftype%3Dw966%2522%26service%3Dscs%22&amp;type&#x3D;nf464_260\" data-src=\"https://s.pstatic.net/dthumb.phinf/?src&#x3D;%22https%3A%2F%2Fdthumb-phinf.pstatic.net%2Fdthumb%3Fsrc%3D%2522https%3A%2F%2Fpostfiles.pstatic.net%2FMjAyMTA3MDJfMzEg%2FMDAxNjI1MTU4MjQ1MzY2.o47nN7i8JOcw_vE4ZTcbbVztpE75q4UFSJYeY8DvOPkg.GGyPpNRFwhvW3TK0mCB5pbHu8twDfOA1rqNJpr3Ytmcg.JPEG.fancycrabs77%2Fg1f161591fa6ffd8e9ef1a4324d997eebe94443a33b3b8fc97e0c047f1dc4eea6075640c4a42.jpg%3Ftype%3Dw966%2522%26service%3Dscs%22&amp;type&#x3D;nf464_260\" alt=\"20대 초반(03~98년생) 정신 차려야 하는 이유\" width=\"232\" height=\"130\" onerror=\"this.outerHTML=\\'<span class=\\\\\\'pm_noimg\\\\\\'><span class=\\\\\\'noimg_text\\\\\\'>이미지 준비중</span></span>\\'\">\\n\\n\\t\\t\\t\\t\\t\\t\\n\\t\\t\\t\\t\\t\\t\\t<span class=\"thumb_bd\"></span>\\n                            \\n                                \\n                                    <em class=\"theme_badge type_charge\"><span class=\"badge_inner\">유료</span></em>\\n                                \\n                            \\n\\t\\t\\t\\t\\t\\t\\n\\t\\t\\t\\t\\t</div>\\n\\t\\t\\t\\t\\t<div class=\"media_info\">\\n\\t\\t\\t\\t\\t\\t<div class=\"info_box\">\\n\\t\\t\\t\\t\\t\\t\\t\\n\\t\\t\\t\\t\\t\\t\\t<strong class=\"title \">20대 초반(03~98년생) 정신 차려야 하는 이유</strong>\\n\\t\\t\\t\\t\\t\\t\\t<div class=\"source_wrap\">\\n\\t\\t\\t\\t\\t\\t\\t\\t<span class=\"date\">4일 전</span>\\n                                <span class=\"source\">\\n                                    \\n                                        <span class=\"source_thumb\"><img src=\"https://s.pstatic.net/dthumb.phinf/?src&#x3D;%22https%3A%2F%2Fs.pstatic.net%2Fscs.phinf%2FMjAyMTA5MTVfMjgy%2FMDAxNjMxNzExMjExNTAy.VPCfKvTs8UnAgRJWFD0tAufWnHdyZj-Ak1_0TA6dYqcg.oVLorJonWzcmU-CnCPYEwUGXZfQjweQ_l3Y1Rbh4aqkg.JPEG%2Fimage%257Cpremium%257Cchannel%257Cdreamclub101%257C2021%257C09%257C15%257C1631711211466.jpg%22&amp;type&#x3D;navermain_nf40_40\" data-src=\"https://s.pstatic.net/dthumb.phinf/?src&#x3D;%22https%3A%2F%2Fs.pstatic.net%2Fscs.phinf%2FMjAyMTA5MTVfMjgy%2FMDAxNjMxNzExMjExNTAy.VPCfKvTs8UnAgRJWFD0tAufWnHdyZj-Ak1_0TA6dYqcg.oVLorJonWzcmU-CnCPYEwUGXZfQjweQ_l3Y1Rbh4aqkg.JPEG%2Fimage%257Cpremium%257Cchannel%257Cdreamclub101%257C2021%257C09%257C15%257C1631711211466.jpg%22&amp;type&#x3D;navermain_nf40_40\" alt=\"\" width=\"20\" height=\"20\" onerror=\"this.outerHTML=\\'<i class=\\\\\\'pm_source_noimg\\\\\\'><span class=\\\\\\'blind\\\\\\'>이미지준비중</span></i>\\'\"></span>\\n                                    \\n                                    <span class=\"source_inner\"><em class=\"theme_hl\">프리미엄</em>꿈붕어에듀의 경영학연구소</span>\\n                                </span>\\n\\t\\t\\t\\t\\t\\t\\t</div>\\n\\t\\t\\t\\t\\t\\t</div>\\n\\t\\t\\t\\t\\t</div>\\n\\t\\t\\t\\t</a>\\n\\t\\t\\t\\n\\t\\t\\t\\t<a href=\"http://blog.naver.com/euneuntwin0506/222298868944\" class=\"media_area\" data-da-position=\"true\" data-gdid=\"90000003_0000000000000033C20B8CD0\" data-clk=\"tcc_sub.list1cont7\" target=\"_blank\">\\n\\t\\t\\t\\t\\t<div class=\"media_thumb\">\\n\\t\\t\\t\\t\\t\\t<img src=\"https://s.pstatic.net/dthumb.phinf/?src&#x3D;%22https%3A%2F%2Fdiscovercrop-phinf.pstatic.net%2F%2FMjAyMTExMTJfNjcg%2FMDAxNjM2NjcwMTE5NDA4.47q9MJaubdsID6hYMr1fbn5UmTuIUCtsf8CpAe6sjk4g.ehvbJXN8-Lq9tT2shgW7lThTwVke4KXGHKbvpjMGDMQg.JPEG%2Fimage_374x246.jpg%22&amp;type&#x3D;nf464_260\" data-src=\"https://s.pstatic.net/dthumb.phinf/?src&#x3D;%22https%3A%2F%2Fdiscovercrop-phinf.pstatic.net%2F%2FMjAyMTExMTJfNjcg%2FMDAxNjM2NjcwMTE5NDA4.47q9MJaubdsID6hYMr1fbn5UmTuIUCtsf8CpAe6sjk4g.ehvbJXN8-Lq9tT2shgW7lThTwVke4KXGHKbvpjMGDMQg.JPEG%2Fimage_374x246.jpg%22&amp;type&#x3D;nf464_260\" alt=\"도시락반찬 겸 일주일 밑반찬 만들기\" width=\"232\" height=\"130\" onerror=\"this.outerHTML=\\'<span class=\\\\\\'pm_noimg\\\\\\'><span class=\\\\\\'noimg_text\\\\\\'>이미지 준비중</span></span>\\'\">\\n\\n\\t\\t\\t\\t\\t\\t\\n\\t\\t\\t\\t\\t\\t\\t<span class=\"thumb_bd\"></span>\\n                            \\n\\t\\t\\t\\t\\t\\t\\n\\t\\t\\t\\t\\t</div>\\n\\t\\t\\t\\t\\t<div class=\"media_info\">\\n\\t\\t\\t\\t\\t\\t<div class=\"info_box\">\\n\\t\\t\\t\\t\\t\\t\\t\\n\\t\\t\\t\\t\\t\\t\\t<strong class=\"title \">도시락반찬 겸 일주일 밑반찬 만들기</strong>\\n\\t\\t\\t\\t\\t\\t\\t<div class=\"source_wrap\">\\n\\t\\t\\t\\t\\t\\t\\t\\t<span class=\"date\">9개월 전</span>\\n                                <span class=\"source\">\\n                                    \\n                                        <span class=\"source_thumb\"><img src=\"https://s.pstatic.net/dthumb.phinf/?src&#x3D;%22http%3A%2F%2Fblogpfthumb.phinf.naver.net%2FMjAyMDA5MTZfMjYx%2FMDAxNjAwMTg1MDc1Njc2.gz22GjciZXXExtpUJ9r4YMt8H6hs8XzpZ6e_qPy1oygg.AZ2mnmQgS_7k25jhSWwK3k9JaN1b73uKn6atm9I49Msg.PNG.euneuntwin0506%2FprofileImage.png%22&amp;type&#x3D;navermain_nf40_40\" data-src=\"https://s.pstatic.net/dthumb.phinf/?src&#x3D;%22http%3A%2F%2Fblogpfthumb.phinf.naver.net%2FMjAyMDA5MTZfMjYx%2FMDAxNjAwMTg1MDc1Njc2.gz22GjciZXXExtpUJ9r4YMt8H6hs8XzpZ6e_qPy1oygg.AZ2mnmQgS_7k25jhSWwK3k9JaN1b73uKn6atm9I49Msg.PNG.euneuntwin0506%2FprofileImage.png%22&amp;type&#x3D;navermain_nf40_40\" alt=\"\" width=\"20\" height=\"20\" onerror=\"this.outerHTML=\\'<i class=\\\\\\'pm_source_noimg\\\\\\'><span class=\\\\\\'blind\\\\\\'>이미지준비중</span></i>\\'\"></span>\\n                                    \\n                                    <span class=\"source_inner\">꾸렁이원투</span>\\n                                </span>\\n\\t\\t\\t\\t\\t\\t\\t</div>\\n\\t\\t\\t\\t\\t\\t</div>\\n\\t\\t\\t\\t\\t</div>\\n\\t\\t\\t\\t</a>\\n\\t\\t\\t\\n\\t\\t\\t\\t<a href=\"https://in.naver.com/gaeddong/contents/internal/386683094614464\" class=\"media_area\" data-da-position=\"true\" data-gdid=\"90000003_0000000000000033D46BF150\" data-clk=\"tcc_sub.list1cont8\" target=\"_blank\">\\n\\t\\t\\t\\t\\t<div class=\"media_thumb\">\\n\\t\\t\\t\\t\\t\\t<img src=\"https://s.pstatic.net/dthumb.phinf/?src&#x3D;%22https%3A%2F%2Fdiscovercrop-phinf.pstatic.net%2F%2FMjAyMTEyMjlfMjgz%2FMDAxNjQwNzEyODg2MTkx.4fQiRqezC0X2zt1kNOt_akCS7xNcYL5iH853hKiahiIg.jacef8v026RxCbB98_72-_LHB19yGlrUkgHDuVjIeIog.JPEG%2Fimage_374x246.jpg%22&amp;type&#x3D;nf464_260\" data-src=\"https://s.pstatic.net/dthumb.phinf/?src&#x3D;%22https%3A%2F%2Fdiscovercrop-phinf.pstatic.net%2F%2FMjAyMTEyMjlfMjgz%2FMDAxNjQwNzEyODg2MTkx.4fQiRqezC0X2zt1kNOt_akCS7xNcYL5iH853hKiahiIg.jacef8v026RxCbB98_72-_LHB19yGlrUkgHDuVjIeIog.JPEG%2Fimage_374x246.jpg%22&amp;type&#x3D;nf464_260\" alt=\"2021 자라 세일 오프라인 쇼핑 후기 및 품목 추천 리뷰\" width=\"232\" height=\"130\" onerror=\"this.outerHTML=\\'<span class=\\\\\\'pm_noimg\\\\\\'><span class=\\\\\\'noimg_text\\\\\\'>이미지 준비중</span></span>\\'\">\\n\\n\\t\\t\\t\\t\\t\\t\\n\\t\\t\\t\\t\\t\\t\\t<span class=\"thumb_bd\"></span>\\n                            \\n\\t\\t\\t\\t\\t\\t\\n\\t\\t\\t\\t\\t</div>\\n\\t\\t\\t\\t\\t<div class=\"media_info\">\\n\\t\\t\\t\\t\\t\\t<div class=\"info_box\">\\n\\t\\t\\t\\t\\t\\t\\t\\n\\t\\t\\t\\t\\t\\t\\t<strong class=\"title \">2021 자라 세일 오프라인 쇼핑 후기 및 품목 추천 리뷰</strong>\\n\\t\\t\\t\\t\\t\\t\\t<div class=\"source_wrap\">\\n\\t\\t\\t\\t\\t\\t\\t\\t<span class=\"date\">1주일 전</span>\\n                                <span class=\"source\">\\n                                    \\n                                        <span class=\"source_thumb\"><img src=\"https://s.pstatic.net/dthumb.phinf/?src&#x3D;%22http%3A%2F%2Fblogpfthumb.phinf.naver.net%2FMjAyMDAzMDRfMTEy%2FMDAxNTgzMzMzMjM1NDE0.IGelTLNSRn0bD4dID9UlWkwYKfLU1JLlM-XDTWPbPDIg.53sfINAO8_QRhuRw_GwJC6fobgD72kEB_rR9l4x3OGgg.PNG.skytkdghk%2FprofileImage.png%22&amp;type&#x3D;navermain_nf40_40\" data-src=\"https://s.pstatic.net/dthumb.phinf/?src&#x3D;%22http%3A%2F%2Fblogpfthumb.phinf.naver.net%2FMjAyMDAzMDRfMTEy%2FMDAxNTgzMzMzMjM1NDE0.IGelTLNSRn0bD4dID9UlWkwYKfLU1JLlM-XDTWPbPDIg.53sfINAO8_QRhuRw_GwJC6fobgD72kEB_rR9l4x3OGgg.PNG.skytkdghk%2FprofileImage.png%22&amp;type&#x3D;navermain_nf40_40\" alt=\"\" width=\"20\" height=\"20\" onerror=\"this.outerHTML=\\'<i class=\\\\\\'pm_source_noimg\\\\\\'><span class=\\\\\\'blind\\\\\\'>이미지준비중</span></i>\\'\"></span>\\n                                    \\n                                    <span class=\"source_inner\"><em class=\"theme_hl\">인플루언서</em>개똥</span>\\n                                </span>\\n\\t\\t\\t\\t\\t\\t\\t</div>\\n\\t\\t\\t\\t\\t\\t</div>\\n\\t\\t\\t\\t\\t</div>\\n\\t\\t\\t\\t</a>\\n\\t\\t\\t\\n\\t\\t\\t\\t<a href=\"http://tv.naver.com/v/24480641\" class=\"media_area\" data-da-position=\"true\" data-gdid=\"219DA9F62B06365F387E8A5C6249C00A8113\" data-clk=\"tcc_sub.list1cont9\" target=\"_blank\">\\n\\t\\t\\t\\t\\t<div class=\"media_thumb\">\\n\\t\\t\\t\\t\\t\\t<img src=\"https://s.pstatic.net/dthumb.phinf/?src&#x3D;%22https%3A%2F%2Fs.pstatic.net%2Ftvcast.phinf%2F20220107_7%2FWSFgu_1641515791518KYUyp_PNG%2F9530113a-a841-4d50-aa5d-9d8457125a71.png%22&amp;type&#x3D;nf464_260\" data-src=\"https://s.pstatic.net/dthumb.phinf/?src&#x3D;%22https%3A%2F%2Fs.pstatic.net%2Ftvcast.phinf%2F20220107_7%2FWSFgu_1641515791518KYUyp_PNG%2F9530113a-a841-4d50-aa5d-9d8457125a71.png%22&amp;type&#x3D;nf464_260\" alt=\"[15회 선공개] 장기용, 담담해서 더 애틋한 사랑고백...송혜교의 선택은?\" width=\"232\" height=\"130\" onerror=\"this.outerHTML=\\'<span class=\\\\\\'pm_noimg\\\\\\'><span class=\\\\\\'noimg_text\\\\\\'>이미지 준비중</span></span>\\'\">\\n\\n\\t\\t\\t\\t\\t\\t\\n\\t\\t\\t\\t\\t\\t\\t<span class=\"thumb_dim\"></span>\\n\\t\\t\\t\\t\\t\\t\\t<span class=\"thumb_bd\"></span>\\n\\t\\t\\t\\t\\t\\t\\t<i class=\"pm_ico_play\"><span class=\"blind\">재생</span></i>\\n\\t\\t\\t\\t\\t\\t\\t<span class=\"theme_runtime\"><span class=\"runtime_bg\">재생시간</span><em class=\"time\">02:22</em></span>\\n\\t\\t\\t\\t\\t\\t\\n\\t\\t\\t\\t\\t</div>\\n\\t\\t\\t\\t\\t<div class=\"media_info\">\\n\\t\\t\\t\\t\\t\\t<div class=\"info_box\">\\n\\t\\t\\t\\t\\t\\t\\t\\n\\t\\t\\t\\t\\t\\t\\t<strong class=\"title \">[15회 선공개] 장기용, 담담해서 더 애틋한 사랑고백...송혜교의 선택은?</strong>\\n\\t\\t\\t\\t\\t\\t\\t<div class=\"source_wrap\">\\n\\t\\t\\t\\t\\t\\t\\t\\t<span class=\"date\">4시간 전</span>\\n                                <span class=\"source\">\\n                                    \\n                                        <span class=\"source_thumb\"><img src=\"https://s.pstatic.net/dthumb.phinf/?src&#x3D;%22https%3A%2F%2Fs.pstatic.net%2Ftvcast.phinf%2F20220103_190%2F4W54o_16411735903484N4xh_PNG%2F470e590d-ba2a-49fd-b8e3-f6bb3dd70cc6.png%22&amp;type&#x3D;navermain_nf40_40\" data-src=\"https://s.pstatic.net/dthumb.phinf/?src&#x3D;%22https%3A%2F%2Fs.pstatic.net%2Ftvcast.phinf%2F20220103_190%2F4W54o_16411735903484N4xh_PNG%2F470e590d-ba2a-49fd-b8e3-f6bb3dd70cc6.png%22&amp;type&#x3D;navermain_nf40_40\" alt=\"\" width=\"20\" height=\"20\" onerror=\"this.outerHTML=\\'<i class=\\\\\\'pm_source_noimg\\\\\\'><span class=\\\\\\'blind\\\\\\'>이미지준비중</span></i>\\'\"></span>\\n                                    \\n                                    <span class=\"source_inner\">지금, 헤어지는 중입니다</span>\\n                                </span>\\n\\t\\t\\t\\t\\t\\t\\t</div>\\n\\t\\t\\t\\t\\t\\t</div>\\n\\t\\t\\t\\t\\t</div>\\n\\t\\t\\t\\t</a>\\n\\t\\t\\t\\n\\t\\t</div>\\n\\t</div>\\n</div>\\n\\n<div class=\"group_theme\" data-block-id=\"61bae4aea10d3006850d76cc\" data-block-code=\"PC-THEME-MYFEED-RECOMMEND-2\" data-block-type=\"PC-MYFEED-BLOCK\" data-template-code=\"3X3\"\\n\\n\\t data-page=\"2\"\\n\\t style=\"display:none\">\\n\\n\\t<div class=\"media_view_wrap type_column\">\\n\\t\\t<div class=\"media_view\">\\n\\t\\t\\t\\n\\t\\t\\t\\t<a href=\"https://contents.premium.naver.com/backbriefing/news/contents/220103090923798TJ\" class=\"media_area\" data-da-position=\"true\" data-gdid=\"8830a3s6_220103090923798TJ\" data-clk=\"tcc_sub.list1cont1\" target=\"_blank\">\\n\\t\\t\\t\\t\\t<div class=\"media_thumb\">\\n\\t\\t\\t\\t\\t\\t<img  data-src=\"https://s.pstatic.net/dthumb.phinf/?src&#x3D;%22https%3A%2F%2Fdiscovercrop-phinf.pstatic.net%2F%2FMjAyMjAxMDNfMTgy%2FMDAxNjQxMTc3NzM5MTQ5.yrDTVUtwoS2kD0LFEHJN1l5Y4lZZX72DHbZuvp8IH2gg.C0qgplgrjjrCoLbFjg1wi3fLiR5axou5Q3j_iXpvdEcg.JPEG%2Fimage_374x246.jpg%22&amp;type&#x3D;nf464_260\" alt=\"현대차가 알뜰폰 사업하는 이유\" width=\"232\" height=\"130\" onerror=\"this.outerHTML=\\'<span class=\\\\\\'pm_noimg\\\\\\'><span class=\\\\\\'noimg_text\\\\\\'>이미지 준비중</span></span>\\'\">\\n\\n\\t\\t\\t\\t\\t\\t\\n\\t\\t\\t\\t\\t\\t\\t<span class=\"thumb_bd\"></span>\\n                            \\n                                \\n                                    <em class=\"theme_badge type_free\"><span class=\"badge_inner\">무료</span></em>\\n                                \\n                            \\n\\t\\t\\t\\t\\t\\t\\n\\t\\t\\t\\t\\t</div>\\n\\t\\t\\t\\t\\t<div class=\"media_info\">\\n\\t\\t\\t\\t\\t\\t<div class=\"info_box\">\\n\\t\\t\\t\\t\\t\\t\\t\\n\\t\\t\\t\\t\\t\\t\\t<strong class=\"title \">현대차가 알뜰폰 사업하는 이유</strong>\\n\\t\\t\\t\\t\\t\\t\\t<div class=\"source_wrap\">\\n\\t\\t\\t\\t\\t\\t\\t\\t<span class=\"date\">4일 전</span>\\n                                <span class=\"source\">\\n                                    \\n                                        <span class=\"source_thumb\"><img  data-src=\"https://s.pstatic.net/dthumb.phinf/?src&#x3D;%22https%3A%2F%2Fs.pstatic.net%2Fscs.phinf%2FMjAyMTEyMjdfMTg4%2FMDAxNjQwNTkxMDEzOTQ4.wyQt-abxlprzGf0nL8twIlZxeUX6VFjY6KCwPrD9YrEg.wY0ichWQ3CXXLEhPo7HCB_mFo6OPDm7NRiHgZ-3wQFkg.PNG%2Fimage%257Cpremium%257Cchannel%257Cbackbriefing%257C2021%257C12%257C27%257C1640591013869.png%22&amp;type&#x3D;navermain_nf40_40\" alt=\"\" width=\"20\" height=\"20\" onerror=\"this.outerHTML=\\'<i class=\\\\\\'pm_source_noimg\\\\\\'><span class=\\\\\\'blind\\\\\\'>이미지준비중</span></i>\\'\"></span>\\n                                    \\n                                    <span class=\"source_inner\"><em class=\"theme_hl\">프리미엄</em>삼프로TV 하이라이트</span>\\n                                </span>\\n\\t\\t\\t\\t\\t\\t\\t</div>\\n\\t\\t\\t\\t\\t\\t</div>\\n\\t\\t\\t\\t\\t</div>\\n\\t\\t\\t\\t</a>\\n\\t\\t\\t\\n\\t\\t\\t\\t<a href=\"https://in.naver.com/canslelee/contents/internal/387537402371008\" class=\"media_area\" data-da-position=\"true\" data-gdid=\"90000003_0000000000000033D48AFDB4\" data-clk=\"tcc_sub.list1cont2\" target=\"_blank\">\\n\\t\\t\\t\\t\\t<div class=\"media_thumb\">\\n\\t\\t\\t\\t\\t\\t<img  data-src=\"https://s.pstatic.net/dthumb.phinf/?src&#x3D;%22https%3A%2F%2Fdiscovercrop-phinf.pstatic.net%2F%2FMjAyMTEyMzFfMjc0%2FMDAxNjQwOTIyNDE3MzMx.NRjPon4otk-FWLr892Sbu2oIPrNCSq7QBp0GI32qiz4g.ionwUnNbkmhG8VVfXWJMTiOA-p32fPioBgK0T-5XlKcg.JPEG%2Fimage_374x246.jpg%22&amp;type&#x3D;nf464_260\" alt=\"이모의 생일 선물 보석 십자수, 한달 만에 완성!!\" width=\"232\" height=\"130\" onerror=\"this.outerHTML=\\'<span class=\\\\\\'pm_noimg\\\\\\'><span class=\\\\\\'noimg_text\\\\\\'>이미지 준비중</span></span>\\'\">\\n\\n\\t\\t\\t\\t\\t\\t\\n\\t\\t\\t\\t\\t\\t\\t<span class=\"thumb_bd\"></span>\\n                            \\n\\t\\t\\t\\t\\t\\t\\n\\t\\t\\t\\t\\t</div>\\n\\t\\t\\t\\t\\t<div class=\"media_info\">\\n\\t\\t\\t\\t\\t\\t<div class=\"info_box\">\\n\\t\\t\\t\\t\\t\\t\\t\\n\\t\\t\\t\\t\\t\\t\\t<strong class=\"title \">이모의 생일 선물 보석 십자수, 한달 만에 완성!!</strong>\\n\\t\\t\\t\\t\\t\\t\\t<div class=\"source_wrap\">\\n\\t\\t\\t\\t\\t\\t\\t\\t<span class=\"date\">1주일 전</span>\\n                                <span class=\"source\">\\n                                    \\n                                        <span class=\"source_thumb\"><img  data-src=\"https://s.pstatic.net/dthumb.phinf/?src&#x3D;%22http%3A%2F%2Fblogpfthumb.phinf.naver.net%2FMjAyMDAyMTVfMSAg%2FMDAxNTgxNzc3NzE4ODA2.NPr-DvJteUEo7gcnrjPFi6Ing4th0ROaSKBRFCc-NUkg.e1D0t8gofjm3dKvsh2IlDH9Uv3B5ci4NQqvSD5VugDMg.JPEG.nabisuk%2FprofileImage.jpg%22&amp;type&#x3D;navermain_nf40_40\" alt=\"\" width=\"20\" height=\"20\" onerror=\"this.outerHTML=\\'<i class=\\\\\\'pm_source_noimg\\\\\\'><span class=\\\\\\'blind\\\\\\'>이미지준비중</span></i>\\'\"></span>\\n                                    \\n                                    <span class=\"source_inner\"><em class=\"theme_hl\">인플루언서</em>캔들리</span>\\n                                </span>\\n\\t\\t\\t\\t\\t\\t\\t</div>\\n\\t\\t\\t\\t\\t\\t</div>\\n\\t\\t\\t\\t\\t</div>\\n\\t\\t\\t\\t</a>\\n\\t\\t\\t\\n\\t\\t\\t\\t<a href=\"https://in.naver.com/babucjcj/contents/internal/389299602807808\" class=\"media_area\" data-da-position=\"true\" data-gdid=\"90000003_0000000000000033D4BE1A0D\" data-clk=\"tcc_sub.list1cont3\" target=\"_blank\">\\n\\t\\t\\t\\t\\t<div class=\"media_thumb\">\\n\\t\\t\\t\\t\\t\\t<img  data-src=\"https://s.pstatic.net/dthumb.phinf/?src&#x3D;%22https%3A%2F%2Fdiscovercrop-phinf.pstatic.net%2F%2FMjAyMjAxMDVfMjcy%2FMDAxNjQxMzU4NjI3NTk3.Bzg_wN_4kmtfUNXAFXsP8eYecWc0VmsK1KbquxYSOywg.nuANGkGzDdx_qz-U46P2VK7YcNaNY-FTpgllTbV0rk0g.JPEG%2Fimage_374x246.jpg%22&amp;type&#x3D;nf464_260\" alt=\"코스트코 빵 종류 다 찍어왔드아~\" width=\"232\" height=\"130\" onerror=\"this.outerHTML=\\'<span class=\\\\\\'pm_noimg\\\\\\'><span class=\\\\\\'noimg_text\\\\\\'>이미지 준비중</span></span>\\'\">\\n\\n\\t\\t\\t\\t\\t\\t\\n\\t\\t\\t\\t\\t\\t\\t<span class=\"thumb_bd\"></span>\\n                            \\n\\t\\t\\t\\t\\t\\t\\n\\t\\t\\t\\t\\t</div>\\n\\t\\t\\t\\t\\t<div class=\"media_info\">\\n\\t\\t\\t\\t\\t\\t<div class=\"info_box\">\\n\\t\\t\\t\\t\\t\\t\\t\\n\\t\\t\\t\\t\\t\\t\\t<strong class=\"title \">코스트코 빵 종류 다 찍어왔드아~</strong>\\n\\t\\t\\t\\t\\t\\t\\t<div class=\"source_wrap\">\\n\\t\\t\\t\\t\\t\\t\\t\\t<span class=\"date\">2일 전</span>\\n                                <span class=\"source\">\\n                                    \\n                                        <span class=\"source_thumb\"><img  data-src=\"https://s.pstatic.net/dthumb.phinf/?src&#x3D;%22http%3A%2F%2Fblogpfthumb.phinf.naver.net%2FMjAxNzExMDZfMzEg%2FMDAxNTA5OTI4MTQwMjQ2.PGqUVn4_WXQCg2gRXpZpmO4umn8eVOhbTIUCG3OSTwkg.3wlmx6BTstKagKluQPI4QVly8hSxPKZJ1HRb1f7gwdIg.JPEG.babucjcj%2FKakaoTalk_20171106_092839972.jpg%22&amp;type&#x3D;navermain_nf40_40\" alt=\"\" width=\"20\" height=\"20\" onerror=\"this.outerHTML=\\'<i class=\\\\\\'pm_source_noimg\\\\\\'><span class=\\\\\\'blind\\\\\\'>이미지준비중</span></i>\\'\"></span>\\n                                    \\n                                    <span class=\"source_inner\"><em class=\"theme_hl\">인플루언서</em>파랑새</span>\\n                                </span>\\n\\t\\t\\t\\t\\t\\t\\t</div>\\n\\t\\t\\t\\t\\t\\t</div>\\n\\t\\t\\t\\t\\t</div>\\n\\t\\t\\t\\t</a>\\n\\t\\t\\t\\n\\t\\t\\t\\t<a href=\"https://in.naver.com/kkobugi/contents/internal/371328097202464\" class=\"media_area\" data-da-position=\"true\" data-gdid=\"90000003_0000000000000033D22200E7\" data-clk=\"tcc_sub.list1cont4\" target=\"_blank\">\\n\\t\\t\\t\\t\\t<div class=\"media_thumb\">\\n\\t\\t\\t\\t\\t\\t<img  data-src=\"https://s.pstatic.net/dthumb.phinf/?src&#x3D;%22https%3A%2F%2Fdiscovercrop-phinf.pstatic.net%2F%2FMjAyMTExMTVfNTAg%2FMDAxNjM2OTc5ODg2NDc4.ahxqyCwLJp2XN9ECX9F3O3plfsFKXUtMZboDFABTItgg.4oIVDvC3X44NKZIu4mtr-2d6JJWBadwD2g_MQ5VYX4Ig.JPEG%2Fimage_374x246.jpg%22&amp;type&#x3D;nf464_260\" alt=\"나의 아저씨 명대사 아이유 이선균 엔딩 결말 #3\" width=\"232\" height=\"130\" onerror=\"this.outerHTML=\\'<span class=\\\\\\'pm_noimg\\\\\\'><span class=\\\\\\'noimg_text\\\\\\'>이미지 준비중</span></span>\\'\">\\n\\n\\t\\t\\t\\t\\t\\t\\n\\t\\t\\t\\t\\t\\t\\t<span class=\"thumb_bd\"></span>\\n                            \\n\\t\\t\\t\\t\\t\\t\\n\\t\\t\\t\\t\\t</div>\\n\\t\\t\\t\\t\\t<div class=\"media_info\">\\n\\t\\t\\t\\t\\t\\t<div class=\"info_box\">\\n\\t\\t\\t\\t\\t\\t\\t\\n\\t\\t\\t\\t\\t\\t\\t<strong class=\"title \">나의 아저씨 명대사 아이유 이선균 엔딩 결말 #3</strong>\\n\\t\\t\\t\\t\\t\\t\\t<div class=\"source_wrap\">\\n\\t\\t\\t\\t\\t\\t\\t\\t<span class=\"date\">1개월 전</span>\\n                                <span class=\"source\">\\n                                    \\n                                        <span class=\"source_thumb\"><img  data-src=\"https://s.pstatic.net/dthumb.phinf/?src&#x3D;%22http%3A%2F%2Fblogpfthumb.phinf.naver.net%2FMjAxODA2MDlfMjg3%2FMDAxNTI4NTE3NDcyMzcz.gWtDfat5rhRguIX0nuDHjxzvbBNATyAZvlO7wCmKfk0g.M1u6n8JX0oQNQw-TbXlo6PPbmM7ZGLPYaHwR0dteoH4g.PNG.kmlink%2F%25B2%25BF%25BA%25CE%25B1%25E2%2B2.png%22&amp;type&#x3D;navermain_nf40_40\" alt=\"\" width=\"20\" height=\"20\" onerror=\"this.outerHTML=\\'<i class=\\\\\\'pm_source_noimg\\\\\\'><span class=\\\\\\'blind\\\\\\'>이미지준비중</span></i>\\'\"></span>\\n                                    \\n                                    <span class=\"source_inner\"><em class=\"theme_hl\">인플루언서</em>꼬부기</span>\\n                                </span>\\n\\t\\t\\t\\t\\t\\t\\t</div>\\n\\t\\t\\t\\t\\t\\t</div>\\n\\t\\t\\t\\t\\t</div>\\n\\t\\t\\t\\t</a>\\n\\t\\t\\t\\n\\t\\t\\t\\t<a href=\"https://m.post.naver.com/viewer/postView.naver?volumeNo&#x3D;32617538&amp;memberNo&#x3D;23315462&amp;vType&#x3D;VERTICAL\" class=\"media_area\" data-da-position=\"true\" data-gdid=\"00055f7ca0_0001f1b442\" data-clk=\"tcc_sub.list1cont5\" target=\"_blank\">\\n\\t\\t\\t\\t\\t<div class=\"media_thumb\">\\n\\t\\t\\t\\t\\t\\t<img  data-src=\"https://s.pstatic.net/dthumb.phinf/?src&#x3D;%22https%3A%2F%2Fdiscovercrop-phinf.pstatic.net%2F%2FMjAyMTEwMjVfMjMz%2FMDAxNjM1MTQwMjM5NDk1.wP04kn5pmaiEb5bdPkDd2OI2MN2UmRAOggYP_C8QiNQg.RozQHoBljzBE5xlTM6bfPFWsy1F6NSoie0jOfQX6Aqcg.JPEG%2Fimage_374x246.jpg%22&amp;type&#x3D;nf464_260\" alt=\"&quot;무조건 벌금 12만원입니다&quot; 이건 너무한거 아니냐는 시민들의 말에 내세운 대책은?\" width=\"232\" height=\"130\" onerror=\"this.outerHTML=\\'<span class=\\\\\\'pm_noimg\\\\\\'><span class=\\\\\\'noimg_text\\\\\\'>이미지 준비중</span></span>\\'\">\\n\\n\\t\\t\\t\\t\\t\\t\\n\\t\\t\\t\\t\\t\\t\\t<span class=\"thumb_bd\"></span>\\n                            \\n\\t\\t\\t\\t\\t\\t\\n\\t\\t\\t\\t\\t</div>\\n\\t\\t\\t\\t\\t<div class=\"media_info\">\\n\\t\\t\\t\\t\\t\\t<div class=\"info_box\">\\n\\t\\t\\t\\t\\t\\t\\t\\n\\t\\t\\t\\t\\t\\t\\t<strong class=\"title \">\"무조건 벌금 12만원입니다\" 이건 너무한거 아니냐는 시민들의 말에 내세운 대책은?</strong>\\n\\t\\t\\t\\t\\t\\t\\t<div class=\"source_wrap\">\\n\\t\\t\\t\\t\\t\\t\\t\\t<span class=\"date\">2개월 전</span>\\n                                <span class=\"source\">\\n                                    \\n                                        <span class=\"source_thumb\"><img  data-src=\"https://s.pstatic.net/dthumb.phinf/?src&#x3D;%22https%3A%2F%2Fs.pstatic.net%2Fpost.phinf%2FMjAyMDEwMTVfMTkz%2FMDAxNjAyNzQzMjY4NjEw.GlSbhA_VdhHl7OVPQuk6cnWqJSR78lvs20_mR--dlscg.lxILgNyTSQeKbs-y5H2HYvOPj-IHIkzRtSn98mChfQkg.PNG%2Fpost_1384977838082956362.png%3Ftype%3Df200_200%22&amp;type&#x3D;navermain_nf40_40\" alt=\"\" width=\"20\" height=\"20\" onerror=\"this.outerHTML=\\'<i class=\\\\\\'pm_source_noimg\\\\\\'><span class=\\\\\\'blind\\\\\\'>이미지준비중</span></i>\\'\"></span>\\n                                    \\n                                    <span class=\"source_inner\">다키포스트</span>\\n                                </span>\\n\\t\\t\\t\\t\\t\\t\\t</div>\\n\\t\\t\\t\\t\\t\\t</div>\\n\\t\\t\\t\\t\\t</div>\\n\\t\\t\\t\\t</a>\\n\\t\\t\\t\\n\\t\\t\\t\\t<a href=\"https://in.naver.com/travelershigh/contents/internal/388642669926848\" class=\"media_area\" data-da-position=\"true\" data-gdid=\"90000003_0000000000000033D464C6A6\" data-clk=\"tcc_sub.list1cont6\" target=\"_blank\">\\n\\t\\t\\t\\t\\t<div class=\"media_thumb\">\\n\\t\\t\\t\\t\\t\\t<img  data-src=\"https://s.pstatic.net/dthumb.phinf/?src&#x3D;%22https%3A%2F%2Fdiscovercrop-phinf.pstatic.net%2F%2FMjAyMjAxMDNfMjYz%2FMDAxNjQxMTk2MTkzNzU1.gJeAaCWz_7y_5Sq2bnTynzakKV7ter7-ubtm3DjqY70g.2ghPZGxYR5HBLun24P1LILZqXlrBo5mZ0vQwFtbbHVkg.JPEG%2Fimage_374x246.jpg%22&amp;type&#x3D;nf464_260\" alt=\"소소한 여행 썰] 내가 탄 비행기의 승무원이 모두 연예인?? (feat. 비행기 타고 가요)\" width=\"232\" height=\"130\" onerror=\"this.outerHTML=\\'<span class=\\\\\\'pm_noimg\\\\\\'><span class=\\\\\\'noimg_text\\\\\\'>이미지 준비중</span></span>\\'\">\\n\\n\\t\\t\\t\\t\\t\\t\\n\\t\\t\\t\\t\\t\\t\\t<span class=\"thumb_bd\"></span>\\n                            \\n\\t\\t\\t\\t\\t\\t\\n\\t\\t\\t\\t\\t</div>\\n\\t\\t\\t\\t\\t<div class=\"media_info\">\\n\\t\\t\\t\\t\\t\\t<div class=\"info_box\">\\n\\t\\t\\t\\t\\t\\t\\t\\n\\t\\t\\t\\t\\t\\t\\t<strong class=\"title \">소소한 여행 썰] 내가 탄 비행기의 승무원이 모두 연예인?? (feat. 비행기 타고 가요)</strong>\\n\\t\\t\\t\\t\\t\\t\\t<div class=\"source_wrap\">\\n\\t\\t\\t\\t\\t\\t\\t\\t<span class=\"date\">4일 전</span>\\n                                <span class=\"source\">\\n                                    \\n                                        <span class=\"source_thumb\"><img  data-src=\"https://s.pstatic.net/dthumb.phinf/?src&#x3D;%22http%3A%2F%2Fblogpfthumb.phinf.naver.net%2FMjAyMTExMTVfMTA5%2FMDAxNjM2OTU2NDEyNTYx.RY2MthLeldEU6GSl3SK7RrWBhCcWjADm5VJJK0fvkMcg.XueddoinL9v3m5CRvpbmck7PgG8NNYpZJePp-7cKcKkg.JPEG.dlsen0115%2F31.JPG%22&amp;type&#x3D;navermain_nf40_40\" alt=\"\" width=\"20\" height=\"20\" onerror=\"this.outerHTML=\\'<i class=\\\\\\'pm_source_noimg\\\\\\'><span class=\\\\\\'blind\\\\\\'>이미지준비중</span></i>\\'\"></span>\\n                                    \\n                                    <span class=\"source_inner\"><em class=\"theme_hl\">인플루언서</em>체리맛스무디</span>\\n                                </span>\\n\\t\\t\\t\\t\\t\\t\\t</div>\\n\\t\\t\\t\\t\\t\\t</div>\\n\\t\\t\\t\\t\\t</div>\\n\\t\\t\\t\\t</a>\\n\\t\\t\\t\\n\\t\\t\\t\\t<a href=\"http://blog.naver.com/100plus1/222599169299\" class=\"media_area\" data-da-position=\"true\" data-gdid=\"90000003_0000000000000033D3F1C513\" data-clk=\"tcc_sub.list1cont7\" target=\"_blank\">\\n\\t\\t\\t\\t\\t<div class=\"media_thumb\">\\n\\t\\t\\t\\t\\t\\t<img  data-src=\"https://s.pstatic.net/dthumb.phinf/?src&#x3D;%22https%3A%2F%2Fdiscovercrop-phinf.pstatic.net%2F%2FMjAyMTEyMTlfMTYx%2FMDAxNjM5OTIwODI0NzU0.PZw96z1RhN7O85gNUer8mUE7ytEm1Ly0wFB7JIB3eXMg.SBknXzmr3NykeTjze9jjNHiSdpZgwJ_vV_8iRv2AAhMg.JPEG%2Fimage_374x246.jpg%22&amp;type&#x3D;nf464_260\" alt=\"테라스가 있는 반지하 공간의 미니멀 인테리어\" width=\"232\" height=\"130\" onerror=\"this.outerHTML=\\'<span class=\\\\\\'pm_noimg\\\\\\'><span class=\\\\\\'noimg_text\\\\\\'>이미지 준비중</span></span>\\'\">\\n\\n\\t\\t\\t\\t\\t\\t\\n\\t\\t\\t\\t\\t\\t\\t<span class=\"thumb_bd\"></span>\\n                            \\n\\t\\t\\t\\t\\t\\t\\n\\t\\t\\t\\t\\t</div>\\n\\t\\t\\t\\t\\t<div class=\"media_info\">\\n\\t\\t\\t\\t\\t\\t<div class=\"info_box\">\\n\\t\\t\\t\\t\\t\\t\\t\\n\\t\\t\\t\\t\\t\\t\\t<strong class=\"title \">테라스가 있는 반지하 공간의 미니멀 인테리어</strong>\\n\\t\\t\\t\\t\\t\\t\\t<div class=\"source_wrap\">\\n\\t\\t\\t\\t\\t\\t\\t\\t<span class=\"date\">2주일 전</span>\\n                                <span class=\"source\">\\n                                    \\n                                        <span class=\"source_thumb\"><img  data-src=\"https://s.pstatic.net/dthumb.phinf/?src&#x3D;%22http%3A%2F%2Fblogpfthumb.phinf.naver.net%2FMjAxNzA0MDhfMTE5%2FMDAxNDkxNjIxMjUyMjQ0.ZZb6HMUyBpQA9ZZQq2cUZ3I5tluEsOC0MklgQDpOGGkg.oTJGHsddARVxoabeVk2LaALjXvE_oCkdtziG_9lmljUg.JPEG.100plus1%2FprofileImage.jpg%22&amp;type&#x3D;navermain_nf40_40\" alt=\"\" width=\"20\" height=\"20\" onerror=\"this.outerHTML=\\'<i class=\\\\\\'pm_source_noimg\\\\\\'><span class=\\\\\\'blind\\\\\\'>이미지준비중</span></i>\\'\"></span>\\n                                    \\n                                    <span class=\"source_inner\">백플러스원</span>\\n                                </span>\\n\\t\\t\\t\\t\\t\\t\\t</div>\\n\\t\\t\\t\\t\\t\\t</div>\\n\\t\\t\\t\\t\\t</div>\\n\\t\\t\\t\\t</a>\\n\\t\\t\\t\\n\\t\\t\\t\\t<a href=\"http://blog.naver.com/1978mm/222582387319\" class=\"media_area\" data-da-position=\"true\" data-gdid=\"90000003_0000000000000033D2F1B277\" data-clk=\"tcc_sub.list1cont8\" target=\"_blank\">\\n\\t\\t\\t\\t\\t<div class=\"media_thumb\">\\n\\t\\t\\t\\t\\t\\t<img  data-src=\"https://s.pstatic.net/dthumb.phinf/?src&#x3D;%22https%3A%2F%2Fdiscovercrop-phinf.pstatic.net%2F%2FMjAyMTEyMjhfMTMz%2FMDAxNjQwNjM2Nzk3NTU0.27X-ghhc7M3BrVPNBY-_75iC4kRykMRJ1RF4cTTSRPUg.djbYg9YvD1m3rKHqjkN3Ha7qs37A6KQwAe_H302sZzAg.JPEG%2Fimage_374x246.jpg%22&amp;type&#x3D;nf464_260\" alt=\"20개월 해외여행 못 가면서 사라진 습관들\" width=\"232\" height=\"130\" onerror=\"this.outerHTML=\\'<span class=\\\\\\'pm_noimg\\\\\\'><span class=\\\\\\'noimg_text\\\\\\'>이미지 준비중</span></span>\\'\">\\n\\n\\t\\t\\t\\t\\t\\t\\n\\t\\t\\t\\t\\t\\t\\t<span class=\"thumb_bd\"></span>\\n                            \\n\\t\\t\\t\\t\\t\\t\\n\\t\\t\\t\\t\\t</div>\\n\\t\\t\\t\\t\\t<div class=\"media_info\">\\n\\t\\t\\t\\t\\t\\t<div class=\"info_box\">\\n\\t\\t\\t\\t\\t\\t\\t\\n\\t\\t\\t\\t\\t\\t\\t<strong class=\"title \">20개월 해외여행 못 가면서 사라진 습관들</strong>\\n\\t\\t\\t\\t\\t\\t\\t<div class=\"source_wrap\">\\n\\t\\t\\t\\t\\t\\t\\t\\t<span class=\"date\">1개월 전</span>\\n                                <span class=\"source\">\\n                                    \\n                                        <span class=\"source_thumb\"><img  data-src=\"https://s.pstatic.net/dthumb.phinf/?src&#x3D;%22http%3A%2F%2Fblogpfthumb.phinf.naver.net%2F20140615_156%2F1978mm_14028037318399e3gK_JPEG%2FqoWkddl.jpg%22&amp;type&#x3D;navermain_nf40_40\" alt=\"\" width=\"20\" height=\"20\" onerror=\"this.outerHTML=\\'<i class=\\\\\\'pm_source_noimg\\\\\\'><span class=\\\\\\'blind\\\\\\'>이미지준비중</span></i>\\'\"></span>\\n                                    \\n                                    <span class=\"source_inner\">배짱이</span>\\n                                </span>\\n\\t\\t\\t\\t\\t\\t\\t</div>\\n\\t\\t\\t\\t\\t\\t</div>\\n\\t\\t\\t\\t\\t</div>\\n\\t\\t\\t\\t</a>\\n\\t\\t\\t\\n\\t\\t\\t\\t<a href=\"http://tv.naver.com/v/24477004\" class=\"media_area\" data-da-position=\"true\" data-gdid=\"6DD9EB3C31010B86D493B9CBFE7087741F82\" data-clk=\"tcc_sub.list1cont9\" target=\"_blank\">\\n\\t\\t\\t\\t\\t<div class=\"media_thumb\">\\n\\t\\t\\t\\t\\t\\t<img  data-src=\"https://s.pstatic.net/dthumb.phinf/?src&#x3D;%22https%3A%2F%2Fs.pstatic.net%2Ftvcast.phinf%2F20220107_3%2Fel1eb_1641484292186FyN22_JPEG%2F20220107_003013_295_1.jpg%22&amp;type&#x3D;nf464_260\" alt=\"[선공개] 작고 소중해(´▽&#x60;ʃ♡ƪ) 이모들 마음 홀딱 가져간 배윤정 아들 &#x27;재율이&#x27;👶🏻\" width=\"232\" height=\"130\" onerror=\"this.outerHTML=\\'<span class=\\\\\\'pm_noimg\\\\\\'><span class=\\\\\\'noimg_text\\\\\\'>이미지 준비중</span></span>\\'\">\\n\\n\\t\\t\\t\\t\\t\\t\\n\\t\\t\\t\\t\\t\\t\\t<span class=\"thumb_dim\"></span>\\n\\t\\t\\t\\t\\t\\t\\t<span class=\"thumb_bd\"></span>\\n\\t\\t\\t\\t\\t\\t\\t<i class=\"pm_ico_play\"><span class=\"blind\">재생</span></i>\\n\\t\\t\\t\\t\\t\\t\\t<span class=\"theme_runtime\"><span class=\"runtime_bg\">재생시간</span><em class=\"time\">05:56</em></span>\\n\\t\\t\\t\\t\\t\\t\\n\\t\\t\\t\\t\\t</div>\\n\\t\\t\\t\\t\\t<div class=\"media_info\">\\n\\t\\t\\t\\t\\t\\t<div class=\"info_box\">\\n\\t\\t\\t\\t\\t\\t\\t\\n\\t\\t\\t\\t\\t\\t\\t<strong class=\"title \">[선공개] 작고 소중해(´▽`ʃ♡ƪ) 이모들 마음 홀딱 가져간 배윤정 아들 \\'재율이\\'👶🏻</strong>\\n\\t\\t\\t\\t\\t\\t\\t<div class=\"source_wrap\">\\n\\t\\t\\t\\t\\t\\t\\t\\t<span class=\"date\">12시간 전</span>\\n                                <span class=\"source\">\\n                                    \\n                                        <span class=\"source_thumb\"><img  data-src=\"https://s.pstatic.net/dthumb.phinf/?src&#x3D;%22https%3A%2F%2Fs.pstatic.net%2Ftvcast.phinf%2F20210520_40%2Fd6H4C_1621511447257wKY13_PNG%2F20210520_204744_743.png%22&amp;type&#x3D;navermain_nf40_40\" alt=\"\" width=\"20\" height=\"20\" onerror=\"this.outerHTML=\\'<i class=\\\\\\'pm_source_noimg\\\\\\'><span class=\\\\\\'blind\\\\\\'>이미지준비중</span></i>\\'\"></span>\\n                                    \\n                                    <span class=\"source_inner\">해방타운</span>\\n                                </span>\\n\\t\\t\\t\\t\\t\\t\\t</div>\\n\\t\\t\\t\\t\\t\\t</div>\\n\\t\\t\\t\\t\\t</div>\\n\\t\\t\\t\\t</a>\\n\\t\\t\\t\\n\\t\\t</div>\\n\\t</div>\\n</div>\\n\\n<div class=\"group_theme\" data-block-id=\"61bae4aea10d3006850d76ed\" data-block-code=\"PC-THEME-MYFEED-RECOMMEND-3\" data-block-type=\"PC-MYFEED-BLOCK\" data-template-code=\"3X3\"\\n\\n\\t data-page=\"2\"\\n\\t style=\"display:none\">\\n\\n\\t<div class=\"media_view_wrap type_column\">\\n\\t\\t<div class=\"media_view\">\\n\\t\\t\\t\\n\\t\\t\\t\\t<a href=\"https://contents.premium.naver.com/reitsmagazine/reits/contents/220101064516560Df\" class=\"media_area\" data-da-position=\"true\" data-gdid=\"8830a3s6_220101064516560Df\" data-clk=\"tcc_sub.list1cont1\" target=\"_blank\">\\n\\t\\t\\t\\t\\t<div class=\"media_thumb\">\\n\\t\\t\\t\\t\\t\\t<img  data-src=\"https://s.pstatic.net/dthumb.phinf/?src&#x3D;%22https%3A%2F%2Fdiscovercrop-phinf.pstatic.net%2F%2FMjAyMjAxMDFfMTMy%2FMDAxNjQwOTkzMjEyNTc5.-skPhUA648SDWmmrQqspwUPUbd5MAzaOI4fXpRVhV38g.lVlY4NH3QfmcffvqLuwfPxL1ju1zd5TMwZFcWct9IOAg.JPEG%2Fimage_374x246.jpg%22&amp;type&#x3D;nf464_260\" alt=\"SK의 길을 가는 한화\" width=\"232\" height=\"130\" onerror=\"this.outerHTML=\\'<span class=\\\\\\'pm_noimg\\\\\\'><span class=\\\\\\'noimg_text\\\\\\'>이미지 준비중</span></span>\\'\">\\n\\n\\t\\t\\t\\t\\t\\t\\n\\t\\t\\t\\t\\t\\t\\t<span class=\"thumb_bd\"></span>\\n                            \\n                                \\n                                    <em class=\"theme_badge type_charge\"><span class=\"badge_inner\">유료</span></em>\\n                                \\n                            \\n\\t\\t\\t\\t\\t\\t\\n\\t\\t\\t\\t\\t</div>\\n\\t\\t\\t\\t\\t<div class=\"media_info\">\\n\\t\\t\\t\\t\\t\\t<div class=\"info_box\">\\n\\t\\t\\t\\t\\t\\t\\t\\n\\t\\t\\t\\t\\t\\t\\t<strong class=\"title \">SK의 길을 가는 한화</strong>\\n\\t\\t\\t\\t\\t\\t\\t<div class=\"source_wrap\">\\n\\t\\t\\t\\t\\t\\t\\t\\t<span class=\"date\">6일 전</span>\\n                                <span class=\"source\">\\n                                    \\n                                        <span class=\"source_thumb\"><img  data-src=\"https://s.pstatic.net/dthumb.phinf/?src&#x3D;%22https%3A%2F%2Fs.pstatic.net%2Fscs.phinf%2FMjAyMTA5MjNfMTY4%2FMDAxNjMyMzYxNDY2MjE2.sG2kWtpJ2xvsJm2GQ3mbYUnjp6gI4xP4zGBNOxHzYk8g.wSTJZgBa8W_sr7Zzypmm-uLR8EXRKKtJH3tv5svMLRMg.PNG%2Fimage%257Cpremium%257Cchannel%257Creitsmagazine%257C2021%257C09%257C23%257C1632361466201.png%22&amp;type&#x3D;navermain_nf40_40\" alt=\"\" width=\"20\" height=\"20\" onerror=\"this.outerHTML=\\'<i class=\\\\\\'pm_source_noimg\\\\\\'><span class=\\\\\\'blind\\\\\\'>이미지준비중</span></i>\\'\"></span>\\n                                    \\n                                    <span class=\"source_inner\"><em class=\"theme_hl\">프리미엄</em>리츠(REITs) 매거진</span>\\n                                </span>\\n\\t\\t\\t\\t\\t\\t\\t</div>\\n\\t\\t\\t\\t\\t\\t</div>\\n\\t\\t\\t\\t\\t</div>\\n\\t\\t\\t\\t</a>\\n\\t\\t\\t\\n\\t\\t\\t\\t<a href=\"https://m.post.naver.com/viewer/postView.naver?volumeNo&#x3D;33054845&amp;memberNo&#x3D;40274210&amp;vType&#x3D;VERTICAL\" class=\"media_area\" data-da-position=\"true\" data-gdid=\"00055f7ca0_0001f8607d\" data-clk=\"tcc_sub.list1cont2\" target=\"_blank\">\\n\\t\\t\\t\\t\\t<div class=\"media_thumb\">\\n\\t\\t\\t\\t\\t\\t<img  data-src=\"https://s.pstatic.net/dthumb.phinf/?src&#x3D;%22https%3A%2F%2Fdiscovercrop-phinf.pstatic.net%2F%2FMjAyMjAxMDNfMTE2%2FMDAxNjQxMTg0NzMwMjg5.Aa_tHLvym-0Athn2ZoeGSxB_ZXFT5xpXL_XWMOqvlfIg.MoIUJamI-NvA-UWANJNWLjngKgvhQgRDvypgdK-QSwUg.JPEG%2Fimage_374x246.jpg%22&amp;type&#x3D;nf464_260\" alt=\"추워서 보일러 세게 틀어놓고 잤는데 강아지 사라졌길래 집안 뒤지다 발견한 &#x27;의외의 장소&#x27;\" width=\"232\" height=\"130\" onerror=\"this.outerHTML=\\'<span class=\\\\\\'pm_noimg\\\\\\'><span class=\\\\\\'noimg_text\\\\\\'>이미지 준비중</span></span>\\'\">\\n\\n\\t\\t\\t\\t\\t\\t\\n\\t\\t\\t\\t\\t\\t\\t<span class=\"thumb_bd\"></span>\\n                            \\n\\t\\t\\t\\t\\t\\t\\n\\t\\t\\t\\t\\t</div>\\n\\t\\t\\t\\t\\t<div class=\"media_info\">\\n\\t\\t\\t\\t\\t\\t<div class=\"info_box\">\\n\\t\\t\\t\\t\\t\\t\\t\\n\\t\\t\\t\\t\\t\\t\\t<strong class=\"title \">추워서 보일러 세게 틀어놓고 잤는데 강아지 사라졌길래 집안 뒤지다 발견한 \\'의외의 장소\\'</strong>\\n\\t\\t\\t\\t\\t\\t\\t<div class=\"source_wrap\">\\n\\t\\t\\t\\t\\t\\t\\t\\t<span class=\"date\">4일 전</span>\\n                                <span class=\"source\">\\n                                    \\n                                        <span class=\"source_thumb\"><img  data-src=\"https://s.pstatic.net/dthumb.phinf/?src&#x3D;%22https%3A%2F%2Fs.pstatic.net%2Fpost.phinf%2FMjAxOTA0MDhfOTYg%2FMDAxNTU0NzI2MjMxMzI5.OFtjOvZokhVvBQm906k8UEBH1zNRAu7ijRHeZn6fCQog.7u7XHs-0I7MeGS1Njdkg0CGDqfw4-9pfMnAd5qi6aNIg.PNG%2Fpost_741112252807555474.png%3Ftype%3Df200_200%22&amp;type&#x3D;navermain_nf40_40\" alt=\"\" width=\"20\" height=\"20\" onerror=\"this.outerHTML=\\'<i class=\\\\\\'pm_source_noimg\\\\\\'><span class=\\\\\\'blind\\\\\\'>이미지준비중</span></i>\\'\"></span>\\n                                    \\n                                    <span class=\"source_inner\">애니멀플래닛</span>\\n                                </span>\\n\\t\\t\\t\\t\\t\\t\\t</div>\\n\\t\\t\\t\\t\\t\\t</div>\\n\\t\\t\\t\\t\\t</div>\\n\\t\\t\\t\\t</a>\\n\\t\\t\\t\\n\\t\\t\\t\\t<a href=\"http://blog.naver.com/mokeya1/222597045428\" class=\"media_area\" data-da-position=\"true\" data-gdid=\"90000003_0000000000000033D3D15CB4\" data-clk=\"tcc_sub.list1cont3\" target=\"_blank\">\\n\\t\\t\\t\\t\\t<div class=\"media_thumb\">\\n\\t\\t\\t\\t\\t\\t<img  data-src=\"https://s.pstatic.net/dthumb.phinf/?src&#x3D;%22https%3A%2F%2Fdiscovercrop-phinf.pstatic.net%2F%2FMjAyMTEyMTdfNjIg%2FMDAxNjM5Njc3MTk4MDc3.D91jYwfndzeqV8o33KrgmVUGbabN8-7l5d50kuf5_p0g.rrUatsCwcHt_sQAtb35E_eUPS0UdmBjP8bJfnzGu9Bwg.JPEG%2Fimage_374x246.jpg%22&amp;type&#x3D;nf464_260\" alt=\"주방 인테리어 수전, 사각싱크볼 비교ㅣ물튀김, 그래서 튄다는거야? 안튄다는거야? 두 종류 실사용 후기 (더죤테크 수전과 사각씽크볼 조합)\" width=\"232\" height=\"130\" onerror=\"this.outerHTML=\\'<span class=\\\\\\'pm_noimg\\\\\\'><span class=\\\\\\'noimg_text\\\\\\'>이미지 준비중</span></span>\\'\">\\n\\n\\t\\t\\t\\t\\t\\t\\n\\t\\t\\t\\t\\t\\t\\t<span class=\"thumb_bd\"></span>\\n                            \\n\\t\\t\\t\\t\\t\\t\\n\\t\\t\\t\\t\\t</div>\\n\\t\\t\\t\\t\\t<div class=\"media_info\">\\n\\t\\t\\t\\t\\t\\t<div class=\"info_box\">\\n\\t\\t\\t\\t\\t\\t\\t\\n\\t\\t\\t\\t\\t\\t\\t<strong class=\"title \">주방 인테리어 수전, 사각싱크볼 비교ㅣ물튀김, 그래서 튄다는거야? 안튄다는거야? 두 종류 실사용 후기 (더죤테크 수전과 사각씽크볼 조합)</strong>\\n\\t\\t\\t\\t\\t\\t\\t<div class=\"source_wrap\">\\n\\t\\t\\t\\t\\t\\t\\t\\t<span class=\"date\">3주일 전</span>\\n                                <span class=\"source\">\\n                                    \\n                                        <span class=\"source_thumb\"><img  data-src=\"https://s.pstatic.net/dthumb.phinf/?src&#x3D;%22http%3A%2F%2Fblogpfthumb.phinf.naver.net%2FMjAyMTA4MjJfMTU1%2FMDAxNjI5NTk4NDgzMzc0.3zoQyq9Q-dkHlmVckH0cnnMqiRdrn3xxO2wo4Faglqgg.DEskZCxbwd1FYalS5ORSIRfSpJ-3QhFACn9xGS-l-7gg.PNG.mokeya1%2FprofileImage.png%22&amp;type&#x3D;navermain_nf40_40\" alt=\"\" width=\"20\" height=\"20\" onerror=\"this.outerHTML=\\'<i class=\\\\\\'pm_source_noimg\\\\\\'><span class=\\\\\\'blind\\\\\\'>이미지준비중</span></i>\\'\"></span>\\n                                    \\n                                    <span class=\"source_inner\">하동댁</span>\\n                                </span>\\n\\t\\t\\t\\t\\t\\t\\t</div>\\n\\t\\t\\t\\t\\t\\t</div>\\n\\t\\t\\t\\t\\t</div>\\n\\t\\t\\t\\t</a>\\n\\t\\t\\t\\n\\t\\t\\t\\t<a href=\"https://m.post.naver.com/viewer/postView.naver?volumeNo&#x3D;32877668&amp;memberNo&#x3D;31724756&amp;vType&#x3D;VERTICAL\" class=\"media_area\" data-da-position=\"true\" data-gdid=\"00055f7ca0_0001f5ac64\" data-clk=\"tcc_sub.list1cont4\" target=\"_blank\">\\n\\t\\t\\t\\t\\t<div class=\"media_thumb\">\\n\\t\\t\\t\\t\\t\\t<img  data-src=\"https://s.pstatic.net/dthumb.phinf/?src&#x3D;%22https%3A%2F%2Fdiscovercrop-phinf.pstatic.net%2F%2FMjAyMTEyMDNfMTcz%2FMDAxNjM4NTMzMjU4NzIx.98as4_owbUA5TOVHk5HYkXFHern1T3likDlRWMBJC0Yg.FV17Kjaw1f45GIWyv9LrQX7AZHGH6Te1iakNM2vzJykg.JPEG%2Fimage_374x246.jpg%22&amp;type&#x3D;nf464_260\" alt=\"합성 아님 ㄷㄷ 브래드 피트·안젤리나 졸리 딸 근황\" width=\"232\" height=\"130\" onerror=\"this.outerHTML=\\'<span class=\\\\\\'pm_noimg\\\\\\'><span class=\\\\\\'noimg_text\\\\\\'>이미지 준비중</span></span>\\'\">\\n\\n\\t\\t\\t\\t\\t\\t\\n\\t\\t\\t\\t\\t\\t\\t<span class=\"thumb_bd\"></span>\\n                            \\n\\t\\t\\t\\t\\t\\t\\n\\t\\t\\t\\t\\t</div>\\n\\t\\t\\t\\t\\t<div class=\"media_info\">\\n\\t\\t\\t\\t\\t\\t<div class=\"info_box\">\\n\\t\\t\\t\\t\\t\\t\\t\\n\\t\\t\\t\\t\\t\\t\\t<strong class=\"title \">합성 아님 ㄷㄷ 브래드 피트·안젤리나 졸리 딸 근황</strong>\\n\\t\\t\\t\\t\\t\\t\\t<div class=\"source_wrap\">\\n\\t\\t\\t\\t\\t\\t\\t\\t<span class=\"date\">1개월 전</span>\\n                                <span class=\"source\">\\n                                    \\n                                        <span class=\"source_thumb\"><img  data-src=\"https://s.pstatic.net/dthumb.phinf/?src&#x3D;%22https%3A%2F%2Fs.pstatic.net%2Fpost.phinf%2FMjAxODA3MTJfMjU4%2FMDAxNTMxMzg0Njk0NzMx.Hc9kuoHIqhy0MGX-YZEeuYxe6H91GZU87otl4MboUysg.O__vHH8K9thQc74IHCAVTiRo1uc3SyCmg4lBYp8zB-Mg.JPEG%2Fpost_8375978400885091011.jpg%3Ftype%3Df200_200%22&amp;type&#x3D;navermain_nf40_40\" alt=\"\" width=\"20\" height=\"20\" onerror=\"this.outerHTML=\\'<i class=\\\\\\'pm_source_noimg\\\\\\'><span class=\\\\\\'blind\\\\\\'>이미지준비중</span></i>\\'\"></span>\\n                                    \\n                                    <span class=\"source_inner\">씨네플레이</span>\\n                                </span>\\n\\t\\t\\t\\t\\t\\t\\t</div>\\n\\t\\t\\t\\t\\t\\t</div>\\n\\t\\t\\t\\t\\t</div>\\n\\t\\t\\t\\t</a>\\n\\t\\t\\t\\n\\t\\t\\t\\t<a href=\"https://in.naver.com/hotissue/contents/internal/387516325813024\" class=\"media_area\" data-da-position=\"true\" data-gdid=\"90000003_0000000000000033D48A16B4\" data-clk=\"tcc_sub.list1cont5\" target=\"_blank\">\\n\\t\\t\\t\\t\\t<div class=\"media_thumb\">\\n\\t\\t\\t\\t\\t\\t<img  data-src=\"https://s.pstatic.net/dthumb.phinf/?src&#x3D;%22https%3A%2F%2Fdiscovercrop-phinf.pstatic.net%2F%2FMjAyMjAxMDFfMjA5%2FMDAxNjQxMDA1NDgwNjM3.QewVwPf8SKwMQwBGc_tjTptTLDki3sDU4IsqqCV1-CIg.11hNEY4Jk5piz7w50OJA-ew-2pA39V3NWJF1kqFdU10g.JPEG%2Fimage_374x246.jpg%22&amp;type&#x3D;nf464_260\" alt=\"김밥맛있게싸는법 꼬마김밥 김 앞뒤\" width=\"232\" height=\"130\" onerror=\"this.outerHTML=\\'<span class=\\\\\\'pm_noimg\\\\\\'><span class=\\\\\\'noimg_text\\\\\\'>이미지 준비중</span></span>\\'\">\\n\\n\\t\\t\\t\\t\\t\\t\\n\\t\\t\\t\\t\\t\\t\\t<span class=\"thumb_bd\"></span>\\n                            \\n\\t\\t\\t\\t\\t\\t\\n\\t\\t\\t\\t\\t</div>\\n\\t\\t\\t\\t\\t<div class=\"media_info\">\\n\\t\\t\\t\\t\\t\\t<div class=\"info_box\">\\n\\t\\t\\t\\t\\t\\t\\t\\n\\t\\t\\t\\t\\t\\t\\t<strong class=\"title \">김밥맛있게싸는법 꼬마김밥 김 앞뒤</strong>\\n\\t\\t\\t\\t\\t\\t\\t<div class=\"source_wrap\">\\n\\t\\t\\t\\t\\t\\t\\t\\t<span class=\"date\">1주일 전</span>\\n                                <span class=\"source\">\\n                                    \\n                                        <span class=\"source_thumb\"><img  data-src=\"https://s.pstatic.net/dthumb.phinf/?src&#x3D;%22http%3A%2F%2Fblogpfthumb.phinf.naver.net%2FMjAyMTEwMTRfMjQ2%2FMDAxNjM0MTY0NjcyMjEx.wSlvjz3QFpA-dPijqpWo6lMrsefqKwJwZFlfwwJMd-8g.qb45O8g-s7ikoEX_7Qa2YQpqQDAS4JL9Nbb-_3k7kbog.JPEG.r040415%2FprofileImage.jpg%22&amp;type&#x3D;navermain_nf40_40\" alt=\"\" width=\"20\" height=\"20\" onerror=\"this.outerHTML=\\'<i class=\\\\\\'pm_source_noimg\\\\\\'><span class=\\\\\\'blind\\\\\\'>이미지준비중</span></i>\\'\"></span>\\n                                    \\n                                    <span class=\"source_inner\"><em class=\"theme_hl\">인플루언서</em>이슈의레시피</span>\\n                                </span>\\n\\t\\t\\t\\t\\t\\t\\t</div>\\n\\t\\t\\t\\t\\t\\t</div>\\n\\t\\t\\t\\t\\t</div>\\n\\t\\t\\t\\t</a>\\n\\t\\t\\t\\n\\t\\t\\t\\t<a href=\"http://blog.naver.com/zoyena/222609503443\" class=\"media_area\" data-da-position=\"true\" data-gdid=\"90000003_0000000000000033D48F74D3\" data-clk=\"tcc_sub.list1cont6\" target=\"_blank\">\\n\\t\\t\\t\\t\\t<div class=\"media_thumb\">\\n\\t\\t\\t\\t\\t\\t<img  data-src=\"https://s.pstatic.net/dthumb.phinf/?src&#x3D;%22https%3A%2F%2Fdiscovercrop-phinf.pstatic.net%2F%2FMjAyMTEyMzFfMTI0%2FMDAxNjQwOTQ3MDkxNDc1.UxgjnIXLg_T3iXPhBd2ral3Q1aIIKWidZMDcQ88Tw0Qg.5hn0aPFXAVm8DW_5gwxG_IxLpptsLNV-gqXJ52lCq-kg.JPEG%2Fimage_374x246.jpg%22&amp;type&#x3D;nf464_260\" alt=\"저 이러고 잔대요 ㅋㅋㅋ\" width=\"232\" height=\"130\" onerror=\"this.outerHTML=\\'<span class=\\\\\\'pm_noimg\\\\\\'><span class=\\\\\\'noimg_text\\\\\\'>이미지 준비중</span></span>\\'\">\\n\\n\\t\\t\\t\\t\\t\\t\\n\\t\\t\\t\\t\\t\\t\\t<span class=\"thumb_bd\"></span>\\n                            \\n\\t\\t\\t\\t\\t\\t\\n\\t\\t\\t\\t\\t</div>\\n\\t\\t\\t\\t\\t<div class=\"media_info\">\\n\\t\\t\\t\\t\\t\\t<div class=\"info_box\">\\n\\t\\t\\t\\t\\t\\t\\t\\n\\t\\t\\t\\t\\t\\t\\t<strong class=\"title \">저 이러고 잔대요 ㅋㅋㅋ</strong>\\n\\t\\t\\t\\t\\t\\t\\t<div class=\"source_wrap\">\\n\\t\\t\\t\\t\\t\\t\\t\\t<span class=\"date\">6일 전</span>\\n                                <span class=\"source\">\\n                                    \\n                                        <span class=\"source_thumb\"><img  data-src=\"https://s.pstatic.net/dthumb.phinf/?src&#x3D;%22http%3A%2F%2Fblogpfthumb.phinf.naver.net%2F20140602_298%2Fzoyena_1401718351805thbvS_JPEG%2FIMG_0877.JPG%22&amp;type&#x3D;navermain_nf40_40\" alt=\"\" width=\"20\" height=\"20\" onerror=\"this.outerHTML=\\'<i class=\\\\\\'pm_source_noimg\\\\\\'><span class=\\\\\\'blind\\\\\\'>이미지준비중</span></i>\\'\"></span>\\n                                    \\n                                    <span class=\"source_inner\">조예나</span>\\n                                </span>\\n\\t\\t\\t\\t\\t\\t\\t</div>\\n\\t\\t\\t\\t\\t\\t</div>\\n\\t\\t\\t\\t\\t</div>\\n\\t\\t\\t\\t</a>\\n\\t\\t\\t\\n\\t\\t\\t\\t<a href=\"https://m.post.naver.com/viewer/postView.naver?volumeNo&#x3D;32879058&amp;memberNo&#x3D;40274210&amp;vType&#x3D;VERTICAL\" class=\"media_area\" data-da-position=\"true\" data-gdid=\"00055f7ca0_0001f5b1d2\" data-clk=\"tcc_sub.list1cont7\" target=\"_blank\">\\n\\t\\t\\t\\t\\t<div class=\"media_thumb\">\\n\\t\\t\\t\\t\\t\\t<img  data-src=\"https://s.pstatic.net/dthumb.phinf/?src&#x3D;%22https%3A%2F%2Fdiscovercrop-phinf.pstatic.net%2F%2FMjAyMTEyMDlfMjg5%2FMDAxNjM5MDE3Mzk1Mjk0.aWvXs2IfQGpN7wiII1Zq4uXFSNtdg04hd6SxHBTVVUAg.BGR2fES2N3ciSpJ5A1nfGKacra_GqcpGFUZccFVF07kg.JPEG%2Fimage_374x246.jpg%22&amp;type&#x3D;nf464_260\" alt=\"출장 때문에 여친에게 반려견 부탁했는데…털 묶어놓은 현장에 &#x27;이별 통보&#x27; 고민하는 남친\" width=\"232\" height=\"130\" onerror=\"this.outerHTML=\\'<span class=\\\\\\'pm_noimg\\\\\\'><span class=\\\\\\'noimg_text\\\\\\'>이미지 준비중</span></span>\\'\">\\n\\n\\t\\t\\t\\t\\t\\t\\n\\t\\t\\t\\t\\t\\t\\t<span class=\"thumb_bd\"></span>\\n                            \\n\\t\\t\\t\\t\\t\\t\\n\\t\\t\\t\\t\\t</div>\\n\\t\\t\\t\\t\\t<div class=\"media_info\">\\n\\t\\t\\t\\t\\t\\t<div class=\"info_box\">\\n\\t\\t\\t\\t\\t\\t\\t\\n\\t\\t\\t\\t\\t\\t\\t<strong class=\"title \">출장 때문에 여친에게 반려견 부탁했는데…털 묶어놓은 현장에 \\'이별 통보\\' 고민하는 남친</strong>\\n\\t\\t\\t\\t\\t\\t\\t<div class=\"source_wrap\">\\n\\t\\t\\t\\t\\t\\t\\t\\t<span class=\"date\">1개월 전</span>\\n                                <span class=\"source\">\\n                                    \\n                                        <span class=\"source_thumb\"><img  data-src=\"https://s.pstatic.net/dthumb.phinf/?src&#x3D;%22https%3A%2F%2Fs.pstatic.net%2Fpost.phinf%2FMjAxOTA0MDhfOTYg%2FMDAxNTU0NzI2MjMxMzI5.OFtjOvZokhVvBQm906k8UEBH1zNRAu7ijRHeZn6fCQog.7u7XHs-0I7MeGS1Njdkg0CGDqfw4-9pfMnAd5qi6aNIg.PNG%2Fpost_741112252807555474.png%3Ftype%3Df200_200%22&amp;type&#x3D;navermain_nf40_40\" alt=\"\" width=\"20\" height=\"20\" onerror=\"this.outerHTML=\\'<i class=\\\\\\'pm_source_noimg\\\\\\'><span class=\\\\\\'blind\\\\\\'>이미지준비중</span></i>\\'\"></span>\\n                                    \\n                                    <span class=\"source_inner\">애니멀플래닛</span>\\n                                </span>\\n\\t\\t\\t\\t\\t\\t\\t</div>\\n\\t\\t\\t\\t\\t\\t</div>\\n\\t\\t\\t\\t\\t</div>\\n\\t\\t\\t\\t</a>\\n\\t\\t\\t\\n\\t\\t\\t\\t<a href=\"http://blog.naver.com/kjmjs9848/222605918767\" class=\"media_area\" data-da-position=\"true\" data-gdid=\"90000003_0000000000000033D458C22F\" data-clk=\"tcc_sub.list1cont8\" target=\"_blank\">\\n\\t\\t\\t\\t\\t<div class=\"media_thumb\">\\n\\t\\t\\t\\t\\t\\t<img  data-src=\"https://s.pstatic.net/dthumb.phinf/?src&#x3D;%22https%3A%2F%2Fdiscovercrop-phinf.pstatic.net%2F%2FMjAyMTEyMjdfMjYy%2FMDAxNjQwNjAyNjA5MDEw.aP1BnCxuiqz-edeb64XJk_6mfxHHUoG8QJs1eDuqSLkg.4tdNAC1m8zozKZDiZj_ieDs9MLA9we-qZxzrWkFfin0g.JPEG%2Fimage_374x246.jpg%22&amp;type&#x3D;nf464_260\" alt=\"살림잇템 - 나를 행복하게 해주는 살림살이 가전제품편:)\" width=\"232\" height=\"130\" onerror=\"this.outerHTML=\\'<span class=\\\\\\'pm_noimg\\\\\\'><span class=\\\\\\'noimg_text\\\\\\'>이미지 준비중</span></span>\\'\">\\n\\n\\t\\t\\t\\t\\t\\t\\n\\t\\t\\t\\t\\t\\t\\t<span class=\"thumb_bd\"></span>\\n                            \\n\\t\\t\\t\\t\\t\\t\\n\\t\\t\\t\\t\\t</div>\\n\\t\\t\\t\\t\\t<div class=\"media_info\">\\n\\t\\t\\t\\t\\t\\t<div class=\"info_box\">\\n\\t\\t\\t\\t\\t\\t\\t\\n\\t\\t\\t\\t\\t\\t\\t<strong class=\"title \">살림잇템 - 나를 행복하게 해주는 살림살이 가전제품편:)</strong>\\n\\t\\t\\t\\t\\t\\t\\t<div class=\"source_wrap\">\\n\\t\\t\\t\\t\\t\\t\\t\\t<span class=\"date\">1주일 전</span>\\n                                <span class=\"source\">\\n                                    \\n                                        <span class=\"source_thumb\"><img  data-src=\"https://s.pstatic.net/dthumb.phinf/?src&#x3D;%22http%3A%2F%2Fblogpfthumb.phinf.naver.net%2FMjAyMTAxMTZfODMg%2FMDAxNjEwNzY1MTk0NjQw.s_77ohUlkkzZMGF56MGoMh7vd3nFw4f5Fma8TTF9aEIg.dIVYqcVGNkxGQFK_FLttHMzHk2QPt9UyKDv8n_lAXeYg.PNG.kjmjs9848%2FprofileImage.png%22&amp;type&#x3D;navermain_nf40_40\" alt=\"\" width=\"20\" height=\"20\" onerror=\"this.outerHTML=\\'<i class=\\\\\\'pm_source_noimg\\\\\\'><span class=\\\\\\'blind\\\\\\'>이미지준비중</span></i>\\'\"></span>\\n                                    \\n                                    <span class=\"source_inner\">전설래미</span>\\n                                </span>\\n\\t\\t\\t\\t\\t\\t\\t</div>\\n\\t\\t\\t\\t\\t\\t</div>\\n\\t\\t\\t\\t\\t</div>\\n\\t\\t\\t\\t</a>\\n\\t\\t\\t\\n\\t\\t\\t\\t<a href=\"http://tv.naver.com/v/24481470\" class=\"media_area\" data-da-position=\"true\" data-gdid=\"9415AE99C43B58D1AF96361D78A244CA336D\" data-clk=\"tcc_sub.list1cont9\" target=\"_blank\">\\n\\t\\t\\t\\t\\t<div class=\"media_thumb\">\\n\\t\\t\\t\\t\\t\\t<img  data-src=\"https://s.pstatic.net/dthumb.phinf/?src&#x3D;%22https%3A%2F%2Fs.pstatic.net%2Ftvcast.phinf%2F20220107_259%2FUTLTE_1641519397033WklHj_JPEG%2F4d9e5f02-3b82-4d97-b2ce-95ad189fcb49.jpg%22&amp;type&#x3D;nf464_260\" alt=\"[메이킹] 최우식X김다미X김성철, 현실은 찐텐 웃음 가득했던 삼각관계 현장! 셋이 모이면 즐거움도 세 배♥\" width=\"232\" height=\"130\" onerror=\"this.outerHTML=\\'<span class=\\\\\\'pm_noimg\\\\\\'><span class=\\\\\\'noimg_text\\\\\\'>이미지 준비중</span></span>\\'\">\\n\\n\\t\\t\\t\\t\\t\\t\\n\\t\\t\\t\\t\\t\\t\\t<span class=\"thumb_dim\"></span>\\n\\t\\t\\t\\t\\t\\t\\t<span class=\"thumb_bd\"></span>\\n\\t\\t\\t\\t\\t\\t\\t<i class=\"pm_ico_play\"><span class=\"blind\">재생</span></i>\\n\\t\\t\\t\\t\\t\\t\\t<span class=\"theme_runtime\"><span class=\"runtime_bg\">재생시간</span><em class=\"time\">06:46</em></span>\\n\\t\\t\\t\\t\\t\\t\\n\\t\\t\\t\\t\\t</div>\\n\\t\\t\\t\\t\\t<div class=\"media_info\">\\n\\t\\t\\t\\t\\t\\t<div class=\"info_box\">\\n\\t\\t\\t\\t\\t\\t\\t\\n\\t\\t\\t\\t\\t\\t\\t<strong class=\"title \">[메이킹] 최우식X김다미X김성철, 현실은 찐텐 웃음 가득했던 삼각관계 현장! 셋이 모이면 즐거움도 세 배♥</strong>\\n\\t\\t\\t\\t\\t\\t\\t<div class=\"source_wrap\">\\n\\t\\t\\t\\t\\t\\t\\t\\t<span class=\"date\">3시간 전</span>\\n                                <span class=\"source\">\\n                                    \\n                                        <span class=\"source_thumb\"><img  data-src=\"https://s.pstatic.net/dthumb.phinf/?src&#x3D;%22https%3A%2F%2Fs.pstatic.net%2Ftvcast.phinf%2F20220103_89%2FYiE1j_1641173403149ByJlH_PNG%2F4930a672-3814-4327-b17e-a65a6cb5b3e9.png%22&amp;type&#x3D;navermain_nf40_40\" alt=\"\" width=\"20\" height=\"20\" onerror=\"this.outerHTML=\\'<i class=\\\\\\'pm_source_noimg\\\\\\'><span class=\\\\\\'blind\\\\\\'>이미지준비중</span></i>\\'\"></span>\\n                                    \\n                                    <span class=\"source_inner\">그 해 우리는</span>\\n                                </span>\\n\\t\\t\\t\\t\\t\\t\\t</div>\\n\\t\\t\\t\\t\\t\\t</div>\\n\\t\\t\\t\\t\\t</div>\\n\\t\\t\\t\\t</a>\\n\\t\\t\\t\\n\\t\\t</div>\\n\\t</div>\\n</div>\\n\\n<div class=\"group_theme\" data-block-id=\"61bae4afa10d3006850d773e\" data-block-code=\"PC-THEME-MYFEED-RECOMMEND-4\" data-block-type=\"PC-MYFEED-BLOCK\" data-template-code=\"3X3\"\\n\\n\\t data-page=\"3\"\\n\\t style=\"display:none\">\\n\\n\\t<div class=\"media_view_wrap type_column\">\\n\\t\\t<div class=\"media_view\">\\n\\t\\t\\t\\n\\t\\t\\t\\t<a href=\"https://contents.premium.naver.com/globelab/globe/contents/220101232828240DO\" class=\"media_area\" data-da-position=\"true\" data-gdid=\"8830a3s6_220101232828240DO\" data-clk=\"tcc_sub.list1cont1\" target=\"_blank\">\\n\\t\\t\\t\\t\\t<div class=\"media_thumb\">\\n\\t\\t\\t\\t\\t\\t<img  data-src=\"https://s.pstatic.net/dthumb.phinf/?src&#x3D;%22https%3A%2F%2Fdiscovercrop-phinf.pstatic.net%2F%2FMjAyMjAxMDNfMjUg%2FMDAxNjQxMTc3MzYwODE3.Ubp3XP9YtyorI6n7M56x-A-wgFJsPxe4T3XKECSPI8wg.AIA2I2I1_pYeNRcrZT6tyTt-2YkNYFS-nJofSjD5mMEg.JPEG%2Fimage_374x246.jpg%22&amp;type&#x3D;nf464_260\" alt=\"우크라이나는 어떻게 핵을 포기하였나(2)\" width=\"232\" height=\"130\" onerror=\"this.outerHTML=\\'<span class=\\\\\\'pm_noimg\\\\\\'><span class=\\\\\\'noimg_text\\\\\\'>이미지 준비중</span></span>\\'\">\\n\\n\\t\\t\\t\\t\\t\\t\\n\\t\\t\\t\\t\\t\\t\\t<span class=\"thumb_bd\"></span>\\n                            \\n                                \\n                                    <em class=\"theme_badge type_free\"><span class=\"badge_inner\">무료</span></em>\\n                                \\n                            \\n\\t\\t\\t\\t\\t\\t\\n\\t\\t\\t\\t\\t</div>\\n\\t\\t\\t\\t\\t<div class=\"media_info\">\\n\\t\\t\\t\\t\\t\\t<div class=\"info_box\">\\n\\t\\t\\t\\t\\t\\t\\t\\n\\t\\t\\t\\t\\t\\t\\t<strong class=\"title \">우크라이나는 어떻게 핵을 포기하였나(2)</strong>\\n\\t\\t\\t\\t\\t\\t\\t<div class=\"source_wrap\">\\n\\t\\t\\t\\t\\t\\t\\t\\t<span class=\"date\">5일 전</span>\\n                                <span class=\"source\">\\n                                    \\n                                        <span class=\"source_thumb\"><img  data-src=\"https://s.pstatic.net/dthumb.phinf/?src&#x3D;%22https%3A%2F%2Fs.pstatic.net%2Fscs.phinf%2FMjAyMTA5MjlfNzQg%2FMDAxNjMyODg3MTM0Mjcz.U6Ogo3djnIzVPvfpGqIWlPM29X4o_24k4Xp7UcbH1zEg.R7yxq-yJJsd1Z6yMb8M1GUVpi0iZdMi2ZffgT_ToKpAg.JPEG%2Fimage%257Cpremium%257Cchannel%257Cglobelab%257C2021%257C09%257C29%257C1632887134238.jpeg%22&amp;type&#x3D;navermain_nf40_40\" alt=\"\" width=\"20\" height=\"20\" onerror=\"this.outerHTML=\\'<i class=\\\\\\'pm_source_noimg\\\\\\'><span class=\\\\\\'blind\\\\\\'>이미지준비중</span></i>\\'\"></span>\\n                                    \\n                                    <span class=\"source_inner\"><em class=\"theme_hl\">프리미엄</em>최준영 박사의 지구본연구소</span>\\n                                </span>\\n\\t\\t\\t\\t\\t\\t\\t</div>\\n\\t\\t\\t\\t\\t\\t</div>\\n\\t\\t\\t\\t\\t</div>\\n\\t\\t\\t\\t</a>\\n\\t\\t\\t\\n\\t\\t\\t\\t<a href=\"https://in.naver.com/a0910102/contents/internal/388547022678752\" class=\"media_area\" data-da-position=\"true\" data-gdid=\"90000003_0000000000000033D40C317D\" data-clk=\"tcc_sub.list1cont2\" target=\"_blank\">\\n\\t\\t\\t\\t\\t<div class=\"media_thumb\">\\n\\t\\t\\t\\t\\t\\t<img  data-src=\"https://s.pstatic.net/dthumb.phinf/?src&#x3D;%22https%3A%2F%2Fdiscovercrop-phinf.pstatic.net%2F%2FMjAyMjAxMDNfMjcy%2FMDAxNjQxMTc0NDUxMTMx.4Yc1_CuqaJvJAjm9Dh8AUIa25GisYYCbT6BZ6JMxNzwg.eiglL2VROcHR3agNFnuBsMrrJbGSZF4q6uCSX-DNN4sg.JPEG%2Fimage_374x246.jpg%22&amp;type&#x3D;nf464_260\" alt=\"간편 점심도시락 ~ 샐러드 다이어트 남편도시락 채식식단\" width=\"232\" height=\"130\" onerror=\"this.outerHTML=\\'<span class=\\\\\\'pm_noimg\\\\\\'><span class=\\\\\\'noimg_text\\\\\\'>이미지 준비중</span></span>\\'\">\\n\\n\\t\\t\\t\\t\\t\\t\\n\\t\\t\\t\\t\\t\\t\\t<span class=\"thumb_bd\"></span>\\n                            \\n\\t\\t\\t\\t\\t\\t\\n\\t\\t\\t\\t\\t</div>\\n\\t\\t\\t\\t\\t<div class=\"media_info\">\\n\\t\\t\\t\\t\\t\\t<div class=\"info_box\">\\n\\t\\t\\t\\t\\t\\t\\t\\n\\t\\t\\t\\t\\t\\t\\t<strong class=\"title \">간편 점심도시락 ~ 샐러드 다이어트 남편도시락 채식식단</strong>\\n\\t\\t\\t\\t\\t\\t\\t<div class=\"source_wrap\">\\n\\t\\t\\t\\t\\t\\t\\t\\t<span class=\"date\">4일 전</span>\\n                                <span class=\"source\">\\n                                    \\n                                        <span class=\"source_thumb\"><img  data-src=\"https://s.pstatic.net/dthumb.phinf/?src&#x3D;%22http%3A%2F%2Fblogpfthumb.phinf.naver.net%2F20100322_16%2Fa0910102_1269218938229_0aDs4s_jpg%2F11.jpg%22&amp;type&#x3D;navermain_nf40_40\" alt=\"\" width=\"20\" height=\"20\" onerror=\"this.outerHTML=\\'<i class=\\\\\\'pm_source_noimg\\\\\\'><span class=\\\\\\'blind\\\\\\'>이미지준비중</span></i>\\'\"></span>\\n                                    \\n                                    <span class=\"source_inner\"><em class=\"theme_hl\">인플루언서</em>윌리쥴리맘</span>\\n                                </span>\\n\\t\\t\\t\\t\\t\\t\\t</div>\\n\\t\\t\\t\\t\\t\\t</div>\\n\\t\\t\\t\\t\\t</div>\\n\\t\\t\\t\\t</a>\\n\\t\\t\\t\\n\\t\\t\\t\\t<a href=\"https://m.post.naver.com/viewer/postView.naver?volumeNo&#x3D;33055603&amp;memberNo&#x3D;42690419&amp;vType&#x3D;VERTICAL\" class=\"media_area\" data-da-position=\"true\" data-gdid=\"00055f7ca0_0001f86373\" data-clk=\"tcc_sub.list1cont3\" target=\"_blank\">\\n\\t\\t\\t\\t\\t<div class=\"media_thumb\">\\n\\t\\t\\t\\t\\t\\t<img  data-src=\"https://s.pstatic.net/dthumb.phinf/?src&#x3D;%22https%3A%2F%2Fdiscovercrop-phinf.pstatic.net%2F%2FMjAyMjAxMDNfOCAg%2FMDAxNjQxMTg4MDMwNDU1.pkatbIswko_KUVgfnPA2mQP_D0-72SJRJSqObyGk9mYg.07KOPjdry1cIYOogP4BoyumvzYJTBnOWrX42nBSdNgUg.JPEG%2Fimage_374x246.jpg%22&amp;type&#x3D;nf464_260\" alt=\"겨울 패션의 완성은 코트! 얼죽코들을 위한 겨울 코트 스타일링 모음\" width=\"232\" height=\"130\" onerror=\"this.outerHTML=\\'<span class=\\\\\\'pm_noimg\\\\\\'><span class=\\\\\\'noimg_text\\\\\\'>이미지 준비중</span></span>\\'\">\\n\\n\\t\\t\\t\\t\\t\\t\\n\\t\\t\\t\\t\\t\\t\\t<span class=\"thumb_bd\"></span>\\n                            \\n\\t\\t\\t\\t\\t\\t\\n\\t\\t\\t\\t\\t</div>\\n\\t\\t\\t\\t\\t<div class=\"media_info\">\\n\\t\\t\\t\\t\\t\\t<div class=\"info_box\">\\n\\t\\t\\t\\t\\t\\t\\t\\n\\t\\t\\t\\t\\t\\t\\t<strong class=\"title \">겨울 패션의 완성은 코트! 얼죽코들을 위한 겨울 코트 스타일링 모음</strong>\\n\\t\\t\\t\\t\\t\\t\\t<div class=\"source_wrap\">\\n\\t\\t\\t\\t\\t\\t\\t\\t<span class=\"date\">4일 전</span>\\n                                <span class=\"source\">\\n                                    \\n                                        <span class=\"source_thumb\"><img  data-src=\"https://s.pstatic.net/dthumb.phinf/?src&#x3D;%22https%3A%2F%2Fs.pstatic.net%2Fpost.phinf%2FMjAxODEwMDJfMjQ2%2FMDAxNTM4NDA5MzUyOTA4.0rRlV9zVSCBuyoAXIbnPcz_WIylPc3-G3NG-fK68ocQg.asjfNT2OKn0bg7P56-saXo0tC9RHF8VqHjmhteofws0g.JPEG%2Fpost_6185016670023132662.jpg%3Ftype%3Df200_200%22&amp;type&#x3D;navermain_nf40_40\" alt=\"\" width=\"20\" height=\"20\" onerror=\"this.outerHTML=\\'<i class=\\\\\\'pm_source_noimg\\\\\\'><span class=\\\\\\'blind\\\\\\'>이미지준비중</span></i>\\'\"></span>\\n                                    \\n                                    <span class=\"source_inner\">갓잇코리아</span>\\n                                </span>\\n\\t\\t\\t\\t\\t\\t\\t</div>\\n\\t\\t\\t\\t\\t\\t</div>\\n\\t\\t\\t\\t\\t</div>\\n\\t\\t\\t\\t</a>\\n\\t\\t\\t\\n\\t\\t\\t\\t<a href=\"https://m.post.naver.com/viewer/postView.naver?volumeNo&#x3D;33069752&amp;memberNo&#x3D;51540857&amp;vType&#x3D;VERTICAL\" class=\"media_area\" data-da-position=\"true\" data-gdid=\"00055f7ca0_0001f89ab8\" data-clk=\"tcc_sub.list1cont4\" target=\"_blank\">\\n\\t\\t\\t\\t\\t<div class=\"media_thumb\">\\n\\t\\t\\t\\t\\t\\t<img  data-src=\"https://s.pstatic.net/dthumb.phinf/?src&#x3D;%22https%3A%2F%2Fdiscovercrop-phinf.pstatic.net%2F%2FMjAyMjAxMDVfNzcg%2FMDAxNjQxMzcxNTUzNjA0.uO9U0fq3zdc8_LueljRjTl5PrnCqp2BwmNYVjq9fOZEg._LpOVBVTvKJ5rRj6OZo0Uv_KiKBTxGVTsyvroq7eUd8g.JPEG%2Fimage_374x246.jpg%22&amp;type&#x3D;nf464_260\" alt=\"역대 가장 로맨틱한 정조… “최대한 담백하게 그리고 싶었죠”\" width=\"232\" height=\"130\" onerror=\"this.outerHTML=\\'<span class=\\\\\\'pm_noimg\\\\\\'><span class=\\\\\\'noimg_text\\\\\\'>이미지 준비중</span></span>\\'\">\\n\\n\\t\\t\\t\\t\\t\\t\\n\\t\\t\\t\\t\\t\\t\\t<span class=\"thumb_bd\"></span>\\n                            \\n\\t\\t\\t\\t\\t\\t\\n\\t\\t\\t\\t\\t</div>\\n\\t\\t\\t\\t\\t<div class=\"media_info\">\\n\\t\\t\\t\\t\\t\\t<div class=\"info_box\">\\n\\t\\t\\t\\t\\t\\t\\t\\n\\t\\t\\t\\t\\t\\t\\t<strong class=\"title \">역대 가장 로맨틱한 정조… “최대한 담백하게 그리고 싶었죠”</strong>\\n\\t\\t\\t\\t\\t\\t\\t<div class=\"source_wrap\">\\n\\t\\t\\t\\t\\t\\t\\t\\t<span class=\"date\">어제</span>\\n                                <span class=\"source\">\\n                                    \\n                                        <span class=\"source_thumb\"><img  data-src=\"https://s.pstatic.net/dthumb.phinf/?src&#x3D;%22https%3A%2F%2Fs.pstatic.net%2Fpost.phinf%2FMjAyMDEyMDNfMjM5%2FMDAxNjA2OTY3MTA4MTUz.d8nLEjKzEhV2VSyud3L3hJKpkGDyg9cD5ZMHoLS8758g.28SYWMY7cSq7CE6oJFSi61He8otqGb_Qn2-lDtTqLZgg.PNG%2Fpost_2610056994166383251.png%3Ftype%3Df200_200%22&amp;type&#x3D;navermain_nf40_40\" alt=\"\" width=\"20\" height=\"20\" onerror=\"this.outerHTML=\\'<i class=\\\\\\'pm_source_noimg\\\\\\'><span class=\\\\\\'blind\\\\\\'>이미지준비중</span></i>\\'\"></span>\\n                                    \\n                                    <span class=\"source_inner\">슬기로운 문화생활</span>\\n                                </span>\\n\\t\\t\\t\\t\\t\\t\\t</div>\\n\\t\\t\\t\\t\\t\\t</div>\\n\\t\\t\\t\\t\\t</div>\\n\\t\\t\\t\\t</a>\\n\\t\\t\\t\\n\\t\\t\\t\\t<a href=\"http://blog.naver.com/qkrwndms65/222610908609\" class=\"media_area\" data-da-position=\"true\" data-gdid=\"90000003_0000000000000033D4A4E5C1\" data-clk=\"tcc_sub.list1cont5\" target=\"_blank\">\\n\\t\\t\\t\\t\\t<div class=\"media_thumb\">\\n\\t\\t\\t\\t\\t\\t<img  data-src=\"https://s.pstatic.net/dthumb.phinf/?src&#x3D;%22https%3A%2F%2Fdiscovercrop-phinf.pstatic.net%2F%2FMjAyMjAxMDJfMjQw%2FMDAxNjQxMTEyNTM1MzQz.u0RiqG127hTYTD14BsGUW4wbVfJ6hr53qya43DdHQ3Ag.g7-0ZCs8cZdEHsbxgmtlj-1A_YLKejfz9rE1ewNYsf8g.JPEG%2Fimage_374x246.jpg%22&amp;type&#x3D;nf464_260\" alt=\"10개월아기 한달 생활비\" width=\"232\" height=\"130\" onerror=\"this.outerHTML=\\'<span class=\\\\\\'pm_noimg\\\\\\'><span class=\\\\\\'noimg_text\\\\\\'>이미지 준비중</span></span>\\'\">\\n\\n\\t\\t\\t\\t\\t\\t\\n\\t\\t\\t\\t\\t\\t\\t<span class=\"thumb_bd\"></span>\\n                            \\n\\t\\t\\t\\t\\t\\t\\n\\t\\t\\t\\t\\t</div>\\n\\t\\t\\t\\t\\t<div class=\"media_info\">\\n\\t\\t\\t\\t\\t\\t<div class=\"info_box\">\\n\\t\\t\\t\\t\\t\\t\\t\\n\\t\\t\\t\\t\\t\\t\\t<strong class=\"title \">10개월아기 한달 생활비</strong>\\n\\t\\t\\t\\t\\t\\t\\t<div class=\"source_wrap\">\\n\\t\\t\\t\\t\\t\\t\\t\\t<span class=\"date\">4일 전</span>\\n                                <span class=\"source\">\\n                                    \\n                                        <span class=\"source_thumb\"><img  data-src=\"https://s.pstatic.net/dthumb.phinf/?src&#x3D;%22http%3A%2F%2Fblogpfthumb.phinf.naver.net%2FMjAyMTEwMDJfMTUg%2FMDAxNjMzMTM1NzE0MDMx.U0IXLwbcaUemgA_syXuVgQAJW7f6FYkSgjj9d24NwtMg.VRLAWhdk6Yk9eybsSV9v1tahTqlu1DyjDO_G8oGrzsEg.PNG.qkrwndms65%2FprofileImage.png%22&amp;type&#x3D;navermain_nf40_40\" alt=\"\" width=\"20\" height=\"20\" onerror=\"this.outerHTML=\\'<i class=\\\\\\'pm_source_noimg\\\\\\'><span class=\\\\\\'blind\\\\\\'>이미지준비중</span></i>\\'\"></span>\\n                                    \\n                                    <span class=\"source_inner\">니모엄마</span>\\n                                </span>\\n\\t\\t\\t\\t\\t\\t\\t</div>\\n\\t\\t\\t\\t\\t\\t</div>\\n\\t\\t\\t\\t\\t</div>\\n\\t\\t\\t\\t</a>\\n\\t\\t\\t\\n\\t\\t\\t\\t<a href=\"http://blog.naver.com/platinakorea/222450539876\" class=\"media_area\" data-da-position=\"true\" data-gdid=\"90000003_0000000000000033CB15DD64\" data-clk=\"tcc_sub.list1cont6\" target=\"_blank\">\\n\\t\\t\\t\\t\\t<div class=\"media_thumb\">\\n\\t\\t\\t\\t\\t\\t<img  data-src=\"https://s.pstatic.net/dthumb.phinf/?src&#x3D;%22https%3A%2F%2Fdiscovercrop-phinf.pstatic.net%2F%2FMjAyMTA4MzFfMTgx%2FMDAxNjMwMzg0MjA1Njk2.Gkr1ZIyrh-nTd440TpdxL53XlPn5vvIzd7cFQ7dCE60g.gfYAqe9ctAaFXxj2bZMI-O1Es0sgm1dMcVSJ453mw_Qg.JPEG%2Fimage_374x246.jpg%22&amp;type&#x3D;nf464_260\" alt=\"엄마가 말을 예쁘게 하면...\" width=\"232\" height=\"130\" onerror=\"this.outerHTML=\\'<span class=\\\\\\'pm_noimg\\\\\\'><span class=\\\\\\'noimg_text\\\\\\'>이미지 준비중</span></span>\\'\">\\n\\n\\t\\t\\t\\t\\t\\t\\n\\t\\t\\t\\t\\t\\t\\t<span class=\"thumb_bd\"></span>\\n                            \\n\\t\\t\\t\\t\\t\\t\\n\\t\\t\\t\\t\\t</div>\\n\\t\\t\\t\\t\\t<div class=\"media_info\">\\n\\t\\t\\t\\t\\t\\t<div class=\"info_box\">\\n\\t\\t\\t\\t\\t\\t\\t\\n\\t\\t\\t\\t\\t\\t\\t<strong class=\"title \">엄마가 말을 예쁘게 하면...</strong>\\n\\t\\t\\t\\t\\t\\t\\t<div class=\"source_wrap\">\\n\\t\\t\\t\\t\\t\\t\\t\\t<span class=\"date\">5개월 전</span>\\n                                <span class=\"source\">\\n                                    \\n                                        <span class=\"source_thumb\"><img  data-src=\"https://s.pstatic.net/dthumb.phinf/?src&#x3D;%22http%3A%2F%2Fblogpfthumb.phinf.naver.net%2FMjAyMTA2MTZfMTY2%2FMDAxNjIzODI1NTg3OTk5.0empWiTpb4d_yIMopgSsqP1J_4L4HNNiMQH81QT90f8g.z-gSqzVAR47Uya2xEvNlVVKj3oV4AivtsjTJfujc-jog.PNG.platinakorea%2FprofileImage.png%22&amp;type&#x3D;navermain_nf40_40\" alt=\"\" width=\"20\" height=\"20\" onerror=\"this.outerHTML=\\'<i class=\\\\\\'pm_source_noimg\\\\\\'><span class=\\\\\\'blind\\\\\\'>이미지준비중</span></i>\\'\"></span>\\n                                    \\n                                    <span class=\"source_inner\">톨스토리</span>\\n                                </span>\\n\\t\\t\\t\\t\\t\\t\\t</div>\\n\\t\\t\\t\\t\\t\\t</div>\\n\\t\\t\\t\\t\\t</div>\\n\\t\\t\\t\\t</a>\\n\\t\\t\\t\\n\\t\\t\\t\\t<a href=\"https://m.post.naver.com/viewer/postView.naver?volumeNo&#x3D;33005893&amp;memberNo&#x3D;202156&amp;vType&#x3D;VERTICAL\" class=\"media_area\" data-da-position=\"true\" data-gdid=\"00055f7ca0_0001f7a145\" data-clk=\"tcc_sub.list1cont7\" target=\"_blank\">\\n\\t\\t\\t\\t\\t<div class=\"media_thumb\">\\n\\t\\t\\t\\t\\t\\t<img  data-src=\"https://s.pstatic.net/dthumb.phinf/?src&#x3D;%22https%3A%2F%2Fdiscovercrop-phinf.pstatic.net%2F%2FMjAyMTEyMjRfMTEw%2FMDAxNjQwMzU2OTQzNDYz.1dQIylGSlv_b4cZ3Y6UdV1aszK1SgQc926nrZPhiYq4g.k7ai8EFFR6v4GFGx48NGmk4Z38ckxtNy1KPWrL9TmFsg.JPEG%2Fimage_374x246.jpg%22&amp;type&#x3D;nf464_260\" alt=\"아파트 거실이 &#x27;북카페&#x27;로 대변신!? 53평 아파트 인테리어\" width=\"232\" height=\"130\" onerror=\"this.outerHTML=\\'<span class=\\\\\\'pm_noimg\\\\\\'><span class=\\\\\\'noimg_text\\\\\\'>이미지 준비중</span></span>\\'\">\\n\\n\\t\\t\\t\\t\\t\\t\\n\\t\\t\\t\\t\\t\\t\\t<span class=\"thumb_bd\"></span>\\n                            \\n\\t\\t\\t\\t\\t\\t\\n\\t\\t\\t\\t\\t</div>\\n\\t\\t\\t\\t\\t<div class=\"media_info\">\\n\\t\\t\\t\\t\\t\\t<div class=\"info_box\">\\n\\t\\t\\t\\t\\t\\t\\t\\n\\t\\t\\t\\t\\t\\t\\t<strong class=\"title \">아파트 거실이 \\'북카페\\'로 대변신!? 53평 아파트 인테리어</strong>\\n\\t\\t\\t\\t\\t\\t\\t<div class=\"source_wrap\">\\n\\t\\t\\t\\t\\t\\t\\t\\t<span class=\"date\">1주일 전</span>\\n                                <span class=\"source\">\\n                                    \\n                                        <span class=\"source_thumb\"><img  data-src=\"https://s.pstatic.net/dthumb.phinf/?src&#x3D;%22https%3A%2F%2Fs.pstatic.net%2Fpost.phinf%2FMjAxNzEyMTNfMjI2%2FMDAxNTEzMTUzMDg5ODY1.zVq2kRQtAi5it-sCrIzS1meRSZtk67kSuYEixv5MHJcg.I7iDCd0AB6nN31zV0dRFdX8M4Ey8seTGTQ4mZUcXxGUg.PNG%2Fpost_932340739798048175.png%3Ftype%3Df200_200%22&amp;type&#x3D;navermain_nf40_40\" alt=\"\" width=\"20\" height=\"20\" onerror=\"this.outerHTML=\\'<i class=\\\\\\'pm_source_noimg\\\\\\'><span class=\\\\\\'blind\\\\\\'>이미지준비중</span></i>\\'\"></span>\\n                                    \\n                                    <span class=\"source_inner\">오늘의집</span>\\n                                </span>\\n\\t\\t\\t\\t\\t\\t\\t</div>\\n\\t\\t\\t\\t\\t\\t</div>\\n\\t\\t\\t\\t\\t</div>\\n\\t\\t\\t\\t</a>\\n\\t\\t\\t\\n\\t\\t\\t\\t<a href=\"https://in.naver.com/merry_mayy/contents/internal/389111460629408\" class=\"media_area\" data-da-position=\"true\" data-gdid=\"90000003_0000000000000033D4C4D3C5\" data-clk=\"tcc_sub.list1cont8\" target=\"_blank\">\\n\\t\\t\\t\\t\\t<div class=\"media_thumb\">\\n\\t\\t\\t\\t\\t\\t<img  data-src=\"https://s.pstatic.net/dthumb.phinf/?src&#x3D;%22https%3A%2F%2Fdiscovercrop-phinf.pstatic.net%2F%2FMjAyMjAxMDVfMTA0%2FMDAxNjQxMzM5MjY4NTA4.lTfanxODvoY8NAoIci_BCoafiRX3sJcp-6KX8da0HqYg.BksciqHAhUY4_l4DOA_lEYOtK3F72_kklRFnVVBSalgg.JPEG%2Fimage_374x246.jpg%22&amp;type&#x3D;nf464_260\" alt=\"미니멀 일상\" width=\"232\" height=\"130\" onerror=\"this.outerHTML=\\'<span class=\\\\\\'pm_noimg\\\\\\'><span class=\\\\\\'noimg_text\\\\\\'>이미지 준비중</span></span>\\'\">\\n\\n\\t\\t\\t\\t\\t\\t\\n\\t\\t\\t\\t\\t\\t\\t<span class=\"thumb_bd\"></span>\\n                            \\n\\t\\t\\t\\t\\t\\t\\n\\t\\t\\t\\t\\t</div>\\n\\t\\t\\t\\t\\t<div class=\"media_info\">\\n\\t\\t\\t\\t\\t\\t<div class=\"info_box\">\\n\\t\\t\\t\\t\\t\\t\\t\\n\\t\\t\\t\\t\\t\\t\\t<strong class=\"title \">미니멀 일상</strong>\\n\\t\\t\\t\\t\\t\\t\\t<div class=\"source_wrap\">\\n\\t\\t\\t\\t\\t\\t\\t\\t<span class=\"date\">2일 전</span>\\n                                <span class=\"source\">\\n                                    \\n                                        <span class=\"source_thumb\"><img  data-src=\"https://s.pstatic.net/dthumb.phinf/?src&#x3D;%22http%3A%2F%2Fblogpfthumb.phinf.naver.net%2FMjAxODA5MjFfMjEg%2FMDAxNTM3NDU3OTM2Mzc0.rBFkPskyCcW5N2v_HOsXPoTefO3wOa8IMCpK71Womogg.Gsf9QFLhcaUCZjrHKeI0SkiKJXw-Jk8XjPkuDB032ocg.PNG.merry_mayy%2FprofileImage.png%22&amp;type&#x3D;navermain_nf40_40\" alt=\"\" width=\"20\" height=\"20\" onerror=\"this.outerHTML=\\'<i class=\\\\\\'pm_source_noimg\\\\\\'><span class=\\\\\\'blind\\\\\\'>이미지준비중</span></i>\\'\"></span>\\n                                    \\n                                    <span class=\"source_inner\"><em class=\"theme_hl\">인플루언서</em>메이</span>\\n                                </span>\\n\\t\\t\\t\\t\\t\\t\\t</div>\\n\\t\\t\\t\\t\\t\\t</div>\\n\\t\\t\\t\\t\\t</div>\\n\\t\\t\\t\\t</a>\\n\\t\\t\\t\\n\\t\\t\\t\\t<a href=\"http://tv.naver.com/v/24481173\" class=\"media_area\" data-da-position=\"true\" data-gdid=\"BF0559226E5AF1C501C046B26B8DA1E28F9F\" data-clk=\"tcc_sub.list1cont9\" target=\"_blank\">\\n\\t\\t\\t\\t\\t<div class=\"media_thumb\">\\n\\t\\t\\t\\t\\t\\t<img  data-src=\"https://s.pstatic.net/dthumb.phinf/?src&#x3D;%22https%3A%2F%2Fs.pstatic.net%2Ftvcast.phinf%2F20220107_243%2FsWAmX_1641518353374TKMaY_JPEG%2Fbandicam_2022-01-07_10-18-05-110.jpg%22&amp;type&#x3D;nf464_260\" alt=\"마하다혼다 vs AT 마드리드 - 하이라이트 [국왕컵 3R]\" width=\"232\" height=\"130\" onerror=\"this.outerHTML=\\'<span class=\\\\\\'pm_noimg\\\\\\'><span class=\\\\\\'noimg_text\\\\\\'>이미지 준비중</span></span>\\'\">\\n\\n\\t\\t\\t\\t\\t\\t\\n\\t\\t\\t\\t\\t\\t\\t<span class=\"thumb_dim\"></span>\\n\\t\\t\\t\\t\\t\\t\\t<span class=\"thumb_bd\"></span>\\n\\t\\t\\t\\t\\t\\t\\t<i class=\"pm_ico_play\"><span class=\"blind\">재생</span></i>\\n\\t\\t\\t\\t\\t\\t\\t<span class=\"theme_runtime\"><span class=\"runtime_bg\">재생시간</span><em class=\"time\">05:10</em></span>\\n\\t\\t\\t\\t\\t\\t\\n\\t\\t\\t\\t\\t</div>\\n\\t\\t\\t\\t\\t<div class=\"media_info\">\\n\\t\\t\\t\\t\\t\\t<div class=\"info_box\">\\n\\t\\t\\t\\t\\t\\t\\t\\n\\t\\t\\t\\t\\t\\t\\t<strong class=\"title \">마하다혼다 vs AT 마드리드 - 하이라이트 [국왕컵 3R]</strong>\\n\\t\\t\\t\\t\\t\\t\\t<div class=\"source_wrap\">\\n\\t\\t\\t\\t\\t\\t\\t\\t<span class=\"date\">3시간 전</span>\\n                                <span class=\"source\">\\n                                    \\n                                        <span class=\"source_thumb\"><img  data-src=\"https://s.pstatic.net/dthumb.phinf/?src&#x3D;%22https%3A%2F%2Fs.pstatic.net%2Ftvcast.phinf%2F20200203_20%2F00tXz_1580721703412V3VGg_JPEG%2F1580721703389.jpg%22&amp;type&#x3D;navermain_nf40_40\" alt=\"\" width=\"20\" height=\"20\" onerror=\"this.outerHTML=\\'<i class=\\\\\\'pm_source_noimg\\\\\\'><span class=\\\\\\'blind\\\\\\'>이미지준비중</span></i>\\'\"></span>\\n                                    \\n                                    <span class=\"source_inner\">코파 델 레이 (네이버스포츠)</span>\\n                                </span>\\n\\t\\t\\t\\t\\t\\t\\t</div>\\n\\t\\t\\t\\t\\t\\t</div>\\n\\t\\t\\t\\t\\t</div>\\n\\t\\t\\t\\t</a>\\n\\t\\t\\t\\n\\t\\t</div>\\n\\t</div>\\n</div>\\n\\n<div class=\"group_theme\" data-block-id=\"61bae4afa10d3006850d7796\" data-block-code=\"PC-THEME-MYFEED-RECOMMEND-5\" data-block-type=\"PC-MYFEED-BLOCK\" data-template-code=\"3X3\"\\n\\n\\t data-page=\"3\"\\n\\t style=\"display:none\">\\n\\n\\t<div class=\"media_view_wrap type_column\">\\n\\t\\t<div class=\"media_view\">\\n\\t\\t\\t\\n\\t\\t\\t\\t<a href=\"https://contents.premium.naver.com/yeoul/salondemuse/contents/220101195305187Wu\" class=\"media_area\" data-da-position=\"true\" data-gdid=\"8830a3s6_220101195305187Wu\" data-clk=\"tcc_sub.list1cont1\" target=\"_blank\">\\n\\t\\t\\t\\t\\t<div class=\"media_thumb\">\\n\\t\\t\\t\\t\\t\\t<img  data-src=\"https://s.pstatic.net/dthumb.phinf/?src&#x3D;%22https%3A%2F%2Fdiscovercrop-phinf.pstatic.net%2F%2FMjAyMjAxMDFfMTM4%2FMDAxNjQxMDM3MzkzNjMx.0H8tYwkO3fpVaNsG1PbWJ4uhdv71eu53nop6KmVFbzYg.vG90okcm_FCjKY7QDgMo1gJFwTTTGiPpM45i_0KMQvMg.JPEG%2Fimage_374x246.jpg%22&amp;type&#x3D;nf464_260\" alt=\"행복으로 가는 길이 너무 멀게 느껴질 때\" width=\"232\" height=\"130\" onerror=\"this.outerHTML=\\'<span class=\\\\\\'pm_noimg\\\\\\'><span class=\\\\\\'noimg_text\\\\\\'>이미지 준비중</span></span>\\'\">\\n\\n\\t\\t\\t\\t\\t\\t\\n\\t\\t\\t\\t\\t\\t\\t<span class=\"thumb_bd\"></span>\\n                            \\n                                \\n                                    <em class=\"theme_badge type_charge\"><span class=\"badge_inner\">유료</span></em>\\n                                \\n                            \\n\\t\\t\\t\\t\\t\\t\\n\\t\\t\\t\\t\\t</div>\\n\\t\\t\\t\\t\\t<div class=\"media_info\">\\n\\t\\t\\t\\t\\t\\t<div class=\"info_box\">\\n\\t\\t\\t\\t\\t\\t\\t\\n\\t\\t\\t\\t\\t\\t\\t<strong class=\"title \">행복으로 가는 길이 너무 멀게 느껴질 때</strong>\\n\\t\\t\\t\\t\\t\\t\\t<div class=\"source_wrap\">\\n\\t\\t\\t\\t\\t\\t\\t\\t<span class=\"date\">5일 전</span>\\n                                <span class=\"source\">\\n                                    \\n                                        <span class=\"source_thumb\"><img  data-src=\"https://s.pstatic.net/dthumb.phinf/?src&#x3D;%22https%3A%2F%2Fs.pstatic.net%2Fscs.phinf%2FMjAyMTExMjNfMTY1%2FMDAxNjM3NjU4OTIyMzI2.gIIpu26fAgvNMJSUoBnbF7Zrd5ZCgSW7GhP7p6M9wVIg.6jfQbtP2NzQ5K1Mx25VSecQnToKr07JFyU6N9mg0mA0g.PNG%2Fimage%257Cpremium%257Cchannel%257Cyeoul%257C2021%257C11%257C23%257C1637658922233.png%22&amp;type&#x3D;navermain_nf40_40\" alt=\"\" width=\"20\" height=\"20\" onerror=\"this.outerHTML=\\'<i class=\\\\\\'pm_source_noimg\\\\\\'><span class=\\\\\\'blind\\\\\\'>이미지준비중</span></i>\\'\"></span>\\n                                    \\n                                    <span class=\"source_inner\"><em class=\"theme_hl\">프리미엄</em>정여울의 살롱 드 뮤즈</span>\\n                                </span>\\n\\t\\t\\t\\t\\t\\t\\t</div>\\n\\t\\t\\t\\t\\t\\t</div>\\n\\t\\t\\t\\t\\t</div>\\n\\t\\t\\t\\t</a>\\n\\t\\t\\t\\n\\t\\t\\t\\t<a href=\"https://in.naver.com/kwanoo/contents/internal/388807625083808\" class=\"media_area\" data-da-position=\"true\" data-gdid=\"90000003_0000000000000033D4B9394D\" data-clk=\"tcc_sub.list1cont2\" target=\"_blank\">\\n\\t\\t\\t\\t\\t<div class=\"media_thumb\">\\n\\t\\t\\t\\t\\t\\t<img  data-src=\"https://s.pstatic.net/dthumb.phinf/?src&#x3D;%22https%3A%2F%2Fdiscovercrop-phinf.pstatic.net%2F%2FMjAyMjAxMDRfMjAz%2FMDAxNjQxMjMxNDA1NzA3.UP6Wj31W5ssoTFiDOsktRmkRmdKUuIUxqix_QHw7-lIg.8qC3-kbz8XYWZOByaATFzauhLH9AVUSY3SC7PmA_bFMg.JPEG%2Fimage_374x246.jpg%22&amp;type&#x3D;nf464_260\" alt=\"포항 스페이스워크 &amp; 영일대 해수욕장, 영일교 걷기!\" width=\"232\" height=\"130\" onerror=\"this.outerHTML=\\'<span class=\\\\\\'pm_noimg\\\\\\'><span class=\\\\\\'noimg_text\\\\\\'>이미지 준비중</span></span>\\'\">\\n\\n\\t\\t\\t\\t\\t\\t\\n\\t\\t\\t\\t\\t\\t\\t<span class=\"thumb_bd\"></span>\\n                            \\n\\t\\t\\t\\t\\t\\t\\n\\t\\t\\t\\t\\t</div>\\n\\t\\t\\t\\t\\t<div class=\"media_info\">\\n\\t\\t\\t\\t\\t\\t<div class=\"info_box\">\\n\\t\\t\\t\\t\\t\\t\\t\\n\\t\\t\\t\\t\\t\\t\\t<strong class=\"title \">포항 스페이스워크 & 영일대 해수욕장, 영일교 걷기!</strong>\\n\\t\\t\\t\\t\\t\\t\\t<div class=\"source_wrap\">\\n\\t\\t\\t\\t\\t\\t\\t\\t<span class=\"date\">3일 전</span>\\n                                <span class=\"source\">\\n                                    \\n                                        <span class=\"source_thumb\"><img  data-src=\"https://s.pstatic.net/dthumb.phinf/?src&#x3D;%22http%3A%2F%2Fblogpfthumb.phinf.naver.net%2FMjAxOTExMjhfMjcy%2FMDAxNTc0OTE5NzM3Mjg0.d02-V5k4ZWBZniwr-Z2z3u12NqJv8BDqzBmVkJBJdpMg.U_K4f02Z8krL2qrXS8ceheqiIsziXT0Oc9MUU2ppkO8g.PNG.rhksgn%2Faa.png%22&amp;type&#x3D;navermain_nf40_40\" alt=\"\" width=\"20\" height=\"20\" onerror=\"this.outerHTML=\\'<i class=\\\\\\'pm_source_noimg\\\\\\'><span class=\\\\\\'blind\\\\\\'>이미지준비중</span></i>\\'\"></span>\\n                                    \\n                                    <span class=\"source_inner\"><em class=\"theme_hl\">인플루언서</em>딸기소보루</span>\\n                                </span>\\n\\t\\t\\t\\t\\t\\t\\t</div>\\n\\t\\t\\t\\t\\t\\t</div>\\n\\t\\t\\t\\t\\t</div>\\n\\t\\t\\t\\t</a>\\n\\t\\t\\t\\n\\t\\t\\t\\t<a href=\"https://in.naver.com/dongi0508/contents/internal/388945070332480\" class=\"media_area\" data-da-position=\"true\" data-gdid=\"90000003_0000000000000033D4BC0EB6\" data-clk=\"tcc_sub.list1cont3\" target=\"_blank\">\\n\\t\\t\\t\\t\\t<div class=\"media_thumb\">\\n\\t\\t\\t\\t\\t\\t<img  data-src=\"https://s.pstatic.net/dthumb.phinf/?src&#x3D;%22https%3A%2F%2Fdiscovercrop-phinf.pstatic.net%2F%2FMjAyMjAxMDRfMjEz%2FMDAxNjQxMjcxODQyMjE0.V5-IcVip_kqIf0FUHzf9awuLZxWNvTOnrfUXgtyr0Fsg.zQlbkP_ak6pLzPgug896ErKH-TYVMK4xx3Bp9AZ2W-Qg.JPEG%2Fimage_374x246.jpg%22&amp;type&#x3D;nf464_260\" alt=\"넷플릭스 영화추천 집에서볼만한 최신 개봉 10개\" width=\"232\" height=\"130\" onerror=\"this.outerHTML=\\'<span class=\\\\\\'pm_noimg\\\\\\'><span class=\\\\\\'noimg_text\\\\\\'>이미지 준비중</span></span>\\'\">\\n\\n\\t\\t\\t\\t\\t\\t\\n\\t\\t\\t\\t\\t\\t\\t<span class=\"thumb_bd\"></span>\\n                            \\n\\t\\t\\t\\t\\t\\t\\n\\t\\t\\t\\t\\t</div>\\n\\t\\t\\t\\t\\t<div class=\"media_info\">\\n\\t\\t\\t\\t\\t\\t<div class=\"info_box\">\\n\\t\\t\\t\\t\\t\\t\\t\\n\\t\\t\\t\\t\\t\\t\\t<strong class=\"title \">넷플릭스 영화추천 집에서볼만한 최신 개봉 10개</strong>\\n\\t\\t\\t\\t\\t\\t\\t<div class=\"source_wrap\">\\n\\t\\t\\t\\t\\t\\t\\t\\t<span class=\"date\">3일 전</span>\\n                                <span class=\"source\">\\n                                    \\n                                        <span class=\"source_thumb\"><img  data-src=\"https://s.pstatic.net/dthumb.phinf/?src&#x3D;%22http%3A%2F%2Fblogpfthumb.phinf.naver.net%2F20141128_142%2Fdongi0508_1417157303160EkQQv_JPEG%2FKD_profile-2.jpg%22&amp;type&#x3D;navermain_nf40_40\" alt=\"\" width=\"20\" height=\"20\" onerror=\"this.outerHTML=\\'<i class=\\\\\\'pm_source_noimg\\\\\\'><span class=\\\\\\'blind\\\\\\'>이미지준비중</span></i>\\'\"></span>\\n                                    \\n                                    <span class=\"source_inner\"><em class=\"theme_hl\">인플루언서</em>김덮밥</span>\\n                                </span>\\n\\t\\t\\t\\t\\t\\t\\t</div>\\n\\t\\t\\t\\t\\t\\t</div>\\n\\t\\t\\t\\t\\t</div>\\n\\t\\t\\t\\t</a>\\n\\t\\t\\t\\n\\t\\t\\t\\t<a href=\"http://blog.naver.com/designpress2016/222612684436\" class=\"media_area\" data-da-position=\"true\" data-gdid=\"90000003_0000000000000033D4BFFE94\" data-clk=\"tcc_sub.list1cont4\" target=\"_blank\">\\n\\t\\t\\t\\t\\t<div class=\"media_thumb\">\\n\\t\\t\\t\\t\\t\\t<img  data-src=\"https://s.pstatic.net/dthumb.phinf/?src&#x3D;%22https%3A%2F%2Fdiscovercrop-phinf.pstatic.net%2F%2FMjAyMjAxMDRfMjA4%2FMDAxNjQxMjk3MDMyODgw.sSiDXfHQRWEzhRIrxd00PCrFql0Oa1qtXWYas6JdFcog.22_iHeD3I0iNA83BHWUAjHMTYnO1twtbIsG6b_LjOqUg.JPEG%2Fimage_374x246.jpg%22&amp;type&#x3D;nf464_260\" alt=\"2021년 빅토리아 국립미술관 건축 공모전 선정작, ‘Pond[er]’\" width=\"232\" height=\"130\" onerror=\"this.outerHTML=\\'<span class=\\\\\\'pm_noimg\\\\\\'><span class=\\\\\\'noimg_text\\\\\\'>이미지 준비중</span></span>\\'\">\\n\\n\\t\\t\\t\\t\\t\\t\\n\\t\\t\\t\\t\\t\\t\\t<span class=\"thumb_bd\"></span>\\n                            \\n\\t\\t\\t\\t\\t\\t\\n\\t\\t\\t\\t\\t</div>\\n\\t\\t\\t\\t\\t<div class=\"media_info\">\\n\\t\\t\\t\\t\\t\\t<div class=\"info_box\">\\n\\t\\t\\t\\t\\t\\t\\t\\n\\t\\t\\t\\t\\t\\t\\t<strong class=\"title \">2021년 빅토리아 국립미술관 건축 공모전 선정작, ‘Pond[er]’</strong>\\n\\t\\t\\t\\t\\t\\t\\t<div class=\"source_wrap\">\\n\\t\\t\\t\\t\\t\\t\\t\\t<span class=\"date\">2일 전</span>\\n                                <span class=\"source\">\\n                                    \\n                                        <span class=\"source_thumb\"><img  data-src=\"https://s.pstatic.net/dthumb.phinf/?src&#x3D;%22http%3A%2F%2Fblogpfthumb.phinf.naver.net%2FMjAxOTEyMjZfMjQw%2FMDAxNTc3MzQxNDk2MzY4.MSvr11dAnKZIgzFNBJnafBHx62V0LWruw9EMreTKBOsg.xXpAr8l-O6DhiDGalzYqnyMaC7M-Qj6nlO8mh6nHnjUg.PNG.designpress2016%2F%25B4%25EB%25C7%25A5%25C7%25C1%25B7%25CE%25C7%25CAci%2528%25BA%25B8%25B6%25F3%25BB%25F6%252C%25C8%25F2%25BB%25F6%2529%2B%25282020%2529-02.png%22&amp;type&#x3D;navermain_nf40_40\" alt=\"\" width=\"20\" height=\"20\" onerror=\"this.outerHTML=\\'<i class=\\\\\\'pm_source_noimg\\\\\\'><span class=\\\\\\'blind\\\\\\'>이미지준비중</span></i>\\'\"></span>\\n                                    \\n                                    <span class=\"source_inner\">디자인프레스</span>\\n                                </span>\\n\\t\\t\\t\\t\\t\\t\\t</div>\\n\\t\\t\\t\\t\\t\\t</div>\\n\\t\\t\\t\\t\\t</div>\\n\\t\\t\\t\\t</a>\\n\\t\\t\\t\\n\\t\\t\\t\\t<a href=\"https://in.naver.com/chungwoo/contents/internal/388927541955008\" class=\"media_area\" data-da-position=\"true\" data-gdid=\"90000003_0000000000000033D4BB62C8\" data-clk=\"tcc_sub.list1cont5\" target=\"_blank\">\\n\\t\\t\\t\\t\\t<div class=\"media_thumb\">\\n\\t\\t\\t\\t\\t\\t<img  data-src=\"https://s.pstatic.net/dthumb.phinf/?src&#x3D;%22https%3A%2F%2Fdiscovercrop-phinf.pstatic.net%2F%2FMjAyMjAxMDRfOTUg%2FMDAxNjQxMjYwNjIyMTI4.zqeBXVVuRXCtu20Wo1SWFWegswRlDUQitE-fDev7p9cg.AQ4mdb4_VllBJAR9RD6PPGF7wcpw1cWyJEbHZiq6eOYg.JPEG%2Fimage_374x246.jpg%22&amp;type&#x3D;nf464_260\" alt=\"영화 &lt;블랙 위도우&gt; 불법 다운로드로 인해 디즈니 7000억 이상 손해를 입었다.\" width=\"232\" height=\"130\" onerror=\"this.outerHTML=\\'<span class=\\\\\\'pm_noimg\\\\\\'><span class=\\\\\\'noimg_text\\\\\\'>이미지 준비중</span></span>\\'\">\\n\\n\\t\\t\\t\\t\\t\\t\\n\\t\\t\\t\\t\\t\\t\\t<span class=\"thumb_bd\"></span>\\n                            \\n\\t\\t\\t\\t\\t\\t\\n\\t\\t\\t\\t\\t</div>\\n\\t\\t\\t\\t\\t<div class=\"media_info\">\\n\\t\\t\\t\\t\\t\\t<div class=\"info_box\">\\n\\t\\t\\t\\t\\t\\t\\t\\n\\t\\t\\t\\t\\t\\t\\t<strong class=\"title \">영화 <블랙 위도우> 불법 다운로드로 인해 디즈니 7000억 이상 손해를 입었다.</strong>\\n\\t\\t\\t\\t\\t\\t\\t<div class=\"source_wrap\">\\n\\t\\t\\t\\t\\t\\t\\t\\t<span class=\"date\">3일 전</span>\\n                                <span class=\"source\">\\n                                    \\n                                        <span class=\"source_thumb\"><img  data-src=\"https://s.pstatic.net/dthumb.phinf/?src&#x3D;%22http%3A%2F%2Fblogpfthumb.phinf.naver.net%2FMjAyMDA3MjVfOSAg%2FMDAxNTk1NjgzNjYxMDU1.537lj5GLCNr14qPzGWcx9ctOL-iJUgNxN5nztdP2hHsg.DpMsYqMTkx-PCUHDcVZEc-UD1FzitlvQ1riKS7LEuPkg.PNG.ban1329%2FprofileImage.png%22&amp;type&#x3D;navermain_nf40_40\" alt=\"\" width=\"20\" height=\"20\" onerror=\"this.outerHTML=\\'<i class=\\\\\\'pm_source_noimg\\\\\\'><span class=\\\\\\'blind\\\\\\'>이미지준비중</span></i>\\'\"></span>\\n                                    \\n                                    <span class=\"source_inner\"><em class=\"theme_hl\">인플루언서</em>청우</span>\\n                                </span>\\n\\t\\t\\t\\t\\t\\t\\t</div>\\n\\t\\t\\t\\t\\t\\t</div>\\n\\t\\t\\t\\t\\t</div>\\n\\t\\t\\t\\t</a>\\n\\t\\t\\t\\n\\t\\t\\t\\t<a href=\"http://blog.naver.com/baby6630/222518220378\" class=\"media_area\" data-da-position=\"true\" data-gdid=\"90000003_0000000000000033CF1E965A\" data-clk=\"tcc_sub.list1cont6\" target=\"_blank\">\\n\\t\\t\\t\\t\\t<div class=\"media_thumb\">\\n\\t\\t\\t\\t\\t\\t<img  data-src=\"https://s.pstatic.net/dthumb.phinf/?src&#x3D;%22https%3A%2F%2Fdiscovercrop-phinf.pstatic.net%2F%2FMjAyMTA5MjdfMTMx%2FMDAxNjMyNzI4ODA2ODg1.77nQXQ-hJXl_vxSE66EJsdMl_o06Cpdq3nZJnskqR24g.IziKCT4Kx6WLMZ_doRZRm02vOUGP7EElaUKwjFPUrYwg.JPEG%2Fimage_374x246.jpg%22&amp;type&#x3D;nf464_260\" alt=\"로션 용기(크림통) 재활용 아이디어\" width=\"232\" height=\"130\" onerror=\"this.outerHTML=\\'<span class=\\\\\\'pm_noimg\\\\\\'><span class=\\\\\\'noimg_text\\\\\\'>이미지 준비중</span></span>\\'\">\\n\\n\\t\\t\\t\\t\\t\\t\\n\\t\\t\\t\\t\\t\\t\\t<span class=\"thumb_bd\"></span>\\n                            \\n\\t\\t\\t\\t\\t\\t\\n\\t\\t\\t\\t\\t</div>\\n\\t\\t\\t\\t\\t<div class=\"media_info\">\\n\\t\\t\\t\\t\\t\\t<div class=\"info_box\">\\n\\t\\t\\t\\t\\t\\t\\t\\n\\t\\t\\t\\t\\t\\t\\t<strong class=\"title \">로션 용기(크림통) 재활용 아이디어</strong>\\n\\t\\t\\t\\t\\t\\t\\t<div class=\"source_wrap\">\\n\\t\\t\\t\\t\\t\\t\\t\\t<span class=\"date\">3개월 전</span>\\n                                <span class=\"source\">\\n                                    \\n                                        <span class=\"source_thumb\"><img  data-src=\"https://s.pstatic.net/dthumb.phinf/?src&#x3D;%22http%3A%2F%2Fblogpfthumb.phinf.naver.net%2FMjAyMDA1MjVfNzIg%2FMDAxNTkwNDAxODM4OTUx.ZeXxd3h3ljOCftxojdFc2r0c4uO-ditq_JvoCHwFAPMg.Fb5tZJYRinPLQbN9y2--Fj_f581oiLeMqIBDgua5WAYg.JPEG.baby6630%2F14.JPG%22&amp;type&#x3D;navermain_nf40_40\" alt=\"\" width=\"20\" height=\"20\" onerror=\"this.outerHTML=\\'<i class=\\\\\\'pm_source_noimg\\\\\\'><span class=\\\\\\'blind\\\\\\'>이미지준비중</span></i>\\'\"></span>\\n                                    \\n                                    <span class=\"source_inner\">핑크베베</span>\\n                                </span>\\n\\t\\t\\t\\t\\t\\t\\t</div>\\n\\t\\t\\t\\t\\t\\t</div>\\n\\t\\t\\t\\t\\t</div>\\n\\t\\t\\t\\t</a>\\n\\t\\t\\t\\n\\t\\t\\t\\t<a href=\"http://blog.naver.com/imbc21c/222569946220\" class=\"media_area\" data-da-position=\"true\" data-gdid=\"90000003_0000000000000033D233DC6C\" data-clk=\"tcc_sub.list1cont7\" target=\"_blank\">\\n\\t\\t\\t\\t\\t<div class=\"media_thumb\">\\n\\t\\t\\t\\t\\t\\t<img  data-src=\"https://s.pstatic.net/dthumb.phinf/?src&#x3D;%22https%3A%2F%2Fdiscovercrop-phinf.pstatic.net%2F%2FMjAyMTExMTdfOCAg%2FMDAxNjM3MTIzOTc5OTM3.5wjAEYib1UMh8INWZbIpb2BZUuYtR7VJJyJXx9LkAbYg.lnVO3cPkV-2Krin0a_xS0qayNuP438GEBc4_zkbKeoYg.JPEG%2Fimage_374x246.jpg%22&amp;type&#x3D;nf464_260\" alt=\"마당 부잣집! 앞뒤로도 마당이 있는 중정형 단층 주택, Courtyard House by FIGR Architecture &amp; Design\" width=\"232\" height=\"130\" onerror=\"this.outerHTML=\\'<span class=\\\\\\'pm_noimg\\\\\\'><span class=\\\\\\'noimg_text\\\\\\'>이미지 준비중</span></span>\\'\">\\n\\n\\t\\t\\t\\t\\t\\t\\n\\t\\t\\t\\t\\t\\t\\t<span class=\"thumb_bd\"></span>\\n                            \\n\\t\\t\\t\\t\\t\\t\\n\\t\\t\\t\\t\\t</div>\\n\\t\\t\\t\\t\\t<div class=\"media_info\">\\n\\t\\t\\t\\t\\t\\t<div class=\"info_box\">\\n\\t\\t\\t\\t\\t\\t\\t\\n\\t\\t\\t\\t\\t\\t\\t<strong class=\"title \">마당 부잣집! 앞뒤로도 마당이 있는 중정형 단층 주택, Courtyard House by FIGR Architecture & Design</strong>\\n\\t\\t\\t\\t\\t\\t\\t<div class=\"source_wrap\">\\n\\t\\t\\t\\t\\t\\t\\t\\t<span class=\"date\">1개월 전</span>\\n                                <span class=\"source\">\\n                                    \\n                                        <span class=\"source_thumb\"><img  data-src=\"https://s.pstatic.net/dthumb.phinf/?src&#x3D;%22http%3A%2F%2Fblogpfthumb.phinf.naver.net%2F20130227_177%2Fimbc21c_1361933642609zU5TD_PNG%2F006.png%22&amp;type&#x3D;navermain_nf40_40\" alt=\"\" width=\"20\" height=\"20\" onerror=\"this.outerHTML=\\'<i class=\\\\\\'pm_source_noimg\\\\\\'><span class=\\\\\\'blind\\\\\\'>이미지준비중</span></i>\\'\"></span>\\n                                    \\n                                    <span class=\"source_inner\">즐건마암</span>\\n                                </span>\\n\\t\\t\\t\\t\\t\\t\\t</div>\\n\\t\\t\\t\\t\\t\\t</div>\\n\\t\\t\\t\\t\\t</div>\\n\\t\\t\\t\\t</a>\\n\\t\\t\\t\\n\\t\\t\\t\\t<a href=\"https://in.naver.com/lyun1024/contents/internal/355171491070400\" class=\"media_area\" data-da-position=\"true\" data-gdid=\"90000003_0000000000000033CF5F076B\" data-clk=\"tcc_sub.list1cont8\" target=\"_blank\">\\n\\t\\t\\t\\t\\t<div class=\"media_thumb\">\\n\\t\\t\\t\\t\\t\\t<img  data-src=\"https://s.pstatic.net/dthumb.phinf/?src&#x3D;%22https%3A%2F%2Fdiscovercrop-phinf.pstatic.net%2F%2FMjAyMTEwMDlfMjY5%2FMDAxNjMzNzg5NDEyMzE1.un8eQSmYDgz_eP_nvxaHARuggLkL6b0LhX2Hw8yTORQg.3A3gE5uKBlqXcqlrRKwmR5-BTIvbcBsX6c3m6zvW9MUg.JPEG%2Fimage_374x246.jpg%22&amp;type&#x3D;nf464_260\" alt=\"꽃양파튀김! 블루밍 어니언 에어프라이어 양파튀김, 양파요리~\" width=\"232\" height=\"130\" onerror=\"this.outerHTML=\\'<span class=\\\\\\'pm_noimg\\\\\\'><span class=\\\\\\'noimg_text\\\\\\'>이미지 준비중</span></span>\\'\">\\n\\n\\t\\t\\t\\t\\t\\t\\n\\t\\t\\t\\t\\t\\t\\t<span class=\"thumb_bd\"></span>\\n                            \\n\\t\\t\\t\\t\\t\\t\\n\\t\\t\\t\\t\\t</div>\\n\\t\\t\\t\\t\\t<div class=\"media_info\">\\n\\t\\t\\t\\t\\t\\t<div class=\"info_box\">\\n\\t\\t\\t\\t\\t\\t\\t\\n\\t\\t\\t\\t\\t\\t\\t<strong class=\"title \">꽃양파튀김! 블루밍 어니언 에어프라이어 양파튀김, 양파요리~</strong>\\n\\t\\t\\t\\t\\t\\t\\t<div class=\"source_wrap\">\\n\\t\\t\\t\\t\\t\\t\\t\\t<span class=\"date\">3개월 전</span>\\n                                <span class=\"source\">\\n                                    \\n                                        <span class=\"source_thumb\"><img  data-src=\"https://s.pstatic.net/dthumb.phinf/?src&#x3D;%22http%3A%2F%2Fblogpfthumb.phinf.naver.net%2FMjAxOTEyMTdfMjY1%2FMDAxNTc2NTY2OTYzOTY1.gYHmFzgrFT_K72KCawEiHw4w0f_EKA74pFtMC2_MIX4g.9c6R8l5wZIusCEpz4OwFUeaeaphsZ2d8GrEF0Rb70Sgg.PNG.lyun1024%2F%25C7%25C1%25B7%25CE%25C7%25CA.png%22&amp;type&#x3D;navermain_nf40_40\" alt=\"\" width=\"20\" height=\"20\" onerror=\"this.outerHTML=\\'<i class=\\\\\\'pm_source_noimg\\\\\\'><span class=\\\\\\'blind\\\\\\'>이미지준비중</span></i>\\'\"></span>\\n                                    \\n                                    <span class=\"source_inner\"><em class=\"theme_hl\">인플루언서</em>빅톨</span>\\n                                </span>\\n\\t\\t\\t\\t\\t\\t\\t</div>\\n\\t\\t\\t\\t\\t\\t</div>\\n\\t\\t\\t\\t\\t</div>\\n\\t\\t\\t\\t</a>\\n\\t\\t\\t\\n\\t\\t\\t\\t<a href=\"http://tv.naver.com/v/24480912\" class=\"media_area\" data-da-position=\"true\" data-gdid=\"30CF20894A0BF1549BAE693FC12A4E395EB3\" data-clk=\"tcc_sub.list1cont9\" target=\"_blank\">\\n\\t\\t\\t\\t\\t<div class=\"media_thumb\">\\n\\t\\t\\t\\t\\t\\t<img  data-src=\"https://s.pstatic.net/dthumb.phinf/?src&#x3D;%22https%3A%2F%2Fs.pstatic.net%2Ftvcast.phinf%2F20220107_40%2FdLdsj_1641517290373j9Vcf_JPEG%2F6yD7NTA4uetu.jpg%22&amp;type&#x3D;nf464_260\" alt=\"슈퍼맨이 돌아왔다 414회 티저 - 린린자매네 | KBS 방송\" width=\"232\" height=\"130\" onerror=\"this.outerHTML=\\'<span class=\\\\\\'pm_noimg\\\\\\'><span class=\\\\\\'noimg_text\\\\\\'>이미지 준비중</span></span>\\'\">\\n\\n\\t\\t\\t\\t\\t\\t\\n\\t\\t\\t\\t\\t\\t\\t<span class=\"thumb_dim\"></span>\\n\\t\\t\\t\\t\\t\\t\\t<span class=\"thumb_bd\"></span>\\n\\t\\t\\t\\t\\t\\t\\t<i class=\"pm_ico_play\"><span class=\"blind\">재생</span></i>\\n\\t\\t\\t\\t\\t\\t\\t<span class=\"theme_runtime\"><span class=\"runtime_bg\">재생시간</span><em class=\"time\">02:05</em></span>\\n\\t\\t\\t\\t\\t\\t\\n\\t\\t\\t\\t\\t</div>\\n\\t\\t\\t\\t\\t<div class=\"media_info\">\\n\\t\\t\\t\\t\\t\\t<div class=\"info_box\">\\n\\t\\t\\t\\t\\t\\t\\t\\n\\t\\t\\t\\t\\t\\t\\t<strong class=\"title \">슈퍼맨이 돌아왔다 414회 티저 - 린린자매네 | KBS 방송</strong>\\n\\t\\t\\t\\t\\t\\t\\t<div class=\"source_wrap\">\\n\\t\\t\\t\\t\\t\\t\\t\\t<span class=\"date\">3시간 전</span>\\n                                <span class=\"source\">\\n                                    \\n                                        <span class=\"source_thumb\"><img  data-src=\"https://s.pstatic.net/dthumb.phinf/?src&#x3D;%22https%3A%2F%2Fs.pstatic.net%2Ftvcast.phinf%2F20191119_288%2FUp8BV_15741388387968TTuh_JPEG%2FfFt8XOikQMFi.jpg%22&amp;type&#x3D;navermain_nf40_40\" alt=\"\" width=\"20\" height=\"20\" onerror=\"this.outerHTML=\\'<i class=\\\\\\'pm_source_noimg\\\\\\'><span class=\\\\\\'blind\\\\\\'>이미지준비중</span></i>\\'\"></span>\\n                                    \\n                                    <span class=\"source_inner\">슈퍼맨이 돌아왔다</span>\\n                                </span>\\n\\t\\t\\t\\t\\t\\t\\t</div>\\n\\t\\t\\t\\t\\t\\t</div>\\n\\t\\t\\t\\t\\t</div>\\n\\t\\t\\t\\t</a>\\n\\t\\t\\t\\n\\t\\t</div>\\n\\t</div>\\n</div>\\n\\n\\n\\n\\n\\n\\t<div class=\"btn_more_wrap\">\\n\\t\\t<button type=\"button\" class=\"btn_more\" data-clk-custom=\"tcc_sub.more\" data-next-page=\"2\"><i class=\"ico_more\"></i>새로운 글 더보기</button>\\n\\t</div>\\n\\n\\n<div class=\"NM_THEME_META\" style=\"display: none\" data-panel-code=\"MYFEED-RECOMMEND\" data-parent-code=\"MYFEED\"></div>\\n\\n\\t</div>\\n</div>\\n </div> </div> <div id=\"NM_INT_RIGHT\" class=\"column_right\"> <div class=\"column_fix_wrap\"> <div id=\"da_brand\"></div> \\n\\n\\n\\n\\n<div id=\"account\" class=\"sc_login\">\\n<h2 class=\"blind\">Sign in</h2>\\n<p class=\"login_msg\">Connect with people</p>\\n<a href=\"https://nid.naver.com/nidlogin.login?mode=form&url=https%3A%2F%2Fwww.naver.com\" class=\"link_login\" data-clk=\"log_off.login\"><i class=\"ico_naver\"><span class=\"blind\">NAVER</span></i>Sign in</a>\\n<div class=\"sub_area\">\\n<div class=\"look_box\">\\n<a href=\"https://nid.naver.com/user/help.nhn?todo=idinquiry\" class=\"link_look\" data-clk=\"log_off.searchid\">Forgot Username</a>\\n<a href=\"https://nid.naver.com/nidreminder.form\" class=\"link_look\" data-clk=\"log_off.searchpass\">Password</a>\\n</div>\\n<a href=\"https://nid.naver.com/nidregister.form?url=https%3A%2F%2Fwww.naver.com\" class=\"link_join\" data-clk=\"log_off.registration\">Sign up</a>\\n</div>\\n</div>\\n\\n\\n\\n <div id=\"timesquare\" class=\"sc_timesquare\"> <h2 class=\"blind\">타임스퀘어</h2> <div class=\"card_wrap\">\\n<div class=\"card_nav\">\\n<a href=\"#\" role=\"button\" class=\"btn_nav btn_prev\" data-clk=\"squ.pre\"><span class=\"blind\">이전</span></a>\\n<a href=\"#\" role=\"button\" class=\"btn_nav btn_next\" data-clk=\"squ.next\"><span class=\"blind\">다음</span></a>\\n</div>\\n<div id=\"NM_TS_ROLLING_WRAP\" style=\"height: 100%;\">\\n<div>\\n<a href=\"https://search.naver.com/search.naver?sm=top_hty&amp;fbm=0&amp;ie=utf8&amp;query=%EC%BD%94%EB%A1%9C%EB%82%9819\" class=\"card_news\" data-clk=\"squ.line3\"><i class=\"news_badge\">이슈</i><span class=\"news\">코로나바이러스감염증-19 현황</span></a>\\n</div>\\n<div>\\n<a href=\"https://campaign.naver.com/collect_v2/?target=https%3A%2F%2Fcampaign.naver.com%2Fnaverapp%2Fqrpass&pcode=Naver_loginbottom_1&event_id=qr\" class=\"card_notice\" data-clk=\"squ.covidqrcheckin\"><span class=\"notice\"><i class=\"ico_qrcode\"></i><strong>쉬운 방역패스</strong>를 위한 <strong>바로가기 설치</strong> 안내</span></a>\\n</div>\\n<div>\\n<a href=\"https://finance.naver.com/sise/sise_index.nhn?code=KOSPI\" class=\"card_stock \" data-clk=\"squ.kospi\">\\n<strong class=\"stock_title\">증시</strong>\\n<div class=\"stock_box\">\\n<em class=\"name\">코스피</em>\\n<strong class=\"current\">2,953.29</strong>\\n<span class=\"rate rate_up\">32.76 +1.12%</span>\\n</div>\\n</a>\\n</div>\\n<div>\\n<a href=\"https://finance.naver.com/sise/sise_index.nhn?code=KOSDAQ\" class=\"card_stock \" data-clk=\"squ.kosdaq\">\\n<strong class=\"stock_title\">증시</strong>\\n<div class=\"stock_box\">\\n<em class=\"name\">코스닥</em>\\n<strong class=\"current\">993.46</strong>\\n<span class=\"rate rate_up\">13.16 +1.34%</span>\\n</div>\\n</a>\\n</div>\\n<div>\\n<a href=\"https://finance.naver.com/marketindex/exchangeDetail.nhn?marketindexCd=FX_USDKRW\" class=\"card_stock type_exchange\" data-clk=\"squ.usd\">\\n<strong class=\"stock_title\">환율</strong>\\n<div class=\"stock_box\">\\n<em class=\"name\">USD</em>\\n<strong class=\"current\">1,201.90</strong>\\n<span class=\"rate rate_down\">1.60 -0.13%</span>\\n</div>\\n</a>\\n</div>\\n</div>\\n</div> <!-- EMPTY --> </div> <div id=\"veta_branding\"> <div id=\"veta_branding_inner\" style=\"width:350px;height:200px\"> </div> <span class=\"veta_bd_t\"></span> <span class=\"veta_bd_b\"></span> <span class=\"veta_bd_l\"></span> <span class=\"veta_bd_r\"></span> </div> <div id=\"shopcast\" class=\"sc_shopcast\"> <iframe id=\"shopcast_iframe\" data-iframe-src=\"/shoppingbox/shoppingboxnew/main.nhn?domain=N\" title=\"쇼핑캐스트\" width=\"350\" height=\"1539\" marginheight=\"0\" marginwidth=\"0\" scrolling=\"no\" frameborder=\"0\"></iframe> </div> </div> </div> <a id=\"NM_scroll_top_btn\" href=\"#wrap\" class=\"content_top\"><span class=\"blind\">TOP</span></a> <button id=\"NM_darkmode_btn\" type=\"button\" role=\"button\" class=\"btn_theme\" aria-pressed=\"false\"  > <span class=\"blind\">라이트 모드로 보기</span> </button> </div> <div id=\"footer\" role=\"contentinfo\"> <div class=\"footer_inner\"> <div id=\"NM-FOOTER-AD\" class=\"banner_area\"> <div class=\"da_box_wrap\"> <div id=\"da_public_left\"> </div> <div id=\"da_public_right\"> </div> <div id=\"veta_time2\"> </div> </div> </div> <div class=\"notice_area\" data-clk-prefix=\"ntc\"> <div class=\"notice_box\"> <h3 class=\"title\"><a href=\"https://www.naver.com/NOTICE\">공지사항</a> </h3> <!-- EMPTY --> </div> <a href=\"more.html\" class=\"link_all\" data-clk=\"svcmap\">서비스 전체보기</a> </div> <div class=\"aside_area\"> <div class=\"partner_box_wrap\"> <div class=\"partner_box\" data-clk-prefix=\"crt\"> <h3 class=\"title\">Creators</h3> <a href=\"https://www.navercorp.com/service/creators\" class=\"link_partner\" data-clk=\"creator\">크리에이터</a> <a href=\"https://www.navercorp.com/service/business\" class=\"link_partner\" data-clk=\"smbusiness\">스몰비즈니스</a> </div> <div class=\"partner_box\" data-clk-prefix=\"crt\"> <h3 class=\"title\">Partners</h3> <a href=\"https://campaign.naver.com/smefullcare/online/\" class=\"link_partner\" data-clk=\"sme\">SME 풀케어 시스템</a> <a href=\"https://business.naver.com/service.html\" class=\"link_partner\" data-clk=\"service\">비즈니스 · 광고</a> <a href=\"https://sell.storefarm.naver.com/#/home/about\" class=\"link_partner\" data-clk=\"store\">스토어 개설</a> <a href=\"https://smartplace.naver.com\" class=\"link_partner\" data-clk=\"place\">지역업체 등록</a> <a href=\"https://expert.naver.com/expert/introduction?tab=guide#join\" class=\"link_partner\" data-clk=\"expert\">엑스퍼트 등록</a> </div> <div class=\"partner_box\" data-clk-prefix=\"crt\"> <h3 class=\"title\">Developers</h3> <a href=\"https://developers.naver.com\" class=\"link_partner\" data-clk=\"center\">네이버 개발자 센터</a> <a href=\"https://developers.naver.com/docs/common/openapiguide/#/apilist.md\" class=\"link_partner\" data-clk=\"openapi\">오픈 API</a> <a href=\"https://naver.github.io\" class=\"link_partner\" data-clk=\"opensource\">오픈소스</a> <a href=\"https://d2.naver.com\" class=\"link_partner\" data-clk=\"d2\">네이버 D2</a> <a href=\"http://d2startup.com\" class=\"link_partner\" data-clk=\"naverD2SF\">네이버 D2SF</a> <a href=\"https://www.naverlabs.com\" class=\"link_partner\" data-clk=\"labs\">네이버 랩스</a> </div> </div> <div class=\"service_box_wrap\"> <div class=\"service_box\" data-clk-prefix=\"wbd\"> <a href=\"http://whale.naver.com/\" class=\"service_logo\" data-clk=\"bt\"> <img src=\"data:image/png;base64,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\" alt=\"웨일\" width=\"48\" height=\"48\"> </a> <div class=\"service_info\"> <strong class=\"title\">웨일 브라우저</strong> <a href=\"http://whale.naver.com/\" class=\"dsc\" data-clk=\"bt\">다운받기</a> </div> </div> <div class=\"service_box\" data-clk-prefix=\"prj\"> <a href=\"https://search.naver.com/search.naver?where=nexearch&sm=top_hty&fbm=1&ie=utf8&query=%ED%94%84%EB%A1%9C%EC%A0%9D%ED%8A%B8%EA%BD%83\" class=\"service_logo\" data-clk=\"link\"> <img src=\"data:image/png;base64,iVBORw0KGgoAAAANSUhEUgAAAF4AAABkCAMAAAA47XeXAAAAgVBMVEUAAADN5PdGm99Gm99Gm99Gm99Gm95Gm99Gm99Gm99Gm99Gm99Gm99Gm99Gm99Gm99Gm99Gm99Gm99Gm99Gm99Gm99Gm99Gmt9Gm99Gm99Gm99Gm95Gm99Gm99Gm95Gm99Hm99Gm99Gm9/////3+/5cp+LO5PfR5/fO5fdcp+P7/f/zv5GhAAAAInRSTlMA/v7vH9u5qJNgGwb6l8a9uqF9WFUyLxYMCtbVmLCwe4OCj8gzEgAAA0NJREFUaN7NmmFz4iAQhkkwMTHGWrWtWvWuq8mF+/8/8Ey2nb0OhSwQZnw+MHQ7pbjAy2s2gsuiLPJMLpcyy4tyISZltnmHbxw3MzEVr/MUNNL5q5iCt2ccXCN9fhPB7CQYkTsRRlWDlboSAexzGCHfC28OKxhldfDOzBMwePLNTw0sauHFFphshQcLCUwkaQRfXYBPSkrEUBdv3jezcXXhw1ciUhc+fCUidQlH7qzqEk5d2dQlnHxvU5dwVgdXdSGclaiGyamt6hLO1qIu4ZASzcFE092SBprk1jagulvXAAw/qb5N7m176xQYmOPoLymYaK/X65/PNhlagE6LGUhfRM8FjNzuf/73//bHmInzoJEpjMyeWpp9RzGz/PT6+QvMNO2Q+67PPeYZY5h7jDVg5OM+/BGikd13JfDAj/Ad1WLMyEyUwKPT00ypN1GKAljQJtFiFgqRe86eYhbWIvPPPR5d+9pKiIgUwKNJdHXBvW9jyRye1EWLWYfnJcd141Byspizz7gbUyWDuqiW0v15D9g3ZgF86JwyKUgUHJaATUmS5rsEdkkTZLjZS8Alw+skFr8Nl6H6uosShaKOp3Zo+/jgFTDe+wcSfv0yFGfQaLX7tDO0reXOPRuMCG4Q11Y3IiYblWgzS7R+h31qdRtlGB7zikeUckz+AB3a8FuMqD7Cd2nhUHLOEIkLubQIkEuLxIdwEwUy3HyXxsbgPMJcGuGox+TSIugxuTQ+KHIaAS5N92eIIuMT5tJoPfHy5q9yKoXLelLuKRri0mjMQdhwTPw6Sv8pzKXhFyhNilEwkSCXRrnAnaPnJdyl0UrqXircpeHVglnv+62K4NJo3lFcGmWd79KO7OQoXAE8XNO6tIQGxj7fpfHTwk8RubQLWEGvgTNGKzj01fixunCMCCYcvSSlaFwUyKVx86J3bczpUR3zimq1LqdosAUbJF54ar+uk5Gju436mPTk8ZAXFdO93HRYTesUVgf3B+y0XdxLfdVputmfKp/iBtNjyl3c0kzUwtJIWewIPvAL9LOyWLsV9WAps3VRzh6hJBm3oOqsRKfHLGYzS/GP+iLBuBKdqkd+iWPkFZTHf4Em4us/uhI5qss/6zK5u8+AXpwAAAAASUVORK5CYII=\" alt=\"꽃\" width=\"47\" height=\"50\"> </a> <div class=\"service_info\"> <strong class=\"title\">프로젝트 꽃</strong> <a href=\"https://search.naver.com/search.naver?where=nexearch&sm=top_hty&fbm=1&ie=utf8&query=%ED%94%84%EB%A1%9C%EC%A0%9D%ED%8A%B8%EA%BD%83\" class=\"dsc\" data-clk=\"link\">바로가기</a> </div> </div> </div> </div> <div class=\"corp_area\" data-clk-prefix=\"plc\"> <h3 class=\"blind\">네이버 정책 및 약관</h3> <ul class=\"list_corp\"> <li class=\"corp_item\"><a href=\"https://www.navercorp.com\" data-clk=\"intronhn\">회사소개</a></li> <li class=\"corp_item\"><a href=\"https://recruit.navercorp.com/naver/recruitMain\" data-clk=\"recruit\">인재채용</a></li> <li class=\"corp_item\"><a href=\"https://www.navercorp.com/naver/proposalGuide\" data-clk=\"contact\">제휴제안</a></li> <li class=\"corp_item\"><a href=\"/policy/service.html\" data-clk=\"service\">이용약관</a></li> <li class=\"corp_item\"><a href=\"/policy/privacy.html\" data-clk=\"privacy\"><strong>개인정보처리방침</strong></a></li> <li class=\"corp_item\"><a href=\"/policy/youthpolicy.html\" data-clk=\"youth\">청소년보호정책</a></li> <li class=\"corp_item\"><a href=\"/policy/spamcheck.html\" data-clk=\"policy\">네이버 정책</a></li> <li class=\"corp_item\"><a href=\"https://help.naver.com/\" data-clk=\"helpcenter\">고객센터</a></li> </ul> <address class=\"addr\"><a href=\"https://www.navercorp.com\" target=\"_blank\" data-clk=\"nhn\">ⓒ NAVER Corp.</a></address> </div> </div> </div> </div> <div id=\"adscript\" style=\"display:none\"></div> </body> </html>\\n'"
      ]
     },
     "execution_count": 172,
     "metadata": {},
     "output_type": "execute_result"
    }
   ],
   "source": [
    "#기본 제공하는 다른 모듈 알아보기\n",
    "\n",
    "import requests\n",
    "\n",
    "resp = requests.get(\"https://www.naver.com/\")\n",
    "resp.text"
   ]
  },
  {
   "cell_type": "markdown",
   "id": "016eb616",
   "metadata": {},
   "source": [
    "# **클래스와 객체**\n",
    "\n",
    " 1. 클래스와 오브젝트에 대해 이해한다. \n",
    " 2. 클래스를 정의하고 활용 할 수 있다."
   ]
  },
  {
   "cell_type": "markdown",
   "id": "61103653",
   "metadata": {},
   "source": [
    "## 개념"
   ]
  },
  {
   "cell_type": "markdown",
   "id": "e180afb5",
   "metadata": {},
   "source": [
    "### **class란?**\n",
    " + 실세계의 것을 모델링하여 속성(attribute)와 행위(method)를 갖는 데이터 타입이다.\n",
    " + python에서의 string, int, list, dict.. 모두가 다 클래스로 존재한다.\n",
    " + 예를들어 학생이라는 클래스를 만든다면, 학생을 나타내는 속성과 학생이 행하는 행동을 함께 정의 할 수 있음\n",
    " + 사용하고자하는 데이터(변수)와 데이터를 다루는 연산(함수)를 하나로 캡슐화(encapsulation)하여 클래스로 표현한다.\n"
   ]
  },
  {
   "cell_type": "markdown",
   "id": "46af6806",
   "metadata": {},
   "source": [
    "### **object 란?**\n",
    " - 클래스로 생성되어 구체화된 객체(인스턴스)이다.\n",
    " - 파이썬의 모든 것(int, str, list..etc)은 객체(인스턴스)이다.\n",
    " - 실제로 class가 인스턴스화 되어 메모리에 상주하는 상태를 의미한다.\n",
    " - class가 설계도, object는 실제로 설계도를 기반으로 만든 것을 말한다.\n"
   ]
  },
  {
   "cell_type": "markdown",
   "id": "be41a08c",
   "metadata": {},
   "source": [
    "## 시작하기"
   ]
  },
  {
   "cell_type": "markdown",
   "id": "a34495fc",
   "metadata": {},
   "source": [
    "### **class 선언하기**\n",
    "\n",
    "  - 클래스명 첫단어는 대문자로 해주기!\n",
    "  - 객체를 생성하기 위해선 객체의 설계도가 되는 class를 미리 선언해야 한다."
   ]
  },
  {
   "cell_type": "code",
   "execution_count": null,
   "id": "0233d737",
   "metadata": {},
   "outputs": [],
   "source": [
    "class Pen:\n",
    "    pass"
   ]
  },
  {
   "cell_type": "code",
   "execution_count": 182,
   "id": "69420b33",
   "metadata": {},
   "outputs": [
    {
     "data": {
      "text/plain": [
       "'이것은 펜입니다'"
      ]
     },
     "execution_count": 182,
     "metadata": {},
     "output_type": "execute_result"
    }
   ],
   "source": [
    "# 함수처럼 설명써주기!\n",
    "\n",
    "class Pen:\n",
    "    \"이것은 펜입니다\"\n",
    "    pass\n",
    "\n",
    "Pen.__doc__"
   ]
  },
  {
   "cell_type": "code",
   "execution_count": 184,
   "id": "04990258",
   "metadata": {},
   "outputs": [
    {
     "data": {
      "text/plain": [
       "\"str(object='') -> str\\nstr(bytes_or_buffer[, encoding[, errors]]) -> str\\n\\nCreate a new string object from the given object. If encoding or\\nerrors is specified, then the object must expose a data buffer\\nthat will be decoded using the given encoding and error handler.\\nOtherwise, returns the result of object.__str__() (if defined)\\nor repr(object).\\nencoding defaults to sys.getdefaultencoding().\\nerrors defaults to 'strict'.\""
      ]
     },
     "execution_count": 184,
     "metadata": {},
     "output_type": "execute_result"
    }
   ],
   "source": [
    "str.__doc__"
   ]
  },
  {
   "cell_type": "code",
   "execution_count": 196,
   "id": "b971a294",
   "metadata": {},
   "outputs": [],
   "source": [
    "class Pen:\n",
    "    color = \"검정\"\n",
    "    \n",
    "    def write(self):\n",
    "        print(self.color,\"색으로 씁니다.\")"
   ]
  },
  {
   "cell_type": "code",
   "execution_count": 197,
   "id": "2e852619",
   "metadata": {},
   "outputs": [],
   "source": [
    "black_pen = Pen()"
   ]
  },
  {
   "cell_type": "code",
   "execution_count": 198,
   "id": "86ab2c09",
   "metadata": {},
   "outputs": [
    {
     "name": "stdout",
     "output_type": "stream",
     "text": [
      "검정 색으로 씁니다.\n"
     ]
    }
   ],
   "source": [
    "black_pen.color\n",
    "black_pen.write()"
   ]
  },
  {
   "cell_type": "markdown",
   "id": "b796f60e",
   "metadata": {},
   "source": [
    "### \\_\\_init__(self) 생성자 함수\n",
    " + 생성자, 클래스 인스턴스가 생성될 때 호출된다. \n",
    " + self인자는 항상 첫번째에 오며 자기 자신을 가리키다.\n",
    " + 이름이 꼭 self일 필요는 없지만, 관례적으로 self로 사용한다.\n",
    " \n",
    " + 생성자에서는 해당 클래스가 다루는 데이터를 정의한다.\n",
    "   - 이 데이터를 멤버 변수(member variable) 또는 속성(attribute)라고 함"
   ]
  },
  {
   "cell_type": "code",
   "execution_count": 201,
   "id": "8fb320bc",
   "metadata": {},
   "outputs": [],
   "source": [
    "class Pen:\n",
    "    \n",
    "    def __init__(self):\n",
    "        print(\"Pen 생성자 호출!!\")"
   ]
  },
  {
   "cell_type": "code",
   "execution_count": 205,
   "id": "593ef1c9",
   "metadata": {},
   "outputs": [
    {
     "name": "stdout",
     "output_type": "stream",
     "text": [
      "Pen 생성자 호출!!\n",
      "Pen 생성자 호출!!\n",
      "Pen 생성자 호출!!\n"
     ]
    }
   ],
   "source": [
    "# 생성자라는 __init__ 함수를 쓸 필요없이 실행이 된다\n",
    "\n",
    "p = Pen()\n",
    "p1 = Pen()\n",
    "p2 = Pen() "
   ]
  },
  {
   "cell_type": "code",
   "execution_count": 209,
   "id": "bf11d25b",
   "metadata": {},
   "outputs": [],
   "source": [
    "class Pen:\n",
    "    \n",
    "    def __init__(self,color):\n",
    "        print(\"Pen 생성자 호출!!\")\n",
    "        self.color = color\n",
    "        \n",
    "    def write(self):\n",
    "        print(self.color,\"색으로 씁니다.\")"
   ]
  },
  {
   "cell_type": "code",
   "execution_count": 210,
   "id": "78f72b42",
   "metadata": {},
   "outputs": [
    {
     "ename": "TypeError",
     "evalue": "__init__() missing 1 required positional argument: 'color'",
     "output_type": "error",
     "traceback": [
      "\u001b[1;31m---------------------------------------------------------------------------\u001b[0m",
      "\u001b[1;31mTypeError\u001b[0m                                 Traceback (most recent call last)",
      "\u001b[1;32m~\\AppData\\Local\\Temp/ipykernel_936/1552324935.py\u001b[0m in \u001b[0;36m<module>\u001b[1;34m\u001b[0m\n\u001b[1;32m----> 1\u001b[1;33m \u001b[0merr_p\u001b[0m \u001b[1;33m=\u001b[0m \u001b[0mPen\u001b[0m\u001b[1;33m(\u001b[0m\u001b[1;33m)\u001b[0m \u001b[1;31m# 값을 주지 않아서 오류가 발생됨.\u001b[0m\u001b[1;33m\u001b[0m\u001b[1;33m\u001b[0m\u001b[0m\n\u001b[0m",
      "\u001b[1;31mTypeError\u001b[0m: __init__() missing 1 required positional argument: 'color'"
     ]
    }
   ],
   "source": [
    "err_p = Pen() # 값을 주지 않아서 오류가 발생됨."
   ]
  },
  {
   "cell_type": "code",
   "execution_count": 212,
   "id": "457afb3d",
   "metadata": {},
   "outputs": [
    {
     "name": "stdout",
     "output_type": "stream",
     "text": [
      "Pen 생성자 호출!!\n",
      "핑꾸 색으로 씁니다.\n"
     ]
    }
   ],
   "source": [
    "p = Pen(\"핑꾸\")\n",
    "p.write()"
   ]
  },
  {
   "cell_type": "code",
   "execution_count": 220,
   "id": "3e051f3c",
   "metadata": {},
   "outputs": [],
   "source": [
    "# Person 클래스 name 객체, say함수 name을 말하라\n",
    "\n",
    "\n",
    "class Person:\n",
    "    \n",
    "    def __init__(self, name):\n",
    "        self.name = name\n",
    "        \n",
    "    def say(self):\n",
    "        print(self.name,\"(이)가 태어났습니다! 응애👶\")"
   ]
  },
  {
   "cell_type": "code",
   "execution_count": 221,
   "id": "cbec07e4",
   "metadata": {},
   "outputs": [
    {
     "name": "stdout",
     "output_type": "stream",
     "text": [
      "또방 (이)가 태어났습니다! 응애👶\n"
     ]
    }
   ],
   "source": [
    "a = Person(\"또방\")\n",
    "a.say()"
   ]
  },
  {
   "cell_type": "code",
   "execution_count": 222,
   "id": "53f39968",
   "metadata": {},
   "outputs": [
    {
     "name": "stdout",
     "output_type": "stream",
     "text": [
      "꾸꾸 (이)가 태어났습니다! 응애👶\n"
     ]
    }
   ],
   "source": [
    "b = Person(\"꾸꾸\")\n",
    "b.say()"
   ]
  },
  {
   "cell_type": "markdown",
   "id": "d3e9fcd4",
   "metadata": {},
   "source": [
    "### **self**\n",
    " - 파이썬의 method는 항상 첫번째 인자로 self를 전달한다.\n",
    " - self는 현재 해당 메쏘드가 호출되는 객체 자신을 가리킨다.\n",
    " - 반드시 이름이 self일 필요는 없으나 관례적으로 self를 사용한다.\n",
    " - 위치는 항상 맨 첫번째 parameter이다.  "
   ]
  },
  {
   "cell_type": "code",
   "execution_count": 233,
   "id": "77e81d0b",
   "metadata": {},
   "outputs": [],
   "source": [
    "class Person:\n",
    "    \n",
    "    def __init__(self, name, age=0):\n",
    "        self.name = name\n",
    "        self.age = age\n",
    "        \n",
    "        \n",
    "    def say(self):\n",
    "        return (self.name,\"(이)가 태어났습니다! 응애👶\")\n",
    "    "
   ]
  },
  {
   "cell_type": "code",
   "execution_count": 235,
   "id": "f1dbd14e",
   "metadata": {},
   "outputs": [
    {
     "name": "stdout",
     "output_type": "stream",
     "text": [
      "('리꾸', '(이)가 태어났습니다! 응애👶')\n",
      "리꾸 0\n",
      "<class '__main__.Person'>\n"
     ]
    }
   ],
   "source": [
    "a = Person(\"리꾸\")\n",
    "print(a.say())\n",
    "print(a.name, a.age)\n",
    "print(type(a))"
   ]
  },
  {
   "cell_type": "code",
   "execution_count": 1,
   "id": "30d5aaf2",
   "metadata": {},
   "outputs": [],
   "source": [
    "#차의 이름과 속도 정보를 알려주는 info 라는 메소드를 정의해 보세요. \n",
    "#차가 인스턴스화 될때 이름과, 속도를 정할 수 있도록 생성자도 수정해 보세요. \n"
   ]
  },
  {
   "cell_type": "code",
   "execution_count": 255,
   "id": "109627d9",
   "metadata": {},
   "outputs": [],
   "source": [
    "class Car:\n",
    "    \n",
    "    def __init__(self):\n",
    "        self.name = \"None\"\n",
    "        self.speed = 0\n",
    "        \n",
    "    def info(self):\n",
    "        print( \"차 이름은 {} 이고, 차 속도는 {} km/h 입니다.\".format( self.name, self.speed ) )"
   ]
  },
  {
   "cell_type": "code",
   "execution_count": 257,
   "id": "2ed4363a",
   "metadata": {},
   "outputs": [
    {
     "name": "stdout",
     "output_type": "stream",
     "text": [
      "차 이름은 None 이고, 차 속도는 0 km/h 입니다.\n"
     ]
    }
   ],
   "source": [
    "c = Car()\n",
    "c.info()"
   ]
  },
  {
   "cell_type": "code",
   "execution_count": 260,
   "id": "80072e5f",
   "metadata": {},
   "outputs": [],
   "source": [
    "#동일한 식으로\n",
    "class Car:\n",
    "    \n",
    "    def __init__(self, name=\"테슬라\", speed=150):\n",
    "        self.name = name\n",
    "        self.speed = speed\n",
    "        \n",
    "    def info(self):\n",
    "        print( \"차 이름은 {} 이고, 차 속도는 {} km/h 입니다.\".format( self.name, self.speed ) )"
   ]
  },
  {
   "cell_type": "code",
   "execution_count": 261,
   "id": "7682ceae",
   "metadata": {},
   "outputs": [
    {
     "name": "stdout",
     "output_type": "stream",
     "text": [
      "차 이름은 테슬라 이고, 차 속도는 150 km/h 입니다.\n"
     ]
    }
   ],
   "source": [
    "c = Car()\n",
    "c.info()"
   ]
  },
  {
   "cell_type": "markdown",
   "id": "933e461f",
   "metadata": {},
   "source": [
    "### **mehtod 정의**\n",
    " + 파이썬에서는 메서드의 첫번째 매개변수 이름은 관례적으로 self를 사용한다. \n",
    " + obj.method() 형태로 호출된다."
   ]
  },
  {
   "cell_type": "code",
   "execution_count": 30,
   "id": "de09d722",
   "metadata": {},
   "outputs": [
    {
     "name": "stdout",
     "output_type": "stream",
     "text": [
      "num은 : 0\n",
      "num은 : 2\n"
     ]
    }
   ],
   "source": [
    "#Counter 라는 클래스를 정의하세요.  \n",
    "#멤버변수로 num 을 갖고 있고.   \n",
    "#num을 1씩 증가시키는 메소드, \n",
    "#num을 1씩 감소시키는 메소드, \n",
    "#num을 초기화(0)하는 메소드 \n",
    "#num의 현재 값을 알려주는 메소드를 정의하세요. \n",
    "\n"
   ]
  },
  {
   "cell_type": "code",
   "execution_count": 1,
   "id": "db496a95",
   "metadata": {},
   "outputs": [],
   "source": [
    "class Counter:\n",
    "    \n",
    "    def __init__(self):\n",
    "        self.num = 10\n",
    "    \n",
    "    def up_one(self):\n",
    "        self.num += 1\n",
    "        \n",
    "    def down_one(self):\n",
    "        self.num -= 1\n",
    "        \n",
    "    def zero_reset(self):\n",
    "        self.num = 0\n",
    "        \n",
    "    def value_info(self):\n",
    "        print(\"현재 값은 {}입니다!!!\".format(self.num))\n",
    "        "
   ]
  },
  {
   "cell_type": "code",
   "execution_count": 2,
   "id": "32cfe5f2",
   "metadata": {},
   "outputs": [
    {
     "name": "stdout",
     "output_type": "stream",
     "text": [
      "현재 값은 0입니다!!!\n"
     ]
    }
   ],
   "source": [
    "now=Counter()\n",
    "\n",
    "now.up_one()\n",
    "now.down_one()\n",
    "now.zero_reset()\n",
    "now.value_info()"
   ]
  },
  {
   "cell_type": "code",
   "execution_count": 274,
   "id": "4327a34c",
   "metadata": {},
   "outputs": [
    {
     "data": {
      "text/plain": [
       "'코딩도장'"
      ]
     },
     "execution_count": 274,
     "metadata": {},
     "output_type": "execute_result"
    }
   ],
   "source": [
    "class Book:\n",
    "    pass\n",
    "\n",
    "python = Book()\n",
    "python.name = \"코딩도장\"\n",
    "python.name"
   ]
  },
  {
   "cell_type": "code",
   "execution_count": 275,
   "id": "561bfd48",
   "metadata": {},
   "outputs": [
    {
     "ename": "NameError",
     "evalue": "name 'name' is not defined",
     "output_type": "error",
     "traceback": [
      "\u001b[1;31m---------------------------------------------------------------------------\u001b[0m",
      "\u001b[1;31mNameError\u001b[0m                                 Traceback (most recent call last)",
      "\u001b[1;32m~\\AppData\\Local\\Temp/ipykernel_936/2744581028.py\u001b[0m in \u001b[0;36m<module>\u001b[1;34m\u001b[0m\n\u001b[0;32m      1\u001b[0m \u001b[0mjava\u001b[0m \u001b[1;33m=\u001b[0m \u001b[0mBook\u001b[0m\u001b[1;33m(\u001b[0m\u001b[1;33m)\u001b[0m\u001b[1;33m\u001b[0m\u001b[1;33m\u001b[0m\u001b[0m\n\u001b[0;32m      2\u001b[0m \u001b[1;33m\u001b[0m\u001b[0m\n\u001b[1;32m----> 3\u001b[1;33m \u001b[0mprint\u001b[0m\u001b[1;33m(\u001b[0m\u001b[0mjava\u001b[0m\u001b[1;33m,\u001b[0m\u001b[0mname\u001b[0m\u001b[1;33m)\u001b[0m\u001b[1;33m\u001b[0m\u001b[1;33m\u001b[0m\u001b[0m\n\u001b[0m",
      "\u001b[1;31mNameError\u001b[0m: name 'name' is not defined"
     ]
    }
   ],
   "source": [
    "java = Book()\n",
    "\n",
    "print(java,name) #오류가 생김...."
   ]
  },
  {
   "cell_type": "code",
   "execution_count": null,
   "id": "9a459e71",
   "metadata": {},
   "outputs": [],
   "source": []
  },
  {
   "cell_type": "code",
   "execution_count": null,
   "id": "779c9d62",
   "metadata": {},
   "outputs": [],
   "source": []
  },
  {
   "cell_type": "markdown",
   "id": "7d4bd175",
   "metadata": {},
   "source": [
    "### **비공개속성**\n"
   ]
  },
  {
   "cell_type": "code",
   "execution_count": 9,
   "id": "5b5835f7",
   "metadata": {},
   "outputs": [],
   "source": [
    "class Person:\n",
    "    \n",
    "    def __init__(self,name,age):\n",
    "        self.__name =name\n",
    "        self.age = age\n",
    "        \n",
    "lim = Person(\"sona\",32)"
   ]
  },
  {
   "cell_type": "code",
   "execution_count": 7,
   "id": "3bf793fb",
   "metadata": {},
   "outputs": [
    {
     "ename": "AttributeError",
     "evalue": "'Person' object has no attribute '__name'",
     "output_type": "error",
     "traceback": [
      "\u001b[1;31m---------------------------------------------------------------------------\u001b[0m",
      "\u001b[1;31mAttributeError\u001b[0m                            Traceback (most recent call last)",
      "\u001b[1;32m~\\AppData\\Local\\Temp/ipykernel_2916/360562998.py\u001b[0m in \u001b[0;36m<module>\u001b[1;34m\u001b[0m\n\u001b[1;32m----> 1\u001b[1;33m \u001b[0mprint\u001b[0m\u001b[1;33m(\u001b[0m\u001b[0mlim\u001b[0m\u001b[1;33m.\u001b[0m\u001b[0m__name\u001b[0m\u001b[1;33m)\u001b[0m    \u001b[1;31m# 비공개로 못쓰게 함\u001b[0m\u001b[1;33m\u001b[0m\u001b[1;33m\u001b[0m\u001b[0m\n\u001b[0m",
      "\u001b[1;31mAttributeError\u001b[0m: 'Person' object has no attribute '__name'"
     ]
    }
   ],
   "source": [
    "print(lim.__name)    # 비공개로 못쓰게 함 -> 오류 발생"
   ]
  },
  {
   "cell_type": "code",
   "execution_count": 6,
   "id": "90432e1a",
   "metadata": {},
   "outputs": [
    {
     "name": "stdout",
     "output_type": "stream",
     "text": [
      "32\n"
     ]
    }
   ],
   "source": [
    "print(lim.age)"
   ]
  },
  {
   "cell_type": "code",
   "execution_count": 103,
   "id": "58cc1b0b",
   "metadata": {},
   "outputs": [],
   "source": [
    "#그러나 접근할 수 있는 방법은\n",
    "\n",
    "class Person:\n",
    "    \n",
    "    def __init__(self,name,age):\n",
    "        self.__name =name\n",
    "        self.age = age\n",
    "        \n",
    "    def getName(self):\n",
    "        return self.__name\n",
    "    \n",
    "    def setName(self, name):    \n",
    "        if name == \"또또\":\n",
    "            print(\"안바꿀래!\")           \n",
    "        else:\n",
    "            self.__name = name"
   ]
  },
  {
   "cell_type": "code",
   "execution_count": 104,
   "id": "79baa9bf",
   "metadata": {},
   "outputs": [],
   "source": [
    "lim = Person(\"sona\",32)"
   ]
  },
  {
   "cell_type": "code",
   "execution_count": 105,
   "id": "c35e556b",
   "metadata": {},
   "outputs": [
    {
     "name": "stdout",
     "output_type": "stream",
     "text": [
      "sona\n"
     ]
    }
   ],
   "source": [
    "print(lim.getName())"
   ]
  },
  {
   "cell_type": "code",
   "execution_count": 106,
   "id": "d7f94153",
   "metadata": {},
   "outputs": [
    {
     "ename": "TypeError",
     "evalue": "setName() missing 1 required positional argument: 'name'",
     "output_type": "error",
     "traceback": [
      "\u001b[1;31m---------------------------------------------------------------------------\u001b[0m",
      "\u001b[1;31mTypeError\u001b[0m                                 Traceback (most recent call last)",
      "\u001b[1;32m~\\AppData\\Local\\Temp/ipykernel_2916/557811427.py\u001b[0m in \u001b[0;36m<module>\u001b[1;34m\u001b[0m\n\u001b[1;32m----> 1\u001b[1;33m \u001b[0mprint\u001b[0m\u001b[1;33m(\u001b[0m\u001b[0mlim\u001b[0m\u001b[1;33m.\u001b[0m\u001b[0msetName\u001b[0m\u001b[1;33m(\u001b[0m\u001b[1;33m)\u001b[0m\u001b[1;33m)\u001b[0m\u001b[1;33m\u001b[0m\u001b[1;33m\u001b[0m\u001b[0m\n\u001b[0m",
      "\u001b[1;31mTypeError\u001b[0m: setName() missing 1 required positional argument: 'name'"
     ]
    }
   ],
   "source": [
    "print(lim.setName())"
   ]
  },
  {
   "cell_type": "code",
   "execution_count": 107,
   "id": "1166eeb8",
   "metadata": {},
   "outputs": [],
   "source": [
    "lim2 = Person(\"또또\",32)"
   ]
  },
  {
   "cell_type": "code",
   "execution_count": 108,
   "id": "994f4916",
   "metadata": {},
   "outputs": [
    {
     "ename": "TypeError",
     "evalue": "setName() missing 1 required positional argument: 'name'",
     "output_type": "error",
     "traceback": [
      "\u001b[1;31m---------------------------------------------------------------------------\u001b[0m",
      "\u001b[1;31mTypeError\u001b[0m                                 Traceback (most recent call last)",
      "\u001b[1;32m~\\AppData\\Local\\Temp/ipykernel_2916/557811427.py\u001b[0m in \u001b[0;36m<module>\u001b[1;34m\u001b[0m\n\u001b[1;32m----> 1\u001b[1;33m \u001b[0mprint\u001b[0m\u001b[1;33m(\u001b[0m\u001b[0mlim\u001b[0m\u001b[1;33m.\u001b[0m\u001b[0msetName\u001b[0m\u001b[1;33m(\u001b[0m\u001b[1;33m)\u001b[0m\u001b[1;33m)\u001b[0m\u001b[1;33m\u001b[0m\u001b[1;33m\u001b[0m\u001b[0m\n\u001b[0m",
      "\u001b[1;31mTypeError\u001b[0m: setName() missing 1 required positional argument: 'name'"
     ]
    }
   ],
   "source": [
    "print(lim.setName())"
   ]
  },
  {
   "cell_type": "markdown",
   "id": "9d74c3b2",
   "metadata": {},
   "source": [
    "### **클래스 속성 VS 인스턴스 속성**"
   ]
  },
  {
   "cell_type": "markdown",
   "id": "6b522a3e",
   "metadata": {},
   "source": [
    "#### 클래스 속성\n",
    "\n",
    "* 클래스명이 동일하게 설정한 아이들과 공유되어버린다!!!"
   ]
  },
  {
   "cell_type": "code",
   "execution_count": 80,
   "id": "9a020280",
   "metadata": {},
   "outputs": [],
   "source": [
    "class Person:\n",
    "    \n",
    "    bag =[ ]\n",
    "    \n",
    "    def put_bag(self,items):\n",
    "        self.bag.append(items)"
   ]
  },
  {
   "cell_type": "code",
   "execution_count": 81,
   "id": "5c663d6c",
   "metadata": {},
   "outputs": [],
   "source": [
    "또방 = Person()\n",
    "또방.put_bag(\"젤리\")\n",
    "\n",
    "꾸꾸 = Person()\n",
    "꾸꾸.put_bag(\"탄산수\")"
   ]
  },
  {
   "cell_type": "code",
   "execution_count": 82,
   "id": "1bc8be2f",
   "metadata": {},
   "outputs": [
    {
     "name": "stdout",
     "output_type": "stream",
     "text": [
      "['젤리', '탄산수']\n",
      "['젤리', '탄산수']\n"
     ]
    }
   ],
   "source": [
    "print(또방.bag)\n",
    "print(꾸꾸.bag)"
   ]
  },
  {
   "cell_type": "markdown",
   "id": "79a085b2",
   "metadata": {},
   "source": [
    "#### 인스턴스 속성\n",
    "* 클랙스명이 동일하더라도 분리되어 실행된다!"
   ]
  },
  {
   "cell_type": "code",
   "execution_count": 84,
   "id": "68d0afd5",
   "metadata": {},
   "outputs": [],
   "source": [
    "class Person:\n",
    "    \n",
    "    def __init__(self):\n",
    "        self.bag= [ ]\n",
    "    \n",
    "    def put_bag(self,items):\n",
    "        self.bag.append(items)"
   ]
  },
  {
   "cell_type": "code",
   "execution_count": 85,
   "id": "e212a0ec",
   "metadata": {},
   "outputs": [],
   "source": [
    "또방 = Person()\n",
    "또방.put_bag(\"젤리\")\n",
    "\n",
    "꾸꾸 = Person()\n",
    "꾸꾸.put_bag(\"탄산수\")"
   ]
  },
  {
   "cell_type": "code",
   "execution_count": 86,
   "id": "fa6ab6e3",
   "metadata": {},
   "outputs": [
    {
     "name": "stdout",
     "output_type": "stream",
     "text": [
      "['젤리']\n",
      "['탄산수']\n"
     ]
    }
   ],
   "source": [
    "print(또방.bag)\n",
    "print(꾸꾸.bag)"
   ]
  },
  {
   "cell_type": "markdown",
   "id": "5106f659",
   "metadata": {},
   "source": [
    "### **method type**"
   ]
  },
  {
   "cell_type": "code",
   "execution_count": 114,
   "id": "33501bc4",
   "metadata": {},
   "outputs": [],
   "source": [
    "class Cal:\n",
    "    def add(self,a,b):\n",
    "        return a+b\n",
    "    \n",
    "    def minus(self,a,b):\n",
    "        return a-b"
   ]
  },
  {
   "cell_type": "code",
   "execution_count": 115,
   "id": "263cb5b9",
   "metadata": {},
   "outputs": [
    {
     "data": {
      "text/plain": [
       "6"
      ]
     },
     "execution_count": 115,
     "metadata": {},
     "output_type": "execute_result"
    }
   ],
   "source": [
    "c= Cal()\n",
    "c.add(2,4)"
   ]
  },
  {
   "cell_type": "markdown",
   "id": "9a1580fc",
   "metadata": {},
   "source": [
    "#### instance method(정적메서드) - 객체로 호출된다. \n",
    "   - 메서드는 객체가 생성될때 만들어진다.  \n",
    "   * 인스터스 필요없이(객체 생성 필요없이) 바로 접근하여 실행만해도 되는 경우 **`@staticmethod`**를 삽입하여 간단하게 사용해준다.\n",
    "\n",
    "\n",
    "**`@staticmethod`**로 바로 접근 한 경우에는 생성자 없이 바로 접근했기에, 생성자에서의 변수들을 사용불가하다"
   ]
  },
  {
   "cell_type": "code",
   "execution_count": 116,
   "id": "210e4b40",
   "metadata": {},
   "outputs": [],
   "source": [
    "class Cal2:\n",
    "    \n",
    "    @staticmethod\n",
    "    def add(a,b):\n",
    "        return a+b\n",
    "    \n",
    "    def minus(self,a,b):\n",
    "        print(self.name)\n",
    "        return a-b"
   ]
  },
  {
   "cell_type": "code",
   "execution_count": 117,
   "id": "fc699e14",
   "metadata": {
    "scrolled": true
   },
   "outputs": [
    {
     "data": {
      "text/plain": [
       "5"
      ]
     },
     "execution_count": 117,
     "metadata": {},
     "output_type": "execute_result"
    }
   ],
   "source": [
    "Cal2.add(2,3)  \n",
    "\n",
    "\n",
    "# 이경우에는 name을 쓰지 못한다. 생성자 없이 클래스에서 바로 들어갔으니까"
   ]
  },
  {
   "cell_type": "code",
   "execution_count": 118,
   "id": "39fee582",
   "metadata": {
    "scrolled": true
   },
   "outputs": [
    {
     "ename": "TypeError",
     "evalue": "minus() missing 2 required positional arguments: 'a' and 'b'",
     "output_type": "error",
     "traceback": [
      "\u001b[1;31m---------------------------------------------------------------------------\u001b[0m",
      "\u001b[1;31mTypeError\u001b[0m                                 Traceback (most recent call last)",
      "\u001b[1;32m~\\AppData\\Local\\Temp/ipykernel_2916/4294003973.py\u001b[0m in \u001b[0;36m<module>\u001b[1;34m\u001b[0m\n\u001b[1;32m----> 1\u001b[1;33m \u001b[0mCal2\u001b[0m\u001b[1;33m.\u001b[0m\u001b[0mminus\u001b[0m\u001b[1;33m(\u001b[0m\u001b[1;36m5\u001b[0m\u001b[1;33m-\u001b[0m\u001b[1;36m3\u001b[0m\u001b[1;33m)\u001b[0m\u001b[1;33m\u001b[0m\u001b[1;33m\u001b[0m\u001b[0m\n\u001b[0m",
      "\u001b[1;31mTypeError\u001b[0m: minus() missing 2 required positional arguments: 'a' and 'b'"
     ]
    }
   ],
   "source": [
    "Cal2.minus(5-3)  #이경우에는 @staticmethod가 없어서 바로 사용불가!!"
   ]
  },
  {
   "cell_type": "markdown",
   "id": "365b21dc",
   "metadata": {},
   "source": [
    "#### class method(static method) - class로 호출\n",
    "- 클래스 메서드의 경우 객체가 생성되기 전에 미리 생성됨으로 객체를 통해 호출하지 않는다.\n",
    "- **`@classmethod`**"
   ]
  },
  {
   "cell_type": "code",
   "execution_count": null,
   "id": "393d8fee",
   "metadata": {},
   "outputs": [],
   "source": [
    "class Cal3:\n",
    "    \n",
    "    name=\"sona\"\n",
    "    \n",
    "    def __init__(self,name):\n",
    "        self.name = name\n",
    "    \n",
    "    def minus(self,a,b):\n",
    "        print(self.name)\n",
    "        return a-b\n",
    "    \n",
    "    @staticmethod\n",
    "    def add(a,b):\n",
    "        return a+b\n",
    "    \n",
    "    @classmethod\n",
    "    def mul(cls,a,b):\n",
    "        print(\"mul\",cls.name)\n",
    "        return a*b"
   ]
  },
  {
   "cell_type": "code",
   "execution_count": null,
   "id": "a6036dc2",
   "metadata": {},
   "outputs": [],
   "source": []
  }
 ],
 "metadata": {
  "kernelspec": {
   "display_name": "Python 3 (ipykernel)",
   "language": "python",
   "name": "python3"
  },
  "language_info": {
   "codemirror_mode": {
    "name": "ipython",
    "version": 3
   },
   "file_extension": ".py",
   "mimetype": "text/x-python",
   "name": "python",
   "nbconvert_exporter": "python",
   "pygments_lexer": "ipython3",
   "version": "3.9.7"
  },
  "toc": {
   "base_numbering": 1,
   "nav_menu": {},
   "number_sections": true,
   "sideBar": true,
   "skip_h1_title": false,
   "title_cell": "Table of Contents",
   "title_sidebar": "Contents",
   "toc_cell": false,
   "toc_position": {
    "height": "calc(100% - 180px)",
    "left": "10px",
    "top": "150px",
    "width": "384px"
   },
   "toc_section_display": true,
   "toc_window_display": true
  }
 },
 "nbformat": 4,
 "nbformat_minor": 5
}
