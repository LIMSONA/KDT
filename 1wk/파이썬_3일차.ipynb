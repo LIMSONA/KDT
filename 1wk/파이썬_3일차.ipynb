{
 "cells": [
  {
   "cell_type": "markdown",
   "id": "297375c0",
   "metadata": {},
   "source": [
    "# 수업에 들어가기 전에"
   ]
  },
  {
   "cell_type": "markdown",
   "id": "4bdb3f62",
   "metadata": {},
   "source": [
    "* 공부한 내용에 대해서 기술면접을 보기때문에, 구술로 배운 것을 표현하는 연습을 해보자! ex)리스트란? 튜플이란?"
   ]
  },
  {
   "cell_type": "markdown",
   "id": "ed0e4ba2",
   "metadata": {},
   "source": [
    "# **dictionary**"
   ]
  },
  {
   "cell_type": "markdown",
   "id": "a85358dc",
   "metadata": {},
   "source": [
    " + 키와 값을 갖는 데이터 구조이다.\n",
    " + 키는 내부적으로 hash값으로 저장된다.\n",
    " + 순서가 없다. 그러므로 인덱스가 존재하지 않는다. \n",
    " \n",
    " - Key와 Value의 쌍 여러 개가 { }로 둘러싸여 있다. \n",
    " - 각각의 요소는 Key : Value 형태로 이루어져 있고 쉼표(,)로 구분되어 있다.\n",
    " \n",
    " ```\n",
    " dict = {} \n",
    " dic22 = {key1:value1, key2:value2,....} \n",
    " ```\n",
    " "
   ]
  },
  {
   "cell_type": "markdown",
   "id": "518a5e69",
   "metadata": {},
   "source": [
    "* json 형식: '키 : 값' 형식\n",
    "\n",
    "* xml 형식: < >로 앞뒤 넣어서 구분\n",
    "\n",
    "<img src=\"//t1.daumcdn.net/thumb/R1280x0/?fname=http://t1.daumcdn.net/brunch/service/user/1grC/image/rEPz4jys5oihbAALUCSFq8fEwy4.PNG\" data-filename=\"캡처.PNG\">"
   ]
  },
  {
   "cell_type": "markdown",
   "id": "a511d385",
   "metadata": {},
   "source": [
    "## 딕셔너리 만들기"
   ]
  },
  {
   "cell_type": "code",
   "execution_count": null,
   "id": "225da174",
   "metadata": {},
   "outputs": [],
   "source": []
  },
  {
   "cell_type": "code",
   "execution_count": 3,
   "id": "353e6023",
   "metadata": {},
   "outputs": [
    {
     "data": {
      "text/plain": [
       "dict"
      ]
     },
     "execution_count": 3,
     "metadata": {},
     "output_type": "execute_result"
    }
   ],
   "source": [
    "d = {}\n",
    "type(d)"
   ]
  },
  {
   "cell_type": "code",
   "execution_count": 7,
   "id": "c6753a0b",
   "metadata": {},
   "outputs": [
    {
     "data": {
      "text/plain": [
       "dict"
      ]
     },
     "execution_count": 7,
     "metadata": {},
     "output_type": "execute_result"
    }
   ],
   "source": [
    "student={\"이름\":\"임소나\", \"주소\":\"경기도 수원시\",\"전화번호\":\"123-4567\"}\n",
    "type(student)"
   ]
  },
  {
   "cell_type": "code",
   "execution_count": 8,
   "id": "97a80059",
   "metadata": {},
   "outputs": [],
   "source": [
    "import pandas as pd"
   ]
  },
  {
   "cell_type": "code",
   "execution_count": 23,
   "id": "434019b8",
   "metadata": {},
   "outputs": [
    {
     "data": {
      "text/plain": [
       "이름           임소나\n",
       "주소       경기도 수원시\n",
       "전화번호    123-4567\n",
       "dtype: object"
      ]
     },
     "execution_count": 23,
     "metadata": {},
     "output_type": "execute_result"
    }
   ],
   "source": [
    "st_pd=pd.Series(data=student)\n",
    "st_pd"
   ]
  },
  {
   "cell_type": "code",
   "execution_count": 19,
   "id": "a5590669",
   "metadata": {},
   "outputs": [
    {
     "data": {
      "text/plain": [
       "'임소나'"
      ]
     },
     "execution_count": 19,
     "metadata": {},
     "output_type": "execute_result"
    }
   ],
   "source": [
    "student[\"이름\"]"
   ]
  },
  {
   "cell_type": "code",
   "execution_count": 24,
   "id": "4e744945",
   "metadata": {},
   "outputs": [
    {
     "data": {
      "text/plain": [
       "이름        임소나\n",
       "주소    경기도 수원시\n",
       "dtype: object"
      ]
     },
     "execution_count": 24,
     "metadata": {},
     "output_type": "execute_result"
    }
   ],
   "source": [
    "st_pd[[\"이름\",\"주소\"]]"
   ]
  },
  {
   "cell_type": "code",
   "execution_count": 15,
   "id": "155e48e1",
   "metadata": {},
   "outputs": [],
   "source": [
    "d = {\"a\" :[1,2,3], \"b\":[4,5,6], \"c\":[7,8,9]}"
   ]
  },
  {
   "cell_type": "code",
   "execution_count": 16,
   "id": "fe6d4c08",
   "metadata": {},
   "outputs": [
    {
     "data": {
      "text/plain": [
       "[1, 2, 3]"
      ]
     },
     "execution_count": 16,
     "metadata": {},
     "output_type": "execute_result"
    }
   ],
   "source": [
    "d[\"a\"]"
   ]
  },
  {
   "cell_type": "code",
   "execution_count": 26,
   "id": "f1353b96",
   "metadata": {},
   "outputs": [
    {
     "name": "stdout",
     "output_type": "stream",
     "text": [
      "{1: 'a', 2: 'b', 3: 'c'}\n"
     ]
    }
   ],
   "source": [
    "a=dict(zip([1,2,3],[\"a\",\"b\",\"c\"]))\n",
    "print(a)"
   ]
  },
  {
   "cell_type": "code",
   "execution_count": 27,
   "id": "db983101",
   "metadata": {},
   "outputs": [],
   "source": [
    "student[\"이름\"]=\"임또방\""
   ]
  },
  {
   "cell_type": "code",
   "execution_count": 29,
   "id": "ea8c340a",
   "metadata": {},
   "outputs": [
    {
     "name": "stdout",
     "output_type": "stream",
     "text": [
      "{'이름': '임또방', '주소': '경기도 수원시', '전화번호': '123-4567'}\n"
     ]
    }
   ],
   "source": [
    "print(student)"
   ]
  },
  {
   "cell_type": "markdown",
   "id": "57195a39",
   "metadata": {},
   "source": [
    "* 딕셔너리는 변경이 가능한 형태이군!😮"
   ]
  },
  {
   "cell_type": "markdown",
   "id": "85312164",
   "metadata": {},
   "source": [
    "**딕셔너리 관련 함수들은 교재 396쪽참고**"
   ]
  },
  {
   "cell_type": "markdown",
   "id": "e27e3fc0",
   "metadata": {},
   "source": [
    "## **딕셔너리 요소 삭제**\n",
    "  * del 키워드  \n",
    "    + del a[1]\n",
    "  * pop() 함수\n",
    "    + a.pop('key값')"
   ]
  },
  {
   "cell_type": "code",
   "execution_count": 31,
   "id": "aff69eef",
   "metadata": {},
   "outputs": [
    {
     "name": "stdout",
     "output_type": "stream",
     "text": [
      "{'이름': '임또방', '주소': '경기도 수원시', '전화번호': '123-4567'}\n"
     ]
    }
   ],
   "source": [
    "stu=student\n",
    "print(stu)"
   ]
  },
  {
   "cell_type": "code",
   "execution_count": 32,
   "id": "7ae2f74d",
   "metadata": {},
   "outputs": [
    {
     "name": "stdout",
     "output_type": "stream",
     "text": [
      "{'이름': '임또방', '주소': '경기도 수원시'}\n"
     ]
    }
   ],
   "source": [
    "del stu[\"전화번호\"]\n",
    "print(stu)"
   ]
  },
  {
   "cell_type": "code",
   "execution_count": 37,
   "id": "a85f4a13",
   "metadata": {},
   "outputs": [
    {
     "data": {
      "text/plain": [
       "'경기도 수원시'"
      ]
     },
     "execution_count": 37,
     "metadata": {},
     "output_type": "execute_result"
    }
   ],
   "source": [
    "stu.pop(\"주소\")"
   ]
  },
  {
   "cell_type": "code",
   "execution_count": 38,
   "id": "3f62a0a8",
   "metadata": {},
   "outputs": [
    {
     "name": "stdout",
     "output_type": "stream",
     "text": [
      "{'이름': '임또방'}\n"
     ]
    }
   ],
   "source": [
    "print(stu)"
   ]
  },
  {
   "cell_type": "markdown",
   "id": "4bed48d8",
   "metadata": {},
   "source": [
    "## **딕셔너리 요소 추가 및 변경**\n",
    " - 기존에 키가 존재 하면, 새로운 값으로 업데이트된다.\n",
    " - 존재하지 않으면, 새로운 키, 값 생성된다."
   ]
  },
  {
   "cell_type": "code",
   "execution_count": 41,
   "id": "bdc9dda2",
   "metadata": {},
   "outputs": [],
   "source": [
    "stu[\"짝꿍\"]= \"꾸꾸\""
   ]
  },
  {
   "cell_type": "code",
   "execution_count": 49,
   "id": "25548a73",
   "metadata": {},
   "outputs": [
    {
     "name": "stdout",
     "output_type": "stream",
     "text": [
      "{'이름': '임또방', '짝꿍': {'나이', '이름', '사는 곳'}}\n"
     ]
    }
   ],
   "source": [
    "print(stu)"
   ]
  },
  {
   "cell_type": "code",
   "execution_count": 50,
   "id": "4efabfb3",
   "metadata": {},
   "outputs": [],
   "source": [
    "import numpy as np"
   ]
  },
  {
   "cell_type": "code",
   "execution_count": 51,
   "id": "6afda387",
   "metadata": {},
   "outputs": [],
   "source": [
    "stu[\"짝꿍\"]={\"이름\":np.nan,'나이':np.nan,\"사는 곳\":np.nan}"
   ]
  },
  {
   "cell_type": "code",
   "execution_count": 52,
   "id": "8f8069ce",
   "metadata": {},
   "outputs": [
    {
     "name": "stdout",
     "output_type": "stream",
     "text": [
      "{'이름': '임또방', '짝꿍': {'이름': nan, '나이': nan, '사는 곳': nan}}\n"
     ]
    }
   ],
   "source": [
    "print(stu)"
   ]
  },
  {
   "cell_type": "code",
   "execution_count": 53,
   "id": "3977cc95",
   "metadata": {
    "scrolled": true
   },
   "outputs": [],
   "source": [
    "stu[\"짝꿍\"][\"이름\"]=\"꾸꾸\""
   ]
  },
  {
   "cell_type": "code",
   "execution_count": 54,
   "id": "e7f6f9ce",
   "metadata": {},
   "outputs": [
    {
     "name": "stdout",
     "output_type": "stream",
     "text": [
      "{'이름': '임또방', '짝꿍': {'이름': '꾸꾸', '나이': nan, '사는 곳': nan}}\n"
     ]
    }
   ],
   "source": [
    "print(stu)"
   ]
  },
  {
   "cell_type": "markdown",
   "id": "eeddc321",
   "metadata": {},
   "source": [
    "**setdefault()  이용해서 추가하기!!** \n",
    "\n",
    "기존 딕셔너리에서 setdefault를 쓰는 경우\n",
    "1) 만약 그 키 값이 있으면 값을 출력하고\n",
    "  \n",
    "2) 만약 그 키 값이 있다면 value값이 None인 상태로 키가 추가된다."
   ]
  },
  {
   "cell_type": "code",
   "execution_count": 55,
   "id": "d589b282",
   "metadata": {},
   "outputs": [
    {
     "data": {
      "text/plain": [
       "'임또방'"
      ]
     },
     "execution_count": 55,
     "metadata": {},
     "output_type": "execute_result"
    }
   ],
   "source": [
    "stu.setdefault(\"이름\")"
   ]
  },
  {
   "cell_type": "code",
   "execution_count": 56,
   "id": "b2306ba1",
   "metadata": {},
   "outputs": [],
   "source": [
    "stu.setdefault(\"리꾸\")"
   ]
  },
  {
   "cell_type": "code",
   "execution_count": 58,
   "id": "8df8e389",
   "metadata": {},
   "outputs": [
    {
     "name": "stdout",
     "output_type": "stream",
     "text": [
      "{'이름': '임또방', '짝꿍': {'이름': '꾸꾸', '나이': nan, '사는 곳': nan}, '리꾸': None}\n"
     ]
    }
   ],
   "source": [
    "print(stu)"
   ]
  },
  {
   "cell_type": "markdown",
   "id": "9fb1c392",
   "metadata": {},
   "source": [
    "## **update()**\n",
    "\n",
    " * 두 딕셔너리를 병합한다.\n",
    " * 겹치는 키가 있다면 parameter로 전달되는 키 값이 overwrite된다. 즉, 덮어쓰기처럼!"
   ]
  },
  {
   "cell_type": "code",
   "execution_count": 62,
   "id": "ceabd9ff",
   "metadata": {},
   "outputs": [],
   "source": [
    "x = {'a':10,'b':20,'c':30,'e':50}\n",
    "y = {'a':100,'b':200,'c':300,'d':400}\n",
    "\n",
    "\n",
    "x.update(y)"
   ]
  },
  {
   "cell_type": "code",
   "execution_count": 63,
   "id": "da354fe9",
   "metadata": {},
   "outputs": [
    {
     "name": "stdout",
     "output_type": "stream",
     "text": [
      "{'a': 100, 'b': 200, 'c': 300, 'e': 50, 'd': 400}\n"
     ]
    }
   ],
   "source": [
    "print(x)"
   ]
  },
  {
   "cell_type": "code",
   "execution_count": 65,
   "id": "bec1edbe",
   "metadata": {},
   "outputs": [
    {
     "name": "stdout",
     "output_type": "stream",
     "text": [
      "{'이름': '또방', '짝꿍': {'이름': '꾸꾸', '나이': nan, '사는 곳': nan}, '리꾸': None}\n"
     ]
    }
   ],
   "source": [
    "stud={\"이름\":\"또방\"}\n",
    "\n",
    "stu.update(stud)\n",
    "print(stu)"
   ]
  },
  {
   "cell_type": "code",
   "execution_count": 66,
   "id": "61c16a85",
   "metadata": {},
   "outputs": [
    {
     "name": "stdout",
     "output_type": "stream",
     "text": [
      "{'a': 100, 'b': 20, 'c': 30, 'd': 40}\n"
     ]
    }
   ],
   "source": [
    "x={'a':10,'b':20,'c':30,'d':40}\n",
    "x.update(a=100)\n",
    "print(x)"
   ]
  },
  {
   "cell_type": "code",
   "execution_count": 67,
   "id": "879ad70e",
   "metadata": {},
   "outputs": [
    {
     "ename": "SyntaxError",
     "evalue": "expression cannot contain assignment, perhaps you meant \"==\"? (Temp/ipykernel_920/4102667977.py, line 1)",
     "output_type": "error",
     "traceback": [
      "\u001b[1;36m  File \u001b[1;32m\"C:\\Users\\Admin\\AppData\\Local\\Temp/ipykernel_920/4102667977.py\"\u001b[1;36m, line \u001b[1;32m1\u001b[0m\n\u001b[1;33m    x.update(\"a\"=200)\u001b[0m\n\u001b[1;37m             ^\u001b[0m\n\u001b[1;31mSyntaxError\u001b[0m\u001b[1;31m:\u001b[0m expression cannot contain assignment, perhaps you meant \"==\"?\n"
     ]
    }
   ],
   "source": [
    "x.update(\"a\"=200) \n",
    "\n",
    "#키값을 따옴표를 뗀 상태로 넣어줘야한다!!!!✨"
   ]
  },
  {
   "cell_type": "code",
   "execution_count": 69,
   "id": "6a0cc3d8",
   "metadata": {},
   "outputs": [
    {
     "name": "stdout",
     "output_type": "stream",
     "text": [
      "{1: 'ONE', 2: 'two'}\n"
     ]
    }
   ],
   "source": [
    "y={1:'one',2:'two'}\n",
    "y.update([[1,\"ONE\"]]) #따옴표 그대로 쓰려면 한번더 묶어줘야함\n",
    "print(y)"
   ]
  },
  {
   "cell_type": "code",
   "execution_count": 74,
   "id": "f81f58ef",
   "metadata": {},
   "outputs": [],
   "source": [
    "y={1:'one',2:'two'}\n",
    "y.update([[1,\"one\"],[3,\"three\"]])"
   ]
  },
  {
   "cell_type": "code",
   "execution_count": 71,
   "id": "a9b17321",
   "metadata": {},
   "outputs": [
    {
     "data": {
      "text/plain": [
       "{1: 'one', 2: 'two', 3: 'three'}"
      ]
     },
     "execution_count": 71,
     "metadata": {},
     "output_type": "execute_result"
    }
   ],
   "source": [
    "y"
   ]
  },
  {
   "cell_type": "markdown",
   "id": "7f7b18f4",
   "metadata": {},
   "source": [
    "##  **key삭제**\n",
    "\n",
    " - del 키워드 사용\n",
    " - pop 함수 이용"
   ]
  },
  {
   "cell_type": "code",
   "execution_count": 75,
   "id": "b9300e6a",
   "metadata": {},
   "outputs": [
    {
     "data": {
      "text/plain": [
       "{2: 'two', 3: 'three'}"
      ]
     },
     "execution_count": 75,
     "metadata": {},
     "output_type": "execute_result"
    }
   ],
   "source": [
    "del y[1]\n",
    "y"
   ]
  },
  {
   "cell_type": "code",
   "execution_count": 76,
   "id": "74ce0839",
   "metadata": {},
   "outputs": [
    {
     "data": {
      "text/plain": [
       "{3: 'three'}"
      ]
     },
     "execution_count": 76,
     "metadata": {},
     "output_type": "execute_result"
    }
   ],
   "source": [
    "y.pop(2)\n",
    "y"
   ]
  },
  {
   "cell_type": "markdown",
   "id": "def5f012",
   "metadata": {},
   "source": [
    "## **clear()**\n",
    "\n",
    " + 딕셔너리의 모든 키-값 쌍을 삭제한다. \n",
    " * 전부 삭제!"
   ]
  },
  {
   "cell_type": "code",
   "execution_count": 77,
   "id": "d1a1c40f",
   "metadata": {},
   "outputs": [
    {
     "data": {
      "text/plain": [
       "{'a': 100, 'b': 20, 'c': 30, 'd': 40}"
      ]
     },
     "execution_count": 77,
     "metadata": {},
     "output_type": "execute_result"
    }
   ],
   "source": [
    "x"
   ]
  },
  {
   "cell_type": "code",
   "execution_count": 78,
   "id": "4a62a7e7",
   "metadata": {},
   "outputs": [],
   "source": [
    "x.clear()"
   ]
  },
  {
   "cell_type": "code",
   "execution_count": 79,
   "id": "fa05228b",
   "metadata": {},
   "outputs": [
    {
     "data": {
      "text/plain": [
       "{}"
      ]
     },
     "execution_count": 79,
     "metadata": {},
     "output_type": "execute_result"
    }
   ],
   "source": [
    "x"
   ]
  },
  {
   "cell_type": "markdown",
   "id": "10471784",
   "metadata": {},
   "source": [
    "💥**del과 clear의 차이점 알아두자**\n",
    "del은 아예 전부삭제\n",
    "clear는 틀은 놔두고 나머지는 전부 삭제"
   ]
  },
  {
   "cell_type": "markdown",
   "id": "2b403583",
   "metadata": {},
   "source": [
    "💥**딕셔너리에서의 pop**\n",
    "여기선 연속된 순서가아니기 때문에 기본적으로 pop되는 아이는 없고, 어떤 값을 pop할 것인지 키값을 적어줘야한다."
   ]
  },
  {
   "cell_type": "code",
   "execution_count": 80,
   "id": "ae8ac8cb",
   "metadata": {},
   "outputs": [
    {
     "ename": "SyntaxError",
     "evalue": "invalid syntax (Temp/ipykernel_920/661191547.py, line 1)",
     "output_type": "error",
     "traceback": [
      "\u001b[1;36m  File \u001b[1;32m\"C:\\Users\\Admin\\AppData\\Local\\Temp/ipykernel_920/661191547.py\"\u001b[1;36m, line \u001b[1;32m1\u001b[0m\n\u001b[1;33m    a={\"a\":1,:2}  #key는 없고 value가 있는 경우는 없다\u001b[0m\n\u001b[1;37m             ^\u001b[0m\n\u001b[1;31mSyntaxError\u001b[0m\u001b[1;31m:\u001b[0m invalid syntax\n"
     ]
    }
   ],
   "source": [
    "a={\"a\":1,:2}  #key는 없고 value가 있는 경우는 없다\n",
    "print(a)"
   ]
  },
  {
   "cell_type": "markdown",
   "id": "6e762c34",
   "metadata": {},
   "source": [
    "## **in**\n",
    " + key값 존재여부를 확인한다.\n",
    " + O(1) 연산 - 딕셔너리의 크기와 관계없이 항상 연산의 속도가 일정하다는 의미한다."
   ]
  },
  {
   "cell_type": "code",
   "execution_count": 81,
   "id": "1c61bf22",
   "metadata": {},
   "outputs": [
    {
     "data": {
      "text/plain": [
       "True"
      ]
     },
     "execution_count": 81,
     "metadata": {},
     "output_type": "execute_result"
    }
   ],
   "source": [
    "x={'a':10,'b':20,'c':30,'d':40}\n",
    "\n",
    "\"a\"in x"
   ]
  },
  {
   "cell_type": "code",
   "execution_count": 82,
   "id": "68f0d7fd",
   "metadata": {},
   "outputs": [
    {
     "data": {
      "text/plain": [
       "True"
      ]
     },
     "execution_count": 82,
     "metadata": {},
     "output_type": "execute_result"
    }
   ],
   "source": [
    "\"a\" in x.keys()"
   ]
  },
  {
   "cell_type": "code",
   "execution_count": 84,
   "id": "26d90004",
   "metadata": {},
   "outputs": [
    {
     "data": {
      "text/plain": [
       "False"
      ]
     },
     "execution_count": 84,
     "metadata": {},
     "output_type": "execute_result"
    }
   ],
   "source": [
    "10 in x #키값만 찾을수 있음!"
   ]
  },
  {
   "cell_type": "markdown",
   "id": "2c6131bd",
   "metadata": {},
   "source": [
    "## **value access**\n",
    " + dict[key]로 접급, 키가 없는 경우 에러 발생 \n",
    " + .get() 함수로 접근, 키가 없는 경우 None반환"
   ]
  },
  {
   "cell_type": "code",
   "execution_count": 88,
   "id": "8f4da228",
   "metadata": {},
   "outputs": [
    {
     "data": {
      "text/plain": [
       "10"
      ]
     },
     "execution_count": 88,
     "metadata": {},
     "output_type": "execute_result"
    }
   ],
   "source": [
    "x[\"a\"]"
   ]
  },
  {
   "cell_type": "code",
   "execution_count": 89,
   "id": "74bf4e4c",
   "metadata": {},
   "outputs": [
    {
     "ename": "KeyError",
     "evalue": "'z'",
     "output_type": "error",
     "traceback": [
      "\u001b[1;31m---------------------------------------------------------------------------\u001b[0m",
      "\u001b[1;31mKeyError\u001b[0m                                  Traceback (most recent call last)",
      "\u001b[1;32m~\\AppData\\Local\\Temp/ipykernel_920/2172503267.py\u001b[0m in \u001b[0;36m<module>\u001b[1;34m\u001b[0m\n\u001b[1;32m----> 1\u001b[1;33m \u001b[0mx\u001b[0m\u001b[1;33m[\u001b[0m\u001b[1;34m\"z\"\u001b[0m\u001b[1;33m]\u001b[0m\u001b[1;33m\u001b[0m\u001b[1;33m\u001b[0m\u001b[0m\n\u001b[0m",
      "\u001b[1;31mKeyError\u001b[0m: 'z'"
     ]
    }
   ],
   "source": [
    "x[\"z\"]  #key가 없는 경우에는 에러가 발생"
   ]
  },
  {
   "cell_type": "code",
   "execution_count": 87,
   "id": "fb6d81fb",
   "metadata": {},
   "outputs": [
    {
     "data": {
      "text/plain": [
       "10"
      ]
     },
     "execution_count": 87,
     "metadata": {},
     "output_type": "execute_result"
    }
   ],
   "source": [
    "x.get(\"a\")"
   ]
  },
  {
   "cell_type": "code",
   "execution_count": 90,
   "id": "fbbc286e",
   "metadata": {},
   "outputs": [],
   "source": [
    "x.get(\"z\") #key가 없는 경우에 none이라면서 없다고 반환"
   ]
  },
  {
   "cell_type": "markdown",
   "id": "0b294d8a",
   "metadata": {},
   "source": [
    "### **모든 keys, values 접근**\n",
    " + keys() - 키만 반환\n",
    " + values() - 값만 반환\n",
    " + items() - 키, 값의 튜플을 반환"
   ]
  },
  {
   "cell_type": "code",
   "execution_count": 92,
   "id": "103a5eb8",
   "metadata": {},
   "outputs": [
    {
     "name": "stdout",
     "output_type": "stream",
     "text": [
      "dict_keys(['a', 'b', 'c', 'd'])\n"
     ]
    }
   ],
   "source": [
    "x={'a':10,'b':20,'c':30,'d':40}\n",
    "\n",
    "print(x.keys())"
   ]
  },
  {
   "cell_type": "code",
   "execution_count": 94,
   "id": "3594525f",
   "metadata": {},
   "outputs": [
    {
     "name": "stdout",
     "output_type": "stream",
     "text": [
      "['a', 'b', 'c', 'd']\n"
     ]
    }
   ],
   "source": [
    "print(list(x.keys())) #리스트로 바꾸고 싶으면 형변환 하면 됨!"
   ]
  },
  {
   "cell_type": "code",
   "execution_count": 95,
   "id": "2ffd508c",
   "metadata": {},
   "outputs": [
    {
     "name": "stdout",
     "output_type": "stream",
     "text": [
      "dict_values([10, 20, 30, 40])\n"
     ]
    }
   ],
   "source": [
    "print(x.values())"
   ]
  },
  {
   "cell_type": "code",
   "execution_count": 96,
   "id": "a1ce0f55",
   "metadata": {},
   "outputs": [
    {
     "name": "stdout",
     "output_type": "stream",
     "text": [
      "[10, 20, 30, 40]\n"
     ]
    }
   ],
   "source": [
    "print(list(x.values()))"
   ]
  },
  {
   "cell_type": "code",
   "execution_count": null,
   "id": "5c27ebc1",
   "metadata": {},
   "outputs": [],
   "source": [
    "x={'a':10,'b':20,'c':30,'d':40}"
   ]
  },
  {
   "cell_type": "markdown",
   "id": "f619c31c",
   "metadata": {},
   "source": [
    "# 리스트 & 튜플로 딕셔너리 만들기 🎉"
   ]
  },
  {
   "cell_type": "code",
   "execution_count": 97,
   "id": "b8deba7c",
   "metadata": {},
   "outputs": [
    {
     "data": {
      "text/plain": [
       "{'a': None, 'b': None, 'c': None, 'd': None}"
      ]
     },
     "execution_count": 97,
     "metadata": {},
     "output_type": "execute_result"
    }
   ],
   "source": [
    "keys = ['a','b','c','d'] #dict.fromkeys를 이용해 딕셔너리를 만들수 있다.\n",
    "\n",
    "di=dict.fromkeys(keys)\n",
    "di"
   ]
  },
  {
   "cell_type": "code",
   "execution_count": 100,
   "id": "cff4a234",
   "metadata": {},
   "outputs": [
    {
     "data": {
      "text/plain": [
       "{'a': 100, 'b': 100, 'c': 100, 'd': 100}"
      ]
     },
     "execution_count": 100,
     "metadata": {},
     "output_type": "execute_result"
    }
   ],
   "source": [
    "di2=dict.fromkeys(keys,100)\n",
    "di2"
   ]
  },
  {
   "cell_type": "code",
   "execution_count": 101,
   "id": "6d8eb086",
   "metadata": {},
   "outputs": [
    {
     "data": {
      "text/plain": [
       "{'a': 10, 'b': 20, 'c': 30}"
      ]
     },
     "execution_count": 101,
     "metadata": {},
     "output_type": "execute_result"
    }
   ],
   "source": [
    "di3=dict(a=10,b=20,c=30)\n",
    "di3"
   ]
  },
  {
   "cell_type": "code",
   "execution_count": 147,
   "id": "f2e945ad",
   "metadata": {},
   "outputs": [
    {
     "data": {
      "text/plain": [
       "{'a': 10, 'b': 20, 'c': 30}"
      ]
     },
     "execution_count": 147,
     "metadata": {},
     "output_type": "execute_result"
    }
   ],
   "source": [
    "#위와 동일한 식 💥💥\n",
    "di4=dict([(\"a\",10),(\"b\",20),(\"c\",30)])\n",
    "di4"
   ]
  },
  {
   "cell_type": "markdown",
   "id": "8a40fba2",
   "metadata": {},
   "source": [
    "# set\n",
    "\n",
    " + dictionary에서 key만 활용하는 데이터 구조이다.\n",
    " + 수학에서의 집합과 동일한 개념이다.\n",
    " + 파이썬 2.3부터 지원된 자료형으로 집합에 관련된 것을 쉽게 처리한다.\n",
    " + set 키워드를 이용해서 만들 수 있다. \n",
    " + 빈 set 을 만드는 방법은 set() 을 이용한다. \n",
    " + 특징\n",
    "     - 중복을 허용하지 않는다. \n",
    "     - 순서가 없다. "
   ]
  },
  {
   "cell_type": "code",
   "execution_count": 110,
   "id": "3ab24d53",
   "metadata": {},
   "outputs": [
    {
     "data": {
      "text/plain": [
       "set"
      ]
     },
     "execution_count": 110,
     "metadata": {},
     "output_type": "execute_result"
    }
   ],
   "source": [
    "se={1,2,3}\n",
    "type(se)"
   ]
  },
  {
   "cell_type": "code",
   "execution_count": 111,
   "id": "e1a7ff31",
   "metadata": {},
   "outputs": [
    {
     "name": "stdout",
     "output_type": "stream",
     "text": [
      "set() <class 'set'>\n"
     ]
    }
   ],
   "source": [
    "se1= set()\n",
    "print(se1, type(se1))"
   ]
  },
  {
   "cell_type": "code",
   "execution_count": null,
   "id": "941a21a9",
   "metadata": {},
   "outputs": [],
   "source": []
  },
  {
   "cell_type": "markdown",
   "id": "d8620ecd",
   "metadata": {},
   "source": [
    "## **set()으로 집합으로 변환**\n",
    "\n",
    "\n",
    "* 중복되는 값은 삭제하고 반환한다."
   ]
  },
  {
   "cell_type": "code",
   "execution_count": 112,
   "id": "2fa23278",
   "metadata": {},
   "outputs": [
    {
     "name": "stdout",
     "output_type": "stream",
     "text": [
      "{1, 2, 3, 4, 5, 6}\n"
     ]
    }
   ],
   "source": [
    "a= [1,1,1,2,2,3,4,5,6]\n",
    "a= set(a)\n",
    "print(a)"
   ]
  },
  {
   "cell_type": "markdown",
   "id": "e16904f6",
   "metadata": {},
   "source": [
    "## **set operations**\n",
    " - 수학 연산과 동일하다.\n",
    " - 교집합, 합집합, 차집합 등 지원한다."
   ]
  },
  {
   "cell_type": "code",
   "execution_count": 132,
   "id": "53b7e7d4",
   "metadata": {},
   "outputs": [
    {
     "name": "stdout",
     "output_type": "stream",
     "text": [
      "합집합:  {1} {1}\n",
      "차집합:  {1, 2, 3, 4} {1, 2, 3, 4}\n",
      "교집합:  {2, 3} {2, 3}\n"
     ]
    }
   ],
   "source": [
    "a = {1,2,3}\n",
    "b = {2,3,4}\n",
    "\n",
    "print(\"합집합: \", a-b, a.difference(b))\n",
    "print(\"차집합: \", a|b , a.union(b))\n",
    "print(\"교집합: \", a&b, a.intersection(b))"
   ]
  },
  {
   "cell_type": "markdown",
   "id": "314be392",
   "metadata": {},
   "source": [
    "## **set 값 추가 제거 하기**\n",
    "\n",
    "* add : 하나씩 추가\n",
    "* update : 여러개 추가\n",
    "* remove : 하나씩 제거\n",
    "* pop\n",
    "*"
   ]
  },
  {
   "cell_type": "code",
   "execution_count": 133,
   "id": "3720652c",
   "metadata": {},
   "outputs": [
    {
     "data": {
      "text/plain": [
       "{1, 2, 3, 5}"
      ]
     },
     "execution_count": 133,
     "metadata": {},
     "output_type": "execute_result"
    }
   ],
   "source": [
    "a.add(5)\n",
    "a"
   ]
  },
  {
   "cell_type": "code",
   "execution_count": 134,
   "id": "bc0db3bc",
   "metadata": {},
   "outputs": [
    {
     "data": {
      "text/plain": [
       "{1, 2, 3, 4, 5}"
      ]
     },
     "execution_count": 134,
     "metadata": {},
     "output_type": "execute_result"
    }
   ],
   "source": [
    "a.update({4})\n",
    "a"
   ]
  },
  {
   "cell_type": "code",
   "execution_count": 135,
   "id": "17b66266",
   "metadata": {},
   "outputs": [
    {
     "data": {
      "text/plain": [
       "{1, 2, 4, 5}"
      ]
     },
     "execution_count": 135,
     "metadata": {},
     "output_type": "execute_result"
    }
   ],
   "source": [
    "a.remove(3)\n",
    "a"
   ]
  },
  {
   "cell_type": "code",
   "execution_count": 136,
   "id": "2183ad23",
   "metadata": {},
   "outputs": [
    {
     "data": {
      "text/plain": [
       "{1, 2, 4, 5, 7}"
      ]
     },
     "execution_count": 136,
     "metadata": {},
     "output_type": "execute_result"
    }
   ],
   "source": [
    "a.update([5,7])\n",
    "a"
   ]
  },
  {
   "cell_type": "code",
   "execution_count": 137,
   "id": "9f125701",
   "metadata": {},
   "outputs": [
    {
     "data": {
      "text/plain": [
       "{1, 2, 4, 5, 7, 8, 9}"
      ]
     },
     "execution_count": 137,
     "metadata": {},
     "output_type": "execute_result"
    }
   ],
   "source": [
    "a.update({8,9})\n",
    "a"
   ]
  },
  {
   "cell_type": "code",
   "execution_count": 138,
   "id": "9c6a39b1",
   "metadata": {},
   "outputs": [],
   "source": [
    "a.update((10,11))"
   ]
  },
  {
   "cell_type": "code",
   "execution_count": 139,
   "id": "37d1e223",
   "metadata": {},
   "outputs": [
    {
     "data": {
      "text/plain": [
       "{1, 2, 4, 5, 7, 8, 9, 10, 11}"
      ]
     },
     "execution_count": 139,
     "metadata": {},
     "output_type": "execute_result"
    }
   ],
   "source": [
    "a"
   ]
  },
  {
   "cell_type": "code",
   "execution_count": 140,
   "id": "3cb16e05",
   "metadata": {},
   "outputs": [
    {
     "data": {
      "text/plain": [
       "set"
      ]
     },
     "execution_count": 140,
     "metadata": {},
     "output_type": "execute_result"
    }
   ],
   "source": [
    "type(a)"
   ]
  },
  {
   "cell_type": "code",
   "execution_count": 148,
   "id": "799a1fb9",
   "metadata": {},
   "outputs": [
    {
     "data": {
      "text/plain": [
       "[(1, 10), (2, 20), (3, 30)]"
      ]
     },
     "execution_count": 148,
     "metadata": {},
     "output_type": "execute_result"
    }
   ],
   "source": [
    "#zip 함수\n",
    "\n",
    "a=[1,2,3]\n",
    "b=[10,20,30]\n",
    "\n",
    "list(zip(a,b))"
   ]
  },
  {
   "cell_type": "code",
   "execution_count": 149,
   "id": "8d9a8baf",
   "metadata": {},
   "outputs": [
    {
     "data": {
      "text/plain": [
       "[(1, 10, 100), (2, 20, 200), (3, 30, 300)]"
      ]
     },
     "execution_count": 149,
     "metadata": {},
     "output_type": "execute_result"
    }
   ],
   "source": [
    "c=[100,200,300]\n",
    "\n",
    "list(zip(a,b,c))"
   ]
  },
  {
   "cell_type": "code",
   "execution_count": 150,
   "id": "e22803ee",
   "metadata": {},
   "outputs": [
    {
     "ename": "ValueError",
     "evalue": "dictionary update sequence element #0 has length 3; 2 is required",
     "output_type": "error",
     "traceback": [
      "\u001b[1;31m---------------------------------------------------------------------------\u001b[0m",
      "\u001b[1;31mValueError\u001b[0m                                Traceback (most recent call last)",
      "\u001b[1;32m~\\AppData\\Local\\Temp/ipykernel_920/2947115251.py\u001b[0m in \u001b[0;36m<module>\u001b[1;34m\u001b[0m\n\u001b[1;32m----> 1\u001b[1;33m \u001b[0mdict\u001b[0m\u001b[1;33m(\u001b[0m\u001b[0mzip\u001b[0m\u001b[1;33m(\u001b[0m\u001b[0ma\u001b[0m\u001b[1;33m,\u001b[0m\u001b[0mb\u001b[0m\u001b[1;33m,\u001b[0m\u001b[0mc\u001b[0m\u001b[1;33m)\u001b[0m\u001b[1;33m)\u001b[0m\u001b[1;33m\u001b[0m\u001b[1;33m\u001b[0m\u001b[0m\n\u001b[0m",
      "\u001b[1;31mValueError\u001b[0m: dictionary update sequence element #0 has length 3; 2 is required"
     ]
    }
   ],
   "source": [
    "dict(zip(a,b,c)) #오류 생김! 딕셔너리를 키와 값을 매칭하는 거이기에"
   ]
  },
  {
   "cell_type": "code",
   "execution_count": 171,
   "id": "ca42c74f",
   "metadata": {},
   "outputs": [
    {
     "data": {
      "text/plain": [
       "[(10, 100), (20, 200), (30, 300)]"
      ]
     },
     "execution_count": 171,
     "metadata": {},
     "output_type": "execute_result"
    }
   ],
   "source": [
    "a=[1,2,3]\n",
    "b=[10,20,30]\n",
    "c=[100,200,300]\n",
    "list(zip(b,c))"
   ]
  },
  {
   "cell_type": "code",
   "execution_count": 170,
   "id": "888bd197",
   "metadata": {},
   "outputs": [
    {
     "data": {
      "text/plain": [
       "{1: (10, 100), 2: (20, 200), 3: (30, 300)}"
      ]
     },
     "execution_count": 170,
     "metadata": {},
     "output_type": "execute_result"
    }
   ],
   "source": [
    "a=dict(zip(a,list(zip(b,c))))\n",
    "a"
   ]
  },
  {
   "cell_type": "code",
   "execution_count": null,
   "id": "cf55a1dd",
   "metadata": {},
   "outputs": [],
   "source": []
  },
  {
   "cell_type": "code",
   "execution_count": null,
   "id": "6c0802b5",
   "metadata": {},
   "outputs": [],
   "source": []
  },
  {
   "cell_type": "code",
   "execution_count": null,
   "id": "e9c29ca6",
   "metadata": {},
   "outputs": [],
   "source": []
  },
  {
   "cell_type": "code",
   "execution_count": 154,
   "id": "be5988a3",
   "metadata": {},
   "outputs": [
    {
     "data": {
      "text/plain": [
       "set"
      ]
     },
     "execution_count": 154,
     "metadata": {},
     "output_type": "execute_result"
    }
   ],
   "source": [
    "a=set()\n",
    "type(a)"
   ]
  },
  {
   "cell_type": "code",
   "execution_count": null,
   "id": "c837ca55",
   "metadata": {},
   "outputs": [],
   "source": []
  },
  {
   "cell_type": "code",
   "execution_count": null,
   "id": "a56cc2b0",
   "metadata": {},
   "outputs": [],
   "source": []
  },
  {
   "cell_type": "markdown",
   "id": "ead0bbcf",
   "metadata": {},
   "source": [
    "## list 복사 "
   ]
  },
  {
   "cell_type": "code",
   "execution_count": null,
   "id": "fa83436b",
   "metadata": {},
   "outputs": [],
   "source": []
  },
  {
   "cell_type": "code",
   "execution_count": null,
   "id": "82b10ddd",
   "metadata": {},
   "outputs": [],
   "source": []
  }
 ],
 "metadata": {
  "kernelspec": {
   "display_name": "Python 3 (ipykernel)",
   "language": "python",
   "name": "python3"
  },
  "language_info": {
   "codemirror_mode": {
    "name": "ipython",
    "version": 3
   },
   "file_extension": ".py",
   "mimetype": "text/x-python",
   "name": "python",
   "nbconvert_exporter": "python",
   "pygments_lexer": "ipython3",
   "version": "3.9.7"
  },
  "toc": {
   "base_numbering": 1,
   "nav_menu": {},
   "number_sections": true,
   "sideBar": true,
   "skip_h1_title": false,
   "title_cell": "Table of Contents",
   "title_sidebar": "Contents",
   "toc_cell": false,
   "toc_position": {},
   "toc_section_display": true,
   "toc_window_display": true
  }
 },
 "nbformat": 4,
 "nbformat_minor": 5
}
