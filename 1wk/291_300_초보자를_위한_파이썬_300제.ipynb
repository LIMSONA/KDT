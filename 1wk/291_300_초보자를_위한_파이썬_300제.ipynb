{
 "cells": [
  {
   "cell_type": "markdown",
   "id": "ff05b983",
   "metadata": {},
   "source": [
    "# 10. 파일 입출력과 예외처리"
   ]
  },
  {
   "cell_type": "code",
   "execution_count": 27,
   "id": "869bfda2",
   "metadata": {},
   "outputs": [],
   "source": [
    "# 291 파일 쓰기\n",
    "f = open(\"C://Users/Admin/desktop/매수종목1.txt\",mode=\"wt\",encoding=\"utf-8\")\n",
    "f.write(\"005930\\n\")\n",
    "f.write(\"005380\\n\")\n",
    "f.write(\"035420\\n\")\n",
    "f.close()  "
   ]
  },
  {
   "cell_type": "code",
   "execution_count": 26,
   "id": "26f320b9",
   "metadata": {},
   "outputs": [],
   "source": [
    "# 292 파일 쓰기\n",
    "f = open(\"C://Users/Admin/desktop/매수종목2.txt\",\"wt\",encoding=\"utf8\")\n",
    "f.write(\"005930 삼성전자\\n\")\n",
    "f.write(\"005380 현대차\\n\")\n",
    "f.write(\"035420 NAVER\\n\")\n",
    "f.close()"
   ]
  },
  {
   "cell_type": "code",
   "execution_count": 29,
   "id": "cd79c51b",
   "metadata": {},
   "outputs": [],
   "source": [
    "# 파일명만 다르게 위와 같은 식 구현함\n",
    "\n",
    "f = open(\"C://Users/Admin/desktop/매수종목2_1.txt\",\"wt\",encoding=\"utf8\")\n",
    "\n",
    "a= [\"005930 삼성전자\\n\",\"005380 현대차\\n\"\"035420 NAVER\\n\"]\n",
    "f.writelines(a)\n",
    "f.close()"
   ]
  },
  {
   "cell_type": "code",
   "execution_count": 17,
   "id": "37adca15",
   "metadata": {},
   "outputs": [],
   "source": [
    "# 293 CSV 파일 쓰기\n",
    "import csv\n",
    "\n",
    "f = open(\"C://Users/Admin/desktop/매수종목.csv\",\"wt\",encoding=\"cp949\",newline=\"\")\n",
    "\n",
    "fw= csv.writer(f)\n",
    "\n",
    "fw.writerow([\"종목명\",\"종목코드\",\"PER\"])\n",
    "fw.writerow([\"삼성전자\",\"005930\",15,59])\n",
    "fw.writerow([\"Naver\",\"035420\",55.82])\n",
    "\n",
    "f.close()"
   ]
  },
  {
   "cell_type": "code",
   "execution_count": 24,
   "id": "5a6f63a1",
   "metadata": {},
   "outputs": [
    {
     "name": "stdout",
     "output_type": "stream",
     "text": [
      "['005930', '005380', '035420']\n"
     ]
    }
   ],
   "source": [
    "# 294 파일 읽기\n",
    "\n",
    "f = open(\"C://Users/Admin/desktop/매수종목1.txt\",mode=\"r\",encoding=\"utf8\")\n",
    "\n",
    "lines = f.readlines()\n",
    "code_list =[]\n",
    "for i in lines:\n",
    "    code = i.strip()\n",
    "    code_list.append(code)\n",
    "print(code_list)\n",
    "\n",
    "f.close()"
   ]
  },
  {
   "cell_type": "code",
   "execution_count": 31,
   "id": "8ac8e4a7",
   "metadata": {},
   "outputs": [
    {
     "name": "stdout",
     "output_type": "stream",
     "text": [
      "{'005930': '삼성전자', '005380': '현대차', '035420': 'NAVER'}\n"
     ]
    }
   ],
   "source": [
    "# 295 파일 읽기\n",
    "\n",
    "f= open(\"C://Users/Admin/desktop/매수종목2.txt\",\"rt\",encoding=\"utf8\")\n",
    "lines = f.readlines()\n",
    "code_dict={}\n",
    "\n",
    "for i in lines:\n",
    "    i = i.strip() #줄바꿈 지우기\n",
    "    key, value = i.split() #공백기준으로 분리하기\n",
    "    code_dict[key]=value\n",
    "    \n",
    "print(code_dict)\n",
    "\n",
    "f.close()"
   ]
  },
  {
   "cell_type": "code",
   "execution_count": 36,
   "id": "308c4c7a",
   "metadata": {},
   "outputs": [
    {
     "name": "stdout",
     "output_type": "stream",
     "text": [
      "10.31\n",
      "0\n",
      "8.0\n"
     ]
    }
   ],
   "source": [
    "# 296 예외처리\n",
    "# 에러가 발생하는 PER은 0으로 출력\n",
    "\n",
    "per = [\"10.31\", \"\", \"8.00\"]\n",
    "\n",
    "for i in per:\n",
    "    try:\n",
    "        print(float(i))\n",
    "    except:\n",
    "        print(0)"
   ]
  },
  {
   "cell_type": "code",
   "execution_count": 38,
   "id": "bc1c7fac",
   "metadata": {},
   "outputs": [
    {
     "name": "stdout",
     "output_type": "stream",
     "text": [
      "[10.31, 0, 8.0]\n"
     ]
    }
   ],
   "source": [
    "# 297 예외처리 및 리스트에 저장\n",
    "\n",
    "per = [\"10.31\", \"\", \"8.00\"]\n",
    "\n",
    "new_per=[]\n",
    "\n",
    "for i in per:\n",
    "    try: \n",
    "        new_per.append(float(i))\n",
    "    except:\n",
    "        new_per.append(0)\n",
    "\n",
    "print(new_per)"
   ]
  },
  {
   "cell_type": "code",
   "execution_count": 48,
   "id": "6a677ab2",
   "metadata": {},
   "outputs": [],
   "source": [
    "# 298 특정 예외만 처리하기\n",
    "\n",
    "def zero(x):\n",
    "    try:\n",
    "        x/0\n",
    "    except  ZeroDivisionError:\n",
    "        return print(\"ZeroDivisionError 에러\")"
   ]
  },
  {
   "cell_type": "code",
   "execution_count": 49,
   "id": "8dd9e395",
   "metadata": {},
   "outputs": [
    {
     "name": "stdout",
     "output_type": "stream",
     "text": [
      "ZeroDivisionError 에러\n",
      "None\n"
     ]
    }
   ],
   "source": [
    "print(zero(4))"
   ]
  },
  {
   "cell_type": "code",
   "execution_count": 54,
   "id": "d1508ff3",
   "metadata": {},
   "outputs": [],
   "source": [
    "# 299 예외의 메시지 출력하기\n",
    "data = [1, 2, 3]"
   ]
  },
  {
   "cell_type": "code",
   "execution_count": 58,
   "id": "35bb9d25",
   "metadata": {},
   "outputs": [
    {
     "name": "stdout",
     "output_type": "stream",
     "text": [
      "1\n",
      "2\n",
      "3\n",
      "list index out of range\n",
      "list index out of range\n"
     ]
    }
   ],
   "source": [
    "for i in range(5):\n",
    "    try:\n",
    "        print(data[i])\n",
    "    except IndexError as xx:\n",
    "        print(xx)"
   ]
  },
  {
   "cell_type": "code",
   "execution_count": 60,
   "id": "02988dae",
   "metadata": {},
   "outputs": [
    {
     "name": "stdout",
     "output_type": "stream",
     "text": [
      "10.31\n",
      "에러 안났다!\n",
      "에러가 났든말든\n",
      "Error\n",
      "에러가 났든말든\n",
      "8.0\n",
      "에러 안났다!\n",
      "에러가 났든말든\n"
     ]
    }
   ],
   "source": [
    "# 300 try, except, else, finally 구조 사용해보기\n",
    "\n",
    "per = [\"10.31\", \"\", \"8.00\"]\n",
    "\n",
    "\n",
    "for i in per:\n",
    "    try:\n",
    "        print(float(i))\n",
    "    except :\n",
    "        print(\"Error\")\n",
    "    else:\n",
    "        print(\"에러 안났다!\")\n",
    "    finally:\n",
    "        print(\"에러가 났든말든\")"
   ]
  },
  {
   "cell_type": "code",
   "execution_count": null,
   "id": "fccb0012",
   "metadata": {},
   "outputs": [],
   "source": []
  }
 ],
 "metadata": {
  "kernelspec": {
   "display_name": "Python 3 (ipykernel)",
   "language": "python",
   "name": "python3"
  },
  "language_info": {
   "codemirror_mode": {
    "name": "ipython",
    "version": 3
   },
   "file_extension": ".py",
   "mimetype": "text/x-python",
   "name": "python",
   "nbconvert_exporter": "python",
   "pygments_lexer": "ipython3",
   "version": "3.9.7"
  },
  "toc": {
   "base_numbering": 1,
   "nav_menu": {},
   "number_sections": true,
   "sideBar": true,
   "skip_h1_title": false,
   "title_cell": "Table of Contents",
   "title_sidebar": "Contents",
   "toc_cell": false,
   "toc_position": {},
   "toc_section_display": true,
   "toc_window_display": false
  }
 },
 "nbformat": 4,
 "nbformat_minor": 5
}
