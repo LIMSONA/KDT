{
 "cells": [
  {
   "cell_type": "raw",
   "id": "82cd98b7",
   "metadata": {},
   "source": [
    "# 수업에 들어가기 전에"
   ]
  },
  {
   "cell_type": "markdown",
   "id": "e51d34e9",
   "metadata": {},
   "source": [
    "* 확장자명을 볼수있게 설정하기! 파일이름과 헷갈리지 않게! \n",
    " - 메모장으로 미리 작성하여 .py라고 써줄수있기 때문에\n",
    " \n",
    " \n",
    "* 번역방식\n",
    " - 컴파일러 방식(절차지향): C언어\n",
    " - 인터프리터 방식(객체지향): 파이썬 - 플랫폼이 독립적(다른 OS에서 돌릴수 있다)"
   ]
  },
  {
   "cell_type": "markdown",
   "id": "27f4a818",
   "metadata": {},
   "source": [
    "# 문자열 (string)"
   ]
  },
  {
   "cell_type": "markdown",
   "id": "a056727f",
   "metadata": {},
   "source": [
    "**파이썬은 변하지않는 불변 객체이다!!!**"
   ]
  },
  {
   "cell_type": "code",
   "execution_count": 4,
   "id": "9f46bd3a",
   "metadata": {},
   "outputs": [
    {
     "data": {
      "text/plain": [
       "'임소나'"
      ]
     },
     "execution_count": 4,
     "metadata": {},
     "output_type": "execute_result"
    }
   ],
   "source": [
    "name = \"임소나\"\n",
    "name"
   ]
  },
  {
   "cell_type": "code",
   "execution_count": 5,
   "id": "953313f4",
   "metadata": {},
   "outputs": [
    {
     "data": {
      "text/plain": [
       "'\"임소나\"입니다'"
      ]
     },
     "execution_count": 5,
     "metadata": {},
     "output_type": "execute_result"
    }
   ],
   "source": [
    "name1 = '\"임소나\"입니다'\n",
    "name1"
   ]
  },
  {
   "cell_type": "code",
   "execution_count": 12,
   "id": "345f6181",
   "metadata": {},
   "outputs": [
    {
     "name": "stdout",
     "output_type": "stream",
     "text": [
      "\n",
      "임소나\n",
      "이지롱\n",
      "이건?? \n",
      "\n"
     ]
    }
   ],
   "source": [
    "name3 ='''\n",
    "임소나\n",
    "이지롱\n",
    "이건?? \n",
    "'''\n",
    "print(name3)"
   ]
  },
  {
   "cell_type": "markdown",
   "id": "80c62343",
   "metadata": {},
   "source": [
    "## escape string(\\\\)\n",
    "* 문자열내의 일부 문자의 의미를 달리하여 `특정한 효과`를 주는 것\n",
    "* `\\n` : new line  / `\\t` : tab 등"
   ]
  },
  {
   "cell_type": "code",
   "execution_count": 13,
   "id": "0766d465",
   "metadata": {},
   "outputs": [
    {
     "name": "stdout",
     "output_type": "stream",
     "text": [
      "임\n",
      "소\n",
      "나\n",
      "얍!\n"
     ]
    }
   ],
   "source": [
    "a=\"임\\n소\\n나\\n얍!\"\n",
    "print(a)"
   ]
  },
  {
   "cell_type": "code",
   "execution_count": 15,
   "id": "c10d58c3",
   "metadata": {},
   "outputs": [
    {
     "name": "stdout",
     "output_type": "stream",
     "text": [
      "임\t소\t나\t얍!\n"
     ]
    }
   ],
   "source": [
    "a1=\"임\\t소\\t나\\t얍!\"\n",
    "print(a1)"
   ]
  },
  {
   "cell_type": "code",
   "execution_count": 17,
   "id": "5e4bb15b",
   "metadata": {},
   "outputs": [
    {
     "data": {
      "text/plain": [
       "str"
      ]
     },
     "execution_count": 17,
     "metadata": {},
     "output_type": "execute_result"
    }
   ],
   "source": [
    "type(a1)"
   ]
  },
  {
   "cell_type": "code",
   "execution_count": 18,
   "id": "0973d09e",
   "metadata": {},
   "outputs": [
    {
     "name": "stdout",
     "output_type": "stream",
     "text": [
      "안녕'소나'야!!\n"
     ]
    }
   ],
   "source": [
    "print('안녕\\'소나\\'야!!')"
   ]
  },
  {
   "cell_type": "markdown",
   "id": "048b6965",
   "metadata": {},
   "source": [
    "## 문자열 더하기/곱하기"
   ]
  },
  {
   "cell_type": "code",
   "execution_count": 21,
   "id": "4421ab3f",
   "metadata": {},
   "outputs": [
    {
     "name": "stdout",
     "output_type": "stream",
     "text": [
      "임소나임\t소\t나\t얍!\n"
     ]
    }
   ],
   "source": [
    "print( name + a1 )"
   ]
  },
  {
   "cell_type": "code",
   "execution_count": 23,
   "id": "169ab5c1",
   "metadata": {},
   "outputs": [
    {
     "name": "stdout",
     "output_type": "stream",
     "text": [
      "임소나임소나임소나임소나임소나\n"
     ]
    }
   ],
   "source": [
    "print( name * 5)"
   ]
  },
  {
   "cell_type": "markdown",
   "id": "23cf981a",
   "metadata": {},
   "source": [
    "## indexing & slicing string\n",
    "  - 문자열의 각 문자는 순서가 있는데, 이 순서를 **인덱스** 라고 한다.\n",
    "  - 첫번째 시작문자의 순서는 0으로 시작"
   ]
  },
  {
   "cell_type": "code",
   "execution_count": 24,
   "id": "03980714",
   "metadata": {},
   "outputs": [
    {
     "name": "stdout",
     "output_type": "stream",
     "text": [
      "12\n"
     ]
    }
   ],
   "source": [
    "s= \"hello python\"\n",
    "print(len(s))"
   ]
  },
  {
   "cell_type": "code",
   "execution_count": 25,
   "id": "f6ce572e",
   "metadata": {},
   "outputs": [
    {
     "data": {
      "text/plain": [
       "'h'"
      ]
     },
     "execution_count": 25,
     "metadata": {},
     "output_type": "execute_result"
    }
   ],
   "source": [
    "s[0]"
   ]
  },
  {
   "cell_type": "code",
   "execution_count": 26,
   "id": "854dd20b",
   "metadata": {},
   "outputs": [
    {
     "data": {
      "text/plain": [
       "' '"
      ]
     },
     "execution_count": 26,
     "metadata": {},
     "output_type": "execute_result"
    }
   ],
   "source": [
    "s[5]"
   ]
  },
  {
   "cell_type": "markdown",
   "id": "7fc551f1",
   "metadata": {},
   "source": [
    "## '-1' 인덱스\n",
    "  - python의 경우 음수 인덱스를 지원한다.\n",
    "  - -1이 가장 마지막 인덱스를, -2가 마지막에서 두번째 인덱스를 의미한다."
   ]
  },
  {
   "cell_type": "code",
   "execution_count": 27,
   "id": "c11bcb19",
   "metadata": {},
   "outputs": [
    {
     "data": {
      "text/plain": [
       "'n'"
      ]
     },
     "execution_count": 27,
     "metadata": {},
     "output_type": "execute_result"
    }
   ],
   "source": [
    "s[-1]"
   ]
  },
  {
   "cell_type": "code",
   "execution_count": 28,
   "id": "d171778e",
   "metadata": {},
   "outputs": [
    {
     "data": {
      "text/plain": [
       "'o'"
      ]
     },
     "execution_count": 28,
     "metadata": {},
     "output_type": "execute_result"
    }
   ],
   "source": [
    "s[-2]"
   ]
  },
  {
   "cell_type": "code",
   "execution_count": 29,
   "id": "56304f33",
   "metadata": {},
   "outputs": [
    {
     "data": {
      "text/plain": [
       "'y'"
      ]
     },
     "execution_count": 29,
     "metadata": {},
     "output_type": "execute_result"
    }
   ],
   "source": [
    "s[-5]"
   ]
  },
  {
   "cell_type": "markdown",
   "id": "61d1a5be",
   "metadata": {},
   "source": [
    "## 인덱스의 범위\n",
    "  - 인덱스는 [0, 문자열의 길이) 의 범위만 유효하다.\n",
    "  - 음수 인덱스를 사용할 경우, [-문자열의 길이, -1]\n",
    "  - 범위를 넘어갈 경우 에러 발생한다."
   ]
  },
  {
   "cell_type": "markdown",
   "id": "287d6073",
   "metadata": {},
   "source": [
    "## 문자열 slicing\n",
    "  - slicing은 부분 문자열을 추출한다.\n",
    "  - [시작:끝]와 같이 명시하여 (시작, 끝)에 해당하는 부분 문자열을 추출한다.\n",
    "  - 시작, 끝 인덱스가 생략이 되어 있다면, 0부터 혹은 끝까지로 간주한다."
   ]
  },
  {
   "cell_type": "code",
   "execution_count": 32,
   "id": "616e1c34",
   "metadata": {},
   "outputs": [
    {
     "name": "stdout",
     "output_type": "stream",
     "text": [
      "el\n"
     ]
    }
   ],
   "source": [
    "print(s[1:3])"
   ]
  },
  {
   "cell_type": "code",
   "execution_count": 33,
   "id": "ff861da0",
   "metadata": {},
   "outputs": [
    {
     "name": "stdout",
     "output_type": "stream",
     "text": [
      "hello python\n"
     ]
    }
   ],
   "source": [
    "print(s[:])"
   ]
  },
  {
   "cell_type": "code",
   "execution_count": 34,
   "id": "6104d338",
   "metadata": {},
   "outputs": [
    {
     "name": "stdout",
     "output_type": "stream",
     "text": [
      "hlopto\n"
     ]
    }
   ],
   "source": [
    "print(s[::2])"
   ]
  },
  {
   "cell_type": "code",
   "execution_count": 37,
   "id": "e8846668",
   "metadata": {},
   "outputs": [
    {
     "name": "stdout",
     "output_type": "stream",
     "text": [
      "nohtyp olleh\n"
     ]
    }
   ],
   "source": [
    "print(s[::-1])"
   ]
  },
  {
   "cell_type": "code",
   "execution_count": 39,
   "id": "8b0c9fd8",
   "metadata": {},
   "outputs": [
    {
     "name": "stdout",
     "output_type": "stream",
     "text": [
      "hello pytho\n"
     ]
    }
   ],
   "source": [
    "print(s[:-1])"
   ]
  },
  {
   "cell_type": "code",
   "execution_count": 44,
   "id": "ee533a05",
   "metadata": {},
   "outputs": [
    {
     "name": "stdout",
     "output_type": "stream",
     "text": [
      "python\n"
     ]
    }
   ],
   "source": [
    "print(s[6:13])"
   ]
  },
  {
   "cell_type": "code",
   "execution_count": 46,
   "id": "e7ccc404",
   "metadata": {},
   "outputs": [
    {
     "name": "stdout",
     "output_type": "stream",
     "text": [
      "python\n"
     ]
    }
   ],
   "source": [
    "print(s[6:])"
   ]
  },
  {
   "cell_type": "markdown",
   "id": "e0036b0a",
   "metadata": {},
   "source": [
    "## 문자열 함수\n",
    "\n",
    "- 교재 329쪽부터 참고\n",
    "- 문자열은 여러가지 기능 제공을 위한 함수를 내장하고 있다.   \n",
    "- tab키를 이용해서 제공하는 함수들을 확인 할 수 있다. "
   ]
  },
  {
   "cell_type": "markdown",
   "id": "ce0b2f3a",
   "metadata": {},
   "source": [
    "* **replace** \n",
    " - 문자열 내의 특정 문자를 치환\n",
    "* **format**\n",
    " - 문자열내의 특정한 값을 변수로부터 초기화하여 동적으로 문자열을 생성 \n",
    "* **split**\n",
    " - 문자열을 특정한 문자 구분하여(delimiter) 문자열의 리스트로 치환\n",
    "* **join**\n",
    " - 구분자 문자열과 문자열 리스트 연결하기"
   ]
  },
  {
   "cell_type": "code",
   "execution_count": 49,
   "id": "d311f70a",
   "metadata": {},
   "outputs": [
    {
     "data": {
      "text/plain": [
       "'hello Python'"
      ]
     },
     "execution_count": 49,
     "metadata": {},
     "output_type": "execute_result"
    }
   ],
   "source": [
    "s.replace(\"p\",\"P\")"
   ]
  },
  {
   "cell_type": "code",
   "execution_count": 51,
   "id": "261cf95a",
   "metadata": {},
   "outputs": [
    {
     "data": {
      "text/plain": [
       "'ABC'"
      ]
     },
     "execution_count": 51,
     "metadata": {},
     "output_type": "execute_result"
    }
   ],
   "source": [
    "'abc'.upper()"
   ]
  },
  {
   "cell_type": "code",
   "execution_count": 52,
   "id": "00e7ea0c",
   "metadata": {},
   "outputs": [
    {
     "data": {
      "text/plain": [
       "'이건뭐.. 영어인가abc'"
      ]
     },
     "execution_count": 52,
     "metadata": {},
     "output_type": "execute_result"
    }
   ],
   "source": [
    "#format\n",
    "\"{}abc\".format(\"이건뭐.. 영어인가\")"
   ]
  },
  {
   "cell_type": "code",
   "execution_count": 62,
   "id": "c8dbf167",
   "metadata": {},
   "outputs": [
    {
     "data": {
      "text/plain": [
       "'이것도 영어인가봥 def'"
      ]
     },
     "execution_count": 62,
     "metadata": {},
     "output_type": "execute_result"
    }
   ],
   "source": [
    "st=\"이것도 영어인가봥\"\n",
    "f\"{st} def\""
   ]
  },
  {
   "cell_type": "code",
   "execution_count": 69,
   "id": "d3dad753",
   "metadata": {},
   "outputs": [
    {
     "data": {
      "text/plain": [
       "'영어 좀... ghi'"
      ]
     },
     "execution_count": 69,
     "metadata": {},
     "output_type": "execute_result"
    }
   ],
   "source": [
    "\"%s ghi\"%\"영어 좀...\""
   ]
  },
  {
   "cell_type": "code",
   "execution_count": 71,
   "id": "be8a27e1",
   "metadata": {},
   "outputs": [
    {
     "data": {
      "text/plain": [
       "1"
      ]
     },
     "execution_count": 71,
     "metadata": {},
     "output_type": "execute_result"
    }
   ],
   "source": [
    "s.count('p')"
   ]
  },
  {
   "cell_type": "code",
   "execution_count": 72,
   "id": "c4b8a98a",
   "metadata": {},
   "outputs": [
    {
     "data": {
      "text/plain": [
       "0"
      ]
     },
     "execution_count": 72,
     "metadata": {},
     "output_type": "execute_result"
    }
   ],
   "source": [
    "s.find(\"h\")"
   ]
  },
  {
   "cell_type": "code",
   "execution_count": 73,
   "id": "e2e9774f",
   "metadata": {},
   "outputs": [
    {
     "data": {
      "text/plain": [
       "{97: 49, 101: 50, 105: 51, 111: 52, 117: 53}"
      ]
     },
     "execution_count": 73,
     "metadata": {},
     "output_type": "execute_result"
    }
   ],
   "source": [
    "table = str.maketrans('aeiou',\"12345\")\n",
    "table"
   ]
  },
  {
   "cell_type": "code",
   "execution_count": 75,
   "id": "3276779a",
   "metadata": {},
   "outputs": [
    {
     "data": {
      "text/plain": [
       "'1ppl2'"
      ]
     },
     "execution_count": 75,
     "metadata": {},
     "output_type": "execute_result"
    }
   ],
   "source": [
    "\"apple\".translate(table)"
   ]
  },
  {
   "cell_type": "code",
   "execution_count": 76,
   "id": "8ea84bf8",
   "metadata": {},
   "outputs": [
    {
     "data": {
      "text/plain": [
       "'I am sona.'"
      ]
     },
     "execution_count": 76,
     "metadata": {},
     "output_type": "execute_result"
    }
   ],
   "source": [
    "'I am %s.'%'sona'"
   ]
  },
  {
   "cell_type": "code",
   "execution_count": 77,
   "id": "9dc8d039",
   "metadata": {},
   "outputs": [
    {
     "data": {
      "text/plain": [
       "'I am 32 years old'"
      ]
     },
     "execution_count": 77,
     "metadata": {},
     "output_type": "execute_result"
    }
   ],
   "source": [
    "'I am %d years old' %32"
   ]
  },
  {
   "cell_type": "code",
   "execution_count": 79,
   "id": "d07a801b",
   "metadata": {},
   "outputs": [
    {
     "data": {
      "text/plain": [
       "\"It's 166.700000 cm.\""
      ]
     },
     "execution_count": 79,
     "metadata": {},
     "output_type": "execute_result"
    }
   ],
   "source": [
    "\"It's %f cm.\" %166.7 #소수점은 기본 6자리로 고정됨"
   ]
  },
  {
   "cell_type": "code",
   "execution_count": 80,
   "id": "16159948",
   "metadata": {},
   "outputs": [
    {
     "data": {
      "text/plain": [
       "\"It's 166.70 cm.\""
      ]
     },
     "execution_count": 80,
     "metadata": {},
     "output_type": "execute_result"
    }
   ],
   "source": [
    "\"It's %.2f cm.\" %166.7 "
   ]
  },
  {
   "cell_type": "code",
   "execution_count": 81,
   "id": "2dfd4152",
   "metadata": {},
   "outputs": [
    {
     "data": {
      "text/plain": [
       "\"It's 166.7 cm.\""
      ]
     },
     "execution_count": 81,
     "metadata": {},
     "output_type": "execute_result"
    }
   ],
   "source": [
    "\"It's %.1f cm.\" %166.7 "
   ]
  },
  {
   "cell_type": "code",
   "execution_count": 83,
   "id": "df81e2b2",
   "metadata": {},
   "outputs": [
    {
     "data": {
      "text/plain": [
       "'      sona'"
      ]
     },
     "execution_count": 83,
     "metadata": {},
     "output_type": "execute_result"
    }
   ],
   "source": [
    "\"%10s\"%\"sona\""
   ]
  },
  {
   "cell_type": "code",
   "execution_count": 84,
   "id": "f71fa42a",
   "metadata": {},
   "outputs": [
    {
     "data": {
      "text/plain": [
       "'sona      '"
      ]
     },
     "execution_count": 84,
     "metadata": {},
     "output_type": "execute_result"
    }
   ],
   "source": [
    "\"%-10s\"%\"sona\""
   ]
  },
  {
   "cell_type": "code",
   "execution_count": 85,
   "id": "a2f5efdf",
   "metadata": {},
   "outputs": [
    {
     "data": {
      "text/plain": [
       "'001'"
      ]
     },
     "execution_count": 85,
     "metadata": {},
     "output_type": "execute_result"
    }
   ],
   "source": [
    "'1'.zfill(3)"
   ]
  },
  {
   "cell_type": "code",
   "execution_count": 86,
   "id": "16de4575",
   "metadata": {},
   "outputs": [
    {
     "data": {
      "text/plain": [
       "6"
      ]
     },
     "execution_count": 86,
     "metadata": {},
     "output_type": "execute_result"
    }
   ],
   "source": [
    "s.index('py')"
   ]
  },
  {
   "cell_type": "code",
   "execution_count": 87,
   "id": "60667d65",
   "metadata": {},
   "outputs": [
    {
     "data": {
      "text/plain": [
       "2"
      ]
     },
     "execution_count": 87,
     "metadata": {},
     "output_type": "execute_result"
    }
   ],
   "source": [
    "s.count(\"o\")"
   ]
  },
  {
   "cell_type": "code",
   "execution_count": 88,
   "id": "633af86b",
   "metadata": {},
   "outputs": [
    {
     "data": {
      "text/plain": [
       "'hello my,name,is.....'"
      ]
     },
     "execution_count": 88,
     "metadata": {},
     "output_type": "execute_result"
    }
   ],
   "source": [
    "\"hello {0},{1},{2}\".format(\"my\",\"name\",\"is.....\")"
   ]
  },
  {
   "cell_type": "code",
   "execution_count": 89,
   "id": "92720124",
   "metadata": {},
   "outputs": [
    {
     "data": {
      "text/plain": [
       "'      sona'"
      ]
     },
     "execution_count": 89,
     "metadata": {},
     "output_type": "execute_result"
    }
   ],
   "source": [
    "'sona'.rjust(10)"
   ]
  },
  {
   "cell_type": "code",
   "execution_count": 90,
   "id": "acc80a36",
   "metadata": {},
   "outputs": [
    {
     "data": {
      "text/plain": [
       "'sona      '"
      ]
     },
     "execution_count": 90,
     "metadata": {},
     "output_type": "execute_result"
    }
   ],
   "source": [
    "\"sona\".ljust(10)"
   ]
  },
  {
   "cell_type": "code",
   "execution_count": 97,
   "id": "d81ad3df",
   "metadata": {},
   "outputs": [
    {
     "data": {
      "text/plain": [
       "'my lord   '"
      ]
     },
     "execution_count": 97,
     "metadata": {},
     "output_type": "execute_result"
    }
   ],
   "source": [
    "'{0:<10}'.format('my lord')"
   ]
  },
  {
   "cell_type": "code",
   "execution_count": 99,
   "id": "2fb46902",
   "metadata": {},
   "outputs": [
    {
     "data": {
      "text/plain": [
       "'my lord   '"
      ]
     },
     "execution_count": 99,
     "metadata": {},
     "output_type": "execute_result"
    }
   ],
   "source": [
    "'{:<10}'.format('my lord')"
   ]
  },
  {
   "cell_type": "code",
   "execution_count": 101,
   "id": "020b7db4",
   "metadata": {},
   "outputs": [
    {
     "data": {
      "text/plain": [
       "'Thank you           '"
      ]
     },
     "execution_count": 101,
     "metadata": {},
     "output_type": "execute_result"
    }
   ],
   "source": [
    "'{1:<20}'.format('my lord',\"Thank you\")"
   ]
  },
  {
   "cell_type": "code",
   "execution_count": 96,
   "id": "851cba31",
   "metadata": {},
   "outputs": [
    {
     "data": {
      "text/plain": [
       "'   my lord'"
      ]
     },
     "execution_count": 96,
     "metadata": {},
     "output_type": "execute_result"
    }
   ],
   "source": [
    "'{0:>10}'.format('my lord')"
   ]
  },
  {
   "cell_type": "code",
   "execution_count": 103,
   "id": "9e9ad392",
   "metadata": {},
   "outputs": [
    {
     "data": {
      "text/plain": [
       "'Thank you00000000000'"
      ]
     },
     "execution_count": 103,
     "metadata": {},
     "output_type": "execute_result"
    }
   ],
   "source": [
    "'{1:0<20}'.format('my lord',\"Thank you\")"
   ]
  },
  {
   "cell_type": "code",
   "execution_count": 107,
   "id": "13474a93",
   "metadata": {},
   "outputs": [
    {
     "data": {
      "text/plain": [
       "'Thank youuuuuuuuuuuu'"
      ]
     },
     "execution_count": 107,
     "metadata": {},
     "output_type": "execute_result"
    }
   ],
   "source": [
    "'{1:u<20}'.format('my lord',\"Thank you\")"
   ]
  },
  {
   "cell_type": "code",
   "execution_count": 108,
   "id": "e6c3fa0f",
   "metadata": {},
   "outputs": [
    {
     "data": {
      "text/plain": [
       "['m', 'y', 'm', 'o', 'm']"
      ]
     },
     "execution_count": 108,
     "metadata": {},
     "output_type": "execute_result"
    }
   ],
   "source": [
    "'m-y-m-o-m'.split(\"-\")"
   ]
  },
  {
   "cell_type": "code",
   "execution_count": 112,
   "id": "3881ec59",
   "metadata": {},
   "outputs": [
    {
     "data": {
      "text/plain": [
       "'m-y-m-o-m'"
      ]
     },
     "execution_count": 112,
     "metadata": {},
     "output_type": "execute_result"
    }
   ],
   "source": [
    "a= 'm','y','m','o','m'\n",
    "\"-\".join(a)"
   ]
  },
  {
   "cell_type": "code",
   "execution_count": 118,
   "id": "c8332f64",
   "metadata": {},
   "outputs": [
    {
     "data": {
      "text/plain": [
       "'m❤y❤m❤o❤m'"
      ]
     },
     "execution_count": 118,
     "metadata": {},
     "output_type": "execute_result"
    }
   ],
   "source": [
    "love=\"❤\".join(a)\n",
    "love"
   ]
  },
  {
   "cell_type": "code",
   "execution_count": 117,
   "id": "04ae2767",
   "metadata": {},
   "outputs": [
    {
     "data": {
      "text/plain": [
       "['m', 'y', 'm', 'o', 'm']"
      ]
     },
     "execution_count": 117,
     "metadata": {},
     "output_type": "execute_result"
    }
   ],
   "source": [
    "love.split(\"❤\")"
   ]
  },
  {
   "cell_type": "code",
   "execution_count": 120,
   "id": "bd8070fd",
   "metadata": {},
   "outputs": [
    {
     "data": {
      "text/plain": [
       "'m🌹y🌹m🌹o🌹m'"
      ]
     },
     "execution_count": 120,
     "metadata": {},
     "output_type": "execute_result"
    }
   ],
   "source": [
    "rule=str.maketrans(\"❤\",\"🌹\")\n",
    "love.translate(rule)"
   ]
  },
  {
   "cell_type": "markdown",
   "id": "30a28bf9",
   "metadata": {},
   "source": [
    "* 특정문자 삭제"
   ]
  },
  {
   "cell_type": "code",
   "execution_count": 124,
   "id": "7fc4e1e8",
   "metadata": {},
   "outputs": [
    {
     "data": {
      "text/plain": [
       "\" I'm hungry\""
      ]
     },
     "execution_count": 124,
     "metadata": {},
     "output_type": "execute_result"
    }
   ],
   "source": [
    "s= \"* I'm hungry.\"\n",
    "s.strip(\"*.\")"
   ]
  },
  {
   "cell_type": "code",
   "execution_count": 133,
   "id": "1f9aaf48",
   "metadata": {},
   "outputs": [
    {
     "name": "stdout",
     "output_type": "stream",
     "text": [
      "!\"#$%&'()*+,-./:;<=>?@[\\]^_`{|}~\n"
     ]
    }
   ],
   "source": [
    "#문장부호 찾기\n",
    "\n",
    "import string\n",
    "print(string.punctuation)"
   ]
  },
  {
   "cell_type": "code",
   "execution_count": 132,
   "id": "8a8439d9",
   "metadata": {
    "scrolled": true
   },
   "outputs": [
    {
     "data": {
      "text/plain": [
       "''"
      ]
     },
     "execution_count": 132,
     "metadata": {},
     "output_type": "execute_result"
    }
   ],
   "source": [
    "blah = '!\"#$%&()*-:;<=>?@[\\]^_`{|}~'\n",
    "\n",
    "blah.strip(string.punctuation)\n"
   ]
  },
  {
   "cell_type": "code",
   "execution_count": null,
   "id": "34341e95",
   "metadata": {},
   "outputs": [],
   "source": []
  },
  {
   "cell_type": "markdown",
   "id": "f5af2c03",
   "metadata": {},
   "source": [
    "* 비교연산  is 같은 객체인   is not 같은 객체가 아닌..  x or y , x and y , not x\n",
    "* 문자열 타입\n",
    " -  데이터가 여러 문자로 구성되어 있고 다른 문자와 연결될 수 있으며 데이터에 포함된 문자열의 길이를 확인 할 수 있는 데이터 타입\n",
    " - 파이썬에서 문자열 데이터 타입은 str  여러줄로 표현할때는 ''' '''  또는 \"\"\" \"\"\"\n",
    " - 변할 수 없는 (immutable) vs 변할 수 있는 (mutabel)"
   ]
  },
  {
   "cell_type": "code",
   "execution_count": 134,
   "id": "c16bf0d8",
   "metadata": {},
   "outputs": [],
   "source": [
    "a = \"sona\"\n",
    "b = \"sona\""
   ]
  },
  {
   "cell_type": "code",
   "execution_count": 136,
   "id": "77419761",
   "metadata": {},
   "outputs": [
    {
     "name": "stdout",
     "output_type": "stream",
     "text": [
      "True\n"
     ]
    }
   ],
   "source": [
    "print( a==b )"
   ]
  },
  {
   "cell_type": "code",
   "execution_count": 137,
   "id": "45595b5c",
   "metadata": {},
   "outputs": [
    {
     "name": "stdout",
     "output_type": "stream",
     "text": [
      "True\n"
     ]
    }
   ],
   "source": [
    "print( a is b)"
   ]
  },
  {
   "cell_type": "code",
   "execution_count": 138,
   "id": "6178fbce",
   "metadata": {},
   "outputs": [
    {
     "name": "stdout",
     "output_type": "stream",
     "text": [
      "sona 1507991870000 sona 1507991870000\n"
     ]
    }
   ],
   "source": [
    "print( a, id(a), b, id(b)) #문자열의 경우 동일 내용이면 id 동일함"
   ]
  },
  {
   "cell_type": "code",
   "execution_count": 141,
   "id": "501b086a",
   "metadata": {},
   "outputs": [
    {
     "name": "stdout",
     "output_type": "stream",
     "text": [
      "sona 1507991870000 sona 1507991870000\n"
     ]
    }
   ],
   "source": [
    "c = a\n",
    "print( a, id(a), c, id(c) )"
   ]
  },
  {
   "cell_type": "code",
   "execution_count": 142,
   "id": "8752a0e0",
   "metadata": {},
   "outputs": [
    {
     "data": {
      "text/plain": [
       "True"
      ]
     },
     "execution_count": 142,
     "metadata": {},
     "output_type": "execute_result"
    }
   ],
   "source": [
    "b==c"
   ]
  },
  {
   "cell_type": "markdown",
   "id": "de6913c7",
   "metadata": {},
   "source": [
    "**리스트와 튜플은** 복수의 값을 담을 수 있는 데이터 구조이다.\n",
    "\n",
    "* list - mutable    (생성된 후에 변경 가능)  \n",
    "* tuple - immutable (생성된 후에 변경 불가능)  "
   ]
  },
  {
   "cell_type": "markdown",
   "id": "d02a792b",
   "metadata": {},
   "source": [
    "# 리스트(list)"
   ]
  },
  {
   "cell_type": "markdown",
   "id": "5427809a",
   "metadata": {},
   "source": [
    "## 리스트 만들기\n",
    " \n",
    "```\n",
    "리스트 = []\n",
    "리스트 = list()\n",
    " ```"
   ]
  },
  {
   "cell_type": "code",
   "execution_count": 147,
   "id": "dca98038",
   "metadata": {},
   "outputs": [
    {
     "name": "stdout",
     "output_type": "stream",
     "text": [
      "<class 'list'> <class 'list'>\n"
     ]
    }
   ],
   "source": [
    "# 변수명으로 list쓰면 안된다!!!\n",
    "\n",
    "a = []\n",
    "b = list()\n",
    "\n",
    "print(type(a), type(b))"
   ]
  },
  {
   "cell_type": "markdown",
   "id": "27456fc9",
   "metadata": {},
   "source": [
    "**비교하기**😃"
   ]
  },
  {
   "cell_type": "code",
   "execution_count": 163,
   "id": "5d020dd9",
   "metadata": {},
   "outputs": [
    {
     "data": {
      "text/plain": [
       "['ccc']"
      ]
     },
     "execution_count": 163,
     "metadata": {},
     "output_type": "execute_result"
    }
   ],
   "source": [
    "c ='ccc'.split()\n",
    "c"
   ]
  },
  {
   "cell_type": "code",
   "execution_count": 162,
   "id": "809ee5af",
   "metadata": {},
   "outputs": [
    {
     "data": {
      "text/plain": [
       "['c', 'c', 'c']"
      ]
     },
     "execution_count": 162,
     "metadata": {},
     "output_type": "execute_result"
    }
   ],
   "source": [
    "c=list(\"ccc\")\n",
    "c"
   ]
  },
  {
   "cell_type": "markdown",
   "id": "5683ae7e",
   "metadata": {},
   "source": [
    "## 리스트로 형변환하기\n",
    "\n",
    "\n",
    " - [] 안에 값을 담아서 생성한다.\n",
    " - list() 함수로 생성한다.\n",
    " - 문자열.split()함수로 생성한다."
   ]
  },
  {
   "cell_type": "code",
   "execution_count": 150,
   "id": "05f89b0e",
   "metadata": {},
   "outputs": [
    {
     "data": {
      "text/plain": [
       "list"
      ]
     },
     "execution_count": 150,
     "metadata": {},
     "output_type": "execute_result"
    }
   ],
   "source": [
    "d = \"cloth\"\n",
    "d = list(d)\n",
    "type(d)"
   ]
  },
  {
   "cell_type": "code",
   "execution_count": 165,
   "id": "dca75a44",
   "metadata": {},
   "outputs": [
    {
     "data": {
      "text/plain": [
       "list"
      ]
     },
     "execution_count": 165,
     "metadata": {},
     "output_type": "execute_result"
    }
   ],
   "source": [
    "e = \"pant\"\n",
    "e = [e]\n",
    "type(e)"
   ]
  },
  {
   "cell_type": "code",
   "execution_count": 170,
   "id": "8ec365c4",
   "metadata": {},
   "outputs": [
    {
     "name": "stdout",
     "output_type": "stream",
     "text": [
      "True\n",
      "1508025305920 1508025336896\n"
     ]
    }
   ],
   "source": [
    "l=[]\n",
    "ll=[]\n",
    "print(l==ll)\n",
    "print(id(l), id(ll)) # 문자열과는 달리 리스트의 경우 값이 같아도 id값이 다름"
   ]
  },
  {
   "cell_type": "markdown",
   "id": "d6401519",
   "metadata": {},
   "source": [
    "## 리스트 인덱싱\n",
    " \n",
    " * 문자열의 인덱싱과 동일하게 동작한다.\n",
    " * [] 연산자를 이용하여 항목 얻어오기\n",
    " * [i] - i번째 원소를 반환\n",
    " * i가 음수인 경우도 가능하며 마지막원소가 -1로 하여 앞으로 갈때마다 1씩 감소함"
   ]
  },
  {
   "cell_type": "code",
   "execution_count": 175,
   "id": "5d633e23",
   "metadata": {},
   "outputs": [
    {
     "name": "stdout",
     "output_type": "stream",
     "text": [
      "['h', 'e', 'l', 'l', 'o', ' ', 'p', 'y', 't', 'h', 'o', 'n', ' ', 'h', 'a', 'h', 'a']\n"
     ]
    }
   ],
   "source": [
    "t = \"hello python haha\"\n",
    "list_t = list(t)\n",
    "print(list_t)"
   ]
  },
  {
   "cell_type": "code",
   "execution_count": 178,
   "id": "7021c76b",
   "metadata": {},
   "outputs": [
    {
     "data": {
      "text/plain": [
       "'o'"
      ]
     },
     "execution_count": 178,
     "metadata": {},
     "output_type": "execute_result"
    }
   ],
   "source": [
    "list_t[4]"
   ]
  },
  {
   "cell_type": "code",
   "execution_count": 179,
   "id": "1eea7d9e",
   "metadata": {},
   "outputs": [
    {
     "data": {
      "text/plain": [
       "'a'"
      ]
     },
     "execution_count": 179,
     "metadata": {},
     "output_type": "execute_result"
    }
   ],
   "source": [
    "list_t[-1]"
   ]
  },
  {
   "cell_type": "code",
   "execution_count": 185,
   "id": "3ecf7cda",
   "metadata": {},
   "outputs": [
    {
     "data": {
      "text/plain": [
       "5"
      ]
     },
     "execution_count": 185,
     "metadata": {},
     "output_type": "execute_result"
    }
   ],
   "source": [
    "list_a=[1,2,3,[4,5,6],7]\n",
    "\n",
    "list_a[3][1]"
   ]
  },
  {
   "cell_type": "markdown",
   "id": "9f8368f6",
   "metadata": {},
   "source": [
    "* 리스트 인덱싱을 할때 몇 차원이 되었든 하나씩 자리값을 써내려가면 됨"
   ]
  },
  {
   "cell_type": "markdown",
   "id": "890d0669",
   "metadata": {},
   "source": [
    "## 리스트 개별 아이템에 접근\n",
    " - 인덱스에 접근하여 값을 업데이트 가능"
   ]
  },
  {
   "cell_type": "code",
   "execution_count": 192,
   "id": "2dda5549",
   "metadata": {},
   "outputs": [
    {
     "data": {
      "text/plain": [
       "'hello python haha'"
      ]
     },
     "execution_count": 192,
     "metadata": {},
     "output_type": "execute_result"
    }
   ],
   "source": [
    "t"
   ]
  },
  {
   "cell_type": "code",
   "execution_count": 195,
   "id": "f0e327fc",
   "metadata": {},
   "outputs": [],
   "source": [
    "lt= list(t)\n",
    "\n",
    "lt[0]=\"H\""
   ]
  },
  {
   "cell_type": "code",
   "execution_count": 199,
   "id": "0a9ec4ee",
   "metadata": {},
   "outputs": [
    {
     "name": "stdout",
     "output_type": "stream",
     "text": [
      "['H', 'e', 'l', 'l', 'o', ' ', 'p', 'y', 't', 'h', 'o', 'n', ' ', 'h', 'a', 'h', 'a']\n"
     ]
    }
   ],
   "source": [
    "print(lt)"
   ]
  },
  {
   "cell_type": "code",
   "execution_count": 204,
   "id": "ccc584b2",
   "metadata": {},
   "outputs": [
    {
     "name": "stdout",
     "output_type": "stream",
     "text": [
      "aah <class 'str'>\n"
     ]
    }
   ],
   "source": [
    "elt= 'aa' + t[0]\n",
    "print(elt, type(elt))"
   ]
  },
  {
   "cell_type": "code",
   "execution_count": 206,
   "id": "5684c633",
   "metadata": {},
   "outputs": [
    {
     "name": "stdout",
     "output_type": "stream",
     "text": [
      "aahe <class 'str'>\n"
     ]
    }
   ],
   "source": [
    "elt2= 'aa' + t[0:2]\n",
    "print(elt2, type(elt2)) #문자열 + 인덱싱해서 나온 값 => 문자열"
   ]
  },
  {
   "cell_type": "code",
   "execution_count": 209,
   "id": "e0281695",
   "metadata": {},
   "outputs": [
    {
     "name": "stdout",
     "output_type": "stream",
     "text": [
      "['H', 'e', 'l', 'l', 'o', ' ', 'P', 'y', 't', 'h', 'o', 'n', ' ', 'h', 'a', 'h', 'a']\n"
     ]
    }
   ],
   "source": [
    "lt[6]='P'\n",
    "print(lt)"
   ]
  },
  {
   "cell_type": "markdown",
   "id": "3d8a64fd",
   "metadata": {},
   "source": [
    "## 리스트 slicing\n",
    " - 문자열 슬라이싱과 동일하게 동작한다.\n",
    " - 슬라이싱의 결과 역시 list 이다."
   ]
  },
  {
   "cell_type": "code",
   "execution_count": 210,
   "id": "bfc7e07e",
   "metadata": {},
   "outputs": [
    {
     "data": {
      "text/plain": [
       "[1, 2, 3, 4, 5, 6, 7, 8, 9, 10]"
      ]
     },
     "execution_count": 210,
     "metadata": {},
     "output_type": "execute_result"
    }
   ],
   "source": [
    "a = [1,2,3,4,5,6,7,8,9,10]\n",
    "a[:]"
   ]
  },
  {
   "cell_type": "code",
   "execution_count": 211,
   "id": "c710bb17",
   "metadata": {},
   "outputs": [
    {
     "data": {
      "text/plain": [
       "[1, 2, 3, 4, 5, 6, 7, 8, 9]"
      ]
     },
     "execution_count": 211,
     "metadata": {},
     "output_type": "execute_result"
    }
   ],
   "source": [
    "a[:-1]"
   ]
  },
  {
   "cell_type": "code",
   "execution_count": 213,
   "id": "3942c0d5",
   "metadata": {},
   "outputs": [
    {
     "data": {
      "text/plain": [
       "[10]"
      ]
     },
     "execution_count": 213,
     "metadata": {},
     "output_type": "execute_result"
    }
   ],
   "source": [
    "a[-1:]"
   ]
  },
  {
   "cell_type": "code",
   "execution_count": 215,
   "id": "ebd31731",
   "metadata": {},
   "outputs": [
    {
     "data": {
      "text/plain": [
       "[10, 9, 8, 7, 6, 5, 4, 3, 2, 1]"
      ]
     },
     "execution_count": 215,
     "metadata": {},
     "output_type": "execute_result"
    }
   ],
   "source": [
    "a[::-1] #역순"
   ]
  },
  {
   "cell_type": "code",
   "execution_count": 217,
   "id": "35f765c3",
   "metadata": {},
   "outputs": [
    {
     "data": {
      "text/plain": [
       "[1, 3, 5, 7, 9]"
      ]
     },
     "execution_count": 217,
     "metadata": {},
     "output_type": "execute_result"
    }
   ],
   "source": [
    "a[::2]"
   ]
  },
  {
   "cell_type": "markdown",
   "id": "87e677aa",
   "metadata": {},
   "source": [
    "## list 함수\n",
    "\n",
    "* 288쪽 교재참고"
   ]
  },
  {
   "cell_type": "markdown",
   "id": "e346da24",
   "metadata": {},
   "source": [
    "* **append()**\n",
    " + 리스트의 끝에 항목을 추가한다."
   ]
  },
  {
   "cell_type": "code",
   "execution_count": 223,
   "id": "8f1d5d07",
   "metadata": {},
   "outputs": [],
   "source": [
    "a = [1,2,3,4,5,6,7]"
   ]
  },
  {
   "cell_type": "code",
   "execution_count": 224,
   "id": "d66a54eb",
   "metadata": {},
   "outputs": [],
   "source": [
    "a.append(8)"
   ]
  },
  {
   "cell_type": "code",
   "execution_count": 225,
   "id": "1cd69370",
   "metadata": {},
   "outputs": [
    {
     "data": {
      "text/plain": [
       "[1, 2, 3, 4, 5, 6, 7, 8]"
      ]
     },
     "execution_count": 225,
     "metadata": {},
     "output_type": "execute_result"
    }
   ],
   "source": [
    "a"
   ]
  },
  {
   "cell_type": "code",
   "execution_count": 227,
   "id": "06a4c257",
   "metadata": {},
   "outputs": [
    {
     "data": {
      "text/plain": [
       "[1, 2, 3, 4, 5, 6, 7, 8, [9, 10, 11]]"
      ]
     },
     "execution_count": 227,
     "metadata": {},
     "output_type": "execute_result"
    }
   ],
   "source": [
    "a.append([9,10,11])\n",
    "a"
   ]
  },
  {
   "cell_type": "code",
   "execution_count": 231,
   "id": "32d0a728",
   "metadata": {},
   "outputs": [
    {
     "data": {
      "text/plain": [
       "[1, 2, 3, 4, 5, 6, 7, 8, [9, 10, 11], 12]"
      ]
     },
     "execution_count": 231,
     "metadata": {},
     "output_type": "execute_result"
    }
   ],
   "source": [
    "a.append(12)\n",
    "a"
   ]
  },
  {
   "cell_type": "markdown",
   "id": "cf368f27",
   "metadata": {},
   "source": [
    "+ **extend()**\n",
    " * 리스트를 연장한다.\n",
    " * += 로도 가능하다.\n"
   ]
  },
  {
   "cell_type": "code",
   "execution_count": 232,
   "id": "7349fad7",
   "metadata": {},
   "outputs": [
    {
     "name": "stdout",
     "output_type": "stream",
     "text": [
      "[1, 2, 3, 4, 5, 6]\n"
     ]
    }
   ],
   "source": [
    "a1 = [1,2,3]\n",
    "a2 = [4,5,6]\n",
    "\n",
    "a1.extend(a2)\n",
    "print(a1)"
   ]
  },
  {
   "cell_type": "code",
   "execution_count": 260,
   "id": "70e6c071",
   "metadata": {},
   "outputs": [],
   "source": [
    "# append와 extend 비교하기\n",
    "\n",
    "d1 = [1,2,3]\n",
    "d2 = [1,2,3]"
   ]
  },
  {
   "cell_type": "code",
   "execution_count": 250,
   "id": "dca22e44",
   "metadata": {},
   "outputs": [
    {
     "name": "stdout",
     "output_type": "stream",
     "text": [
      "[1, 2, 3, [4, 5]]\n"
     ]
    }
   ],
   "source": [
    "d1.append([4,5])\n",
    "print(d1)"
   ]
  },
  {
   "cell_type": "code",
   "execution_count": 261,
   "id": "47f853fd",
   "metadata": {},
   "outputs": [
    {
     "name": "stdout",
     "output_type": "stream",
     "text": [
      "[1, 2, 3, 4, 5]\n"
     ]
    }
   ],
   "source": [
    "d2.extend([4,5])\n",
    "print(d2)"
   ]
  },
  {
   "cell_type": "markdown",
   "id": "7830946f",
   "metadata": {},
   "source": [
    "+ **insert()로 항목추가**\n",
    " * 리스트의 원하는 위치에 추가 가능하다.\n",
    " * 앞에 인덱스를, 뒤에 아이템을 명시한다."
   ]
  },
  {
   "cell_type": "code",
   "execution_count": 262,
   "id": "a23b789f",
   "metadata": {},
   "outputs": [
    {
     "data": {
      "text/plain": [
       "[1, 2, 3, 4, 5]"
      ]
     },
     "execution_count": 262,
     "metadata": {},
     "output_type": "execute_result"
    }
   ],
   "source": [
    "d2"
   ]
  },
  {
   "cell_type": "code",
   "execution_count": 263,
   "id": "361f903d",
   "metadata": {},
   "outputs": [
    {
     "data": {
      "text/plain": [
       "[0, 2, 3, 4, 5]"
      ]
     },
     "execution_count": 263,
     "metadata": {},
     "output_type": "execute_result"
    }
   ],
   "source": [
    "d2[0]=0\n",
    "d2"
   ]
  },
  {
   "cell_type": "code",
   "execution_count": 264,
   "id": "45b8858a",
   "metadata": {},
   "outputs": [],
   "source": [
    "d2.insert(1,1)"
   ]
  },
  {
   "cell_type": "code",
   "execution_count": 265,
   "id": "8aba977c",
   "metadata": {},
   "outputs": [
    {
     "data": {
      "text/plain": [
       "[0, 1, 2, 3, 4, 5]"
      ]
     },
     "execution_count": 265,
     "metadata": {},
     "output_type": "execute_result"
    }
   ],
   "source": [
    "d2"
   ]
  },
  {
   "cell_type": "markdown",
   "id": "8f0093c9",
   "metadata": {},
   "source": [
    "+ **remove()**\n",
    " * 값으로 항목 삭제한다."
   ]
  },
  {
   "cell_type": "code",
   "execution_count": 266,
   "id": "9e538b03",
   "metadata": {},
   "outputs": [
    {
     "data": {
      "text/plain": [
       "[1, 2, 3, 4, 5]"
      ]
     },
     "execution_count": 266,
     "metadata": {},
     "output_type": "execute_result"
    }
   ],
   "source": [
    "d2.remove(0) #remove는 직접적으로 값을 써줌\n",
    "d2"
   ]
  },
  {
   "cell_type": "code",
   "execution_count": 267,
   "id": "3937e790",
   "metadata": {},
   "outputs": [
    {
     "data": {
      "text/plain": [
       "[1, 2, 3, 4]"
      ]
     },
     "execution_count": 267,
     "metadata": {},
     "output_type": "execute_result"
    }
   ],
   "source": [
    "#del과 비교하기 del은 인덱싱으로 지정하여 써줌\n",
    "del d2[4]\n",
    "d2"
   ]
  },
  {
   "cell_type": "markdown",
   "id": "f13f3c23",
   "metadata": {},
   "source": [
    "+ **pop()**\n",
    "  - 지우고자 하는 아이템을 반환 후, 삭제한다.\n",
    "\n"
   ]
  },
  {
   "cell_type": "code",
   "execution_count": 270,
   "id": "55f78558",
   "metadata": {},
   "outputs": [
    {
     "data": {
      "text/plain": [
       "[4, 5]"
      ]
     },
     "execution_count": 270,
     "metadata": {},
     "output_type": "execute_result"
    }
   ],
   "source": [
    "r=[4,5,6]\n",
    "r.pop()\n",
    "r"
   ]
  },
  {
   "cell_type": "code",
   "execution_count": 271,
   "id": "1309e931",
   "metadata": {},
   "outputs": [
    {
     "data": {
      "text/plain": [
       "[5]"
      ]
     },
     "execution_count": 271,
     "metadata": {},
     "output_type": "execute_result"
    }
   ],
   "source": [
    "r.pop(0)\n",
    "r"
   ]
  },
  {
   "cell_type": "markdown",
   "id": "fb46ede0",
   "metadata": {},
   "source": [
    "+ **index()**\n",
    " * 찾고자 하는 값의 인덱스 반환한다."
   ]
  },
  {
   "cell_type": "code",
   "execution_count": 272,
   "id": "ffac84a4",
   "metadata": {},
   "outputs": [
    {
     "data": {
      "text/plain": [
       "2"
      ]
     },
     "execution_count": 272,
     "metadata": {},
     "output_type": "execute_result"
    }
   ],
   "source": [
    "a = [1,2,3,4,5]\n",
    "a.index(3)"
   ]
  },
  {
   "cell_type": "markdown",
   "id": "c19cd8a8",
   "metadata": {},
   "source": [
    "* **in 키워드** =>함수가 아니라 키워드!\n",
    " + 리스트 내에 해당 값이 존재하는지 확인한다.\n",
    " + value in [list]\n",
    " + True, False 중 한가지로 반환한다. "
   ]
  },
  {
   "cell_type": "code",
   "execution_count": 273,
   "id": "3ab2c939",
   "metadata": {},
   "outputs": [
    {
     "data": {
      "text/plain": [
       "True"
      ]
     },
     "execution_count": 273,
     "metadata": {},
     "output_type": "execute_result"
    }
   ],
   "source": [
    "2 in a"
   ]
  },
  {
   "cell_type": "code",
   "execution_count": 274,
   "id": "0897827e",
   "metadata": {},
   "outputs": [
    {
     "data": {
      "text/plain": [
       "False"
      ]
     },
     "execution_count": 274,
     "metadata": {},
     "output_type": "execute_result"
    }
   ],
   "source": [
    "6 in a"
   ]
  },
  {
   "cell_type": "markdown",
   "id": "d38eb741",
   "metadata": {},
   "source": [
    "* **list 정렬**\n",
    " + .sort() -> 리스트 자체를 내부적으로 정렬한다.  \n",
    " => list가 갖고 있는 함수\n",
    " + sorted() -> 리스트의 정렬된 복사본을 반환한다.  \n",
    " => 내장함수, 정렬을 하고 싶지만 복사본은 유지하고 싶을 떄 sorted 사용함!!"
   ]
  },
  {
   "cell_type": "code",
   "execution_count": 275,
   "id": "8af32982",
   "metadata": {},
   "outputs": [],
   "source": [
    "q = [3,2,4,1,5]\n",
    "w = [3,2,4,1,5]"
   ]
  },
  {
   "cell_type": "code",
   "execution_count": 276,
   "id": "a2c5c2e7",
   "metadata": {},
   "outputs": [],
   "source": [
    "# sort\n",
    "q.sort()"
   ]
  },
  {
   "cell_type": "code",
   "execution_count": 277,
   "id": "c0f732e2",
   "metadata": {},
   "outputs": [
    {
     "data": {
      "text/plain": [
       "[1, 2, 3, 4, 5]"
      ]
     },
     "execution_count": 277,
     "metadata": {},
     "output_type": "execute_result"
    }
   ],
   "source": [
    "q"
   ]
  },
  {
   "cell_type": "code",
   "execution_count": 282,
   "id": "160cc8b8",
   "metadata": {},
   "outputs": [
    {
     "data": {
      "text/plain": [
       "[1, 2, 3, 4, 5]"
      ]
     },
     "execution_count": 282,
     "metadata": {},
     "output_type": "execute_result"
    }
   ],
   "source": [
    "# sorted\n",
    "sorted(w)"
   ]
  },
  {
   "cell_type": "code",
   "execution_count": 295,
   "id": "85ff1769",
   "metadata": {},
   "outputs": [
    {
     "data": {
      "text/plain": [
       "[3, 2, 4, 1, 5]"
      ]
     },
     "execution_count": 295,
     "metadata": {},
     "output_type": "execute_result"
    }
   ],
   "source": [
    "w #복사본을 반환하니까 변수 설정을 해줘야함"
   ]
  },
  {
   "cell_type": "markdown",
   "id": "32b9e2cb",
   "metadata": {},
   "source": [
    "* reverse 역순정렬\n",
    "* reversed 역순정렬"
   ]
  },
  {
   "cell_type": "code",
   "execution_count": 305,
   "id": "b5d7aba1",
   "metadata": {},
   "outputs": [],
   "source": [
    "e = [3,2,4,1,5]\n",
    "r = [3,2,4,1,5]"
   ]
  },
  {
   "cell_type": "code",
   "execution_count": 313,
   "id": "d04218f8",
   "metadata": {},
   "outputs": [
    {
     "data": {
      "text/plain": [
       "[5, 4, 3, 2, 1]"
      ]
     },
     "execution_count": 313,
     "metadata": {},
     "output_type": "execute_result"
    }
   ],
   "source": [
    "e.sort(reverse=True)\n",
    "e"
   ]
  },
  {
   "cell_type": "markdown",
   "id": "dceb093d",
   "metadata": {},
   "source": [
    "**<비교하기>** reverse 리스트함수와 reversed 내장함수"
   ]
  },
  {
   "cell_type": "code",
   "execution_count": 310,
   "id": "63fdaa6a",
   "metadata": {},
   "outputs": [
    {
     "data": {
      "text/plain": [
       "[5, 1, 4, 2, 3]"
      ]
     },
     "execution_count": 310,
     "metadata": {},
     "output_type": "execute_result"
    }
   ],
   "source": [
    "[i for i in reversed(r)] #reversed는 내장함수니까 사본"
   ]
  },
  {
   "cell_type": "code",
   "execution_count": 311,
   "id": "ece2efc5",
   "metadata": {},
   "outputs": [
    {
     "data": {
      "text/plain": [
       "[3, 2, 4, 1, 5]"
      ]
     },
     "execution_count": 311,
     "metadata": {},
     "output_type": "execute_result"
    }
   ],
   "source": [
    "r"
   ]
  },
  {
   "cell_type": "code",
   "execution_count": 312,
   "id": "193f8bb4",
   "metadata": {
    "scrolled": true
   },
   "outputs": [
    {
     "name": "stdout",
     "output_type": "stream",
     "text": [
      "[5, 1, 4, 2, 3]\n"
     ]
    }
   ],
   "source": [
    "r.reverse() #reverse는 리스트 함수니까 반영이 된다.\n",
    "print(r)"
   ]
  },
  {
   "cell_type": "markdown",
   "id": "f6441f08",
   "metadata": {},
   "source": [
    "* **range를 사용하여 리스트 만들기**\n",
    "  + range(횟수)\n",
    "  + 리스트 = list(range(횟수))\n",
    "  + 리스트 = list(range(시작, 끝))\n",
    "  + 리스트 = list(range(시작, 끝, 증가폭))"
   ]
  },
  {
   "cell_type": "code",
   "execution_count": 286,
   "id": "98f68820",
   "metadata": {},
   "outputs": [
    {
     "data": {
      "text/plain": [
       "[1, 2, 3, 4, 5]"
      ]
     },
     "execution_count": 286,
     "metadata": {},
     "output_type": "execute_result"
    }
   ],
   "source": [
    "list(range(1,6))"
   ]
  },
  {
   "cell_type": "code",
   "execution_count": 287,
   "id": "f8e173bc",
   "metadata": {},
   "outputs": [
    {
     "data": {
      "text/plain": [
       "[0, 1, 2, 3, 4, 5]"
      ]
     },
     "execution_count": 287,
     "metadata": {},
     "output_type": "execute_result"
    }
   ],
   "source": [
    "list(range(6))"
   ]
  },
  {
   "cell_type": "code",
   "execution_count": 289,
   "id": "50f28e67",
   "metadata": {},
   "outputs": [
    {
     "data": {
      "text/plain": [
       "[1, 3, 5, 7, 9]"
      ]
     },
     "execution_count": 289,
     "metadata": {},
     "output_type": "execute_result"
    }
   ],
   "source": [
    "list(range(1,11,2))"
   ]
  },
  {
   "cell_type": "code",
   "execution_count": 292,
   "id": "41fff57d",
   "metadata": {},
   "outputs": [
    {
     "data": {
      "text/plain": [
       "[0, 2, 4, 6, 8, 10]"
      ]
     },
     "execution_count": 292,
     "metadata": {},
     "output_type": "execute_result"
    }
   ],
   "source": [
    "list(range(0,11,2))"
   ]
  },
  {
   "cell_type": "code",
   "execution_count": 294,
   "id": "489b7fb0",
   "metadata": {},
   "outputs": [
    {
     "data": {
      "text/plain": [
       "[-1, 0, 1, 2, 3, 4]"
      ]
     },
     "execution_count": 294,
     "metadata": {},
     "output_type": "execute_result"
    }
   ],
   "source": [
    "list(range(-1,5))"
   ]
  },
  {
   "cell_type": "markdown",
   "id": "64971aa5",
   "metadata": {},
   "source": [
    "# 튜플"
   ]
  },
  {
   "cell_type": "markdown",
   "id": "5afa8ce5",
   "metadata": {},
   "source": [
    " - 리스트와 같이 복수개의 값을 갖는 컬렉션 타입이다. \n",
    " - 생성된 후 변경이 불가능하다. \n",
    " - 읽기전용 리스트이다. \n",
    " \n",
    " \n",
    "   + 튜플 = (값,값,값)\n",
    "   + 튜플 = 값, 값, 값\n",
    "   + 튜플 = (값,) - 요소가 하나일 때 튜플로 지정하려면 , 를 붙혀준다. \n",
    "   + 튜플 = 값, "
   ]
  },
  {
   "cell_type": "markdown",
   "id": "157cb62d",
   "metadata": {},
   "source": [
    "## 튜플 만들기"
   ]
  },
  {
   "cell_type": "code",
   "execution_count": 315,
   "id": "bb0a084e",
   "metadata": {},
   "outputs": [
    {
     "data": {
      "text/plain": [
       "tuple"
      ]
     },
     "execution_count": 315,
     "metadata": {},
     "output_type": "execute_result"
    }
   ],
   "source": [
    "b = 1,2,3\n",
    "type(b)"
   ]
  },
  {
   "cell_type": "code",
   "execution_count": 316,
   "id": "5c631384",
   "metadata": {},
   "outputs": [
    {
     "data": {
      "text/plain": [
       "tuple"
      ]
     },
     "execution_count": 316,
     "metadata": {},
     "output_type": "execute_result"
    }
   ],
   "source": [
    "c= 1,\n",
    "type(c) #요소가 하나인 튜플을 만들고 싶을땐 ,로 끝난다."
   ]
  },
  {
   "cell_type": "code",
   "execution_count": 322,
   "id": "eb9bc737",
   "metadata": {},
   "outputs": [
    {
     "name": "stdout",
     "output_type": "stream",
     "text": [
      "(1, 2, 3, 4) <class 'tuple'>\n"
     ]
    }
   ],
   "source": [
    "# range를 이용하여 tuple만들기 - 리스트와 동일하다. \n",
    "a= tuple(range(1,5))\n",
    "print(a, type(a))"
   ]
  },
  {
   "cell_type": "markdown",
   "id": "f4367b17",
   "metadata": {},
   "source": [
    "## **튜플을 리스트로 리스트를 튜플로 만들기**\n"
   ]
  },
  {
   "cell_type": "code",
   "execution_count": 324,
   "id": "7d7d4f3e",
   "metadata": {},
   "outputs": [
    {
     "data": {
      "text/plain": [
       "list"
      ]
     },
     "execution_count": 324,
     "metadata": {},
     "output_type": "execute_result"
    }
   ],
   "source": [
    "d = 1,2,3,4,5\n",
    "type(list(d))"
   ]
  },
  {
   "cell_type": "code",
   "execution_count": 326,
   "id": "1ebf8882",
   "metadata": {},
   "outputs": [
    {
     "data": {
      "text/plain": [
       "list"
      ]
     },
     "execution_count": 326,
     "metadata": {},
     "output_type": "execute_result"
    }
   ],
   "source": [
    "type([d])"
   ]
  },
  {
   "cell_type": "markdown",
   "id": "8e0d3ae7",
   "metadata": {},
   "source": [
    "## **list unpacking, tuple unpacking**\n",
    " - 리스트나 튜플의 값을 차례대로 변수에 대입한다.\n",
    " \n",
    " ```\n",
    " x = [1, 2, 3]\n",
    " a, b, c = x\n",
    " y = (4, 5, 6)\n",
    " d, e, f = y\n",
    " ```\n",
    " \n",
    " \n"
   ]
  },
  {
   "cell_type": "code",
   "execution_count": 329,
   "id": "7aa509df",
   "metadata": {},
   "outputs": [
    {
     "name": "stdout",
     "output_type": "stream",
     "text": [
      "1\n",
      "2\n",
      "3\n"
     ]
    }
   ],
   "source": [
    "a,b,c = [1,2,3]\n",
    "print(a)\n",
    "print(b)\n",
    "print(c)"
   ]
  },
  {
   "cell_type": "code",
   "execution_count": 330,
   "id": "fe1d87fd",
   "metadata": {},
   "outputs": [],
   "source": [
    " x = [1, 2, 3]\n",
    " a, b, c = x"
   ]
  },
  {
   "cell_type": "code",
   "execution_count": 332,
   "id": "7c6a9952",
   "metadata": {},
   "outputs": [
    {
     "name": "stdout",
     "output_type": "stream",
     "text": [
      "1\n",
      "2\n",
      "3\n"
     ]
    }
   ],
   "source": [
    "print(a)\n",
    "print(b)\n",
    "print(c)"
   ]
  },
  {
   "cell_type": "code",
   "execution_count": 335,
   "id": "efb6670a",
   "metadata": {},
   "outputs": [],
   "source": [
    "y = (4, 5, 6)\n",
    "d, e, f = y"
   ]
  },
  {
   "cell_type": "code",
   "execution_count": 336,
   "id": "e9feeb41",
   "metadata": {},
   "outputs": [
    {
     "name": "stdout",
     "output_type": "stream",
     "text": [
      "4 5 6\n"
     ]
    }
   ],
   "source": [
    "print(d,e,f)"
   ]
  },
  {
   "cell_type": "markdown",
   "id": "d19016f5",
   "metadata": {},
   "source": [
    "## **list packing, tuple packing**\n",
    "  - 변수에 리스트나 튜플을 할당하는 과정을 뜻한다.  \n",
    "  - a = [1,2,3] \n",
    "  - a = (1,2,3)\n",
    "  - a = 1,2,3"
   ]
  },
  {
   "cell_type": "markdown",
   "id": "e4e5ada4",
   "metadata": {},
   "source": [
    "## 연습문제 - 더 알아보기\n",
    "\n",
    "*a와 b의 값을 교환하시오\n",
    "a = 5\n",
    "b = 4"
   ]
  },
  {
   "cell_type": "code",
   "execution_count": 347,
   "id": "1ff07af0",
   "metadata": {},
   "outputs": [
    {
     "name": "stdout",
     "output_type": "stream",
     "text": [
      "4 5\n"
     ]
    }
   ],
   "source": [
    "#  방법1\n",
    "a = 5\n",
    "b = 4\n",
    "\n",
    "temp = a\n",
    "a = b\n",
    "b = temp\n",
    "print(a, b)"
   ]
  },
  {
   "cell_type": "code",
   "execution_count": 342,
   "id": "bbae324c",
   "metadata": {},
   "outputs": [
    {
     "name": "stdout",
     "output_type": "stream",
     "text": [
      "4 5\n"
     ]
    }
   ],
   "source": [
    "# 방법 2\n",
    "a,b = b,a\n",
    "print(a, b)"
   ]
  },
  {
   "cell_type": "markdown",
   "id": "526b66e0",
   "metadata": {},
   "source": [
    "# 시퀀스 자료형"
   ]
  },
  {
   "cell_type": "markdown",
   "id": "a2fdb001",
   "metadata": {},
   "source": [
    "* 시퀀스 자료형이란?\n",
    " - 값이 연속적으로 이어져 있는 자료형을 말한다. \n",
    " - 리스트, 튜플, range, 문자열 등이 시퀀스 자료형에 해당한다."
   ]
  },
  {
   "cell_type": "markdown",
   "id": "54f908d7",
   "metadata": {},
   "source": [
    "## 시퀀스객체안에 원하는 값 확인하기 \n",
    " - 값이 있는지 확인 할때는 아래와 같이 in 을 이용한다. \n",
    "    - 값 in 시퀀스 객체 \n",
    " - in 앞에 not을 붙히면 반대로 값이 없는지 확인한다. \n",
    "    - 값 not in 시퀀스객체"
   ]
  },
  {
   "cell_type": "code",
   "execution_count": 349,
   "id": "aa68b496",
   "metadata": {},
   "outputs": [
    {
     "data": {
      "text/plain": [
       "True"
      ]
     },
     "execution_count": 349,
     "metadata": {},
     "output_type": "execute_result"
    }
   ],
   "source": [
    "a = (1,2,3,4,5)\n",
    "3 in a"
   ]
  },
  {
   "cell_type": "code",
   "execution_count": 350,
   "id": "2ca2ced7",
   "metadata": {},
   "outputs": [
    {
     "data": {
      "text/plain": [
       "True"
      ]
     },
     "execution_count": 350,
     "metadata": {},
     "output_type": "execute_result"
    }
   ],
   "source": [
    "2 in range(5)"
   ]
  },
  {
   "cell_type": "code",
   "execution_count": 351,
   "id": "234e23d7",
   "metadata": {},
   "outputs": [
    {
     "data": {
      "text/plain": [
       "True"
      ]
     },
     "execution_count": 351,
     "metadata": {},
     "output_type": "execute_result"
    }
   ],
   "source": [
    "5 not in range(5)"
   ]
  },
  {
   "cell_type": "markdown",
   "id": "f339863e",
   "metadata": {},
   "source": [
    "## 시퀀스 객체 연결 \n",
    "\n",
    "- + 연산자를 이용하여 객체를 서로 연결해서 새 객체를 만든다. \n",
    "    - 시퀀스객체1 + 시퀀스객체2\n",
    "- 단, range는 리스트나 튜플을 만든 후 연결해야 한다. \n",
    "- 문자열은 + 연산자를 이용하여 문자열을 연결할 수 있다."
   ]
  },
  {
   "cell_type": "code",
   "execution_count": 353,
   "id": "817a64d6",
   "metadata": {},
   "outputs": [
    {
     "data": {
      "text/plain": [
       "'abcdef'"
      ]
     },
     "execution_count": 353,
     "metadata": {},
     "output_type": "execute_result"
    }
   ],
   "source": [
    "\"abc\" +'def'"
   ]
  },
  {
   "cell_type": "code",
   "execution_count": 354,
   "id": "e0d35a13",
   "metadata": {},
   "outputs": [
    {
     "data": {
      "text/plain": [
       "[1, 2, 3, 4, 5, 6]"
      ]
     },
     "execution_count": 354,
     "metadata": {},
     "output_type": "execute_result"
    }
   ],
   "source": [
    "[1,2,3] + [4,5,6]"
   ]
  },
  {
   "cell_type": "code",
   "execution_count": 355,
   "id": "b75eb63e",
   "metadata": {},
   "outputs": [
    {
     "data": {
      "text/plain": [
       "(7, 8, 9, 0, 1, 2)"
      ]
     },
     "execution_count": 355,
     "metadata": {},
     "output_type": "execute_result"
    }
   ],
   "source": [
    "(7,8,9) + (0,1,2)"
   ]
  },
  {
   "cell_type": "markdown",
   "id": "6715a2f7",
   "metadata": {},
   "source": [
    "## 시퀀스객체 반복하기\n",
    "\n",
    "* 연산자를 이용하면 시퀀스 객체를 원하는 횟수만큼 반복할 수 있다. \n",
    "\n",
    "- 0 또는 음수를 곱하면 빈 객체가 나온다.  실수는 곱할 수 없다. \n",
    "\n",
    "    - 시퀀스객체 * 정수 \n",
    "    - 정수 * 시퀀스객체\n",
    "- range는 * 연산자를 사용할 수 없다.\n",
    "- 문자열은 * 연산자 사용이 가능하다. "
   ]
  },
  {
   "cell_type": "markdown",
   "id": "9d916d5a",
   "metadata": {},
   "source": [
    "## len() 함수 이용해서 개수 구하기\n",
    "​\n",
    "- len(리스트)\n",
    "- len(튜플)\n",
    "- len(문자열)\n",
    "- len(range())"
   ]
  },
  {
   "cell_type": "code",
   "execution_count": 356,
   "id": "ff0bee56",
   "metadata": {},
   "outputs": [
    {
     "data": {
      "text/plain": [
       "5"
      ]
     },
     "execution_count": 356,
     "metadata": {},
     "output_type": "execute_result"
    }
   ],
   "source": [
    "len(range(5))"
   ]
  },
  {
   "cell_type": "code",
   "execution_count": 357,
   "id": "d2e52417",
   "metadata": {},
   "outputs": [
    {
     "data": {
      "text/plain": [
       "4"
      ]
     },
     "execution_count": 357,
     "metadata": {},
     "output_type": "execute_result"
    }
   ],
   "source": [
    "len(range(1,5))"
   ]
  },
  {
   "cell_type": "markdown",
   "id": "6583c80e",
   "metadata": {},
   "source": [
    "## del 사용하기"
   ]
  },
  {
   "cell_type": "code",
   "execution_count": 358,
   "id": "d16ff406",
   "metadata": {},
   "outputs": [],
   "source": [
    "s=\"sona\""
   ]
  },
  {
   "cell_type": "code",
   "execution_count": 359,
   "id": "7024f2c5",
   "metadata": {},
   "outputs": [
    {
     "ename": "TypeError",
     "evalue": "'str' object doesn't support item deletion",
     "output_type": "error",
     "traceback": [
      "\u001b[1;31m---------------------------------------------------------------------------\u001b[0m",
      "\u001b[1;31mTypeError\u001b[0m                                 Traceback (most recent call last)",
      "\u001b[1;32m~\\AppData\\Local\\Temp/ipykernel_7380/776715287.py\u001b[0m in \u001b[0;36m<module>\u001b[1;34m\u001b[0m\n\u001b[1;32m----> 1\u001b[1;33m \u001b[1;32mdel\u001b[0m \u001b[0ms\u001b[0m\u001b[1;33m[\u001b[0m\u001b[1;36m0\u001b[0m\u001b[1;33m]\u001b[0m\u001b[1;33m\u001b[0m\u001b[1;33m\u001b[0m\u001b[0m\n\u001b[0m",
      "\u001b[1;31mTypeError\u001b[0m: 'str' object doesn't support item deletion"
     ]
    }
   ],
   "source": [
    "del s[0] #문자열의 경우 하나니까 부분부분 지울 수 없다."
   ]
  },
  {
   "cell_type": "code",
   "execution_count": 360,
   "id": "f8fe698c",
   "metadata": {},
   "outputs": [],
   "source": [
    "del s"
   ]
  },
  {
   "cell_type": "code",
   "execution_count": 363,
   "id": "70cb73a6",
   "metadata": {},
   "outputs": [
    {
     "ename": "NameError",
     "evalue": "name 's' is not defined",
     "output_type": "error",
     "traceback": [
      "\u001b[1;31m---------------------------------------------------------------------------\u001b[0m",
      "\u001b[1;31mNameError\u001b[0m                                 Traceback (most recent call last)",
      "\u001b[1;32m~\\AppData\\Local\\Temp/ipykernel_7380/309988462.py\u001b[0m in \u001b[0;36m<module>\u001b[1;34m\u001b[0m\n\u001b[1;32m----> 1\u001b[1;33m \u001b[0mprint\u001b[0m\u001b[1;33m(\u001b[0m\u001b[0ms\u001b[0m\u001b[1;33m)\u001b[0m  \u001b[1;31m#전체 다 지웠으니까 오류가 뜸\u001b[0m\u001b[1;33m\u001b[0m\u001b[1;33m\u001b[0m\u001b[0m\n\u001b[0m",
      "\u001b[1;31mNameError\u001b[0m: name 's' is not defined"
     ]
    }
   ],
   "source": [
    "print(s)  #전체 다 지웠으니까 오류가 뜸"
   ]
  },
  {
   "cell_type": "code",
   "execution_count": 364,
   "id": "b7c9e44b",
   "metadata": {},
   "outputs": [
    {
     "data": {
      "text/plain": [
       "[1, 3, 4, 5]"
      ]
     },
     "execution_count": 364,
     "metadata": {},
     "output_type": "execute_result"
    }
   ],
   "source": [
    "z = [1,2,3,4,5]\n",
    "del z[1]\n",
    "z"
   ]
  }
 ],
 "metadata": {
  "kernelspec": {
   "display_name": "Python 3 (ipykernel)",
   "language": "python",
   "name": "python3"
  },
  "language_info": {
   "codemirror_mode": {
    "name": "ipython",
    "version": 3
   },
   "file_extension": ".py",
   "mimetype": "text/x-python",
   "name": "python",
   "nbconvert_exporter": "python",
   "pygments_lexer": "ipython3",
   "version": "3.9.7"
  },
  "toc": {
   "base_numbering": 1,
   "nav_menu": {},
   "number_sections": true,
   "sideBar": true,
   "skip_h1_title": false,
   "title_cell": "Table of Contents",
   "title_sidebar": "Contents",
   "toc_cell": false,
   "toc_position": {},
   "toc_section_display": true,
   "toc_window_display": true
  }
 },
 "nbformat": 4,
 "nbformat_minor": 5
}
