{
  "nbformat": 4,
  "nbformat_minor": 0,
  "metadata": {
    "colab": {
      "name": "081_100_초보자를_위한_파이썬_300제.ipynb",
      "provenance": [],
      "collapsed_sections": []
    },
    "kernelspec": {
      "name": "python3",
      "display_name": "Python 3"
    },
    "language_info": {
      "name": "python"
    }
  },
  "cells": [
    {
      "cell_type": "markdown",
      "source": [
        "# 06. 파이썬 딕셔너리"
      ],
      "metadata": {
        "id": "VK0HTteDbC1a"
      }
    },
    {
      "cell_type": "code",
      "execution_count": null,
      "metadata": {
        "colab": {
          "base_uri": "https://localhost:8080/"
        },
        "id": "Ccb1VdK8SPHB",
        "outputId": "66e1ad7a-8854-4cb8-ed3a-eceed5d6089e"
      },
      "outputs": [
        {
          "output_type": "stream",
          "name": "stdout",
          "text": [
            "[8.8, 8.9, 8.7, 9.2, 9.3, 9.7, 9.9, 9.5]\n"
          ]
        }
      ],
      "source": [
        "# 081 별 표현식\n",
        "scores = [8.8, 8.9, 8.7, 9.2, 9.3, 9.7, 9.9, 9.5, 7.8, 9.4]\n",
        "*valid_score,_,_= scores\n",
        "\n",
        "print(valid_score)"
      ]
    },
    {
      "cell_type": "code",
      "source": [
        "# 082\n",
        "scores = [8.8, 8.9, 8.7, 9.2, 9.3, 9.7, 9.9, 9.5, 7.8, 9.4]\n",
        "_,_,*valid_score= scores\n",
        "print(valid_score)"
      ],
      "metadata": {
        "colab": {
          "base_uri": "https://localhost:8080/"
        },
        "id": "-edepnJjS4D9",
        "outputId": "b08aea24-1f8e-4450-cd4c-165f83d9c2e8"
      },
      "execution_count": null,
      "outputs": [
        {
          "output_type": "stream",
          "name": "stdout",
          "text": [
            "[8.7, 9.2, 9.3, 9.7, 9.9, 9.5, 7.8, 9.4]\n"
          ]
        }
      ]
    },
    {
      "cell_type": "code",
      "source": [
        "# 083\n",
        "scores = [8.8, 8.9, 8.7, 9.2, 9.3, 9.7, 9.9, 9.5, 7.8, 9.4]\n",
        "_,*valid_score,_= scores\n",
        "print(valid_score)"
      ],
      "metadata": {
        "colab": {
          "base_uri": "https://localhost:8080/"
        },
        "id": "ORIUInXUTJNF",
        "outputId": "304331ff-997b-4265-a699-f7e6a538b190"
      },
      "execution_count": null,
      "outputs": [
        {
          "output_type": "stream",
          "name": "stdout",
          "text": [
            "[8.9, 8.7, 9.2, 9.3, 9.7, 9.9, 9.5, 7.8]\n"
          ]
        }
      ]
    },
    {
      "cell_type": "code",
      "source": [
        "# 084 비어있는 딕셔너리\n",
        "temp = {}"
      ],
      "metadata": {
        "id": "g8nAstLpTTmV"
      },
      "execution_count": null,
      "outputs": []
    },
    {
      "cell_type": "code",
      "source": [
        "# 085\n",
        "icecream={ '메로나':1000, '폴라포':1200, '빵빠레':1800}\n",
        "print(icecream)"
      ],
      "metadata": {
        "colab": {
          "base_uri": "https://localhost:8080/"
        },
        "id": "neGqLnmJTe9a",
        "outputId": "c9af90a5-ae95-48c1-a629-35101db1d46d"
      },
      "execution_count": null,
      "outputs": [
        {
          "output_type": "stream",
          "name": "stdout",
          "text": [
            "{'메로나': 1000, '폴라포': 1200, '빵빠레': 1800}\n"
          ]
        }
      ]
    },
    {
      "cell_type": "code",
      "source": [
        "# 086\n",
        "icecream[\"죠스바\"]=1200\n",
        "icecream[\"월드콘\"]=1800\n",
        "\n",
        "print(icecream)"
      ],
      "metadata": {
        "colab": {
          "base_uri": "https://localhost:8080/"
        },
        "id": "0_lisC0iTqZ7",
        "outputId": "3e3af5a7-12e0-48ef-91d2-eacff5fba902"
      },
      "execution_count": null,
      "outputs": [
        {
          "output_type": "stream",
          "name": "stdout",
          "text": [
            "{'메로나': 1000, '폴라포': 1200, '빵빠레': 1800, '죠스바': 1200, '월드콘': 1800}\n"
          ]
        }
      ]
    },
    {
      "cell_type": "code",
      "source": [
        "# 087\n",
        "ice = {'메로나': 1000,\n",
        "       '폴로포': 1200,\n",
        "       '빵빠레': 1800,\n",
        "       '죠스바': 1200,\n",
        "       '월드콘': 1500}\n",
        "\n",
        "print(\"메로나 가격: \",ice[\"메로나\"])"
      ],
      "metadata": {
        "colab": {
          "base_uri": "https://localhost:8080/"
        },
        "id": "J83FwmJRUlmi",
        "outputId": "6dfabc5f-6a91-42d4-9bc5-4fab0536bc1a"
      },
      "execution_count": null,
      "outputs": [
        {
          "output_type": "stream",
          "name": "stdout",
          "text": [
            "메로나 가격:  1000\n"
          ]
        }
      ]
    },
    {
      "cell_type": "code",
      "source": [
        "# 088\n",
        "ice = {'메로나': 1000,\n",
        "       '폴로포': 1200,\n",
        "       '빵빠레': 1800,\n",
        "       '죠스바': 1200,\n",
        "       '월드콘': 1500}\n",
        "\n",
        "ice[\"메로나\"]=1300\n",
        "\n",
        "print(ice)"
      ],
      "metadata": {
        "colab": {
          "base_uri": "https://localhost:8080/"
        },
        "id": "kw-2YOHkU_hM",
        "outputId": "e74c2fe4-b0bb-4f94-af11-f057137c0487"
      },
      "execution_count": null,
      "outputs": [
        {
          "output_type": "stream",
          "name": "stdout",
          "text": [
            "{'메로나': 1300, '폴로포': 1200, '빵빠레': 1800, '죠스바': 1200, '월드콘': 1500}\n"
          ]
        }
      ]
    },
    {
      "cell_type": "code",
      "source": [
        "# 089\n",
        "ice = {'메로나': 1000,\n",
        "       '폴로포': 1200,\n",
        "       '빵빠레': 1800,\n",
        "       '죠스바': 1200,\n",
        "       '월드콘': 1500}\n",
        "\n",
        "del ice[\"메로나\"]"
      ],
      "metadata": {
        "id": "69DIzRgoVG9R"
      },
      "execution_count": null,
      "outputs": []
    },
    {
      "cell_type": "code",
      "source": [
        "print(ice)"
      ],
      "metadata": {
        "colab": {
          "base_uri": "https://localhost:8080/"
        },
        "id": "OCkbD3tqVPs6",
        "outputId": "6a63bb3d-153a-483a-94ce-c69c722fee2e"
      },
      "execution_count": null,
      "outputs": [
        {
          "output_type": "stream",
          "name": "stdout",
          "text": [
            "{'폴로포': 1200, '빵빠레': 1800, '죠스바': 1200, '월드콘': 1500}\n"
          ]
        }
      ]
    },
    {
      "cell_type": "code",
      "source": [
        "# 090\n",
        ">> icecream = {'폴라포': 1200, '빵빠레': 1800, '월드콘': 1500, '메로나': 1000}\n",
        ">> icecream['누가바']\n",
        "Traceback (most recent call last):\n",
        "  File \"<pyshell#69>\", line 1, in <module>\n",
        "    icecream['누가바']\n",
        "KeyError: '누가바'\n",
        "\n",
        "# 에러난 이유는 \"누가바\"라는 key값이 없기 때문에"
      ],
      "metadata": {
        "id": "gdtwPx5-VSj6"
      },
      "execution_count": null,
      "outputs": []
    },
    {
      "cell_type": "code",
      "source": [
        "# 091 딕셔너리 생성\n",
        "inventory ={\"메로나\":[300,20],\n",
        "            \"비비빅\":[400,3],\n",
        "            \"죠스바\":[250,100]}\n",
        "print(inventory)"
      ],
      "metadata": {
        "colab": {
          "base_uri": "https://localhost:8080/"
        },
        "id": "zHae1yRFU-Pb",
        "outputId": "7de9dbf8-afde-438d-d0b4-ce07003102cc"
      },
      "execution_count": null,
      "outputs": [
        {
          "output_type": "stream",
          "name": "stdout",
          "text": [
            "{'메로나': [300, 20], '비비빅': [400, 3], '죠스바': [250, 100]}\n"
          ]
        }
      ]
    },
    {
      "cell_type": "code",
      "source": [
        "# 092 딕셔너리 인덱싱\n",
        "inventory = {\"메로나\": [300, 20],\n",
        "              \"비비빅\": [400, 3],\n",
        "              \"죠스바\": [250, 100]}\n",
        "\n",
        "print(inventory[\"메로나\"][0],\"원\")"
      ],
      "metadata": {
        "colab": {
          "base_uri": "https://localhost:8080/"
        },
        "id": "SQlJrBqJV6vi",
        "outputId": "c8021997-fd4c-4873-fada-f8e8746ac59d"
      },
      "execution_count": null,
      "outputs": [
        {
          "output_type": "stream",
          "name": "stdout",
          "text": [
            "300 원\n"
          ]
        }
      ]
    },
    {
      "cell_type": "code",
      "source": [
        "# 093 딕셔너리 인덱싱\n",
        "inventory = {\"메로나\": [300, 20],\n",
        "              \"비비빅\": [400, 3],\n",
        "              \"죠스바\": [250, 100]}\n",
        "\n",
        "print(inventory[\"메로나\"][1],\"개\")"
      ],
      "metadata": {
        "colab": {
          "base_uri": "https://localhost:8080/"
        },
        "id": "xaUfRZrQXKCY",
        "outputId": "383e78f9-4e1b-47f4-83e4-247636505d36"
      },
      "execution_count": null,
      "outputs": [
        {
          "output_type": "stream",
          "name": "stdout",
          "text": [
            "20 개\n"
          ]
        }
      ]
    },
    {
      "cell_type": "code",
      "source": [
        "# 094 딕셔너리 추가\n",
        "inventory = {\"메로나\": [300, 20],\n",
        "              \"비비빅\": [400, 3],\n",
        "              \"죠스바\": [250, 100]}\n",
        "inventory [\"월드콘\"]=[500,7]\n",
        "\n",
        "print(inventory)"
      ],
      "metadata": {
        "colab": {
          "base_uri": "https://localhost:8080/"
        },
        "id": "9MlFtTo5X-Tp",
        "outputId": "f4ed7dc0-f5c7-481c-b5be-bb37244c98b5"
      },
      "execution_count": null,
      "outputs": [
        {
          "output_type": "stream",
          "name": "stdout",
          "text": [
            "{'메로나': [300, 20], '비비빅': [400, 3], '죠스바': [250, 100], '월드콘': [500, 7]}\n"
          ]
        }
      ]
    },
    {
      "cell_type": "code",
      "source": [
        "# 095 딕셔너리 keys() 메서드\n",
        "icecream = {'탱크보이': 1200, '폴라포': 1200, \n",
        "            '빵빠레': 1800, '월드콘': 1500, '메로나': 1000}\n",
        "\n",
        "print(list(icecream.keys()))"
      ],
      "metadata": {
        "colab": {
          "base_uri": "https://localhost:8080/"
        },
        "id": "kvpTUCh3YW-n",
        "outputId": "dc38a919-4bf9-4922-8287-0b33dccd901d"
      },
      "execution_count": null,
      "outputs": [
        {
          "output_type": "stream",
          "name": "stdout",
          "text": [
            "['탱크보이', '폴라포', '빵빠레', '월드콘', '메로나']\n"
          ]
        }
      ]
    },
    {
      "cell_type": "code",
      "source": [
        "# 096 딕셔너리 values() 메서드\n",
        "icecream = {'탱크보이': 1200, '폴라포': 1200, \n",
        "            '빵빠레': 1800, '월드콘': 1500, '메로나': 1000}\n",
        "\n",
        "print(list(icecream.values()))"
      ],
      "metadata": {
        "colab": {
          "base_uri": "https://localhost:8080/"
        },
        "id": "s9EYBa9nY0dr",
        "outputId": "dd0fce7d-5e51-4dec-e355-3abae5ec116e"
      },
      "execution_count": null,
      "outputs": [
        {
          "output_type": "stream",
          "name": "stdout",
          "text": [
            "[1200, 1200, 1800, 1500, 1000]\n"
          ]
        }
      ]
    },
    {
      "cell_type": "code",
      "source": [
        "# 097 딕셔너리 values() 메서드\n",
        "icecream = {'탱크보이': 1200, '폴라포': 1200,\n",
        "            '빵빠레': 1800, '월드콘': 1500, '메로나': 1000}\n",
        "\n",
        "print(sum(icecream.values()))"
      ],
      "metadata": {
        "colab": {
          "base_uri": "https://localhost:8080/"
        },
        "id": "hTLYflC_ZDq7",
        "outputId": "8c614f42-253a-4fb7-a48a-bcbd84f8d843"
      },
      "execution_count": null,
      "outputs": [
        {
          "output_type": "stream",
          "name": "stdout",
          "text": [
            "6700\n"
          ]
        }
      ]
    },
    {
      "cell_type": "code",
      "source": [
        "# 098 딕셔너리 update 메서드\n",
        "icecream = {'탱크보이': 1200, '폴라포': 1200, '빵빠레': 1800, '월드콘': 1500, '메로나': 1000}\n",
        "new_product = {'팥빙수':2700, '아맛나':1000}\n",
        "\n",
        "icecream.update(new_product)\n",
        "print(icecream)"
      ],
      "metadata": {
        "colab": {
          "base_uri": "https://localhost:8080/"
        },
        "id": "EMPlJsHHY97-",
        "outputId": "32e2d3fd-fff2-4ce0-f487-8ae64b646b48"
      },
      "execution_count": null,
      "outputs": [
        {
          "output_type": "stream",
          "name": "stdout",
          "text": [
            "{'탱크보이': 1200, '폴라포': 1200, '빵빠레': 1800, '월드콘': 1500, '메로나': 1000, '팥빙수': 2700, '아맛나': 1000}\n"
          ]
        }
      ]
    },
    {
      "cell_type": "code",
      "source": [
        "# 099 zip과 dict\n",
        "keys = (\"apple\", \"pear\", \"peach\")\n",
        "vals = (300, 250, 400)\n",
        "\n",
        "result = dict(zip(keys,vals))\n",
        "print(result)"
      ],
      "metadata": {
        "colab": {
          "base_uri": "https://localhost:8080/"
        },
        "id": "Sue9j0h2Zfu4",
        "outputId": "7d3ec42a-6b7e-4b81-bd39-e8a6e2865e69"
      },
      "execution_count": null,
      "outputs": [
        {
          "output_type": "stream",
          "name": "stdout",
          "text": [
            "{'apple': 300, 'pear': 250, 'peach': 400}\n"
          ]
        }
      ]
    },
    {
      "cell_type": "code",
      "source": [
        "# 100 zip과 dict\n",
        "date = ['09/05', '09/06', '09/07', '09/08', '09/09']\n",
        "close_price = [10500, 10300, 10100, 10800, 11000]\n",
        "\n",
        "close_table = dict(zip(date,close_price))\n",
        "print(close_table)"
      ],
      "metadata": {
        "colab": {
          "base_uri": "https://localhost:8080/"
        },
        "id": "HA9JLfN1aB7Q",
        "outputId": "67046aba-cf18-4921-ddea-87ab4535dfb5"
      },
      "execution_count": null,
      "outputs": [
        {
          "output_type": "stream",
          "name": "stdout",
          "text": [
            "{'09/05': 10500, '09/06': 10300, '09/07': 10100, '09/08': 10800, '09/09': 11000}\n"
          ]
        }
      ]
    }
  ]
}