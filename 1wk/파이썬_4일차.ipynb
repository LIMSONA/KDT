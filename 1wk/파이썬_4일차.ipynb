{
 "cells": [
  {
   "cell_type": "markdown",
   "metadata": {},
   "source": [
    "# 수업에 들어가기 전에"
   ]
  },
  {
   "cell_type": "markdown",
   "metadata": {},
   "source": [
    "* 딕셔너리의 키값은 세트처럼 작용한다. 중복되지 않음\n",
    "* +,-,*, / 정의가 되어있으면 사용가능할 수 있으니, 사용해보고 확인.... ㅠㅠ"
   ]
  },
  {
   "cell_type": "markdown",
   "metadata": {},
   "source": [
    "# 함수란?\n",
    "* 지금까지 무심코 코드에서 사용된 많은 함수들이 존재 한다.\n",
    "* 예를들면, sum, len, range 같은 함수 등이 있다. \n",
    "* 함수란 우리가 알고있는 개념처럼 주어진 입력(input)에 대해서 의도된 출력(output)를 전달하는 역할을 한다.\n",
    "\n",
    "* python 내부에 이미 정의(구현)된 함수를 내장함수(built-in function)이라고 한다."
   ]
  },
  {
   "cell_type": "markdown",
   "metadata": {},
   "source": [
    "* 자주 사용하는 함수가 있다면, 함수로 만들어 놓을 필요성이있다!\n",
    "* 파이선 내장 함수: https://docs.python.org/3/library/functions.html"
   ]
  },
  {
   "cell_type": "code",
   "execution_count": 4,
   "metadata": {},
   "outputs": [
    {
     "name": "stdout",
     "output_type": "stream",
     "text": [
      "6 3 1\n"
     ]
    }
   ],
   "source": [
    "a = [1,2,3]\n",
    "print(sum(a),max(a),min(a))"
   ]
  },
  {
   "cell_type": "markdown",
   "metadata": {},
   "source": [
    "## 함수의 정의\n",
    "\n",
    "```\n",
    "def 함수명(매개변수):\n",
    "    수행할문장들..\n",
    "    \n",
    "```\n",
    "  + def 키워드 사용한다.\n",
    "  + 매개변수란 함수에 입력으로 전달하는 값을 의미한다.parameter라고 한다.\n",
    "  + : (콜론) \n",
    "  + body (함수의 구현 부분, 함수 역시 코드 블록이기 때문에 들여쓰기 된 부분까지 함수의 코드블록으로 인지 함)\n",
    "    - 함수를 호출한 코드 (caller)로 함수가 해당 기능을 수행하고 완료된 값(output)을 전달하기 위해 return 키워드 사용한다.\n",
    "    - 즉, return 이후에 오는 값을 caller로 전달한다.\n",
    "  + 함수의 네이밍 무척 중요하다.\n",
    "    - 즉, 어떤 기능을 하는 함수인지 이름으로 최대한 나타날 수 있게 해야한다."
   ]
  },
  {
   "cell_type": "code",
   "execution_count": 12,
   "metadata": {},
   "outputs": [],
   "source": [
    "def print_hi(n):\n",
    "    while n>0:\n",
    "        print(\"hi\")\n",
    "        n-=1"
   ]
  },
  {
   "cell_type": "code",
   "execution_count": 13,
   "metadata": {},
   "outputs": [
    {
     "name": "stdout",
     "output_type": "stream",
     "text": [
      "hi\n",
      "hi\n",
      "hi\n"
     ]
    }
   ],
   "source": [
    "print_hi(3)"
   ]
  },
  {
   "cell_type": "code",
   "execution_count": 8,
   "metadata": {},
   "outputs": [
    {
     "ename": "TypeError",
     "evalue": "print_hi() missing 1 required positional argument: 'n'",
     "output_type": "error",
     "traceback": [
      "\u001b[1;31m---------------------------------------------------------------------------\u001b[0m",
      "\u001b[1;31mTypeError\u001b[0m                                 Traceback (most recent call last)",
      "\u001b[1;32m~\\AppData\\Local\\Temp/ipykernel_11452/1865611070.py\u001b[0m in \u001b[0;36m<module>\u001b[1;34m\u001b[0m\n\u001b[1;32m----> 1\u001b[1;33m \u001b[0mprint_hi\u001b[0m\u001b[1;33m(\u001b[0m\u001b[1;33m)\u001b[0m\u001b[1;33m\u001b[0m\u001b[1;33m\u001b[0m\u001b[0m\n\u001b[0m",
      "\u001b[1;31mTypeError\u001b[0m: print_hi() missing 1 required positional argument: 'n'"
     ]
    }
   ],
   "source": [
    "print_hi() #인수가 없으니 당연히 오류 발생!!"
   ]
  },
  {
   "cell_type": "code",
   "execution_count": 18,
   "metadata": {},
   "outputs": [],
   "source": [
    "def print_message(count, message):\n",
    "    while count>0:\n",
    "        print(message)\n",
    "        count-=1"
   ]
  },
  {
   "cell_type": "code",
   "execution_count": 19,
   "metadata": {},
   "outputs": [
    {
     "name": "stdout",
     "output_type": "stream",
     "text": [
      "sona\n",
      "sona\n"
     ]
    }
   ],
   "source": [
    "print_message(2,\"sona\")"
   ]
  },
  {
   "cell_type": "code",
   "execution_count": null,
   "metadata": {},
   "outputs": [],
   "source": [
    "def add(a,b):\n",
    "    su"
   ]
  },
  {
   "cell_type": "code",
   "execution_count": 26,
   "metadata": {},
   "outputs": [],
   "source": [
    "def print_message1(count, *message):\n",
    "    while count>0:\n",
    "        print(message)\n",
    "        count-=1"
   ]
  },
  {
   "cell_type": "code",
   "execution_count": 27,
   "metadata": {},
   "outputs": [
    {
     "name": "stdout",
     "output_type": "stream",
     "text": [
      "()\n",
      "()\n",
      "()\n"
     ]
    }
   ],
   "source": [
    "print_message1(3)"
   ]
  },
  {
   "cell_type": "code",
   "execution_count": 28,
   "metadata": {},
   "outputs": [],
   "source": [
    "def print_message2(count, message):\n",
    "    while count>0:\n",
    "        print(message)\n",
    "        count-=1"
   ]
  },
  {
   "cell_type": "code",
   "execution_count": 32,
   "metadata": {},
   "outputs": [
    {
     "ename": "NameError",
     "evalue": "name 'print_mesage2' is not defined",
     "output_type": "error",
     "traceback": [
      "\u001b[1;31m---------------------------------------------------------------------------\u001b[0m",
      "\u001b[1;31mNameError\u001b[0m                                 Traceback (most recent call last)",
      "\u001b[1;32m~\\AppData\\Local\\Temp/ipykernel_11452/3501929424.py\u001b[0m in \u001b[0;36m<module>\u001b[1;34m\u001b[0m\n\u001b[1;32m----> 1\u001b[1;33m \u001b[0mprint_mesage2\u001b[0m\u001b[1;33m(\u001b[0m\u001b[1;36m3\u001b[0m\u001b[1;33m)\u001b[0m \u001b[1;31m#여기서는 오류가 발생함!!!! 왜냐하면 매개변수가 2개가 아니니!\u001b[0m\u001b[1;33m\u001b[0m\u001b[1;33m\u001b[0m\u001b[0m\n\u001b[0m",
      "\u001b[1;31mNameError\u001b[0m: name 'print_mesage2' is not defined"
     ]
    }
   ],
   "source": [
    "print_mesage2(3) #여기서는 오류가 발생함!!!! 왜냐하면 매개변수가 2개가 아니니!"
   ]
  },
  {
   "cell_type": "code",
   "execution_count": 33,
   "metadata": {},
   "outputs": [],
   "source": [
    "def gugu(x):\n",
    "    for i in range(1,10):\n",
    "        print(\"{} * {} = {}\".format(x,i, x*i))"
   ]
  },
  {
   "cell_type": "code",
   "execution_count": 34,
   "metadata": {},
   "outputs": [
    {
     "name": "stdout",
     "output_type": "stream",
     "text": [
      "3 * 1 = 3\n",
      "3 * 2 = 6\n",
      "3 * 3 = 9\n",
      "3 * 4 = 12\n",
      "3 * 5 = 15\n",
      "3 * 6 = 18\n",
      "3 * 7 = 21\n",
      "3 * 8 = 24\n",
      "3 * 9 = 27\n"
     ]
    }
   ],
   "source": [
    "gugu(3)"
   ]
  },
  {
   "cell_type": "markdown",
   "metadata": {},
   "source": [
    "## 함수의 사용(호출)\n",
    " + 함수명(argument1, argument2, ... argumentn)\n",
    " + 위와 같이 정의 된 함수의 이름과 전달되는 argument(인수)를 괄호안에 전달하여 함수를 호출\n",
    " + 함수가 호출되면 실행의 흐름이 호출자(caller)에서 함수(callee)로 변경 된다."
   ]
  },
  {
   "cell_type": "code",
   "execution_count": null,
   "metadata": {},
   "outputs": [],
   "source": []
  },
  {
   "cell_type": "markdown",
   "metadata": {},
   "source": [
    "## parameter\n",
    " + 함수에 전달되는 입력(input)\n",
    " + 입력이 필요하지 않을 수도, 1개의 입력만 있을 수도, 여러개의 입력이 존재할 수 도 있다.\n",
    " + 파라미터로 int, string, float, boolm, list, dict 등등 어떤 파이썬 객체도 전달 가능하다.\n",
    " + 심지어, 함수도 함수의 파라미터로 전달 가능하다.\n",
    " \n",
    " + python의 경우, 타입 명시가 없기 때문에, 함수 생성 시, 의도된 파라미터의 타입에 맞게 입력을 전달하는 것이 중요하다.\n",
    " + 또한 파라미터를 전달 할 때, 정의된 순서에 따라 값을 전달하는 것이 중요하다.\n"
   ]
  },
  {
   "cell_type": "code",
   "execution_count": 102,
   "metadata": {},
   "outputs": [],
   "source": [
    "def sona(a,*b):\n",
    "    return a, b"
   ]
  },
  {
   "cell_type": "code",
   "execution_count": 103,
   "metadata": {},
   "outputs": [],
   "source": [
    "리스트=[10,20,30]"
   ]
  },
  {
   "cell_type": "code",
   "execution_count": 104,
   "metadata": {},
   "outputs": [
    {
     "name": "stdout",
     "output_type": "stream",
     "text": [
      "(2, ([10, 20, 30],))\n"
     ]
    }
   ],
   "source": [
    "print(sona(2,리스트))  \n",
    "\n",
    "#일단 복수값을 받아왔으니 가장 바깥 소괄호() 튜플\n",
    "#그리고 가변인자*로 리스트를 받아왔으니 안쪽 소괄호() 튜플\n",
    "#그리고 튜플이라는 걸 알려주기 위해 리스트 뒤에 콤마(,)를 붙인다."
   ]
  },
  {
   "cell_type": "code",
   "execution_count": 105,
   "metadata": {},
   "outputs": [
    {
     "name": "stdout",
     "output_type": "stream",
     "text": [
      "(4, (5,))\n"
     ]
    }
   ],
   "source": [
    "print(sona(4,5))"
   ]
  },
  {
   "cell_type": "code",
   "execution_count": 98,
   "metadata": {},
   "outputs": [],
   "source": [
    "def sona1(*a,b):\n",
    "    return a,b\n",
    "\n",
    "리스트=[10,20,30]"
   ]
  },
  {
   "cell_type": "code",
   "execution_count": 99,
   "metadata": {},
   "outputs": [
    {
     "ename": "TypeError",
     "evalue": "sona1() missing 1 required keyword-only argument: 'b'",
     "output_type": "error",
     "traceback": [
      "\u001b[1;31m---------------------------------------------------------------------------\u001b[0m",
      "\u001b[1;31mTypeError\u001b[0m                                 Traceback (most recent call last)",
      "\u001b[1;32m~\\AppData\\Local\\Temp/ipykernel_11452/4254212615.py\u001b[0m in \u001b[0;36m<module>\u001b[1;34m\u001b[0m\n\u001b[1;32m----> 1\u001b[1;33m \u001b[0mprint\u001b[0m\u001b[1;33m(\u001b[0m\u001b[0msona1\u001b[0m\u001b[1;33m(\u001b[0m\u001b[0m리스트\u001b[0m\u001b[1;33m,\u001b[0m\u001b[1;36m1\u001b[0m\u001b[1;33m)\u001b[0m\u001b[1;33m)\u001b[0m\u001b[1;33m\u001b[0m\u001b[1;33m\u001b[0m\u001b[0m\n\u001b[0m",
      "\u001b[1;31mTypeError\u001b[0m: sona1() missing 1 required keyword-only argument: 'b'"
     ]
    }
   ],
   "source": [
    "print(sona1(리스트,1))\n",
    "\n",
    "# 가변인자의 경우 고정인자 뒤에 써야하는 순서가 있어야함\n",
    "# 아니면 오류 발생"
   ]
  },
  {
   "cell_type": "markdown",
   "metadata": {},
   "source": [
    "##  Default parameter (기본 인자) \n",
    " + 함수의 파라미터에 기본값 지정 가능하다.\n",
    " + 파라미터를 명시하지 않을 경우, 지정된 기본값으로 대체한다.\n",
    " + 디폴트 파라미터 뒤에 일반 파라미터가 위치할 수 없다. "
   ]
  },
  {
   "cell_type": "code",
   "execution_count": 45,
   "metadata": {},
   "outputs": [
    {
     "name": "stdout",
     "output_type": "stream",
     "text": [
      "10 10 10\t"
     ]
    }
   ],
   "source": [
    "a=b=c=10\n",
    "print(a,b,c,end=\"\\t\")"
   ]
  },
  {
   "cell_type": "code",
   "execution_count": 46,
   "metadata": {},
   "outputs": [],
   "source": [
    "def add(a,b,c):\n",
    "    return a+b+c"
   ]
  },
  {
   "cell_type": "code",
   "execution_count": 47,
   "metadata": {},
   "outputs": [
    {
     "data": {
      "text/plain": [
       "6"
      ]
     },
     "execution_count": 47,
     "metadata": {},
     "output_type": "execute_result"
    }
   ],
   "source": [
    "print(add(1,2,3))"
   ]
  },
  {
   "cell_type": "code",
   "execution_count": 48,
   "metadata": {},
   "outputs": [
    {
     "ename": "TypeError",
     "evalue": "add() missing 2 required positional arguments: 'b' and 'c'",
     "output_type": "error",
     "traceback": [
      "\u001b[1;31m---------------------------------------------------------------------------\u001b[0m",
      "\u001b[1;31mTypeError\u001b[0m                                 Traceback (most recent call last)",
      "\u001b[1;32m~\\AppData\\Local\\Temp/ipykernel_11452/746715703.py\u001b[0m in \u001b[0;36m<module>\u001b[1;34m\u001b[0m\n\u001b[1;32m----> 1\u001b[1;33m \u001b[0madd\u001b[0m\u001b[1;33m(\u001b[0m\u001b[1;36m1\u001b[0m\u001b[1;33m)\u001b[0m\u001b[1;33m\u001b[0m\u001b[1;33m\u001b[0m\u001b[0m\n\u001b[0m",
      "\u001b[1;31mTypeError\u001b[0m: add() missing 2 required positional arguments: 'b' and 'c'"
     ]
    }
   ],
   "source": [
    "print(add(1)) #값이 1개만 들어갔으니"
   ]
  },
  {
   "cell_type": "code",
   "execution_count": 49,
   "metadata": {},
   "outputs": [],
   "source": [
    "def add1(a,b=10,c=20):\n",
    "    return a+b+c"
   ]
  },
  {
   "cell_type": "code",
   "execution_count": 51,
   "metadata": {},
   "outputs": [
    {
     "name": "stdout",
     "output_type": "stream",
     "text": [
      "31\n"
     ]
    }
   ],
   "source": [
    "print(add1(1))"
   ]
  },
  {
   "cell_type": "markdown",
   "metadata": {},
   "source": [
    "* **기본 파라미터의 다른 예**\n",
    " - print 함수\n",
    "   - sep, end, file등 여러 기본 파라미터를 가짐 "
   ]
  },
  {
   "cell_type": "markdown",
   "metadata": {},
   "source": [
    "* asterisk는 여러개를 받을 수 있다!!"
   ]
  },
  {
   "cell_type": "code",
   "execution_count": 78,
   "metadata": {},
   "outputs": [],
   "source": [
    "def add_many(*value):\n",
    "    result = 0\n",
    "    for i in value:\n",
    "        result += i\n",
    "    return result"
   ]
  },
  {
   "cell_type": "code",
   "execution_count": 79,
   "metadata": {},
   "outputs": [
    {
     "name": "stdout",
     "output_type": "stream",
     "text": [
      "21\n"
     ]
    }
   ],
   "source": [
    "print(add_many(1,2,3,4,5,6))"
   ]
  },
  {
   "cell_type": "code",
   "execution_count": null,
   "metadata": {},
   "outputs": [],
   "source": []
  },
  {
   "cell_type": "markdown",
   "metadata": {},
   "source": [
    "## keyword parameter (키워드 파라미터)\n",
    "  * 파이썬의 경우, 파라미터에 값을 전달 할 때, 파라미터의 이름을 명시하여 전달 가능하다.\n",
    "  * 파라미터 이름을 사용하지 않을 경우, 기본적으로 순서에 맞게 전달한다."
   ]
  },
  {
   "cell_type": "code",
   "execution_count": 58,
   "metadata": {},
   "outputs": [
    {
     "name": "stdout",
     "output_type": "stream",
     "text": [
      "hello\n",
      "hello\n"
     ]
    }
   ],
   "source": [
    "print_message(message=\"hello\",count=2)"
   ]
  },
  {
   "cell_type": "code",
   "execution_count": 59,
   "metadata": {},
   "outputs": [
    {
     "name": "stdout",
     "output_type": "stream",
     "text": [
      "hello\n",
      "hello\n"
     ]
    }
   ],
   "source": [
    "print_message(count=2,message=\"hello\")"
   ]
  },
  {
   "cell_type": "markdown",
   "metadata": {},
   "source": [
    "## return (리턴)\n",
    " + 함수의 종료를 명시한다.\n",
    "   + return 옆에 값이나 수식이 있다면 해당 값을 호출자(caller)에게 반환(전달)한다.\n",
    "   + return 만 존재하면 None을 반환\n",
    "   + return이 없는 경우, 함수 코드 블록이 종료되면 종료된다. 이때도 None을 반환한다."
   ]
  },
  {
   "cell_type": "code",
   "execution_count": 30,
   "metadata": {},
   "outputs": [],
   "source": [
    "def add(a,b):\n",
    "    sum = a+b\n",
    "    return sum"
   ]
  },
  {
   "cell_type": "raw",
   "metadata": {},
   "source": [
    "return 값은 꼭 변수에 담아놔야 출력 됨"
   ]
  },
  {
   "cell_type": "code",
   "execution_count": 68,
   "metadata": {},
   "outputs": [],
   "source": [
    "# return은 두개는 안된다!\n",
    "def add(a,b):\n",
    "    _sum = a+b\n",
    "    _sum_a = a+a\n",
    "    return _sum\n",
    "    return _sum_a"
   ]
  },
  {
   "cell_type": "markdown",
   "metadata": {},
   "source": [
    "## multiple return (복수 값 반환)\n",
    " + tuple반환을 하여 복수개의 값 리턴 가능하다."
   ]
  },
  {
   "cell_type": "code",
   "execution_count": 70,
   "metadata": {},
   "outputs": [],
   "source": [
    "def add_10(x,y):\n",
    "    return x+10, y+10"
   ]
  },
  {
   "cell_type": "code",
   "execution_count": 72,
   "metadata": {},
   "outputs": [
    {
     "name": "stdout",
     "output_type": "stream",
     "text": [
      "(11, 12) <class 'tuple'>\n"
     ]
    }
   ],
   "source": [
    "print(add_10(1,2), type(add_10(1,2)))"
   ]
  },
  {
   "cell_type": "code",
   "execution_count": 73,
   "metadata": {},
   "outputs": [
    {
     "name": "stdout",
     "output_type": "stream",
     "text": [
      "11\n",
      "12\n"
     ]
    }
   ],
   "source": [
    "q,w = add_10(1,2)\n",
    "\n",
    "print(q)\n",
    "print(w)"
   ]
  },
  {
   "cell_type": "code",
   "execution_count": null,
   "metadata": {},
   "outputs": [],
   "source": []
  },
  {
   "cell_type": "code",
   "execution_count": null,
   "metadata": {},
   "outputs": [],
   "source": []
  },
  {
   "cell_type": "markdown",
   "metadata": {},
   "source": [
    "## variable scope (변수의 범위)\n",
    "\n",
    " + 변수가 참조 가능한 코드상의 범위를 명시한다.\n",
    " + 함수내의 변수는 자신이 속한 코드 블록이 종료되면 소멸된다.\n",
    " + 이렇게 특정 코드 블록에서 선언된 변수를 **지역변수(local variable)** 라고한다.\n",
    " + 반대로 가장 상단에서 정의되어 프로그램 종료 전까지 유지되는 변수를 **전역변수(global variable)**라고한다.\n",
    " + 같은 이름의 지역변수와 전역변수가 존재할 경우, 지역변수의 우선순위가 더 높다."
   ]
  },
  {
   "cell_type": "markdown",
   "metadata": {},
   "source": [
    "* **파이썬으로 경우, 변수를 블록 단위가 아닌, 함수 안밖으로 구분해서 사용한다.**"
   ]
  },
  {
   "cell_type": "code",
   "execution_count": 110,
   "metadata": {},
   "outputs": [
    {
     "ename": "NameError",
     "evalue": "name 'aaaa' is not defined",
     "output_type": "error",
     "traceback": [
      "\u001b[1;31m---------------------------------------------------------------------------\u001b[0m",
      "\u001b[1;31mNameError\u001b[0m                                 Traceback (most recent call last)",
      "\u001b[1;32m~\\AppData\\Local\\Temp/ipykernel_11452/3077763501.py\u001b[0m in \u001b[0;36m<module>\u001b[1;34m\u001b[0m\n\u001b[0;32m      2\u001b[0m     \u001b[0maaaa\u001b[0m \u001b[1;33m=\u001b[0m \u001b[1;36m20\u001b[0m\u001b[1;33m\u001b[0m\u001b[1;33m\u001b[0m\u001b[0m\n\u001b[0;32m      3\u001b[0m \u001b[1;33m\u001b[0m\u001b[0m\n\u001b[1;32m----> 4\u001b[1;33m \u001b[0mprint\u001b[0m\u001b[1;33m(\u001b[0m\u001b[0maaaa\u001b[0m\u001b[1;33m)\u001b[0m \u001b[1;31m#오류를 발생함! aaaa는 test라는 함수안에서의 변수이니까\u001b[0m\u001b[1;33m\u001b[0m\u001b[1;33m\u001b[0m\u001b[0m\n\u001b[0m",
      "\u001b[1;31mNameError\u001b[0m: name 'aaaa' is not defined"
     ]
    }
   ],
   "source": [
    "def test(aaaa):\n",
    "    aaaa = 20\n",
    "    \n",
    "print(aaaa) #오류를 발생함! aaaa는 test라는 함수안에서의 변수이니까"
   ]
  },
  {
   "cell_type": "code",
   "execution_count": 111,
   "metadata": {},
   "outputs": [
    {
     "name": "stdout",
     "output_type": "stream",
     "text": [
      "20\n"
     ]
    },
    {
     "ename": "NameError",
     "evalue": "name 'aaaa' is not defined",
     "output_type": "error",
     "traceback": [
      "\u001b[1;31m---------------------------------------------------------------------------\u001b[0m",
      "\u001b[1;31mNameError\u001b[0m                                 Traceback (most recent call last)",
      "\u001b[1;32m~\\AppData\\Local\\Temp/ipykernel_11452/1706288443.py\u001b[0m in \u001b[0;36m<module>\u001b[1;34m\u001b[0m\n\u001b[0;32m      5\u001b[0m \u001b[1;33m\u001b[0m\u001b[0m\n\u001b[0;32m      6\u001b[0m \u001b[0mtest\u001b[0m\u001b[1;33m(\u001b[0m\u001b[1;33m)\u001b[0m\u001b[1;33m\u001b[0m\u001b[1;33m\u001b[0m\u001b[0m\n\u001b[1;32m----> 7\u001b[1;33m \u001b[0mprint\u001b[0m\u001b[1;33m(\u001b[0m\u001b[0maaaa\u001b[0m\u001b[1;33m)\u001b[0m\u001b[1;33m\u001b[0m\u001b[1;33m\u001b[0m\u001b[0m\n\u001b[0m",
      "\u001b[1;31mNameError\u001b[0m: name 'aaaa' is not defined"
     ]
    }
   ],
   "source": [
    "def test():\n",
    "    if True:\n",
    "        aaaa = 20\n",
    "    print(aaaa)   # 파이썬이니까 블록 상관없이 함수안이니까 사용 가능함 \n",
    "\n",
    "test()\n",
    "print(aaaa) #  함수 밖이니까 사용불가함"
   ]
  },
  {
   "cell_type": "code",
   "execution_count": 112,
   "metadata": {},
   "outputs": [
    {
     "name": "stdout",
     "output_type": "stream",
     "text": [
      "20\n",
      "100\n"
     ]
    }
   ],
   "source": [
    "aaaa=100\n",
    "\n",
    "def test():\n",
    "    if True:\n",
    "        aaaa = 20\n",
    "    print(aaaa)\n",
    "\n",
    "test() #지역변수 aaaa\n",
    "print(aaaa) #전역변수 aaaa"
   ]
  },
  {
   "cell_type": "markdown",
   "metadata": {},
   "source": [
    "### global 전역변수"
   ]
  },
  {
   "cell_type": "code",
   "execution_count": 116,
   "metadata": {},
   "outputs": [
    {
     "name": "stdout",
     "output_type": "stream",
     "text": [
      "20\n",
      "20\n"
     ]
    }
   ],
   "source": [
    "aaaa=100\n",
    "\n",
    "def test():\n",
    "    global aaaa\n",
    "    if True:\n",
    "        aaaa = 20\n",
    "    print(aaaa)\n",
    "\n",
    "test() #전역변수 끌고 들어왔으니!!!\n",
    "print(aaaa) #전역변수를 함수에서 끌고 들어왔으니, 업데이트 되는 거다!"
   ]
  },
  {
   "cell_type": "code",
   "execution_count": 121,
   "metadata": {},
   "outputs": [
    {
     "data": {
      "text/plain": [
       "{'__name__': '__main__',\n",
       " '__doc__': 'Automatically created module for IPython interactive environment',\n",
       " '__package__': None,\n",
       " '__loader__': None,\n",
       " '__spec__': None,\n",
       " '__builtin__': <module 'builtins' (built-in)>,\n",
       " '__builtins__': <module 'builtins' (built-in)>,\n",
       " '_ih': ['',\n",
       "  'a = [1,2,3]\\nsum(a)',\n",
       "  'a = [1,2,3]\\nsum(a)\\nmax(a)',\n",
       "  'a = [1,2,3]\\nsum(a)\\nmax(a)\\nmin(a)',\n",
       "  'a = [1,2,3]\\nprint(sum(a),max(a),min(a))',\n",
       "  'def print_hi(n):\\n    while n>0:\\n        print(\"hi\")\\n            n-=1',\n",
       "  'def print_hi(n):\\n    while n>0:\\n        print(\"hi\")\\n        n-=1',\n",
       "  'print_hi(3)',\n",
       "  'print_hi()',\n",
       "  'def print_hi(count, message):\\n    while count>0:\\n        print(message)\\n        n-=1',\n",
       "  'def print_hi(count, message):\\n    while count>0:\\n        print(message)\\n        n-=1',\n",
       "  'def print_message(count, message):\\n    while count>0:\\n        print(message)\\n        n-=1',\n",
       "  'def print_hi(n):\\n    while n>0:\\n        print(\"hi\")\\n        n-=1',\n",
       "  'print_hi(3)',\n",
       "  'def print_message(count, message):\\n    while count>0:\\n        print(message)\\n        n-=1',\n",
       "  'print_message(2,sona)',\n",
       "  'print_message(2,:sona)',\n",
       "  'print_message(2,\"sona\")',\n",
       "  'def print_message(count, message):\\n    while count>0:\\n        print(message)\\n        count-=1',\n",
       "  'print_message(2,\"sona\")',\n",
       "  'print_message1(3,)',\n",
       "  'def print_message1(count, *message):\\n    while count>0:\\n        print(message)\\n        count-=1',\n",
       "  'print_message1(3)',\n",
       "  'print_message1(3)',\n",
       "  'print_message1(3)',\n",
       "  'def print_message1(count, message):\\n    while count>0:\\n        print(message)\\n        count-=1',\n",
       "  'def print_message1(count, *message):\\n    while count>0:\\n        print(message)\\n        count-=1',\n",
       "  'print_message1(3)',\n",
       "  'def print_message2(count, message):\\n    while count>0:\\n        print(message)\\n        count-=1',\n",
       "  'print_mesage2(3)',\n",
       "  'def add(a,b):\\n    sum = a+b\\n    return sum',\n",
       "  'a=[1,2,3,4,5]\\nprint(a[:-1])',\n",
       "  'print_mesage2(3) #여기서는 오류가 발생함!!!! 왜냐하면 매개변수가 2개가 아니니!',\n",
       "  'def gugu(x):\\n    for i in range(1,10):\\n        print(\"{} * {} = {}\".format(x,i, x*i))',\n",
       "  'gugu(3)',\n",
       "  'def sona(a,b,c):\\n    print(a,b,c)',\n",
       "  'def sona(a,b,c):\\n    print(a,b,c)',\n",
       "  'y=[10,20,30]\\nprint(sona(x,*y,z))',\n",
       "  'y=[10,20,30]',\n",
       "  'y=[10,20,30]',\n",
       "  'print(sona(x,*y,z))',\n",
       "  'print(sona(1,*y,3))',\n",
       "  'print(sona(1,y,3))',\n",
       "  'a=b=c=10\\nprint(a,b,c,end=\"\\\\t\")',\n",
       "  'a=b=c=10\\nprint(a,b,c,end=\"\\\\t\")',\n",
       "  'a=b=c=10\\nprint(a,b,c,end=\"\\\\t\")',\n",
       "  'def add(a,b,c):\\n    return a+b+c',\n",
       "  'add(1,2,3)',\n",
       "  'add(1)',\n",
       "  'def add1(a,b=10,c=20):\\n    return a+b+c',\n",
       "  'print(add(1))',\n",
       "  'print(add1(1))',\n",
       "  'print(sona(1,y,3))',\n",
       "  'print(1,2,3,4,sep=\",\")',\n",
       "  'print(add(1,2,3,4))',\n",
       "  'print_msg(msg=\"hello\".count=2)',\n",
       "  'print_message(message=\"hello\".count=2)',\n",
       "  'print_message(message=\"hello\",count=2)',\n",
       "  'print_message(message=\"hello\",count=2)',\n",
       "  'print_message(count=2,message=\"hello\")',\n",
       "  'def sona(a,*b,c):\\n    return (a,b,c)',\n",
       "  'y=[10,20,30]',\n",
       "  'print(sona(1,y,3))',\n",
       "  'print(sona(1,y,3))',\n",
       "  'def sona(a,*b,c):\\n    return a,b,c',\n",
       "  'y=[10,20,30]',\n",
       "  'print(sona(1,y,3))',\n",
       "  'print(sona(1,*y,3))',\n",
       "  '# return은 두개는 안된다!\\ndef add(a,b):\\n    _sum = a+b\\n    _sum_a = a+a\\n    return _sum\\n    return _sum_a',\n",
       "  'print(add(1,2))',\n",
       "  'def add_10(x,y):\\n    return x+10, y+10',\n",
       "  'print(add_10(1,2))',\n",
       "  'print(add_10(1,2), type(add_10(1,2)))',\n",
       "  'q,w = add_10(1,2)\\n\\nprint(q)\\nprint(w)',\n",
       "  'print(sona(1,*y,3))',\n",
       "  'def sona(a,b,c):\\n    return a,b,c',\n",
       "  'y=[10,20,30]',\n",
       "  'print(sona(1,*y,3))',\n",
       "  'def add_many(*value):\\n    result = 0\\n    for i in value:\\n        result += i\\n    return result',\n",
       "  'print(add_many(1,2,3,4,5,6))',\n",
       "  'def sona(a,*b,c):\\n    return a,b,c',\n",
       "  'print(sona(1,y,3))',\n",
       "  'y=[10,20,30]',\n",
       "  'print(sona(1,y,3))',\n",
       "  'print(sona(a,2))',\n",
       "  'def sona(*a,b):\\n    return a*b',\n",
       "  'a=[10,20,30]',\n",
       "  'print(sona(a,2))',\n",
       "  'sona(a,2)',\n",
       "  'def sona(a,*b):\\n    return a,b',\n",
       "  'x=[10,20,30]',\n",
       "  'sona(2,x)',\n",
       "  'print(sona(2,x))',\n",
       "  '리스트=[10,20,30]',\n",
       "  'print(sona(2,리스트))',\n",
       "  'print(sona(2,리스트))',\n",
       "  'def sona1(*a,b):\\n    return a,b',\n",
       "  'print(sona1(리스트,1))',\n",
       "  'def sona1(*a,b):\\n    return a,b\\n\\n리스트=[10,20,30]',\n",
       "  'print(sona1(리스트,1))',\n",
       "  'print(sona(2,리스트))',\n",
       "  'print(sona(4,5))',\n",
       "  'def sona(a,*b):\\n    return a, b',\n",
       "  '리스트=[10,20,30]',\n",
       "  'print(sona(2,리스트))',\n",
       "  'print(sona(4,5))',\n",
       "  'def test(aaaa):\\n    aaaa = 20   ',\n",
       "  'print(aaaa)',\n",
       "  'def test(aaaa):\\n    aaaa = 20\\n    \\nprint(aaaa)',\n",
       "  'def test(aaaa):\\n    aaaa = 20\\n    \\nprint(aaaa) #오류를 발생함! aaaa는 test라는 함수블록 안에서의 변수이니까',\n",
       "  'def test(aaaa):\\n    aaaa = 20\\n    \\nprint(aaaa) #오류를 발생함! aaaa는 test라는 함수안에서의 변수이니까',\n",
       "  'def test():\\n    if True:\\n        aaaa = 20\\n    print(aaaa)\\n\\ntest()\\nprint(aaaa)',\n",
       "  'aaaa=100\\n\\ndef test():\\n    if True:\\n        aaaa = 20\\n    print(aaaa)\\n\\ntest() \\nprint(aaaa)',\n",
       "  '# global 전역변수\\n\\naaaa=100\\n\\ndef test():\\n    global aaaa\\n    if True:\\n        aaaa = 20\\n    print(aaaa)\\n\\ntest() #지역변수 aaaa\\nprint(aaaa) #전역변수 aaaa',\n",
       "  '# global 전역변수\\n\\naaaa=100\\n\\ndef test():\\n    if True:\\n        global aaaa = 20\\n    print(aaaa)\\n\\ntest() #지역변수 aaaa\\nprint(aaaa) #전역변수 aaaa',\n",
       "  'aaaa=100\\n\\ndef test():\\n    global aaaa\\n    if True:\\n        aaaa = 20\\n    print(aaaa)\\n\\ntest() #전역변수 끌고 들어왔으니!!!\\nprint(aaaa) #전역변수를 함수에서 끌고 들어왔으니, 업데이트 되는 거다!',\n",
       "  'aaaa=100\\n\\ndef test():\\n    global aaaa\\n    if True:\\n        aaaa = 20\\n    print(aaaa)\\n\\ntest() #전역변수 끌고 들어왔으니!!!\\nprint(aaaa) #전역변수를 함수에서 끌고 들어왔으니, 업데이트 되는 거다!',\n",
       "  'globals',\n",
       "  'print(globals)',\n",
       "  'global',\n",
       "  'globals',\n",
       "  'globals()'],\n",
       " '_oh': {1: 6,\n",
       "  2: 3,\n",
       "  3: 1,\n",
       "  47: 6,\n",
       "  91: (2, ([10, 20, 30],)),\n",
       "  117: <function globals()>,\n",
       "  120: <function globals()>},\n",
       " '_dh': ['C:\\\\sona\\\\KDT\\\\1wk'],\n",
       " 'In': ['',\n",
       "  'a = [1,2,3]\\nsum(a)',\n",
       "  'a = [1,2,3]\\nsum(a)\\nmax(a)',\n",
       "  'a = [1,2,3]\\nsum(a)\\nmax(a)\\nmin(a)',\n",
       "  'a = [1,2,3]\\nprint(sum(a),max(a),min(a))',\n",
       "  'def print_hi(n):\\n    while n>0:\\n        print(\"hi\")\\n            n-=1',\n",
       "  'def print_hi(n):\\n    while n>0:\\n        print(\"hi\")\\n        n-=1',\n",
       "  'print_hi(3)',\n",
       "  'print_hi()',\n",
       "  'def print_hi(count, message):\\n    while count>0:\\n        print(message)\\n        n-=1',\n",
       "  'def print_hi(count, message):\\n    while count>0:\\n        print(message)\\n        n-=1',\n",
       "  'def print_message(count, message):\\n    while count>0:\\n        print(message)\\n        n-=1',\n",
       "  'def print_hi(n):\\n    while n>0:\\n        print(\"hi\")\\n        n-=1',\n",
       "  'print_hi(3)',\n",
       "  'def print_message(count, message):\\n    while count>0:\\n        print(message)\\n        n-=1',\n",
       "  'print_message(2,sona)',\n",
       "  'print_message(2,:sona)',\n",
       "  'print_message(2,\"sona\")',\n",
       "  'def print_message(count, message):\\n    while count>0:\\n        print(message)\\n        count-=1',\n",
       "  'print_message(2,\"sona\")',\n",
       "  'print_message1(3,)',\n",
       "  'def print_message1(count, *message):\\n    while count>0:\\n        print(message)\\n        count-=1',\n",
       "  'print_message1(3)',\n",
       "  'print_message1(3)',\n",
       "  'print_message1(3)',\n",
       "  'def print_message1(count, message):\\n    while count>0:\\n        print(message)\\n        count-=1',\n",
       "  'def print_message1(count, *message):\\n    while count>0:\\n        print(message)\\n        count-=1',\n",
       "  'print_message1(3)',\n",
       "  'def print_message2(count, message):\\n    while count>0:\\n        print(message)\\n        count-=1',\n",
       "  'print_mesage2(3)',\n",
       "  'def add(a,b):\\n    sum = a+b\\n    return sum',\n",
       "  'a=[1,2,3,4,5]\\nprint(a[:-1])',\n",
       "  'print_mesage2(3) #여기서는 오류가 발생함!!!! 왜냐하면 매개변수가 2개가 아니니!',\n",
       "  'def gugu(x):\\n    for i in range(1,10):\\n        print(\"{} * {} = {}\".format(x,i, x*i))',\n",
       "  'gugu(3)',\n",
       "  'def sona(a,b,c):\\n    print(a,b,c)',\n",
       "  'def sona(a,b,c):\\n    print(a,b,c)',\n",
       "  'y=[10,20,30]\\nprint(sona(x,*y,z))',\n",
       "  'y=[10,20,30]',\n",
       "  'y=[10,20,30]',\n",
       "  'print(sona(x,*y,z))',\n",
       "  'print(sona(1,*y,3))',\n",
       "  'print(sona(1,y,3))',\n",
       "  'a=b=c=10\\nprint(a,b,c,end=\"\\\\t\")',\n",
       "  'a=b=c=10\\nprint(a,b,c,end=\"\\\\t\")',\n",
       "  'a=b=c=10\\nprint(a,b,c,end=\"\\\\t\")',\n",
       "  'def add(a,b,c):\\n    return a+b+c',\n",
       "  'add(1,2,3)',\n",
       "  'add(1)',\n",
       "  'def add1(a,b=10,c=20):\\n    return a+b+c',\n",
       "  'print(add(1))',\n",
       "  'print(add1(1))',\n",
       "  'print(sona(1,y,3))',\n",
       "  'print(1,2,3,4,sep=\",\")',\n",
       "  'print(add(1,2,3,4))',\n",
       "  'print_msg(msg=\"hello\".count=2)',\n",
       "  'print_message(message=\"hello\".count=2)',\n",
       "  'print_message(message=\"hello\",count=2)',\n",
       "  'print_message(message=\"hello\",count=2)',\n",
       "  'print_message(count=2,message=\"hello\")',\n",
       "  'def sona(a,*b,c):\\n    return (a,b,c)',\n",
       "  'y=[10,20,30]',\n",
       "  'print(sona(1,y,3))',\n",
       "  'print(sona(1,y,3))',\n",
       "  'def sona(a,*b,c):\\n    return a,b,c',\n",
       "  'y=[10,20,30]',\n",
       "  'print(sona(1,y,3))',\n",
       "  'print(sona(1,*y,3))',\n",
       "  '# return은 두개는 안된다!\\ndef add(a,b):\\n    _sum = a+b\\n    _sum_a = a+a\\n    return _sum\\n    return _sum_a',\n",
       "  'print(add(1,2))',\n",
       "  'def add_10(x,y):\\n    return x+10, y+10',\n",
       "  'print(add_10(1,2))',\n",
       "  'print(add_10(1,2), type(add_10(1,2)))',\n",
       "  'q,w = add_10(1,2)\\n\\nprint(q)\\nprint(w)',\n",
       "  'print(sona(1,*y,3))',\n",
       "  'def sona(a,b,c):\\n    return a,b,c',\n",
       "  'y=[10,20,30]',\n",
       "  'print(sona(1,*y,3))',\n",
       "  'def add_many(*value):\\n    result = 0\\n    for i in value:\\n        result += i\\n    return result',\n",
       "  'print(add_many(1,2,3,4,5,6))',\n",
       "  'def sona(a,*b,c):\\n    return a,b,c',\n",
       "  'print(sona(1,y,3))',\n",
       "  'y=[10,20,30]',\n",
       "  'print(sona(1,y,3))',\n",
       "  'print(sona(a,2))',\n",
       "  'def sona(*a,b):\\n    return a*b',\n",
       "  'a=[10,20,30]',\n",
       "  'print(sona(a,2))',\n",
       "  'sona(a,2)',\n",
       "  'def sona(a,*b):\\n    return a,b',\n",
       "  'x=[10,20,30]',\n",
       "  'sona(2,x)',\n",
       "  'print(sona(2,x))',\n",
       "  '리스트=[10,20,30]',\n",
       "  'print(sona(2,리스트))',\n",
       "  'print(sona(2,리스트))',\n",
       "  'def sona1(*a,b):\\n    return a,b',\n",
       "  'print(sona1(리스트,1))',\n",
       "  'def sona1(*a,b):\\n    return a,b\\n\\n리스트=[10,20,30]',\n",
       "  'print(sona1(리스트,1))',\n",
       "  'print(sona(2,리스트))',\n",
       "  'print(sona(4,5))',\n",
       "  'def sona(a,*b):\\n    return a, b',\n",
       "  '리스트=[10,20,30]',\n",
       "  'print(sona(2,리스트))',\n",
       "  'print(sona(4,5))',\n",
       "  'def test(aaaa):\\n    aaaa = 20   ',\n",
       "  'print(aaaa)',\n",
       "  'def test(aaaa):\\n    aaaa = 20\\n    \\nprint(aaaa)',\n",
       "  'def test(aaaa):\\n    aaaa = 20\\n    \\nprint(aaaa) #오류를 발생함! aaaa는 test라는 함수블록 안에서의 변수이니까',\n",
       "  'def test(aaaa):\\n    aaaa = 20\\n    \\nprint(aaaa) #오류를 발생함! aaaa는 test라는 함수안에서의 변수이니까',\n",
       "  'def test():\\n    if True:\\n        aaaa = 20\\n    print(aaaa)\\n\\ntest()\\nprint(aaaa)',\n",
       "  'aaaa=100\\n\\ndef test():\\n    if True:\\n        aaaa = 20\\n    print(aaaa)\\n\\ntest() \\nprint(aaaa)',\n",
       "  '# global 전역변수\\n\\naaaa=100\\n\\ndef test():\\n    global aaaa\\n    if True:\\n        aaaa = 20\\n    print(aaaa)\\n\\ntest() #지역변수 aaaa\\nprint(aaaa) #전역변수 aaaa',\n",
       "  '# global 전역변수\\n\\naaaa=100\\n\\ndef test():\\n    if True:\\n        global aaaa = 20\\n    print(aaaa)\\n\\ntest() #지역변수 aaaa\\nprint(aaaa) #전역변수 aaaa',\n",
       "  'aaaa=100\\n\\ndef test():\\n    global aaaa\\n    if True:\\n        aaaa = 20\\n    print(aaaa)\\n\\ntest() #전역변수 끌고 들어왔으니!!!\\nprint(aaaa) #전역변수를 함수에서 끌고 들어왔으니, 업데이트 되는 거다!',\n",
       "  'aaaa=100\\n\\ndef test():\\n    global aaaa\\n    if True:\\n        aaaa = 20\\n    print(aaaa)\\n\\ntest() #전역변수 끌고 들어왔으니!!!\\nprint(aaaa) #전역변수를 함수에서 끌고 들어왔으니, 업데이트 되는 거다!',\n",
       "  'globals',\n",
       "  'print(globals)',\n",
       "  'global',\n",
       "  'globals',\n",
       "  'globals()'],\n",
       " 'Out': {1: 6,\n",
       "  2: 3,\n",
       "  3: 1,\n",
       "  47: 6,\n",
       "  91: (2, ([10, 20, 30],)),\n",
       "  117: <function globals()>,\n",
       "  120: <function globals()>},\n",
       " 'get_ipython': <bound method InteractiveShell.get_ipython of <ipykernel.zmqshell.ZMQInteractiveShell object at 0x0000025448FCB700>>,\n",
       " 'exit': <IPython.core.autocall.ZMQExitAutocall at 0x2544901a7c0>,\n",
       " 'quit': <IPython.core.autocall.ZMQExitAutocall at 0x2544901a7c0>,\n",
       " '_': <function globals()>,\n",
       " '__': <function globals()>,\n",
       " '___': (2, ([10, 20, 30],)),\n",
       " 'json': <module 'json' from 'C:\\\\Users\\\\Admin\\\\anaconda3\\\\lib\\\\json\\\\__init__.py'>,\n",
       " 'yapf_reformat': <function __main__.yapf_reformat(cell_text)>,\n",
       " '_i': 'globals',\n",
       " '_ii': 'global',\n",
       " '_iii': 'print(globals)',\n",
       " '_i1': 'a = [1,2,3]\\nsum(a)',\n",
       " 'a': [10, 20, 30],\n",
       " '_1': 6,\n",
       " '_i2': 'a = [1,2,3]\\nsum(a)\\nmax(a)',\n",
       " '_2': 3,\n",
       " '_i3': 'a = [1,2,3]\\nsum(a)\\nmax(a)\\nmin(a)',\n",
       " '_3': 1,\n",
       " '_i4': 'a = [1,2,3]\\nprint(sum(a),max(a),min(a))',\n",
       " '_i5': 'def print_hi(n):\\n    while n>0:\\n        print(\"hi\")\\n            n-=1',\n",
       " '_i6': 'def print_hi(n):\\n    while n>0:\\n        print(\"hi\")\\n        n-=1',\n",
       " 'print_hi': <function __main__.print_hi(n)>,\n",
       " '_i7': 'print_hi(3)',\n",
       " '_i8': 'print_hi()',\n",
       " '_i9': 'def print_hi(count, message):\\n    while count>0:\\n        print(message)\\n        n-=1',\n",
       " '_i10': 'def print_hi(count, message):\\n    while count>0:\\n        print(message)\\n        n-=1',\n",
       " '_i11': 'def print_message(count, message):\\n    while count>0:\\n        print(message)\\n        n-=1',\n",
       " 'print_message': <function __main__.print_message(count, message)>,\n",
       " '_i12': 'def print_hi(n):\\n    while n>0:\\n        print(\"hi\")\\n        n-=1',\n",
       " '_i13': 'print_hi(3)',\n",
       " '_i14': 'def print_message(count, message):\\n    while count>0:\\n        print(message)\\n        n-=1',\n",
       " '_i15': 'print_message(2,sona)',\n",
       " '_i16': 'print_message(2,:sona)',\n",
       " '_i17': 'print_message(2,\"sona\")',\n",
       " '_i18': 'def print_message(count, message):\\n    while count>0:\\n        print(message)\\n        count-=1',\n",
       " '_i19': 'print_message(2,\"sona\")',\n",
       " '_i20': 'print_message1(3,)',\n",
       " '_i21': 'def print_message1(count, *message):\\n    while count>0:\\n        print(message)\\n        count-=1',\n",
       " 'print_message1': <function __main__.print_message1(count, *message)>,\n",
       " '_i22': 'print_message1(3)',\n",
       " '_i23': 'print_message1(3)',\n",
       " '_i24': 'print_message1(3)',\n",
       " '_i25': 'def print_message1(count, message):\\n    while count>0:\\n        print(message)\\n        count-=1',\n",
       " '_i26': 'def print_message1(count, *message):\\n    while count>0:\\n        print(message)\\n        count-=1',\n",
       " '_i27': 'print_message1(3)',\n",
       " '_i28': 'def print_message2(count, message):\\n    while count>0:\\n        print(message)\\n        count-=1',\n",
       " 'print_message2': <function __main__.print_message2(count, message)>,\n",
       " '_i29': 'print_mesage2(3)',\n",
       " '_i30': 'def add(a,b):\\n    sum = a+b\\n    return sum',\n",
       " 'add': <function __main__.add(a, b)>,\n",
       " '_i31': 'a=[1,2,3,4,5]\\nprint(a[:-1])',\n",
       " '_i32': 'print_mesage2(3) #여기서는 오류가 발생함!!!! 왜냐하면 매개변수가 2개가 아니니!',\n",
       " '_i33': 'def gugu(x):\\n    for i in range(1,10):\\n        print(\"{} * {} = {}\".format(x,i, x*i))',\n",
       " 'gugu': <function __main__.gugu(x)>,\n",
       " '_i34': 'gugu(3)',\n",
       " '_i35': 'def sona(a,b,c):\\n    print(a,b,c)',\n",
       " 'sona': <function __main__.sona(a, *b)>,\n",
       " '_i36': 'def sona(a,b,c):\\n    print(a,b,c)',\n",
       " '_i37': 'y=[10,20,30]\\nprint(sona(x,*y,z))',\n",
       " 'y': [10, 20, 30],\n",
       " '_i38': 'y=[10,20,30]',\n",
       " '_i39': 'y=[10,20,30]',\n",
       " '_i40': 'print(sona(x,*y,z))',\n",
       " '_i41': 'print(sona(1,*y,3))',\n",
       " '_i42': 'print(sona(1,y,3))',\n",
       " '_i43': 'a=b=c=10\\nprint(a,b,c,end=\"\\\\t\")',\n",
       " 'b': 10,\n",
       " 'c': 10,\n",
       " '_i44': 'a=b=c=10\\nprint(a,b,c,end=\"\\\\t\")',\n",
       " '_i45': 'a=b=c=10\\nprint(a,b,c,end=\"\\\\t\")',\n",
       " '_i46': 'def add(a,b,c):\\n    return a+b+c',\n",
       " '_i47': 'add(1,2,3)',\n",
       " '_47': 6,\n",
       " '_i48': 'add(1)',\n",
       " '_i49': 'def add1(a,b=10,c=20):\\n    return a+b+c',\n",
       " 'add1': <function __main__.add1(a, b=10, c=20)>,\n",
       " '_i50': 'print(add(1))',\n",
       " '_i51': 'print(add1(1))',\n",
       " '_i52': 'print(sona(1,y,3))',\n",
       " '_i53': 'print(1,2,3,4,sep=\",\")',\n",
       " '_i54': 'print(add(1,2,3,4))',\n",
       " '_i55': 'print_msg(msg=\"hello\".count=2)',\n",
       " '_i56': 'print_message(message=\"hello\".count=2)',\n",
       " '_i57': 'print_message(message=\"hello\",count=2)',\n",
       " '_i58': 'print_message(message=\"hello\",count=2)',\n",
       " '_i59': 'print_message(count=2,message=\"hello\")',\n",
       " '_i60': 'def sona(a,*b,c):\\n    return (a,b,c)',\n",
       " '_i61': 'y=[10,20,30]',\n",
       " '_i62': 'print(sona(1,y,3))',\n",
       " '_i63': 'print(sona(1,y,3))',\n",
       " '_i64': 'def sona(a,*b,c):\\n    return a,b,c',\n",
       " '_i65': 'y=[10,20,30]',\n",
       " '_i66': 'print(sona(1,y,3))',\n",
       " '_i67': 'print(sona(1,*y,3))',\n",
       " '_i68': '# return은 두개는 안된다!\\ndef add(a,b):\\n    _sum = a+b\\n    _sum_a = a+a\\n    return _sum\\n    return _sum_a',\n",
       " '_i69': 'print(add(1,2))',\n",
       " '_i70': 'def add_10(x,y):\\n    return x+10, y+10',\n",
       " 'add_10': <function __main__.add_10(x, y)>,\n",
       " '_i71': 'print(add_10(1,2))',\n",
       " '_i72': 'print(add_10(1,2), type(add_10(1,2)))',\n",
       " '_i73': 'q,w = add_10(1,2)\\n\\nprint(q)\\nprint(w)',\n",
       " 'q': 11,\n",
       " 'w': 12,\n",
       " '_i74': 'print(sona(1,*y,3))',\n",
       " '_i75': 'def sona(a,b,c):\\n    return a,b,c',\n",
       " '_i76': 'y=[10,20,30]',\n",
       " '_i77': 'print(sona(1,*y,3))',\n",
       " '_i78': 'def add_many(*value):\\n    result = 0\\n    for i in value:\\n        result += i\\n    return result',\n",
       " 'add_many': <function __main__.add_many(*value)>,\n",
       " '_i79': 'print(add_many(1,2,3,4,5,6))',\n",
       " '_i80': 'def sona(a,*b,c):\\n    return a,b,c',\n",
       " '_i81': 'print(sona(1,y,3))',\n",
       " '_i82': 'y=[10,20,30]',\n",
       " '_i83': 'print(sona(1,y,3))',\n",
       " '_i84': 'print(sona(a,2))',\n",
       " '_i85': 'def sona(*a,b):\\n    return a*b',\n",
       " '_i86': 'a=[10,20,30]',\n",
       " '_i87': 'print(sona(a,2))',\n",
       " '_i88': 'sona(a,2)',\n",
       " '_i89': 'def sona(a,*b):\\n    return a,b',\n",
       " '_i90': 'x=[10,20,30]',\n",
       " 'x': [10, 20, 30],\n",
       " '_i91': 'sona(2,x)',\n",
       " '_91': (2, ([10, 20, 30],)),\n",
       " '_i92': 'print(sona(2,x))',\n",
       " '_i93': '리스트=[10,20,30]',\n",
       " '리스트': [10, 20, 30],\n",
       " '_i94': 'print(sona(2,리스트))',\n",
       " '_i95': 'print(sona(2,리스트))',\n",
       " '_i96': 'def sona1(*a,b):\\n    return a,b',\n",
       " 'sona1': <function __main__.sona1(*a, b)>,\n",
       " '_i97': 'print(sona1(리스트,1))',\n",
       " '_i98': 'def sona1(*a,b):\\n    return a,b\\n\\n리스트=[10,20,30]',\n",
       " '_i99': 'print(sona1(리스트,1))',\n",
       " '_i100': 'print(sona(2,리스트))',\n",
       " '_i101': 'print(sona(4,5))',\n",
       " '_i102': 'def sona(a,*b):\\n    return a, b',\n",
       " '_i103': '리스트=[10,20,30]',\n",
       " '_i104': 'print(sona(2,리스트))',\n",
       " '_i105': 'print(sona(4,5))',\n",
       " '_i106': 'def test(aaaa):\\n    aaaa = 20   ',\n",
       " 'test': <function __main__.test()>,\n",
       " '_i107': 'print(aaaa)',\n",
       " '_i108': 'def test(aaaa):\\n    aaaa = 20\\n    \\nprint(aaaa)',\n",
       " '_i109': 'def test(aaaa):\\n    aaaa = 20\\n    \\nprint(aaaa) #오류를 발생함! aaaa는 test라는 함수블록 안에서의 변수이니까',\n",
       " '_i110': 'def test(aaaa):\\n    aaaa = 20\\n    \\nprint(aaaa) #오류를 발생함! aaaa는 test라는 함수안에서의 변수이니까',\n",
       " '_i111': 'def test():\\n    if True:\\n        aaaa = 20\\n    print(aaaa)\\n\\ntest()\\nprint(aaaa)',\n",
       " '_i112': 'aaaa=100\\n\\ndef test():\\n    if True:\\n        aaaa = 20\\n    print(aaaa)\\n\\ntest() \\nprint(aaaa)',\n",
       " 'aaaa': 20,\n",
       " '_i113': '# global 전역변수\\n\\naaaa=100\\n\\ndef test():\\n    global aaaa\\n    if True:\\n        aaaa = 20\\n    print(aaaa)\\n\\ntest() #지역변수 aaaa\\nprint(aaaa) #전역변수 aaaa',\n",
       " '_i114': '# global 전역변수\\n\\naaaa=100\\n\\ndef test():\\n    if True:\\n        global aaaa = 20\\n    print(aaaa)\\n\\ntest() #지역변수 aaaa\\nprint(aaaa) #전역변수 aaaa',\n",
       " '_i115': 'aaaa=100\\n\\ndef test():\\n    global aaaa\\n    if True:\\n        aaaa = 20\\n    print(aaaa)\\n\\ntest() #전역변수 끌고 들어왔으니!!!\\nprint(aaaa) #전역변수를 함수에서 끌고 들어왔으니, 업데이트 되는 거다!',\n",
       " '_i116': 'aaaa=100\\n\\ndef test():\\n    global aaaa\\n    if True:\\n        aaaa = 20\\n    print(aaaa)\\n\\ntest() #전역변수 끌고 들어왔으니!!!\\nprint(aaaa) #전역변수를 함수에서 끌고 들어왔으니, 업데이트 되는 거다!',\n",
       " '_i117': 'globals',\n",
       " '_117': <function globals()>,\n",
       " '_i118': 'print(globals)',\n",
       " '_i119': 'global',\n",
       " '_i120': 'globals',\n",
       " '_120': <function globals()>,\n",
       " '_i121': 'globals()'}"
      ]
     },
     "execution_count": 121,
     "metadata": {},
     "output_type": "execute_result"
    }
   ],
   "source": [
    "globals() #전역변수로 설정되어있는 애들을 볼 수 있다."
   ]
  },
  {
   "cell_type": "markdown",
   "metadata": {},
   "source": [
    "## variable length argument (가변길이 인자)\n",
    " - 전달되는 파라미터의 개수가 가변적일때 사용한다.\n",
    " - 예를들면 print 함수나 format 함수를 생각해 볼 수 있다. \n",
    "     * **args**    : 파라미터를 튜플의 형태로 전달\n",
    "\n",
    "     * **kwargs** : 파리미터를 딕셔너리 형태로 전달(네임드 파라미터)\n",
    "     \n",
    "```\n",
    "    def 함수이름(*매개변수): \n",
    "        수행할 문장\n",
    "    ...\n",
    "```\n",
    "```\n",
    "    def 함수이름(**kwargs): \n",
    "        수행할 문장\n",
    "```"
   ]
  },
  {
   "cell_type": "code",
   "execution_count": null,
   "metadata": {},
   "outputs": [],
   "source": [
    "def test(*args):\n",
    "    pass\n",
    "\n",
    "test(1)\n",
    "test(2)\n",
    "test(1,2,3,4)"
   ]
  },
  {
   "cell_type": "code",
   "execution_count": 125,
   "metadata": {},
   "outputs": [
    {
     "name": "stdout",
     "output_type": "stream",
     "text": [
      "a 1\n"
     ]
    }
   ],
   "source": [
    "def test2(**kwargs):\n",
    "    for k,v in kwargs.items():\n",
    "        print(k,v)\n",
    "    \n",
    "test2(a=1)"
   ]
  },
  {
   "cell_type": "code",
   "execution_count": 126,
   "metadata": {},
   "outputs": [
    {
     "name": "stdout",
     "output_type": "stream",
     "text": [
      "a 1\n",
      "b 2\n"
     ]
    }
   ],
   "source": [
    "test2(a=1,b=2)"
   ]
  },
  {
   "cell_type": "markdown",
   "metadata": {},
   "source": [
    "## keyword parameter (키워드 파라미터)\n",
    " - \\**가 붙은 경우에는 키워드 파라미터로 인식\n",
    " - 즉 함수 호출 시, 파리미터의 이름과 값을 함께 전달 가능"
   ]
  },
  {
   "cell_type": "code",
   "execution_count": 145,
   "metadata": {},
   "outputs": [],
   "source": [
    "#입력값을 모두 더하는(연결하는) 함수를 구현해 보세요.  \n",
    "\n",
    "def my_print(*args, **kwargs):\n",
    "     print(*args, **kwargs)"
   ]
  },
  {
   "cell_type": "code",
   "execution_count": null,
   "metadata": {},
   "outputs": [],
   "source": []
  },
  {
   "cell_type": "code",
   "execution_count": 142,
   "metadata": {},
   "outputs": [
    {
     "name": "stdout",
     "output_type": "stream",
     "text": [
      "1\t2\t3!!!None\n"
     ]
    }
   ],
   "source": [
    "print( my_print(1,2,3,sep=\"\\t\",end=\"!!!\") )"
   ]
  },
  {
   "cell_type": "code",
   "execution_count": 143,
   "metadata": {},
   "outputs": [
    {
     "name": "stdout",
     "output_type": "stream",
     "text": [
      "[1, 2, 3, 4] {'또방': '여자', '꾸꾸': '남자'}\n",
      "None\n"
     ]
    }
   ],
   "source": [
    "a=[1,2,3,4]\n",
    "s={\"또방\":\"여자\",\"꾸꾸\":\"남자\"}\n",
    "\n",
    "print(my_print(a,s))"
   ]
  },
  {
   "cell_type": "code",
   "execution_count": 146,
   "metadata": {},
   "outputs": [],
   "source": [
    "def my_print1(*args, **kwargs):\n",
    "     return args, kwargs"
   ]
  },
  {
   "cell_type": "code",
   "execution_count": 148,
   "metadata": {},
   "outputs": [
    {
     "name": "stdout",
     "output_type": "stream",
     "text": [
      "((1, 2, 3), {'sep': '\\t', 'end': '!!!'})\n"
     ]
    }
   ],
   "source": [
    "print( my_print1(1,2,3,sep=\"\\t\",end=\"!!!\") )"
   ]
  },
  {
   "cell_type": "code",
   "execution_count": 149,
   "metadata": {},
   "outputs": [
    {
     "name": "stdout",
     "output_type": "stream",
     "text": [
      "(([1, 2, 3, 4], {'또방': '여자', '꾸꾸': '남자'}), {})\n"
     ]
    }
   ],
   "source": [
    "a=[1,2,3,4]\n",
    "s={\"또방\":\"여자\",\"꾸꾸\":\"남자\"}\n",
    "\n",
    "print(my_print1(a,s))"
   ]
  },
  {
   "cell_type": "code",
   "execution_count": null,
   "metadata": {},
   "outputs": [],
   "source": []
  },
  {
   "cell_type": "code",
   "execution_count": null,
   "metadata": {},
   "outputs": [],
   "source": []
  },
  {
   "cell_type": "markdown",
   "metadata": {},
   "source": [
    "# 💥**지금까지 배운 함수 연습문제-1** \n",
    "\n",
    "1. 리스트를 입력받아서 리스트의 요소중 중복된 값은 삭제하고, 유일한 값만 유지하는 리스트를 반환하는 함수를 정의 하세요.  \n",
    "\n",
    "----\n",
    "입력 예 [1,2,2,3,4,5,4]\n",
    "\n",
    "출력 예 [1,2,3,4,5] \n",
    "\n",
    "----\n",
    "\n",
    "2. 문자열 두개를 인자로 전달받아 길이가 더 긴 문자열을 반환하는 함수를 정의하세요. 단, 두개의 길이가 같다면 첫번째 인자를 반환하세요. \n",
    "\n",
    "----\n",
    "입력 예 'test' 'python' \n",
    "출력 예 'python'\n",
    "\n",
    "입력 예 'java' 'test'\n",
    "출력 예 'java'\n",
    "\n",
    "-----\n"
   ]
  },
  {
   "cell_type": "code",
   "execution_count": 174,
   "metadata": {},
   "outputs": [],
   "source": [
    "# 문제1\n",
    "\n",
    "def rmv(*get_list):\n",
    "    result=list(set(get_list))\n",
    "    return result"
   ]
  },
  {
   "cell_type": "code",
   "execution_count": 175,
   "metadata": {},
   "outputs": [],
   "source": [
    "a=[1,2,2,3,4,5,4]"
   ]
  },
  {
   "cell_type": "code",
   "execution_count": 178,
   "metadata": {},
   "outputs": [
    {
     "name": "stdout",
     "output_type": "stream",
     "text": [
      "[1, 2, 3, 4, 5]\n"
     ]
    }
   ],
   "source": [
    "print(rmv(*a))"
   ]
  },
  {
   "cell_type": "code",
   "execution_count": 188,
   "metadata": {},
   "outputs": [
    {
     "data": {
      "text/plain": [
       "[1, 2, 3, 4, 5]"
      ]
     },
     "execution_count": 188,
     "metadata": {},
     "output_type": "execute_result"
    }
   ],
   "source": [
    "b=[1,2,2,3,4,5,4]\n",
    "\n",
    "def rmv2(get_list):\n",
    "    result=list(set(get_list))\n",
    "    return result\n",
    "\n",
    "rmv2(b)"
   ]
  },
  {
   "cell_type": "code",
   "execution_count": 181,
   "metadata": {},
   "outputs": [],
   "source": [
    "# 문제2\n",
    "def long(a,b):\n",
    "    if len(a)>len(b):\n",
    "        print(a)\n",
    "    elif len(a)==len(b):\n",
    "        print(a)\n",
    "    else:\n",
    "        print(b)"
   ]
  },
  {
   "cell_type": "code",
   "execution_count": 182,
   "metadata": {},
   "outputs": [
    {
     "name": "stdout",
     "output_type": "stream",
     "text": [
      "python\n"
     ]
    }
   ],
   "source": [
    "long(\"test\",\"python\")"
   ]
  },
  {
   "cell_type": "code",
   "execution_count": 183,
   "metadata": {},
   "outputs": [
    {
     "name": "stdout",
     "output_type": "stream",
     "text": [
      "java\n"
     ]
    }
   ],
   "source": [
    "long(\"java\",\"test\")"
   ]
  },
  {
   "cell_type": "markdown",
   "metadata": {},
   "source": [
    "# Lambda 함수"
   ]
  },
  {
   "cell_type": "markdown",
   "metadata": {},
   "source": [
    "* **Lambda 함수**\n",
    " + 단일문으로 표현되는 익명함수이다.\n",
    " + 익명함수란 이름이 없는 구현체만 존재하는 간단한 함수를 의미한다.\n",
    " + 코드 상에서 한번만 사용되는 기능이 있을 때, 굳이 함수로 만들지 않고 1회성으로 만들어서 쓸 때 사용한다.\n",
    " + lambda 예약어로 만든 함수는 return 명령어가 없어도 결괏값을 돌려준다."
   ]
  },
  {
   "cell_type": "code",
   "execution_count": 189,
   "metadata": {},
   "outputs": [],
   "source": [
    "def add(a,b):\n",
    "    return a+b"
   ]
  },
  {
   "cell_type": "code",
   "execution_count": 190,
   "metadata": {},
   "outputs": [
    {
     "data": {
      "text/plain": [
       "<function __main__.<lambda>(a, b)>"
      ]
     },
     "execution_count": 190,
     "metadata": {},
     "output_type": "execute_result"
    }
   ],
   "source": [
    "#위와 동일한 식\n",
    "\n",
    "lambda a,b : a+b"
   ]
  },
  {
   "cell_type": "code",
   "execution_count": 193,
   "metadata": {},
   "outputs": [
    {
     "data": {
      "text/plain": [
       "function"
      ]
     },
     "execution_count": 193,
     "metadata": {},
     "output_type": "execute_result"
    }
   ],
   "source": [
    "type(lambda a,b : a+b) #타입이 함수이다!!"
   ]
  },
  {
   "cell_type": "code",
   "execution_count": 191,
   "metadata": {},
   "outputs": [
    {
     "data": {
      "text/plain": [
       "5"
      ]
     },
     "execution_count": 191,
     "metadata": {},
     "output_type": "execute_result"
    }
   ],
   "source": [
    "def add(a,b):\n",
    "    return a+b\n",
    "\n",
    "add(2,3)"
   ]
  },
  {
   "cell_type": "code",
   "execution_count": 192,
   "metadata": {},
   "outputs": [
    {
     "data": {
      "text/plain": [
       "5"
      ]
     },
     "execution_count": 192,
     "metadata": {},
     "output_type": "execute_result"
    }
   ],
   "source": [
    "(lambda a,b : a+b)(2,3)"
   ]
  },
  {
   "cell_type": "code",
   "execution_count": 199,
   "metadata": {},
   "outputs": [],
   "source": [
    "def mul(a,b):\n",
    "    return a*b"
   ]
  },
  {
   "cell_type": "markdown",
   "metadata": {},
   "source": [
    "## 함수의 매개변수로 함수를 사용하기!"
   ]
  },
  {
   "cell_type": "markdown",
   "metadata": {},
   "source": [
    "### 들어가기"
   ]
  },
  {
   "cell_type": "code",
   "execution_count": 196,
   "metadata": {},
   "outputs": [],
   "source": [
    "def jjj(func,a,b):             \n",
    "    result = func(a,b)\n",
    "    return result"
   ]
  },
  {
   "cell_type": "code",
   "execution_count": 197,
   "metadata": {},
   "outputs": [
    {
     "data": {
      "text/plain": [
       "11"
      ]
     },
     "execution_count": 197,
     "metadata": {},
     "output_type": "execute_result"
    }
   ],
   "source": [
    "jjj(add,5,6)"
   ]
  },
  {
   "cell_type": "code",
   "execution_count": 198,
   "metadata": {},
   "outputs": [
    {
     "data": {
      "text/plain": [
       "6"
      ]
     },
     "execution_count": 198,
     "metadata": {},
     "output_type": "execute_result"
    }
   ],
   "source": [
    "jjj(mul,2,3)"
   ]
  },
  {
   "cell_type": "code",
   "execution_count": null,
   "metadata": {},
   "outputs": [],
   "source": [
    "# 매개변수로 '함수와 요소'가 같이 받을 때 그 함수를 lambda 함수로 간단히 쓴다.\n",
    "\n",
    "jjj( lambda a,b:a+b , 2 , 3 )"
   ]
  },
  {
   "cell_type": "markdown",
   "metadata": {},
   "source": [
    "### 심화 1"
   ]
  },
  {
   "cell_type": "code",
   "execution_count": 213,
   "metadata": {},
   "outputs": [],
   "source": [
    "def t(x):\n",
    "    if x == 1:\n",
    "        return lambda a,b: a+b\n",
    "    elif x==2:\n",
    "        return lambda a,b: a-b\n",
    "    else:\n",
    "        return lambda a,b: a*b\n"
   ]
  },
  {
   "cell_type": "code",
   "execution_count": 216,
   "metadata": {},
   "outputs": [
    {
     "name": "stdout",
     "output_type": "stream",
     "text": [
      "+는 1, -는 2, *는 3을 입력하세요2\n"
     ]
    },
    {
     "data": {
      "text/plain": [
       "3"
      ]
     },
     "execution_count": 216,
     "metadata": {},
     "output_type": "execute_result"
    }
   ],
   "source": [
    "func1=t(int(input(\"+는 1, -는 2, *는 3을 입력하세요\"))) ###func1가 함수가 되는 것이다.\n",
    "\n",
    "func1(6,3)"
   ]
  },
  {
   "cell_type": "markdown",
   "metadata": {},
   "source": [
    "### 심화 2"
   ]
  },
  {
   "cell_type": "code",
   "execution_count": 215,
   "metadata": {},
   "outputs": [
    {
     "data": {
      "text/plain": [
       "5"
      ]
     },
     "execution_count": 215,
     "metadata": {},
     "output_type": "execute_result"
    }
   ],
   "source": [
    "(lambda func,a,b: func(a,b))(add,2,3)"
   ]
  },
  {
   "cell_type": "markdown",
   "metadata": {},
   "source": [
    "## filter, map, reduce\n",
    "\n",
    " + lambda가 유용하게 사용되는 3가지 대표적 함수이다.\n",
    " + 함수형 프로그래밍의 기본 요소이기도 하다."
   ]
  },
  {
   "cell_type": "markdown",
   "metadata": {},
   "source": [
    "### filter\n",
    "\n",
    "* 함수 결과 값이 True일 경우 실행시키게 해주는 것이 filter 임\n",
    "+ filter : 특정 조건을 만족하는 요소만 남기고 필터링한다."
   ]
  },
  {
   "cell_type": "code",
   "execution_count": 218,
   "metadata": {},
   "outputs": [
    {
     "name": "stdout",
     "output_type": "stream",
     "text": [
      "False\n"
     ]
    }
   ],
   "source": [
    "def even(n):\n",
    "    return n%2==0\n",
    "\n",
    "print(even(5))"
   ]
  },
  {
   "cell_type": "code",
   "execution_count": 227,
   "metadata": {},
   "outputs": [
    {
     "data": {
      "text/plain": [
       "[2, 4, 6, 8]"
      ]
     },
     "execution_count": 227,
     "metadata": {},
     "output_type": "execute_result"
    }
   ],
   "source": [
    "def even1(n):\n",
    "    return n%2==0\n",
    "\n",
    "nums=[1,2,3,4,6,8,9,11]\n",
    "\n",
    "list(filter(even1,nums))"
   ]
  },
  {
   "cell_type": "code",
   "execution_count": 230,
   "metadata": {},
   "outputs": [
    {
     "data": {
      "text/plain": [
       "[2, 4, 6, 8]"
      ]
     },
     "execution_count": 230,
     "metadata": {},
     "output_type": "execute_result"
    }
   ],
   "source": [
    "#위와 동일한 식\n",
    "\n",
    "list(filter(lambda n: n%2==0,nums))"
   ]
  },
  {
   "cell_type": "code",
   "execution_count": 231,
   "metadata": {},
   "outputs": [
    {
     "data": {
      "text/plain": [
       "[4, 6, 8, 9, 11]"
      ]
     },
     "execution_count": 231,
     "metadata": {},
     "output_type": "execute_result"
    }
   ],
   "source": [
    "# 다른 예제 만들어보기\n",
    "\n",
    "list(filter(lambda x : x+2>5,nums))"
   ]
  },
  {
   "cell_type": "markdown",
   "metadata": {},
   "source": [
    "### map\n",
    "\n",
    " + map    : 각 원소를 주어진 수식에 따라 변형하여 새로운 리스트를 반환한다."
   ]
  },
  {
   "cell_type": "code",
   "execution_count": 15,
   "metadata": {},
   "outputs": [],
   "source": [
    "# map\n",
    "nums = [1, 2, 3, 6, 8, 9, 10, 11, 13, 15]"
   ]
  },
  {
   "cell_type": "code",
   "execution_count": 237,
   "metadata": {},
   "outputs": [
    {
     "name": "stdout",
     "output_type": "stream",
     "text": [
      "[1, 2, 3, 6, 8, 9, 10, 11, 13, 15, 1, 2, 3, 6, 8, 9, 10, 11, 13, 15, 1, 2, 3, 6, 8, 9, 10, 11, 13, 15, 1, 2, 3, 6, 8, 9, 10, 11, 13, 15, 1, 2, 3, 6, 8, 9, 10, 11, 13, 15, 1, 2, 3, 6, 8, 9, 10, 11, 13, 15, 1, 2, 3, 6, 8, 9, 10, 11, 13, 15, 1, 2, 3, 6, 8, 9, 10, 11, 13, 15, 1, 2, 3, 6, 8, 9, 10, 11, 13, 15, 1, 2, 3, 6, 8, 9, 10, 11, 13, 15]\n"
     ]
    }
   ],
   "source": [
    "def mul_10(x):\n",
    "    return x*10\n",
    "\n",
    "print(mul_10(nums))"
   ]
  },
  {
   "cell_type": "code",
   "execution_count": 236,
   "metadata": {},
   "outputs": [
    {
     "data": {
      "text/plain": [
       "[10, 20, 30, 60, 80, 90, 100, 110, 130, 150]"
      ]
     },
     "execution_count": 236,
     "metadata": {},
     "output_type": "execute_result"
    }
   ],
   "source": [
    "#비교하기!!\n",
    "\n",
    "list(map(mul_10, nums))"
   ]
  },
  {
   "cell_type": "code",
   "execution_count": 17,
   "metadata": {},
   "outputs": [
    {
     "name": "stdout",
     "output_type": "stream",
     "text": [
      "[1, 4, 9, 36, 64, 81, 100, 121, 169, 225]\n"
     ]
    }
   ],
   "source": [
    "# 주어진 리스트, 리스트의 제곱을한 숫자로 새로운 리스트\n",
    "\n",
    "new_list = list(map(lambda x: x**2,nums))\n",
    "print(new_list)"
   ]
  },
  {
   "cell_type": "code",
   "execution_count": 5,
   "metadata": {},
   "outputs": [],
   "source": [
    "#람다 표현식을 인수로 사용하기  ex) map \n",
    "\n"
   ]
  },
  {
   "cell_type": "code",
   "execution_count": null,
   "metadata": {},
   "outputs": [],
   "source": []
  },
  {
   "cell_type": "code",
   "execution_count": 251,
   "metadata": {},
   "outputs": [
    {
     "name": "stdout",
     "output_type": "stream",
     "text": [
      "[1, 2, '3', 4, 5, '6', 7, 8, '9', 10]\n"
     ]
    }
   ],
   "source": [
    "#람다 표현식에 조건부 표현식 사용하기\n",
    "#lambda 매개변수들: 식1 if 조건식 else 식2\n",
    "\n",
    "a = [1, 2, 3, 4, 5, 6, 7, 8, 9, 10]\n",
    "\n",
    "#(lambda n : str(n) if n%3==0 else n )(3)\n",
    "\n",
    "aaa = list(map(lambda x : str(x) if x%3==0 else x, a))\n",
    "print(aaa)"
   ]
  },
  {
   "cell_type": "code",
   "execution_count": 253,
   "metadata": {},
   "outputs": [
    {
     "name": "stdout",
     "output_type": "stream",
     "text": [
      "['fail', 'fail', 'fail', 'fail', 'fail', 'fail', 'pass', 'pass']\n"
     ]
    }
   ],
   "source": [
    "score = [10,20,30,50,60,70,80,90]\n",
    "\n",
    "\n",
    "result= list(map(lambda x: \"pass\" if x>70 else \"fail\", score))\n",
    "print(result)"
   ]
  },
  {
   "cell_type": "code",
   "execution_count": 272,
   "metadata": {},
   "outputs": [
    {
     "name": "stdout",
     "output_type": "stream",
     "text": [
      "[11, '2', 3.0, '4', 15, '6', 17, '8', 9.0, '10']\n"
     ]
    }
   ],
   "source": [
    "#lambda 매개변수들: 식1 if 조건식1 else 식2 if 조건식2 else 식3\n",
    "# 이렇게 가독성이 떨어질 때에는 그냥 def 함수로 만들고 if elif else 사용권장\n",
    "a = [1, 2, 3, 4, 5, 6, 7, 8, 9, 10]\n",
    "\n",
    "\n",
    "def f(x):\n",
    "    a_1=[]\n",
    "    for i in x:\n",
    "        if i%2==0: \n",
    "            a_1.append(str(i))\n",
    "        elif i%3==0: \n",
    "            a_1.append(float(i))\n",
    "        else: \n",
    "            a_1.append(i+10)\n",
    "    return(a_1)\n",
    "    \n",
    "print(f(a))"
   ]
  },
  {
   "cell_type": "code",
   "execution_count": 264,
   "metadata": {},
   "outputs": [
    {
     "name": "stdout",
     "output_type": "stream",
     "text": [
      "[11, '2', 3.0, '4', 15, '6', 17, '8', 9.0, '10']\n"
     ]
    }
   ],
   "source": [
    "#동일 식        \n",
    "re = lambda x: str(x) if x%2==0 else float(x)  if x%3==0 else x+10\n",
    "\n",
    "print(list(map(re,a)))"
   ]
  },
  {
   "cell_type": "code",
   "execution_count": 266,
   "metadata": {},
   "outputs": [
    {
     "data": {
      "text/plain": [
       "[2, 8, 18, 32, 50]"
      ]
     },
     "execution_count": 266,
     "metadata": {},
     "output_type": "execute_result"
    }
   ],
   "source": [
    "#map에 객체를 여러 개 넣기\n",
    "#map은 리스트 등의 반복 가능한 객체를 여러 개 넣을 수도 있습니다. \n",
    "#다음은 두 리스트의 요소를 곱해서 새 리스트를 만듭니다.\n",
    "\n",
    "a = [1, 2, 3, 4, 5]\n",
    "b = [2, 4, 6, 8, 10]\n",
    "\n",
    "list(map(lambda x,y: x*y,a,b))"
   ]
  },
  {
   "cell_type": "markdown",
   "metadata": {},
   "source": [
    "### reduce 사용하기\n",
    "\n",
    "+ reduce : 차례대로 앞 2개의 원소를 가지고 연산. 연산의 결과가 또 다음 연산의 입력으로 진행된다. 따라서 마지막까지 진행되면 최종 출력은 한개의 값만 남게 된다.\n",
    "-  from functools import reduce\n",
    "-  reduce(함수, 반복가능한객체)\n",
    "\n"
   ]
  },
  {
   "cell_type": "code",
   "execution_count": 3,
   "metadata": {},
   "outputs": [],
   "source": [
    "def add(a,b):\n",
    "    return a+b"
   ]
  },
  {
   "cell_type": "code",
   "execution_count": 4,
   "metadata": {},
   "outputs": [
    {
     "data": {
      "text/plain": [
       "15"
      ]
     },
     "execution_count": 4,
     "metadata": {},
     "output_type": "execute_result"
    }
   ],
   "source": [
    "# reduce 사용하기\n",
    "#  from functools import reduce\n",
    "#  reduce(함수, 반복가능한객체)\n",
    "\n",
    "from functools import reduce\n",
    "\n",
    "a= [1,2,3,4,5]\n",
    "\n",
    "reduce(add,a)"
   ]
  },
  {
   "cell_type": "code",
   "execution_count": 1,
   "metadata": {},
   "outputs": [
    {
     "ename": "NameError",
     "evalue": "name 'a' is not defined",
     "output_type": "error",
     "traceback": [
      "\u001b[1;31m---------------------------------------------------------------------------\u001b[0m",
      "\u001b[1;31mNameError\u001b[0m                                 Traceback (most recent call last)",
      "\u001b[1;32m~\\AppData\\Local\\Temp/ipykernel_13448/133060926.py\u001b[0m in \u001b[0;36m<module>\u001b[1;34m\u001b[0m\n\u001b[0;32m      9\u001b[0m             \u001b[0mprint\u001b[0m\u001b[1;33m(\u001b[0m\u001b[0mj\u001b[0m\u001b[1;33m)\u001b[0m\u001b[1;33m\u001b[0m\u001b[1;33m\u001b[0m\u001b[0m\n\u001b[0;32m     10\u001b[0m \u001b[1;33m\u001b[0m\u001b[0m\n\u001b[1;32m---> 11\u001b[1;33m \u001b[0mprint\u001b[0m\u001b[1;33m(\u001b[0m\u001b[0mf\u001b[0m\u001b[1;33m(\u001b[0m\u001b[0ma\u001b[0m\u001b[1;33m)\u001b[0m\u001b[1;33m)\u001b[0m\u001b[1;33m\u001b[0m\u001b[1;33m\u001b[0m\u001b[0m\n\u001b[0m",
      "\u001b[1;31mNameError\u001b[0m: name 'a' is not defined"
     ]
    }
   ],
   "source": [
    "def f(x):\n",
    "    cnt=0\n",
    "    for i in x:\n",
    "        if cnt!=len(a):\n",
    "            j = +f(x)\n",
    "            return j\n",
    "            cnt+=1\n",
    "        else:\n",
    "            print(j)\n",
    "\n",
    "print(f(a))"
   ]
  },
  {
   "cell_type": "code",
   "execution_count": 276,
   "metadata": {},
   "outputs": [
    {
     "name": "stdout",
     "output_type": "stream",
     "text": [
      "[6, 8, 10, 13]\n"
     ]
    }
   ],
   "source": [
    "\n",
    "a = [1, 3, 5, 8]\n",
    "# 리스트 내의 모든 숫자의 합\n",
    "\n",
    "list_plus5=[]\n",
    "\n",
    "for n in a:\n",
    "    list_plus5.append(n+5)\n",
    "    \n",
    "print(list_plus5)\n"
   ]
  },
  {
   "cell_type": "code",
   "execution_count": 5,
   "metadata": {},
   "outputs": [
    {
     "data": {
      "text/plain": [
       "[6, 7, 8, 9, 10]"
      ]
     },
     "execution_count": 5,
     "metadata": {},
     "output_type": "execute_result"
    }
   ],
   "source": [
    "[n+5 for n in a]"
   ]
  },
  {
   "cell_type": "code",
   "execution_count": null,
   "metadata": {},
   "outputs": [],
   "source": []
  },
  {
   "cell_type": "markdown",
   "metadata": {},
   "source": [
    "\n",
    "# 💥**지금까지 배운 함수 연습문제-2**\n",
    " 1. 주어진 숫자 리스트의 평균을 구하는 함수를 출력하시오\n",
    " 1. 해당 숫자가 소수인지 아닌지 판별하시오.\n",
    " 2. 2부터 해당 숫자사이에 소수가 몇개인지 출력하는 함수를 구하시오 "
   ]
  },
  {
   "cell_type": "code",
   "execution_count": 19,
   "metadata": {},
   "outputs": [
    {
     "name": "stdout",
     "output_type": "stream",
     "text": [
      "[1, 4, 9, 36, 64, 81, 100, 121, 169, 225]\n"
     ]
    }
   ],
   "source": [
    "new_list = list(map(lambda x: x**2,nums))\n",
    "print(new_list)"
   ]
  },
  {
   "cell_type": "code",
   "execution_count": 39,
   "metadata": {},
   "outputs": [
    {
     "name": "stdout",
     "output_type": "stream",
     "text": [
      "3.0\n"
     ]
    }
   ],
   "source": [
    "# 문제1 주어진 숫자 리스트의 평균을 구하는 함수를 출력하시오\n",
    "\n",
    "li=[1,2,3,4,5]\n",
    "\n",
    "result = (lambda x: sum(x)/len(x))(li)\n",
    "\n",
    "print(result)"
   ]
  },
  {
   "cell_type": "code",
   "execution_count": 44,
   "metadata": {},
   "outputs": [],
   "source": [
    "# 문제 2. 해당 숫자가 소수(prime number)인지 아닌지 판별하시오.\n",
    "def check_sosu(x):\n",
    "    for i in range(2,x):    #1과 자기자신 제외하는 범위\n",
    "        if x % i == 0: \n",
    "            continue  #조건: i로 나누면 나누어떨어짐\n",
    "        else: \n",
    "            return \"소수\"\n",
    "        "
   ]
  },
  {
   "cell_type": "code",
   "execution_count": 45,
   "metadata": {},
   "outputs": [
    {
     "name": "stdout",
     "output_type": "stream",
     "text": [
      "소수\n"
     ]
    }
   ],
   "source": [
    "print(check_sosu(5))"
   ]
  },
  {
   "cell_type": "code",
   "execution_count": 32,
   "metadata": {},
   "outputs": [
    {
     "name": "stdout",
     "output_type": "stream",
     "text": [
      "5\n",
      "['소수아님']\n"
     ]
    }
   ],
   "source": [
    "# 문제 2-1. 해당 숫자가 소수(float)인지 아닌지 판별하시오.\n",
    "bb=input()\n",
    "\n",
    "result1=list(map(lambda x : \"소수임\" if type(x)==float else \"소수아님\",bb))\n",
    "print(result1)"
   ]
  },
  {
   "cell_type": "code",
   "execution_count": 40,
   "metadata": {},
   "outputs": [],
   "source": [
    "# 문제 3. 2부터 해당 숫자사이에 소수가 몇개인지 출력하는 함수를 구하시오\n",
    "\n",
    "def cnt_sosu(x):\n",
    "    cnt=0\n",
    "    for i in range(2,x):    #1과 자기자신 제외하는 범위\n",
    "        if x % i == 0: \n",
    "            continue  #조건: i로 나누면 나누어떨어짐\n",
    "        else: cnt+=1\n",
    "            \n",
    "    return cnt "
   ]
  },
  {
   "cell_type": "code",
   "execution_count": 41,
   "metadata": {},
   "outputs": [
    {
     "name": "stdout",
     "output_type": "stream",
     "text": [
      "3\n"
     ]
    }
   ],
   "source": [
    "print(cnt_sosu(5))"
   ]
  },
  {
   "cell_type": "code",
   "execution_count": 42,
   "metadata": {},
   "outputs": [
    {
     "name": "stdout",
     "output_type": "stream",
     "text": [
      "4\n"
     ]
    }
   ],
   "source": [
    "print(cnt_sosu(8))"
   ]
  },
  {
   "cell_type": "markdown",
   "metadata": {},
   "source": [
    "# 클로저 \n",
    "\n",
    "- 변수의 사용범위 지역변수, 전역변수, global 확인\n",
    "- https://dojang.io/mod/page/view.php?id=2364   참고 \n",
    "- 클로저(closure)란, 외부 함수에 접근할 수 있는 내부 함수 \n",
    "- 혹은 이러한 원리를 일컫는 용어인데 스코프에 따라서 내부함수의 범위에서는 외부 함수 범위에 있는 변수에 접근이 가능하지만 그 반대는 실현이 불가능하다는 개념이다.\n",
    "\n",
    "- 특징으로는 외부함수는 외부함수의 지역변수를 사용하는 내부함수가 소멸될 때까지 소멸되지 않는다.\n",
    "- 예를 들어 한 함수안에 다른 함수가 있다면 그 안의 함수는 바깥에 정의해놓은 변수를 사용할 수 있지만 그 반대는 가능하지 않다.\n"
   ]
  },
  {
   "cell_type": "markdown",
   "metadata": {},
   "source": [
    "* 객체지향인 다른 언어는 상관없지만, 파이썬,자바스크립 같은 경우에는 객체지향이 아닌 함수지향이니까 필요한 '클로져' 개념"
   ]
  },
  {
   "cell_type": "markdown",
   "metadata": {},
   "source": [
    "## scope부터 알아보자"
   ]
  },
  {
   "cell_type": "code",
   "execution_count": 49,
   "metadata": {},
   "outputs": [],
   "source": [
    "def hello():\n",
    "    name=\"lim\"\n",
    "    print(\"hello\",name)"
   ]
  },
  {
   "cell_type": "code",
   "execution_count": 50,
   "metadata": {},
   "outputs": [
    {
     "name": "stdout",
     "output_type": "stream",
     "text": [
      "hello lim\n"
     ]
    }
   ],
   "source": [
    "hello()"
   ]
  },
  {
   "cell_type": "code",
   "execution_count": 48,
   "metadata": {},
   "outputs": [
    {
     "ename": "NameError",
     "evalue": "name 'name' is not defined",
     "output_type": "error",
     "traceback": [
      "\u001b[1;31m---------------------------------------------------------------------------\u001b[0m",
      "\u001b[1;31mNameError\u001b[0m                                 Traceback (most recent call last)",
      "\u001b[1;32m~\\AppData\\Local\\Temp/ipykernel_13448/2821752889.py\u001b[0m in \u001b[0;36m<module>\u001b[1;34m\u001b[0m\n\u001b[1;32m----> 1\u001b[1;33m \u001b[0mprint\u001b[0m\u001b[1;33m(\u001b[0m\u001b[0mname\u001b[0m\u001b[1;33m)\u001b[0m  \u001b[1;31m#오류 발생 : 지역변수이이니까!\u001b[0m\u001b[1;33m\u001b[0m\u001b[1;33m\u001b[0m\u001b[0m\n\u001b[0m",
      "\u001b[1;31mNameError\u001b[0m: name 'name' is not defined"
     ]
    }
   ],
   "source": [
    "print(name)  #오류 발생 : 지역변수이이니까!"
   ]
  },
  {
   "cell_type": "code",
   "execution_count": 52,
   "metadata": {},
   "outputs": [],
   "source": [
    "name = \"koo\"\n",
    "\n",
    "def hello():\n",
    "    name=\"lim\"\n",
    "    print(\"hello\",name)"
   ]
  },
  {
   "cell_type": "code",
   "execution_count": 53,
   "metadata": {},
   "outputs": [
    {
     "name": "stdout",
     "output_type": "stream",
     "text": [
      "hello lim\n"
     ]
    }
   ],
   "source": [
    "hello()"
   ]
  },
  {
   "cell_type": "code",
   "execution_count": 55,
   "metadata": {},
   "outputs": [
    {
     "name": "stdout",
     "output_type": "stream",
     "text": [
      "koo\n"
     ]
    }
   ],
   "source": [
    "print(name)"
   ]
  },
  {
   "cell_type": "code",
   "execution_count": 56,
   "metadata": {},
   "outputs": [
    {
     "data": {
      "text/plain": [
       "{'__name__': '__main__',\n",
       " '__doc__': 'Automatically created module for IPython interactive environment',\n",
       " '__package__': None,\n",
       " '__loader__': None,\n",
       " '__spec__': None,\n",
       " '__builtin__': <module 'builtins' (built-in)>,\n",
       " '__builtins__': <module 'builtins' (built-in)>,\n",
       " '_ih': ['',\n",
       "  'def f(x):\\n    cnt=0\\n    for i in x:\\n        if cnt!=len(a):\\n            j = +f(x)\\n            return j\\n            cnt+=1\\n        else:\\n            print(j)\\n\\nprint(f(a))',\n",
       "  '# 문제1 주어진 숫자 리스트의 평균을 구하는 함수를 출력하시오\\n\\nresult=lambda x: sum(x)/len(x),input()\\n\\nprint(result)',\n",
       "  '# 문제1 주어진 숫자 리스트의 평균을 구하는 함수를 출력하시오\\n\\nresult=map(lambda x: sum(x)/len(x),input())\\n\\nprint(result)',\n",
       "  '# 문제1 주어진 숫자 리스트의 평균을 구하는 함수를 출력하시오\\n\\nresult=map((lambda x: sum(x)/len(x),input()))\\n\\nprint(result)',\n",
       "  '# 문제1 주어진 숫자 리스트의 평균을 구하는 함수를 출력하시오\\n\\nresult=map((lambda x: sum(x)/len(x)),input()))\\n\\nprint(result)',\n",
       "  '# 문제1 주어진 숫자 리스트의 평균을 구하는 함수를 출력하시오\\n\\nresult=map((lambda x: sum(x)/len(x)),input())\\n\\nprint(result)',\n",
       "  '# 문제1 주어진 숫자 리스트의 평균을 구하는 함수를 출력하시오\\n\\nresult=list(map((lambda x: sum(x)/len(x)),input()))\\n\\nprint(result)',\n",
       "  '# 문제1 주어진 숫자 리스트의 평균을 구하는 함수를 출력하시오\\n\\nli=[1,2,3,4,5]\\n\\nresult=list(map((lambda x: sum(x)/len(x)),li))\\n\\nprint(result)',\n",
       "  '# 문제1 주어진 숫자 리스트의 평균을 구하는 함수를 출력하시오\\n\\nli=[1,2,3,4,5]\\n\\nresult=list(lambda x: sum(x)/len(x),li)\\n\\nprint(result)',\n",
       "  '# 문제1 주어진 숫자 리스트의 평균을 구하는 함수를 출력하시오\\n\\nli=[1,2,3,4,5]\\n\\nresult=lambda x: sum(x)/len(x),li\\n\\nprint(result)',\n",
       "  '# 문제1 주어진 숫자 리스트의 평균을 구하는 함수를 출력하시오\\n\\nli=[1,2,3,4,5]\\n\\nresult=list(map(lambda x: sum(x)/len(x),li))\\n\\nprint(result)',\n",
       "  '# 주어진 리스트, 리스트의 제곱을한 숫자로 새로운 리스트\\n\\nnew_list = list(map(lambda x: x**2,nums))\\nprint(new_list)',\n",
       "  '# 주어진 리스트, 리스트의 제곱을한 숫자로 새로운 리스트\\n\\nnew_list = list(map((lambda x: x**2),nums))\\nprint(new_list)',\n",
       "  '# 주어진 리스트, 리스트의 제곱을한 숫자로 새로운 리스트\\n\\nnew_list = list(map((lambda x: x**2),nums))\\nprint(new_list)',\n",
       "  '# map\\nnums = [1, 2, 3, 6, 8, 9, 10, 11, 13, 15]',\n",
       "  '# 주어진 리스트, 리스트의 제곱을한 숫자로 새로운 리스트\\n\\nnew_list = list(map((lambda x: x**2),nums))\\nprint(new_list)',\n",
       "  '# 주어진 리스트, 리스트의 제곱을한 숫자로 새로운 리스트\\n\\nnew_list = list(map(lambda x: x**2,nums))\\nprint(new_list)',\n",
       "  '# 문제1 주어진 숫자 리스트의 평균을 구하는 함수를 출력하시오\\n\\nli=[1,2,3,4,5]\\n\\nresult=list(map(lambda x: sum(x)//len(x),li))\\n\\nprint(result)',\n",
       "  'new_list = list(map(lambda x: x**2,nums))\\nprint(new_list)',\n",
       "  '# 문제1 주어진 숫자 리스트의 평균을 구하는 함수를 출력하시오\\n\\nli=[1,2,3,4,5]\\n\\nresult = map(lambda x: sum(x)//len(x), li)\\n\\nprint(result)',\n",
       "  '# 문제 2. 해당 숫자가 소수인지 아닌지 판별하시오.\\nbb=int(input())\\n\\nresult1=(lamda x : \"소수임\" if type(x)==float else \"소수아님\",bb)\\nprint(result1)',\n",
       "  '# 문제 2. 해당 숫자가 소수인지 아닌지 판별하시오.\\nbb=int(input())\\n\\nresult1=((lambda x : \"소수임\" if type(x)==float else \"소수아님\"),bb)\\nprint(result1)',\n",
       "  '# 문제 2. 해당 숫자가 소수인지 아닌지 판별하시오.\\nbb=int(input())\\n\\nresult1=str((lambda x : \"소수임\" if type(x)==float else \"소수아님\"),bb)\\nprint(result1)',\n",
       "  '# 문제 2. 해당 숫자가 소수인지 아닌지 판별하시오.\\nbb=int(input())\\n\\nresult1=list((lambda x : \"소수임\" if type(x)==float else \"소수아님\"),bb)\\nprint(result1)',\n",
       "  '# 문제 2. 해당 숫자가 소수인지 아닌지 판별하시오.\\nbb=int(input())\\n\\nresult1=list((lambda x : print(\"소수임\") if type(x)==float else print(\"소수아님\")),bb)\\nprint(result1)',\n",
       "  '# 문제 2. 해당 숫자가 소수인지 아닌지 판별하시오.\\nbb=int(input())\\n\\nresult1=(lambda x : print(\"소수임\") if type(x)==float else print(\"소수아님\")),bb\\nprint(result1)',\n",
       "  '# 문제 2. 해당 숫자가 소수인지 아닌지 판별하시오.\\nbb=int(input())\\n\\nresult1=(lambda x : print(\"소수임\") if type(x)==float else print(\"소수아님\"),bb)\\nprint(result1)',\n",
       "  '# 문제 2. 해당 숫자가 소수인지 아닌지 판별하시오.\\nbb=int(input())\\n\\nresult1=(lambda x : \"소수임\" if type(x)==float else \"소수아님\",bb)\\nprint(result1)',\n",
       "  '# 문제 2. 해당 숫자가 소수인지 아닌지 판별하시오.\\nbb=int(input())\\n\\nresult1=map(lambda x : \"소수임\" if type(x)==float else \"소수아님\",bb)\\nprint(result1)',\n",
       "  '# 문제 2. 해당 숫자가 소수인지 아닌지 판별하시오.\\nbb=input()\\n\\nresult1=map(lambda x : \"소수임\" if type(x)==float else \"소수아님\",bb)\\nprint(result1)',\n",
       "  '# 문제 2. 해당 숫자가 소수인지 아닌지 판별하시오.\\nbb=input()\\n\\nresult1=str(map(lambda x : \"소수임\" if type(x)==float else \"소수아님\",bb))\\nprint(result1)',\n",
       "  '# 문제 2. 해당 숫자가 소수인지 아닌지 판별하시오.\\nbb=input()\\n\\nresult1=list(map(lambda x : \"소수임\" if type(x)==float else \"소수아님\",bb))\\nprint(result1)',\n",
       "  '# 문제 3. 2부터 해당 숫자사이에 소수가 몇개인지 출력하는 함수를 구하시오\\nyy=input()\\n\\nfrom primePy import primes',\n",
       "  '# 문제 3. 2부터 해당 숫자사이에 소수가 몇개인지 출력하는 함수를 구하시오\\n\\nfrom primePy import primes',\n",
       "  '# 문제 3. 2부터 해당 숫자사이에 소수가 몇개인지 출력하는 함수를 구하시오\\n\\ndef sosu(x):\\n    cnt=0\\n    for i in range(2,x):    #1과 자기자신 제외하는 범위\\n        #조건: i로 나누면 나누어떨어짐\\n        if x % i == 0:   \\n            continue\\n        else: cnt+=1\\n            \\n    return cnt ',\n",
       "  '# 문제 3. 2부터 해당 숫자사이에 소수가 몇개인지 출력하는 함수를 구하시오\\n\\ndef cnt_sosu(x):\\n    cnt=0\\n    for i in range(2,x):    #1과 자기자신 제외하는 범위\\n        #조건: i로 나누면 나누어떨어짐\\n        if x % i == 0:   \\n            continue\\n        else: cnt+=1\\n            \\n    return cnt ',\n",
       "  'print(cnt_sosu(5))',\n",
       "  'print(cnt_sosu(8))',\n",
       "  '# 문제1 주어진 숫자 리스트의 평균을 구하는 함수를 출력하시오\\n\\nli=[1,2,3,4,5]\\n\\nresult = (lambda x: sum(x)/len(x))(li)\\n\\nprint(result)',\n",
       "  '# 문제 3. 2부터 해당 숫자사이에 소수가 몇개인지 출력하는 함수를 구하시오\\n\\ndef cnt_sosu(x):\\n    cnt=0\\n    for i in range(2,x):    #1과 자기자신 제외하는 범위\\n        if x % i == 0: continue  #조건: i로 나누면 나누어떨어짐\\n        else: cnt+=1\\n            \\n    return cnt ',\n",
       "  'print(cnt_sosu(5))',\n",
       "  'print(cnt_sosu(8))',\n",
       "  '# 문제 2. 해당 숫자가 소수(prime number)인지 아닌지 판별하시오.\\ndef cnt_sosu(x):\\n    for i in range(2,x):    #1과 자기자신 제외하는 범위\\n        if x % i == 0: \\n            continue  #조건: i로 나누면 나누어떨어짐\\n        else: \\n            return \"소수\"\\n        ',\n",
       "  '# 문제 2. 해당 숫자가 소수(prime number)인지 아닌지 판별하시오.\\ndef check_sosu(x):\\n    for i in range(2,x):    #1과 자기자신 제외하는 범위\\n        if x % i == 0: \\n            continue  #조건: i로 나누면 나누어떨어짐\\n        else: \\n            return \"소수\"\\n        ',\n",
       "  'print(check_sosu(5))',\n",
       "  'def hello():\\n    name=\"kang\"\\n    print(\"hello\",name)',\n",
       "  'hello()',\n",
       "  'print(name)  #오류 발생 : 지역변수이이니까!',\n",
       "  'def hello():\\n    name=\"lim\"\\n    print(\"hello\",name)',\n",
       "  'hello()',\n",
       "  'name = \"koo\"\\n\\ndef hello():a\\n    name=\"lim\"\\n    print(\"hello\",name)',\n",
       "  'name = \"koo\"\\n\\ndef hello():\\n    name=\"lim\"\\n    print(\"hello\",name)',\n",
       "  'hello()',\n",
       "  'prnt(name)',\n",
       "  'print(name)',\n",
       "  'locals()'],\n",
       " '_oh': {},\n",
       " '_dh': ['C:\\\\sona\\\\KDT\\\\1wk'],\n",
       " 'In': ['',\n",
       "  'def f(x):\\n    cnt=0\\n    for i in x:\\n        if cnt!=len(a):\\n            j = +f(x)\\n            return j\\n            cnt+=1\\n        else:\\n            print(j)\\n\\nprint(f(a))',\n",
       "  '# 문제1 주어진 숫자 리스트의 평균을 구하는 함수를 출력하시오\\n\\nresult=lambda x: sum(x)/len(x),input()\\n\\nprint(result)',\n",
       "  '# 문제1 주어진 숫자 리스트의 평균을 구하는 함수를 출력하시오\\n\\nresult=map(lambda x: sum(x)/len(x),input())\\n\\nprint(result)',\n",
       "  '# 문제1 주어진 숫자 리스트의 평균을 구하는 함수를 출력하시오\\n\\nresult=map((lambda x: sum(x)/len(x),input()))\\n\\nprint(result)',\n",
       "  '# 문제1 주어진 숫자 리스트의 평균을 구하는 함수를 출력하시오\\n\\nresult=map((lambda x: sum(x)/len(x)),input()))\\n\\nprint(result)',\n",
       "  '# 문제1 주어진 숫자 리스트의 평균을 구하는 함수를 출력하시오\\n\\nresult=map((lambda x: sum(x)/len(x)),input())\\n\\nprint(result)',\n",
       "  '# 문제1 주어진 숫자 리스트의 평균을 구하는 함수를 출력하시오\\n\\nresult=list(map((lambda x: sum(x)/len(x)),input()))\\n\\nprint(result)',\n",
       "  '# 문제1 주어진 숫자 리스트의 평균을 구하는 함수를 출력하시오\\n\\nli=[1,2,3,4,5]\\n\\nresult=list(map((lambda x: sum(x)/len(x)),li))\\n\\nprint(result)',\n",
       "  '# 문제1 주어진 숫자 리스트의 평균을 구하는 함수를 출력하시오\\n\\nli=[1,2,3,4,5]\\n\\nresult=list(lambda x: sum(x)/len(x),li)\\n\\nprint(result)',\n",
       "  '# 문제1 주어진 숫자 리스트의 평균을 구하는 함수를 출력하시오\\n\\nli=[1,2,3,4,5]\\n\\nresult=lambda x: sum(x)/len(x),li\\n\\nprint(result)',\n",
       "  '# 문제1 주어진 숫자 리스트의 평균을 구하는 함수를 출력하시오\\n\\nli=[1,2,3,4,5]\\n\\nresult=list(map(lambda x: sum(x)/len(x),li))\\n\\nprint(result)',\n",
       "  '# 주어진 리스트, 리스트의 제곱을한 숫자로 새로운 리스트\\n\\nnew_list = list(map(lambda x: x**2,nums))\\nprint(new_list)',\n",
       "  '# 주어진 리스트, 리스트의 제곱을한 숫자로 새로운 리스트\\n\\nnew_list = list(map((lambda x: x**2),nums))\\nprint(new_list)',\n",
       "  '# 주어진 리스트, 리스트의 제곱을한 숫자로 새로운 리스트\\n\\nnew_list = list(map((lambda x: x**2),nums))\\nprint(new_list)',\n",
       "  '# map\\nnums = [1, 2, 3, 6, 8, 9, 10, 11, 13, 15]',\n",
       "  '# 주어진 리스트, 리스트의 제곱을한 숫자로 새로운 리스트\\n\\nnew_list = list(map((lambda x: x**2),nums))\\nprint(new_list)',\n",
       "  '# 주어진 리스트, 리스트의 제곱을한 숫자로 새로운 리스트\\n\\nnew_list = list(map(lambda x: x**2,nums))\\nprint(new_list)',\n",
       "  '# 문제1 주어진 숫자 리스트의 평균을 구하는 함수를 출력하시오\\n\\nli=[1,2,3,4,5]\\n\\nresult=list(map(lambda x: sum(x)//len(x),li))\\n\\nprint(result)',\n",
       "  'new_list = list(map(lambda x: x**2,nums))\\nprint(new_list)',\n",
       "  '# 문제1 주어진 숫자 리스트의 평균을 구하는 함수를 출력하시오\\n\\nli=[1,2,3,4,5]\\n\\nresult = map(lambda x: sum(x)//len(x), li)\\n\\nprint(result)',\n",
       "  '# 문제 2. 해당 숫자가 소수인지 아닌지 판별하시오.\\nbb=int(input())\\n\\nresult1=(lamda x : \"소수임\" if type(x)==float else \"소수아님\",bb)\\nprint(result1)',\n",
       "  '# 문제 2. 해당 숫자가 소수인지 아닌지 판별하시오.\\nbb=int(input())\\n\\nresult1=((lambda x : \"소수임\" if type(x)==float else \"소수아님\"),bb)\\nprint(result1)',\n",
       "  '# 문제 2. 해당 숫자가 소수인지 아닌지 판별하시오.\\nbb=int(input())\\n\\nresult1=str((lambda x : \"소수임\" if type(x)==float else \"소수아님\"),bb)\\nprint(result1)',\n",
       "  '# 문제 2. 해당 숫자가 소수인지 아닌지 판별하시오.\\nbb=int(input())\\n\\nresult1=list((lambda x : \"소수임\" if type(x)==float else \"소수아님\"),bb)\\nprint(result1)',\n",
       "  '# 문제 2. 해당 숫자가 소수인지 아닌지 판별하시오.\\nbb=int(input())\\n\\nresult1=list((lambda x : print(\"소수임\") if type(x)==float else print(\"소수아님\")),bb)\\nprint(result1)',\n",
       "  '# 문제 2. 해당 숫자가 소수인지 아닌지 판별하시오.\\nbb=int(input())\\n\\nresult1=(lambda x : print(\"소수임\") if type(x)==float else print(\"소수아님\")),bb\\nprint(result1)',\n",
       "  '# 문제 2. 해당 숫자가 소수인지 아닌지 판별하시오.\\nbb=int(input())\\n\\nresult1=(lambda x : print(\"소수임\") if type(x)==float else print(\"소수아님\"),bb)\\nprint(result1)',\n",
       "  '# 문제 2. 해당 숫자가 소수인지 아닌지 판별하시오.\\nbb=int(input())\\n\\nresult1=(lambda x : \"소수임\" if type(x)==float else \"소수아님\",bb)\\nprint(result1)',\n",
       "  '# 문제 2. 해당 숫자가 소수인지 아닌지 판별하시오.\\nbb=int(input())\\n\\nresult1=map(lambda x : \"소수임\" if type(x)==float else \"소수아님\",bb)\\nprint(result1)',\n",
       "  '# 문제 2. 해당 숫자가 소수인지 아닌지 판별하시오.\\nbb=input()\\n\\nresult1=map(lambda x : \"소수임\" if type(x)==float else \"소수아님\",bb)\\nprint(result1)',\n",
       "  '# 문제 2. 해당 숫자가 소수인지 아닌지 판별하시오.\\nbb=input()\\n\\nresult1=str(map(lambda x : \"소수임\" if type(x)==float else \"소수아님\",bb))\\nprint(result1)',\n",
       "  '# 문제 2. 해당 숫자가 소수인지 아닌지 판별하시오.\\nbb=input()\\n\\nresult1=list(map(lambda x : \"소수임\" if type(x)==float else \"소수아님\",bb))\\nprint(result1)',\n",
       "  '# 문제 3. 2부터 해당 숫자사이에 소수가 몇개인지 출력하는 함수를 구하시오\\nyy=input()\\n\\nfrom primePy import primes',\n",
       "  '# 문제 3. 2부터 해당 숫자사이에 소수가 몇개인지 출력하는 함수를 구하시오\\n\\nfrom primePy import primes',\n",
       "  '# 문제 3. 2부터 해당 숫자사이에 소수가 몇개인지 출력하는 함수를 구하시오\\n\\ndef sosu(x):\\n    cnt=0\\n    for i in range(2,x):    #1과 자기자신 제외하는 범위\\n        #조건: i로 나누면 나누어떨어짐\\n        if x % i == 0:   \\n            continue\\n        else: cnt+=1\\n            \\n    return cnt ',\n",
       "  '# 문제 3. 2부터 해당 숫자사이에 소수가 몇개인지 출력하는 함수를 구하시오\\n\\ndef cnt_sosu(x):\\n    cnt=0\\n    for i in range(2,x):    #1과 자기자신 제외하는 범위\\n        #조건: i로 나누면 나누어떨어짐\\n        if x % i == 0:   \\n            continue\\n        else: cnt+=1\\n            \\n    return cnt ',\n",
       "  'print(cnt_sosu(5))',\n",
       "  'print(cnt_sosu(8))',\n",
       "  '# 문제1 주어진 숫자 리스트의 평균을 구하는 함수를 출력하시오\\n\\nli=[1,2,3,4,5]\\n\\nresult = (lambda x: sum(x)/len(x))(li)\\n\\nprint(result)',\n",
       "  '# 문제 3. 2부터 해당 숫자사이에 소수가 몇개인지 출력하는 함수를 구하시오\\n\\ndef cnt_sosu(x):\\n    cnt=0\\n    for i in range(2,x):    #1과 자기자신 제외하는 범위\\n        if x % i == 0: continue  #조건: i로 나누면 나누어떨어짐\\n        else: cnt+=1\\n            \\n    return cnt ',\n",
       "  'print(cnt_sosu(5))',\n",
       "  'print(cnt_sosu(8))',\n",
       "  '# 문제 2. 해당 숫자가 소수(prime number)인지 아닌지 판별하시오.\\ndef cnt_sosu(x):\\n    for i in range(2,x):    #1과 자기자신 제외하는 범위\\n        if x % i == 0: \\n            continue  #조건: i로 나누면 나누어떨어짐\\n        else: \\n            return \"소수\"\\n        ',\n",
       "  '# 문제 2. 해당 숫자가 소수(prime number)인지 아닌지 판별하시오.\\ndef check_sosu(x):\\n    for i in range(2,x):    #1과 자기자신 제외하는 범위\\n        if x % i == 0: \\n            continue  #조건: i로 나누면 나누어떨어짐\\n        else: \\n            return \"소수\"\\n        ',\n",
       "  'print(check_sosu(5))',\n",
       "  'def hello():\\n    name=\"kang\"\\n    print(\"hello\",name)',\n",
       "  'hello()',\n",
       "  'print(name)  #오류 발생 : 지역변수이이니까!',\n",
       "  'def hello():\\n    name=\"lim\"\\n    print(\"hello\",name)',\n",
       "  'hello()',\n",
       "  'name = \"koo\"\\n\\ndef hello():a\\n    name=\"lim\"\\n    print(\"hello\",name)',\n",
       "  'name = \"koo\"\\n\\ndef hello():\\n    name=\"lim\"\\n    print(\"hello\",name)',\n",
       "  'hello()',\n",
       "  'prnt(name)',\n",
       "  'print(name)',\n",
       "  'locals()'],\n",
       " 'Out': {},\n",
       " 'get_ipython': <bound method InteractiveShell.get_ipython of <ipykernel.zmqshell.ZMQInteractiveShell object at 0x00000238FB47BBB0>>,\n",
       " 'exit': <IPython.core.autocall.ZMQExitAutocall at 0x238fb4c28e0>,\n",
       " 'quit': <IPython.core.autocall.ZMQExitAutocall at 0x238fb4c28e0>,\n",
       " '_': '',\n",
       " '__': '',\n",
       " '___': '',\n",
       " '_i': 'print(name)',\n",
       " '_ii': 'prnt(name)',\n",
       " '_iii': 'hello()',\n",
       " '_i1': 'def f(x):\\n    cnt=0\\n    for i in x:\\n        if cnt!=len(a):\\n            j = +f(x)\\n            return j\\n            cnt+=1\\n        else:\\n            print(j)\\n\\nprint(f(a))',\n",
       " 'f': <function __main__.f(x)>,\n",
       " '_i2': '# 문제1 주어진 숫자 리스트의 평균을 구하는 함수를 출력하시오\\n\\nresult=lambda x: sum(x)/len(x),input()\\n\\nprint(result)',\n",
       " 'result': 3.0,\n",
       " '_i3': '# 문제1 주어진 숫자 리스트의 평균을 구하는 함수를 출력하시오\\n\\nresult=map(lambda x: sum(x)/len(x),input())\\n\\nprint(result)',\n",
       " '_i4': '# 문제1 주어진 숫자 리스트의 평균을 구하는 함수를 출력하시오\\n\\nresult=map((lambda x: sum(x)/len(x),input()))\\n\\nprint(result)',\n",
       " '_i5': '# 문제1 주어진 숫자 리스트의 평균을 구하는 함수를 출력하시오\\n\\nresult=map((lambda x: sum(x)/len(x)),input()))\\n\\nprint(result)',\n",
       " '_i6': '# 문제1 주어진 숫자 리스트의 평균을 구하는 함수를 출력하시오\\n\\nresult=map((lambda x: sum(x)/len(x)),input())\\n\\nprint(result)',\n",
       " '_i7': '# 문제1 주어진 숫자 리스트의 평균을 구하는 함수를 출력하시오\\n\\nresult=list(map((lambda x: sum(x)/len(x)),input()))\\n\\nprint(result)',\n",
       " '_i8': '# 문제1 주어진 숫자 리스트의 평균을 구하는 함수를 출력하시오\\n\\nli=[1,2,3,4,5]\\n\\nresult=list(map((lambda x: sum(x)/len(x)),li))\\n\\nprint(result)',\n",
       " 'li': [1, 2, 3, 4, 5],\n",
       " '_i9': '# 문제1 주어진 숫자 리스트의 평균을 구하는 함수를 출력하시오\\n\\nli=[1,2,3,4,5]\\n\\nresult=list(lambda x: sum(x)/len(x),li)\\n\\nprint(result)',\n",
       " '_i10': '# 문제1 주어진 숫자 리스트의 평균을 구하는 함수를 출력하시오\\n\\nli=[1,2,3,4,5]\\n\\nresult=lambda x: sum(x)/len(x),li\\n\\nprint(result)',\n",
       " '_i11': '# 문제1 주어진 숫자 리스트의 평균을 구하는 함수를 출력하시오\\n\\nli=[1,2,3,4,5]\\n\\nresult=list(map(lambda x: sum(x)/len(x),li))\\n\\nprint(result)',\n",
       " '_i12': '# 주어진 리스트, 리스트의 제곱을한 숫자로 새로운 리스트\\n\\nnew_list = list(map(lambda x: x**2,nums))\\nprint(new_list)',\n",
       " '_i13': '# 주어진 리스트, 리스트의 제곱을한 숫자로 새로운 리스트\\n\\nnew_list = list(map((lambda x: x**2),nums))\\nprint(new_list)',\n",
       " '_i14': '# 주어진 리스트, 리스트의 제곱을한 숫자로 새로운 리스트\\n\\nnew_list = list(map((lambda x: x**2),nums))\\nprint(new_list)',\n",
       " '_i15': '# map\\nnums = [1, 2, 3, 6, 8, 9, 10, 11, 13, 15]',\n",
       " 'nums': [1, 2, 3, 6, 8, 9, 10, 11, 13, 15],\n",
       " '_i16': '# 주어진 리스트, 리스트의 제곱을한 숫자로 새로운 리스트\\n\\nnew_list = list(map((lambda x: x**2),nums))\\nprint(new_list)',\n",
       " 'new_list': [1, 4, 9, 36, 64, 81, 100, 121, 169, 225],\n",
       " '_i17': '# 주어진 리스트, 리스트의 제곱을한 숫자로 새로운 리스트\\n\\nnew_list = list(map(lambda x: x**2,nums))\\nprint(new_list)',\n",
       " '_i18': '# 문제1 주어진 숫자 리스트의 평균을 구하는 함수를 출력하시오\\n\\nli=[1,2,3,4,5]\\n\\nresult=list(map(lambda x: sum(x)//len(x),li))\\n\\nprint(result)',\n",
       " '_i19': 'new_list = list(map(lambda x: x**2,nums))\\nprint(new_list)',\n",
       " '_i20': '# 문제1 주어진 숫자 리스트의 평균을 구하는 함수를 출력하시오\\n\\nli=[1,2,3,4,5]\\n\\nresult = map(lambda x: sum(x)//len(x), li)\\n\\nprint(result)',\n",
       " '_i21': '# 문제 2. 해당 숫자가 소수인지 아닌지 판별하시오.\\nbb=int(input())\\n\\nresult1=(lamda x : \"소수임\" if type(x)==float else \"소수아님\",bb)\\nprint(result1)',\n",
       " '_i22': '# 문제 2. 해당 숫자가 소수인지 아닌지 판별하시오.\\nbb=int(input())\\n\\nresult1=((lambda x : \"소수임\" if type(x)==float else \"소수아님\"),bb)\\nprint(result1)',\n",
       " 'bb': '5',\n",
       " 'result1': ['소수아님'],\n",
       " '_i23': '# 문제 2. 해당 숫자가 소수인지 아닌지 판별하시오.\\nbb=int(input())\\n\\nresult1=str((lambda x : \"소수임\" if type(x)==float else \"소수아님\"),bb)\\nprint(result1)',\n",
       " '_i24': '# 문제 2. 해당 숫자가 소수인지 아닌지 판별하시오.\\nbb=int(input())\\n\\nresult1=list((lambda x : \"소수임\" if type(x)==float else \"소수아님\"),bb)\\nprint(result1)',\n",
       " '_i25': '# 문제 2. 해당 숫자가 소수인지 아닌지 판별하시오.\\nbb=int(input())\\n\\nresult1=list((lambda x : print(\"소수임\") if type(x)==float else print(\"소수아님\")),bb)\\nprint(result1)',\n",
       " '_i26': '# 문제 2. 해당 숫자가 소수인지 아닌지 판별하시오.\\nbb=int(input())\\n\\nresult1=(lambda x : print(\"소수임\") if type(x)==float else print(\"소수아님\")),bb\\nprint(result1)',\n",
       " '_i27': '# 문제 2. 해당 숫자가 소수인지 아닌지 판별하시오.\\nbb=int(input())\\n\\nresult1=(lambda x : print(\"소수임\") if type(x)==float else print(\"소수아님\"),bb)\\nprint(result1)',\n",
       " '_i28': '# 문제 2. 해당 숫자가 소수인지 아닌지 판별하시오.\\nbb=int(input())\\n\\nresult1=(lambda x : \"소수임\" if type(x)==float else \"소수아님\",bb)\\nprint(result1)',\n",
       " '_i29': '# 문제 2. 해당 숫자가 소수인지 아닌지 판별하시오.\\nbb=int(input())\\n\\nresult1=map(lambda x : \"소수임\" if type(x)==float else \"소수아님\",bb)\\nprint(result1)',\n",
       " '_i30': '# 문제 2. 해당 숫자가 소수인지 아닌지 판별하시오.\\nbb=input()\\n\\nresult1=map(lambda x : \"소수임\" if type(x)==float else \"소수아님\",bb)\\nprint(result1)',\n",
       " '_i31': '# 문제 2. 해당 숫자가 소수인지 아닌지 판별하시오.\\nbb=input()\\n\\nresult1=str(map(lambda x : \"소수임\" if type(x)==float else \"소수아님\",bb))\\nprint(result1)',\n",
       " '_i32': '# 문제 2. 해당 숫자가 소수인지 아닌지 판별하시오.\\nbb=input()\\n\\nresult1=list(map(lambda x : \"소수임\" if type(x)==float else \"소수아님\",bb))\\nprint(result1)',\n",
       " '_i33': '# 문제 3. 2부터 해당 숫자사이에 소수가 몇개인지 출력하는 함수를 구하시오\\nyy=input()\\n\\nfrom primePy import primes',\n",
       " '_i34': '# 문제 3. 2부터 해당 숫자사이에 소수가 몇개인지 출력하는 함수를 구하시오\\n\\nfrom primePy import primes',\n",
       " '_i35': '# 문제 3. 2부터 해당 숫자사이에 소수가 몇개인지 출력하는 함수를 구하시오\\n\\ndef sosu(x):\\n    cnt=0\\n    for i in range(2,x):    #1과 자기자신 제외하는 범위\\n        #조건: i로 나누면 나누어떨어짐\\n        if x % i == 0:   \\n            continue\\n        else: cnt+=1\\n            \\n    return cnt ',\n",
       " 'sosu': <function __main__.sosu(x)>,\n",
       " '_i36': '# 문제 3. 2부터 해당 숫자사이에 소수가 몇개인지 출력하는 함수를 구하시오\\n\\ndef cnt_sosu(x):\\n    cnt=0\\n    for i in range(2,x):    #1과 자기자신 제외하는 범위\\n        #조건: i로 나누면 나누어떨어짐\\n        if x % i == 0:   \\n            continue\\n        else: cnt+=1\\n            \\n    return cnt ',\n",
       " 'cnt_sosu': <function __main__.cnt_sosu(x)>,\n",
       " '_i37': 'print(cnt_sosu(5))',\n",
       " '_i38': 'print(cnt_sosu(8))',\n",
       " '_i39': '# 문제1 주어진 숫자 리스트의 평균을 구하는 함수를 출력하시오\\n\\nli=[1,2,3,4,5]\\n\\nresult = (lambda x: sum(x)/len(x))(li)\\n\\nprint(result)',\n",
       " '_i40': '# 문제 3. 2부터 해당 숫자사이에 소수가 몇개인지 출력하는 함수를 구하시오\\n\\ndef cnt_sosu(x):\\n    cnt=0\\n    for i in range(2,x):    #1과 자기자신 제외하는 범위\\n        if x % i == 0: continue  #조건: i로 나누면 나누어떨어짐\\n        else: cnt+=1\\n            \\n    return cnt ',\n",
       " '_i41': 'print(cnt_sosu(5))',\n",
       " '_i42': 'print(cnt_sosu(8))',\n",
       " '_i43': '# 문제 2. 해당 숫자가 소수(prime number)인지 아닌지 판별하시오.\\ndef cnt_sosu(x):\\n    for i in range(2,x):    #1과 자기자신 제외하는 범위\\n        if x % i == 0: \\n            continue  #조건: i로 나누면 나누어떨어짐\\n        else: \\n            return \"소수\"\\n        ',\n",
       " '_i44': '# 문제 2. 해당 숫자가 소수(prime number)인지 아닌지 판별하시오.\\ndef check_sosu(x):\\n    for i in range(2,x):    #1과 자기자신 제외하는 범위\\n        if x % i == 0: \\n            continue  #조건: i로 나누면 나누어떨어짐\\n        else: \\n            return \"소수\"\\n        ',\n",
       " 'check_sosu': <function __main__.check_sosu(x)>,\n",
       " '_i45': 'print(check_sosu(5))',\n",
       " '_i46': 'def hello():\\n    name=\"kang\"\\n    print(\"hello\",name)',\n",
       " 'hello': <function __main__.hello()>,\n",
       " '_i47': 'hello()',\n",
       " '_i48': 'print(name)  #오류 발생 : 지역변수이이니까!',\n",
       " '_i49': 'def hello():\\n    name=\"lim\"\\n    print(\"hello\",name)',\n",
       " '_i50': 'hello()',\n",
       " '_i51': 'name = \"koo\"\\n\\ndef hello():a\\n    name=\"lim\"\\n    print(\"hello\",name)',\n",
       " '_i52': 'name = \"koo\"\\n\\ndef hello():\\n    name=\"lim\"\\n    print(\"hello\",name)',\n",
       " 'name': 'koo',\n",
       " '_i53': 'hello()',\n",
       " '_i54': 'prnt(name)',\n",
       " '_i55': 'print(name)',\n",
       " '_i56': 'locals()'}"
      ]
     },
     "execution_count": 56,
     "metadata": {},
     "output_type": "execute_result"
    }
   ],
   "source": [
    "locals() #local로 사용되고 있는 변수들 확인"
   ]
  },
  {
   "cell_type": "markdown",
   "metadata": {},
   "source": [
    "* **함수 중첩**"
   ]
  },
  {
   "cell_type": "code",
   "execution_count": 73,
   "metadata": {},
   "outputs": [],
   "source": [
    "# 내장 함수 실행되지 않는 예 -1\n",
    "\n",
    "def hello_main():\n",
    "    h=\"hello\"\n",
    "    def hello_sub():\n",
    "        print(h)"
   ]
  },
  {
   "cell_type": "code",
   "execution_count": 70,
   "metadata": {},
   "outputs": [],
   "source": [
    "hello_main()  #hello_main함수 안에 hello_sub함수가 실행되지 않는다"
   ]
  },
  {
   "cell_type": "code",
   "execution_count": 74,
   "metadata": {},
   "outputs": [],
   "source": [
    "# 내장 함수 실행되지 않는 예 -2\n",
    "\n",
    "\n",
    "def test_main():\n",
    "    x = 10\n",
    "    def test_sub():\n",
    "        x = 20\n",
    "    test_sub()\n",
    "    print(x)"
   ]
  },
  {
   "cell_type": "code",
   "execution_count": 72,
   "metadata": {},
   "outputs": [
    {
     "name": "stdout",
     "output_type": "stream",
     "text": [
      "10\n"
     ]
    }
   ],
   "source": [
    "test_main()"
   ]
  },
  {
   "cell_type": "markdown",
   "metadata": {},
   "source": [
    "* **대책방안**"
   ]
  },
  {
   "cell_type": "code",
   "execution_count": 75,
   "metadata": {},
   "outputs": [],
   "source": [
    "# 이에 대한 대책방안은???????????  ------- 2번 예를 수정해보자!!\n",
    "# global을 사용하는 게 아니라 nonlocal로 사용해준다!!\n",
    "\n",
    "def test2_main():\n",
    "    x = 10\n",
    "    def test2_sub():\n",
    "        nonlocal x\n",
    "        x = 20\n",
    "    test2_sub()\n",
    "    print(x)"
   ]
  },
  {
   "cell_type": "code",
   "execution_count": 76,
   "metadata": {},
   "outputs": [
    {
     "name": "stdout",
     "output_type": "stream",
     "text": [
      "20\n"
     ]
    }
   ],
   "source": [
    "test2_main()"
   ]
  },
  {
   "cell_type": "code",
   "execution_count": 78,
   "metadata": {},
   "outputs": [],
   "source": [
    "# nonlocal은 가장 가까운 것을 사용한다-!!!!!!\n",
    "\n",
    "\n",
    "def a():\n",
    "    x=10\n",
    "    y=100\n",
    "    def b():\n",
    "        x=20\n",
    "        def c():\n",
    "            nonlocal x\n",
    "            nonlocal y\n",
    "            x +=30\n",
    "            y+=200\n",
    "            print(x)\n",
    "            print(y)\n",
    "        c()\n",
    "    b()"
   ]
  },
  {
   "cell_type": "code",
   "execution_count": 79,
   "metadata": {},
   "outputs": [
    {
     "name": "stdout",
     "output_type": "stream",
     "text": [
      "50\n",
      "300\n"
     ]
    }
   ],
   "source": [
    "a()"
   ]
  },
  {
   "cell_type": "markdown",
   "metadata": {},
   "source": [
    "## 진짜.. closure를 알아보쟈"
   ]
  },
  {
   "cell_type": "code",
   "execution_count": 97,
   "metadata": {},
   "outputs": [],
   "source": [
    "#예제 1\n",
    "\n",
    "def my_func():\n",
    "    name=\"lim\"\n",
    "    def hello():\n",
    "        print(\"hello\",name)\n",
    "    return hello"
   ]
  },
  {
   "cell_type": "code",
   "execution_count": 98,
   "metadata": {},
   "outputs": [
    {
     "name": "stdout",
     "output_type": "stream",
     "text": [
      "<function my_func.<locals>.hello at 0x00000238FCA8DF70>\n"
     ]
    }
   ],
   "source": [
    "print(my_func())"
   ]
  },
  {
   "cell_type": "code",
   "execution_count": 99,
   "metadata": {},
   "outputs": [
    {
     "name": "stdout",
     "output_type": "stream",
     "text": [
      "hello lim\n",
      "None\n"
     ]
    }
   ],
   "source": [
    "print(my_func()())"
   ]
  },
  {
   "cell_type": "code",
   "execution_count": 100,
   "metadata": {},
   "outputs": [],
   "source": [
    "#예제2\n",
    "\n",
    "def my_func(name):\n",
    "    \n",
    "    def hello():\n",
    "        print(\"hello\",name)\n",
    "    return hello"
   ]
  },
  {
   "cell_type": "code",
   "execution_count": 101,
   "metadata": {},
   "outputs": [],
   "source": [
    "f1 = my_func(\"kang\")\n",
    "f2 = my_func(\"kim\")\n",
    "f3 = my_func(\"hong\")"
   ]
  },
  {
   "cell_type": "code",
   "execution_count": 102,
   "metadata": {},
   "outputs": [
    {
     "name": "stdout",
     "output_type": "stream",
     "text": [
      "hello kang\n",
      "hello kim\n",
      "hello hong\n",
      "None None None\n"
     ]
    }
   ],
   "source": [
    "print(   f1(),f2(),f3()   )"
   ]
  },
  {
   "cell_type": "code",
   "execution_count": 103,
   "metadata": {},
   "outputs": [
    {
     "name": "stdout",
     "output_type": "stream",
     "text": [
      "<function my_func.<locals>.hello at 0x00000238FD1DA0D0> <function my_func.<locals>.hello at 0x00000238FCA8DD30> <function my_func.<locals>.hello at 0x00000238FCA8D9D0>\n"
     ]
    }
   ],
   "source": [
    "print( f1, f2, f3)"
   ]
  },
  {
   "cell_type": "code",
   "execution_count": 104,
   "metadata": {},
   "outputs": [],
   "source": [
    "del my_func  #my_func은 삭제 해봄"
   ]
  },
  {
   "cell_type": "code",
   "execution_count": 105,
   "metadata": {},
   "outputs": [
    {
     "name": "stdout",
     "output_type": "stream",
     "text": [
      "hello kang\n",
      "hello kim\n",
      "hello hong\n",
      "None None None\n"
     ]
    }
   ],
   "source": [
    "print(   f1(),f2(),f3()   )   # 삭제해도 정의해놓은 변수가 있기때문에 출력이 됨"
   ]
  },
  {
   "cell_type": "code",
   "execution_count": 106,
   "metadata": {},
   "outputs": [
    {
     "ename": "NameError",
     "evalue": "name 'my_func' is not defined",
     "output_type": "error",
     "traceback": [
      "\u001b[1;31m---------------------------------------------------------------------------\u001b[0m",
      "\u001b[1;31mNameError\u001b[0m                                 Traceback (most recent call last)",
      "\u001b[1;32m~\\AppData\\Local\\Temp/ipykernel_13448/1016012525.py\u001b[0m in \u001b[0;36m<module>\u001b[1;34m\u001b[0m\n\u001b[1;32m----> 1\u001b[1;33m \u001b[0mmy_func\u001b[0m\u001b[1;33m(\u001b[0m\u001b[1;34m\"lee\"\u001b[0m\u001b[1;33m)\u001b[0m   \u001b[1;31m#오류 발생되어서 나오지 않음\u001b[0m\u001b[1;33m\u001b[0m\u001b[1;33m\u001b[0m\u001b[0m\n\u001b[0m",
      "\u001b[1;31mNameError\u001b[0m: name 'my_func' is not defined"
     ]
    }
   ],
   "source": [
    "my_func(\"lee\")   #오류 발생되어서 나오지 않음"
   ]
  },
  {
   "cell_type": "markdown",
   "metadata": {},
   "source": [
    "# 마무리문제 \n",
    "\n",
    "호출횟수를 세는 함수 만들기.  c를 호출 할 때마다 호출 횟수가 출력되도록 작성 \n",
    "\n",
    "```\n",
    "def counter():\n",
    "    i = 0\n",
    "    def count():\n",
    "                       \n",
    "        ...\n",
    "                       \n",
    " \n",
    "c = counter()\n",
    "for i in range(10):\n",
    "    print(c(), end=' ')\n",
    "\n",
    "```\n"
   ]
  },
  {
   "cell_type": "code",
   "execution_count": null,
   "metadata": {},
   "outputs": [],
   "source": []
  },
  {
   "cell_type": "code",
   "execution_count": null,
   "metadata": {},
   "outputs": [],
   "source": []
  },
  {
   "cell_type": "code",
   "execution_count": null,
   "metadata": {},
   "outputs": [],
   "source": []
  }
 ],
 "metadata": {
  "kernelspec": {
   "display_name": "Python 3 (ipykernel)",
   "language": "python",
   "name": "python3"
  },
  "language_info": {
   "codemirror_mode": {
    "name": "ipython",
    "version": 3
   },
   "file_extension": ".py",
   "mimetype": "text/x-python",
   "name": "python",
   "nbconvert_exporter": "python",
   "pygments_lexer": "ipython3",
   "version": "3.9.7"
  },
  "toc": {
   "base_numbering": 1,
   "nav_menu": {},
   "number_sections": true,
   "sideBar": true,
   "skip_h1_title": false,
   "title_cell": "Table of Contents",
   "title_sidebar": "Contents",
   "toc_cell": false,
   "toc_position": {
    "height": "calc(100% - 180px)",
    "left": "10px",
    "top": "150px",
    "width": "247px"
   },
   "toc_section_display": true,
   "toc_window_display": true
  }
 },
 "nbformat": 4,
 "nbformat_minor": 1
}
