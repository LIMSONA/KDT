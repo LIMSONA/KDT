{
 "cells": [
  {
   "cell_type": "markdown",
   "id": "b028aa6c",
   "metadata": {},
   "source": [
    "# 1일차. 파이썬 들어가기 전에"
   ]
  },
  {
   "cell_type": "markdown",
   "id": "24cf5767",
   "metadata": {},
   "source": [
    "* 파이썬: 속도는 느린 단점은 있지만, 장점으로는  \n",
    "- 인터프리터(바로 번역해서 실행): 어느 운영체제를 쓰든 그 때 바로 사용하면 되니까 good"
   ]
  },
  {
   "cell_type": "markdown",
   "id": "7e187a70",
   "metadata": {},
   "source": [
    "* git,anaconda, git desktop 설치하기"
   ]
  }
 ],
 "metadata": {
  "kernelspec": {
   "display_name": "Python 3 (ipykernel)",
   "language": "python",
   "name": "python3"
  },
  "language_info": {
   "codemirror_mode": {
    "name": "ipython",
    "version": 3
   },
   "file_extension": ".py",
   "mimetype": "text/x-python",
   "name": "python",
   "nbconvert_exporter": "python",
   "pygments_lexer": "ipython3",
   "version": "3.9.7"
  },
  "toc": {
   "base_numbering": 1,
   "nav_menu": {},
   "number_sections": true,
   "sideBar": true,
   "skip_h1_title": false,
   "title_cell": "Table of Contents",
   "title_sidebar": "Contents",
   "toc_cell": false,
   "toc_position": {},
   "toc_section_display": true,
   "toc_window_display": false
  }
 },
 "nbformat": 4,
 "nbformat_minor": 5
}
